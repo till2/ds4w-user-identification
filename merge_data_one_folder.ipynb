{
 "cells": [
  {
   "cell_type": "code",
   "execution_count": 18,
   "metadata": {},
   "outputs": [],
   "source": [
    "import pandas as pd\n",
    "import os"
   ]
  },
  {
   "cell_type": "code",
   "execution_count": 19,
   "metadata": {},
   "outputs": [],
   "source": [
    "folder_path = 'till'\n",
    "\n",
    "csv_files = [file for file in os.listdir(folder_path) if file.endswith('.csv')]\n",
    "\n",
    "accelerometer = pd.read_csv(os.path.join(folder_path, 'Accelerometer.csv'))\n",
    "gyroscope = pd.read_csv(os.path.join(folder_path, 'Gyroscope.csv'))\n",
    "pedometer = pd.read_csv(os.path.join(folder_path, 'Pedometer.csv'))\n",
    "metadata = pd.read_csv(os.path.join(folder_path, 'Metadata.csv'))"
   ]
  },
  {
   "cell_type": "code",
   "execution_count": 20,
   "metadata": {},
   "outputs": [
    {
     "data": {
      "text/plain": [
       "Index(['version', 'device name', 'recording epoch time', 'recording time',\n",
       "       'recording timezone', 'platform', 'appVersion', 'device id', 'sensors',\n",
       "       'sampleRateMs', 'standardisation'],\n",
       "      dtype='object')"
      ]
     },
     "execution_count": 20,
     "metadata": {},
     "output_type": "execute_result"
    }
   ],
   "source": [
    "metadata.columns"
   ]
  },
  {
   "cell_type": "code",
   "execution_count": 21,
   "metadata": {},
   "outputs": [],
   "source": [
    "accelerometer.rename(columns={'x': 'accelerometer_x','y': 'accelerometer_y','z':'accelerometer_z'} , inplace=True)\n",
    "gyroscope.rename(columns={'x': 'gyroscope_x','y': 'gyroscope_y','z':'gyroscope_z'} , inplace=True)"
   ]
  },
  {
   "cell_type": "code",
   "execution_count": 22,
   "metadata": {},
   "outputs": [
    {
     "data": {
      "text/plain": [
       "(7792, 7773, 8, 1)"
      ]
     },
     "execution_count": 22,
     "metadata": {},
     "output_type": "execute_result"
    }
   ],
   "source": [
    "len(accelerometer), len(gyroscope), len(pedometer), len(metadata)"
   ]
  },
  {
   "cell_type": "code",
   "execution_count": 23,
   "metadata": {},
   "outputs": [],
   "source": [
    "merged = pd.merge_asof(accelerometer, gyroscope, on='time',direction='nearest')"
   ]
  },
  {
   "cell_type": "code",
   "execution_count": 24,
   "metadata": {},
   "outputs": [],
   "source": [
    "name = merged.time[0]"
   ]
  },
  {
   "cell_type": "code",
   "execution_count": 25,
   "metadata": {},
   "outputs": [],
   "source": [
    "merged['label'] = metadata['device id'][0]"
   ]
  },
  {
   "cell_type": "code",
   "execution_count": 26,
   "metadata": {},
   "outputs": [],
   "source": [
    "merged.to_csv(folder_path+'.csv', index=False)"
   ]
  },
  {
   "cell_type": "code",
   "execution_count": 27,
   "metadata": {},
   "outputs": [],
   "source": [
    "import seaborn as sns"
   ]
  },
  {
   "cell_type": "code",
   "execution_count": 30,
   "metadata": {},
   "outputs": [
    {
     "data": {
      "text/plain": [
       "<Axes: xlabel='time', ylabel='Count'>"
      ]
     },
     "execution_count": 30,
     "metadata": {},
     "output_type": "execute_result"
    },
    {
     "data": {
      "image/png": "[encoded data removed]",
      "text/plain": [
       "<Figure size 640x480 with 1 Axes>"
      ]
     },
     "metadata": {},
     "output_type": "display_data"
    }
   ],
   "source": [
    "sns.histplot(accelerometer, x= 'time', bins=100)"
   ]
  },
  {
   "cell_type": "code",
   "execution_count": 40,
   "metadata": {},
   "outputs": [],
   "source": [
    "accelerometer2 = pd.read_csv(os.path.join(folder_path, 'ACG.csv'),sep=';')\n",
    "gyroscope2 = pd.read_csv(os.path.join(folder_path, 'GYRO.csv'),sep=';')"
   ]
  },
  {
   "cell_type": "code",
   "execution_count": 42,
   "metadata": {},
   "outputs": [
    {
     "data": {
      "text/plain": [
       "(8153, 8151)"
      ]
     },
     "execution_count": 42,
     "metadata": {},
     "output_type": "execute_result"
    }
   ],
   "source": [
    "len(accelerometer2), len(gyroscope2)"
   ]
  },
  {
   "cell_type": "code",
   "execution_count": 43,
   "metadata": {},
   "outputs": [],
   "source": [
    "merged2 = pd.merge(accelerometer2, gyroscope2, on='t_Android',how='inner')"
   ]
  },
  {
   "cell_type": "code",
   "execution_count": 44,
   "metadata": {},
   "outputs": [
    {
     "data": {
      "text/html": [
       "<div>\n",
       "<style scoped>\n",
       "    .dataframe tbody tr th:only-of-type {\n",
       "        vertical-align: middle;\n",
       "    }\n",
       "\n",
       "    .dataframe tbody tr th {\n",
       "        vertical-align: top;\n",
       "    }\n",
       "\n",
       "    .dataframe thead th {\n",
       "        text-align: right;\n",
       "    }\n",
       "</style>\n",
       "<table border=\"1\" class=\"dataframe\">\n",
       "  <thead>\n",
       "    <tr style=\"text-align: right;\">\n",
       "      <th></th>\n",
       "      <th>t_Android</th>\n",
       "      <th>t_unix_x</th>\n",
       "      <th>x_x</th>\n",
       "      <th>y_x</th>\n",
       "      <th>z_x</th>\n",
       "      <th>a_x</th>\n",
       "      <th>t_unix_y</th>\n",
       "      <th>x_y</th>\n",
       "      <th>y_y</th>\n",
       "      <th>z_y</th>\n",
       "      <th>a_y</th>\n",
       "    </tr>\n",
       "  </thead>\n",
       "  <tbody>\n",
       "    <tr>\n",
       "      <th>0</th>\n",
       "      <td>1725331306517250</td>\n",
       "      <td>1714391220209</td>\n",
       "      <td>3.790829</td>\n",
       "      <td>-0.303290</td>\n",
       "      <td>8.617152</td>\n",
       "      <td>3</td>\n",
       "      <td>1714391220209</td>\n",
       "      <td>-0.815963</td>\n",
       "      <td>-0.791529</td>\n",
       "      <td>-0.001069</td>\n",
       "      <td>3</td>\n",
       "    </tr>\n",
       "    <tr>\n",
       "      <th>1</th>\n",
       "      <td>1725331308732134</td>\n",
       "      <td>1714391220209</td>\n",
       "      <td>3.790829</td>\n",
       "      <td>-0.303290</td>\n",
       "      <td>8.617152</td>\n",
       "      <td>3</td>\n",
       "      <td>1714391220209</td>\n",
       "      <td>-0.815963</td>\n",
       "      <td>-0.791529</td>\n",
       "      <td>-0.001069</td>\n",
       "      <td>3</td>\n",
       "    </tr>\n",
       "    <tr>\n",
       "      <th>2</th>\n",
       "      <td>1725331310948525</td>\n",
       "      <td>1714391220209</td>\n",
       "      <td>3.790829</td>\n",
       "      <td>-0.303290</td>\n",
       "      <td>8.617152</td>\n",
       "      <td>3</td>\n",
       "      <td>1714391220209</td>\n",
       "      <td>-0.815963</td>\n",
       "      <td>-0.791529</td>\n",
       "      <td>-0.001069</td>\n",
       "      <td>3</td>\n",
       "    </tr>\n",
       "    <tr>\n",
       "      <th>3</th>\n",
       "      <td>1725331313164894</td>\n",
       "      <td>1714391220209</td>\n",
       "      <td>3.790829</td>\n",
       "      <td>-0.303290</td>\n",
       "      <td>8.617152</td>\n",
       "      <td>3</td>\n",
       "      <td>1714391220209</td>\n",
       "      <td>-0.815963</td>\n",
       "      <td>-0.791529</td>\n",
       "      <td>-0.001069</td>\n",
       "      <td>3</td>\n",
       "    </tr>\n",
       "    <tr>\n",
       "      <th>4</th>\n",
       "      <td>1725331315380226</td>\n",
       "      <td>1714391220209</td>\n",
       "      <td>3.790829</td>\n",
       "      <td>-0.303290</td>\n",
       "      <td>8.617152</td>\n",
       "      <td>3</td>\n",
       "      <td>1714391220209</td>\n",
       "      <td>-0.815963</td>\n",
       "      <td>-0.791529</td>\n",
       "      <td>-0.001069</td>\n",
       "      <td>3</td>\n",
       "    </tr>\n",
       "    <tr>\n",
       "      <th>...</th>\n",
       "      <td>...</td>\n",
       "      <td>...</td>\n",
       "      <td>...</td>\n",
       "      <td>...</td>\n",
       "      <td>...</td>\n",
       "      <td>...</td>\n",
       "      <td>...</td>\n",
       "      <td>...</td>\n",
       "      <td>...</td>\n",
       "      <td>...</td>\n",
       "      <td>...</td>\n",
       "    </tr>\n",
       "    <tr>\n",
       "      <th>8146</th>\n",
       "      <td>1725349356042030</td>\n",
       "      <td>1714391238216</td>\n",
       "      <td>1.144966</td>\n",
       "      <td>7.151549</td>\n",
       "      <td>7.030711</td>\n",
       "      <td>3</td>\n",
       "      <td>1714391238216</td>\n",
       "      <td>-0.441350</td>\n",
       "      <td>0.079718</td>\n",
       "      <td>0.058643</td>\n",
       "      <td>3</td>\n",
       "    </tr>\n",
       "    <tr>\n",
       "      <th>8147</th>\n",
       "      <td>1725349358258034</td>\n",
       "      <td>1714391238216</td>\n",
       "      <td>1.144966</td>\n",
       "      <td>7.151549</td>\n",
       "      <td>7.030711</td>\n",
       "      <td>3</td>\n",
       "      <td>1714391238216</td>\n",
       "      <td>-0.441350</td>\n",
       "      <td>0.079718</td>\n",
       "      <td>0.058643</td>\n",
       "      <td>3</td>\n",
       "    </tr>\n",
       "    <tr>\n",
       "      <th>8148</th>\n",
       "      <td>1725349360476601</td>\n",
       "      <td>1714391238216</td>\n",
       "      <td>1.144966</td>\n",
       "      <td>7.151549</td>\n",
       "      <td>7.030711</td>\n",
       "      <td>3</td>\n",
       "      <td>1714391238216</td>\n",
       "      <td>-0.441350</td>\n",
       "      <td>0.079718</td>\n",
       "      <td>0.058643</td>\n",
       "      <td>3</td>\n",
       "    </tr>\n",
       "    <tr>\n",
       "      <th>8149</th>\n",
       "      <td>1725349362686805</td>\n",
       "      <td>1714391238216</td>\n",
       "      <td>1.144966</td>\n",
       "      <td>7.151549</td>\n",
       "      <td>7.030711</td>\n",
       "      <td>3</td>\n",
       "      <td>1714391238216</td>\n",
       "      <td>-0.441350</td>\n",
       "      <td>0.079718</td>\n",
       "      <td>0.058643</td>\n",
       "      <td>3</td>\n",
       "    </tr>\n",
       "    <tr>\n",
       "      <th>8150</th>\n",
       "      <td>1725349364894996</td>\n",
       "      <td>1714391238216</td>\n",
       "      <td>1.144966</td>\n",
       "      <td>7.151549</td>\n",
       "      <td>7.030711</td>\n",
       "      <td>3</td>\n",
       "      <td>1714391238216</td>\n",
       "      <td>-0.441350</td>\n",
       "      <td>0.079718</td>\n",
       "      <td>0.058643</td>\n",
       "      <td>3</td>\n",
       "    </tr>\n",
       "  </tbody>\n",
       "</table>\n",
       "<p>8151 rows × 11 columns</p>\n",
       "</div>"
      ],
      "text/plain": [
       "             t_Android       t_unix_x       x_x       y_x       z_x  a_x  \\\n",
       "0     1725331306517250  1714391220209  3.790829 -0.303290  8.617152    3   \n",
       "1     1725331308732134  1714391220209  3.790829 -0.303290  8.617152    3   \n",
       "2     1725331310948525  1714391220209  3.790829 -0.303290  8.617152    3   \n",
       "3     1725331313164894  1714391220209  3.790829 -0.303290  8.617152    3   \n",
       "4     1725331315380226  1714391220209  3.790829 -0.303290  8.617152    3   \n",
       "...                ...            ...       ...       ...       ...  ...   \n",
       "8146  1725349356042030  1714391238216  1.144966  7.151549  7.030711    3   \n",
       "8147  1725349358258034  1714391238216  1.144966  7.151549  7.030711    3   \n",
       "8148  1725349360476601  1714391238216  1.144966  7.151549  7.030711    3   \n",
       "8149  1725349362686805  1714391238216  1.144966  7.151549  7.030711    3   \n",
       "8150  1725349364894996  1714391238216  1.144966  7.151549  7.030711    3   \n",
       "\n",
       "           t_unix_y       x_y       y_y       z_y  a_y  \n",
       "0     1714391220209 -0.815963 -0.791529 -0.001069    3  \n",
       "1     1714391220209 -0.815963 -0.791529 -0.001069    3  \n",
       "2     1714391220209 -0.815963 -0.791529 -0.001069    3  \n",
       "3     1714391220209 -0.815963 -0.791529 -0.001069    3  \n",
       "4     1714391220209 -0.815963 -0.791529 -0.001069    3  \n",
       "...             ...       ...       ...       ...  ...  \n",
       "8146  1714391238216 -0.441350  0.079718  0.058643    3  \n",
       "8147  1714391238216 -0.441350  0.079718  0.058643    3  \n",
       "8148  1714391238216 -0.441350  0.079718  0.058643    3  \n",
       "8149  1714391238216 -0.441350  0.079718  0.058643    3  \n",
       "8150  1714391238216 -0.441350  0.079718  0.058643    3  \n",
       "\n",
       "[8151 rows x 11 columns]"
      ]
     },
     "execution_count": 44,
     "metadata": {},
     "output_type": "execute_result"
    }
   ],
   "source": [
    "merged2"
   ]
  },
  {
   "cell_type": "code",
   "execution_count": 65,
   "metadata": {},
   "outputs": [
    {
     "data": {
      "text/plain": [
       "<Axes: xlabel='t_Android', ylabel='Count'>"
      ]
     },
     "execution_count": 65,
     "metadata": {},
     "output_type": "execute_result"
    },
    {
     "data": {
      "image/png": "[encoded data removed]",
      "text/plain": [
       "<Figure size 640x480 with 1 Axes>"
      ]
     },
     "metadata": {},
     "output_type": "display_data"
    }
   ],
   "source": [
    "sns.histplot(merged2, x= 't_Android', bins=1009)"
   ]
  },
  {
   "cell_type": "code",
   "execution_count": 53,
   "metadata": {},
   "outputs": [
    {
     "data": {
      "text/plain": [
       "2215480.0326340324"
      ]
     },
     "execution_count": 53,
     "metadata": {},
     "output_type": "execute_result"
    }
   ],
   "source": [
    "(merged2.t_Android.max() - merged2.t_Android.min())/ len(merged2)"
   ]
  },
  {
   "cell_type": "code",
   "execution_count": 62,
   "metadata": {},
   "outputs": [
    {
     "data": {
      "text/plain": [
       "(1714391238216, 1714391220209, 1714391238216, 1714391220209)"
      ]
     },
     "execution_count": 62,
     "metadata": {},
     "output_type": "execute_result"
    }
   ],
   "source": [
    "(merged2.t_unix_x.max(), merged2.t_unix_x.min(), merged2.t_unix_y.max(), merged2.t_unix_y.min())"
   ]
  },
  {
   "cell_type": "code",
   "execution_count": 63,
   "metadata": {},
   "outputs": [
    {
     "data": {
      "text/plain": [
       "452.8333333333333"
      ]
     },
     "execution_count": 63,
     "metadata": {},
     "output_type": "execute_result"
    }
   ],
   "source": [
    "len(merged2)/18"
   ]
  }
 ],
 "metadata": {
  "kernelspec": {
   "display_name": "wearables",
   "language": "python",
   "name": "python3"
  },
  "language_info": {
   "codemirror_mode": {
    "name": "ipython",
    "version": 3
   },
   "file_extension": ".py",
   "mimetype": "text/x-python",
   "name": "python",
   "nbconvert_exporter": "python",
   "pygments_lexer": "ipython3",
   "version": "3.12.3"
  }
 },
 "nbformat": 4,
 "nbformat_minor": 2
}
