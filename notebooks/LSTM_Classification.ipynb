{
 "cells": [
  {
   "cell_type": "code",
   "execution_count": 9,
   "metadata": {},
   "outputs": [],
   "source": [
    "import seaborn as sns\n",
    "from pylab import rcParams\n",
    "import matplotlib.pyplot as plt\n",
    "from matplotlib import rc\n",
    "from matplotlib.ticker import MaxNLocator\n",
    "\n",
    "import torchmetrics\n",
    "import pandas as pd\n",
    "import numpy as np\n",
    "from tqdm.notebook import tqdm\n",
    "\n",
    "import torch\n",
    "import torch.autograd as autograd\n",
    "import torch.nn as nn\n",
    "import torch.nn.functional as F\n",
    "import torch.optim as optim\n",
    "from torch.utils.data import Dataset, DataLoader\n",
    "\n",
    "import pytorch_lightning as pl\n",
    "from pytorch_lightning.callbacks import ModelCheckpoint, EarlyStopping\n",
    "from pytorch_lightning.loggers import TensorBoardLogger\n",
    "\n",
    "from sklearn.model_selection import train_test_split\n",
    "from sklearn.preprocessing import LabelEncoder\n",
    "from sklearn.metrics import classification_report, confusion_matrix\n",
    "\n",
    "from multiprocessing import cpu_count"
   ]
  },
  {
   "cell_type": "code",
   "execution_count": 48,
   "metadata": {},
   "outputs": [],
   "source": [
    "device = torch.device('cuda' if torch.cuda.is_available() else 'cpu')"
   ]
  },
  {
   "cell_type": "code",
   "execution_count": 10,
   "metadata": {},
   "outputs": [],
   "source": [
    "%matplotlib inline\n",
    "%config InlineBackend.figure_format='retina'\n",
    "\n",
    "sns.set(style='whitegrid', palette='muted', font_scale=1.2)\n",
    "\n",
    "HAPPY_COLORS_PALETTE = [\"#01BEFE\", \"#FFDD00\", \"#FF7D00\", \"#FF006D\", \"#ADFF02\", \"#8F00FF\"]\n",
    "\n",
    "sns.set_palette(sns.color_palette(HAPPY_COLORS_PALETTE))\n",
    "\n",
    "rcParams['figure.figsize'] = 16, 10\n",
    "\n",
    "tqdm.pandas()"
   ]
  },
  {
   "cell_type": "code",
   "execution_count": 11,
   "metadata": {},
   "outputs": [
    {
     "name": "stderr",
     "output_type": "stream",
     "text": [
      "Seed set to 42\n"
     ]
    },
    {
     "data": {
      "text/plain": [
       "42"
      ]
     },
     "execution_count": 11,
     "metadata": {},
     "output_type": "execute_result"
    }
   ],
   "source": [
    "pl.seed_everything(42)"
   ]
  },
  {
   "cell_type": "code",
   "execution_count": 12,
   "metadata": {},
   "outputs": [],
   "source": [
    "X_train = pd.read_csv('./career-con-2019/X_train.csv')\n",
    "y_train = pd.read_csv('./career-con-2019/y_train.csv')"
   ]
  },
  {
   "cell_type": "code",
   "execution_count": 13,
   "metadata": {},
   "outputs": [
    {
     "data": {
      "text/html": [
       "<div>\n",
       "<style scoped>\n",
       "    .dataframe tbody tr th:only-of-type {\n",
       "        vertical-align: middle;\n",
       "    }\n",
       "\n",
       "    .dataframe tbody tr th {\n",
       "        vertical-align: top;\n",
       "    }\n",
       "\n",
       "    .dataframe thead th {\n",
       "        text-align: right;\n",
       "    }\n",
       "</style>\n",
       "<table border=\"1\" class=\"dataframe\">\n",
       "  <thead>\n",
       "    <tr style=\"text-align: right;\">\n",
       "      <th></th>\n",
       "      <th>series_id</th>\n",
       "      <th>group_id</th>\n",
       "      <th>surface</th>\n",
       "    </tr>\n",
       "  </thead>\n",
       "  <tbody>\n",
       "    <tr>\n",
       "      <th>0</th>\n",
       "      <td>0</td>\n",
       "      <td>13</td>\n",
       "      <td>fine_concrete</td>\n",
       "    </tr>\n",
       "    <tr>\n",
       "      <th>1</th>\n",
       "      <td>1</td>\n",
       "      <td>31</td>\n",
       "      <td>concrete</td>\n",
       "    </tr>\n",
       "    <tr>\n",
       "      <th>2</th>\n",
       "      <td>2</td>\n",
       "      <td>20</td>\n",
       "      <td>concrete</td>\n",
       "    </tr>\n",
       "    <tr>\n",
       "      <th>3</th>\n",
       "      <td>3</td>\n",
       "      <td>31</td>\n",
       "      <td>concrete</td>\n",
       "    </tr>\n",
       "    <tr>\n",
       "      <th>4</th>\n",
       "      <td>4</td>\n",
       "      <td>22</td>\n",
       "      <td>soft_tiles</td>\n",
       "    </tr>\n",
       "  </tbody>\n",
       "</table>\n",
       "</div>"
      ],
      "text/plain": [
       "   series_id  group_id        surface\n",
       "0          0        13  fine_concrete\n",
       "1          1        31       concrete\n",
       "2          2        20       concrete\n",
       "3          3        31       concrete\n",
       "4          4        22     soft_tiles"
      ]
     },
     "execution_count": 13,
     "metadata": {},
     "output_type": "execute_result"
    }
   ],
   "source": [
    "y_train.head()"
   ]
  },
  {
   "cell_type": "code",
   "execution_count": 14,
   "metadata": {},
   "outputs": [
    {
     "data": {
      "text/plain": [
       "array([2, 1, 1, 1, 6])"
      ]
     },
     "execution_count": 14,
     "metadata": {},
     "output_type": "execute_result"
    }
   ],
   "source": [
    "label_encoder = LabelEncoder()\n",
    "encoded_labels = label_encoder.fit_transform(y_train.surface)\n",
    "encoded_labels[:5]"
   ]
  },
  {
   "cell_type": "code",
   "execution_count": 15,
   "metadata": {},
   "outputs": [
    {
     "data": {
      "text/plain": [
       "array(['carpet', 'concrete', 'fine_concrete', 'hard_tiles',\n",
       "       'hard_tiles_large_space', 'soft_pvc', 'soft_tiles', 'tiled',\n",
       "       'wood'], dtype=object)"
      ]
     },
     "execution_count": 15,
     "metadata": {},
     "output_type": "execute_result"
    }
   ],
   "source": [
    "label_encoder.classes_"
   ]
  },
  {
   "cell_type": "code",
   "execution_count": 16,
   "metadata": {},
   "outputs": [
    {
     "data": {
      "text/html": [
       "<div>\n",
       "<style scoped>\n",
       "    .dataframe tbody tr th:only-of-type {\n",
       "        vertical-align: middle;\n",
       "    }\n",
       "\n",
       "    .dataframe tbody tr th {\n",
       "        vertical-align: top;\n",
       "    }\n",
       "\n",
       "    .dataframe thead th {\n",
       "        text-align: right;\n",
       "    }\n",
       "</style>\n",
       "<table border=\"1\" class=\"dataframe\">\n",
       "  <thead>\n",
       "    <tr style=\"text-align: right;\">\n",
       "      <th></th>\n",
       "      <th>series_id</th>\n",
       "      <th>group_id</th>\n",
       "      <th>surface</th>\n",
       "      <th>label</th>\n",
       "    </tr>\n",
       "  </thead>\n",
       "  <tbody>\n",
       "    <tr>\n",
       "      <th>0</th>\n",
       "      <td>0</td>\n",
       "      <td>13</td>\n",
       "      <td>fine_concrete</td>\n",
       "      <td>2</td>\n",
       "    </tr>\n",
       "    <tr>\n",
       "      <th>1</th>\n",
       "      <td>1</td>\n",
       "      <td>31</td>\n",
       "      <td>concrete</td>\n",
       "      <td>1</td>\n",
       "    </tr>\n",
       "    <tr>\n",
       "      <th>2</th>\n",
       "      <td>2</td>\n",
       "      <td>20</td>\n",
       "      <td>concrete</td>\n",
       "      <td>1</td>\n",
       "    </tr>\n",
       "    <tr>\n",
       "      <th>3</th>\n",
       "      <td>3</td>\n",
       "      <td>31</td>\n",
       "      <td>concrete</td>\n",
       "      <td>1</td>\n",
       "    </tr>\n",
       "    <tr>\n",
       "      <th>4</th>\n",
       "      <td>4</td>\n",
       "      <td>22</td>\n",
       "      <td>soft_tiles</td>\n",
       "      <td>6</td>\n",
       "    </tr>\n",
       "  </tbody>\n",
       "</table>\n",
       "</div>"
      ],
      "text/plain": [
       "   series_id  group_id        surface  label\n",
       "0          0        13  fine_concrete      2\n",
       "1          1        31       concrete      1\n",
       "2          2        20       concrete      1\n",
       "3          3        31       concrete      1\n",
       "4          4        22     soft_tiles      6"
      ]
     },
     "execution_count": 16,
     "metadata": {},
     "output_type": "execute_result"
    }
   ],
   "source": [
    "y_train['label'] = encoded_labels\n",
    "y_train.head()"
   ]
  },
  {
   "cell_type": "code",
   "execution_count": 17,
   "metadata": {},
   "outputs": [
    {
     "data": {
      "text/plain": [
       "['orientation_X',\n",
       " 'orientation_Y',\n",
       " 'orientation_Z',\n",
       " 'orientation_W',\n",
       " 'angular_velocity_X',\n",
       " 'angular_velocity_Y',\n",
       " 'angular_velocity_Z',\n",
       " 'linear_acceleration_X',\n",
       " 'linear_acceleration_Y',\n",
       " 'linear_acceleration_Z']"
      ]
     },
     "execution_count": 17,
     "metadata": {},
     "output_type": "execute_result"
    }
   ],
   "source": [
    "FEATURE_COLUMNS = X_train.columns.tolist()[3:]\n",
    "FEATURE_COLUMNS"
   ]
  },
  {
   "cell_type": "code",
   "execution_count": 18,
   "metadata": {},
   "outputs": [],
   "source": [
    "LABEL_COLUMNS = y_train.columns.tolist()"
   ]
  },
  {
   "cell_type": "code",
   "execution_count": 19,
   "metadata": {},
   "outputs": [
    {
     "data": {
      "text/plain": [
       "True"
      ]
     },
     "execution_count": 19,
     "metadata": {},
     "output_type": "execute_result"
    }
   ],
   "source": [
    "# checking to see if each of the examples has a label in the y_train\n",
    "\n",
    "(X_train.series_id.value_counts() == 128).sum() == len(y_train)"
   ]
  },
  {
   "cell_type": "code",
   "execution_count": 20,
   "metadata": {},
   "outputs": [],
   "source": [
    "sequences = []\n",
    "\n",
    "for series_id, group in X_train.groupby('series_id'):\n",
    "  sequence_features = group[FEATURE_COLUMNS]\n",
    "\n",
    "  label = y_train[y_train.series_id == series_id].iloc[0].label\n",
    "\n",
    "  sequences.append((sequence_features, label))"
   ]
  },
  {
   "cell_type": "code",
   "execution_count": 21,
   "metadata": {},
   "outputs": [],
   "source": [
    "train_sequences, test_sequences = train_test_split(sequences,test_size=0.2)"
   ]
  },
  {
   "cell_type": "code",
   "execution_count": 22,
   "metadata": {},
   "outputs": [
    {
     "data": {
      "text/plain": [
       "(3048, 762)"
      ]
     },
     "execution_count": 22,
     "metadata": {},
     "output_type": "execute_result"
    }
   ],
   "source": [
    "len(train_sequences), len(test_sequences)"
   ]
  },
  {
   "cell_type": "code",
   "execution_count": 247,
   "metadata": {},
   "outputs": [],
   "source": [
    "class SurfaceDataset(Dataset):\n",
    "\n",
    "  def __init__(self,sequences):\n",
    "    self.sequences = sequences\n",
    "\n",
    "  def __len__(self):\n",
    "    return len(self.sequences)\n",
    "\n",
    "  def __getitem__(self,idx):\n",
    "    sequence, label = self.sequences[idx]\n",
    "    sequence_tensor = torch.Tensor(sequence.to_numpy())\n",
    "    # Ensure label is a tensor with the same dimensions as sequence\n",
    "    label_tensor = torch.Tensor([label]).long()\n",
    "    return dict(\n",
    "        sequence = sequence_tensor,\n",
    "        labels = label_tensor\n",
    "    )"
   ]
  },
  {
   "cell_type": "code",
   "execution_count": 248,
   "metadata": {},
   "outputs": [],
   "source": [
    "class SurfaceDataModule(pl.LightningDataModule):\n",
    "\n",
    "    def __init__(self, train_sequences, test_sequences, batch_size=8):\n",
    "        super().__init__()\n",
    "        self.batch_size = batch_size\n",
    "        self.train_sequences = train_sequences\n",
    "        self.test_sequences = test_sequences\n",
    "\n",
    "    def setup(self, stage=None):\n",
    "        self.train_dataset = SurfaceDataset(self.train_sequences)\n",
    "        self.test_dataset = SurfaceDataset(self.test_sequences)\n",
    "\n",
    "    def train_dataloader(self):\n",
    "        return DataLoader(\n",
    "          self.train_dataset,\n",
    "          batch_size=self.batch_size,\n",
    "          shuffle=True,\n",
    "          num_workers=cpu_count()\n",
    "        )\n",
    "\n",
    "    def val_dataloader(self):\n",
    "        return DataLoader(\n",
    "          self.test_dataset,\n",
    "          batch_size=self.batch_size,\n",
    "          shuffle=False,\n",
    "          num_workers=cpu_count()\n",
    "        )\n",
    "\n",
    "    def test_dataloader(self):\n",
    "        return DataLoader(\n",
    "          self.test_dataset,\n",
    "          batch_size=self.batch_size,\n",
    "          shuffle=False,\n",
    "          num_workers=cpu_count()\n",
    "        )"
   ]
  },
  {
   "cell_type": "code",
   "execution_count": 258,
   "metadata": {},
   "outputs": [],
   "source": [
    "N_EPOCHS = 300\n",
    "BATCH_SIZE = 64\n",
    "\n",
    "data_module = SurfaceDataModule(\n",
    "  train_sequences,\n",
    "  test_sequences,\n",
    "  batch_size=BATCH_SIZE\n",
    ")"
   ]
  },
  {
   "cell_type": "code",
   "execution_count": 266,
   "metadata": {},
   "outputs": [],
   "source": [
    "class SequenceModel(nn.Module):\n",
    "  def __init__(self,n_features, n_classes, n_hidden=512, n_layers=3):\n",
    "    super().__init__()\n",
    "    \n",
    "    self.lstm = nn.LSTM(\n",
    "        input_size=n_features,\n",
    "        hidden_size=n_hidden,\n",
    "        num_layers=n_layers,\n",
    "        batch_first=True,\n",
    "        dropout=0.9\n",
    "    )\n",
    "\n",
    "    self.classifier = nn.Linear(n_hidden,n_classes)\n",
    "\n",
    "  def forward(self,x):\n",
    "    self.lstm.flatten_parameters()\n",
    "    _,(hidden,_) = self.lstm(x)\n",
    "\n",
    "    out = hidden[-1]\n",
    "    return self.classifier(out)"
   ]
  },
  {
   "cell_type": "code",
   "execution_count": 267,
   "metadata": {},
   "outputs": [],
   "source": [
    "class SurfacePredictor(pl.LightningModule):\n",
    "\n",
    "  def __init__(self,n_features:int, n_classes: int):\n",
    "    super().__init__()\n",
    "    self.model = SequenceModel(n_features, n_classes)\n",
    "    self.criterion = nn.CrossEntropyLoss()\n",
    "    self.n_classes = n_classes\n",
    "\n",
    "  def forward(self, x, labels=None):\n",
    "    output = self.model(x)\n",
    "    loss = 0\n",
    "    if labels is not None:\n",
    "        loss = self.criterion(output, labels)\n",
    "    return loss, output\n",
    "\n",
    "  def training_step(self, batch, batch_idx):\n",
    "    sequences = batch[\"sequence\"]\n",
    "    labels = batch[\"labels\"].squeeze()\n",
    "    loss, outputs = self(sequences, labels)\n",
    "    predictions = torch.argmax(outputs,dim=1)\n",
    "    step_accuracy = torchmetrics.functional.accuracy(predictions, labels, task=\"multiclass\", num_classes=self.n_classes)\n",
    "\n",
    "    self.log(\"train_loss\", loss, prog_bar=True, logger=True)\n",
    "    self.log(\"train_accuracy\", step_accuracy, prog_bar=True, logger=True)\n",
    "    return {\"loss\": loss, \"accuracy\": step_accuracy}\n",
    "\n",
    "  def validation_step(self, batch, batch_idx):\n",
    "    sequences = batch[\"sequence\"]\n",
    "    labels = batch[\"labels\"].squeeze()\n",
    "    loss, outputs = self(sequences, labels)\n",
    "    predictions = torch.argmax(outputs,dim=1)\n",
    "    step_accuracy = torchmetrics.functional.accuracy(predictions, labels, task=\"multiclass\", num_classes=self.n_classes)\n",
    "\n",
    "    self.log(\"val_loss\", loss, prog_bar=True, logger=True)\n",
    "    self.log(\"val_accuracy\", step_accuracy, prog_bar=True, logger=True)\n",
    "    return {\"loss\": loss, \"accuracy\": step_accuracy}\n",
    "\n",
    "  def test_step(self, batch, batch_idx):\n",
    "    \n",
    "    sequences = batch[\"sequence\"]\n",
    "    labels = batch[\"labels\"].squeeze()\n",
    "    loss, outputs = self(sequences, labels)\n",
    "    predictions = torch.argmax(outputs,dim=1)\n",
    "    step_accuracy = torchmetrics.functional.accuracy(predictions, labels, task=\"multiclass\", num_classes=self.n_classes)\n",
    "\n",
    "    self.log(\"test_loss\", loss, prog_bar=True, logger=True)\n",
    "    self.log(\"test_accuracy\", step_accuracy, prog_bar=True, logger=True)\n",
    "    return {\"loss\": loss, \"accuracy\": step_accuracy}\n",
    "\n",
    "  \n",
    "  def configure_optimizers(self):\n",
    "    return optim.Adam(self.parameters(), lr=0.0001)"
   ]
  },
  {
   "cell_type": "code",
   "execution_count": 268,
   "metadata": {},
   "outputs": [],
   "source": [
    "model = SurfacePredictor(n_features=len(FEATURE_COLUMNS),n_classes=len(label_encoder.classes_))"
   ]
  },
  {
   "cell_type": "code",
   "execution_count": 269,
   "metadata": {},
   "outputs": [
    {
     "name": "stdout",
     "output_type": "stream",
     "text": [
      "The tensorboard extension is already loaded. To reload it, use:\n",
      "  %reload_ext tensorboard\n"
     ]
    },
    {
     "data": {
      "text/html": [
       "\n",
       "      <iframe id=\"tensorboard-frame-c37459eef50bea63\" width=\"100%\" height=\"800\" frameborder=\"0\">\n",
       "      </iframe>\n",
       "      <script>\n",
       "        (function() {\n",
       "          const frame = document.getElementById(\"tensorboard-frame-c37459eef50bea63\");\n",
       "          const url = new URL(\"/\", window.location);\n",
       "          const port = 6006;\n",
       "          if (port) {\n",
       "            url.port = port;\n",
       "          }\n",
       "          frame.src = url;\n",
       "        })();\n",
       "      </script>\n",
       "    "
      ],
      "text/plain": [
       "<IPython.core.display.HTML object>"
      ]
     },
     "metadata": {},
     "output_type": "display_data"
    }
   ],
   "source": [
    "%load_ext tensorboard\n",
    "%tensorboard --logdir ./lightning_logs"
   ]
  },
  {
   "cell_type": "code",
   "execution_count": 270,
   "metadata": {},
   "outputs": [
    {
     "name": "stdout",
     "output_type": "stream",
     "text": [
      "True\n"
     ]
    }
   ],
   "source": [
    "import torch\n",
    "print(torch.cuda.is_available())\n"
   ]
  },
  {
   "cell_type": "code",
   "execution_count": 271,
   "metadata": {},
   "outputs": [
    {
     "name": "stderr",
     "output_type": "stream",
     "text": [
      "GPU available: True (cuda), used: True\n",
      "TPU available: False, using: 0 TPU cores\n",
      "IPU available: False, using: 0 IPUs\n",
      "HPU available: False, using: 0 HPUs\n"
     ]
    }
   ],
   "source": [
    "checkpoint_callback = ModelCheckpoint(\n",
    "    dirpath=\"checkpoints\",\n",
    "    filename=\"best-checkpoint\",\n",
    "    save_top_k=1,\n",
    "    verbose=True,\n",
    "    monitor=\"val_loss\",\n",
    "    mode=\"min\"\n",
    ")\n",
    "\n",
    "#early_stopping_callback = EarlyStopping(monitor='val_loss', patience=30)\n",
    "\n",
    "trainer = pl.Trainer(\n",
    "    callbacks=[checkpoint_callback], # [early_stopping_callback, checkpoint_callback]\n",
    "    max_epochs=N_EPOCHS,\n",
    ")"
   ]
  },
  {
   "cell_type": "code",
   "execution_count": 272,
   "metadata": {
    "scrolled": true
   },
   "outputs": [
    {
     "name": "stderr",
     "output_type": "stream",
     "text": [
      "/home/till/anaconda3/envs/advml/lib/python3.9/site-packages/pytorch_lightning/callbacks/model_checkpoint.py:653: Checkpoint directory /home/till/Desktop/ds4w-user-identification/checkpoints exists and is not empty.\n",
      "LOCAL_RANK: 0 - CUDA_VISIBLE_DEVICES: [0]\n",
      "\n",
      "  | Name      | Type             | Params\n",
      "-----------------------------------------------\n",
      "0 | model     | SequenceModel    | 5.3 M \n",
      "1 | criterion | CrossEntropyLoss | 0     \n",
      "-----------------------------------------------\n",
      "5.3 M     Trainable params\n",
      "0         Non-trainable params\n",
      "5.3 M     Total params\n",
      "21.121    Total estimated model params size (MB)\n"
     ]
    },
    {
     "name": "stdout",
     "output_type": "stream",
     "text": [
      "                                                                                                                                \r"
     ]
    },
    {
     "name": "stderr",
     "output_type": "stream",
     "text": [
      "/home/till/anaconda3/envs/advml/lib/python3.9/site-packages/pytorch_lightning/loops/fit_loop.py:298: The number of training batches (48) is smaller than the logging interval Trainer(log_every_n_steps=50). Set a lower value for log_every_n_steps if you want to see logs for the training epoch.\n"
     ]
    },
    {
     "name": "stdout",
     "output_type": "stream",
     "text": [
      "Epoch 0: 100%|████████████████████████████████| 48/48 [00:00<00:00, 52.44it/s, v_num=25, train_loss=2.130, train_accuracy=0.175]\n",
      "Validation: |                                                                                             | 0/? [00:00<?, ?it/s]\u001b[A\n",
      "Validation:   0%|                                                                                        | 0/12 [00:00<?, ?it/s]\u001b[A\n",
      "Validation DataLoader 0:   0%|                                                                           | 0/12 [00:00<?, ?it/s]\u001b[A\n",
      "Validation DataLoader 0:   8%|█████▌                                                            | 1/12 [00:00<00:00, 119.22it/s]\u001b[A\n",
      "Validation DataLoader 0:  17%|███████████                                                       | 2/12 [00:00<00:00, 130.39it/s]\u001b[A\n",
      "Validation DataLoader 0:  25%|████████████████▌                                                 | 3/12 [00:00<00:00, 140.95it/s]\u001b[A\n",
      "Validation DataLoader 0:  33%|██████████████████████                                            | 4/12 [00:00<00:00, 141.19it/s]\u001b[A\n",
      "Validation DataLoader 0:  42%|███████████████████████████▌                                      | 5/12 [00:00<00:00, 145.28it/s]\u001b[A\n",
      "Validation DataLoader 0:  50%|█████████████████████████████████                                 | 6/12 [00:00<00:00, 141.26it/s]\u001b[A\n",
      "Validation DataLoader 0:  58%|██████████████████████████████████████▌                           | 7/12 [00:00<00:00, 140.77it/s]\u001b[A\n",
      "Validation DataLoader 0:  67%|████████████████████████████████████████████                      | 8/12 [00:00<00:00, 142.09it/s]\u001b[A\n",
      "Validation DataLoader 0:  75%|█████████████████████████████████████████████████▌                | 9/12 [00:00<00:00, 142.10it/s]\u001b[A\n",
      "Validation DataLoader 0:  83%|██████████████████████████████████████████████████████▏          | 10/12 [00:00<00:00, 143.69it/s]\u001b[A\n",
      "Validation DataLoader 0:  92%|███████████████████████████████████████████████████████████▌     | 11/12 [00:00<00:00, 144.76it/s]\u001b[A\n",
      "Validation DataLoader 0: 100%|█████████████████████████████████████████████████████████████████| 12/12 [00:00<00:00, 146.51it/s]\u001b[A\n",
      "Epoch 0: 100%|█| 48/48 [00:01<00:00, 30.47it/s, v_num=25, train_loss=2.130, train_accuracy=0.175, val_loss=2.030, val_accuracy=0\u001b[A"
     ]
    },
    {
     "name": "stderr",
     "output_type": "stream",
     "text": [
      "Epoch 0, global step 48: 'val_loss' reached 2.03033 (best 2.03033), saving model to '/home/till/Desktop/ds4w-user-identification/checkpoints/best-checkpoint-v24.ckpt' as top 1\n"
     ]
    },
    {
     "name": "stdout",
     "output_type": "stream",
     "text": [
      "Epoch 1: 100%|█| 48/48 [00:01<00:00, 32.04it/s, v_num=25, train_loss=1.980, train_accuracy=0.250, val_loss=2.030, val_accuracy=0\n",
      "Validation: |                                                                                             | 0/? [00:00<?, ?it/s]\u001b[A\n",
      "Validation:   0%|                                                                                        | 0/12 [00:00<?, ?it/s]\u001b[A\n",
      "Validation DataLoader 0:   0%|                                                                           | 0/12 [00:00<?, ?it/s]\u001b[A\n",
      "Validation DataLoader 0:   8%|█████▌                                                            | 1/12 [00:00<00:00, 106.72it/s]\u001b[A\n",
      "Validation DataLoader 0:  17%|███████████                                                       | 2/12 [00:00<00:00, 118.63it/s]\u001b[A\n",
      "Validation DataLoader 0:  25%|████████████████▌                                                 | 3/12 [00:00<00:00, 107.34it/s]\u001b[A\n",
      "Validation DataLoader 0:  33%|██████████████████████                                            | 4/12 [00:00<00:00, 114.53it/s]\u001b[A\n",
      "Validation DataLoader 0:  42%|███████████████████████████▌                                      | 5/12 [00:00<00:00, 119.03it/s]\u001b[A\n",
      "Validation DataLoader 0:  50%|█████████████████████████████████                                 | 6/12 [00:00<00:00, 123.44it/s]\u001b[A\n",
      "Validation DataLoader 0:  58%|██████████████████████████████████████▌                           | 7/12 [00:00<00:00, 128.14it/s]\u001b[A\n",
      "Validation DataLoader 0:  67%|████████████████████████████████████████████                      | 8/12 [00:00<00:00, 131.73it/s]\u001b[A\n",
      "Validation DataLoader 0:  75%|█████████████████████████████████████████████████▌                | 9/12 [00:00<00:00, 134.19it/s]\u001b[A\n",
      "Validation DataLoader 0:  83%|██████████████████████████████████████████████████████▏          | 10/12 [00:00<00:00, 136.08it/s]\u001b[A\n",
      "Validation DataLoader 0:  92%|███████████████████████████████████████████████████████████▌     | 11/12 [00:00<00:00, 138.17it/s]\u001b[A\n",
      "Validation DataLoader 0: 100%|█████████████████████████████████████████████████████████████████| 12/12 [00:00<00:00, 139.88it/s]\u001b[A\n",
      "Epoch 1: 100%|█| 48/48 [00:02<00:00, 21.97it/s, v_num=25, train_loss=1.980, train_accuracy=0.250, val_loss=2.030, val_accuracy=0\u001b[A"
     ]
    },
    {
     "name": "stderr",
     "output_type": "stream",
     "text": [
      "Epoch 1, global step 96: 'val_loss' reached 2.02671 (best 2.02671), saving model to '/home/till/Desktop/ds4w-user-identification/checkpoints/best-checkpoint-v24.ckpt' as top 1\n"
     ]
    },
    {
     "name": "stdout",
     "output_type": "stream",
     "text": [
      "Epoch 2: 100%|█| 48/48 [00:01<00:00, 33.59it/s, v_num=25, train_loss=2.030, train_accuracy=0.175, val_loss=2.030, val_accuracy=0\n",
      "Validation: |                                                                                             | 0/? [00:00<?, ?it/s]\u001b[A\n",
      "Validation:   0%|                                                                                        | 0/12 [00:00<?, ?it/s]\u001b[A\n",
      "Validation DataLoader 0:   0%|                                                                           | 0/12 [00:00<?, ?it/s]\u001b[A\n",
      "Validation DataLoader 0:   8%|█████▌                                                            | 1/12 [00:00<00:00, 128.79it/s]\u001b[A\n",
      "Validation DataLoader 0:  17%|███████████                                                       | 2/12 [00:00<00:00, 137.14it/s]\u001b[A\n",
      "Validation DataLoader 0:  25%|████████████████▌                                                 | 3/12 [00:00<00:00, 139.67it/s]\u001b[A\n",
      "Validation DataLoader 0:  33%|██████████████████████                                            | 4/12 [00:00<00:00, 138.62it/s]\u001b[A\n",
      "Validation DataLoader 0:  42%|███████████████████████████▌                                      | 5/12 [00:00<00:00, 138.30it/s]\u001b[A\n",
      "Validation DataLoader 0:  50%|█████████████████████████████████                                 | 6/12 [00:00<00:00, 138.18it/s]\u001b[A\n",
      "Validation DataLoader 0:  58%|██████████████████████████████████████▌                           | 7/12 [00:00<00:00, 135.72it/s]\u001b[A\n",
      "Validation DataLoader 0:  67%|████████████████████████████████████████████                      | 8/12 [00:00<00:00, 137.26it/s]\u001b[A\n",
      "Validation DataLoader 0:  75%|█████████████████████████████████████████████████▌                | 9/12 [00:00<00:00, 137.16it/s]\u001b[A\n",
      "Validation DataLoader 0:  83%|██████████████████████████████████████████████████████▏          | 10/12 [00:00<00:00, 139.48it/s]\u001b[A\n",
      "Validation DataLoader 0:  92%|███████████████████████████████████████████████████████████▌     | 11/12 [00:00<00:00, 140.42it/s]\u001b[A\n",
      "Validation DataLoader 0: 100%|█████████████████████████████████████████████████████████████████| 12/12 [00:00<00:00, 141.68it/s]\u001b[A\n",
      "Epoch 2: 100%|█| 48/48 [00:02<00:00, 23.30it/s, v_num=25, train_loss=2.030, train_accuracy=0.175, val_loss=2.030, val_accuracy=0\u001b[A"
     ]
    },
    {
     "name": "stderr",
     "output_type": "stream",
     "text": [
      "Epoch 2, global step 144: 'val_loss' was not in top 1\n"
     ]
    },
    {
     "name": "stdout",
     "output_type": "stream",
     "text": [
      "Epoch 3: 100%|█| 48/48 [00:01<00:00, 32.42it/s, v_num=25, train_loss=2.060, train_accuracy=0.200, val_loss=2.030, val_accuracy=0\n",
      "Validation: |                                                                                             | 0/? [00:00<?, ?it/s]\u001b[A\n",
      "Validation:   0%|                                                                                        | 0/12 [00:00<?, ?it/s]\u001b[A\n",
      "Validation DataLoader 0:   0%|                                                                           | 0/12 [00:00<?, ?it/s]\u001b[A\n",
      "Validation DataLoader 0:   8%|█████▌                                                            | 1/12 [00:00<00:00, 116.71it/s]\u001b[A\n",
      "Validation DataLoader 0:  17%|███████████                                                       | 2/12 [00:00<00:00, 122.27it/s]\u001b[A\n",
      "Validation DataLoader 0:  25%|████████████████▌                                                 | 3/12 [00:00<00:00, 126.31it/s]\u001b[A\n",
      "Validation DataLoader 0:  33%|██████████████████████                                            | 4/12 [00:00<00:00, 128.82it/s]\u001b[A\n",
      "Validation DataLoader 0:  42%|███████████████████████████▌                                      | 5/12 [00:00<00:00, 122.24it/s]\u001b[A\n",
      "Validation DataLoader 0:  50%|█████████████████████████████████                                 | 6/12 [00:00<00:00, 124.85it/s]\u001b[A\n",
      "Validation DataLoader 0:  58%|██████████████████████████████████████▌                           | 7/12 [00:00<00:00, 127.41it/s]\u001b[A\n",
      "Validation DataLoader 0:  67%|████████████████████████████████████████████                      | 8/12 [00:00<00:00, 129.60it/s]\u001b[A\n",
      "Validation DataLoader 0:  75%|█████████████████████████████████████████████████▌                | 9/12 [00:00<00:00, 129.80it/s]\u001b[A\n",
      "Validation DataLoader 0:  83%|██████████████████████████████████████████████████████▏          | 10/12 [00:00<00:00, 130.17it/s]\u001b[A\n",
      "Validation DataLoader 0:  92%|███████████████████████████████████████████████████████████▌     | 11/12 [00:00<00:00, 130.65it/s]\u001b[A\n",
      "Validation DataLoader 0: 100%|█████████████████████████████████████████████████████████████████| 12/12 [00:00<00:00, 131.41it/s]\u001b[A\n",
      "Epoch 3: 100%|█| 48/48 [00:02<00:00, 22.15it/s, v_num=25, train_loss=2.060, train_accuracy=0.200, val_loss=2.030, val_accuracy=0\u001b[A"
     ]
    },
    {
     "name": "stderr",
     "output_type": "stream",
     "text": [
      "Epoch 3, global step 192: 'val_loss' was not in top 1\n"
     ]
    },
    {
     "name": "stdout",
     "output_type": "stream",
     "text": [
      "Epoch 4: 100%|█| 48/48 [00:01<00:00, 32.68it/s, v_num=25, train_loss=1.890, train_accuracy=0.175, val_loss=2.030, val_accuracy=0\n",
      "Validation: |                                                                                             | 0/? [00:00<?, ?it/s]\u001b[A\n",
      "Validation:   0%|                                                                                        | 0/12 [00:00<?, ?it/s]\u001b[A\n",
      "Validation DataLoader 0:   0%|                                                                           | 0/12 [00:00<?, ?it/s]\u001b[A\n",
      "Validation DataLoader 0:   8%|█████▌                                                            | 1/12 [00:00<00:00, 132.95it/s]\u001b[A\n",
      "Validation DataLoader 0:  17%|███████████                                                       | 2/12 [00:00<00:00, 126.63it/s]\u001b[A\n",
      "Validation DataLoader 0:  25%|████████████████▌                                                 | 3/12 [00:00<00:00, 132.67it/s]\u001b[A\n",
      "Validation DataLoader 0:  33%|██████████████████████                                            | 4/12 [00:00<00:00, 139.22it/s]\u001b[A\n",
      "Validation DataLoader 0:  42%|███████████████████████████▌                                      | 5/12 [00:00<00:00, 142.28it/s]\u001b[A\n",
      "Validation DataLoader 0:  50%|█████████████████████████████████                                 | 6/12 [00:00<00:00, 141.15it/s]\u001b[A\n",
      "Validation DataLoader 0:  58%|██████████████████████████████████████▌                           | 7/12 [00:00<00:00, 143.01it/s]\u001b[A\n",
      "Validation DataLoader 0:  67%|████████████████████████████████████████████                      | 8/12 [00:00<00:00, 141.89it/s]\u001b[A\n",
      "Validation DataLoader 0:  75%|█████████████████████████████████████████████████▌                | 9/12 [00:00<00:00, 141.40it/s]\u001b[A\n",
      "Validation DataLoader 0:  83%|██████████████████████████████████████████████████████▏          | 10/12 [00:00<00:00, 141.48it/s]\u001b[A\n",
      "Validation DataLoader 0:  92%|███████████████████████████████████████████████████████████▌     | 11/12 [00:00<00:00, 142.13it/s]\u001b[A\n",
      "Validation DataLoader 0: 100%|█████████████████████████████████████████████████████████████████| 12/12 [00:00<00:00, 142.36it/s]\u001b[A\n",
      "Epoch 4: 100%|█| 48/48 [00:02<00:00, 22.74it/s, v_num=25, train_loss=1.890, train_accuracy=0.175, val_loss=2.030, val_accuracy=0\u001b[A"
     ]
    },
    {
     "name": "stderr",
     "output_type": "stream",
     "text": [
      "Epoch 4, global step 240: 'val_loss' was not in top 1\n"
     ]
    },
    {
     "name": "stdout",
     "output_type": "stream",
     "text": [
      "Epoch 5: 100%|█| 48/48 [00:01<00:00, 32.71it/s, v_num=25, train_loss=1.930, train_accuracy=0.325, val_loss=2.030, val_accuracy=0\n",
      "Validation: |                                                                                             | 0/? [00:00<?, ?it/s]\u001b[A\n",
      "Validation:   0%|                                                                                        | 0/12 [00:00<?, ?it/s]\u001b[A\n",
      "Validation DataLoader 0:   0%|                                                                           | 0/12 [00:00<?, ?it/s]\u001b[A\n",
      "Validation DataLoader 0:   8%|█████▌                                                            | 1/12 [00:00<00:00, 123.55it/s]\u001b[A\n",
      "Validation DataLoader 0:  17%|███████████                                                       | 2/12 [00:00<00:00, 131.78it/s]\u001b[A\n",
      "Validation DataLoader 0:  25%|████████████████▌                                                 | 3/12 [00:00<00:00, 140.53it/s]\u001b[A\n",
      "Validation DataLoader 0:  33%|██████████████████████                                            | 4/12 [00:00<00:00, 135.57it/s]\u001b[A\n",
      "Validation DataLoader 0:  42%|███████████████████████████▌                                      | 5/12 [00:00<00:00, 130.38it/s]\u001b[A\n",
      "Validation DataLoader 0:  50%|█████████████████████████████████                                 | 6/12 [00:00<00:00, 133.16it/s]\u001b[A\n",
      "Validation DataLoader 0:  58%|██████████████████████████████████████▌                           | 7/12 [00:00<00:00, 135.19it/s]\u001b[A\n",
      "Validation DataLoader 0:  67%|████████████████████████████████████████████                      | 8/12 [00:00<00:00, 136.88it/s]\u001b[A\n",
      "Validation DataLoader 0:  75%|█████████████████████████████████████████████████▌                | 9/12 [00:00<00:00, 139.40it/s]\u001b[A\n",
      "Validation DataLoader 0:  83%|██████████████████████████████████████████████████████▏          | 10/12 [00:00<00:00, 140.41it/s]\u001b[A\n",
      "Validation DataLoader 0:  92%|███████████████████████████████████████████████████████████▌     | 11/12 [00:00<00:00, 141.32it/s]\u001b[A\n",
      "Validation DataLoader 0: 100%|█████████████████████████████████████████████████████████████████| 12/12 [00:00<00:00, 142.12it/s]\u001b[A\n",
      "Epoch 5: 100%|█| 48/48 [00:02<00:00, 22.77it/s, v_num=25, train_loss=1.930, train_accuracy=0.325, val_loss=2.020, val_accuracy=0\u001b[A"
     ]
    },
    {
     "name": "stderr",
     "output_type": "stream",
     "text": [
      "Epoch 5, global step 288: 'val_loss' reached 2.02139 (best 2.02139), saving model to '/home/till/Desktop/ds4w-user-identification/checkpoints/best-checkpoint-v24.ckpt' as top 1\n"
     ]
    },
    {
     "name": "stdout",
     "output_type": "stream",
     "text": [
      "Epoch 6: 100%|█| 48/48 [00:01<00:00, 32.31it/s, v_num=25, train_loss=1.890, train_accuracy=0.300, val_loss=2.020, val_accuracy=0\n",
      "Validation: |                                                                                             | 0/? [00:00<?, ?it/s]\u001b[A\n",
      "Validation:   0%|                                                                                        | 0/12 [00:00<?, ?it/s]\u001b[A\n",
      "Validation DataLoader 0:   0%|                                                                           | 0/12 [00:00<?, ?it/s]\u001b[A\n",
      "Validation DataLoader 0:   8%|█████▌                                                            | 1/12 [00:00<00:00, 113.57it/s]\u001b[A\n",
      "Validation DataLoader 0:  17%|███████████                                                       | 2/12 [00:00<00:00, 133.02it/s]\u001b[A\n",
      "Validation DataLoader 0:  25%|████████████████▌                                                 | 3/12 [00:00<00:00, 138.56it/s]\u001b[A\n",
      "Validation DataLoader 0:  33%|██████████████████████                                            | 4/12 [00:00<00:00, 141.97it/s]\u001b[A\n",
      "Validation DataLoader 0:  42%|███████████████████████████▌                                      | 5/12 [00:00<00:00, 144.00it/s]\u001b[A\n",
      "Validation DataLoader 0:  50%|█████████████████████████████████                                 | 6/12 [00:00<00:00, 146.48it/s]\u001b[A\n",
      "Validation DataLoader 0:  58%|██████████████████████████████████████▌                           | 7/12 [00:00<00:00, 149.08it/s]\u001b[A\n",
      "Validation DataLoader 0:  67%|████████████████████████████████████████████                      | 8/12 [00:00<00:00, 149.68it/s]\u001b[A\n",
      "Validation DataLoader 0:  75%|█████████████████████████████████████████████████▌                | 9/12 [00:00<00:00, 150.76it/s]\u001b[A\n",
      "Validation DataLoader 0:  83%|██████████████████████████████████████████████████████▏          | 10/12 [00:00<00:00, 151.42it/s]\u001b[A\n",
      "Validation DataLoader 0:  92%|███████████████████████████████████████████████████████████▌     | 11/12 [00:00<00:00, 151.68it/s]\u001b[A\n",
      "Validation DataLoader 0: 100%|█████████████████████████████████████████████████████████████████| 12/12 [00:00<00:00, 153.09it/s]\u001b[A\n",
      "Epoch 6: 100%|█| 48/48 [00:02<00:00, 22.12it/s, v_num=25, train_loss=1.890, train_accuracy=0.300, val_loss=1.970, val_accuracy=0\u001b[A"
     ]
    },
    {
     "name": "stderr",
     "output_type": "stream",
     "text": [
      "Epoch 6, global step 336: 'val_loss' reached 1.97082 (best 1.97082), saving model to '/home/till/Desktop/ds4w-user-identification/checkpoints/best-checkpoint-v24.ckpt' as top 1\n"
     ]
    },
    {
     "name": "stdout",
     "output_type": "stream",
     "text": [
      "Epoch 7: 100%|█| 48/48 [00:01<00:00, 31.76it/s, v_num=25, train_loss=1.980, train_accuracy=0.125, val_loss=1.970, val_accuracy=0\n",
      "Validation: |                                                                                             | 0/? [00:00<?, ?it/s]\u001b[A\n",
      "Validation:   0%|                                                                                        | 0/12 [00:00<?, ?it/s]\u001b[A\n",
      "Validation DataLoader 0:   0%|                                                                           | 0/12 [00:00<?, ?it/s]\u001b[A\n",
      "Validation DataLoader 0:   8%|█████▌                                                            | 1/12 [00:00<00:00, 125.49it/s]\u001b[A\n",
      "Validation DataLoader 0:  17%|███████████                                                       | 2/12 [00:00<00:00, 139.34it/s]\u001b[A\n",
      "Validation DataLoader 0:  25%|████████████████▌                                                 | 3/12 [00:00<00:00, 136.66it/s]\u001b[A\n",
      "Validation DataLoader 0:  33%|██████████████████████                                            | 4/12 [00:00<00:00, 141.52it/s]\u001b[A\n",
      "Validation DataLoader 0:  42%|███████████████████████████▌                                      | 5/12 [00:00<00:00, 144.42it/s]\u001b[A\n",
      "Validation DataLoader 0:  50%|█████████████████████████████████                                 | 6/12 [00:00<00:00, 141.59it/s]\u001b[A\n",
      "Validation DataLoader 0:  58%|██████████████████████████████████████▌                           | 7/12 [00:00<00:00, 144.25it/s]\u001b[A\n",
      "Validation DataLoader 0:  67%|████████████████████████████████████████████                      | 8/12 [00:00<00:00, 142.79it/s]\u001b[A\n",
      "Validation DataLoader 0:  75%|█████████████████████████████████████████████████▌                | 9/12 [00:00<00:00, 144.72it/s]\u001b[A\n",
      "Validation DataLoader 0:  83%|██████████████████████████████████████████████████████▏          | 10/12 [00:00<00:00, 146.12it/s]\u001b[A\n",
      "Validation DataLoader 0:  92%|███████████████████████████████████████████████████████████▌     | 11/12 [00:00<00:00, 146.50it/s]\u001b[A\n",
      "Validation DataLoader 0: 100%|█████████████████████████████████████████████████████████████████| 12/12 [00:00<00:00, 146.75it/s]\u001b[A\n",
      "Epoch 7: 100%|█| 48/48 [00:02<00:00, 22.39it/s, v_num=25, train_loss=1.980, train_accuracy=0.125, val_loss=1.960, val_accuracy=0\u001b[A"
     ]
    },
    {
     "name": "stderr",
     "output_type": "stream",
     "text": [
      "Epoch 7, global step 384: 'val_loss' reached 1.95883 (best 1.95883), saving model to '/home/till/Desktop/ds4w-user-identification/checkpoints/best-checkpoint-v24.ckpt' as top 1\n"
     ]
    },
    {
     "name": "stdout",
     "output_type": "stream",
     "text": [
      "Epoch 8: 100%|█| 48/48 [00:01<00:00, 32.65it/s, v_num=25, train_loss=1.930, train_accuracy=0.275, val_loss=1.960, val_accuracy=0\n",
      "Validation: |                                                                                             | 0/? [00:00<?, ?it/s]\u001b[A\n",
      "Validation:   0%|                                                                                        | 0/12 [00:00<?, ?it/s]\u001b[A\n",
      "Validation DataLoader 0:   0%|                                                                           | 0/12 [00:00<?, ?it/s]\u001b[A\n",
      "Validation DataLoader 0:   8%|█████▌                                                            | 1/12 [00:00<00:00, 135.77it/s]\u001b[A\n",
      "Validation DataLoader 0:  17%|███████████                                                       | 2/12 [00:00<00:00, 115.22it/s]\u001b[A\n",
      "Validation DataLoader 0:  25%|████████████████▌                                                 | 3/12 [00:00<00:00, 125.52it/s]\u001b[A\n",
      "Validation DataLoader 0:  33%|██████████████████████                                            | 4/12 [00:00<00:00, 127.59it/s]\u001b[A\n",
      "Validation DataLoader 0:  42%|███████████████████████████▌                                      | 5/12 [00:00<00:00, 132.69it/s]\u001b[A\n",
      "Validation DataLoader 0:  50%|█████████████████████████████████                                 | 6/12 [00:00<00:00, 134.13it/s]\u001b[A\n",
      "Validation DataLoader 0:  58%|██████████████████████████████████████▌                           | 7/12 [00:00<00:00, 136.73it/s]\u001b[A\n",
      "Validation DataLoader 0:  67%|████████████████████████████████████████████                      | 8/12 [00:00<00:00, 139.69it/s]\u001b[A\n",
      "Validation DataLoader 0:  75%|█████████████████████████████████████████████████▌                | 9/12 [00:00<00:00, 139.43it/s]\u001b[A\n",
      "Validation DataLoader 0:  83%|██████████████████████████████████████████████████████▏          | 10/12 [00:00<00:00, 141.19it/s]\u001b[A\n",
      "Validation DataLoader 0:  92%|███████████████████████████████████████████████████████████▌     | 11/12 [00:00<00:00, 141.39it/s]\u001b[A\n",
      "Validation DataLoader 0: 100%|█████████████████████████████████████████████████████████████████| 12/12 [00:00<00:00, 142.54it/s]\u001b[A\n",
      "Epoch 8: 100%|█| 48/48 [00:02<00:00, 22.48it/s, v_num=25, train_loss=1.930, train_accuracy=0.275, val_loss=2.010, val_accuracy=0\u001b[A"
     ]
    },
    {
     "name": "stderr",
     "output_type": "stream",
     "text": [
      "Epoch 8, global step 432: 'val_loss' was not in top 1\n"
     ]
    },
    {
     "name": "stdout",
     "output_type": "stream",
     "text": [
      "Epoch 9: 100%|█| 48/48 [00:01<00:00, 32.85it/s, v_num=25, train_loss=1.970, train_accuracy=0.300, val_loss=2.010, val_accuracy=0\n",
      "Validation: |                                                                                             | 0/? [00:00<?, ?it/s]\u001b[A\n",
      "Validation:   0%|                                                                                        | 0/12 [00:00<?, ?it/s]\u001b[A\n",
      "Validation DataLoader 0:   0%|                                                                           | 0/12 [00:00<?, ?it/s]\u001b[A\n",
      "Validation DataLoader 0:   8%|█████▌                                                            | 1/12 [00:00<00:00, 135.91it/s]\u001b[A\n",
      "Validation DataLoader 0:  17%|███████████                                                       | 2/12 [00:00<00:00, 132.36it/s]\u001b[A\n",
      "Validation DataLoader 0:  25%|████████████████▌                                                 | 3/12 [00:00<00:00, 137.11it/s]\u001b[A\n",
      "Validation DataLoader 0:  33%|██████████████████████                                            | 4/12 [00:00<00:00, 140.22it/s]\u001b[A\n",
      "Validation DataLoader 0:  42%|███████████████████████████▌                                      | 5/12 [00:00<00:00, 132.01it/s]\u001b[A\n",
      "Validation DataLoader 0:  50%|█████████████████████████████████                                 | 6/12 [00:00<00:00, 136.20it/s]\u001b[A\n",
      "Validation DataLoader 0:  58%|██████████████████████████████████████▌                           | 7/12 [00:00<00:00, 137.71it/s]\u001b[A\n",
      "Validation DataLoader 0:  67%|████████████████████████████████████████████                      | 8/12 [00:00<00:00, 140.36it/s]\u001b[A\n",
      "Validation DataLoader 0:  75%|█████████████████████████████████████████████████▌                | 9/12 [00:00<00:00, 141.83it/s]\u001b[A\n",
      "Validation DataLoader 0:  83%|██████████████████████████████████████████████████████▏          | 10/12 [00:00<00:00, 140.62it/s]\u001b[A\n",
      "Validation DataLoader 0:  92%|███████████████████████████████████████████████████████████▌     | 11/12 [00:00<00:00, 142.47it/s]\u001b[A\n",
      "Validation DataLoader 0: 100%|█████████████████████████████████████████████████████████████████| 12/12 [00:00<00:00, 142.99it/s]\u001b[A\n",
      "Epoch 9: 100%|█| 48/48 [00:02<00:00, 22.55it/s, v_num=25, train_loss=1.970, train_accuracy=0.300, val_loss=1.930, val_accuracy=0\u001b[A"
     ]
    },
    {
     "name": "stderr",
     "output_type": "stream",
     "text": [
      "Epoch 9, global step 480: 'val_loss' reached 1.92878 (best 1.92878), saving model to '/home/till/Desktop/ds4w-user-identification/checkpoints/best-checkpoint-v24.ckpt' as top 1\n"
     ]
    },
    {
     "name": "stdout",
     "output_type": "stream",
     "text": [
      "Epoch 10: 100%|█| 48/48 [00:01<00:00, 32.46it/s, v_num=25, train_loss=1.800, train_accuracy=0.375, val_loss=1.930, val_accuracy=\n",
      "Validation: |                                                                                             | 0/? [00:00<?, ?it/s]\u001b[A\n",
      "Validation:   0%|                                                                                        | 0/12 [00:00<?, ?it/s]\u001b[A\n",
      "Validation DataLoader 0:   0%|                                                                           | 0/12 [00:00<?, ?it/s]\u001b[A\n",
      "Validation DataLoader 0:   8%|█████▌                                                            | 1/12 [00:00<00:00, 136.16it/s]\u001b[A\n",
      "Validation DataLoader 0:  17%|███████████                                                       | 2/12 [00:00<00:00, 112.71it/s]\u001b[A\n",
      "Validation DataLoader 0:  25%|████████████████▌                                                 | 3/12 [00:00<00:00, 120.00it/s]\u001b[A\n",
      "Validation DataLoader 0:  33%|██████████████████████                                            | 4/12 [00:00<00:00, 128.43it/s]\u001b[A\n",
      "Validation DataLoader 0:  42%|███████████████████████████▌                                      | 5/12 [00:00<00:00, 133.94it/s]\u001b[A\n",
      "Validation DataLoader 0:  50%|█████████████████████████████████                                 | 6/12 [00:00<00:00, 137.40it/s]\u001b[A\n",
      "Validation DataLoader 0:  58%|██████████████████████████████████████▌                           | 7/12 [00:00<00:00, 139.80it/s]\u001b[A\n",
      "Validation DataLoader 0:  67%|████████████████████████████████████████████                      | 8/12 [00:00<00:00, 140.84it/s]\u001b[A\n",
      "Validation DataLoader 0:  75%|█████████████████████████████████████████████████▌                | 9/12 [00:00<00:00, 142.13it/s]\u001b[A\n",
      "Validation DataLoader 0:  83%|██████████████████████████████████████████████████████▏          | 10/12 [00:00<00:00, 143.82it/s]\u001b[A\n",
      "Validation DataLoader 0:  92%|███████████████████████████████████████████████████████████▌     | 11/12 [00:00<00:00, 144.16it/s]\u001b[A\n",
      "Validation DataLoader 0: 100%|█████████████████████████████████████████████████████████████████| 12/12 [00:00<00:00, 144.71it/s]\u001b[A\n",
      "Epoch 10: 100%|█| 48/48 [00:02<00:00, 22.34it/s, v_num=25, train_loss=1.800, train_accuracy=0.375, val_loss=1.870, val_accuracy=\u001b[A"
     ]
    },
    {
     "name": "stderr",
     "output_type": "stream",
     "text": [
      "Epoch 10, global step 528: 'val_loss' reached 1.86505 (best 1.86505), saving model to '/home/till/Desktop/ds4w-user-identification/checkpoints/best-checkpoint-v24.ckpt' as top 1\n"
     ]
    },
    {
     "name": "stdout",
     "output_type": "stream",
     "text": [
      "Epoch 11: 100%|█| 48/48 [00:01<00:00, 31.94it/s, v_num=25, train_loss=1.830, train_accuracy=0.275, val_loss=1.870, val_accuracy=\n",
      "Validation: |                                                                                             | 0/? [00:00<?, ?it/s]\u001b[A\n",
      "Validation:   0%|                                                                                        | 0/12 [00:00<?, ?it/s]\u001b[A\n",
      "Validation DataLoader 0:   0%|                                                                           | 0/12 [00:00<?, ?it/s]\u001b[A\n",
      "Validation DataLoader 0:   8%|█████▌                                                            | 1/12 [00:00<00:00, 100.44it/s]\u001b[A\n",
      "Validation DataLoader 0:  17%|███████████                                                       | 2/12 [00:00<00:00, 113.95it/s]\u001b[A\n",
      "Validation DataLoader 0:  25%|████████████████▌                                                 | 3/12 [00:00<00:00, 103.67it/s]\u001b[A\n",
      "Validation DataLoader 0:  33%|██████████████████████                                            | 4/12 [00:00<00:00, 109.42it/s]\u001b[A\n",
      "Validation DataLoader 0:  42%|███████████████████████████▌                                      | 5/12 [00:00<00:00, 114.41it/s]\u001b[A\n",
      "Validation DataLoader 0:  50%|█████████████████████████████████                                 | 6/12 [00:00<00:00, 118.33it/s]\u001b[A\n",
      "Validation DataLoader 0:  58%|██████████████████████████████████████▌                           | 7/12 [00:00<00:00, 121.31it/s]\u001b[A\n",
      "Validation DataLoader 0:  67%|████████████████████████████████████████████                      | 8/12 [00:00<00:00, 124.10it/s]\u001b[A\n",
      "Validation DataLoader 0:  75%|█████████████████████████████████████████████████▌                | 9/12 [00:00<00:00, 126.40it/s]\u001b[A\n",
      "Validation DataLoader 0:  83%|██████████████████████████████████████████████████████▏          | 10/12 [00:00<00:00, 129.13it/s]\u001b[A\n",
      "Validation DataLoader 0:  92%|███████████████████████████████████████████████████████████▌     | 11/12 [00:00<00:00, 130.78it/s]\u001b[A\n",
      "Validation DataLoader 0: 100%|█████████████████████████████████████████████████████████████████| 12/12 [00:00<00:00, 132.12it/s]\u001b[A\n",
      "Epoch 11: 100%|█| 48/48 [00:02<00:00, 21.91it/s, v_num=25, train_loss=1.830, train_accuracy=0.275, val_loss=1.940, val_accuracy=\u001b[A"
     ]
    },
    {
     "name": "stderr",
     "output_type": "stream",
     "text": [
      "Epoch 11, global step 576: 'val_loss' was not in top 1\n"
     ]
    },
    {
     "name": "stdout",
     "output_type": "stream",
     "text": [
      "Epoch 12: 100%|█| 48/48 [00:01<00:00, 32.48it/s, v_num=25, train_loss=1.780, train_accuracy=0.325, val_loss=1.940, val_accuracy=\n",
      "Validation: |                                                                                             | 0/? [00:00<?, ?it/s]\u001b[A\n",
      "Validation:   0%|                                                                                        | 0/12 [00:00<?, ?it/s]\u001b[A\n",
      "Validation DataLoader 0:   0%|                                                                           | 0/12 [00:00<?, ?it/s]\u001b[A\n",
      "Validation DataLoader 0:   8%|█████▌                                                            | 1/12 [00:00<00:00, 123.60it/s]\u001b[A\n",
      "Validation DataLoader 0:  17%|███████████                                                       | 2/12 [00:00<00:00, 130.35it/s]\u001b[A\n",
      "Validation DataLoader 0:  25%|████████████████▌                                                 | 3/12 [00:00<00:00, 133.03it/s]\u001b[A\n",
      "Validation DataLoader 0:  33%|██████████████████████                                            | 4/12 [00:00<00:00, 131.85it/s]\u001b[A\n",
      "Validation DataLoader 0:  42%|███████████████████████████▌                                      | 5/12 [00:00<00:00, 131.48it/s]\u001b[A\n",
      "Validation DataLoader 0:  50%|█████████████████████████████████                                 | 6/12 [00:00<00:00, 133.58it/s]\u001b[A\n",
      "Validation DataLoader 0:  58%|██████████████████████████████████████▌                           | 7/12 [00:00<00:00, 135.59it/s]\u001b[A\n",
      "Validation DataLoader 0:  67%|████████████████████████████████████████████                      | 8/12 [00:00<00:00, 138.40it/s]\u001b[A\n",
      "Validation DataLoader 0:  75%|█████████████████████████████████████████████████▌                | 9/12 [00:00<00:00, 140.77it/s]\u001b[A\n",
      "Validation DataLoader 0:  83%|██████████████████████████████████████████████████████▏          | 10/12 [00:00<00:00, 139.28it/s]\u001b[A\n",
      "Validation DataLoader 0:  92%|███████████████████████████████████████████████████████████▌     | 11/12 [00:00<00:00, 140.68it/s]\u001b[A\n",
      "Validation DataLoader 0: 100%|█████████████████████████████████████████████████████████████████| 12/12 [00:00<00:00, 141.46it/s]\u001b[A\n",
      "Epoch 12: 100%|█| 48/48 [00:02<00:00, 22.61it/s, v_num=25, train_loss=1.780, train_accuracy=0.325, val_loss=1.800, val_accuracy=\u001b[A"
     ]
    },
    {
     "name": "stderr",
     "output_type": "stream",
     "text": [
      "Epoch 12, global step 624: 'val_loss' reached 1.80180 (best 1.80180), saving model to '/home/till/Desktop/ds4w-user-identification/checkpoints/best-checkpoint-v24.ckpt' as top 1\n"
     ]
    },
    {
     "name": "stdout",
     "output_type": "stream",
     "text": [
      "Epoch 13: 100%|█| 48/48 [00:01<00:00, 31.52it/s, v_num=25, train_loss=1.690, train_accuracy=0.375, val_loss=1.800, val_accuracy=\n",
      "Validation: |                                                                                             | 0/? [00:00<?, ?it/s]\u001b[A\n",
      "Validation:   0%|                                                                                        | 0/12 [00:00<?, ?it/s]\u001b[A\n",
      "Validation DataLoader 0:   0%|                                                                           | 0/12 [00:00<?, ?it/s]\u001b[A\n",
      "Validation DataLoader 0:   8%|█████▌                                                            | 1/12 [00:00<00:00, 129.72it/s]\u001b[A\n",
      "Validation DataLoader 0:  17%|███████████                                                       | 2/12 [00:00<00:00, 138.40it/s]\u001b[A\n",
      "Validation DataLoader 0:  25%|████████████████▌                                                 | 3/12 [00:00<00:00, 142.91it/s]\u001b[A\n",
      "Validation DataLoader 0:  33%|██████████████████████                                            | 4/12 [00:00<00:00, 141.88it/s]\u001b[A\n",
      "Validation DataLoader 0:  42%|███████████████████████████▌                                      | 5/12 [00:00<00:00, 142.57it/s]\u001b[A\n",
      "Validation DataLoader 0:  50%|█████████████████████████████████                                 | 6/12 [00:00<00:00, 139.04it/s]\u001b[A\n",
      "Validation DataLoader 0:  58%|██████████████████████████████████████▌                           | 7/12 [00:00<00:00, 141.90it/s]\u001b[A\n",
      "Validation DataLoader 0:  67%|████████████████████████████████████████████                      | 8/12 [00:00<00:00, 140.35it/s]\u001b[A\n",
      "Validation DataLoader 0:  75%|█████████████████████████████████████████████████▌                | 9/12 [00:00<00:00, 141.35it/s]\u001b[A\n",
      "Validation DataLoader 0:  83%|██████████████████████████████████████████████████████▏          | 10/12 [00:00<00:00, 140.50it/s]\u001b[A\n",
      "Validation DataLoader 0:  92%|███████████████████████████████████████████████████████████▌     | 11/12 [00:00<00:00, 140.72it/s]\u001b[A\n",
      "Validation DataLoader 0: 100%|█████████████████████████████████████████████████████████████████| 12/12 [00:00<00:00, 142.29it/s]\u001b[A\n",
      "Epoch 13: 100%|█| 48/48 [00:02<00:00, 22.27it/s, v_num=25, train_loss=1.690, train_accuracy=0.375, val_loss=1.800, val_accuracy=\u001b[A"
     ]
    },
    {
     "name": "stderr",
     "output_type": "stream",
     "text": [
      "Epoch 13, global step 672: 'val_loss' was not in top 1\n"
     ]
    },
    {
     "name": "stdout",
     "output_type": "stream",
     "text": [
      "Epoch 14: 100%|█| 48/48 [00:01<00:00, 32.52it/s, v_num=25, train_loss=1.920, train_accuracy=0.225, val_loss=1.800, val_accuracy=\n",
      "Validation: |                                                                                             | 0/? [00:00<?, ?it/s]\u001b[A\n",
      "Validation:   0%|                                                                                        | 0/12 [00:00<?, ?it/s]\u001b[A\n",
      "Validation DataLoader 0:   0%|                                                                           | 0/12 [00:00<?, ?it/s]\u001b[A\n",
      "Validation DataLoader 0:   8%|█████▌                                                            | 1/12 [00:00<00:00, 112.37it/s]\u001b[A\n",
      "Validation DataLoader 0:  17%|███████████                                                       | 2/12 [00:00<00:00, 113.94it/s]\u001b[A\n",
      "Validation DataLoader 0:  25%|████████████████▌                                                 | 3/12 [00:00<00:00, 104.61it/s]\u001b[A\n",
      "Validation DataLoader 0:  33%|██████████████████████                                            | 4/12 [00:00<00:00, 111.04it/s]\u001b[A\n",
      "Validation DataLoader 0:  42%|███████████████████████████▌                                      | 5/12 [00:00<00:00, 117.79it/s]\u001b[A\n",
      "Validation DataLoader 0:  50%|█████████████████████████████████                                 | 6/12 [00:00<00:00, 123.02it/s]\u001b[A\n",
      "Validation DataLoader 0:  58%|██████████████████████████████████████▌                           | 7/12 [00:00<00:00, 126.18it/s]\u001b[A\n",
      "Validation DataLoader 0:  67%|████████████████████████████████████████████                      | 8/12 [00:00<00:00, 129.24it/s]\u001b[A\n",
      "Validation DataLoader 0:  75%|█████████████████████████████████████████████████▌                | 9/12 [00:00<00:00, 131.11it/s]\u001b[A\n",
      "Validation DataLoader 0:  83%|██████████████████████████████████████████████████████▏          | 10/12 [00:00<00:00, 133.79it/s]\u001b[A\n",
      "Validation DataLoader 0:  92%|███████████████████████████████████████████████████████████▌     | 11/12 [00:00<00:00, 135.69it/s]\u001b[A\n",
      "Validation DataLoader 0: 100%|█████████████████████████████████████████████████████████████████| 12/12 [00:00<00:00, 136.41it/s]\u001b[A\n",
      "Epoch 14: 100%|█| 48/48 [00:02<00:00, 22.72it/s, v_num=25, train_loss=1.920, train_accuracy=0.225, val_loss=1.740, val_accuracy=\u001b[A"
     ]
    },
    {
     "name": "stderr",
     "output_type": "stream",
     "text": [
      "Epoch 14, global step 720: 'val_loss' reached 1.74048 (best 1.74048), saving model to '/home/till/Desktop/ds4w-user-identification/checkpoints/best-checkpoint-v24.ckpt' as top 1\n"
     ]
    },
    {
     "name": "stdout",
     "output_type": "stream",
     "text": [
      "Epoch 15: 100%|█| 48/48 [00:01<00:00, 32.17it/s, v_num=25, train_loss=1.570, train_accuracy=0.325, val_loss=1.740, val_accuracy=\n",
      "Validation: |                                                                                             | 0/? [00:00<?, ?it/s]\u001b[A\n",
      "Validation:   0%|                                                                                        | 0/12 [00:00<?, ?it/s]\u001b[A\n",
      "Validation DataLoader 0:   0%|                                                                           | 0/12 [00:00<?, ?it/s]\u001b[A\n",
      "Validation DataLoader 0:   8%|█████▌                                                            | 1/12 [00:00<00:00, 123.12it/s]\u001b[A\n",
      "Validation DataLoader 0:  17%|███████████                                                       | 2/12 [00:00<00:00, 129.12it/s]\u001b[A\n",
      "Validation DataLoader 0:  25%|████████████████▌                                                 | 3/12 [00:00<00:00, 113.35it/s]\u001b[A\n",
      "Validation DataLoader 0:  33%|██████████████████████                                            | 4/12 [00:00<00:00, 121.63it/s]\u001b[A\n",
      "Validation DataLoader 0:  42%|███████████████████████████▌                                      | 5/12 [00:00<00:00, 127.80it/s]\u001b[A\n",
      "Validation DataLoader 0:  50%|█████████████████████████████████                                 | 6/12 [00:00<00:00, 130.75it/s]\u001b[A\n",
      "Validation DataLoader 0:  58%|██████████████████████████████████████▌                           | 7/12 [00:00<00:00, 133.79it/s]\u001b[A\n",
      "Validation DataLoader 0:  67%|████████████████████████████████████████████                      | 8/12 [00:00<00:00, 136.68it/s]\u001b[A\n",
      "Validation DataLoader 0:  75%|█████████████████████████████████████████████████▌                | 9/12 [00:00<00:00, 138.25it/s]\u001b[A\n",
      "Validation DataLoader 0:  83%|██████████████████████████████████████████████████████▏          | 10/12 [00:00<00:00, 139.61it/s]\u001b[A\n",
      "Validation DataLoader 0:  92%|███████████████████████████████████████████████████████████▌     | 11/12 [00:00<00:00, 140.62it/s]\u001b[A\n",
      "Validation DataLoader 0: 100%|█████████████████████████████████████████████████████████████████| 12/12 [00:00<00:00, 141.47it/s]\u001b[A\n",
      "Epoch 15: 100%|█| 48/48 [00:02<00:00, 22.76it/s, v_num=25, train_loss=1.570, train_accuracy=0.325, val_loss=1.710, val_accuracy=\u001b[A"
     ]
    },
    {
     "name": "stderr",
     "output_type": "stream",
     "text": [
      "Epoch 15, global step 768: 'val_loss' reached 1.70989 (best 1.70989), saving model to '/home/till/Desktop/ds4w-user-identification/checkpoints/best-checkpoint-v24.ckpt' as top 1\n"
     ]
    },
    {
     "name": "stdout",
     "output_type": "stream",
     "text": [
      "Epoch 16: 100%|█| 48/48 [00:01<00:00, 32.33it/s, v_num=25, train_loss=1.550, train_accuracy=0.400, val_loss=1.710, val_accuracy=\n",
      "Validation: |                                                                                             | 0/? [00:00<?, ?it/s]\u001b[A\n",
      "Validation:   0%|                                                                                        | 0/12 [00:00<?, ?it/s]\u001b[A\n",
      "Validation DataLoader 0:   0%|                                                                           | 0/12 [00:00<?, ?it/s]\u001b[A\n",
      "Validation DataLoader 0:   8%|█████▌                                                            | 1/12 [00:00<00:00, 126.05it/s]\u001b[A\n",
      "Validation DataLoader 0:  17%|███████████                                                       | 2/12 [00:00<00:00, 139.55it/s]\u001b[A\n",
      "Validation DataLoader 0:  25%|████████████████▌                                                 | 3/12 [00:00<00:00, 136.48it/s]\u001b[A\n",
      "Validation DataLoader 0:  33%|██████████████████████                                            | 4/12 [00:00<00:00, 137.81it/s]\u001b[A\n",
      "Validation DataLoader 0:  42%|███████████████████████████▌                                      | 5/12 [00:00<00:00, 139.59it/s]\u001b[A\n",
      "Validation DataLoader 0:  50%|█████████████████████████████████                                 | 6/12 [00:00<00:00, 135.04it/s]\u001b[A\n",
      "Validation DataLoader 0:  58%|██████████████████████████████████████▌                           | 7/12 [00:00<00:00, 135.16it/s]\u001b[A\n",
      "Validation DataLoader 0:  67%|████████████████████████████████████████████                      | 8/12 [00:00<00:00, 138.07it/s]\u001b[A\n",
      "Validation DataLoader 0:  75%|█████████████████████████████████████████████████▌                | 9/12 [00:00<00:00, 139.88it/s]\u001b[A\n",
      "Validation DataLoader 0:  83%|██████████████████████████████████████████████████████▏          | 10/12 [00:00<00:00, 140.11it/s]\u001b[A\n",
      "Validation DataLoader 0:  92%|███████████████████████████████████████████████████████████▌     | 11/12 [00:00<00:00, 141.86it/s]\u001b[A\n",
      "Validation DataLoader 0: 100%|█████████████████████████████████████████████████████████████████| 12/12 [00:00<00:00, 142.70it/s]\u001b[A\n",
      "Epoch 16: 100%|█| 48/48 [00:02<00:00, 22.56it/s, v_num=25, train_loss=1.550, train_accuracy=0.400, val_loss=1.730, val_accuracy=\u001b[A"
     ]
    },
    {
     "name": "stderr",
     "output_type": "stream",
     "text": [
      "Epoch 16, global step 816: 'val_loss' was not in top 1\n"
     ]
    },
    {
     "name": "stdout",
     "output_type": "stream",
     "text": [
      "Epoch 17: 100%|█| 48/48 [00:01<00:00, 33.48it/s, v_num=25, train_loss=1.760, train_accuracy=0.275, val_loss=1.730, val_accuracy=\n",
      "Validation: |                                                                                             | 0/? [00:00<?, ?it/s]\u001b[A\n",
      "Validation:   0%|                                                                                        | 0/12 [00:00<?, ?it/s]\u001b[A\n",
      "Validation DataLoader 0:   0%|                                                                           | 0/12 [00:00<?, ?it/s]\u001b[A\n",
      "Validation DataLoader 0:   8%|█████▌                                                            | 1/12 [00:00<00:00, 111.00it/s]\u001b[A\n",
      "Validation DataLoader 0:  17%|███████████▏                                                       | 2/12 [00:00<00:00, 98.57it/s]\u001b[A\n",
      "Validation DataLoader 0:  25%|████████████████▌                                                 | 3/12 [00:00<00:00, 110.97it/s]\u001b[A\n",
      "Validation DataLoader 0:  33%|██████████████████████                                            | 4/12 [00:00<00:00, 118.75it/s]\u001b[A\n",
      "Validation DataLoader 0:  42%|███████████████████████████▌                                      | 5/12 [00:00<00:00, 125.10it/s]\u001b[A\n",
      "Validation DataLoader 0:  50%|█████████████████████████████████                                 | 6/12 [00:00<00:00, 126.98it/s]\u001b[A\n",
      "Validation DataLoader 0:  58%|██████████████████████████████████████▌                           | 7/12 [00:00<00:00, 126.46it/s]\u001b[A\n",
      "Validation DataLoader 0:  67%|████████████████████████████████████████████                      | 8/12 [00:00<00:00, 129.39it/s]\u001b[A\n",
      "Validation DataLoader 0:  75%|█████████████████████████████████████████████████▌                | 9/12 [00:00<00:00, 131.70it/s]\u001b[A\n",
      "Validation DataLoader 0:  83%|██████████████████████████████████████████████████████▏          | 10/12 [00:00<00:00, 133.91it/s]\u001b[A\n",
      "Validation DataLoader 0:  92%|███████████████████████████████████████████████████████████▌     | 11/12 [00:00<00:00, 136.43it/s]\u001b[A\n",
      "Validation DataLoader 0: 100%|█████████████████████████████████████████████████████████████████| 12/12 [00:00<00:00, 137.35it/s]\u001b[A\n",
      "Epoch 17: 100%|█| 48/48 [00:02<00:00, 22.82it/s, v_num=25, train_loss=1.760, train_accuracy=0.275, val_loss=2.110, val_accuracy=\u001b[A"
     ]
    },
    {
     "name": "stderr",
     "output_type": "stream",
     "text": [
      "Epoch 17, global step 864: 'val_loss' was not in top 1\n"
     ]
    },
    {
     "name": "stdout",
     "output_type": "stream",
     "text": [
      "Epoch 18: 100%|█| 48/48 [00:01<00:00, 33.11it/s, v_num=25, train_loss=1.490, train_accuracy=0.375, val_loss=2.110, val_accuracy=\n",
      "Validation: |                                                                                             | 0/? [00:00<?, ?it/s]\u001b[A\n",
      "Validation:   0%|                                                                                        | 0/12 [00:00<?, ?it/s]\u001b[A\n",
      "Validation DataLoader 0:   0%|                                                                           | 0/12 [00:00<?, ?it/s]\u001b[A\n",
      "Validation DataLoader 0:   8%|█████▌                                                            | 1/12 [00:00<00:00, 109.07it/s]\u001b[A\n",
      "Validation DataLoader 0:  17%|███████████                                                       | 2/12 [00:00<00:00, 117.88it/s]\u001b[A\n",
      "Validation DataLoader 0:  25%|████████████████▌                                                 | 3/12 [00:00<00:00, 122.65it/s]\u001b[A\n",
      "Validation DataLoader 0:  33%|██████████████████████                                            | 4/12 [00:00<00:00, 130.69it/s]\u001b[A\n",
      "Validation DataLoader 0:  42%|███████████████████████████▌                                      | 5/12 [00:00<00:00, 133.93it/s]\u001b[A\n",
      "Validation DataLoader 0:  50%|█████████████████████████████████                                 | 6/12 [00:00<00:00, 133.10it/s]\u001b[A\n",
      "Validation DataLoader 0:  58%|██████████████████████████████████████▌                           | 7/12 [00:00<00:00, 135.87it/s]\u001b[A\n",
      "Validation DataLoader 0:  67%|████████████████████████████████████████████                      | 8/12 [00:00<00:00, 133.54it/s]\u001b[A\n",
      "Validation DataLoader 0:  75%|█████████████████████████████████████████████████▌                | 9/12 [00:00<00:00, 135.01it/s]\u001b[A\n",
      "Validation DataLoader 0:  83%|██████████████████████████████████████████████████████▏          | 10/12 [00:00<00:00, 136.02it/s]\u001b[A\n",
      "Validation DataLoader 0:  92%|███████████████████████████████████████████████████████████▌     | 11/12 [00:00<00:00, 137.44it/s]\u001b[A\n",
      "Validation DataLoader 0: 100%|█████████████████████████████████████████████████████████████████| 12/12 [00:00<00:00, 137.22it/s]\u001b[A\n",
      "Epoch 18: 100%|█| 48/48 [00:02<00:00, 23.11it/s, v_num=25, train_loss=1.490, train_accuracy=0.375, val_loss=1.730, val_accuracy=\u001b[A"
     ]
    },
    {
     "name": "stderr",
     "output_type": "stream",
     "text": [
      "Epoch 18, global step 912: 'val_loss' was not in top 1\n"
     ]
    },
    {
     "name": "stdout",
     "output_type": "stream",
     "text": [
      "Epoch 19: 100%|█| 48/48 [00:01<00:00, 33.51it/s, v_num=25, train_loss=1.470, train_accuracy=0.450, val_loss=1.730, val_accuracy=\n",
      "Validation: |                                                                                             | 0/? [00:00<?, ?it/s]\u001b[A\n",
      "Validation:   0%|                                                                                        | 0/12 [00:00<?, ?it/s]\u001b[A\n",
      "Validation DataLoader 0:   0%|                                                                           | 0/12 [00:00<?, ?it/s]\u001b[A\n",
      "Validation DataLoader 0:   8%|█████▌                                                            | 1/12 [00:00<00:00, 124.80it/s]\u001b[A\n",
      "Validation DataLoader 0:  17%|███████████                                                       | 2/12 [00:00<00:00, 133.27it/s]\u001b[A\n",
      "Validation DataLoader 0:  25%|████████████████▌                                                 | 3/12 [00:00<00:00, 128.03it/s]\u001b[A\n",
      "Validation DataLoader 0:  33%|██████████████████████                                            | 4/12 [00:00<00:00, 123.41it/s]\u001b[A\n",
      "Validation DataLoader 0:  42%|███████████████████████████▌                                      | 5/12 [00:00<00:00, 126.54it/s]\u001b[A\n",
      "Validation DataLoader 0:  50%|█████████████████████████████████                                 | 6/12 [00:00<00:00, 131.65it/s]\u001b[A\n",
      "Validation DataLoader 0:  58%|██████████████████████████████████████▌                           | 7/12 [00:00<00:00, 132.59it/s]\u001b[A\n",
      "Validation DataLoader 0:  67%|████████████████████████████████████████████                      | 8/12 [00:00<00:00, 134.15it/s]\u001b[A\n",
      "Validation DataLoader 0:  75%|█████████████████████████████████████████████████▌                | 9/12 [00:00<00:00, 136.85it/s]\u001b[A\n",
      "Validation DataLoader 0:  83%|██████████████████████████████████████████████████████▏          | 10/12 [00:00<00:00, 138.56it/s]\u001b[A\n",
      "Validation DataLoader 0:  92%|███████████████████████████████████████████████████████████▌     | 11/12 [00:00<00:00, 140.65it/s]\u001b[A\n",
      "Validation DataLoader 0: 100%|█████████████████████████████████████████████████████████████████| 12/12 [00:00<00:00, 142.02it/s]\u001b[A\n",
      "Epoch 19: 100%|█| 48/48 [00:02<00:00, 23.07it/s, v_num=25, train_loss=1.470, train_accuracy=0.450, val_loss=1.670, val_accuracy=\u001b[A"
     ]
    },
    {
     "name": "stderr",
     "output_type": "stream",
     "text": [
      "Epoch 19, global step 960: 'val_loss' reached 1.67395 (best 1.67395), saving model to '/home/till/Desktop/ds4w-user-identification/checkpoints/best-checkpoint-v24.ckpt' as top 1\n"
     ]
    },
    {
     "name": "stdout",
     "output_type": "stream",
     "text": [
      "Epoch 20: 100%|█| 48/48 [00:01<00:00, 32.22it/s, v_num=25, train_loss=1.580, train_accuracy=0.400, val_loss=1.670, val_accuracy=\n",
      "Validation: |                                                                                             | 0/? [00:00<?, ?it/s]\u001b[A\n",
      "Validation:   0%|                                                                                        | 0/12 [00:00<?, ?it/s]\u001b[A\n",
      "Validation DataLoader 0:   0%|                                                                           | 0/12 [00:00<?, ?it/s]\u001b[A\n",
      "Validation DataLoader 0:   8%|█████▌                                                            | 1/12 [00:00<00:00, 124.24it/s]\u001b[A\n",
      "Validation DataLoader 0:  17%|███████████                                                       | 2/12 [00:00<00:00, 123.12it/s]\u001b[A\n",
      "Validation DataLoader 0:  25%|████████████████▌                                                 | 3/12 [00:00<00:00, 129.46it/s]\u001b[A\n",
      "Validation DataLoader 0:  33%|██████████████████████                                            | 4/12 [00:00<00:00, 131.17it/s]\u001b[A\n",
      "Validation DataLoader 0:  42%|███████████████████████████▌                                      | 5/12 [00:00<00:00, 134.79it/s]\u001b[A\n",
      "Validation DataLoader 0:  50%|█████████████████████████████████                                 | 6/12 [00:00<00:00, 132.18it/s]\u001b[A\n",
      "Validation DataLoader 0:  58%|██████████████████████████████████████▌                           | 7/12 [00:00<00:00, 135.04it/s]\u001b[A\n",
      "Validation DataLoader 0:  67%|████████████████████████████████████████████                      | 8/12 [00:00<00:00, 137.20it/s]\u001b[A\n",
      "Validation DataLoader 0:  75%|█████████████████████████████████████████████████▌                | 9/12 [00:00<00:00, 138.15it/s]\u001b[A\n",
      "Validation DataLoader 0:  83%|██████████████████████████████████████████████████████▏          | 10/12 [00:00<00:00, 138.75it/s]\u001b[A\n",
      "Validation DataLoader 0:  92%|███████████████████████████████████████████████████████████▌     | 11/12 [00:00<00:00, 138.69it/s]\u001b[A\n",
      "Validation DataLoader 0: 100%|█████████████████████████████████████████████████████████████████| 12/12 [00:00<00:00, 139.33it/s]\u001b[A\n",
      "Epoch 20: 100%|█| 48/48 [00:02<00:00, 22.18it/s, v_num=25, train_loss=1.580, train_accuracy=0.400, val_loss=1.700, val_accuracy=\u001b[A"
     ]
    },
    {
     "name": "stderr",
     "output_type": "stream",
     "text": [
      "Epoch 20, global step 1008: 'val_loss' was not in top 1\n"
     ]
    },
    {
     "name": "stdout",
     "output_type": "stream",
     "text": [
      "Epoch 21: 100%|█| 48/48 [00:01<00:00, 32.25it/s, v_num=25, train_loss=1.460, train_accuracy=0.500, val_loss=1.700, val_accuracy=\n",
      "Validation: |                                                                                             | 0/? [00:00<?, ?it/s]\u001b[A\n",
      "Validation:   0%|                                                                                        | 0/12 [00:00<?, ?it/s]\u001b[A\n",
      "Validation DataLoader 0:   0%|                                                                           | 0/12 [00:00<?, ?it/s]\u001b[A\n",
      "Validation DataLoader 0:   8%|█████▌                                                            | 1/12 [00:00<00:00, 116.11it/s]\u001b[A\n",
      "Validation DataLoader 0:  17%|███████████                                                       | 2/12 [00:00<00:00, 129.14it/s]\u001b[A\n",
      "Validation DataLoader 0:  25%|████████████████▌                                                 | 3/12 [00:00<00:00, 122.43it/s]\u001b[A\n",
      "Validation DataLoader 0:  33%|██████████████████████                                            | 4/12 [00:00<00:00, 130.23it/s]\u001b[A\n",
      "Validation DataLoader 0:  42%|███████████████████████████▌                                      | 5/12 [00:00<00:00, 134.39it/s]\u001b[A\n",
      "Validation DataLoader 0:  50%|█████████████████████████████████                                 | 6/12 [00:00<00:00, 135.60it/s]\u001b[A\n",
      "Validation DataLoader 0:  58%|██████████████████████████████████████▌                           | 7/12 [00:00<00:00, 138.93it/s]\u001b[A\n",
      "Validation DataLoader 0:  67%|████████████████████████████████████████████                      | 8/12 [00:00<00:00, 137.71it/s]\u001b[A\n",
      "Validation DataLoader 0:  75%|█████████████████████████████████████████████████▌                | 9/12 [00:00<00:00, 135.29it/s]\u001b[A\n",
      "Validation DataLoader 0:  83%|██████████████████████████████████████████████████████▏          | 10/12 [00:00<00:00, 136.01it/s]\u001b[A\n",
      "Validation DataLoader 0:  92%|███████████████████████████████████████████████████████████▌     | 11/12 [00:00<00:00, 137.88it/s]\u001b[A\n",
      "Validation DataLoader 0: 100%|█████████████████████████████████████████████████████████████████| 12/12 [00:00<00:00, 138.59it/s]\u001b[A\n",
      "Epoch 21: 100%|█| 48/48 [00:02<00:00, 22.63it/s, v_num=25, train_loss=1.460, train_accuracy=0.500, val_loss=1.630, val_accuracy=\u001b[A"
     ]
    },
    {
     "name": "stderr",
     "output_type": "stream",
     "text": [
      "Epoch 21, global step 1056: 'val_loss' reached 1.63095 (best 1.63095), saving model to '/home/till/Desktop/ds4w-user-identification/checkpoints/best-checkpoint-v24.ckpt' as top 1\n"
     ]
    },
    {
     "name": "stdout",
     "output_type": "stream",
     "text": [
      "Epoch 22: 100%|█| 48/48 [00:01<00:00, 32.54it/s, v_num=25, train_loss=1.630, train_accuracy=0.450, val_loss=1.630, val_accuracy=\n",
      "Validation: |                                                                                             | 0/? [00:00<?, ?it/s]\u001b[A\n",
      "Validation:   0%|                                                                                        | 0/12 [00:00<?, ?it/s]\u001b[A\n",
      "Validation DataLoader 0:   0%|                                                                           | 0/12 [00:00<?, ?it/s]\u001b[A\n",
      "Validation DataLoader 0:   8%|█████▌                                                            | 1/12 [00:00<00:00, 127.88it/s]\u001b[A\n",
      "Validation DataLoader 0:  17%|███████████                                                       | 2/12 [00:00<00:00, 134.81it/s]\u001b[A\n",
      "Validation DataLoader 0:  25%|████████████████▌                                                 | 3/12 [00:00<00:00, 143.60it/s]\u001b[A\n",
      "Validation DataLoader 0:  33%|██████████████████████                                            | 4/12 [00:00<00:00, 145.42it/s]\u001b[A\n",
      "Validation DataLoader 0:  42%|███████████████████████████▌                                      | 5/12 [00:00<00:00, 145.88it/s]\u001b[A\n",
      "Validation DataLoader 0:  50%|█████████████████████████████████                                 | 6/12 [00:00<00:00, 147.68it/s]\u001b[A\n",
      "Validation DataLoader 0:  58%|██████████████████████████████████████▌                           | 7/12 [00:00<00:00, 148.86it/s]\u001b[A\n",
      "Validation DataLoader 0:  67%|████████████████████████████████████████████                      | 8/12 [00:00<00:00, 150.97it/s]\u001b[A\n",
      "Validation DataLoader 0:  75%|█████████████████████████████████████████████████▌                | 9/12 [00:00<00:00, 149.62it/s]\u001b[A\n",
      "Validation DataLoader 0:  83%|██████████████████████████████████████████████████████▏          | 10/12 [00:00<00:00, 149.98it/s]\u001b[A\n",
      "Validation DataLoader 0:  92%|███████████████████████████████████████████████████████████▌     | 11/12 [00:00<00:00, 148.86it/s]\u001b[A\n",
      "Validation DataLoader 0: 100%|█████████████████████████████████████████████████████████████████| 12/12 [00:00<00:00, 147.43it/s]\u001b[A\n",
      "Epoch 22: 100%|█| 48/48 [00:02<00:00, 22.37it/s, v_num=25, train_loss=1.630, train_accuracy=0.450, val_loss=1.670, val_accuracy=\u001b[A"
     ]
    },
    {
     "name": "stderr",
     "output_type": "stream",
     "text": [
      "Epoch 22, global step 1104: 'val_loss' was not in top 1\n"
     ]
    },
    {
     "name": "stdout",
     "output_type": "stream",
     "text": [
      "Epoch 23: 100%|█| 48/48 [00:01<00:00, 32.70it/s, v_num=25, train_loss=1.620, train_accuracy=0.375, val_loss=1.670, val_accuracy=\n",
      "Validation: |                                                                                             | 0/? [00:00<?, ?it/s]\u001b[A\n",
      "Validation:   0%|                                                                                        | 0/12 [00:00<?, ?it/s]\u001b[A\n",
      "Validation DataLoader 0:   0%|                                                                           | 0/12 [00:00<?, ?it/s]\u001b[A\n",
      "Validation DataLoader 0:   8%|█████▌                                                            | 1/12 [00:00<00:00, 119.07it/s]\u001b[A\n",
      "Validation DataLoader 0:  17%|███████████                                                       | 2/12 [00:00<00:00, 119.28it/s]\u001b[A\n",
      "Validation DataLoader 0:  25%|████████████████▌                                                 | 3/12 [00:00<00:00, 128.68it/s]\u001b[A\n",
      "Validation DataLoader 0:  33%|██████████████████████                                            | 4/12 [00:00<00:00, 135.93it/s]\u001b[A\n",
      "Validation DataLoader 0:  42%|███████████████████████████▌                                      | 5/12 [00:00<00:00, 134.35it/s]\u001b[A\n",
      "Validation DataLoader 0:  50%|█████████████████████████████████                                 | 6/12 [00:00<00:00, 138.23it/s]\u001b[A\n",
      "Validation DataLoader 0:  58%|██████████████████████████████████████▌                           | 7/12 [00:00<00:00, 141.66it/s]\u001b[A\n",
      "Validation DataLoader 0:  67%|████████████████████████████████████████████                      | 8/12 [00:00<00:00, 141.59it/s]\u001b[A\n",
      "Validation DataLoader 0:  75%|█████████████████████████████████████████████████▌                | 9/12 [00:00<00:00, 142.30it/s]\u001b[A\n",
      "Validation DataLoader 0:  83%|██████████████████████████████████████████████████████▏          | 10/12 [00:00<00:00, 140.31it/s]\u001b[A\n",
      "Validation DataLoader 0:  92%|███████████████████████████████████████████████████████████▌     | 11/12 [00:00<00:00, 142.15it/s]\u001b[A\n",
      "Validation DataLoader 0: 100%|█████████████████████████████████████████████████████████████████| 12/12 [00:00<00:00, 142.98it/s]\u001b[A\n",
      "Epoch 23: 100%|█| 48/48 [00:02<00:00, 22.72it/s, v_num=25, train_loss=1.620, train_accuracy=0.375, val_loss=1.650, val_accuracy=\u001b[A"
     ]
    },
    {
     "name": "stderr",
     "output_type": "stream",
     "text": [
      "Epoch 23, global step 1152: 'val_loss' was not in top 1\n"
     ]
    },
    {
     "name": "stdout",
     "output_type": "stream",
     "text": [
      "Epoch 24: 100%|█| 48/48 [00:01<00:00, 32.79it/s, v_num=25, train_loss=1.540, train_accuracy=0.300, val_loss=1.650, val_accuracy=\n",
      "Validation: |                                                                                             | 0/? [00:00<?, ?it/s]\u001b[A\n",
      "Validation:   0%|                                                                                        | 0/12 [00:00<?, ?it/s]\u001b[A\n",
      "Validation DataLoader 0:   0%|                                                                           | 0/12 [00:00<?, ?it/s]\u001b[A\n",
      "Validation DataLoader 0:   8%|█████▌                                                            | 1/12 [00:00<00:00, 127.29it/s]\u001b[A\n",
      "Validation DataLoader 0:  17%|███████████                                                       | 2/12 [00:00<00:00, 132.48it/s]\u001b[A\n",
      "Validation DataLoader 0:  25%|████████████████▌                                                 | 3/12 [00:00<00:00, 137.12it/s]\u001b[A\n",
      "Validation DataLoader 0:  33%|██████████████████████                                            | 4/12 [00:00<00:00, 137.71it/s]\u001b[A\n",
      "Validation DataLoader 0:  42%|███████████████████████████▌                                      | 5/12 [00:00<00:00, 139.12it/s]\u001b[A\n",
      "Validation DataLoader 0:  50%|█████████████████████████████████                                 | 6/12 [00:00<00:00, 139.62it/s]\u001b[A\n",
      "Validation DataLoader 0:  58%|██████████████████████████████████████▌                           | 7/12 [00:00<00:00, 138.16it/s]\u001b[A\n",
      "Validation DataLoader 0:  67%|████████████████████████████████████████████                      | 8/12 [00:00<00:00, 138.65it/s]\u001b[A\n",
      "Validation DataLoader 0:  75%|█████████████████████████████████████████████████▌                | 9/12 [00:00<00:00, 138.02it/s]\u001b[A\n",
      "Validation DataLoader 0:  83%|██████████████████████████████████████████████████████▏          | 10/12 [00:00<00:00, 139.69it/s]\u001b[A\n",
      "Validation DataLoader 0:  92%|███████████████████████████████████████████████████████████▌     | 11/12 [00:00<00:00, 139.19it/s]\u001b[A\n",
      "Validation DataLoader 0: 100%|█████████████████████████████████████████████████████████████████| 12/12 [00:00<00:00, 140.74it/s]\u001b[A\n",
      "Epoch 24: 100%|█| 48/48 [00:02<00:00, 22.79it/s, v_num=25, train_loss=1.540, train_accuracy=0.300, val_loss=1.560, val_accuracy=\u001b[A"
     ]
    },
    {
     "name": "stderr",
     "output_type": "stream",
     "text": [
      "Epoch 24, global step 1200: 'val_loss' reached 1.56299 (best 1.56299), saving model to '/home/till/Desktop/ds4w-user-identification/checkpoints/best-checkpoint-v24.ckpt' as top 1\n"
     ]
    },
    {
     "name": "stdout",
     "output_type": "stream",
     "text": [
      "Epoch 25: 100%|█| 48/48 [00:01<00:00, 33.00it/s, v_num=25, train_loss=1.690, train_accuracy=0.400, val_loss=1.560, val_accuracy=\n",
      "Validation: |                                                                                             | 0/? [00:00<?, ?it/s]\u001b[A\n",
      "Validation:   0%|                                                                                        | 0/12 [00:00<?, ?it/s]\u001b[A\n",
      "Validation DataLoader 0:   0%|                                                                           | 0/12 [00:00<?, ?it/s]\u001b[A\n",
      "Validation DataLoader 0:   8%|█████▌                                                            | 1/12 [00:00<00:00, 115.35it/s]\u001b[A\n",
      "Validation DataLoader 0:  17%|███████████                                                       | 2/12 [00:00<00:00, 130.31it/s]\u001b[A\n",
      "Validation DataLoader 0:  25%|████████████████▌                                                 | 3/12 [00:00<00:00, 138.15it/s]\u001b[A\n",
      "Validation DataLoader 0:  33%|██████████████████████                                            | 4/12 [00:00<00:00, 140.23it/s]\u001b[A\n",
      "Validation DataLoader 0:  42%|███████████████████████████▌                                      | 5/12 [00:00<00:00, 141.34it/s]\u001b[A\n",
      "Validation DataLoader 0:  50%|█████████████████████████████████                                 | 6/12 [00:00<00:00, 133.76it/s]\u001b[A\n",
      "Validation DataLoader 0:  58%|██████████████████████████████████████▌                           | 7/12 [00:00<00:00, 135.01it/s]\u001b[A\n",
      "Validation DataLoader 0:  67%|████████████████████████████████████████████                      | 8/12 [00:00<00:00, 136.66it/s]\u001b[A\n",
      "Validation DataLoader 0:  75%|█████████████████████████████████████████████████▌                | 9/12 [00:00<00:00, 139.41it/s]\u001b[A\n",
      "Validation DataLoader 0:  83%|██████████████████████████████████████████████████████▏          | 10/12 [00:00<00:00, 141.03it/s]\u001b[A\n",
      "Validation DataLoader 0:  92%|███████████████████████████████████████████████████████████▌     | 11/12 [00:00<00:00, 141.91it/s]\u001b[A\n",
      "Validation DataLoader 0: 100%|█████████████████████████████████████████████████████████████████| 12/12 [00:00<00:00, 143.26it/s]\u001b[A\n",
      "Epoch 25: 100%|█| 48/48 [00:02<00:00, 23.15it/s, v_num=25, train_loss=1.690, train_accuracy=0.400, val_loss=1.840, val_accuracy=\u001b[A"
     ]
    },
    {
     "name": "stderr",
     "output_type": "stream",
     "text": [
      "Epoch 25, global step 1248: 'val_loss' was not in top 1\n"
     ]
    },
    {
     "name": "stdout",
     "output_type": "stream",
     "text": [
      "Epoch 26: 100%|█| 48/48 [00:01<00:00, 32.15it/s, v_num=25, train_loss=1.480, train_accuracy=0.550, val_loss=1.840, val_accuracy=\n",
      "Validation: |                                                                                             | 0/? [00:00<?, ?it/s]\u001b[A\n",
      "Validation:   0%|                                                                                        | 0/12 [00:00<?, ?it/s]\u001b[A\n",
      "Validation DataLoader 0:   0%|                                                                           | 0/12 [00:00<?, ?it/s]\u001b[A\n",
      "Validation DataLoader 0:   8%|█████▌                                                            | 1/12 [00:00<00:00, 117.72it/s]\u001b[A\n",
      "Validation DataLoader 0:  17%|███████████                                                       | 2/12 [00:00<00:00, 122.04it/s]\u001b[A\n",
      "Validation DataLoader 0:  25%|████████████████▌                                                 | 3/12 [00:00<00:00, 126.10it/s]\u001b[A\n",
      "Validation DataLoader 0:  33%|██████████████████████                                            | 4/12 [00:00<00:00, 131.00it/s]\u001b[A\n",
      "Validation DataLoader 0:  42%|███████████████████████████▌                                      | 5/12 [00:00<00:00, 132.94it/s]\u001b[A\n",
      "Validation DataLoader 0:  50%|█████████████████████████████████                                 | 6/12 [00:00<00:00, 135.80it/s]\u001b[A\n",
      "Validation DataLoader 0:  58%|██████████████████████████████████████▌                           | 7/12 [00:00<00:00, 135.52it/s]\u001b[A\n",
      "Validation DataLoader 0:  67%|████████████████████████████████████████████                      | 8/12 [00:00<00:00, 136.72it/s]\u001b[A\n",
      "Validation DataLoader 0:  75%|█████████████████████████████████████████████████▌                | 9/12 [00:00<00:00, 134.84it/s]\u001b[A\n",
      "Validation DataLoader 0:  83%|██████████████████████████████████████████████████████▏          | 10/12 [00:00<00:00, 137.17it/s]\u001b[A\n",
      "Validation DataLoader 0:  92%|███████████████████████████████████████████████████████████▌     | 11/12 [00:00<00:00, 138.87it/s]\u001b[A\n",
      "Validation DataLoader 0: 100%|█████████████████████████████████████████████████████████████████| 12/12 [00:00<00:00, 140.13it/s]\u001b[A\n",
      "Epoch 26: 100%|█| 48/48 [00:02<00:00, 22.56it/s, v_num=25, train_loss=1.480, train_accuracy=0.550, val_loss=1.560, val_accuracy=\u001b[A"
     ]
    },
    {
     "name": "stderr",
     "output_type": "stream",
     "text": [
      "Epoch 26, global step 1296: 'val_loss' was not in top 1\n"
     ]
    },
    {
     "name": "stdout",
     "output_type": "stream",
     "text": [
      "Epoch 27: 100%|█| 48/48 [00:01<00:00, 31.45it/s, v_num=25, train_loss=1.570, train_accuracy=0.425, val_loss=1.560, val_accuracy=\n",
      "Validation: |                                                                                             | 0/? [00:00<?, ?it/s]\u001b[A\n",
      "Validation:   0%|                                                                                        | 0/12 [00:00<?, ?it/s]\u001b[A\n",
      "Validation DataLoader 0:   0%|                                                                           | 0/12 [00:00<?, ?it/s]\u001b[A\n",
      "Validation DataLoader 0:   8%|█████▌                                                             | 1/12 [00:00<00:00, 98.08it/s]\u001b[A\n",
      "Validation DataLoader 0:  17%|███████████                                                       | 2/12 [00:00<00:00, 115.90it/s]\u001b[A\n",
      "Validation DataLoader 0:  25%|████████████████▌                                                 | 3/12 [00:00<00:00, 123.56it/s]\u001b[A\n",
      "Validation DataLoader 0:  33%|██████████████████████                                            | 4/12 [00:00<00:00, 126.10it/s]\u001b[A\n",
      "Validation DataLoader 0:  42%|███████████████████████████▌                                      | 5/12 [00:00<00:00, 128.92it/s]\u001b[A\n",
      "Validation DataLoader 0:  50%|█████████████████████████████████                                 | 6/12 [00:00<00:00, 134.09it/s]\u001b[A\n",
      "Validation DataLoader 0:  58%|██████████████████████████████████████▌                           | 7/12 [00:00<00:00, 135.09it/s]\u001b[A\n",
      "Validation DataLoader 0:  67%|████████████████████████████████████████████                      | 8/12 [00:00<00:00, 135.40it/s]\u001b[A\n",
      "Validation DataLoader 0:  75%|█████████████████████████████████████████████████▌                | 9/12 [00:00<00:00, 138.49it/s]\u001b[A\n",
      "Validation DataLoader 0:  83%|██████████████████████████████████████████████████████▏          | 10/12 [00:00<00:00, 138.47it/s]\u001b[A\n",
      "Validation DataLoader 0:  92%|███████████████████████████████████████████████████████████▌     | 11/12 [00:00<00:00, 139.71it/s]\u001b[A\n",
      "Validation DataLoader 0: 100%|█████████████████████████████████████████████████████████████████| 12/12 [00:00<00:00, 139.83it/s]\u001b[A\n",
      "Epoch 27: 100%|█| 48/48 [00:02<00:00, 22.24it/s, v_num=25, train_loss=1.570, train_accuracy=0.425, val_loss=1.490, val_accuracy=\u001b[A"
     ]
    },
    {
     "name": "stderr",
     "output_type": "stream",
     "text": [
      "Epoch 27, global step 1344: 'val_loss' reached 1.49302 (best 1.49302), saving model to '/home/till/Desktop/ds4w-user-identification/checkpoints/best-checkpoint-v24.ckpt' as top 1\n"
     ]
    },
    {
     "name": "stdout",
     "output_type": "stream",
     "text": [
      "Epoch 28: 100%|█| 48/48 [00:01<00:00, 32.69it/s, v_num=25, train_loss=1.530, train_accuracy=0.375, val_loss=1.490, val_accuracy=\n",
      "Validation: |                                                                                             | 0/? [00:00<?, ?it/s]\u001b[A\n",
      "Validation:   0%|                                                                                        | 0/12 [00:00<?, ?it/s]\u001b[A\n",
      "Validation DataLoader 0:   0%|                                                                           | 0/12 [00:00<?, ?it/s]\u001b[A\n",
      "Validation DataLoader 0:   8%|█████▌                                                            | 1/12 [00:00<00:00, 117.93it/s]\u001b[A\n",
      "Validation DataLoader 0:  17%|███████████                                                       | 2/12 [00:00<00:00, 127.93it/s]\u001b[A\n",
      "Validation DataLoader 0:  25%|████████████████▌                                                 | 3/12 [00:00<00:00, 115.62it/s]\u001b[A\n",
      "Validation DataLoader 0:  33%|██████████████████████                                            | 4/12 [00:00<00:00, 123.60it/s]\u001b[A\n",
      "Validation DataLoader 0:  42%|███████████████████████████▌                                      | 5/12 [00:00<00:00, 128.97it/s]\u001b[A\n",
      "Validation DataLoader 0:  50%|█████████████████████████████████                                 | 6/12 [00:00<00:00, 129.43it/s]\u001b[A\n",
      "Validation DataLoader 0:  58%|██████████████████████████████████████▌                           | 7/12 [00:00<00:00, 132.20it/s]\u001b[A\n",
      "Validation DataLoader 0:  67%|████████████████████████████████████████████                      | 8/12 [00:00<00:00, 135.55it/s]\u001b[A\n",
      "Validation DataLoader 0:  75%|█████████████████████████████████████████████████▌                | 9/12 [00:00<00:00, 137.75it/s]\u001b[A\n",
      "Validation DataLoader 0:  83%|██████████████████████████████████████████████████████▏          | 10/12 [00:00<00:00, 139.53it/s]\u001b[A\n",
      "Validation DataLoader 0:  92%|███████████████████████████████████████████████████████████▌     | 11/12 [00:00<00:00, 140.66it/s]\u001b[A\n",
      "Validation DataLoader 0: 100%|█████████████████████████████████████████████████████████████████| 12/12 [00:00<00:00, 141.90it/s]\u001b[A\n",
      "Epoch 28: 100%|█| 48/48 [00:02<00:00, 22.66it/s, v_num=25, train_loss=1.530, train_accuracy=0.375, val_loss=1.510, val_accuracy=\u001b[A"
     ]
    },
    {
     "name": "stderr",
     "output_type": "stream",
     "text": [
      "Epoch 28, global step 1392: 'val_loss' was not in top 1\n"
     ]
    },
    {
     "name": "stdout",
     "output_type": "stream",
     "text": [
      "Epoch 29: 100%|█| 48/48 [00:01<00:00, 32.89it/s, v_num=25, train_loss=1.370, train_accuracy=0.500, val_loss=1.510, val_accuracy=\n",
      "Validation: |                                                                                             | 0/? [00:00<?, ?it/s]\u001b[A\n",
      "Validation:   0%|                                                                                        | 0/12 [00:00<?, ?it/s]\u001b[A\n",
      "Validation DataLoader 0:   0%|                                                                           | 0/12 [00:00<?, ?it/s]\u001b[A\n",
      "Validation DataLoader 0:   8%|█████▌                                                            | 1/12 [00:00<00:00, 110.48it/s]\u001b[A\n",
      "Validation DataLoader 0:  17%|███████████                                                       | 2/12 [00:00<00:00, 123.97it/s]\u001b[A\n",
      "Validation DataLoader 0:  25%|████████████████▌                                                 | 3/12 [00:00<00:00, 126.39it/s]\u001b[A\n",
      "Validation DataLoader 0:  33%|██████████████████████                                            | 4/12 [00:00<00:00, 132.26it/s]\u001b[A\n",
      "Validation DataLoader 0:  42%|███████████████████████████▌                                      | 5/12 [00:00<00:00, 136.86it/s]\u001b[A\n",
      "Validation DataLoader 0:  50%|█████████████████████████████████                                 | 6/12 [00:00<00:00, 133.44it/s]\u001b[A\n",
      "Validation DataLoader 0:  58%|██████████████████████████████████████▌                           | 7/12 [00:00<00:00, 134.65it/s]\u001b[A\n",
      "Validation DataLoader 0:  67%|████████████████████████████████████████████                      | 8/12 [00:00<00:00, 137.87it/s]\u001b[A\n",
      "Validation DataLoader 0:  75%|█████████████████████████████████████████████████▌                | 9/12 [00:00<00:00, 139.51it/s]\u001b[A\n",
      "Validation DataLoader 0:  83%|██████████████████████████████████████████████████████▏          | 10/12 [00:00<00:00, 140.51it/s]\u001b[A\n",
      "Validation DataLoader 0:  92%|███████████████████████████████████████████████████████████▌     | 11/12 [00:00<00:00, 141.82it/s]\u001b[A\n",
      "Validation DataLoader 0: 100%|█████████████████████████████████████████████████████████████████| 12/12 [00:00<00:00, 143.30it/s]\u001b[A\n",
      "Epoch 29: 100%|█| 48/48 [00:02<00:00, 22.88it/s, v_num=25, train_loss=1.370, train_accuracy=0.500, val_loss=1.490, val_accuracy=\u001b[A"
     ]
    },
    {
     "name": "stderr",
     "output_type": "stream",
     "text": [
      "Epoch 29, global step 1440: 'val_loss' was not in top 1\n"
     ]
    },
    {
     "name": "stdout",
     "output_type": "stream",
     "text": [
      "Epoch 30: 100%|█| 48/48 [00:01<00:00, 33.23it/s, v_num=25, train_loss=1.360, train_accuracy=0.525, val_loss=1.490, val_accuracy=\n",
      "Validation: |                                                                                             | 0/? [00:00<?, ?it/s]\u001b[A\n",
      "Validation:   0%|                                                                                        | 0/12 [00:00<?, ?it/s]\u001b[A\n",
      "Validation DataLoader 0:   0%|                                                                           | 0/12 [00:00<?, ?it/s]\u001b[A\n",
      "Validation DataLoader 0:   8%|█████▌                                                            | 1/12 [00:00<00:00, 124.93it/s]\u001b[A\n",
      "Validation DataLoader 0:  17%|███████████                                                       | 2/12 [00:00<00:00, 139.42it/s]\u001b[A\n",
      "Validation DataLoader 0:  25%|████████████████▌                                                 | 3/12 [00:00<00:00, 137.68it/s]\u001b[A\n",
      "Validation DataLoader 0:  33%|██████████████████████                                            | 4/12 [00:00<00:00, 140.70it/s]\u001b[A\n",
      "Validation DataLoader 0:  42%|███████████████████████████▌                                      | 5/12 [00:00<00:00, 141.77it/s]\u001b[A\n",
      "Validation DataLoader 0:  50%|█████████████████████████████████                                 | 6/12 [00:00<00:00, 141.63it/s]\u001b[A\n",
      "Validation DataLoader 0:  58%|██████████████████████████████████████▌                           | 7/12 [00:00<00:00, 132.89it/s]\u001b[A\n",
      "Validation DataLoader 0:  67%|████████████████████████████████████████████                      | 8/12 [00:00<00:00, 134.87it/s]\u001b[A\n",
      "Validation DataLoader 0:  75%|█████████████████████████████████████████████████▌                | 9/12 [00:00<00:00, 137.79it/s]\u001b[A\n",
      "Validation DataLoader 0:  83%|██████████████████████████████████████████████████████▏          | 10/12 [00:00<00:00, 138.85it/s]\u001b[A\n",
      "Validation DataLoader 0:  92%|███████████████████████████████████████████████████████████▌     | 11/12 [00:00<00:00, 140.58it/s]\u001b[A\n",
      "Validation DataLoader 0: 100%|█████████████████████████████████████████████████████████████████| 12/12 [00:00<00:00, 142.10it/s]\u001b[A\n",
      "Epoch 30: 100%|█| 48/48 [00:02<00:00, 22.79it/s, v_num=25, train_loss=1.360, train_accuracy=0.525, val_loss=1.550, val_accuracy=\u001b[A"
     ]
    },
    {
     "name": "stderr",
     "output_type": "stream",
     "text": [
      "Epoch 30, global step 1488: 'val_loss' was not in top 1\n"
     ]
    },
    {
     "name": "stdout",
     "output_type": "stream",
     "text": [
      "Epoch 31: 100%|█| 48/48 [00:01<00:00, 32.67it/s, v_num=25, train_loss=1.460, train_accuracy=0.475, val_loss=1.550, val_accuracy=\n",
      "Validation: |                                                                                             | 0/? [00:00<?, ?it/s]\u001b[A\n",
      "Validation:   0%|                                                                                        | 0/12 [00:00<?, ?it/s]\u001b[A\n",
      "Validation DataLoader 0:   0%|                                                                           | 0/12 [00:00<?, ?it/s]\u001b[A\n",
      "Validation DataLoader 0:   8%|█████▌                                                            | 1/12 [00:00<00:00, 120.61it/s]\u001b[A\n",
      "Validation DataLoader 0:  17%|███████████                                                       | 2/12 [00:00<00:00, 127.19it/s]\u001b[A\n",
      "Validation DataLoader 0:  25%|████████████████▌                                                 | 3/12 [00:00<00:00, 132.74it/s]\u001b[A\n",
      "Validation DataLoader 0:  33%|██████████████████████                                            | 4/12 [00:00<00:00, 136.00it/s]\u001b[A\n",
      "Validation DataLoader 0:  42%|███████████████████████████▌                                      | 5/12 [00:00<00:00, 138.49it/s]\u001b[A\n",
      "Validation DataLoader 0:  50%|█████████████████████████████████                                 | 6/12 [00:00<00:00, 141.95it/s]\u001b[A\n",
      "Validation DataLoader 0:  58%|██████████████████████████████████████▌                           | 7/12 [00:00<00:00, 141.00it/s]\u001b[A\n",
      "Validation DataLoader 0:  67%|████████████████████████████████████████████                      | 8/12 [00:00<00:00, 140.96it/s]\u001b[A\n",
      "Validation DataLoader 0:  75%|█████████████████████████████████████████████████▌                | 9/12 [00:00<00:00, 139.85it/s]\u001b[A\n",
      "Validation DataLoader 0:  83%|██████████████████████████████████████████████████████▏          | 10/12 [00:00<00:00, 141.83it/s]\u001b[A\n",
      "Validation DataLoader 0:  92%|███████████████████████████████████████████████████████████▌     | 11/12 [00:00<00:00, 142.18it/s]\u001b[A\n",
      "Validation DataLoader 0: 100%|█████████████████████████████████████████████████████████████████| 12/12 [00:00<00:00, 142.42it/s]\u001b[A\n",
      "Epoch 31: 100%|█| 48/48 [00:02<00:00, 22.75it/s, v_num=25, train_loss=1.460, train_accuracy=0.475, val_loss=1.450, val_accuracy=\u001b[A"
     ]
    },
    {
     "name": "stderr",
     "output_type": "stream",
     "text": [
      "Epoch 31, global step 1536: 'val_loss' reached 1.45098 (best 1.45098), saving model to '/home/till/Desktop/ds4w-user-identification/checkpoints/best-checkpoint-v24.ckpt' as top 1\n"
     ]
    },
    {
     "name": "stdout",
     "output_type": "stream",
     "text": [
      "Epoch 32: 100%|█| 48/48 [00:01<00:00, 32.80it/s, v_num=25, train_loss=1.220, train_accuracy=0.550, val_loss=1.450, val_accuracy=\n",
      "Validation: |                                                                                             | 0/? [00:00<?, ?it/s]\u001b[A\n",
      "Validation:   0%|                                                                                        | 0/12 [00:00<?, ?it/s]\u001b[A\n",
      "Validation DataLoader 0:   0%|                                                                           | 0/12 [00:00<?, ?it/s]\u001b[A\n",
      "Validation DataLoader 0:   8%|█████▌                                                            | 1/12 [00:00<00:00, 108.89it/s]\u001b[A\n",
      "Validation DataLoader 0:  17%|███████████                                                       | 2/12 [00:00<00:00, 111.00it/s]\u001b[A\n",
      "Validation DataLoader 0:  25%|████████████████▌                                                 | 3/12 [00:00<00:00, 115.88it/s]\u001b[A\n",
      "Validation DataLoader 0:  33%|██████████████████████                                            | 4/12 [00:00<00:00, 120.62it/s]\u001b[A\n",
      "Validation DataLoader 0:  42%|███████████████████████████▌                                      | 5/12 [00:00<00:00, 124.96it/s]\u001b[A\n",
      "Validation DataLoader 0:  50%|█████████████████████████████████                                 | 6/12 [00:00<00:00, 128.22it/s]\u001b[A\n",
      "Validation DataLoader 0:  58%|██████████████████████████████████████▌                           | 7/12 [00:00<00:00, 129.18it/s]\u001b[A\n",
      "Validation DataLoader 0:  67%|████████████████████████████████████████████                      | 8/12 [00:00<00:00, 130.62it/s]\u001b[A\n",
      "Validation DataLoader 0:  75%|█████████████████████████████████████████████████▌                | 9/12 [00:00<00:00, 133.05it/s]\u001b[A\n",
      "Validation DataLoader 0:  83%|██████████████████████████████████████████████████████▏          | 10/12 [00:00<00:00, 132.26it/s]\u001b[A\n",
      "Validation DataLoader 0:  92%|███████████████████████████████████████████████████████████▌     | 11/12 [00:00<00:00, 133.50it/s]\u001b[A\n",
      "Validation DataLoader 0: 100%|█████████████████████████████████████████████████████████████████| 12/12 [00:00<00:00, 134.98it/s]\u001b[A\n",
      "Epoch 32: 100%|█| 48/48 [00:02<00:00, 22.63it/s, v_num=25, train_loss=1.220, train_accuracy=0.550, val_loss=1.380, val_accuracy=\u001b[A"
     ]
    },
    {
     "name": "stderr",
     "output_type": "stream",
     "text": [
      "Epoch 32, global step 1584: 'val_loss' reached 1.37662 (best 1.37662), saving model to '/home/till/Desktop/ds4w-user-identification/checkpoints/best-checkpoint-v24.ckpt' as top 1\n"
     ]
    },
    {
     "name": "stdout",
     "output_type": "stream",
     "text": [
      "Epoch 33: 100%|█| 48/48 [00:01<00:00, 33.18it/s, v_num=25, train_loss=1.400, train_accuracy=0.525, val_loss=1.380, val_accuracy=\n",
      "Validation: |                                                                                             | 0/? [00:00<?, ?it/s]\u001b[A\n",
      "Validation:   0%|                                                                                        | 0/12 [00:00<?, ?it/s]\u001b[A\n",
      "Validation DataLoader 0:   0%|                                                                           | 0/12 [00:00<?, ?it/s]\u001b[A\n",
      "Validation DataLoader 0:   8%|█████▌                                                            | 1/12 [00:00<00:00, 128.15it/s]\u001b[A\n",
      "Validation DataLoader 0:  17%|███████████                                                       | 2/12 [00:00<00:00, 124.41it/s]\u001b[A\n",
      "Validation DataLoader 0:  25%|████████████████▌                                                 | 3/12 [00:00<00:00, 134.33it/s]\u001b[A\n",
      "Validation DataLoader 0:  33%|██████████████████████                                            | 4/12 [00:00<00:00, 140.93it/s]\u001b[A\n",
      "Validation DataLoader 0:  42%|███████████████████████████▌                                      | 5/12 [00:00<00:00, 134.18it/s]\u001b[A\n",
      "Validation DataLoader 0:  50%|█████████████████████████████████                                 | 6/12 [00:00<00:00, 137.84it/s]\u001b[A\n",
      "Validation DataLoader 0:  58%|██████████████████████████████████████▌                           | 7/12 [00:00<00:00, 136.16it/s]\u001b[A\n",
      "Validation DataLoader 0:  67%|████████████████████████████████████████████                      | 8/12 [00:00<00:00, 138.76it/s]\u001b[A\n",
      "Validation DataLoader 0:  75%|█████████████████████████████████████████████████▌                | 9/12 [00:00<00:00, 140.03it/s]\u001b[A\n",
      "Validation DataLoader 0:  83%|██████████████████████████████████████████████████████▏          | 10/12 [00:00<00:00, 141.38it/s]\u001b[A\n",
      "Validation DataLoader 0:  92%|███████████████████████████████████████████████████████████▌     | 11/12 [00:00<00:00, 140.92it/s]\u001b[A\n",
      "Validation DataLoader 0: 100%|█████████████████████████████████████████████████████████████████| 12/12 [00:00<00:00, 141.41it/s]\u001b[A\n",
      "Epoch 33: 100%|█| 48/48 [00:02<00:00, 22.86it/s, v_num=25, train_loss=1.400, train_accuracy=0.525, val_loss=1.390, val_accuracy=\u001b[A"
     ]
    },
    {
     "name": "stderr",
     "output_type": "stream",
     "text": [
      "Epoch 33, global step 1632: 'val_loss' was not in top 1\n"
     ]
    },
    {
     "name": "stdout",
     "output_type": "stream",
     "text": [
      "Epoch 34: 100%|█| 48/48 [00:01<00:00, 32.64it/s, v_num=25, train_loss=1.450, train_accuracy=0.400, val_loss=1.390, val_accuracy=\n",
      "Validation: |                                                                                             | 0/? [00:00<?, ?it/s]\u001b[A\n",
      "Validation:   0%|                                                                                        | 0/12 [00:00<?, ?it/s]\u001b[A\n",
      "Validation DataLoader 0:   0%|                                                                           | 0/12 [00:00<?, ?it/s]\u001b[A\n",
      "Validation DataLoader 0:   8%|█████▌                                                            | 1/12 [00:00<00:00, 121.58it/s]\u001b[A\n",
      "Validation DataLoader 0:  17%|███████████                                                       | 2/12 [00:00<00:00, 110.16it/s]\u001b[A\n",
      "Validation DataLoader 0:  25%|████████████████▌                                                 | 3/12 [00:00<00:00, 118.33it/s]\u001b[A\n",
      "Validation DataLoader 0:  33%|██████████████████████                                            | 4/12 [00:00<00:00, 127.10it/s]\u001b[A\n",
      "Validation DataLoader 0:  42%|███████████████████████████▌                                      | 5/12 [00:00<00:00, 130.97it/s]\u001b[A\n",
      "Validation DataLoader 0:  50%|█████████████████████████████████                                 | 6/12 [00:00<00:00, 135.67it/s]\u001b[A\n",
      "Validation DataLoader 0:  58%|██████████████████████████████████████▌                           | 7/12 [00:00<00:00, 136.99it/s]\u001b[A\n",
      "Validation DataLoader 0:  67%|████████████████████████████████████████████                      | 8/12 [00:00<00:00, 138.34it/s]\u001b[A\n",
      "Validation DataLoader 0:  75%|█████████████████████████████████████████████████▌                | 9/12 [00:00<00:00, 141.03it/s]\u001b[A\n",
      "Validation DataLoader 0:  83%|██████████████████████████████████████████████████████▏          | 10/12 [00:00<00:00, 142.33it/s]\u001b[A\n",
      "Validation DataLoader 0:  92%|███████████████████████████████████████████████████████████▌     | 11/12 [00:00<00:00, 141.92it/s]\u001b[A\n",
      "Validation DataLoader 0: 100%|█████████████████████████████████████████████████████████████████| 12/12 [00:00<00:00, 143.27it/s]\u001b[A\n",
      "Epoch 34: 100%|█| 48/48 [00:02<00:00, 22.60it/s, v_num=25, train_loss=1.450, train_accuracy=0.400, val_loss=1.390, val_accuracy=\u001b[A"
     ]
    },
    {
     "name": "stderr",
     "output_type": "stream",
     "text": [
      "Epoch 34, global step 1680: 'val_loss' was not in top 1\n"
     ]
    },
    {
     "name": "stdout",
     "output_type": "stream",
     "text": [
      "Epoch 35: 100%|█| 48/48 [00:01<00:00, 33.40it/s, v_num=25, train_loss=1.190, train_accuracy=0.575, val_loss=1.390, val_accuracy=\n",
      "Validation: |                                                                                             | 0/? [00:00<?, ?it/s]\u001b[A\n",
      "Validation:   0%|                                                                                        | 0/12 [00:00<?, ?it/s]\u001b[A\n",
      "Validation DataLoader 0:   0%|                                                                           | 0/12 [00:00<?, ?it/s]\u001b[A\n",
      "Validation DataLoader 0:   8%|█████▌                                                            | 1/12 [00:00<00:00, 125.68it/s]\u001b[A\n",
      "Validation DataLoader 0:  17%|███████████                                                       | 2/12 [00:00<00:00, 137.40it/s]\u001b[A\n",
      "Validation DataLoader 0:  25%|████████████████▌                                                 | 3/12 [00:00<00:00, 144.05it/s]\u001b[A\n",
      "Validation DataLoader 0:  33%|██████████████████████                                            | 4/12 [00:00<00:00, 145.45it/s]\u001b[A\n",
      "Validation DataLoader 0:  42%|███████████████████████████▌                                      | 5/12 [00:00<00:00, 145.05it/s]\u001b[A\n",
      "Validation DataLoader 0:  50%|█████████████████████████████████                                 | 6/12 [00:00<00:00, 143.83it/s]\u001b[A\n",
      "Validation DataLoader 0:  58%|██████████████████████████████████████▌                           | 7/12 [00:00<00:00, 142.92it/s]\u001b[A\n",
      "Validation DataLoader 0:  67%|████████████████████████████████████████████                      | 8/12 [00:00<00:00, 143.62it/s]\u001b[A\n",
      "Validation DataLoader 0:  75%|█████████████████████████████████████████████████▌                | 9/12 [00:00<00:00, 142.88it/s]\u001b[A\n",
      "Validation DataLoader 0:  83%|██████████████████████████████████████████████████████▏          | 10/12 [00:00<00:00, 141.94it/s]\u001b[A\n",
      "Validation DataLoader 0:  92%|███████████████████████████████████████████████████████████▌     | 11/12 [00:00<00:00, 142.53it/s]\u001b[A\n",
      "Validation DataLoader 0: 100%|█████████████████████████████████████████████████████████████████| 12/12 [00:00<00:00, 142.87it/s]\u001b[A\n",
      "Epoch 35: 100%|█| 48/48 [00:02<00:00, 23.28it/s, v_num=25, train_loss=1.190, train_accuracy=0.575, val_loss=1.420, val_accuracy=\u001b[A"
     ]
    },
    {
     "name": "stderr",
     "output_type": "stream",
     "text": [
      "Epoch 35, global step 1728: 'val_loss' was not in top 1\n"
     ]
    },
    {
     "name": "stdout",
     "output_type": "stream",
     "text": [
      "Epoch 36: 100%|█| 48/48 [00:01<00:00, 32.86it/s, v_num=25, train_loss=1.210, train_accuracy=0.600, val_loss=1.420, val_accuracy=\n",
      "Validation: |                                                                                             | 0/? [00:00<?, ?it/s]\u001b[A\n",
      "Validation:   0%|                                                                                        | 0/12 [00:00<?, ?it/s]\u001b[A\n",
      "Validation DataLoader 0:   0%|                                                                           | 0/12 [00:00<?, ?it/s]\u001b[A\n",
      "Validation DataLoader 0:   8%|█████▌                                                            | 1/12 [00:00<00:00, 126.71it/s]\u001b[A\n",
      "Validation DataLoader 0:  17%|███████████                                                       | 2/12 [00:00<00:00, 132.04it/s]\u001b[A\n",
      "Validation DataLoader 0:  25%|████████████████▌                                                 | 3/12 [00:00<00:00, 133.19it/s]\u001b[A\n",
      "Validation DataLoader 0:  33%|██████████████████████                                            | 4/12 [00:00<00:00, 133.46it/s]\u001b[A\n",
      "Validation DataLoader 0:  42%|███████████████████████████▌                                      | 5/12 [00:00<00:00, 135.16it/s]\u001b[A\n",
      "Validation DataLoader 0:  50%|█████████████████████████████████                                 | 6/12 [00:00<00:00, 136.55it/s]\u001b[A\n",
      "Validation DataLoader 0:  58%|██████████████████████████████████████▌                           | 7/12 [00:00<00:00, 137.53it/s]\u001b[A\n",
      "Validation DataLoader 0:  67%|████████████████████████████████████████████                      | 8/12 [00:00<00:00, 139.16it/s]\u001b[A\n",
      "Validation DataLoader 0:  75%|█████████████████████████████████████████████████▌                | 9/12 [00:00<00:00, 139.33it/s]\u001b[A\n",
      "Validation DataLoader 0:  83%|██████████████████████████████████████████████████████▏          | 10/12 [00:00<00:00, 138.33it/s]\u001b[A\n",
      "Validation DataLoader 0:  92%|███████████████████████████████████████████████████████████▌     | 11/12 [00:00<00:00, 139.24it/s]\u001b[A\n",
      "Validation DataLoader 0: 100%|█████████████████████████████████████████████████████████████████| 12/12 [00:00<00:00, 140.67it/s]\u001b[A\n",
      "Epoch 36: 100%|█| 48/48 [00:02<00:00, 22.69it/s, v_num=25, train_loss=1.210, train_accuracy=0.600, val_loss=1.390, val_accuracy=\u001b[A"
     ]
    },
    {
     "name": "stderr",
     "output_type": "stream",
     "text": [
      "Epoch 36, global step 1776: 'val_loss' was not in top 1\n"
     ]
    },
    {
     "name": "stdout",
     "output_type": "stream",
     "text": [
      "Epoch 37: 100%|█| 48/48 [00:01<00:00, 32.60it/s, v_num=25, train_loss=1.350, train_accuracy=0.525, val_loss=1.390, val_accuracy=\n",
      "Validation: |                                                                                             | 0/? [00:00<?, ?it/s]\u001b[A\n",
      "Validation:   0%|                                                                                        | 0/12 [00:00<?, ?it/s]\u001b[A\n",
      "Validation DataLoader 0:   0%|                                                                           | 0/12 [00:00<?, ?it/s]\u001b[A\n",
      "Validation DataLoader 0:   8%|█████▌                                                            | 1/12 [00:00<00:00, 131.66it/s]\u001b[A\n",
      "Validation DataLoader 0:  17%|███████████                                                       | 2/12 [00:00<00:00, 135.35it/s]\u001b[A\n",
      "Validation DataLoader 0:  25%|████████████████▌                                                 | 3/12 [00:00<00:00, 142.90it/s]\u001b[A\n",
      "Validation DataLoader 0:  33%|██████████████████████                                            | 4/12 [00:00<00:00, 147.30it/s]\u001b[A\n",
      "Validation DataLoader 0:  42%|███████████████████████████▌                                      | 5/12 [00:00<00:00, 147.79it/s]\u001b[A\n",
      "Validation DataLoader 0:  50%|█████████████████████████████████                                 | 6/12 [00:00<00:00, 150.39it/s]\u001b[A\n",
      "Validation DataLoader 0:  58%|██████████████████████████████████████▌                           | 7/12 [00:00<00:00, 150.79it/s]\u001b[A\n",
      "Validation DataLoader 0:  67%|████████████████████████████████████████████                      | 8/12 [00:00<00:00, 152.13it/s]\u001b[A\n",
      "Validation DataLoader 0:  75%|█████████████████████████████████████████████████▌                | 9/12 [00:00<00:00, 153.46it/s]\u001b[A\n",
      "Validation DataLoader 0:  83%|██████████████████████████████████████████████████████▏          | 10/12 [00:00<00:00, 152.34it/s]\u001b[A\n",
      "Validation DataLoader 0:  92%|███████████████████████████████████████████████████████████▌     | 11/12 [00:00<00:00, 153.20it/s]\u001b[A\n",
      "Validation DataLoader 0: 100%|█████████████████████████████████████████████████████████████████| 12/12 [00:00<00:00, 153.23it/s]\u001b[A\n",
      "Epoch 37: 100%|█| 48/48 [00:02<00:00, 22.60it/s, v_num=25, train_loss=1.350, train_accuracy=0.525, val_loss=1.350, val_accuracy=\u001b[A"
     ]
    },
    {
     "name": "stderr",
     "output_type": "stream",
     "text": [
      "Epoch 37, global step 1824: 'val_loss' reached 1.35436 (best 1.35436), saving model to '/home/till/Desktop/ds4w-user-identification/checkpoints/best-checkpoint-v24.ckpt' as top 1\n"
     ]
    },
    {
     "name": "stdout",
     "output_type": "stream",
     "text": [
      "Epoch 38: 100%|█| 48/48 [00:01<00:00, 32.83it/s, v_num=25, train_loss=1.150, train_accuracy=0.525, val_loss=1.350, val_accuracy=\n",
      "Validation: |                                                                                             | 0/? [00:00<?, ?it/s]\u001b[A\n",
      "Validation:   0%|                                                                                        | 0/12 [00:00<?, ?it/s]\u001b[A\n",
      "Validation DataLoader 0:   0%|                                                                           | 0/12 [00:00<?, ?it/s]\u001b[A\n",
      "Validation DataLoader 0:   8%|█████▌                                                            | 1/12 [00:00<00:00, 125.25it/s]\u001b[A\n",
      "Validation DataLoader 0:  17%|███████████                                                       | 2/12 [00:00<00:00, 137.87it/s]\u001b[A\n",
      "Validation DataLoader 0:  25%|████████████████▌                                                 | 3/12 [00:00<00:00, 140.02it/s]\u001b[A\n",
      "Validation DataLoader 0:  33%|██████████████████████                                            | 4/12 [00:00<00:00, 139.46it/s]\u001b[A\n",
      "Validation DataLoader 0:  42%|███████████████████████████▌                                      | 5/12 [00:00<00:00, 133.61it/s]\u001b[A\n",
      "Validation DataLoader 0:  50%|█████████████████████████████████                                 | 6/12 [00:00<00:00, 135.76it/s]\u001b[A\n",
      "Validation DataLoader 0:  58%|██████████████████████████████████████▌                           | 7/12 [00:00<00:00, 136.59it/s]\u001b[A\n",
      "Validation DataLoader 0:  67%|████████████████████████████████████████████                      | 8/12 [00:00<00:00, 137.98it/s]\u001b[A\n",
      "Validation DataLoader 0:  75%|█████████████████████████████████████████████████▌                | 9/12 [00:00<00:00, 140.51it/s]\u001b[A\n",
      "Validation DataLoader 0:  83%|██████████████████████████████████████████████████████▏          | 10/12 [00:00<00:00, 140.80it/s]\u001b[A\n",
      "Validation DataLoader 0:  92%|███████████████████████████████████████████████████████████▌     | 11/12 [00:00<00:00, 140.21it/s]\u001b[A\n",
      "Validation DataLoader 0: 100%|█████████████████████████████████████████████████████████████████| 12/12 [00:00<00:00, 141.50it/s]\u001b[A\n",
      "Epoch 38: 100%|█| 48/48 [00:02<00:00, 22.24it/s, v_num=25, train_loss=1.150, train_accuracy=0.525, val_loss=1.460, val_accuracy=\u001b[A"
     ]
    },
    {
     "name": "stderr",
     "output_type": "stream",
     "text": [
      "Epoch 38, global step 1872: 'val_loss' was not in top 1\n"
     ]
    },
    {
     "name": "stdout",
     "output_type": "stream",
     "text": [
      "Epoch 39: 100%|█| 48/48 [00:01<00:00, 32.43it/s, v_num=25, train_loss=1.290, train_accuracy=0.475, val_loss=1.460, val_accuracy=\n",
      "Validation: |                                                                                             | 0/? [00:00<?, ?it/s]\u001b[A\n",
      "Validation:   0%|                                                                                        | 0/12 [00:00<?, ?it/s]\u001b[A\n",
      "Validation DataLoader 0:   0%|                                                                           | 0/12 [00:00<?, ?it/s]\u001b[A\n",
      "Validation DataLoader 0:   8%|█████▌                                                            | 1/12 [00:00<00:00, 104.14it/s]\u001b[A\n",
      "Validation DataLoader 0:  17%|███████████                                                       | 2/12 [00:00<00:00, 113.29it/s]\u001b[A\n",
      "Validation DataLoader 0:  25%|████████████████▌                                                 | 3/12 [00:00<00:00, 112.67it/s]\u001b[A\n",
      "Validation DataLoader 0:  33%|██████████████████████                                            | 4/12 [00:00<00:00, 118.93it/s]\u001b[A\n",
      "Validation DataLoader 0:  42%|███████████████████████████▌                                      | 5/12 [00:00<00:00, 124.91it/s]\u001b[A\n",
      "Validation DataLoader 0:  50%|█████████████████████████████████                                 | 6/12 [00:00<00:00, 128.37it/s]\u001b[A\n",
      "Validation DataLoader 0:  58%|██████████████████████████████████████▌                           | 7/12 [00:00<00:00, 130.75it/s]\u001b[A\n",
      "Validation DataLoader 0:  67%|████████████████████████████████████████████                      | 8/12 [00:00<00:00, 134.03it/s]\u001b[A\n",
      "Validation DataLoader 0:  75%|█████████████████████████████████████████████████▌                | 9/12 [00:00<00:00, 134.16it/s]\u001b[A\n",
      "Validation DataLoader 0:  83%|██████████████████████████████████████████████████████▏          | 10/12 [00:00<00:00, 133.18it/s]\u001b[A\n",
      "Validation DataLoader 0:  92%|███████████████████████████████████████████████████████████▌     | 11/12 [00:00<00:00, 135.74it/s]\u001b[A\n",
      "Validation DataLoader 0: 100%|█████████████████████████████████████████████████████████████████| 12/12 [00:00<00:00, 136.94it/s]\u001b[A\n",
      "Epoch 39: 100%|█| 48/48 [00:02<00:00, 22.78it/s, v_num=25, train_loss=1.290, train_accuracy=0.475, val_loss=1.320, val_accuracy=\u001b[A"
     ]
    },
    {
     "name": "stderr",
     "output_type": "stream",
     "text": [
      "Epoch 39, global step 1920: 'val_loss' reached 1.31526 (best 1.31526), saving model to '/home/till/Desktop/ds4w-user-identification/checkpoints/best-checkpoint-v24.ckpt' as top 1\n"
     ]
    },
    {
     "name": "stdout",
     "output_type": "stream",
     "text": [
      "Epoch 40: 100%|█| 48/48 [00:01<00:00, 33.30it/s, v_num=25, train_loss=1.260, train_accuracy=0.550, val_loss=1.320, val_accuracy=\n",
      "Validation: |                                                                                             | 0/? [00:00<?, ?it/s]\u001b[A\n",
      "Validation:   0%|                                                                                        | 0/12 [00:00<?, ?it/s]\u001b[A\n",
      "Validation DataLoader 0:   0%|                                                                           | 0/12 [00:00<?, ?it/s]\u001b[A\n",
      "Validation DataLoader 0:   8%|█████▌                                                            | 1/12 [00:00<00:00, 128.38it/s]\u001b[A\n",
      "Validation DataLoader 0:  17%|███████████                                                       | 2/12 [00:00<00:00, 129.94it/s]\u001b[A\n",
      "Validation DataLoader 0:  25%|████████████████▌                                                 | 3/12 [00:00<00:00, 133.02it/s]\u001b[A\n",
      "Validation DataLoader 0:  33%|██████████████████████                                            | 4/12 [00:00<00:00, 139.04it/s]\u001b[A\n",
      "Validation DataLoader 0:  42%|███████████████████████████▌                                      | 5/12 [00:00<00:00, 137.83it/s]\u001b[A\n",
      "Validation DataLoader 0:  50%|█████████████████████████████████                                 | 6/12 [00:00<00:00, 130.61it/s]\u001b[A\n",
      "Validation DataLoader 0:  58%|██████████████████████████████████████▌                           | 7/12 [00:00<00:00, 129.47it/s]\u001b[A\n",
      "Validation DataLoader 0:  67%|████████████████████████████████████████████                      | 8/12 [00:00<00:00, 128.77it/s]\u001b[A\n",
      "Validation DataLoader 0:  75%|█████████████████████████████████████████████████▌                | 9/12 [00:00<00:00, 129.59it/s]\u001b[A\n",
      "Validation DataLoader 0:  83%|██████████████████████████████████████████████████████▏          | 10/12 [00:00<00:00, 130.25it/s]\u001b[A\n",
      "Validation DataLoader 0:  92%|███████████████████████████████████████████████████████████▌     | 11/12 [00:00<00:00, 131.32it/s]\u001b[A\n",
      "Validation DataLoader 0: 100%|█████████████████████████████████████████████████████████████████| 12/12 [00:00<00:00, 132.15it/s]\u001b[A\n",
      "Epoch 40: 100%|█| 48/48 [00:02<00:00, 22.67it/s, v_num=25, train_loss=1.260, train_accuracy=0.550, val_loss=1.330, val_accuracy=\u001b[A"
     ]
    },
    {
     "name": "stderr",
     "output_type": "stream",
     "text": [
      "Epoch 40, global step 1968: 'val_loss' was not in top 1\n"
     ]
    },
    {
     "name": "stdout",
     "output_type": "stream",
     "text": [
      "Epoch 41: 100%|█| 48/48 [00:01<00:00, 32.94it/s, v_num=25, train_loss=1.330, train_accuracy=0.500, val_loss=1.330, val_accuracy=\n",
      "Validation: |                                                                                             | 0/? [00:00<?, ?it/s]\u001b[A\n",
      "Validation:   0%|                                                                                        | 0/12 [00:00<?, ?it/s]\u001b[A\n",
      "Validation DataLoader 0:   0%|                                                                           | 0/12 [00:00<?, ?it/s]\u001b[A\n",
      "Validation DataLoader 0:   8%|█████▌                                                            | 1/12 [00:00<00:00, 132.98it/s]\u001b[A\n",
      "Validation DataLoader 0:  17%|███████████                                                       | 2/12 [00:00<00:00, 127.78it/s]\u001b[A\n",
      "Validation DataLoader 0:  25%|████████████████▌                                                 | 3/12 [00:00<00:00, 135.18it/s]\u001b[A\n",
      "Validation DataLoader 0:  33%|██████████████████████                                            | 4/12 [00:00<00:00, 135.94it/s]\u001b[A\n",
      "Validation DataLoader 0:  42%|███████████████████████████▌                                      | 5/12 [00:00<00:00, 127.66it/s]\u001b[A\n",
      "Validation DataLoader 0:  50%|█████████████████████████████████                                 | 6/12 [00:00<00:00, 131.28it/s]\u001b[A\n",
      "Validation DataLoader 0:  58%|██████████████████████████████████████▌                           | 7/12 [00:00<00:00, 134.36it/s]\u001b[A\n",
      "Validation DataLoader 0:  67%|████████████████████████████████████████████                      | 8/12 [00:00<00:00, 137.26it/s]\u001b[A\n",
      "Validation DataLoader 0:  75%|█████████████████████████████████████████████████▌                | 9/12 [00:00<00:00, 138.63it/s]\u001b[A\n",
      "Validation DataLoader 0:  83%|██████████████████████████████████████████████████████▏          | 10/12 [00:00<00:00, 140.11it/s]\u001b[A\n",
      "Validation DataLoader 0:  92%|███████████████████████████████████████████████████████████▌     | 11/12 [00:00<00:00, 142.07it/s]\u001b[A\n",
      "Validation DataLoader 0: 100%|█████████████████████████████████████████████████████████████████| 12/12 [00:00<00:00, 142.94it/s]\u001b[A\n",
      "Epoch 41: 100%|█| 48/48 [00:02<00:00, 22.58it/s, v_num=25, train_loss=1.330, train_accuracy=0.500, val_loss=1.380, val_accuracy=\u001b[A"
     ]
    },
    {
     "name": "stderr",
     "output_type": "stream",
     "text": [
      "Epoch 41, global step 2016: 'val_loss' was not in top 1\n"
     ]
    },
    {
     "name": "stdout",
     "output_type": "stream",
     "text": [
      "Epoch 42: 100%|█| 48/48 [00:01<00:00, 32.55it/s, v_num=25, train_loss=1.300, train_accuracy=0.475, val_loss=1.380, val_accuracy=\n",
      "Validation: |                                                                                             | 0/? [00:00<?, ?it/s]\u001b[A\n",
      "Validation:   0%|                                                                                        | 0/12 [00:00<?, ?it/s]\u001b[A\n",
      "Validation DataLoader 0:   0%|                                                                           | 0/12 [00:00<?, ?it/s]\u001b[A\n",
      "Validation DataLoader 0:   8%|█████▌                                                            | 1/12 [00:00<00:00, 112.91it/s]\u001b[A\n",
      "Validation DataLoader 0:  17%|███████████                                                       | 2/12 [00:00<00:00, 118.20it/s]\u001b[A\n",
      "Validation DataLoader 0:  25%|████████████████▌                                                 | 3/12 [00:00<00:00, 123.50it/s]\u001b[A\n",
      "Validation DataLoader 0:  33%|██████████████████████                                            | 4/12 [00:00<00:00, 129.89it/s]\u001b[A\n",
      "Validation DataLoader 0:  42%|███████████████████████████▌                                      | 5/12 [00:00<00:00, 121.80it/s]\u001b[A\n",
      "Validation DataLoader 0:  50%|█████████████████████████████████                                 | 6/12 [00:00<00:00, 126.21it/s]\u001b[A\n",
      "Validation DataLoader 0:  58%|██████████████████████████████████████▌                           | 7/12 [00:00<00:00, 127.52it/s]\u001b[A\n",
      "Validation DataLoader 0:  67%|████████████████████████████████████████████                      | 8/12 [00:00<00:00, 130.15it/s]\u001b[A\n",
      "Validation DataLoader 0:  75%|█████████████████████████████████████████████████▌                | 9/12 [00:00<00:00, 131.60it/s]\u001b[A\n",
      "Validation DataLoader 0:  83%|██████████████████████████████████████████████████████▏          | 10/12 [00:00<00:00, 134.01it/s]\u001b[A\n",
      "Validation DataLoader 0:  92%|███████████████████████████████████████████████████████████▌     | 11/12 [00:00<00:00, 136.45it/s]\u001b[A\n",
      "Validation DataLoader 0: 100%|█████████████████████████████████████████████████████████████████| 12/12 [00:00<00:00, 136.31it/s]\u001b[A\n",
      "Epoch 42: 100%|█| 48/48 [00:02<00:00, 22.89it/s, v_num=25, train_loss=1.300, train_accuracy=0.475, val_loss=1.340, val_accuracy=\u001b[A"
     ]
    },
    {
     "name": "stderr",
     "output_type": "stream",
     "text": [
      "Epoch 42, global step 2064: 'val_loss' was not in top 1\n"
     ]
    },
    {
     "name": "stdout",
     "output_type": "stream",
     "text": [
      "Epoch 43: 100%|█| 48/48 [00:01<00:00, 31.96it/s, v_num=25, train_loss=1.280, train_accuracy=0.525, val_loss=1.340, val_accuracy=\n",
      "Validation: |                                                                                             | 0/? [00:00<?, ?it/s]\u001b[A\n",
      "Validation:   0%|                                                                                        | 0/12 [00:00<?, ?it/s]\u001b[A\n",
      "Validation DataLoader 0:   0%|                                                                           | 0/12 [00:00<?, ?it/s]\u001b[A\n",
      "Validation DataLoader 0:   8%|█████▌                                                            | 1/12 [00:00<00:00, 128.69it/s]\u001b[A\n",
      "Validation DataLoader 0:  17%|███████████                                                       | 2/12 [00:00<00:00, 130.03it/s]\u001b[A\n",
      "Validation DataLoader 0:  25%|████████████████▌                                                 | 3/12 [00:00<00:00, 127.69it/s]\u001b[A\n",
      "Validation DataLoader 0:  33%|██████████████████████                                            | 4/12 [00:00<00:00, 133.36it/s]\u001b[A\n",
      "Validation DataLoader 0:  42%|███████████████████████████▌                                      | 5/12 [00:00<00:00, 137.00it/s]\u001b[A\n",
      "Validation DataLoader 0:  50%|█████████████████████████████████                                 | 6/12 [00:00<00:00, 135.71it/s]\u001b[A\n",
      "Validation DataLoader 0:  58%|██████████████████████████████████████▌                           | 7/12 [00:00<00:00, 137.20it/s]\u001b[A\n",
      "Validation DataLoader 0:  67%|████████████████████████████████████████████                      | 8/12 [00:00<00:00, 138.58it/s]\u001b[A\n",
      "Validation DataLoader 0:  75%|█████████████████████████████████████████████████▌                | 9/12 [00:00<00:00, 139.71it/s]\u001b[A\n",
      "Validation DataLoader 0:  83%|██████████████████████████████████████████████████████▏          | 10/12 [00:00<00:00, 141.16it/s]\u001b[A\n",
      "Validation DataLoader 0:  92%|███████████████████████████████████████████████████████████▌     | 11/12 [00:00<00:00, 141.93it/s]\u001b[A\n",
      "Validation DataLoader 0: 100%|█████████████████████████████████████████████████████████████████| 12/12 [00:00<00:00, 142.32it/s]\u001b[A\n",
      "Epoch 43: 100%|█| 48/48 [00:02<00:00, 22.31it/s, v_num=25, train_loss=1.280, train_accuracy=0.525, val_loss=1.420, val_accuracy=\u001b[A"
     ]
    },
    {
     "name": "stderr",
     "output_type": "stream",
     "text": [
      "Epoch 43, global step 2112: 'val_loss' was not in top 1\n"
     ]
    },
    {
     "name": "stdout",
     "output_type": "stream",
     "text": [
      "Epoch 44: 100%|█| 48/48 [00:01<00:00, 32.45it/s, v_num=25, train_loss=1.430, train_accuracy=0.500, val_loss=1.420, val_accuracy=\n",
      "Validation: |                                                                                             | 0/? [00:00<?, ?it/s]\u001b[A\n",
      "Validation:   0%|                                                                                        | 0/12 [00:00<?, ?it/s]\u001b[A\n",
      "Validation DataLoader 0:   0%|                                                                           | 0/12 [00:00<?, ?it/s]\u001b[A\n",
      "Validation DataLoader 0:   8%|█████▌                                                            | 1/12 [00:00<00:00, 115.68it/s]\u001b[A\n",
      "Validation DataLoader 0:  17%|███████████                                                       | 2/12 [00:00<00:00, 100.90it/s]\u001b[A\n",
      "Validation DataLoader 0:  25%|████████████████▌                                                 | 3/12 [00:00<00:00, 114.08it/s]\u001b[A\n",
      "Validation DataLoader 0:  33%|██████████████████████                                            | 4/12 [00:00<00:00, 120.04it/s]\u001b[A\n",
      "Validation DataLoader 0:  42%|███████████████████████████▌                                      | 5/12 [00:00<00:00, 126.64it/s]\u001b[A\n",
      "Validation DataLoader 0:  50%|█████████████████████████████████                                 | 6/12 [00:00<00:00, 131.36it/s]\u001b[A\n",
      "Validation DataLoader 0:  58%|██████████████████████████████████████▌                           | 7/12 [00:00<00:00, 133.34it/s]\u001b[A\n",
      "Validation DataLoader 0:  67%|████████████████████████████████████████████                      | 8/12 [00:00<00:00, 136.38it/s]\u001b[A\n",
      "Validation DataLoader 0:  75%|█████████████████████████████████████████████████▌                | 9/12 [00:00<00:00, 138.07it/s]\u001b[A\n",
      "Validation DataLoader 0:  83%|██████████████████████████████████████████████████████▏          | 10/12 [00:00<00:00, 139.79it/s]\u001b[A\n",
      "Validation DataLoader 0:  92%|███████████████████████████████████████████████████████████▌     | 11/12 [00:00<00:00, 141.45it/s]\u001b[A\n",
      "Validation DataLoader 0: 100%|█████████████████████████████████████████████████████████████████| 12/12 [00:00<00:00, 141.05it/s]\u001b[A\n",
      "Epoch 44: 100%|█| 48/48 [00:02<00:00, 22.68it/s, v_num=25, train_loss=1.430, train_accuracy=0.500, val_loss=1.280, val_accuracy=\u001b[A"
     ]
    },
    {
     "name": "stderr",
     "output_type": "stream",
     "text": [
      "Epoch 44, global step 2160: 'val_loss' reached 1.28441 (best 1.28441), saving model to '/home/till/Desktop/ds4w-user-identification/checkpoints/best-checkpoint-v24.ckpt' as top 1\n"
     ]
    },
    {
     "name": "stdout",
     "output_type": "stream",
     "text": [
      "Epoch 45: 100%|█| 48/48 [00:01<00:00, 32.81it/s, v_num=25, train_loss=1.270, train_accuracy=0.525, val_loss=1.280, val_accuracy=\n",
      "Validation: |                                                                                             | 0/? [00:00<?, ?it/s]\u001b[A\n",
      "Validation:   0%|                                                                                        | 0/12 [00:00<?, ?it/s]\u001b[A\n",
      "Validation DataLoader 0:   0%|                                                                           | 0/12 [00:00<?, ?it/s]\u001b[A\n",
      "Validation DataLoader 0:   8%|█████▌                                                            | 1/12 [00:00<00:00, 114.42it/s]\u001b[A\n",
      "Validation DataLoader 0:  17%|███████████                                                       | 2/12 [00:00<00:00, 122.04it/s]\u001b[A\n",
      "Validation DataLoader 0:  25%|████████████████▌                                                 | 3/12 [00:00<00:00, 125.93it/s]\u001b[A\n",
      "Validation DataLoader 0:  33%|██████████████████████                                            | 4/12 [00:00<00:00, 117.43it/s]\u001b[A\n",
      "Validation DataLoader 0:  42%|███████████████████████████▌                                      | 5/12 [00:00<00:00, 122.27it/s]\u001b[A\n",
      "Validation DataLoader 0:  50%|█████████████████████████████████                                 | 6/12 [00:00<00:00, 125.82it/s]\u001b[A\n",
      "Validation DataLoader 0:  58%|██████████████████████████████████████▌                           | 7/12 [00:00<00:00, 126.29it/s]\u001b[A\n",
      "Validation DataLoader 0:  67%|████████████████████████████████████████████                      | 8/12 [00:00<00:00, 127.56it/s]\u001b[A\n",
      "Validation DataLoader 0:  75%|█████████████████████████████████████████████████▌                | 9/12 [00:00<00:00, 129.08it/s]\u001b[A\n",
      "Validation DataLoader 0:  83%|██████████████████████████████████████████████████████▏          | 10/12 [00:00<00:00, 131.12it/s]\u001b[A\n",
      "Validation DataLoader 0:  92%|███████████████████████████████████████████████████████████▌     | 11/12 [00:00<00:00, 132.23it/s]\u001b[A\n",
      "Validation DataLoader 0: 100%|█████████████████████████████████████████████████████████████████| 12/12 [00:00<00:00, 133.75it/s]\u001b[A\n",
      "Epoch 45: 100%|█| 48/48 [00:02<00:00, 22.80it/s, v_num=25, train_loss=1.270, train_accuracy=0.525, val_loss=1.250, val_accuracy=\u001b[A"
     ]
    },
    {
     "name": "stderr",
     "output_type": "stream",
     "text": [
      "Epoch 45, global step 2208: 'val_loss' reached 1.25287 (best 1.25287), saving model to '/home/till/Desktop/ds4w-user-identification/checkpoints/best-checkpoint-v24.ckpt' as top 1\n"
     ]
    },
    {
     "name": "stdout",
     "output_type": "stream",
     "text": [
      "Epoch 46: 100%|█| 48/48 [00:01<00:00, 32.72it/s, v_num=25, train_loss=1.430, train_accuracy=0.500, val_loss=1.250, val_accuracy=\n",
      "Validation: |                                                                                             | 0/? [00:00<?, ?it/s]\u001b[A\n",
      "Validation:   0%|                                                                                        | 0/12 [00:00<?, ?it/s]\u001b[A\n",
      "Validation DataLoader 0:   0%|                                                                           | 0/12 [00:00<?, ?it/s]\u001b[A\n",
      "Validation DataLoader 0:   8%|█████▌                                                             | 1/12 [00:00<00:00, 99.00it/s]\u001b[A\n",
      "Validation DataLoader 0:  17%|███████████                                                       | 2/12 [00:00<00:00, 113.79it/s]\u001b[A\n",
      "Validation DataLoader 0:  25%|████████████████▌                                                 | 3/12 [00:00<00:00, 123.74it/s]\u001b[A\n",
      "Validation DataLoader 0:  33%|██████████████████████                                            | 4/12 [00:00<00:00, 131.12it/s]\u001b[A\n",
      "Validation DataLoader 0:  42%|███████████████████████████▌                                      | 5/12 [00:00<00:00, 131.75it/s]\u001b[A\n",
      "Validation DataLoader 0:  50%|█████████████████████████████████                                 | 6/12 [00:00<00:00, 129.78it/s]\u001b[A\n",
      "Validation DataLoader 0:  58%|██████████████████████████████████████▌                           | 7/12 [00:00<00:00, 133.29it/s]\u001b[A\n",
      "Validation DataLoader 0:  67%|████████████████████████████████████████████                      | 8/12 [00:00<00:00, 136.41it/s]\u001b[A\n",
      "Validation DataLoader 0:  75%|█████████████████████████████████████████████████▌                | 9/12 [00:00<00:00, 138.57it/s]\u001b[A\n",
      "Validation DataLoader 0:  83%|██████████████████████████████████████████████████████▏          | 10/12 [00:00<00:00, 140.52it/s]\u001b[A\n",
      "Validation DataLoader 0:  92%|███████████████████████████████████████████████████████████▌     | 11/12 [00:00<00:00, 140.70it/s]\u001b[A\n",
      "Validation DataLoader 0: 100%|█████████████████████████████████████████████████████████████████| 12/12 [00:00<00:00, 142.27it/s]\u001b[A\n",
      "Epoch 46: 100%|█| 48/48 [00:02<00:00, 22.61it/s, v_num=25, train_loss=1.430, train_accuracy=0.500, val_loss=1.240, val_accuracy=\u001b[A"
     ]
    },
    {
     "name": "stderr",
     "output_type": "stream",
     "text": [
      "Epoch 46, global step 2256: 'val_loss' reached 1.24132 (best 1.24132), saving model to '/home/till/Desktop/ds4w-user-identification/checkpoints/best-checkpoint-v24.ckpt' as top 1\n"
     ]
    },
    {
     "name": "stdout",
     "output_type": "stream",
     "text": [
      "Epoch 47: 100%|█| 48/48 [00:01<00:00, 33.36it/s, v_num=25, train_loss=1.270, train_accuracy=0.500, val_loss=1.240, val_accuracy=\n",
      "Validation: |                                                                                             | 0/? [00:00<?, ?it/s]\u001b[A\n",
      "Validation:   0%|                                                                                        | 0/12 [00:00<?, ?it/s]\u001b[A\n",
      "Validation DataLoader 0:   0%|                                                                           | 0/12 [00:00<?, ?it/s]\u001b[A\n",
      "Validation DataLoader 0:   8%|█████▌                                                            | 1/12 [00:00<00:00, 121.50it/s]\u001b[A\n",
      "Validation DataLoader 0:  17%|███████████                                                       | 2/12 [00:00<00:00, 131.20it/s]\u001b[A\n",
      "Validation DataLoader 0:  25%|████████████████▌                                                 | 3/12 [00:00<00:00, 130.47it/s]\u001b[A\n",
      "Validation DataLoader 0:  33%|██████████████████████                                            | 4/12 [00:00<00:00, 137.14it/s]\u001b[A\n",
      "Validation DataLoader 0:  42%|███████████████████████████▌                                      | 5/12 [00:00<00:00, 134.37it/s]\u001b[A\n",
      "Validation DataLoader 0:  50%|█████████████████████████████████                                 | 6/12 [00:00<00:00, 131.06it/s]\u001b[A\n",
      "Validation DataLoader 0:  58%|██████████████████████████████████████▌                           | 7/12 [00:00<00:00, 133.42it/s]\u001b[A\n",
      "Validation DataLoader 0:  67%|████████████████████████████████████████████                      | 8/12 [00:00<00:00, 136.14it/s]\u001b[A\n",
      "Validation DataLoader 0:  75%|█████████████████████████████████████████████████▌                | 9/12 [00:00<00:00, 138.71it/s]\u001b[A\n",
      "Validation DataLoader 0:  83%|██████████████████████████████████████████████████████▏          | 10/12 [00:00<00:00, 137.87it/s]\u001b[A\n",
      "Validation DataLoader 0:  92%|███████████████████████████████████████████████████████████▌     | 11/12 [00:00<00:00, 139.73it/s]\u001b[A\n",
      "Validation DataLoader 0: 100%|█████████████████████████████████████████████████████████████████| 12/12 [00:00<00:00, 140.98it/s]\u001b[A\n",
      "Epoch 47: 100%|█| 48/48 [00:02<00:00, 23.04it/s, v_num=25, train_loss=1.270, train_accuracy=0.500, val_loss=1.270, val_accuracy=\u001b[A"
     ]
    },
    {
     "name": "stderr",
     "output_type": "stream",
     "text": [
      "Epoch 47, global step 2304: 'val_loss' was not in top 1\n"
     ]
    },
    {
     "name": "stdout",
     "output_type": "stream",
     "text": [
      "Epoch 48: 100%|█| 48/48 [00:01<00:00, 32.81it/s, v_num=25, train_loss=1.180, train_accuracy=0.575, val_loss=1.270, val_accuracy=\n",
      "Validation: |                                                                                             | 0/? [00:00<?, ?it/s]\u001b[A\n",
      "Validation:   0%|                                                                                        | 0/12 [00:00<?, ?it/s]\u001b[A\n",
      "Validation DataLoader 0:   0%|                                                                           | 0/12 [00:00<?, ?it/s]\u001b[A\n",
      "Validation DataLoader 0:   8%|█████▌                                                            | 1/12 [00:00<00:00, 124.94it/s]\u001b[A\n",
      "Validation DataLoader 0:  17%|███████████                                                       | 2/12 [00:00<00:00, 131.78it/s]\u001b[A\n",
      "Validation DataLoader 0:  25%|████████████████▌                                                 | 3/12 [00:00<00:00, 126.06it/s]\u001b[A\n",
      "Validation DataLoader 0:  33%|██████████████████████                                            | 4/12 [00:00<00:00, 115.56it/s]\u001b[A\n",
      "Validation DataLoader 0:  42%|███████████████████████████▌                                      | 5/12 [00:00<00:00, 119.74it/s]\u001b[A\n",
      "Validation DataLoader 0:  50%|█████████████████████████████████                                 | 6/12 [00:00<00:00, 122.28it/s]\u001b[A\n",
      "Validation DataLoader 0:  58%|██████████████████████████████████████▌                           | 7/12 [00:00<00:00, 125.26it/s]\u001b[A\n",
      "Validation DataLoader 0:  67%|████████████████████████████████████████████                      | 8/12 [00:00<00:00, 128.73it/s]\u001b[A\n",
      "Validation DataLoader 0:  75%|█████████████████████████████████████████████████▌                | 9/12 [00:00<00:00, 129.87it/s]\u001b[A\n",
      "Validation DataLoader 0:  83%|██████████████████████████████████████████████████████▏          | 10/12 [00:00<00:00, 131.33it/s]\u001b[A\n",
      "Validation DataLoader 0:  92%|███████████████████████████████████████████████████████████▌     | 11/12 [00:00<00:00, 132.78it/s]\u001b[A\n",
      "Validation DataLoader 0: 100%|█████████████████████████████████████████████████████████████████| 12/12 [00:00<00:00, 133.56it/s]\u001b[A\n",
      "Epoch 48: 100%|█| 48/48 [00:02<00:00, 22.65it/s, v_num=25, train_loss=1.180, train_accuracy=0.575, val_loss=1.220, val_accuracy=\u001b[A"
     ]
    },
    {
     "name": "stderr",
     "output_type": "stream",
     "text": [
      "Epoch 48, global step 2352: 'val_loss' reached 1.21992 (best 1.21992), saving model to '/home/till/Desktop/ds4w-user-identification/checkpoints/best-checkpoint-v24.ckpt' as top 1\n"
     ]
    },
    {
     "name": "stdout",
     "output_type": "stream",
     "text": [
      "Epoch 49: 100%|█| 48/48 [00:01<00:00, 32.17it/s, v_num=25, train_loss=1.100, train_accuracy=0.650, val_loss=1.220, val_accuracy=\n",
      "Validation: |                                                                                             | 0/? [00:00<?, ?it/s]\u001b[A\n",
      "Validation:   0%|                                                                                        | 0/12 [00:00<?, ?it/s]\u001b[A\n",
      "Validation DataLoader 0:   0%|                                                                           | 0/12 [00:00<?, ?it/s]\u001b[A\n",
      "Validation DataLoader 0:   8%|█████▌                                                            | 1/12 [00:00<00:00, 107.66it/s]\u001b[A\n",
      "Validation DataLoader 0:  17%|███████████                                                       | 2/12 [00:00<00:00, 121.06it/s]\u001b[A\n",
      "Validation DataLoader 0:  25%|████████████████▌                                                 | 3/12 [00:00<00:00, 129.15it/s]\u001b[A\n",
      "Validation DataLoader 0:  33%|██████████████████████                                            | 4/12 [00:00<00:00, 131.94it/s]\u001b[A\n",
      "Validation DataLoader 0:  42%|███████████████████████████▌                                      | 5/12 [00:00<00:00, 137.03it/s]\u001b[A\n",
      "Validation DataLoader 0:  50%|█████████████████████████████████                                 | 6/12 [00:00<00:00, 132.14it/s]\u001b[A\n",
      "Validation DataLoader 0:  58%|██████████████████████████████████████▌                           | 7/12 [00:00<00:00, 133.39it/s]\u001b[A\n",
      "Validation DataLoader 0:  67%|████████████████████████████████████████████                      | 8/12 [00:00<00:00, 136.11it/s]\u001b[A\n",
      "Validation DataLoader 0:  75%|█████████████████████████████████████████████████▌                | 9/12 [00:00<00:00, 137.90it/s]\u001b[A\n",
      "Validation DataLoader 0:  83%|██████████████████████████████████████████████████████▏          | 10/12 [00:00<00:00, 140.05it/s]\u001b[A\n",
      "Validation DataLoader 0:  92%|███████████████████████████████████████████████████████████▌     | 11/12 [00:00<00:00, 140.79it/s]\u001b[A\n",
      "Validation DataLoader 0: 100%|█████████████████████████████████████████████████████████████████| 12/12 [00:00<00:00, 142.11it/s]\u001b[A\n",
      "Epoch 49: 100%|█| 48/48 [00:02<00:00, 22.33it/s, v_num=25, train_loss=1.100, train_accuracy=0.650, val_loss=1.170, val_accuracy=\u001b[A"
     ]
    },
    {
     "name": "stderr",
     "output_type": "stream",
     "text": [
      "Epoch 49, global step 2400: 'val_loss' reached 1.16901 (best 1.16901), saving model to '/home/till/Desktop/ds4w-user-identification/checkpoints/best-checkpoint-v24.ckpt' as top 1\n"
     ]
    },
    {
     "name": "stdout",
     "output_type": "stream",
     "text": [
      "Epoch 50: 100%|█| 48/48 [00:01<00:00, 32.06it/s, v_num=25, train_loss=1.240, train_accuracy=0.475, val_loss=1.170, val_accuracy=\n",
      "Validation: |                                                                                             | 0/? [00:00<?, ?it/s]\u001b[A\n",
      "Validation:   0%|                                                                                        | 0/12 [00:00<?, ?it/s]\u001b[A\n",
      "Validation DataLoader 0:   0%|                                                                           | 0/12 [00:00<?, ?it/s]\u001b[A\n",
      "Validation DataLoader 0:   8%|█████▌                                                            | 1/12 [00:00<00:00, 110.45it/s]\u001b[A\n",
      "Validation DataLoader 0:  17%|███████████                                                       | 2/12 [00:00<00:00, 122.25it/s]\u001b[A\n",
      "Validation DataLoader 0:  25%|████████████████▌                                                 | 3/12 [00:00<00:00, 110.84it/s]\u001b[A\n",
      "Validation DataLoader 0:  33%|██████████████████████                                            | 4/12 [00:00<00:00, 120.26it/s]\u001b[A\n",
      "Validation DataLoader 0:  42%|███████████████████████████▌                                      | 5/12 [00:00<00:00, 123.56it/s]\u001b[A\n",
      "Validation DataLoader 0:  50%|█████████████████████████████████                                 | 6/12 [00:00<00:00, 128.58it/s]\u001b[A\n",
      "Validation DataLoader 0:  58%|██████████████████████████████████████▌                           | 7/12 [00:00<00:00, 131.14it/s]\u001b[A\n",
      "Validation DataLoader 0:  67%|████████████████████████████████████████████                      | 8/12 [00:00<00:00, 131.21it/s]\u001b[A\n",
      "Validation DataLoader 0:  75%|█████████████████████████████████████████████████▌                | 9/12 [00:00<00:00, 133.34it/s]\u001b[A\n",
      "Validation DataLoader 0:  83%|██████████████████████████████████████████████████████▏          | 10/12 [00:00<00:00, 135.01it/s]\u001b[A\n",
      "Validation DataLoader 0:  92%|███████████████████████████████████████████████████████████▌     | 11/12 [00:00<00:00, 137.29it/s]\u001b[A\n",
      "Validation DataLoader 0: 100%|█████████████████████████████████████████████████████████████████| 12/12 [00:00<00:00, 138.66it/s]\u001b[A\n",
      "Epoch 50: 100%|█| 48/48 [00:02<00:00, 22.19it/s, v_num=25, train_loss=1.240, train_accuracy=0.475, val_loss=1.130, val_accuracy=\u001b[A"
     ]
    },
    {
     "name": "stderr",
     "output_type": "stream",
     "text": [
      "Epoch 50, global step 2448: 'val_loss' reached 1.13340 (best 1.13340), saving model to '/home/till/Desktop/ds4w-user-identification/checkpoints/best-checkpoint-v24.ckpt' as top 1\n"
     ]
    },
    {
     "name": "stdout",
     "output_type": "stream",
     "text": [
      "Epoch 51: 100%|█| 48/48 [00:01<00:00, 32.68it/s, v_num=25, train_loss=1.080, train_accuracy=0.675, val_loss=1.130, val_accuracy=\n",
      "Validation: |                                                                                             | 0/? [00:00<?, ?it/s]\u001b[A\n",
      "Validation:   0%|                                                                                        | 0/12 [00:00<?, ?it/s]\u001b[A\n",
      "Validation DataLoader 0:   0%|                                                                           | 0/12 [00:00<?, ?it/s]\u001b[A\n",
      "Validation DataLoader 0:   8%|█████▌                                                            | 1/12 [00:00<00:00, 129.92it/s]\u001b[A\n",
      "Validation DataLoader 0:  17%|███████████                                                       | 2/12 [00:00<00:00, 136.99it/s]\u001b[A\n",
      "Validation DataLoader 0:  25%|████████████████▌                                                 | 3/12 [00:00<00:00, 125.84it/s]\u001b[A\n",
      "Validation DataLoader 0:  33%|██████████████████████                                            | 4/12 [00:00<00:00, 130.74it/s]\u001b[A\n",
      "Validation DataLoader 0:  42%|███████████████████████████▌                                      | 5/12 [00:00<00:00, 133.34it/s]\u001b[A\n",
      "Validation DataLoader 0:  50%|█████████████████████████████████                                 | 6/12 [00:00<00:00, 135.44it/s]\u001b[A\n",
      "Validation DataLoader 0:  58%|██████████████████████████████████████▌                           | 7/12 [00:00<00:00, 137.18it/s]\u001b[A\n",
      "Validation DataLoader 0:  67%|████████████████████████████████████████████                      | 8/12 [00:00<00:00, 140.04it/s]\u001b[A\n",
      "Validation DataLoader 0:  75%|█████████████████████████████████████████████████▌                | 9/12 [00:00<00:00, 140.28it/s]\u001b[A\n",
      "Validation DataLoader 0:  83%|██████████████████████████████████████████████████████▏          | 10/12 [00:00<00:00, 140.55it/s]\u001b[A\n",
      "Validation DataLoader 0:  92%|███████████████████████████████████████████████████████████▌     | 11/12 [00:00<00:00, 142.47it/s]\u001b[A\n",
      "Validation DataLoader 0: 100%|█████████████████████████████████████████████████████████████████| 12/12 [00:00<00:00, 143.41it/s]\u001b[A\n",
      "Epoch 51: 100%|█| 48/48 [00:02<00:00, 22.56it/s, v_num=25, train_loss=1.080, train_accuracy=0.675, val_loss=1.090, val_accuracy=\u001b[A"
     ]
    },
    {
     "name": "stderr",
     "output_type": "stream",
     "text": [
      "Epoch 51, global step 2496: 'val_loss' reached 1.09160 (best 1.09160), saving model to '/home/till/Desktop/ds4w-user-identification/checkpoints/best-checkpoint-v24.ckpt' as top 1\n"
     ]
    },
    {
     "name": "stdout",
     "output_type": "stream",
     "text": [
      "Epoch 52: 100%|█| 48/48 [00:01<00:00, 32.77it/s, v_num=25, train_loss=1.020, train_accuracy=0.650, val_loss=1.090, val_accuracy=\n",
      "Validation: |                                                                                             | 0/? [00:00<?, ?it/s]\u001b[A\n",
      "Validation:   0%|                                                                                        | 0/12 [00:00<?, ?it/s]\u001b[A\n",
      "Validation DataLoader 0:   0%|                                                                           | 0/12 [00:00<?, ?it/s]\u001b[A\n",
      "Validation DataLoader 0:   8%|█████▌                                                            | 1/12 [00:00<00:00, 124.43it/s]\u001b[A\n",
      "Validation DataLoader 0:  17%|███████████                                                       | 2/12 [00:00<00:00, 138.85it/s]\u001b[A\n",
      "Validation DataLoader 0:  25%|████████████████▌                                                 | 3/12 [00:00<00:00, 115.30it/s]\u001b[A\n",
      "Validation DataLoader 0:  33%|██████████████████████                                            | 4/12 [00:00<00:00, 120.73it/s]\u001b[A\n",
      "Validation DataLoader 0:  42%|███████████████████████████▌                                      | 5/12 [00:00<00:00, 124.85it/s]\u001b[A\n",
      "Validation DataLoader 0:  50%|█████████████████████████████████                                 | 6/12 [00:00<00:00, 129.86it/s]\u001b[A\n",
      "Validation DataLoader 0:  58%|██████████████████████████████████████▌                           | 7/12 [00:00<00:00, 133.10it/s]\u001b[A\n",
      "Validation DataLoader 0:  67%|████████████████████████████████████████████                      | 8/12 [00:00<00:00, 134.58it/s]\u001b[A\n",
      "Validation DataLoader 0:  75%|█████████████████████████████████████████████████▌                | 9/12 [00:00<00:00, 137.45it/s]\u001b[A\n",
      "Validation DataLoader 0:  83%|██████████████████████████████████████████████████████▏          | 10/12 [00:00<00:00, 138.50it/s]\u001b[A\n",
      "Validation DataLoader 0:  92%|███████████████████████████████████████████████████████████▌     | 11/12 [00:00<00:00, 140.11it/s]\u001b[A\n",
      "Validation DataLoader 0: 100%|█████████████████████████████████████████████████████████████████| 12/12 [00:00<00:00, 141.33it/s]\u001b[A\n",
      "Epoch 52: 100%|█| 48/48 [00:02<00:00, 22.26it/s, v_num=25, train_loss=1.020, train_accuracy=0.650, val_loss=1.150, val_accuracy=\u001b[A"
     ]
    },
    {
     "name": "stderr",
     "output_type": "stream",
     "text": [
      "Epoch 52, global step 2544: 'val_loss' was not in top 1\n"
     ]
    },
    {
     "name": "stdout",
     "output_type": "stream",
     "text": [
      "Epoch 53: 100%|█| 48/48 [00:01<00:00, 33.11it/s, v_num=25, train_loss=1.260, train_accuracy=0.500, val_loss=1.150, val_accuracy=\n",
      "Validation: |                                                                                             | 0/? [00:00<?, ?it/s]\u001b[A\n",
      "Validation:   0%|                                                                                        | 0/12 [00:00<?, ?it/s]\u001b[A\n",
      "Validation DataLoader 0:   0%|                                                                           | 0/12 [00:00<?, ?it/s]\u001b[A\n",
      "Validation DataLoader 0:   8%|█████▌                                                            | 1/12 [00:00<00:00, 115.24it/s]\u001b[A\n",
      "Validation DataLoader 0:  17%|███████████                                                       | 2/12 [00:00<00:00, 120.65it/s]\u001b[A\n",
      "Validation DataLoader 0:  25%|████████████████▌                                                 | 3/12 [00:00<00:00, 125.85it/s]\u001b[A\n",
      "Validation DataLoader 0:  33%|██████████████████████                                            | 4/12 [00:00<00:00, 127.64it/s]\u001b[A\n",
      "Validation DataLoader 0:  42%|███████████████████████████▌                                      | 5/12 [00:00<00:00, 128.74it/s]\u001b[A\n",
      "Validation DataLoader 0:  50%|█████████████████████████████████                                 | 6/12 [00:00<00:00, 131.49it/s]\u001b[A\n",
      "Validation DataLoader 0:  58%|██████████████████████████████████████▌                           | 7/12 [00:00<00:00, 134.61it/s]\u001b[A\n",
      "Validation DataLoader 0:  67%|████████████████████████████████████████████                      | 8/12 [00:00<00:00, 133.77it/s]\u001b[A\n",
      "Validation DataLoader 0:  75%|█████████████████████████████████████████████████▌                | 9/12 [00:00<00:00, 136.67it/s]\u001b[A\n",
      "Validation DataLoader 0:  83%|██████████████████████████████████████████████████████▏          | 10/12 [00:00<00:00, 137.82it/s]\u001b[A\n",
      "Validation DataLoader 0:  92%|███████████████████████████████████████████████████████████▌     | 11/12 [00:00<00:00, 138.72it/s]\u001b[A\n",
      "Validation DataLoader 0: 100%|█████████████████████████████████████████████████████████████████| 12/12 [00:00<00:00, 140.37it/s]\u001b[A\n",
      "Epoch 53: 100%|█| 48/48 [00:02<00:00, 22.56it/s, v_num=25, train_loss=1.260, train_accuracy=0.500, val_loss=1.310, val_accuracy=\u001b[A"
     ]
    },
    {
     "name": "stderr",
     "output_type": "stream",
     "text": [
      "Epoch 53, global step 2592: 'val_loss' was not in top 1\n"
     ]
    },
    {
     "name": "stdout",
     "output_type": "stream",
     "text": [
      "Epoch 54: 100%|█| 48/48 [00:01<00:00, 32.98it/s, v_num=25, train_loss=1.030, train_accuracy=0.600, val_loss=1.310, val_accuracy=\n",
      "Validation: |                                                                                             | 0/? [00:00<?, ?it/s]\u001b[A\n",
      "Validation:   0%|                                                                                        | 0/12 [00:00<?, ?it/s]\u001b[A\n",
      "Validation DataLoader 0:   0%|                                                                           | 0/12 [00:00<?, ?it/s]\u001b[A\n",
      "Validation DataLoader 0:   8%|█████▌                                                            | 1/12 [00:00<00:00, 119.08it/s]\u001b[A\n",
      "Validation DataLoader 0:  17%|███████████                                                       | 2/12 [00:00<00:00, 132.45it/s]\u001b[A\n",
      "Validation DataLoader 0:  25%|████████████████▌                                                 | 3/12 [00:00<00:00, 138.01it/s]\u001b[A\n",
      "Validation DataLoader 0:  33%|██████████████████████                                            | 4/12 [00:00<00:00, 141.55it/s]\u001b[A\n",
      "Validation DataLoader 0:  42%|███████████████████████████▌                                      | 5/12 [00:00<00:00, 141.75it/s]\u001b[A\n",
      "Validation DataLoader 0:  50%|█████████████████████████████████                                 | 6/12 [00:00<00:00, 135.63it/s]\u001b[A\n",
      "Validation DataLoader 0:  58%|██████████████████████████████████████▌                           | 7/12 [00:00<00:00, 137.39it/s]\u001b[A\n",
      "Validation DataLoader 0:  67%|████████████████████████████████████████████                      | 8/12 [00:00<00:00, 138.69it/s]\u001b[A\n",
      "Validation DataLoader 0:  75%|█████████████████████████████████████████████████▌                | 9/12 [00:00<00:00, 139.87it/s]\u001b[A\n",
      "Validation DataLoader 0:  83%|██████████████████████████████████████████████████████▏          | 10/12 [00:00<00:00, 141.96it/s]\u001b[A\n",
      "Validation DataLoader 0:  92%|███████████████████████████████████████████████████████████▌     | 11/12 [00:00<00:00, 144.00it/s]\u001b[A\n",
      "Validation DataLoader 0: 100%|█████████████████████████████████████████████████████████████████| 12/12 [00:00<00:00, 144.49it/s]\u001b[A\n",
      "Epoch 54: 100%|█| 48/48 [00:02<00:00, 22.57it/s, v_num=25, train_loss=1.030, train_accuracy=0.600, val_loss=1.120, val_accuracy=\u001b[A"
     ]
    },
    {
     "name": "stderr",
     "output_type": "stream",
     "text": [
      "Epoch 54, global step 2640: 'val_loss' was not in top 1\n"
     ]
    },
    {
     "name": "stdout",
     "output_type": "stream",
     "text": [
      "Epoch 55: 100%|█| 48/48 [00:01<00:00, 33.08it/s, v_num=25, train_loss=1.280, train_accuracy=0.575, val_loss=1.120, val_accuracy=\n",
      "Validation: |                                                                                             | 0/? [00:00<?, ?it/s]\u001b[A\n",
      "Validation:   0%|                                                                                        | 0/12 [00:00<?, ?it/s]\u001b[A\n",
      "Validation DataLoader 0:   0%|                                                                           | 0/12 [00:00<?, ?it/s]\u001b[A\n",
      "Validation DataLoader 0:   8%|█████▌                                                            | 1/12 [00:00<00:00, 129.03it/s]\u001b[A\n",
      "Validation DataLoader 0:  17%|███████████                                                       | 2/12 [00:00<00:00, 136.52it/s]\u001b[A\n",
      "Validation DataLoader 0:  25%|████████████████▌                                                 | 3/12 [00:00<00:00, 135.64it/s]\u001b[A\n",
      "Validation DataLoader 0:  33%|██████████████████████                                            | 4/12 [00:00<00:00, 138.80it/s]\u001b[A\n",
      "Validation DataLoader 0:  42%|███████████████████████████▌                                      | 5/12 [00:00<00:00, 128.06it/s]\u001b[A\n",
      "Validation DataLoader 0:  50%|█████████████████████████████████                                 | 6/12 [00:00<00:00, 129.80it/s]\u001b[A\n",
      "Validation DataLoader 0:  58%|██████████████████████████████████████▌                           | 7/12 [00:00<00:00, 127.70it/s]\u001b[A\n",
      "Validation DataLoader 0:  67%|████████████████████████████████████████████                      | 8/12 [00:00<00:00, 130.44it/s]\u001b[A\n",
      "Validation DataLoader 0:  75%|█████████████████████████████████████████████████▌                | 9/12 [00:00<00:00, 132.29it/s]\u001b[A\n",
      "Validation DataLoader 0:  83%|██████████████████████████████████████████████████████▏          | 10/12 [00:00<00:00, 134.03it/s]\u001b[A\n",
      "Validation DataLoader 0:  92%|███████████████████████████████████████████████████████████▌     | 11/12 [00:00<00:00, 136.24it/s]\u001b[A\n",
      "Validation DataLoader 0: 100%|█████████████████████████████████████████████████████████████████| 12/12 [00:00<00:00, 136.85it/s]\u001b[A\n",
      "Epoch 55: 100%|█| 48/48 [00:02<00:00, 22.86it/s, v_num=25, train_loss=1.280, train_accuracy=0.575, val_loss=1.150, val_accuracy=\u001b[A"
     ]
    },
    {
     "name": "stderr",
     "output_type": "stream",
     "text": [
      "Epoch 55, global step 2688: 'val_loss' was not in top 1\n"
     ]
    },
    {
     "name": "stdout",
     "output_type": "stream",
     "text": [
      "Epoch 56: 100%|█| 48/48 [00:01<00:00, 32.32it/s, v_num=25, train_loss=1.210, train_accuracy=0.475, val_loss=1.150, val_accuracy=\n",
      "Validation: |                                                                                             | 0/? [00:00<?, ?it/s]\u001b[A\n",
      "Validation:   0%|                                                                                        | 0/12 [00:00<?, ?it/s]\u001b[A\n",
      "Validation DataLoader 0:   0%|                                                                           | 0/12 [00:00<?, ?it/s]\u001b[A\n",
      "Validation DataLoader 0:   8%|█████▌                                                            | 1/12 [00:00<00:00, 108.57it/s]\u001b[A\n",
      "Validation DataLoader 0:  17%|███████████                                                       | 2/12 [00:00<00:00, 121.36it/s]\u001b[A\n",
      "Validation DataLoader 0:  25%|████████████████▌                                                 | 3/12 [00:00<00:00, 127.52it/s]\u001b[A\n",
      "Validation DataLoader 0:  33%|██████████████████████                                            | 4/12 [00:00<00:00, 131.98it/s]\u001b[A\n",
      "Validation DataLoader 0:  42%|███████████████████████████▌                                      | 5/12 [00:00<00:00, 133.97it/s]\u001b[A\n",
      "Validation DataLoader 0:  50%|█████████████████████████████████                                 | 6/12 [00:00<00:00, 138.56it/s]\u001b[A\n",
      "Validation DataLoader 0:  58%|██████████████████████████████████████▌                           | 7/12 [00:00<00:00, 141.57it/s]\u001b[A\n",
      "Validation DataLoader 0:  67%|████████████████████████████████████████████                      | 8/12 [00:00<00:00, 142.69it/s]\u001b[A\n",
      "Validation DataLoader 0:  75%|█████████████████████████████████████████████████▌                | 9/12 [00:00<00:00, 143.00it/s]\u001b[A\n",
      "Validation DataLoader 0:  83%|██████████████████████████████████████████████████████▏          | 10/12 [00:00<00:00, 141.74it/s]\u001b[A\n",
      "Validation DataLoader 0:  92%|███████████████████████████████████████████████████████████▌     | 11/12 [00:00<00:00, 142.64it/s]\u001b[A\n",
      "Validation DataLoader 0: 100%|█████████████████████████████████████████████████████████████████| 12/12 [00:00<00:00, 143.42it/s]\u001b[A\n",
      "Epoch 56: 100%|█| 48/48 [00:02<00:00, 22.05it/s, v_num=25, train_loss=1.210, train_accuracy=0.475, val_loss=1.160, val_accuracy=\u001b[A"
     ]
    },
    {
     "name": "stderr",
     "output_type": "stream",
     "text": [
      "Epoch 56, global step 2736: 'val_loss' was not in top 1\n"
     ]
    },
    {
     "name": "stdout",
     "output_type": "stream",
     "text": [
      "Epoch 57: 100%|█| 48/48 [00:01<00:00, 32.17it/s, v_num=25, train_loss=1.180, train_accuracy=0.625, val_loss=1.160, val_accuracy=\n",
      "Validation: |                                                                                             | 0/? [00:00<?, ?it/s]\u001b[A\n",
      "Validation:   0%|                                                                                        | 0/12 [00:00<?, ?it/s]\u001b[A\n",
      "Validation DataLoader 0:   0%|                                                                           | 0/12 [00:00<?, ?it/s]\u001b[A\n",
      "Validation DataLoader 0:   8%|█████▌                                                            | 1/12 [00:00<00:00, 124.79it/s]\u001b[A\n",
      "Validation DataLoader 0:  17%|███████████                                                       | 2/12 [00:00<00:00, 136.98it/s]\u001b[A\n",
      "Validation DataLoader 0:  25%|████████████████▌                                                 | 3/12 [00:00<00:00, 141.58it/s]\u001b[A\n",
      "Validation DataLoader 0:  33%|██████████████████████                                            | 4/12 [00:00<00:00, 145.98it/s]\u001b[A\n",
      "Validation DataLoader 0:  42%|███████████████████████████▌                                      | 5/12 [00:00<00:00, 142.86it/s]\u001b[A\n",
      "Validation DataLoader 0:  50%|█████████████████████████████████                                 | 6/12 [00:00<00:00, 131.48it/s]\u001b[A\n",
      "Validation DataLoader 0:  58%|██████████████████████████████████████▌                           | 7/12 [00:00<00:00, 133.92it/s]\u001b[A\n",
      "Validation DataLoader 0:  67%|████████████████████████████████████████████                      | 8/12 [00:00<00:00, 135.24it/s]\u001b[A\n",
      "Validation DataLoader 0:  75%|█████████████████████████████████████████████████▌                | 9/12 [00:00<00:00, 138.09it/s]\u001b[A\n",
      "Validation DataLoader 0:  83%|██████████████████████████████████████████████████████▏          | 10/12 [00:00<00:00, 139.86it/s]\u001b[A\n",
      "Validation DataLoader 0:  92%|███████████████████████████████████████████████████████████▌     | 11/12 [00:00<00:00, 141.81it/s]\u001b[A\n",
      "Validation DataLoader 0: 100%|█████████████████████████████████████████████████████████████████| 12/12 [00:00<00:00, 143.21it/s]\u001b[A\n",
      "Epoch 57: 100%|█| 48/48 [00:02<00:00, 22.20it/s, v_num=25, train_loss=1.180, train_accuracy=0.625, val_loss=1.100, val_accuracy=\u001b[A"
     ]
    },
    {
     "name": "stderr",
     "output_type": "stream",
     "text": [
      "Epoch 57, global step 2784: 'val_loss' was not in top 1\n"
     ]
    },
    {
     "name": "stdout",
     "output_type": "stream",
     "text": [
      "Epoch 58: 100%|█| 48/48 [00:01<00:00, 32.79it/s, v_num=25, train_loss=1.370, train_accuracy=0.500, val_loss=1.100, val_accuracy=\n",
      "Validation: |                                                                                             | 0/? [00:00<?, ?it/s]\u001b[A\n",
      "Validation:   0%|                                                                                        | 0/12 [00:00<?, ?it/s]\u001b[A\n",
      "Validation DataLoader 0:   0%|                                                                           | 0/12 [00:00<?, ?it/s]\u001b[A\n",
      "Validation DataLoader 0:   8%|█████▌                                                            | 1/12 [00:00<00:00, 126.76it/s]\u001b[A\n",
      "Validation DataLoader 0:  17%|███████████                                                       | 2/12 [00:00<00:00, 134.36it/s]\u001b[A\n",
      "Validation DataLoader 0:  25%|████████████████▌                                                 | 3/12 [00:00<00:00, 134.83it/s]\u001b[A\n",
      "Validation DataLoader 0:  33%|██████████████████████                                            | 4/12 [00:00<00:00, 137.78it/s]\u001b[A\n",
      "Validation DataLoader 0:  42%|███████████████████████████▌                                      | 5/12 [00:00<00:00, 135.45it/s]\u001b[A\n",
      "Validation DataLoader 0:  50%|█████████████████████████████████                                 | 6/12 [00:00<00:00, 133.47it/s]\u001b[A\n",
      "Validation DataLoader 0:  58%|██████████████████████████████████████▌                           | 7/12 [00:00<00:00, 132.91it/s]\u001b[A\n",
      "Validation DataLoader 0:  67%|████████████████████████████████████████████                      | 8/12 [00:00<00:00, 135.69it/s]\u001b[A\n",
      "Validation DataLoader 0:  75%|█████████████████████████████████████████████████▌                | 9/12 [00:00<00:00, 138.23it/s]\u001b[A\n",
      "Validation DataLoader 0:  83%|██████████████████████████████████████████████████████▏          | 10/12 [00:00<00:00, 137.44it/s]\u001b[A\n",
      "Validation DataLoader 0:  92%|███████████████████████████████████████████████████████████▌     | 11/12 [00:00<00:00, 137.97it/s]\u001b[A\n",
      "Validation DataLoader 0: 100%|█████████████████████████████████████████████████████████████████| 12/12 [00:00<00:00, 138.30it/s]\u001b[A\n",
      "Epoch 58: 100%|█| 48/48 [00:02<00:00, 22.61it/s, v_num=25, train_loss=1.370, train_accuracy=0.500, val_loss=1.460, val_accuracy=\u001b[A"
     ]
    },
    {
     "name": "stderr",
     "output_type": "stream",
     "text": [
      "Epoch 58, global step 2832: 'val_loss' was not in top 1\n"
     ]
    },
    {
     "name": "stdout",
     "output_type": "stream",
     "text": [
      "Epoch 59: 100%|█| 48/48 [00:01<00:00, 32.10it/s, v_num=25, train_loss=1.440, train_accuracy=0.500, val_loss=1.460, val_accuracy=\n",
      "Validation: |                                                                                             | 0/? [00:00<?, ?it/s]\u001b[A\n",
      "Validation:   0%|                                                                                        | 0/12 [00:00<?, ?it/s]\u001b[A\n",
      "Validation DataLoader 0:   0%|                                                                           | 0/12 [00:00<?, ?it/s]\u001b[A\n",
      "Validation DataLoader 0:   8%|█████▌                                                            | 1/12 [00:00<00:00, 109.96it/s]\u001b[A\n",
      "Validation DataLoader 0:  17%|███████████                                                       | 2/12 [00:00<00:00, 120.52it/s]\u001b[A\n",
      "Validation DataLoader 0:  25%|████████████████▌                                                 | 3/12 [00:00<00:00, 132.77it/s]\u001b[A\n",
      "Validation DataLoader 0:  33%|██████████████████████                                            | 4/12 [00:00<00:00, 137.95it/s]\u001b[A\n",
      "Validation DataLoader 0:  42%|███████████████████████████▌                                      | 5/12 [00:00<00:00, 142.57it/s]\u001b[A\n",
      "Validation DataLoader 0:  50%|█████████████████████████████████                                 | 6/12 [00:00<00:00, 146.23it/s]\u001b[A\n",
      "Validation DataLoader 0:  58%|██████████████████████████████████████▌                           | 7/12 [00:00<00:00, 146.15it/s]\u001b[A\n",
      "Validation DataLoader 0:  67%|████████████████████████████████████████████                      | 8/12 [00:00<00:00, 148.02it/s]\u001b[A\n",
      "Validation DataLoader 0:  75%|█████████████████████████████████████████████████▌                | 9/12 [00:00<00:00, 149.64it/s]\u001b[A\n",
      "Validation DataLoader 0:  83%|██████████████████████████████████████████████████████▏          | 10/12 [00:00<00:00, 149.51it/s]\u001b[A\n",
      "Validation DataLoader 0:  92%|███████████████████████████████████████████████████████████▌     | 11/12 [00:00<00:00, 150.63it/s]\u001b[A\n",
      "Validation DataLoader 0: 100%|█████████████████████████████████████████████████████████████████| 12/12 [00:00<00:00, 149.56it/s]\u001b[A\n",
      "Epoch 59: 100%|█| 48/48 [00:02<00:00, 22.35it/s, v_num=25, train_loss=1.440, train_accuracy=0.500, val_loss=1.380, val_accuracy=\u001b[A"
     ]
    },
    {
     "name": "stderr",
     "output_type": "stream",
     "text": [
      "Epoch 59, global step 2880: 'val_loss' was not in top 1\n"
     ]
    },
    {
     "name": "stdout",
     "output_type": "stream",
     "text": [
      "Epoch 60: 100%|█| 48/48 [00:01<00:00, 32.78it/s, v_num=25, train_loss=1.080, train_accuracy=0.625, val_loss=1.380, val_accuracy=\n",
      "Validation: |                                                                                             | 0/? [00:00<?, ?it/s]\u001b[A\n",
      "Validation:   0%|                                                                                        | 0/12 [00:00<?, ?it/s]\u001b[A\n",
      "Validation DataLoader 0:   0%|                                                                           | 0/12 [00:00<?, ?it/s]\u001b[A\n",
      "Validation DataLoader 0:   8%|█████▌                                                            | 1/12 [00:00<00:00, 126.36it/s]\u001b[A\n",
      "Validation DataLoader 0:  17%|███████████                                                       | 2/12 [00:00<00:00, 136.56it/s]\u001b[A\n",
      "Validation DataLoader 0:  25%|████████████████▌                                                 | 3/12 [00:00<00:00, 139.19it/s]\u001b[A\n",
      "Validation DataLoader 0:  33%|██████████████████████                                            | 4/12 [00:00<00:00, 145.18it/s]\u001b[A\n",
      "Validation DataLoader 0:  42%|███████████████████████████▌                                      | 5/12 [00:00<00:00, 145.15it/s]\u001b[A\n",
      "Validation DataLoader 0:  50%|█████████████████████████████████                                 | 6/12 [00:00<00:00, 147.92it/s]\u001b[A\n",
      "Validation DataLoader 0:  58%|██████████████████████████████████████▌                           | 7/12 [00:00<00:00, 148.68it/s]\u001b[A\n",
      "Validation DataLoader 0:  67%|████████████████████████████████████████████                      | 8/12 [00:00<00:00, 148.72it/s]\u001b[A\n",
      "Validation DataLoader 0:  75%|█████████████████████████████████████████████████▌                | 9/12 [00:00<00:00, 150.38it/s]\u001b[A\n",
      "Validation DataLoader 0:  83%|██████████████████████████████████████████████████████▏          | 10/12 [00:00<00:00, 150.21it/s]\u001b[A\n",
      "Validation DataLoader 0:  92%|███████████████████████████████████████████████████████████▌     | 11/12 [00:00<00:00, 150.11it/s]\u001b[A\n",
      "Validation DataLoader 0: 100%|█████████████████████████████████████████████████████████████████| 12/12 [00:00<00:00, 151.44it/s]\u001b[A\n",
      "Epoch 60: 100%|█| 48/48 [00:02<00:00, 22.76it/s, v_num=25, train_loss=1.080, train_accuracy=0.625, val_loss=1.240, val_accuracy=\u001b[A"
     ]
    },
    {
     "name": "stderr",
     "output_type": "stream",
     "text": [
      "Epoch 60, global step 2928: 'val_loss' was not in top 1\n"
     ]
    },
    {
     "name": "stdout",
     "output_type": "stream",
     "text": [
      "Epoch 61: 100%|█| 48/48 [00:01<00:00, 33.62it/s, v_num=25, train_loss=1.380, train_accuracy=0.475, val_loss=1.240, val_accuracy=\n",
      "Validation: |                                                                                             | 0/? [00:00<?, ?it/s]\u001b[A\n",
      "Validation:   0%|                                                                                        | 0/12 [00:00<?, ?it/s]\u001b[A\n",
      "Validation DataLoader 0:   0%|                                                                           | 0/12 [00:00<?, ?it/s]\u001b[A\n",
      "Validation DataLoader 0:   8%|█████▌                                                            | 1/12 [00:00<00:00, 106.84it/s]\u001b[A\n",
      "Validation DataLoader 0:  17%|███████████                                                       | 2/12 [00:00<00:00, 124.02it/s]\u001b[A\n",
      "Validation DataLoader 0:  25%|████████████████▌                                                 | 3/12 [00:00<00:00, 134.64it/s]\u001b[A\n",
      "Validation DataLoader 0:  33%|██████████████████████                                            | 4/12 [00:00<00:00, 136.20it/s]\u001b[A\n",
      "Validation DataLoader 0:  42%|███████████████████████████▌                                      | 5/12 [00:00<00:00, 139.80it/s]\u001b[A\n",
      "Validation DataLoader 0:  50%|█████████████████████████████████                                 | 6/12 [00:00<00:00, 141.42it/s]\u001b[A\n",
      "Validation DataLoader 0:  58%|██████████████████████████████████████▌                           | 7/12 [00:00<00:00, 140.01it/s]\u001b[A\n",
      "Validation DataLoader 0:  67%|████████████████████████████████████████████                      | 8/12 [00:00<00:00, 142.50it/s]\u001b[A\n",
      "Validation DataLoader 0:  75%|█████████████████████████████████████████████████▌                | 9/12 [00:00<00:00, 143.66it/s]\u001b[A\n",
      "Validation DataLoader 0:  83%|██████████████████████████████████████████████████████▏          | 10/12 [00:00<00:00, 142.29it/s]\u001b[A\n",
      "Validation DataLoader 0:  92%|███████████████████████████████████████████████████████████▌     | 11/12 [00:00<00:00, 139.56it/s]\u001b[A\n",
      "Validation DataLoader 0: 100%|█████████████████████████████████████████████████████████████████| 12/12 [00:00<00:00, 140.35it/s]\u001b[A\n",
      "Epoch 61: 100%|█| 48/48 [00:02<00:00, 23.06it/s, v_num=25, train_loss=1.380, train_accuracy=0.475, val_loss=1.170, val_accuracy=\u001b[A"
     ]
    },
    {
     "name": "stderr",
     "output_type": "stream",
     "text": [
      "Epoch 61, global step 2976: 'val_loss' was not in top 1\n"
     ]
    },
    {
     "name": "stdout",
     "output_type": "stream",
     "text": [
      "Epoch 62: 100%|█| 48/48 [00:01<00:00, 33.53it/s, v_num=25, train_loss=1.070, train_accuracy=0.600, val_loss=1.170, val_accuracy=\n",
      "Validation: |                                                                                             | 0/? [00:00<?, ?it/s]\u001b[A\n",
      "Validation:   0%|                                                                                        | 0/12 [00:00<?, ?it/s]\u001b[A\n",
      "Validation DataLoader 0:   0%|                                                                           | 0/12 [00:00<?, ?it/s]\u001b[A\n",
      "Validation DataLoader 0:   8%|█████▌                                                            | 1/12 [00:00<00:00, 117.44it/s]\u001b[A\n",
      "Validation DataLoader 0:  17%|███████████                                                       | 2/12 [00:00<00:00, 127.30it/s]\u001b[A\n",
      "Validation DataLoader 0:  25%|████████████████▌                                                 | 3/12 [00:00<00:00, 122.50it/s]\u001b[A\n",
      "Validation DataLoader 0:  33%|██████████████████████                                            | 4/12 [00:00<00:00, 121.85it/s]\u001b[A\n",
      "Validation DataLoader 0:  42%|███████████████████████████▌                                      | 5/12 [00:00<00:00, 127.26it/s]\u001b[A\n",
      "Validation DataLoader 0:  50%|█████████████████████████████████                                 | 6/12 [00:00<00:00, 131.77it/s]\u001b[A\n",
      "Validation DataLoader 0:  58%|██████████████████████████████████████▌                           | 7/12 [00:00<00:00, 133.61it/s]\u001b[A\n",
      "Validation DataLoader 0:  67%|████████████████████████████████████████████                      | 8/12 [00:00<00:00, 136.43it/s]\u001b[A\n",
      "Validation DataLoader 0:  75%|█████████████████████████████████████████████████▌                | 9/12 [00:00<00:00, 138.10it/s]\u001b[A\n",
      "Validation DataLoader 0:  83%|██████████████████████████████████████████████████████▏          | 10/12 [00:00<00:00, 139.56it/s]\u001b[A\n",
      "Validation DataLoader 0:  92%|███████████████████████████████████████████████████████████▌     | 11/12 [00:00<00:00, 141.38it/s]\u001b[A\n",
      "Validation DataLoader 0: 100%|█████████████████████████████████████████████████████████████████| 12/12 [00:00<00:00, 141.13it/s]\u001b[A\n",
      "Epoch 62: 100%|█| 48/48 [00:02<00:00, 23.13it/s, v_num=25, train_loss=1.070, train_accuracy=0.600, val_loss=1.150, val_accuracy=\u001b[A"
     ]
    },
    {
     "name": "stderr",
     "output_type": "stream",
     "text": [
      "Epoch 62, global step 3024: 'val_loss' was not in top 1\n"
     ]
    },
    {
     "name": "stdout",
     "output_type": "stream",
     "text": [
      "Epoch 63: 100%|█| 48/48 [00:01<00:00, 32.71it/s, v_num=25, train_loss=1.190, train_accuracy=0.450, val_loss=1.150, val_accuracy=\n",
      "Validation: |                                                                                             | 0/? [00:00<?, ?it/s]\u001b[A\n",
      "Validation:   0%|                                                                                        | 0/12 [00:00<?, ?it/s]\u001b[A\n",
      "Validation DataLoader 0:   0%|                                                                           | 0/12 [00:00<?, ?it/s]\u001b[A\n",
      "Validation DataLoader 0:   8%|█████▌                                                            | 1/12 [00:00<00:00, 119.53it/s]\u001b[A\n",
      "Validation DataLoader 0:  17%|███████████                                                       | 2/12 [00:00<00:00, 122.78it/s]\u001b[A\n",
      "Validation DataLoader 0:  25%|████████████████▌                                                 | 3/12 [00:00<00:00, 127.18it/s]\u001b[A\n",
      "Validation DataLoader 0:  33%|██████████████████████                                            | 4/12 [00:00<00:00, 132.33it/s]\u001b[A\n",
      "Validation DataLoader 0:  42%|███████████████████████████▌                                      | 5/12 [00:00<00:00, 136.55it/s]\u001b[A\n",
      "Validation DataLoader 0:  50%|█████████████████████████████████                                 | 6/12 [00:00<00:00, 135.82it/s]\u001b[A\n",
      "Validation DataLoader 0:  58%|██████████████████████████████████████▌                           | 7/12 [00:00<00:00, 138.67it/s]\u001b[A\n",
      "Validation DataLoader 0:  67%|████████████████████████████████████████████                      | 8/12 [00:00<00:00, 140.10it/s]\u001b[A\n",
      "Validation DataLoader 0:  75%|█████████████████████████████████████████████████▌                | 9/12 [00:00<00:00, 139.93it/s]\u001b[A\n",
      "Validation DataLoader 0:  83%|██████████████████████████████████████████████████████▏          | 10/12 [00:00<00:00, 139.61it/s]\u001b[A\n",
      "Validation DataLoader 0:  92%|███████████████████████████████████████████████████████████▌     | 11/12 [00:00<00:00, 140.32it/s]\u001b[A\n",
      "Validation DataLoader 0: 100%|█████████████████████████████████████████████████████████████████| 12/12 [00:00<00:00, 141.76it/s]\u001b[A\n",
      "Epoch 63: 100%|█| 48/48 [00:02<00:00, 22.14it/s, v_num=25, train_loss=1.190, train_accuracy=0.450, val_loss=1.340, val_accuracy=\u001b[A"
     ]
    },
    {
     "name": "stderr",
     "output_type": "stream",
     "text": [
      "Epoch 63, global step 3072: 'val_loss' was not in top 1\n"
     ]
    },
    {
     "name": "stdout",
     "output_type": "stream",
     "text": [
      "Epoch 64: 100%|█| 48/48 [00:01<00:00, 33.17it/s, v_num=25, train_loss=1.310, train_accuracy=0.500, val_loss=1.340, val_accuracy=\n",
      "Validation: |                                                                                             | 0/? [00:00<?, ?it/s]\u001b[A\n",
      "Validation:   0%|                                                                                        | 0/12 [00:00<?, ?it/s]\u001b[A\n",
      "Validation DataLoader 0:   0%|                                                                           | 0/12 [00:00<?, ?it/s]\u001b[A\n",
      "Validation DataLoader 0:   8%|█████▌                                                            | 1/12 [00:00<00:00, 129.59it/s]\u001b[A\n",
      "Validation DataLoader 0:  17%|███████████                                                       | 2/12 [00:00<00:00, 132.03it/s]\u001b[A\n",
      "Validation DataLoader 0:  25%|████████████████▌                                                 | 3/12 [00:00<00:00, 133.56it/s]\u001b[A\n",
      "Validation DataLoader 0:  33%|██████████████████████                                            | 4/12 [00:00<00:00, 138.64it/s]\u001b[A\n",
      "Validation DataLoader 0:  42%|███████████████████████████▌                                      | 5/12 [00:00<00:00, 141.05it/s]\u001b[A\n",
      "Validation DataLoader 0:  50%|█████████████████████████████████                                 | 6/12 [00:00<00:00, 143.39it/s]\u001b[A\n",
      "Validation DataLoader 0:  58%|██████████████████████████████████████▌                           | 7/12 [00:00<00:00, 146.07it/s]\u001b[A\n",
      "Validation DataLoader 0:  67%|████████████████████████████████████████████                      | 8/12 [00:00<00:00, 146.81it/s]\u001b[A\n",
      "Validation DataLoader 0:  75%|█████████████████████████████████████████████████▌                | 9/12 [00:00<00:00, 147.96it/s]\u001b[A\n",
      "Validation DataLoader 0:  83%|██████████████████████████████████████████████████████▏          | 10/12 [00:00<00:00, 149.38it/s]\u001b[A\n",
      "Validation DataLoader 0:  92%|███████████████████████████████████████████████████████████▌     | 11/12 [00:00<00:00, 149.57it/s]\u001b[A\n",
      "Validation DataLoader 0: 100%|█████████████████████████████████████████████████████████████████| 12/12 [00:00<00:00, 150.12it/s]\u001b[A\n",
      "Epoch 64: 100%|█| 48/48 [00:02<00:00, 22.63it/s, v_num=25, train_loss=1.310, train_accuracy=0.500, val_loss=1.220, val_accuracy=\u001b[A"
     ]
    },
    {
     "name": "stderr",
     "output_type": "stream",
     "text": [
      "Epoch 64, global step 3120: 'val_loss' was not in top 1\n"
     ]
    },
    {
     "name": "stdout",
     "output_type": "stream",
     "text": [
      "Epoch 65: 100%|█| 48/48 [00:01<00:00, 32.29it/s, v_num=25, train_loss=0.862, train_accuracy=0.675, val_loss=1.220, val_accuracy=\n",
      "Validation: |                                                                                             | 0/? [00:00<?, ?it/s]\u001b[A\n",
      "Validation:   0%|                                                                                        | 0/12 [00:00<?, ?it/s]\u001b[A\n",
      "Validation DataLoader 0:   0%|                                                                           | 0/12 [00:00<?, ?it/s]\u001b[A\n",
      "Validation DataLoader 0:   8%|█████▌                                                            | 1/12 [00:00<00:00, 121.82it/s]\u001b[A\n",
      "Validation DataLoader 0:  17%|███████████                                                       | 2/12 [00:00<00:00, 135.93it/s]\u001b[A\n",
      "Validation DataLoader 0:  25%|████████████████▌                                                 | 3/12 [00:00<00:00, 139.33it/s]\u001b[A\n",
      "Validation DataLoader 0:  33%|██████████████████████                                            | 4/12 [00:00<00:00, 143.69it/s]\u001b[A\n",
      "Validation DataLoader 0:  42%|███████████████████████████▌                                      | 5/12 [00:00<00:00, 145.98it/s]\u001b[A\n",
      "Validation DataLoader 0:  50%|█████████████████████████████████                                 | 6/12 [00:00<00:00, 146.50it/s]\u001b[A\n",
      "Validation DataLoader 0:  58%|██████████████████████████████████████▌                           | 7/12 [00:00<00:00, 141.16it/s]\u001b[A\n",
      "Validation DataLoader 0:  67%|████████████████████████████████████████████                      | 8/12 [00:00<00:00, 142.00it/s]\u001b[A\n",
      "Validation DataLoader 0:  75%|█████████████████████████████████████████████████▌                | 9/12 [00:00<00:00, 144.24it/s]\u001b[A\n",
      "Validation DataLoader 0:  83%|██████████████████████████████████████████████████████▏          | 10/12 [00:00<00:00, 145.41it/s]\u001b[A\n",
      "Validation DataLoader 0:  92%|███████████████████████████████████████████████████████████▌     | 11/12 [00:00<00:00, 146.41it/s]\u001b[A\n",
      "Validation DataLoader 0: 100%|█████████████████████████████████████████████████████████████████| 12/12 [00:00<00:00, 147.54it/s]\u001b[A\n",
      "Epoch 65: 100%|█| 48/48 [00:02<00:00, 22.51it/s, v_num=25, train_loss=0.862, train_accuracy=0.675, val_loss=1.170, val_accuracy=\u001b[A"
     ]
    },
    {
     "name": "stderr",
     "output_type": "stream",
     "text": [
      "Epoch 65, global step 3168: 'val_loss' was not in top 1\n"
     ]
    },
    {
     "name": "stdout",
     "output_type": "stream",
     "text": [
      "Epoch 66: 100%|█| 48/48 [00:01<00:00, 33.13it/s, v_num=25, train_loss=0.763, train_accuracy=0.700, val_loss=1.170, val_accuracy=\n",
      "Validation: |                                                                                             | 0/? [00:00<?, ?it/s]\u001b[A\n",
      "Validation:   0%|                                                                                        | 0/12 [00:00<?, ?it/s]\u001b[A\n",
      "Validation DataLoader 0:   0%|                                                                           | 0/12 [00:00<?, ?it/s]\u001b[A\n",
      "Validation DataLoader 0:   8%|█████▌                                                            | 1/12 [00:00<00:00, 108.73it/s]\u001b[A\n",
      "Validation DataLoader 0:  17%|███████████                                                       | 2/12 [00:00<00:00, 114.04it/s]\u001b[A\n",
      "Validation DataLoader 0:  25%|████████████████▌                                                 | 3/12 [00:00<00:00, 121.30it/s]\u001b[A\n",
      "Validation DataLoader 0:  33%|██████████████████████                                            | 4/12 [00:00<00:00, 127.92it/s]\u001b[A\n",
      "Validation DataLoader 0:  42%|███████████████████████████▌                                      | 5/12 [00:00<00:00, 130.15it/s]\u001b[A\n",
      "Validation DataLoader 0:  50%|█████████████████████████████████                                 | 6/12 [00:00<00:00, 129.68it/s]\u001b[A\n",
      "Validation DataLoader 0:  58%|██████████████████████████████████████▌                           | 7/12 [00:00<00:00, 132.88it/s]\u001b[A\n",
      "Validation DataLoader 0:  67%|████████████████████████████████████████████                      | 8/12 [00:00<00:00, 134.79it/s]\u001b[A\n",
      "Validation DataLoader 0:  75%|█████████████████████████████████████████████████▌                | 9/12 [00:00<00:00, 137.76it/s]\u001b[A\n",
      "Validation DataLoader 0:  83%|██████████████████████████████████████████████████████▏          | 10/12 [00:00<00:00, 138.08it/s]\u001b[A\n",
      "Validation DataLoader 0:  92%|███████████████████████████████████████████████████████████▌     | 11/12 [00:00<00:00, 139.96it/s]\u001b[A\n",
      "Validation DataLoader 0: 100%|█████████████████████████████████████████████████████████████████| 12/12 [00:00<00:00, 140.31it/s]\u001b[A\n",
      "Epoch 66: 100%|█| 48/48 [00:02<00:00, 22.68it/s, v_num=25, train_loss=0.763, train_accuracy=0.700, val_loss=1.070, val_accuracy=\u001b[A"
     ]
    },
    {
     "name": "stderr",
     "output_type": "stream",
     "text": [
      "Epoch 66, global step 3216: 'val_loss' reached 1.06997 (best 1.06997), saving model to '/home/till/Desktop/ds4w-user-identification/checkpoints/best-checkpoint-v24.ckpt' as top 1\n"
     ]
    },
    {
     "name": "stdout",
     "output_type": "stream",
     "text": [
      "Epoch 67: 100%|█| 48/48 [00:01<00:00, 32.94it/s, v_num=25, train_loss=1.100, train_accuracy=0.625, val_loss=1.070, val_accuracy=\n",
      "Validation: |                                                                                             | 0/? [00:00<?, ?it/s]\u001b[A\n",
      "Validation:   0%|                                                                                        | 0/12 [00:00<?, ?it/s]\u001b[A\n",
      "Validation DataLoader 0:   0%|                                                                           | 0/12 [00:00<?, ?it/s]\u001b[A\n",
      "Validation DataLoader 0:   8%|█████▌                                                            | 1/12 [00:00<00:00, 114.02it/s]\u001b[A\n",
      "Validation DataLoader 0:  17%|███████████                                                       | 2/12 [00:00<00:00, 120.06it/s]\u001b[A\n",
      "Validation DataLoader 0:  25%|████████████████▌                                                 | 3/12 [00:00<00:00, 128.77it/s]\u001b[A\n",
      "Validation DataLoader 0:  33%|██████████████████████                                            | 4/12 [00:00<00:00, 131.96it/s]\u001b[A\n",
      "Validation DataLoader 0:  42%|███████████████████████████▌                                      | 5/12 [00:00<00:00, 128.99it/s]\u001b[A\n",
      "Validation DataLoader 0:  50%|█████████████████████████████████                                 | 6/12 [00:00<00:00, 128.18it/s]\u001b[A\n",
      "Validation DataLoader 0:  58%|██████████████████████████████████████▌                           | 7/12 [00:00<00:00, 129.39it/s]\u001b[A\n",
      "Validation DataLoader 0:  67%|████████████████████████████████████████████                      | 8/12 [00:00<00:00, 131.94it/s]\u001b[A\n",
      "Validation DataLoader 0:  75%|█████████████████████████████████████████████████▌                | 9/12 [00:00<00:00, 130.41it/s]\u001b[A\n",
      "Validation DataLoader 0:  83%|██████████████████████████████████████████████████████▏          | 10/12 [00:00<00:00, 132.31it/s]\u001b[A\n",
      "Validation DataLoader 0:  92%|███████████████████████████████████████████████████████████▌     | 11/12 [00:00<00:00, 134.12it/s]\u001b[A\n",
      "Validation DataLoader 0: 100%|█████████████████████████████████████████████████████████████████| 12/12 [00:00<00:00, 135.04it/s]\u001b[A\n",
      "Epoch 67: 100%|█| 48/48 [00:02<00:00, 22.62it/s, v_num=25, train_loss=1.100, train_accuracy=0.625, val_loss=1.090, val_accuracy=\u001b[A"
     ]
    },
    {
     "name": "stderr",
     "output_type": "stream",
     "text": [
      "Epoch 67, global step 3264: 'val_loss' was not in top 1\n"
     ]
    },
    {
     "name": "stdout",
     "output_type": "stream",
     "text": [
      "Epoch 68: 100%|█| 48/48 [00:01<00:00, 33.25it/s, v_num=25, train_loss=0.894, train_accuracy=0.650, val_loss=1.090, val_accuracy=\n",
      "Validation: |                                                                                             | 0/? [00:00<?, ?it/s]\u001b[A\n",
      "Validation:   0%|                                                                                        | 0/12 [00:00<?, ?it/s]\u001b[A\n",
      "Validation DataLoader 0:   0%|                                                                           | 0/12 [00:00<?, ?it/s]\u001b[A\n",
      "Validation DataLoader 0:   8%|█████▌                                                            | 1/12 [00:00<00:00, 114.13it/s]\u001b[A\n",
      "Validation DataLoader 0:  17%|███████████                                                       | 2/12 [00:00<00:00, 128.69it/s]\u001b[A\n",
      "Validation DataLoader 0:  25%|████████████████▌                                                 | 3/12 [00:00<00:00, 132.80it/s]\u001b[A\n",
      "Validation DataLoader 0:  33%|██████████████████████                                            | 4/12 [00:00<00:00, 139.29it/s]\u001b[A\n",
      "Validation DataLoader 0:  42%|███████████████████████████▌                                      | 5/12 [00:00<00:00, 139.91it/s]\u001b[A\n",
      "Validation DataLoader 0:  50%|█████████████████████████████████                                 | 6/12 [00:00<00:00, 137.72it/s]\u001b[A\n",
      "Validation DataLoader 0:  58%|██████████████████████████████████████▌                           | 7/12 [00:00<00:00, 139.53it/s]\u001b[A\n",
      "Validation DataLoader 0:  67%|████████████████████████████████████████████                      | 8/12 [00:00<00:00, 142.09it/s]\u001b[A\n",
      "Validation DataLoader 0:  75%|█████████████████████████████████████████████████▌                | 9/12 [00:00<00:00, 144.37it/s]\u001b[A\n",
      "Validation DataLoader 0:  83%|██████████████████████████████████████████████████████▏          | 10/12 [00:00<00:00, 144.58it/s]\u001b[A\n",
      "Validation DataLoader 0:  92%|███████████████████████████████████████████████████████████▌     | 11/12 [00:00<00:00, 145.87it/s]\u001b[A\n",
      "Validation DataLoader 0: 100%|█████████████████████████████████████████████████████████████████| 12/12 [00:00<00:00, 146.93it/s]\u001b[A\n",
      "Epoch 68: 100%|█| 48/48 [00:02<00:00, 23.33it/s, v_num=25, train_loss=0.894, train_accuracy=0.650, val_loss=0.998, val_accuracy=\u001b[A"
     ]
    },
    {
     "name": "stderr",
     "output_type": "stream",
     "text": [
      "Epoch 68, global step 3312: 'val_loss' reached 0.99781 (best 0.99781), saving model to '/home/till/Desktop/ds4w-user-identification/checkpoints/best-checkpoint-v24.ckpt' as top 1\n"
     ]
    },
    {
     "name": "stdout",
     "output_type": "stream",
     "text": [
      "Epoch 69: 100%|█| 48/48 [00:01<00:00, 33.33it/s, v_num=25, train_loss=0.953, train_accuracy=0.625, val_loss=0.998, val_accuracy=\n",
      "Validation: |                                                                                             | 0/? [00:00<?, ?it/s]\u001b[A\n",
      "Validation:   0%|                                                                                        | 0/12 [00:00<?, ?it/s]\u001b[A\n",
      "Validation DataLoader 0:   0%|                                                                           | 0/12 [00:00<?, ?it/s]\u001b[A\n",
      "Validation DataLoader 0:   8%|█████▌                                                            | 1/12 [00:00<00:00, 116.36it/s]\u001b[A\n",
      "Validation DataLoader 0:  17%|███████████                                                       | 2/12 [00:00<00:00, 114.93it/s]\u001b[A\n",
      "Validation DataLoader 0:  25%|████████████████▌                                                 | 3/12 [00:00<00:00, 115.43it/s]\u001b[A\n",
      "Validation DataLoader 0:  33%|██████████████████████                                            | 4/12 [00:00<00:00, 124.00it/s]\u001b[A\n",
      "Validation DataLoader 0:  42%|███████████████████████████▌                                      | 5/12 [00:00<00:00, 127.52it/s]\u001b[A\n",
      "Validation DataLoader 0:  50%|█████████████████████████████████                                 | 6/12 [00:00<00:00, 130.80it/s]\u001b[A\n",
      "Validation DataLoader 0:  58%|██████████████████████████████████████▌                           | 7/12 [00:00<00:00, 131.84it/s]\u001b[A\n",
      "Validation DataLoader 0:  67%|████████████████████████████████████████████                      | 8/12 [00:00<00:00, 135.37it/s]\u001b[A\n",
      "Validation DataLoader 0:  75%|█████████████████████████████████████████████████▌                | 9/12 [00:00<00:00, 137.53it/s]\u001b[A\n",
      "Validation DataLoader 0:  83%|██████████████████████████████████████████████████████▏          | 10/12 [00:00<00:00, 140.04it/s]\u001b[A\n",
      "Validation DataLoader 0:  92%|███████████████████████████████████████████████████████████▌     | 11/12 [00:00<00:00, 142.22it/s]\u001b[A\n",
      "Validation DataLoader 0: 100%|█████████████████████████████████████████████████████████████████| 12/12 [00:00<00:00, 142.98it/s]\u001b[A\n",
      "Epoch 69: 100%|█| 48/48 [00:02<00:00, 23.26it/s, v_num=25, train_loss=0.953, train_accuracy=0.625, val_loss=1.060, val_accuracy=\u001b[A"
     ]
    },
    {
     "name": "stderr",
     "output_type": "stream",
     "text": [
      "Epoch 69, global step 3360: 'val_loss' was not in top 1\n"
     ]
    },
    {
     "name": "stdout",
     "output_type": "stream",
     "text": [
      "Epoch 70: 100%|█| 48/48 [00:01<00:00, 32.72it/s, v_num=25, train_loss=0.854, train_accuracy=0.675, val_loss=1.060, val_accuracy=\n",
      "Validation: |                                                                                             | 0/? [00:00<?, ?it/s]\u001b[A\n",
      "Validation:   0%|                                                                                        | 0/12 [00:00<?, ?it/s]\u001b[A\n",
      "Validation DataLoader 0:   0%|                                                                           | 0/12 [00:00<?, ?it/s]\u001b[A\n",
      "Validation DataLoader 0:   8%|█████▌                                                            | 1/12 [00:00<00:00, 110.59it/s]\u001b[A\n",
      "Validation DataLoader 0:  17%|███████████                                                       | 2/12 [00:00<00:00, 125.12it/s]\u001b[A\n",
      "Validation DataLoader 0:  25%|████████████████▌                                                 | 3/12 [00:00<00:00, 132.20it/s]\u001b[A\n",
      "Validation DataLoader 0:  33%|██████████████████████                                            | 4/12 [00:00<00:00, 135.41it/s]\u001b[A\n",
      "Validation DataLoader 0:  42%|███████████████████████████▌                                      | 5/12 [00:00<00:00, 136.77it/s]\u001b[A\n",
      "Validation DataLoader 0:  50%|█████████████████████████████████                                 | 6/12 [00:00<00:00, 135.60it/s]\u001b[A\n",
      "Validation DataLoader 0:  58%|██████████████████████████████████████▌                           | 7/12 [00:00<00:00, 138.51it/s]\u001b[A\n",
      "Validation DataLoader 0:  67%|████████████████████████████████████████████                      | 8/12 [00:00<00:00, 138.33it/s]\u001b[A\n",
      "Validation DataLoader 0:  75%|█████████████████████████████████████████████████▌                | 9/12 [00:00<00:00, 138.40it/s]\u001b[A\n",
      "Validation DataLoader 0:  83%|██████████████████████████████████████████████████████▏          | 10/12 [00:00<00:00, 140.37it/s]\u001b[A\n",
      "Validation DataLoader 0:  92%|███████████████████████████████████████████████████████████▌     | 11/12 [00:00<00:00, 140.51it/s]\u001b[A\n",
      "Validation DataLoader 0: 100%|█████████████████████████████████████████████████████████████████| 12/12 [00:00<00:00, 142.21it/s]\u001b[A\n",
      "Epoch 70: 100%|█| 48/48 [00:02<00:00, 22.78it/s, v_num=25, train_loss=0.854, train_accuracy=0.675, val_loss=0.971, val_accuracy=\u001b[A"
     ]
    },
    {
     "name": "stderr",
     "output_type": "stream",
     "text": [
      "Epoch 70, global step 3408: 'val_loss' reached 0.97056 (best 0.97056), saving model to '/home/till/Desktop/ds4w-user-identification/checkpoints/best-checkpoint-v24.ckpt' as top 1\n"
     ]
    },
    {
     "name": "stdout",
     "output_type": "stream",
     "text": [
      "Epoch 71: 100%|█| 48/48 [00:01<00:00, 32.57it/s, v_num=25, train_loss=0.746, train_accuracy=0.800, val_loss=0.971, val_accuracy=\n",
      "Validation: |                                                                                             | 0/? [00:00<?, ?it/s]\u001b[A\n",
      "Validation:   0%|                                                                                        | 0/12 [00:00<?, ?it/s]\u001b[A\n",
      "Validation DataLoader 0:   0%|                                                                           | 0/12 [00:00<?, ?it/s]\u001b[A\n",
      "Validation DataLoader 0:   8%|█████▌                                                            | 1/12 [00:00<00:00, 101.17it/s]\u001b[A\n",
      "Validation DataLoader 0:  17%|███████████                                                       | 2/12 [00:00<00:00, 113.94it/s]\u001b[A\n",
      "Validation DataLoader 0:  25%|████████████████▌                                                 | 3/12 [00:00<00:00, 124.46it/s]\u001b[A\n",
      "Validation DataLoader 0:  33%|██████████████████████                                            | 4/12 [00:00<00:00, 128.61it/s]\u001b[A\n",
      "Validation DataLoader 0:  42%|███████████████████████████▌                                      | 5/12 [00:00<00:00, 131.44it/s]\u001b[A\n",
      "Validation DataLoader 0:  50%|█████████████████████████████████                                 | 6/12 [00:00<00:00, 131.69it/s]\u001b[A\n",
      "Validation DataLoader 0:  58%|██████████████████████████████████████▌                           | 7/12 [00:00<00:00, 131.26it/s]\u001b[A\n",
      "Validation DataLoader 0:  67%|████████████████████████████████████████████                      | 8/12 [00:00<00:00, 133.06it/s]\u001b[A\n",
      "Validation DataLoader 0:  75%|█████████████████████████████████████████████████▌                | 9/12 [00:00<00:00, 131.76it/s]\u001b[A\n",
      "Validation DataLoader 0:  83%|██████████████████████████████████████████████████████▏          | 10/12 [00:00<00:00, 134.00it/s]\u001b[A\n",
      "Validation DataLoader 0:  92%|███████████████████████████████████████████████████████████▌     | 11/12 [00:00<00:00, 136.46it/s]\u001b[A\n",
      "Validation DataLoader 0: 100%|█████████████████████████████████████████████████████████████████| 12/12 [00:00<00:00, 138.01it/s]\u001b[A\n",
      "Epoch 71: 100%|█| 48/48 [00:02<00:00, 22.92it/s, v_num=25, train_loss=0.746, train_accuracy=0.800, val_loss=1.000, val_accuracy=\u001b[A"
     ]
    },
    {
     "name": "stderr",
     "output_type": "stream",
     "text": [
      "Epoch 71, global step 3456: 'val_loss' was not in top 1\n"
     ]
    },
    {
     "name": "stdout",
     "output_type": "stream",
     "text": [
      "Epoch 72: 100%|█| 48/48 [00:01<00:00, 32.54it/s, v_num=25, train_loss=0.907, train_accuracy=0.625, val_loss=1.000, val_accuracy=\n",
      "Validation: |                                                                                             | 0/? [00:00<?, ?it/s]\u001b[A\n",
      "Validation:   0%|                                                                                        | 0/12 [00:00<?, ?it/s]\u001b[A\n",
      "Validation DataLoader 0:   0%|                                                                           | 0/12 [00:00<?, ?it/s]\u001b[A\n",
      "Validation DataLoader 0:   8%|█████▌                                                            | 1/12 [00:00<00:00, 124.28it/s]\u001b[A\n",
      "Validation DataLoader 0:  17%|███████████                                                       | 2/12 [00:00<00:00, 134.85it/s]\u001b[A\n",
      "Validation DataLoader 0:  25%|████████████████▌                                                 | 3/12 [00:00<00:00, 138.33it/s]\u001b[A\n",
      "Validation DataLoader 0:  33%|██████████████████████                                            | 4/12 [00:00<00:00, 144.09it/s]\u001b[A\n",
      "Validation DataLoader 0:  42%|███████████████████████████▌                                      | 5/12 [00:00<00:00, 145.13it/s]\u001b[A\n",
      "Validation DataLoader 0:  50%|█████████████████████████████████                                 | 6/12 [00:00<00:00, 143.01it/s]\u001b[A\n",
      "Validation DataLoader 0:  58%|██████████████████████████████████████▌                           | 7/12 [00:00<00:00, 144.94it/s]\u001b[A\n",
      "Validation DataLoader 0:  67%|████████████████████████████████████████████                      | 8/12 [00:00<00:00, 145.54it/s]\u001b[A\n",
      "Validation DataLoader 0:  75%|█████████████████████████████████████████████████▌                | 9/12 [00:00<00:00, 147.39it/s]\u001b[A\n",
      "Validation DataLoader 0:  83%|██████████████████████████████████████████████████████▏          | 10/12 [00:00<00:00, 147.79it/s]\u001b[A\n",
      "Validation DataLoader 0:  92%|███████████████████████████████████████████████████████████▌     | 11/12 [00:00<00:00, 146.78it/s]\u001b[A\n",
      "Validation DataLoader 0: 100%|█████████████████████████████████████████████████████████████████| 12/12 [00:00<00:00, 146.40it/s]\u001b[A\n",
      "Epoch 72: 100%|█| 48/48 [00:02<00:00, 22.49it/s, v_num=25, train_loss=0.907, train_accuracy=0.625, val_loss=0.958, val_accuracy=\u001b[A"
     ]
    },
    {
     "name": "stderr",
     "output_type": "stream",
     "text": [
      "Epoch 72, global step 3504: 'val_loss' reached 0.95797 (best 0.95797), saving model to '/home/till/Desktop/ds4w-user-identification/checkpoints/best-checkpoint-v24.ckpt' as top 1\n"
     ]
    },
    {
     "name": "stdout",
     "output_type": "stream",
     "text": [
      "Epoch 73: 100%|█| 48/48 [00:01<00:00, 33.03it/s, v_num=25, train_loss=0.706, train_accuracy=0.800, val_loss=0.958, val_accuracy=\n",
      "Validation: |                                                                                             | 0/? [00:00<?, ?it/s]\u001b[A\n",
      "Validation:   0%|                                                                                        | 0/12 [00:00<?, ?it/s]\u001b[A\n",
      "Validation DataLoader 0:   0%|                                                                           | 0/12 [00:00<?, ?it/s]\u001b[A\n",
      "Validation DataLoader 0:   8%|█████▌                                                            | 1/12 [00:00<00:00, 112.37it/s]\u001b[A\n",
      "Validation DataLoader 0:  17%|███████████                                                       | 2/12 [00:00<00:00, 117.49it/s]\u001b[A\n",
      "Validation DataLoader 0:  25%|████████████████▌                                                 | 3/12 [00:00<00:00, 118.42it/s]\u001b[A\n",
      "Validation DataLoader 0:  33%|██████████████████████                                            | 4/12 [00:00<00:00, 118.13it/s]\u001b[A\n",
      "Validation DataLoader 0:  42%|███████████████████████████▌                                      | 5/12 [00:00<00:00, 120.98it/s]\u001b[A\n",
      "Validation DataLoader 0:  50%|█████████████████████████████████                                 | 6/12 [00:00<00:00, 125.49it/s]\u001b[A\n",
      "Validation DataLoader 0:  58%|██████████████████████████████████████▌                           | 7/12 [00:00<00:00, 126.36it/s]\u001b[A\n",
      "Validation DataLoader 0:  67%|████████████████████████████████████████████                      | 8/12 [00:00<00:00, 127.91it/s]\u001b[A\n",
      "Validation DataLoader 0:  75%|█████████████████████████████████████████████████▌                | 9/12 [00:00<00:00, 126.92it/s]\u001b[A\n",
      "Validation DataLoader 0:  83%|██████████████████████████████████████████████████████▏          | 10/12 [00:00<00:00, 127.94it/s]\u001b[A\n",
      "Validation DataLoader 0:  92%|███████████████████████████████████████████████████████████▌     | 11/12 [00:00<00:00, 129.13it/s]\u001b[A\n",
      "Validation DataLoader 0: 100%|█████████████████████████████████████████████████████████████████| 12/12 [00:00<00:00, 129.57it/s]\u001b[A\n",
      "Epoch 73: 100%|█| 48/48 [00:02<00:00, 22.87it/s, v_num=25, train_loss=0.706, train_accuracy=0.800, val_loss=0.933, val_accuracy=\u001b[A"
     ]
    },
    {
     "name": "stderr",
     "output_type": "stream",
     "text": [
      "Epoch 73, global step 3552: 'val_loss' reached 0.93340 (best 0.93340), saving model to '/home/till/Desktop/ds4w-user-identification/checkpoints/best-checkpoint-v24.ckpt' as top 1\n"
     ]
    },
    {
     "name": "stdout",
     "output_type": "stream",
     "text": [
      "Epoch 74: 100%|█| 48/48 [00:01<00:00, 33.13it/s, v_num=25, train_loss=0.852, train_accuracy=0.750, val_loss=0.933, val_accuracy=\n",
      "Validation: |                                                                                             | 0/? [00:00<?, ?it/s]\u001b[A\n",
      "Validation:   0%|                                                                                        | 0/12 [00:00<?, ?it/s]\u001b[A\n",
      "Validation DataLoader 0:   0%|                                                                           | 0/12 [00:00<?, ?it/s]\u001b[A\n",
      "Validation DataLoader 0:   8%|█████▌                                                            | 1/12 [00:00<00:00, 125.92it/s]\u001b[A\n",
      "Validation DataLoader 0:  17%|███████████                                                       | 2/12 [00:00<00:00, 139.46it/s]\u001b[A\n",
      "Validation DataLoader 0:  25%|████████████████▌                                                 | 3/12 [00:00<00:00, 139.13it/s]\u001b[A\n",
      "Validation DataLoader 0:  33%|██████████████████████                                            | 4/12 [00:00<00:00, 143.74it/s]\u001b[A\n",
      "Validation DataLoader 0:  42%|███████████████████████████▌                                      | 5/12 [00:00<00:00, 146.16it/s]\u001b[A\n",
      "Validation DataLoader 0:  50%|█████████████████████████████████                                 | 6/12 [00:00<00:00, 144.23it/s]\u001b[A\n",
      "Validation DataLoader 0:  58%|██████████████████████████████████████▌                           | 7/12 [00:00<00:00, 145.10it/s]\u001b[A\n",
      "Validation DataLoader 0:  67%|████████████████████████████████████████████                      | 8/12 [00:00<00:00, 143.06it/s]\u001b[A\n",
      "Validation DataLoader 0:  75%|█████████████████████████████████████████████████▌                | 9/12 [00:00<00:00, 144.84it/s]\u001b[A\n",
      "Validation DataLoader 0:  83%|██████████████████████████████████████████████████████▏          | 10/12 [00:00<00:00, 143.84it/s]\u001b[A\n",
      "Validation DataLoader 0:  92%|███████████████████████████████████████████████████████████▌     | 11/12 [00:00<00:00, 143.72it/s]\u001b[A\n",
      "Validation DataLoader 0: 100%|█████████████████████████████████████████████████████████████████| 12/12 [00:00<00:00, 145.01it/s]\u001b[A\n",
      "Epoch 74: 100%|█| 48/48 [00:02<00:00, 22.83it/s, v_num=25, train_loss=0.852, train_accuracy=0.750, val_loss=1.170, val_accuracy=\u001b[A"
     ]
    },
    {
     "name": "stderr",
     "output_type": "stream",
     "text": [
      "Epoch 74, global step 3600: 'val_loss' was not in top 1\n"
     ]
    },
    {
     "name": "stdout",
     "output_type": "stream",
     "text": [
      "Epoch 75: 100%|█| 48/48 [00:01<00:00, 32.01it/s, v_num=25, train_loss=0.825, train_accuracy=0.675, val_loss=1.170, val_accuracy=\n",
      "Validation: |                                                                                             | 0/? [00:00<?, ?it/s]\u001b[A\n",
      "Validation:   0%|                                                                                        | 0/12 [00:00<?, ?it/s]\u001b[A\n",
      "Validation DataLoader 0:   0%|                                                                           | 0/12 [00:00<?, ?it/s]\u001b[A\n",
      "Validation DataLoader 0:   8%|█████▌                                                            | 1/12 [00:00<00:00, 113.77it/s]\u001b[A\n",
      "Validation DataLoader 0:  17%|███████████                                                       | 2/12 [00:00<00:00, 101.56it/s]\u001b[A\n",
      "Validation DataLoader 0:  25%|████████████████▌                                                 | 3/12 [00:00<00:00, 114.45it/s]\u001b[A\n",
      "Validation DataLoader 0:  33%|██████████████████████                                            | 4/12 [00:00<00:00, 123.26it/s]\u001b[A\n",
      "Validation DataLoader 0:  42%|███████████████████████████▌                                      | 5/12 [00:00<00:00, 126.96it/s]\u001b[A\n",
      "Validation DataLoader 0:  50%|█████████████████████████████████                                 | 6/12 [00:00<00:00, 131.75it/s]\u001b[A\n",
      "Validation DataLoader 0:  58%|██████████████████████████████████████▌                           | 7/12 [00:00<00:00, 134.54it/s]\u001b[A\n",
      "Validation DataLoader 0:  67%|████████████████████████████████████████████                      | 8/12 [00:00<00:00, 136.12it/s]\u001b[A\n",
      "Validation DataLoader 0:  75%|█████████████████████████████████████████████████▌                | 9/12 [00:00<00:00, 138.42it/s]\u001b[A\n",
      "Validation DataLoader 0:  83%|██████████████████████████████████████████████████████▏          | 10/12 [00:00<00:00, 139.14it/s]\u001b[A\n",
      "Validation DataLoader 0:  92%|███████████████████████████████████████████████████████████▌     | 11/12 [00:00<00:00, 140.64it/s]\u001b[A\n",
      "Validation DataLoader 0: 100%|█████████████████████████████████████████████████████████████████| 12/12 [00:00<00:00, 142.04it/s]\u001b[A\n",
      "Epoch 75: 100%|█| 48/48 [00:02<00:00, 22.65it/s, v_num=25, train_loss=0.825, train_accuracy=0.675, val_loss=1.010, val_accuracy=\u001b[A"
     ]
    },
    {
     "name": "stderr",
     "output_type": "stream",
     "text": [
      "Epoch 75, global step 3648: 'val_loss' was not in top 1\n"
     ]
    },
    {
     "name": "stdout",
     "output_type": "stream",
     "text": [
      "Epoch 76: 100%|█| 48/48 [00:01<00:00, 32.50it/s, v_num=25, train_loss=1.130, train_accuracy=0.575, val_loss=1.010, val_accuracy=\n",
      "Validation: |                                                                                             | 0/? [00:00<?, ?it/s]\u001b[A\n",
      "Validation:   0%|                                                                                        | 0/12 [00:00<?, ?it/s]\u001b[A\n",
      "Validation DataLoader 0:   0%|                                                                           | 0/12 [00:00<?, ?it/s]\u001b[A\n",
      "Validation DataLoader 0:   8%|█████▌                                                            | 1/12 [00:00<00:00, 115.34it/s]\u001b[A\n",
      "Validation DataLoader 0:  17%|███████████                                                       | 2/12 [00:00<00:00, 126.05it/s]\u001b[A\n",
      "Validation DataLoader 0:  25%|████████████████▌                                                 | 3/12 [00:00<00:00, 130.10it/s]\u001b[A\n",
      "Validation DataLoader 0:  33%|██████████████████████                                            | 4/12 [00:00<00:00, 133.16it/s]\u001b[A\n",
      "Validation DataLoader 0:  42%|███████████████████████████▌                                      | 5/12 [00:00<00:00, 134.11it/s]\u001b[A\n",
      "Validation DataLoader 0:  50%|█████████████████████████████████                                 | 6/12 [00:00<00:00, 137.77it/s]\u001b[A\n",
      "Validation DataLoader 0:  58%|██████████████████████████████████████▌                           | 7/12 [00:00<00:00, 137.22it/s]\u001b[A\n",
      "Validation DataLoader 0:  67%|████████████████████████████████████████████                      | 8/12 [00:00<00:00, 138.65it/s]\u001b[A\n",
      "Validation DataLoader 0:  75%|█████████████████████████████████████████████████▌                | 9/12 [00:00<00:00, 136.91it/s]\u001b[A\n",
      "Validation DataLoader 0:  83%|██████████████████████████████████████████████████████▏          | 10/12 [00:00<00:00, 139.09it/s]\u001b[A\n",
      "Validation DataLoader 0:  92%|███████████████████████████████████████████████████████████▌     | 11/12 [00:00<00:00, 141.24it/s]\u001b[A\n",
      "Validation DataLoader 0: 100%|█████████████████████████████████████████████████████████████████| 12/12 [00:00<00:00, 141.96it/s]\u001b[A\n",
      "Epoch 76: 100%|█| 48/48 [00:02<00:00, 22.64it/s, v_num=25, train_loss=1.130, train_accuracy=0.575, val_loss=1.050, val_accuracy=\u001b[A"
     ]
    },
    {
     "name": "stderr",
     "output_type": "stream",
     "text": [
      "Epoch 76, global step 3696: 'val_loss' was not in top 1\n"
     ]
    },
    {
     "name": "stdout",
     "output_type": "stream",
     "text": [
      "Epoch 77: 100%|█| 48/48 [00:01<00:00, 33.01it/s, v_num=25, train_loss=0.751, train_accuracy=0.825, val_loss=1.050, val_accuracy=\n",
      "Validation: |                                                                                             | 0/? [00:00<?, ?it/s]\u001b[A\n",
      "Validation:   0%|                                                                                        | 0/12 [00:00<?, ?it/s]\u001b[A\n",
      "Validation DataLoader 0:   0%|                                                                           | 0/12 [00:00<?, ?it/s]\u001b[A\n",
      "Validation DataLoader 0:   8%|█████▌                                                            | 1/12 [00:00<00:00, 112.28it/s]\u001b[A\n",
      "Validation DataLoader 0:  17%|███████████                                                       | 2/12 [00:00<00:00, 102.25it/s]\u001b[A\n",
      "Validation DataLoader 0:  25%|████████████████▌                                                 | 3/12 [00:00<00:00, 115.32it/s]\u001b[A\n",
      "Validation DataLoader 0:  33%|██████████████████████                                            | 4/12 [00:00<00:00, 121.15it/s]\u001b[A\n",
      "Validation DataLoader 0:  42%|███████████████████████████▌                                      | 5/12 [00:00<00:00, 128.04it/s]\u001b[A\n",
      "Validation DataLoader 0:  50%|█████████████████████████████████                                 | 6/12 [00:00<00:00, 124.16it/s]\u001b[A\n",
      "Validation DataLoader 0:  58%|██████████████████████████████████████▌                           | 7/12 [00:00<00:00, 128.09it/s]\u001b[A\n",
      "Validation DataLoader 0:  67%|████████████████████████████████████████████                      | 8/12 [00:00<00:00, 130.25it/s]\u001b[A\n",
      "Validation DataLoader 0:  75%|█████████████████████████████████████████████████▌                | 9/12 [00:00<00:00, 133.39it/s]\u001b[A\n",
      "Validation DataLoader 0:  83%|██████████████████████████████████████████████████████▏          | 10/12 [00:00<00:00, 136.27it/s]\u001b[A\n",
      "Validation DataLoader 0:  92%|███████████████████████████████████████████████████████████▌     | 11/12 [00:00<00:00, 136.76it/s]\u001b[A\n",
      "Validation DataLoader 0: 100%|█████████████████████████████████████████████████████████████████| 12/12 [00:00<00:00, 137.94it/s]\u001b[A\n",
      "Epoch 77: 100%|█| 48/48 [00:02<00:00, 22.79it/s, v_num=25, train_loss=0.751, train_accuracy=0.825, val_loss=0.991, val_accuracy=\u001b[A"
     ]
    },
    {
     "name": "stderr",
     "output_type": "stream",
     "text": [
      "Epoch 77, global step 3744: 'val_loss' was not in top 1\n"
     ]
    },
    {
     "name": "stdout",
     "output_type": "stream",
     "text": [
      "Epoch 78: 100%|█| 48/48 [00:01<00:00, 32.78it/s, v_num=25, train_loss=0.884, train_accuracy=0.675, val_loss=0.991, val_accuracy=\n",
      "Validation: |                                                                                             | 0/? [00:00<?, ?it/s]\u001b[A\n",
      "Validation:   0%|                                                                                        | 0/12 [00:00<?, ?it/s]\u001b[A\n",
      "Validation DataLoader 0:   0%|                                                                           | 0/12 [00:00<?, ?it/s]\u001b[A\n",
      "Validation DataLoader 0:   8%|█████▌                                                            | 1/12 [00:00<00:00, 102.84it/s]\u001b[A\n",
      "Validation DataLoader 0:  17%|███████████▏                                                       | 2/12 [00:00<00:00, 91.39it/s]\u001b[A\n",
      "Validation DataLoader 0:  25%|████████████████▌                                                 | 3/12 [00:00<00:00, 106.84it/s]\u001b[A\n",
      "Validation DataLoader 0:  33%|██████████████████████                                            | 4/12 [00:00<00:00, 116.92it/s]\u001b[A\n",
      "Validation DataLoader 0:  42%|███████████████████████████▌                                      | 5/12 [00:00<00:00, 123.79it/s]\u001b[A\n",
      "Validation DataLoader 0:  50%|█████████████████████████████████                                 | 6/12 [00:00<00:00, 129.83it/s]\u001b[A\n",
      "Validation DataLoader 0:  58%|██████████████████████████████████████▌                           | 7/12 [00:00<00:00, 133.88it/s]\u001b[A\n",
      "Validation DataLoader 0:  67%|████████████████████████████████████████████                      | 8/12 [00:00<00:00, 137.50it/s]\u001b[A\n",
      "Validation DataLoader 0:  75%|█████████████████████████████████████████████████▌                | 9/12 [00:00<00:00, 140.51it/s]\u001b[A\n",
      "Validation DataLoader 0:  83%|██████████████████████████████████████████████████████▏          | 10/12 [00:00<00:00, 139.04it/s]\u001b[A\n",
      "Validation DataLoader 0:  92%|███████████████████████████████████████████████████████████▌     | 11/12 [00:00<00:00, 141.18it/s]\u001b[A\n",
      "Validation DataLoader 0: 100%|█████████████████████████████████████████████████████████████████| 12/12 [00:00<00:00, 142.56it/s]\u001b[A\n",
      "Epoch 78: 100%|█| 48/48 [00:02<00:00, 22.43it/s, v_num=25, train_loss=0.884, train_accuracy=0.675, val_loss=0.892, val_accuracy=\u001b[A"
     ]
    },
    {
     "name": "stderr",
     "output_type": "stream",
     "text": [
      "Epoch 78, global step 3792: 'val_loss' reached 0.89176 (best 0.89176), saving model to '/home/till/Desktop/ds4w-user-identification/checkpoints/best-checkpoint-v24.ckpt' as top 1\n"
     ]
    },
    {
     "name": "stdout",
     "output_type": "stream",
     "text": [
      "Epoch 79: 100%|█| 48/48 [00:01<00:00, 31.71it/s, v_num=25, train_loss=0.875, train_accuracy=0.750, val_loss=0.892, val_accuracy=\n",
      "Validation: |                                                                                             | 0/? [00:00<?, ?it/s]\u001b[A\n",
      "Validation:   0%|                                                                                        | 0/12 [00:00<?, ?it/s]\u001b[A\n",
      "Validation DataLoader 0:   0%|                                                                           | 0/12 [00:00<?, ?it/s]\u001b[A\n",
      "Validation DataLoader 0:   8%|█████▌                                                            | 1/12 [00:00<00:00, 114.07it/s]\u001b[A\n",
      "Validation DataLoader 0:  17%|███████████                                                       | 2/12 [00:00<00:00, 120.78it/s]\u001b[A\n",
      "Validation DataLoader 0:  25%|████████████████▌                                                 | 3/12 [00:00<00:00, 129.77it/s]\u001b[A\n",
      "Validation DataLoader 0:  33%|██████████████████████                                            | 4/12 [00:00<00:00, 131.12it/s]\u001b[A\n",
      "Validation DataLoader 0:  42%|███████████████████████████▌                                      | 5/12 [00:00<00:00, 135.08it/s]\u001b[A\n",
      "Validation DataLoader 0:  50%|█████████████████████████████████                                 | 6/12 [00:00<00:00, 137.71it/s]\u001b[A\n",
      "Validation DataLoader 0:  58%|██████████████████████████████████████▌                           | 7/12 [00:00<00:00, 139.60it/s]\u001b[A\n",
      "Validation DataLoader 0:  67%|████████████████████████████████████████████                      | 8/12 [00:00<00:00, 141.30it/s]\u001b[A\n",
      "Validation DataLoader 0:  75%|█████████████████████████████████████████████████▌                | 9/12 [00:00<00:00, 141.07it/s]\u001b[A\n",
      "Validation DataLoader 0:  83%|██████████████████████████████████████████████████████▏          | 10/12 [00:00<00:00, 142.11it/s]\u001b[A\n",
      "Validation DataLoader 0:  92%|███████████████████████████████████████████████████████████▌     | 11/12 [00:00<00:00, 141.40it/s]\u001b[A\n",
      "Validation DataLoader 0: 100%|█████████████████████████████████████████████████████████████████| 12/12 [00:00<00:00, 143.28it/s]\u001b[A\n",
      "Epoch 79: 100%|█| 48/48 [00:02<00:00, 22.34it/s, v_num=25, train_loss=0.875, train_accuracy=0.750, val_loss=0.871, val_accuracy=\u001b[A"
     ]
    },
    {
     "name": "stderr",
     "output_type": "stream",
     "text": [
      "Epoch 79, global step 3840: 'val_loss' reached 0.87086 (best 0.87086), saving model to '/home/till/Desktop/ds4w-user-identification/checkpoints/best-checkpoint-v24.ckpt' as top 1\n"
     ]
    },
    {
     "name": "stdout",
     "output_type": "stream",
     "text": [
      "Epoch 80: 100%|█| 48/48 [00:01<00:00, 32.37it/s, v_num=25, train_loss=0.670, train_accuracy=0.775, val_loss=0.871, val_accuracy=\n",
      "Validation: |                                                                                             | 0/? [00:00<?, ?it/s]\u001b[A\n",
      "Validation:   0%|                                                                                        | 0/12 [00:00<?, ?it/s]\u001b[A\n",
      "Validation DataLoader 0:   0%|                                                                           | 0/12 [00:00<?, ?it/s]\u001b[A\n",
      "Validation DataLoader 0:   8%|█████▌                                                            | 1/12 [00:00<00:00, 131.19it/s]\u001b[A\n",
      "Validation DataLoader 0:  17%|███████████                                                       | 2/12 [00:00<00:00, 133.69it/s]\u001b[A\n",
      "Validation DataLoader 0:  25%|████████████████▌                                                 | 3/12 [00:00<00:00, 135.71it/s]\u001b[A\n",
      "Validation DataLoader 0:  33%|██████████████████████                                            | 4/12 [00:00<00:00, 127.93it/s]\u001b[A\n",
      "Validation DataLoader 0:  42%|███████████████████████████▌                                      | 5/12 [00:00<00:00, 129.73it/s]\u001b[A\n",
      "Validation DataLoader 0:  50%|█████████████████████████████████                                 | 6/12 [00:00<00:00, 134.33it/s]\u001b[A\n",
      "Validation DataLoader 0:  58%|██████████████████████████████████████▌                           | 7/12 [00:00<00:00, 135.97it/s]\u001b[A\n",
      "Validation DataLoader 0:  67%|████████████████████████████████████████████                      | 8/12 [00:00<00:00, 138.61it/s]\u001b[A\n",
      "Validation DataLoader 0:  75%|█████████████████████████████████████████████████▌                | 9/12 [00:00<00:00, 140.90it/s]\u001b[A\n",
      "Validation DataLoader 0:  83%|██████████████████████████████████████████████████████▏          | 10/12 [00:00<00:00, 141.20it/s]\u001b[A\n",
      "Validation DataLoader 0:  92%|███████████████████████████████████████████████████████████▌     | 11/12 [00:00<00:00, 142.75it/s]\u001b[A\n",
      "Validation DataLoader 0: 100%|█████████████████████████████████████████████████████████████████| 12/12 [00:00<00:00, 141.87it/s]\u001b[A\n",
      "Epoch 80: 100%|█| 48/48 [00:02<00:00, 22.51it/s, v_num=25, train_loss=0.670, train_accuracy=0.775, val_loss=0.860, val_accuracy=\u001b[A"
     ]
    },
    {
     "name": "stderr",
     "output_type": "stream",
     "text": [
      "Epoch 80, global step 3888: 'val_loss' reached 0.86042 (best 0.86042), saving model to '/home/till/Desktop/ds4w-user-identification/checkpoints/best-checkpoint-v24.ckpt' as top 1\n"
     ]
    },
    {
     "name": "stdout",
     "output_type": "stream",
     "text": [
      "Epoch 81: 100%|█| 48/48 [00:01<00:00, 32.92it/s, v_num=25, train_loss=0.821, train_accuracy=0.700, val_loss=0.860, val_accuracy=\n",
      "Validation: |                                                                                             | 0/? [00:00<?, ?it/s]\u001b[A\n",
      "Validation:   0%|                                                                                        | 0/12 [00:00<?, ?it/s]\u001b[A\n",
      "Validation DataLoader 0:   0%|                                                                           | 0/12 [00:00<?, ?it/s]\u001b[A\n",
      "Validation DataLoader 0:   8%|█████▌                                                            | 1/12 [00:00<00:00, 121.54it/s]\u001b[A\n",
      "Validation DataLoader 0:  17%|███████████                                                       | 2/12 [00:00<00:00, 130.58it/s]\u001b[A\n",
      "Validation DataLoader 0:  25%|████████████████▌                                                 | 3/12 [00:00<00:00, 138.84it/s]\u001b[A\n",
      "Validation DataLoader 0:  33%|██████████████████████                                            | 4/12 [00:00<00:00, 143.92it/s]\u001b[A\n",
      "Validation DataLoader 0:  42%|███████████████████████████▌                                      | 5/12 [00:00<00:00, 143.76it/s]\u001b[A\n",
      "Validation DataLoader 0:  50%|█████████████████████████████████                                 | 6/12 [00:00<00:00, 146.70it/s]\u001b[A\n",
      "Validation DataLoader 0:  58%|██████████████████████████████████████▌                           | 7/12 [00:00<00:00, 147.84it/s]\u001b[A\n",
      "Validation DataLoader 0:  67%|████████████████████████████████████████████                      | 8/12 [00:00<00:00, 149.02it/s]\u001b[A\n",
      "Validation DataLoader 0:  75%|█████████████████████████████████████████████████▌                | 9/12 [00:00<00:00, 150.65it/s]\u001b[A\n",
      "Validation DataLoader 0:  83%|██████████████████████████████████████████████████████▏          | 10/12 [00:00<00:00, 150.08it/s]\u001b[A\n",
      "Validation DataLoader 0:  92%|███████████████████████████████████████████████████████████▌     | 11/12 [00:00<00:00, 148.64it/s]\u001b[A\n",
      "Validation DataLoader 0: 100%|█████████████████████████████████████████████████████████████████| 12/12 [00:00<00:00, 149.45it/s]\u001b[A\n",
      "Epoch 81: 100%|█| 48/48 [00:02<00:00, 22.57it/s, v_num=25, train_loss=0.821, train_accuracy=0.700, val_loss=0.915, val_accuracy=\u001b[A"
     ]
    },
    {
     "name": "stderr",
     "output_type": "stream",
     "text": [
      "Epoch 81, global step 3936: 'val_loss' was not in top 1\n"
     ]
    },
    {
     "name": "stdout",
     "output_type": "stream",
     "text": [
      "Epoch 82: 100%|█| 48/48 [00:01<00:00, 32.96it/s, v_num=25, train_loss=0.760, train_accuracy=0.775, val_loss=0.915, val_accuracy=\n",
      "Validation: |                                                                                             | 0/? [00:00<?, ?it/s]\u001b[A\n",
      "Validation:   0%|                                                                                        | 0/12 [00:00<?, ?it/s]\u001b[A\n",
      "Validation DataLoader 0:   0%|                                                                           | 0/12 [00:00<?, ?it/s]\u001b[A\n",
      "Validation DataLoader 0:   8%|█████▌                                                            | 1/12 [00:00<00:00, 111.08it/s]\u001b[A\n",
      "Validation DataLoader 0:  17%|███████████                                                       | 2/12 [00:00<00:00, 121.15it/s]\u001b[A\n",
      "Validation DataLoader 0:  25%|████████████████▌                                                 | 3/12 [00:00<00:00, 122.80it/s]\u001b[A\n",
      "Validation DataLoader 0:  33%|██████████████████████                                            | 4/12 [00:00<00:00, 131.57it/s]\u001b[A\n",
      "Validation DataLoader 0:  42%|███████████████████████████▌                                      | 5/12 [00:00<00:00, 134.83it/s]\u001b[A\n",
      "Validation DataLoader 0:  50%|█████████████████████████████████                                 | 6/12 [00:00<00:00, 136.63it/s]\u001b[A\n",
      "Validation DataLoader 0:  58%|██████████████████████████████████████▌                           | 7/12 [00:00<00:00, 138.12it/s]\u001b[A\n",
      "Validation DataLoader 0:  67%|████████████████████████████████████████████                      | 8/12 [00:00<00:00, 138.09it/s]\u001b[A\n",
      "Validation DataLoader 0:  75%|█████████████████████████████████████████████████▌                | 9/12 [00:00<00:00, 140.94it/s]\u001b[A\n",
      "Validation DataLoader 0:  83%|██████████████████████████████████████████████████████▏          | 10/12 [00:00<00:00, 140.76it/s]\u001b[A\n",
      "Validation DataLoader 0:  92%|███████████████████████████████████████████████████████████▌     | 11/12 [00:00<00:00, 141.59it/s]\u001b[A\n",
      "Validation DataLoader 0: 100%|█████████████████████████████████████████████████████████████████| 12/12 [00:00<00:00, 141.67it/s]\u001b[A\n",
      "Epoch 82: 100%|█| 48/48 [00:02<00:00, 22.70it/s, v_num=25, train_loss=0.760, train_accuracy=0.775, val_loss=0.928, val_accuracy=\u001b[A"
     ]
    },
    {
     "name": "stderr",
     "output_type": "stream",
     "text": [
      "Epoch 82, global step 3984: 'val_loss' was not in top 1\n"
     ]
    },
    {
     "name": "stdout",
     "output_type": "stream",
     "text": [
      "Epoch 83: 100%|█| 48/48 [00:01<00:00, 32.25it/s, v_num=25, train_loss=0.673, train_accuracy=0.725, val_loss=0.928, val_accuracy=\n",
      "Validation: |                                                                                             | 0/? [00:00<?, ?it/s]\u001b[A\n",
      "Validation:   0%|                                                                                        | 0/12 [00:00<?, ?it/s]\u001b[A\n",
      "Validation DataLoader 0:   0%|                                                                           | 0/12 [00:00<?, ?it/s]\u001b[A\n",
      "Validation DataLoader 0:   8%|█████▌                                                            | 1/12 [00:00<00:00, 125.27it/s]\u001b[A\n",
      "Validation DataLoader 0:  17%|███████████                                                       | 2/12 [00:00<00:00, 136.81it/s]\u001b[A\n",
      "Validation DataLoader 0:  25%|████████████████▌                                                 | 3/12 [00:00<00:00, 139.81it/s]\u001b[A\n",
      "Validation DataLoader 0:  33%|██████████████████████                                            | 4/12 [00:00<00:00, 145.62it/s]\u001b[A\n",
      "Validation DataLoader 0:  42%|███████████████████████████▌                                      | 5/12 [00:00<00:00, 145.66it/s]\u001b[A\n",
      "Validation DataLoader 0:  50%|█████████████████████████████████                                 | 6/12 [00:00<00:00, 147.98it/s]\u001b[A\n",
      "Validation DataLoader 0:  58%|██████████████████████████████████████▌                           | 7/12 [00:00<00:00, 149.34it/s]\u001b[A\n",
      "Validation DataLoader 0:  67%|████████████████████████████████████████████                      | 8/12 [00:00<00:00, 149.89it/s]\u001b[A\n",
      "Validation DataLoader 0:  75%|█████████████████████████████████████████████████▌                | 9/12 [00:00<00:00, 151.07it/s]\u001b[A\n",
      "Validation DataLoader 0:  83%|██████████████████████████████████████████████████████▏          | 10/12 [00:00<00:00, 149.25it/s]\u001b[A\n",
      "Validation DataLoader 0:  92%|███████████████████████████████████████████████████████████▌     | 11/12 [00:00<00:00, 150.37it/s]\u001b[A\n",
      "Validation DataLoader 0: 100%|█████████████████████████████████████████████████████████████████| 12/12 [00:00<00:00, 150.76it/s]\u001b[A\n",
      "Epoch 83: 100%|█| 48/48 [00:02<00:00, 22.51it/s, v_num=25, train_loss=0.673, train_accuracy=0.725, val_loss=0.867, val_accuracy=\u001b[A"
     ]
    },
    {
     "name": "stderr",
     "output_type": "stream",
     "text": [
      "Epoch 83, global step 4032: 'val_loss' was not in top 1\n"
     ]
    },
    {
     "name": "stdout",
     "output_type": "stream",
     "text": [
      "Epoch 84: 100%|█| 48/48 [00:01<00:00, 33.44it/s, v_num=25, train_loss=0.935, train_accuracy=0.650, val_loss=0.867, val_accuracy=\n",
      "Validation: |                                                                                             | 0/? [00:00<?, ?it/s]\u001b[A\n",
      "Validation:   0%|                                                                                        | 0/12 [00:00<?, ?it/s]\u001b[A\n",
      "Validation DataLoader 0:   0%|                                                                           | 0/12 [00:00<?, ?it/s]\u001b[A\n",
      "Validation DataLoader 0:   8%|█████▌                                                            | 1/12 [00:00<00:00, 120.04it/s]\u001b[A\n",
      "Validation DataLoader 0:  17%|███████████                                                       | 2/12 [00:00<00:00, 105.93it/s]\u001b[A\n",
      "Validation DataLoader 0:  25%|████████████████▌                                                 | 3/12 [00:00<00:00, 118.13it/s]\u001b[A\n",
      "Validation DataLoader 0:  33%|██████████████████████                                            | 4/12 [00:00<00:00, 127.02it/s]\u001b[A\n",
      "Validation DataLoader 0:  42%|███████████████████████████▌                                      | 5/12 [00:00<00:00, 129.59it/s]\u001b[A\n",
      "Validation DataLoader 0:  50%|█████████████████████████████████                                 | 6/12 [00:00<00:00, 133.78it/s]\u001b[A\n",
      "Validation DataLoader 0:  58%|██████████████████████████████████████▌                           | 7/12 [00:00<00:00, 136.82it/s]\u001b[A\n",
      "Validation DataLoader 0:  67%|████████████████████████████████████████████                      | 8/12 [00:00<00:00, 138.86it/s]\u001b[A\n",
      "Validation DataLoader 0:  75%|█████████████████████████████████████████████████▌                | 9/12 [00:00<00:00, 141.35it/s]\u001b[A\n",
      "Validation DataLoader 0:  83%|██████████████████████████████████████████████████████▏          | 10/12 [00:00<00:00, 139.53it/s]\u001b[A\n",
      "Validation DataLoader 0:  92%|███████████████████████████████████████████████████████████▌     | 11/12 [00:00<00:00, 141.30it/s]\u001b[A\n",
      "Validation DataLoader 0: 100%|█████████████████████████████████████████████████████████████████| 12/12 [00:00<00:00, 141.88it/s]\u001b[A\n",
      "Epoch 84: 100%|█| 48/48 [00:02<00:00, 23.23it/s, v_num=25, train_loss=0.935, train_accuracy=0.650, val_loss=0.857, val_accuracy=\u001b[A"
     ]
    },
    {
     "name": "stderr",
     "output_type": "stream",
     "text": [
      "Epoch 84, global step 4080: 'val_loss' reached 0.85696 (best 0.85696), saving model to '/home/till/Desktop/ds4w-user-identification/checkpoints/best-checkpoint-v24.ckpt' as top 1\n"
     ]
    },
    {
     "name": "stdout",
     "output_type": "stream",
     "text": [
      "Epoch 85: 100%|█| 48/48 [00:01<00:00, 32.67it/s, v_num=25, train_loss=0.858, train_accuracy=0.675, val_loss=0.857, val_accuracy=\n",
      "Validation: |                                                                                             | 0/? [00:00<?, ?it/s]\u001b[A\n",
      "Validation:   0%|                                                                                        | 0/12 [00:00<?, ?it/s]\u001b[A\n",
      "Validation DataLoader 0:   0%|                                                                           | 0/12 [00:00<?, ?it/s]\u001b[A\n",
      "Validation DataLoader 0:   8%|█████▌                                                            | 1/12 [00:00<00:00, 136.53it/s]\u001b[A\n",
      "Validation DataLoader 0:  17%|███████████                                                       | 2/12 [00:00<00:00, 102.69it/s]\u001b[A\n",
      "Validation DataLoader 0:  25%|████████████████▌                                                 | 3/12 [00:00<00:00, 116.10it/s]\u001b[A\n",
      "Validation DataLoader 0:  33%|██████████████████████                                            | 4/12 [00:00<00:00, 121.07it/s]\u001b[A\n",
      "Validation DataLoader 0:  42%|███████████████████████████▌                                      | 5/12 [00:00<00:00, 125.96it/s]\u001b[A\n",
      "Validation DataLoader 0:  50%|█████████████████████████████████                                 | 6/12 [00:00<00:00, 127.85it/s]\u001b[A\n",
      "Validation DataLoader 0:  58%|██████████████████████████████████████▌                           | 7/12 [00:00<00:00, 129.97it/s]\u001b[A\n",
      "Validation DataLoader 0:  67%|████████████████████████████████████████████                      | 8/12 [00:00<00:00, 133.33it/s]\u001b[A\n",
      "Validation DataLoader 0:  75%|█████████████████████████████████████████████████▌                | 9/12 [00:00<00:00, 134.15it/s]\u001b[A\n",
      "Validation DataLoader 0:  83%|██████████████████████████████████████████████████████▏          | 10/12 [00:00<00:00, 136.56it/s]\u001b[A\n",
      "Validation DataLoader 0:  92%|███████████████████████████████████████████████████████████▌     | 11/12 [00:00<00:00, 136.54it/s]\u001b[A\n",
      "Validation DataLoader 0: 100%|█████████████████████████████████████████████████████████████████| 12/12 [00:00<00:00, 138.12it/s]\u001b[A\n",
      "Epoch 85: 100%|█| 48/48 [00:02<00:00, 22.62it/s, v_num=25, train_loss=0.858, train_accuracy=0.675, val_loss=0.879, val_accuracy=\u001b[A"
     ]
    },
    {
     "name": "stderr",
     "output_type": "stream",
     "text": [
      "Epoch 85, global step 4128: 'val_loss' was not in top 1\n"
     ]
    },
    {
     "name": "stdout",
     "output_type": "stream",
     "text": [
      "Epoch 86: 100%|█| 48/48 [00:01<00:00, 32.17it/s, v_num=25, train_loss=0.773, train_accuracy=0.725, val_loss=0.879, val_accuracy=\n",
      "Validation: |                                                                                             | 0/? [00:00<?, ?it/s]\u001b[A\n",
      "Validation:   0%|                                                                                        | 0/12 [00:00<?, ?it/s]\u001b[A\n",
      "Validation DataLoader 0:   0%|                                                                           | 0/12 [00:00<?, ?it/s]\u001b[A\n",
      "Validation DataLoader 0:   8%|█████▌                                                            | 1/12 [00:00<00:00, 132.67it/s]\u001b[A\n",
      "Validation DataLoader 0:  17%|███████████                                                       | 2/12 [00:00<00:00, 133.48it/s]\u001b[A\n",
      "Validation DataLoader 0:  25%|████████████████▌                                                 | 3/12 [00:00<00:00, 140.98it/s]\u001b[A\n",
      "Validation DataLoader 0:  33%|██████████████████████                                            | 4/12 [00:00<00:00, 140.69it/s]\u001b[A\n",
      "Validation DataLoader 0:  42%|███████████████████████████▌                                      | 5/12 [00:00<00:00, 142.69it/s]\u001b[A\n",
      "Validation DataLoader 0:  50%|█████████████████████████████████                                 | 6/12 [00:00<00:00, 143.65it/s]\u001b[A\n",
      "Validation DataLoader 0:  58%|██████████████████████████████████████▌                           | 7/12 [00:00<00:00, 142.25it/s]\u001b[A\n",
      "Validation DataLoader 0:  67%|████████████████████████████████████████████                      | 8/12 [00:00<00:00, 142.71it/s]\u001b[A\n",
      "Validation DataLoader 0:  75%|█████████████████████████████████████████████████▌                | 9/12 [00:00<00:00, 141.81it/s]\u001b[A\n",
      "Validation DataLoader 0:  83%|██████████████████████████████████████████████████████▏          | 10/12 [00:00<00:00, 142.14it/s]\u001b[A\n",
      "Validation DataLoader 0:  92%|███████████████████████████████████████████████████████████▌     | 11/12 [00:00<00:00, 141.87it/s]\u001b[A\n",
      "Validation DataLoader 0: 100%|█████████████████████████████████████████████████████████████████| 12/12 [00:00<00:00, 142.54it/s]\u001b[A\n",
      "Epoch 86: 100%|█| 48/48 [00:02<00:00, 22.23it/s, v_num=25, train_loss=0.773, train_accuracy=0.725, val_loss=0.877, val_accuracy=\u001b[A"
     ]
    },
    {
     "name": "stderr",
     "output_type": "stream",
     "text": [
      "Epoch 86, global step 4176: 'val_loss' was not in top 1\n"
     ]
    },
    {
     "name": "stdout",
     "output_type": "stream",
     "text": [
      "Epoch 87: 100%|█| 48/48 [00:01<00:00, 32.20it/s, v_num=25, train_loss=0.861, train_accuracy=0.700, val_loss=0.877, val_accuracy=\n",
      "Validation: |                                                                                             | 0/? [00:00<?, ?it/s]\u001b[A\n",
      "Validation:   0%|                                                                                        | 0/12 [00:00<?, ?it/s]\u001b[A\n",
      "Validation DataLoader 0:   0%|                                                                           | 0/12 [00:00<?, ?it/s]\u001b[A\n",
      "Validation DataLoader 0:   8%|█████▌                                                            | 1/12 [00:00<00:00, 135.29it/s]\u001b[A\n",
      "Validation DataLoader 0:  17%|███████████                                                       | 2/12 [00:00<00:00, 118.42it/s]\u001b[A\n",
      "Validation DataLoader 0:  25%|████████████████▌                                                 | 3/12 [00:00<00:00, 129.86it/s]\u001b[A\n",
      "Validation DataLoader 0:  33%|██████████████████████                                            | 4/12 [00:00<00:00, 134.17it/s]\u001b[A\n",
      "Validation DataLoader 0:  42%|███████████████████████████▌                                      | 5/12 [00:00<00:00, 138.15it/s]\u001b[A\n",
      "Validation DataLoader 0:  50%|█████████████████████████████████                                 | 6/12 [00:00<00:00, 141.74it/s]\u001b[A\n",
      "Validation DataLoader 0:  58%|██████████████████████████████████████▌                           | 7/12 [00:00<00:00, 138.65it/s]\u001b[A\n",
      "Validation DataLoader 0:  67%|████████████████████████████████████████████                      | 8/12 [00:00<00:00, 140.93it/s]\u001b[A\n",
      "Validation DataLoader 0:  75%|█████████████████████████████████████████████████▌                | 9/12 [00:00<00:00, 139.84it/s]\u001b[A\n",
      "Validation DataLoader 0:  83%|██████████████████████████████████████████████████████▏          | 10/12 [00:00<00:00, 140.42it/s]\u001b[A\n",
      "Validation DataLoader 0:  92%|███████████████████████████████████████████████████████████▌     | 11/12 [00:00<00:00, 141.27it/s]\u001b[A\n",
      "Validation DataLoader 0: 100%|█████████████████████████████████████████████████████████████████| 12/12 [00:00<00:00, 141.19it/s]\u001b[A\n",
      "Epoch 87: 100%|█| 48/48 [00:02<00:00, 22.33it/s, v_num=25, train_loss=0.861, train_accuracy=0.700, val_loss=0.878, val_accuracy=\u001b[A"
     ]
    },
    {
     "name": "stderr",
     "output_type": "stream",
     "text": [
      "Epoch 87, global step 4224: 'val_loss' was not in top 1\n"
     ]
    },
    {
     "name": "stdout",
     "output_type": "stream",
     "text": [
      "Epoch 88: 100%|█| 48/48 [00:01<00:00, 32.66it/s, v_num=25, train_loss=0.916, train_accuracy=0.700, val_loss=0.878, val_accuracy=\n",
      "Validation: |                                                                                             | 0/? [00:00<?, ?it/s]\u001b[A\n",
      "Validation:   0%|                                                                                        | 0/12 [00:00<?, ?it/s]\u001b[A\n",
      "Validation DataLoader 0:   0%|                                                                           | 0/12 [00:00<?, ?it/s]\u001b[A\n",
      "Validation DataLoader 0:   8%|█████▌                                                            | 1/12 [00:00<00:00, 128.58it/s]\u001b[A\n",
      "Validation DataLoader 0:  17%|███████████                                                       | 2/12 [00:00<00:00, 132.61it/s]\u001b[A\n",
      "Validation DataLoader 0:  25%|████████████████▌                                                 | 3/12 [00:00<00:00, 133.86it/s]\u001b[A\n",
      "Validation DataLoader 0:  33%|██████████████████████                                            | 4/12 [00:00<00:00, 133.87it/s]\u001b[A\n",
      "Validation DataLoader 0:  42%|███████████████████████████▌                                      | 5/12 [00:00<00:00, 134.39it/s]\u001b[A\n",
      "Validation DataLoader 0:  50%|█████████████████████████████████                                 | 6/12 [00:00<00:00, 135.81it/s]\u001b[A\n",
      "Validation DataLoader 0:  58%|██████████████████████████████████████▌                           | 7/12 [00:00<00:00, 133.35it/s]\u001b[A\n",
      "Validation DataLoader 0:  67%|████████████████████████████████████████████                      | 8/12 [00:00<00:00, 135.22it/s]\u001b[A\n",
      "Validation DataLoader 0:  75%|█████████████████████████████████████████████████▌                | 9/12 [00:00<00:00, 135.87it/s]\u001b[A\n",
      "Validation DataLoader 0:  83%|██████████████████████████████████████████████████████▏          | 10/12 [00:00<00:00, 137.43it/s]\u001b[A\n",
      "Validation DataLoader 0:  92%|███████████████████████████████████████████████████████████▌     | 11/12 [00:00<00:00, 136.99it/s]\u001b[A\n",
      "Validation DataLoader 0: 100%|█████████████████████████████████████████████████████████████████| 12/12 [00:00<00:00, 136.97it/s]\u001b[A\n",
      "Epoch 88: 100%|█| 48/48 [00:02<00:00, 22.28it/s, v_num=25, train_loss=0.916, train_accuracy=0.700, val_loss=0.942, val_accuracy=\u001b[A"
     ]
    },
    {
     "name": "stderr",
     "output_type": "stream",
     "text": [
      "Epoch 88, global step 4272: 'val_loss' was not in top 1\n"
     ]
    },
    {
     "name": "stdout",
     "output_type": "stream",
     "text": [
      "Epoch 89: 100%|█| 48/48 [00:01<00:00, 33.30it/s, v_num=25, train_loss=0.678, train_accuracy=0.750, val_loss=0.942, val_accuracy=\n",
      "Validation: |                                                                                             | 0/? [00:00<?, ?it/s]\u001b[A\n",
      "Validation:   0%|                                                                                        | 0/12 [00:00<?, ?it/s]\u001b[A\n",
      "Validation DataLoader 0:   0%|                                                                           | 0/12 [00:00<?, ?it/s]\u001b[A\n",
      "Validation DataLoader 0:   8%|█████▌                                                            | 1/12 [00:00<00:00, 133.61it/s]\u001b[A\n",
      "Validation DataLoader 0:  17%|███████████                                                       | 2/12 [00:00<00:00, 138.11it/s]\u001b[A\n",
      "Validation DataLoader 0:  25%|████████████████▌                                                 | 3/12 [00:00<00:00, 136.91it/s]\u001b[A\n",
      "Validation DataLoader 0:  33%|██████████████████████                                            | 4/12 [00:00<00:00, 135.21it/s]\u001b[A\n",
      "Validation DataLoader 0:  42%|███████████████████████████▌                                      | 5/12 [00:00<00:00, 138.63it/s]\u001b[A\n",
      "Validation DataLoader 0:  50%|█████████████████████████████████                                 | 6/12 [00:00<00:00, 136.81it/s]\u001b[A\n",
      "Validation DataLoader 0:  58%|██████████████████████████████████████▌                           | 7/12 [00:00<00:00, 136.62it/s]\u001b[A\n",
      "Validation DataLoader 0:  67%|████████████████████████████████████████████                      | 8/12 [00:00<00:00, 138.15it/s]\u001b[A\n",
      "Validation DataLoader 0:  75%|█████████████████████████████████████████████████▌                | 9/12 [00:00<00:00, 140.76it/s]\u001b[A\n",
      "Validation DataLoader 0:  83%|██████████████████████████████████████████████████████▏          | 10/12 [00:00<00:00, 142.21it/s]\u001b[A\n",
      "Validation DataLoader 0:  92%|███████████████████████████████████████████████████████████▌     | 11/12 [00:00<00:00, 141.47it/s]\u001b[A\n",
      "Validation DataLoader 0: 100%|█████████████████████████████████████████████████████████████████| 12/12 [00:00<00:00, 141.63it/s]\u001b[A\n",
      "Epoch 89: 100%|█| 48/48 [00:02<00:00, 23.22it/s, v_num=25, train_loss=0.678, train_accuracy=0.750, val_loss=0.861, val_accuracy=\u001b[A"
     ]
    },
    {
     "name": "stderr",
     "output_type": "stream",
     "text": [
      "Epoch 89, global step 4320: 'val_loss' was not in top 1\n"
     ]
    },
    {
     "name": "stdout",
     "output_type": "stream",
     "text": [
      "Epoch 90: 100%|█| 48/48 [00:01<00:00, 32.36it/s, v_num=25, train_loss=0.949, train_accuracy=0.650, val_loss=0.861, val_accuracy=\n",
      "Validation: |                                                                                             | 0/? [00:00<?, ?it/s]\u001b[A\n",
      "Validation:   0%|                                                                                        | 0/12 [00:00<?, ?it/s]\u001b[A\n",
      "Validation DataLoader 0:   0%|                                                                           | 0/12 [00:00<?, ?it/s]\u001b[A\n",
      "Validation DataLoader 0:   8%|█████▌                                                            | 1/12 [00:00<00:00, 126.77it/s]\u001b[A\n",
      "Validation DataLoader 0:  17%|███████████                                                       | 2/12 [00:00<00:00, 132.80it/s]\u001b[A\n",
      "Validation DataLoader 0:  25%|████████████████▌                                                 | 3/12 [00:00<00:00, 134.23it/s]\u001b[A\n",
      "Validation DataLoader 0:  33%|██████████████████████                                            | 4/12 [00:00<00:00, 132.29it/s]\u001b[A\n",
      "Validation DataLoader 0:  42%|███████████████████████████▌                                      | 5/12 [00:00<00:00, 134.19it/s]\u001b[A\n",
      "Validation DataLoader 0:  50%|█████████████████████████████████                                 | 6/12 [00:00<00:00, 135.17it/s]\u001b[A\n",
      "Validation DataLoader 0:  58%|██████████████████████████████████████▌                           | 7/12 [00:00<00:00, 136.46it/s]\u001b[A\n",
      "Validation DataLoader 0:  67%|████████████████████████████████████████████                      | 8/12 [00:00<00:00, 139.05it/s]\u001b[A\n",
      "Validation DataLoader 0:  75%|█████████████████████████████████████████████████▌                | 9/12 [00:00<00:00, 141.45it/s]\u001b[A\n",
      "Validation DataLoader 0:  83%|██████████████████████████████████████████████████████▏          | 10/12 [00:00<00:00, 140.65it/s]\u001b[A\n",
      "Validation DataLoader 0:  92%|███████████████████████████████████████████████████████████▌     | 11/12 [00:00<00:00, 142.31it/s]\u001b[A\n",
      "Validation DataLoader 0: 100%|█████████████████████████████████████████████████████████████████| 12/12 [00:00<00:00, 141.69it/s]\u001b[A\n",
      "Epoch 90: 100%|█| 48/48 [00:02<00:00, 22.60it/s, v_num=25, train_loss=0.949, train_accuracy=0.650, val_loss=0.818, val_accuracy=\u001b[A"
     ]
    },
    {
     "name": "stderr",
     "output_type": "stream",
     "text": [
      "Epoch 90, global step 4368: 'val_loss' reached 0.81803 (best 0.81803), saving model to '/home/till/Desktop/ds4w-user-identification/checkpoints/best-checkpoint-v24.ckpt' as top 1\n"
     ]
    },
    {
     "name": "stdout",
     "output_type": "stream",
     "text": [
      "Epoch 91: 100%|█| 48/48 [00:01<00:00, 32.72it/s, v_num=25, train_loss=0.877, train_accuracy=0.750, val_loss=0.818, val_accuracy=\n",
      "Validation: |                                                                                             | 0/? [00:00<?, ?it/s]\u001b[A\n",
      "Validation:   0%|                                                                                        | 0/12 [00:00<?, ?it/s]\u001b[A\n",
      "Validation DataLoader 0:   0%|                                                                           | 0/12 [00:00<?, ?it/s]\u001b[A\n",
      "Validation DataLoader 0:   8%|█████▌                                                            | 1/12 [00:00<00:00, 107.09it/s]\u001b[A\n",
      "Validation DataLoader 0:  17%|███████████                                                       | 2/12 [00:00<00:00, 100.85it/s]\u001b[A\n",
      "Validation DataLoader 0:  25%|████████████████▌                                                 | 3/12 [00:00<00:00, 107.97it/s]\u001b[A\n",
      "Validation DataLoader 0:  33%|██████████████████████                                            | 4/12 [00:00<00:00, 113.60it/s]\u001b[A\n",
      "Validation DataLoader 0:  42%|███████████████████████████▌                                      | 5/12 [00:00<00:00, 118.04it/s]\u001b[A\n",
      "Validation DataLoader 0:  50%|█████████████████████████████████                                 | 6/12 [00:00<00:00, 123.60it/s]\u001b[A\n",
      "Validation DataLoader 0:  58%|██████████████████████████████████████▌                           | 7/12 [00:00<00:00, 116.54it/s]\u001b[A\n",
      "Validation DataLoader 0:  67%|████████████████████████████████████████████                      | 8/12 [00:00<00:00, 119.95it/s]\u001b[A\n",
      "Validation DataLoader 0:  75%|█████████████████████████████████████████████████▌                | 9/12 [00:00<00:00, 123.55it/s]\u001b[A\n",
      "Validation DataLoader 0:  83%|██████████████████████████████████████████████████████▏          | 10/12 [00:00<00:00, 126.12it/s]\u001b[A\n",
      "Validation DataLoader 0:  92%|███████████████████████████████████████████████████████████▌     | 11/12 [00:00<00:00, 128.35it/s]\u001b[A\n",
      "Validation DataLoader 0: 100%|█████████████████████████████████████████████████████████████████| 12/12 [00:00<00:00, 129.72it/s]\u001b[A\n",
      "Epoch 91: 100%|█| 48/48 [00:02<00:00, 22.71it/s, v_num=25, train_loss=0.877, train_accuracy=0.750, val_loss=0.907, val_accuracy=\u001b[A"
     ]
    },
    {
     "name": "stderr",
     "output_type": "stream",
     "text": [
      "Epoch 91, global step 4416: 'val_loss' was not in top 1\n"
     ]
    },
    {
     "name": "stdout",
     "output_type": "stream",
     "text": [
      "Epoch 92: 100%|█| 48/48 [00:01<00:00, 32.45it/s, v_num=25, train_loss=0.920, train_accuracy=0.750, val_loss=0.907, val_accuracy=\n",
      "Validation: |                                                                                             | 0/? [00:00<?, ?it/s]\u001b[A\n",
      "Validation:   0%|                                                                                        | 0/12 [00:00<?, ?it/s]\u001b[A\n",
      "Validation DataLoader 0:   0%|                                                                           | 0/12 [00:00<?, ?it/s]\u001b[A\n",
      "Validation DataLoader 0:   8%|█████▌                                                            | 1/12 [00:00<00:00, 126.52it/s]\u001b[A\n",
      "Validation DataLoader 0:  17%|███████████                                                       | 2/12 [00:00<00:00, 133.91it/s]\u001b[A\n",
      "Validation DataLoader 0:  25%|████████████████▌                                                 | 3/12 [00:00<00:00, 129.23it/s]\u001b[A\n",
      "Validation DataLoader 0:  33%|██████████████████████                                            | 4/12 [00:00<00:00, 128.51it/s]\u001b[A\n",
      "Validation DataLoader 0:  42%|███████████████████████████▌                                      | 5/12 [00:00<00:00, 130.95it/s]\u001b[A\n",
      "Validation DataLoader 0:  50%|█████████████████████████████████                                 | 6/12 [00:00<00:00, 134.84it/s]\u001b[A\n",
      "Validation DataLoader 0:  58%|██████████████████████████████████████▌                           | 7/12 [00:00<00:00, 135.22it/s]\u001b[A\n",
      "Validation DataLoader 0:  67%|████████████████████████████████████████████                      | 8/12 [00:00<00:00, 136.16it/s]\u001b[A\n",
      "Validation DataLoader 0:  75%|█████████████████████████████████████████████████▌                | 9/12 [00:00<00:00, 137.77it/s]\u001b[A\n",
      "Validation DataLoader 0:  83%|██████████████████████████████████████████████████████▏          | 10/12 [00:00<00:00, 138.56it/s]\u001b[A\n",
      "Validation DataLoader 0:  92%|███████████████████████████████████████████████████████████▌     | 11/12 [00:00<00:00, 140.34it/s]\u001b[A\n",
      "Validation DataLoader 0: 100%|█████████████████████████████████████████████████████████████████| 12/12 [00:00<00:00, 141.46it/s]\u001b[A\n",
      "Epoch 92: 100%|█| 48/48 [00:02<00:00, 22.70it/s, v_num=25, train_loss=0.920, train_accuracy=0.750, val_loss=0.882, val_accuracy=\u001b[A"
     ]
    },
    {
     "name": "stderr",
     "output_type": "stream",
     "text": [
      "Epoch 92, global step 4464: 'val_loss' was not in top 1\n"
     ]
    },
    {
     "name": "stdout",
     "output_type": "stream",
     "text": [
      "Epoch 93: 100%|█| 48/48 [00:01<00:00, 33.26it/s, v_num=25, train_loss=0.568, train_accuracy=0.750, val_loss=0.882, val_accuracy=\n",
      "Validation: |                                                                                             | 0/? [00:00<?, ?it/s]\u001b[A\n",
      "Validation:   0%|                                                                                        | 0/12 [00:00<?, ?it/s]\u001b[A\n",
      "Validation DataLoader 0:   0%|                                                                           | 0/12 [00:00<?, ?it/s]\u001b[A\n",
      "Validation DataLoader 0:   8%|█████▌                                                            | 1/12 [00:00<00:00, 110.91it/s]\u001b[A\n",
      "Validation DataLoader 0:  17%|███████████▏                                                       | 2/12 [00:00<00:00, 90.73it/s]\u001b[A\n",
      "Validation DataLoader 0:  25%|████████████████▌                                                 | 3/12 [00:00<00:00, 100.75it/s]\u001b[A\n",
      "Validation DataLoader 0:  33%|██████████████████████                                            | 4/12 [00:00<00:00, 108.71it/s]\u001b[A\n",
      "Validation DataLoader 0:  42%|███████████████████████████▌                                      | 5/12 [00:00<00:00, 116.19it/s]\u001b[A\n",
      "Validation DataLoader 0:  50%|█████████████████████████████████                                 | 6/12 [00:00<00:00, 122.31it/s]\u001b[A\n",
      "Validation DataLoader 0:  58%|██████████████████████████████████████▌                           | 7/12 [00:00<00:00, 125.92it/s]\u001b[A\n",
      "Validation DataLoader 0:  67%|████████████████████████████████████████████                      | 8/12 [00:00<00:00, 129.83it/s]\u001b[A\n",
      "Validation DataLoader 0:  75%|█████████████████████████████████████████████████▌                | 9/12 [00:00<00:00, 131.84it/s]\u001b[A\n",
      "Validation DataLoader 0:  83%|██████████████████████████████████████████████████████▏          | 10/12 [00:00<00:00, 134.40it/s]\u001b[A\n",
      "Validation DataLoader 0:  92%|███████████████████████████████████████████████████████████▌     | 11/12 [00:00<00:00, 136.82it/s]\u001b[A\n",
      "Validation DataLoader 0: 100%|█████████████████████████████████████████████████████████████████| 12/12 [00:00<00:00, 137.74it/s]\u001b[A\n",
      "Epoch 93: 100%|█| 48/48 [00:02<00:00, 23.22it/s, v_num=25, train_loss=0.568, train_accuracy=0.750, val_loss=0.860, val_accuracy=\u001b[A"
     ]
    },
    {
     "name": "stderr",
     "output_type": "stream",
     "text": [
      "Epoch 93, global step 4512: 'val_loss' was not in top 1\n"
     ]
    },
    {
     "name": "stdout",
     "output_type": "stream",
     "text": [
      "Epoch 94: 100%|█| 48/48 [00:01<00:00, 32.63it/s, v_num=25, train_loss=0.952, train_accuracy=0.700, val_loss=0.860, val_accuracy=\n",
      "Validation: |                                                                                             | 0/? [00:00<?, ?it/s]\u001b[A\n",
      "Validation:   0%|                                                                                        | 0/12 [00:00<?, ?it/s]\u001b[A\n",
      "Validation DataLoader 0:   0%|                                                                           | 0/12 [00:00<?, ?it/s]\u001b[A\n",
      "Validation DataLoader 0:   8%|█████▌                                                            | 1/12 [00:00<00:00, 107.40it/s]\u001b[A\n",
      "Validation DataLoader 0:  17%|███████████                                                       | 2/12 [00:00<00:00, 120.42it/s]\u001b[A\n",
      "Validation DataLoader 0:  25%|████████████████▌                                                 | 3/12 [00:00<00:00, 132.14it/s]\u001b[A\n",
      "Validation DataLoader 0:  33%|██████████████████████                                            | 4/12 [00:00<00:00, 133.38it/s]\u001b[A\n",
      "Validation DataLoader 0:  42%|███████████████████████████▌                                      | 5/12 [00:00<00:00, 139.21it/s]\u001b[A\n",
      "Validation DataLoader 0:  50%|█████████████████████████████████                                 | 6/12 [00:00<00:00, 143.62it/s]\u001b[A\n",
      "Validation DataLoader 0:  58%|██████████████████████████████████████▌                           | 7/12 [00:00<00:00, 143.78it/s]\u001b[A\n",
      "Validation DataLoader 0:  67%|████████████████████████████████████████████                      | 8/12 [00:00<00:00, 143.67it/s]\u001b[A\n",
      "Validation DataLoader 0:  75%|█████████████████████████████████████████████████▌                | 9/12 [00:00<00:00, 141.87it/s]\u001b[A\n",
      "Validation DataLoader 0:  83%|██████████████████████████████████████████████████████▏          | 10/12 [00:00<00:00, 141.97it/s]\u001b[A\n",
      "Validation DataLoader 0:  92%|███████████████████████████████████████████████████████████▌     | 11/12 [00:00<00:00, 144.15it/s]\u001b[A\n",
      "Validation DataLoader 0: 100%|█████████████████████████████████████████████████████████████████| 12/12 [00:00<00:00, 143.71it/s]\u001b[A\n",
      "Epoch 94: 100%|█| 48/48 [00:02<00:00, 22.32it/s, v_num=25, train_loss=0.952, train_accuracy=0.700, val_loss=0.815, val_accuracy=\u001b[A"
     ]
    },
    {
     "name": "stderr",
     "output_type": "stream",
     "text": [
      "Epoch 94, global step 4560: 'val_loss' reached 0.81495 (best 0.81495), saving model to '/home/till/Desktop/ds4w-user-identification/checkpoints/best-checkpoint-v24.ckpt' as top 1\n"
     ]
    },
    {
     "name": "stdout",
     "output_type": "stream",
     "text": [
      "Epoch 95: 100%|█| 48/48 [00:01<00:00, 33.04it/s, v_num=25, train_loss=0.844, train_accuracy=0.700, val_loss=0.815, val_accuracy=\n",
      "Validation: |                                                                                             | 0/? [00:00<?, ?it/s]\u001b[A\n",
      "Validation:   0%|                                                                                        | 0/12 [00:00<?, ?it/s]\u001b[A\n",
      "Validation DataLoader 0:   0%|                                                                           | 0/12 [00:00<?, ?it/s]\u001b[A\n",
      "Validation DataLoader 0:   8%|█████▌                                                            | 1/12 [00:00<00:00, 118.69it/s]\u001b[A\n",
      "Validation DataLoader 0:  17%|███████████                                                       | 2/12 [00:00<00:00, 131.74it/s]\u001b[A\n",
      "Validation DataLoader 0:  25%|████████████████▌                                                 | 3/12 [00:00<00:00, 136.52it/s]\u001b[A\n",
      "Validation DataLoader 0:  33%|██████████████████████                                            | 4/12 [00:00<00:00, 142.66it/s]\u001b[A\n",
      "Validation DataLoader 0:  42%|███████████████████████████▌                                      | 5/12 [00:00<00:00, 145.41it/s]\u001b[A\n",
      "Validation DataLoader 0:  50%|█████████████████████████████████                                 | 6/12 [00:00<00:00, 141.26it/s]\u001b[A\n",
      "Validation DataLoader 0:  58%|██████████████████████████████████████▌                           | 7/12 [00:00<00:00, 141.48it/s]\u001b[A\n",
      "Validation DataLoader 0:  67%|████████████████████████████████████████████                      | 8/12 [00:00<00:00, 142.58it/s]\u001b[A\n",
      "Validation DataLoader 0:  75%|█████████████████████████████████████████████████▌                | 9/12 [00:00<00:00, 144.82it/s]\u001b[A\n",
      "Validation DataLoader 0:  83%|██████████████████████████████████████████████████████▏          | 10/12 [00:00<00:00, 146.12it/s]\u001b[A\n",
      "Validation DataLoader 0:  92%|███████████████████████████████████████████████████████████▌     | 11/12 [00:00<00:00, 146.82it/s]\u001b[A\n",
      "Validation DataLoader 0: 100%|█████████████████████████████████████████████████████████████████| 12/12 [00:00<00:00, 146.36it/s]\u001b[A\n",
      "Epoch 95: 100%|█| 48/48 [00:02<00:00, 22.85it/s, v_num=25, train_loss=0.844, train_accuracy=0.700, val_loss=0.903, val_accuracy=\u001b[A"
     ]
    },
    {
     "name": "stderr",
     "output_type": "stream",
     "text": [
      "Epoch 95, global step 4608: 'val_loss' was not in top 1\n"
     ]
    },
    {
     "name": "stdout",
     "output_type": "stream",
     "text": [
      "Epoch 96: 100%|█| 48/48 [00:01<00:00, 28.16it/s, v_num=25, train_loss=0.801, train_accuracy=0.675, val_loss=0.903, val_accuracy=\n",
      "Validation: |                                                                                             | 0/? [00:00<?, ?it/s]\u001b[A\n",
      "Validation:   0%|                                                                                        | 0/12 [00:00<?, ?it/s]\u001b[A\n",
      "Validation DataLoader 0:   0%|                                                                           | 0/12 [00:00<?, ?it/s]\u001b[A\n",
      "Validation DataLoader 0:   8%|█████▌                                                            | 1/12 [00:00<00:00, 115.13it/s]\u001b[A\n",
      "Validation DataLoader 0:  17%|███████████                                                       | 2/12 [00:00<00:00, 114.54it/s]\u001b[A\n",
      "Validation DataLoader 0:  25%|████████████████▌                                                 | 3/12 [00:00<00:00, 126.04it/s]\u001b[A\n",
      "Validation DataLoader 0:  33%|██████████████████████                                            | 4/12 [00:00<00:00, 129.91it/s]\u001b[A\n",
      "Validation DataLoader 0:  42%|███████████████████████████▌                                      | 5/12 [00:00<00:00, 134.77it/s]\u001b[A\n",
      "Validation DataLoader 0:  50%|█████████████████████████████████                                 | 6/12 [00:00<00:00, 134.60it/s]\u001b[A\n",
      "Validation DataLoader 0:  58%|██████████████████████████████████████▌                           | 7/12 [00:00<00:00, 137.80it/s]\u001b[A\n",
      "Validation DataLoader 0:  67%|████████████████████████████████████████████                      | 8/12 [00:00<00:00, 139.19it/s]\u001b[A\n",
      "Validation DataLoader 0:  75%|█████████████████████████████████████████████████▌                | 9/12 [00:00<00:00, 141.28it/s]\u001b[A\n",
      "Validation DataLoader 0:  83%|██████████████████████████████████████████████████████▏          | 10/12 [00:00<00:00, 140.42it/s]\u001b[A\n",
      "Validation DataLoader 0:  92%|███████████████████████████████████████████████████████████▌     | 11/12 [00:00<00:00, 141.31it/s]\u001b[A\n",
      "Validation DataLoader 0: 100%|█████████████████████████████████████████████████████████████████| 12/12 [00:00<00:00, 142.84it/s]\u001b[A\n",
      "Epoch 96: 100%|█| 48/48 [00:02<00:00, 20.32it/s, v_num=25, train_loss=0.801, train_accuracy=0.675, val_loss=0.762, val_accuracy=\u001b[A"
     ]
    },
    {
     "name": "stderr",
     "output_type": "stream",
     "text": [
      "Epoch 96, global step 4656: 'val_loss' reached 0.76204 (best 0.76204), saving model to '/home/till/Desktop/ds4w-user-identification/checkpoints/best-checkpoint-v24.ckpt' as top 1\n"
     ]
    },
    {
     "name": "stdout",
     "output_type": "stream",
     "text": [
      "Epoch 97: 100%|█| 48/48 [00:01<00:00, 32.49it/s, v_num=25, train_loss=1.060, train_accuracy=0.600, val_loss=0.762, val_accuracy=\n",
      "Validation: |                                                                                             | 0/? [00:00<?, ?it/s]\u001b[A\n",
      "Validation:   0%|                                                                                        | 0/12 [00:00<?, ?it/s]\u001b[A\n",
      "Validation DataLoader 0:   0%|                                                                           | 0/12 [00:00<?, ?it/s]\u001b[A\n",
      "Validation DataLoader 0:   8%|█████▌                                                            | 1/12 [00:00<00:00, 126.86it/s]\u001b[A\n",
      "Validation DataLoader 0:  17%|███████████                                                       | 2/12 [00:00<00:00, 133.71it/s]\u001b[A\n",
      "Validation DataLoader 0:  25%|████████████████▌                                                 | 3/12 [00:00<00:00, 134.60it/s]\u001b[A\n",
      "Validation DataLoader 0:  33%|██████████████████████                                            | 4/12 [00:00<00:00, 131.32it/s]\u001b[A\n",
      "Validation DataLoader 0:  42%|███████████████████████████▌                                      | 5/12 [00:00<00:00, 135.58it/s]\u001b[A\n",
      "Validation DataLoader 0:  50%|█████████████████████████████████                                 | 6/12 [00:00<00:00, 134.02it/s]\u001b[A\n",
      "Validation DataLoader 0:  58%|██████████████████████████████████████▌                           | 7/12 [00:00<00:00, 136.80it/s]\u001b[A\n",
      "Validation DataLoader 0:  67%|████████████████████████████████████████████                      | 8/12 [00:00<00:00, 135.84it/s]\u001b[A\n",
      "Validation DataLoader 0:  75%|█████████████████████████████████████████████████▌                | 9/12 [00:00<00:00, 138.65it/s]\u001b[A\n",
      "Validation DataLoader 0:  83%|██████████████████████████████████████████████████████▏          | 10/12 [00:00<00:00, 140.25it/s]\u001b[A\n",
      "Validation DataLoader 0:  92%|███████████████████████████████████████████████████████████▌     | 11/12 [00:00<00:00, 140.58it/s]\u001b[A\n",
      "Validation DataLoader 0: 100%|█████████████████████████████████████████████████████████████████| 12/12 [00:00<00:00, 142.11it/s]\u001b[A\n",
      "Epoch 97: 100%|█| 48/48 [00:02<00:00, 22.56it/s, v_num=25, train_loss=1.060, train_accuracy=0.600, val_loss=0.872, val_accuracy=\u001b[A"
     ]
    },
    {
     "name": "stderr",
     "output_type": "stream",
     "text": [
      "Epoch 97, global step 4704: 'val_loss' was not in top 1\n"
     ]
    },
    {
     "name": "stdout",
     "output_type": "stream",
     "text": [
      "Epoch 98: 100%|█| 48/48 [00:01<00:00, 32.92it/s, v_num=25, train_loss=0.638, train_accuracy=0.775, val_loss=0.872, val_accuracy=\n",
      "Validation: |                                                                                             | 0/? [00:00<?, ?it/s]\u001b[A\n",
      "Validation:   0%|                                                                                        | 0/12 [00:00<?, ?it/s]\u001b[A\n",
      "Validation DataLoader 0:   0%|                                                                           | 0/12 [00:00<?, ?it/s]\u001b[A\n",
      "Validation DataLoader 0:   8%|█████▌                                                            | 1/12 [00:00<00:00, 124.98it/s]\u001b[A\n",
      "Validation DataLoader 0:  17%|███████████                                                       | 2/12 [00:00<00:00, 134.10it/s]\u001b[A\n",
      "Validation DataLoader 0:  25%|████████████████▌                                                 | 3/12 [00:00<00:00, 122.76it/s]\u001b[A\n",
      "Validation DataLoader 0:  33%|██████████████████████                                            | 4/12 [00:00<00:00, 130.65it/s]\u001b[A\n",
      "Validation DataLoader 0:  42%|███████████████████████████▌                                      | 5/12 [00:00<00:00, 134.24it/s]\u001b[A\n",
      "Validation DataLoader 0:  50%|█████████████████████████████████                                 | 6/12 [00:00<00:00, 136.84it/s]\u001b[A\n",
      "Validation DataLoader 0:  58%|██████████████████████████████████████▌                           | 7/12 [00:00<00:00, 138.65it/s]\u001b[A\n",
      "Validation DataLoader 0:  67%|████████████████████████████████████████████                      | 8/12 [00:00<00:00, 136.44it/s]\u001b[A\n",
      "Validation DataLoader 0:  75%|█████████████████████████████████████████████████▌                | 9/12 [00:00<00:00, 137.94it/s]\u001b[A\n",
      "Validation DataLoader 0:  83%|██████████████████████████████████████████████████████▏          | 10/12 [00:00<00:00, 138.13it/s]\u001b[A\n",
      "Validation DataLoader 0:  92%|███████████████████████████████████████████████████████████▌     | 11/12 [00:00<00:00, 137.73it/s]\u001b[A\n",
      "Validation DataLoader 0: 100%|█████████████████████████████████████████████████████████████████| 12/12 [00:00<00:00, 139.28it/s]\u001b[A\n",
      "Epoch 98: 100%|█| 48/48 [00:02<00:00, 22.63it/s, v_num=25, train_loss=0.638, train_accuracy=0.775, val_loss=0.790, val_accuracy=\u001b[A"
     ]
    },
    {
     "name": "stderr",
     "output_type": "stream",
     "text": [
      "Epoch 98, global step 4752: 'val_loss' was not in top 1\n"
     ]
    },
    {
     "name": "stdout",
     "output_type": "stream",
     "text": [
      "Epoch 99: 100%|█| 48/48 [00:01<00:00, 28.36it/s, v_num=25, train_loss=0.808, train_accuracy=0.650, val_loss=0.790, val_accuracy=\n",
      "Validation: |                                                                                             | 0/? [00:00<?, ?it/s]\u001b[A\n",
      "Validation:   0%|                                                                                        | 0/12 [00:00<?, ?it/s]\u001b[A\n",
      "Validation DataLoader 0:   0%|                                                                           | 0/12 [00:00<?, ?it/s]\u001b[A\n",
      "Validation DataLoader 0:   8%|█████▌                                                            | 1/12 [00:00<00:00, 124.59it/s]\u001b[A\n",
      "Validation DataLoader 0:  17%|███████████                                                       | 2/12 [00:00<00:00, 129.17it/s]\u001b[A\n",
      "Validation DataLoader 0:  25%|████████████████▌                                                 | 3/12 [00:00<00:00, 134.67it/s]\u001b[A\n",
      "Validation DataLoader 0:  33%|██████████████████████                                            | 4/12 [00:00<00:00, 136.93it/s]\u001b[A\n",
      "Validation DataLoader 0:  42%|███████████████████████████▌                                      | 5/12 [00:00<00:00, 138.35it/s]\u001b[A\n",
      "Validation DataLoader 0:  50%|█████████████████████████████████                                 | 6/12 [00:00<00:00, 140.29it/s]\u001b[A\n",
      "Validation DataLoader 0:  58%|██████████████████████████████████████▌                           | 7/12 [00:00<00:00, 140.14it/s]\u001b[A\n",
      "Validation DataLoader 0:  67%|████████████████████████████████████████████                      | 8/12 [00:00<00:00, 141.67it/s]\u001b[A\n",
      "Validation DataLoader 0:  75%|█████████████████████████████████████████████████▌                | 9/12 [00:00<00:00, 141.66it/s]\u001b[A\n",
      "Validation DataLoader 0:  83%|██████████████████████████████████████████████████████▏          | 10/12 [00:00<00:00, 140.69it/s]\u001b[A\n",
      "Validation DataLoader 0:  92%|███████████████████████████████████████████████████████████▌     | 11/12 [00:00<00:00, 142.36it/s]\u001b[A\n",
      "Validation DataLoader 0: 100%|█████████████████████████████████████████████████████████████████| 12/12 [00:00<00:00, 143.04it/s]\u001b[A\n",
      "Epoch 99: 100%|█| 48/48 [00:02<00:00, 20.53it/s, v_num=25, train_loss=0.808, train_accuracy=0.650, val_loss=0.784, val_accuracy=\u001b[A"
     ]
    },
    {
     "name": "stderr",
     "output_type": "stream",
     "text": [
      "Epoch 99, global step 4800: 'val_loss' was not in top 1\n"
     ]
    },
    {
     "name": "stdout",
     "output_type": "stream",
     "text": [
      "Epoch 100: 100%|█| 48/48 [00:01<00:00, 31.88it/s, v_num=25, train_loss=0.651, train_accuracy=0.750, val_loss=0.784, val_accuracy\n",
      "Validation: |                                                                                             | 0/? [00:00<?, ?it/s]\u001b[A\n",
      "Validation:   0%|                                                                                        | 0/12 [00:00<?, ?it/s]\u001b[A\n",
      "Validation DataLoader 0:   0%|                                                                           | 0/12 [00:00<?, ?it/s]\u001b[A\n",
      "Validation DataLoader 0:   8%|█████▌                                                            | 1/12 [00:00<00:00, 124.29it/s]\u001b[A\n",
      "Validation DataLoader 0:  17%|███████████                                                       | 2/12 [00:00<00:00, 129.30it/s]\u001b[A\n",
      "Validation DataLoader 0:  25%|████████████████▌                                                 | 3/12 [00:00<00:00, 125.51it/s]\u001b[A\n",
      "Validation DataLoader 0:  33%|██████████████████████                                            | 4/12 [00:00<00:00, 126.48it/s]\u001b[A\n",
      "Validation DataLoader 0:  42%|███████████████████████████▌                                      | 5/12 [00:00<00:00, 127.97it/s]\u001b[A\n",
      "Validation DataLoader 0:  50%|█████████████████████████████████                                 | 6/12 [00:00<00:00, 130.97it/s]\u001b[A\n",
      "Validation DataLoader 0:  58%|██████████████████████████████████████▌                           | 7/12 [00:00<00:00, 134.15it/s]\u001b[A\n",
      "Validation DataLoader 0:  67%|████████████████████████████████████████████                      | 8/12 [00:00<00:00, 134.50it/s]\u001b[A\n",
      "Validation DataLoader 0:  75%|█████████████████████████████████████████████████▌                | 9/12 [00:00<00:00, 135.91it/s]\u001b[A\n",
      "Validation DataLoader 0:  83%|██████████████████████████████████████████████████████▏          | 10/12 [00:00<00:00, 135.87it/s]\u001b[A\n",
      "Validation DataLoader 0:  92%|███████████████████████████████████████████████████████████▌     | 11/12 [00:00<00:00, 136.45it/s]\u001b[A\n",
      "Validation DataLoader 0: 100%|█████████████████████████████████████████████████████████████████| 12/12 [00:00<00:00, 137.18it/s]\u001b[A\n",
      "Epoch 100: 100%|█| 48/48 [00:02<00:00, 22.38it/s, v_num=25, train_loss=0.651, train_accuracy=0.750, val_loss=0.756, val_accuracy\u001b[A"
     ]
    },
    {
     "name": "stderr",
     "output_type": "stream",
     "text": [
      "Epoch 100, global step 4848: 'val_loss' reached 0.75646 (best 0.75646), saving model to '/home/till/Desktop/ds4w-user-identification/checkpoints/best-checkpoint-v24.ckpt' as top 1\n"
     ]
    },
    {
     "name": "stdout",
     "output_type": "stream",
     "text": [
      "Epoch 101: 100%|█| 48/48 [00:01<00:00, 33.54it/s, v_num=25, train_loss=0.675, train_accuracy=0.775, val_loss=0.756, val_accuracy\n",
      "Validation: |                                                                                             | 0/? [00:00<?, ?it/s]\u001b[A\n",
      "Validation:   0%|                                                                                        | 0/12 [00:00<?, ?it/s]\u001b[A\n",
      "Validation DataLoader 0:   0%|                                                                           | 0/12 [00:00<?, ?it/s]\u001b[A\n",
      "Validation DataLoader 0:   8%|█████▌                                                            | 1/12 [00:00<00:00, 114.26it/s]\u001b[A\n",
      "Validation DataLoader 0:  17%|███████████                                                       | 2/12 [00:00<00:00, 129.63it/s]\u001b[A\n",
      "Validation DataLoader 0:  25%|████████████████▌                                                 | 3/12 [00:00<00:00, 134.12it/s]\u001b[A\n",
      "Validation DataLoader 0:  33%|██████████████████████                                            | 4/12 [00:00<00:00, 138.14it/s]\u001b[A\n",
      "Validation DataLoader 0:  42%|███████████████████████████▌                                      | 5/12 [00:00<00:00, 131.22it/s]\u001b[A\n",
      "Validation DataLoader 0:  50%|█████████████████████████████████                                 | 6/12 [00:00<00:00, 135.95it/s]\u001b[A\n",
      "Validation DataLoader 0:  58%|██████████████████████████████████████▌                           | 7/12 [00:00<00:00, 137.23it/s]\u001b[A\n",
      "Validation DataLoader 0:  67%|████████████████████████████████████████████                      | 8/12 [00:00<00:00, 140.34it/s]\u001b[A\n",
      "Validation DataLoader 0:  75%|█████████████████████████████████████████████████▌                | 9/12 [00:00<00:00, 143.09it/s]\u001b[A\n",
      "Validation DataLoader 0:  83%|██████████████████████████████████████████████████████▏          | 10/12 [00:00<00:00, 143.90it/s]\u001b[A\n",
      "Validation DataLoader 0:  92%|███████████████████████████████████████████████████████████▌     | 11/12 [00:00<00:00, 145.66it/s]\u001b[A\n",
      "Validation DataLoader 0: 100%|█████████████████████████████████████████████████████████████████| 12/12 [00:00<00:00, 145.73it/s]\u001b[A\n",
      "Epoch 101: 100%|█| 48/48 [00:02<00:00, 23.29it/s, v_num=25, train_loss=0.675, train_accuracy=0.775, val_loss=0.762, val_accuracy\u001b[A"
     ]
    },
    {
     "name": "stderr",
     "output_type": "stream",
     "text": [
      "Epoch 101, global step 4896: 'val_loss' was not in top 1\n"
     ]
    },
    {
     "name": "stdout",
     "output_type": "stream",
     "text": [
      "Epoch 102: 100%|█| 48/48 [00:01<00:00, 32.72it/s, v_num=25, train_loss=0.604, train_accuracy=0.775, val_loss=0.762, val_accuracy\n",
      "Validation: |                                                                                             | 0/? [00:00<?, ?it/s]\u001b[A\n",
      "Validation:   0%|                                                                                        | 0/12 [00:00<?, ?it/s]\u001b[A\n",
      "Validation DataLoader 0:   0%|                                                                           | 0/12 [00:00<?, ?it/s]\u001b[A\n",
      "Validation DataLoader 0:   8%|█████▌                                                            | 1/12 [00:00<00:00, 110.97it/s]\u001b[A\n",
      "Validation DataLoader 0:  17%|███████████                                                       | 2/12 [00:00<00:00, 116.43it/s]\u001b[A\n",
      "Validation DataLoader 0:  25%|████████████████▌                                                 | 3/12 [00:00<00:00, 124.03it/s]\u001b[A\n",
      "Validation DataLoader 0:  33%|██████████████████████                                            | 4/12 [00:00<00:00, 123.84it/s]\u001b[A\n",
      "Validation DataLoader 0:  42%|███████████████████████████▌                                      | 5/12 [00:00<00:00, 128.21it/s]\u001b[A\n",
      "Validation DataLoader 0:  50%|█████████████████████████████████                                 | 6/12 [00:00<00:00, 132.69it/s]\u001b[A\n",
      "Validation DataLoader 0:  58%|██████████████████████████████████████▌                           | 7/12 [00:00<00:00, 133.96it/s]\u001b[A\n",
      "Validation DataLoader 0:  67%|████████████████████████████████████████████                      | 8/12 [00:00<00:00, 134.39it/s]\u001b[A\n",
      "Validation DataLoader 0:  75%|█████████████████████████████████████████████████▌                | 9/12 [00:00<00:00, 135.93it/s]\u001b[A\n",
      "Validation DataLoader 0:  83%|██████████████████████████████████████████████████████▏          | 10/12 [00:00<00:00, 136.50it/s]\u001b[A\n",
      "Validation DataLoader 0:  92%|███████████████████████████████████████████████████████████▌     | 11/12 [00:00<00:00, 137.80it/s]\u001b[A\n",
      "Validation DataLoader 0: 100%|█████████████████████████████████████████████████████████████████| 12/12 [00:00<00:00, 138.52it/s]\u001b[A\n",
      "Epoch 102: 100%|█| 48/48 [00:02<00:00, 22.53it/s, v_num=25, train_loss=0.604, train_accuracy=0.775, val_loss=0.777, val_accuracy\u001b[A"
     ]
    },
    {
     "name": "stderr",
     "output_type": "stream",
     "text": [
      "Epoch 102, global step 4944: 'val_loss' was not in top 1\n"
     ]
    },
    {
     "name": "stdout",
     "output_type": "stream",
     "text": [
      "Epoch 103: 100%|█| 48/48 [00:01<00:00, 33.06it/s, v_num=25, train_loss=0.715, train_accuracy=0.725, val_loss=0.777, val_accuracy\n",
      "Validation: |                                                                                             | 0/? [00:00<?, ?it/s]\u001b[A\n",
      "Validation:   0%|                                                                                        | 0/12 [00:00<?, ?it/s]\u001b[A\n",
      "Validation DataLoader 0:   0%|                                                                           | 0/12 [00:00<?, ?it/s]\u001b[A\n",
      "Validation DataLoader 0:   8%|█████▌                                                            | 1/12 [00:00<00:00, 127.50it/s]\u001b[A\n",
      "Validation DataLoader 0:  17%|███████████                                                       | 2/12 [00:00<00:00, 136.23it/s]\u001b[A\n",
      "Validation DataLoader 0:  25%|████████████████▌                                                 | 3/12 [00:00<00:00, 140.35it/s]\u001b[A\n",
      "Validation DataLoader 0:  33%|██████████████████████                                            | 4/12 [00:00<00:00, 145.07it/s]\u001b[A\n",
      "Validation DataLoader 0:  42%|███████████████████████████▌                                      | 5/12 [00:00<00:00, 145.13it/s]\u001b[A\n",
      "Validation DataLoader 0:  50%|█████████████████████████████████                                 | 6/12 [00:00<00:00, 147.66it/s]\u001b[A\n",
      "Validation DataLoader 0:  58%|██████████████████████████████████████▌                           | 7/12 [00:00<00:00, 149.94it/s]\u001b[A\n",
      "Validation DataLoader 0:  67%|████████████████████████████████████████████                      | 8/12 [00:00<00:00, 148.40it/s]\u001b[A\n",
      "Validation DataLoader 0:  75%|█████████████████████████████████████████████████▌                | 9/12 [00:00<00:00, 148.59it/s]\u001b[A\n",
      "Validation DataLoader 0:  83%|██████████████████████████████████████████████████████▏          | 10/12 [00:00<00:00, 146.64it/s]\u001b[A\n",
      "Validation DataLoader 0:  92%|███████████████████████████████████████████████████████████▌     | 11/12 [00:00<00:00, 147.70it/s]\u001b[A\n",
      "Validation DataLoader 0: 100%|█████████████████████████████████████████████████████████████████| 12/12 [00:00<00:00, 147.21it/s]\u001b[A\n",
      "Epoch 103: 100%|█| 48/48 [00:02<00:00, 23.05it/s, v_num=25, train_loss=0.715, train_accuracy=0.725, val_loss=0.862, val_accuracy\u001b[A"
     ]
    },
    {
     "name": "stderr",
     "output_type": "stream",
     "text": [
      "Epoch 103, global step 4992: 'val_loss' was not in top 1\n"
     ]
    },
    {
     "name": "stdout",
     "output_type": "stream",
     "text": [
      "Epoch 104: 100%|█| 48/48 [00:01<00:00, 32.56it/s, v_num=25, train_loss=0.558, train_accuracy=0.775, val_loss=0.862, val_accuracy\n",
      "Validation: |                                                                                             | 0/? [00:00<?, ?it/s]\u001b[A\n",
      "Validation:   0%|                                                                                        | 0/12 [00:00<?, ?it/s]\u001b[A\n",
      "Validation DataLoader 0:   0%|                                                                           | 0/12 [00:00<?, ?it/s]\u001b[A\n",
      "Validation DataLoader 0:   8%|█████▌                                                            | 1/12 [00:00<00:00, 109.72it/s]\u001b[A\n",
      "Validation DataLoader 0:  17%|███████████                                                       | 2/12 [00:00<00:00, 128.74it/s]\u001b[A\n",
      "Validation DataLoader 0:  25%|████████████████▌                                                 | 3/12 [00:00<00:00, 133.37it/s]\u001b[A\n",
      "Validation DataLoader 0:  33%|██████████████████████                                            | 4/12 [00:00<00:00, 123.59it/s]\u001b[A\n",
      "Validation DataLoader 0:  42%|███████████████████████████▌                                      | 5/12 [00:00<00:00, 127.51it/s]\u001b[A\n",
      "Validation DataLoader 0:  50%|█████████████████████████████████                                 | 6/12 [00:00<00:00, 132.19it/s]\u001b[A\n",
      "Validation DataLoader 0:  58%|██████████████████████████████████████▌                           | 7/12 [00:00<00:00, 134.60it/s]\u001b[A\n",
      "Validation DataLoader 0:  67%|████████████████████████████████████████████                      | 8/12 [00:00<00:00, 136.49it/s]\u001b[A\n",
      "Validation DataLoader 0:  75%|█████████████████████████████████████████████████▌                | 9/12 [00:00<00:00, 139.39it/s]\u001b[A\n",
      "Validation DataLoader 0:  83%|██████████████████████████████████████████████████████▏          | 10/12 [00:00<00:00, 140.09it/s]\u001b[A\n",
      "Validation DataLoader 0:  92%|███████████████████████████████████████████████████████████▌     | 11/12 [00:00<00:00, 141.81it/s]\u001b[A\n",
      "Validation DataLoader 0: 100%|█████████████████████████████████████████████████████████████████| 12/12 [00:00<00:00, 142.07it/s]\u001b[A\n",
      "Epoch 104: 100%|█| 48/48 [00:02<00:00, 22.52it/s, v_num=25, train_loss=0.558, train_accuracy=0.775, val_loss=0.862, val_accuracy\u001b[A"
     ]
    },
    {
     "name": "stderr",
     "output_type": "stream",
     "text": [
      "Epoch 104, global step 5040: 'val_loss' was not in top 1\n"
     ]
    },
    {
     "name": "stdout",
     "output_type": "stream",
     "text": [
      "Epoch 105: 100%|█| 48/48 [00:01<00:00, 33.50it/s, v_num=25, train_loss=0.655, train_accuracy=0.725, val_loss=0.862, val_accuracy\n",
      "Validation: |                                                                                             | 0/? [00:00<?, ?it/s]\u001b[A\n",
      "Validation:   0%|                                                                                        | 0/12 [00:00<?, ?it/s]\u001b[A\n",
      "Validation DataLoader 0:   0%|                                                                           | 0/12 [00:00<?, ?it/s]\u001b[A\n",
      "Validation DataLoader 0:   8%|█████▌                                                            | 1/12 [00:00<00:00, 114.76it/s]\u001b[A\n",
      "Validation DataLoader 0:  17%|███████████                                                       | 2/12 [00:00<00:00, 110.83it/s]\u001b[A\n",
      "Validation DataLoader 0:  25%|████████████████▌                                                 | 3/12 [00:00<00:00, 119.83it/s]\u001b[A\n",
      "Validation DataLoader 0:  33%|██████████████████████                                            | 4/12 [00:00<00:00, 128.19it/s]\u001b[A\n",
      "Validation DataLoader 0:  42%|███████████████████████████▌                                      | 5/12 [00:00<00:00, 127.89it/s]\u001b[A\n",
      "Validation DataLoader 0:  50%|█████████████████████████████████                                 | 6/12 [00:00<00:00, 131.65it/s]\u001b[A\n",
      "Validation DataLoader 0:  58%|██████████████████████████████████████▌                           | 7/12 [00:00<00:00, 134.93it/s]\u001b[A\n",
      "Validation DataLoader 0:  67%|████████████████████████████████████████████                      | 8/12 [00:00<00:00, 136.19it/s]\u001b[A\n",
      "Validation DataLoader 0:  75%|█████████████████████████████████████████████████▌                | 9/12 [00:00<00:00, 135.93it/s]\u001b[A\n",
      "Validation DataLoader 0:  83%|██████████████████████████████████████████████████████▏          | 10/12 [00:00<00:00, 137.69it/s]\u001b[A\n",
      "Validation DataLoader 0:  92%|███████████████████████████████████████████████████████████▌     | 11/12 [00:00<00:00, 138.57it/s]\u001b[A\n",
      "Validation DataLoader 0: 100%|█████████████████████████████████████████████████████████████████| 12/12 [00:00<00:00, 140.07it/s]\u001b[A\n",
      "Epoch 105: 100%|█| 48/48 [00:02<00:00, 22.68it/s, v_num=25, train_loss=0.655, train_accuracy=0.725, val_loss=0.787, val_accuracy\u001b[A"
     ]
    },
    {
     "name": "stderr",
     "output_type": "stream",
     "text": [
      "Epoch 105, global step 5088: 'val_loss' was not in top 1\n"
     ]
    },
    {
     "name": "stdout",
     "output_type": "stream",
     "text": [
      "Epoch 106: 100%|█| 48/48 [00:01<00:00, 33.47it/s, v_num=25, train_loss=0.605, train_accuracy=0.675, val_loss=0.787, val_accuracy\n",
      "Validation: |                                                                                             | 0/? [00:00<?, ?it/s]\u001b[A\n",
      "Validation:   0%|                                                                                        | 0/12 [00:00<?, ?it/s]\u001b[A\n",
      "Validation DataLoader 0:   0%|                                                                           | 0/12 [00:00<?, ?it/s]\u001b[A\n",
      "Validation DataLoader 0:   8%|█████▌                                                            | 1/12 [00:00<00:00, 123.42it/s]\u001b[A\n",
      "Validation DataLoader 0:  17%|███████████                                                       | 2/12 [00:00<00:00, 127.16it/s]\u001b[A\n",
      "Validation DataLoader 0:  25%|████████████████▌                                                 | 3/12 [00:00<00:00, 131.37it/s]\u001b[A\n",
      "Validation DataLoader 0:  33%|██████████████████████                                            | 4/12 [00:00<00:00, 132.89it/s]\u001b[A\n",
      "Validation DataLoader 0:  42%|███████████████████████████▌                                      | 5/12 [00:00<00:00, 133.35it/s]\u001b[A\n",
      "Validation DataLoader 0:  50%|█████████████████████████████████                                 | 6/12 [00:00<00:00, 133.83it/s]\u001b[A\n",
      "Validation DataLoader 0:  58%|██████████████████████████████████████▌                           | 7/12 [00:00<00:00, 132.05it/s]\u001b[A\n",
      "Validation DataLoader 0:  67%|████████████████████████████████████████████                      | 8/12 [00:00<00:00, 132.36it/s]\u001b[A\n",
      "Validation DataLoader 0:  75%|█████████████████████████████████████████████████▌                | 9/12 [00:00<00:00, 135.26it/s]\u001b[A\n",
      "Validation DataLoader 0:  83%|██████████████████████████████████████████████████████▏          | 10/12 [00:00<00:00, 136.50it/s]\u001b[A\n",
      "Validation DataLoader 0:  92%|███████████████████████████████████████████████████████████▌     | 11/12 [00:00<00:00, 138.09it/s]\u001b[A\n",
      "Validation DataLoader 0: 100%|█████████████████████████████████████████████████████████████████| 12/12 [00:00<00:00, 139.56it/s]\u001b[A\n",
      "Epoch 106: 100%|█| 48/48 [00:02<00:00, 23.09it/s, v_num=25, train_loss=0.605, train_accuracy=0.675, val_loss=0.715, val_accuracy\u001b[A"
     ]
    },
    {
     "name": "stderr",
     "output_type": "stream",
     "text": [
      "Epoch 106, global step 5136: 'val_loss' reached 0.71504 (best 0.71504), saving model to '/home/till/Desktop/ds4w-user-identification/checkpoints/best-checkpoint-v24.ckpt' as top 1\n"
     ]
    },
    {
     "name": "stdout",
     "output_type": "stream",
     "text": [
      "Epoch 107: 100%|█| 48/48 [00:01<00:00, 33.14it/s, v_num=25, train_loss=0.409, train_accuracy=0.850, val_loss=0.715, val_accuracy\n",
      "Validation: |                                                                                             | 0/? [00:00<?, ?it/s]\u001b[A\n",
      "Validation:   0%|                                                                                        | 0/12 [00:00<?, ?it/s]\u001b[A\n",
      "Validation DataLoader 0:   0%|                                                                           | 0/12 [00:00<?, ?it/s]\u001b[A\n",
      "Validation DataLoader 0:   8%|█████▌                                                            | 1/12 [00:00<00:00, 128.30it/s]\u001b[A\n",
      "Validation DataLoader 0:  17%|███████████                                                       | 2/12 [00:00<00:00, 141.12it/s]\u001b[A\n",
      "Validation DataLoader 0:  25%|████████████████▌                                                 | 3/12 [00:00<00:00, 138.52it/s]\u001b[A\n",
      "Validation DataLoader 0:  33%|██████████████████████                                            | 4/12 [00:00<00:00, 141.09it/s]\u001b[A\n",
      "Validation DataLoader 0:  42%|███████████████████████████▌                                      | 5/12 [00:00<00:00, 137.36it/s]\u001b[A\n",
      "Validation DataLoader 0:  50%|█████████████████████████████████                                 | 6/12 [00:00<00:00, 140.54it/s]\u001b[A\n",
      "Validation DataLoader 0:  58%|██████████████████████████████████████▌                           | 7/12 [00:00<00:00, 139.01it/s]\u001b[A\n",
      "Validation DataLoader 0:  67%|████████████████████████████████████████████                      | 8/12 [00:00<00:00, 141.00it/s]\u001b[A\n",
      "Validation DataLoader 0:  75%|█████████████████████████████████████████████████▌                | 9/12 [00:00<00:00, 141.18it/s]\u001b[A\n",
      "Validation DataLoader 0:  83%|██████████████████████████████████████████████████████▏          | 10/12 [00:00<00:00, 139.71it/s]\u001b[A\n",
      "Validation DataLoader 0:  92%|███████████████████████████████████████████████████████████▌     | 11/12 [00:00<00:00, 141.55it/s]\u001b[A\n",
      "Validation DataLoader 0: 100%|█████████████████████████████████████████████████████████████████| 12/12 [00:00<00:00, 143.39it/s]\u001b[A\n",
      "Epoch 107: 100%|█| 48/48 [00:02<00:00, 23.40it/s, v_num=25, train_loss=0.409, train_accuracy=0.850, val_loss=0.771, val_accuracy\u001b[A"
     ]
    },
    {
     "name": "stderr",
     "output_type": "stream",
     "text": [
      "Epoch 107, global step 5184: 'val_loss' was not in top 1\n"
     ]
    },
    {
     "name": "stdout",
     "output_type": "stream",
     "text": [
      "Epoch 108: 100%|█| 48/48 [00:01<00:00, 33.57it/s, v_num=25, train_loss=0.592, train_accuracy=0.800, val_loss=0.771, val_accuracy\n",
      "Validation: |                                                                                             | 0/? [00:00<?, ?it/s]\u001b[A\n",
      "Validation:   0%|                                                                                        | 0/12 [00:00<?, ?it/s]\u001b[A\n",
      "Validation DataLoader 0:   0%|                                                                           | 0/12 [00:00<?, ?it/s]\u001b[A\n",
      "Validation DataLoader 0:   8%|█████▌                                                            | 1/12 [00:00<00:00, 126.95it/s]\u001b[A\n",
      "Validation DataLoader 0:  17%|███████████                                                       | 2/12 [00:00<00:00, 123.40it/s]\u001b[A\n",
      "Validation DataLoader 0:  25%|████████████████▌                                                 | 3/12 [00:00<00:00, 130.48it/s]\u001b[A\n",
      "Validation DataLoader 0:  33%|██████████████████████                                            | 4/12 [00:00<00:00, 131.72it/s]\u001b[A\n",
      "Validation DataLoader 0:  42%|███████████████████████████▌                                      | 5/12 [00:00<00:00, 129.06it/s]\u001b[A\n",
      "Validation DataLoader 0:  50%|█████████████████████████████████                                 | 6/12 [00:00<00:00, 133.50it/s]\u001b[A\n",
      "Validation DataLoader 0:  58%|██████████████████████████████████████▌                           | 7/12 [00:00<00:00, 132.90it/s]\u001b[A\n",
      "Validation DataLoader 0:  67%|████████████████████████████████████████████                      | 8/12 [00:00<00:00, 135.61it/s]\u001b[A\n",
      "Validation DataLoader 0:  75%|█████████████████████████████████████████████████▌                | 9/12 [00:00<00:00, 133.93it/s]\u001b[A\n",
      "Validation DataLoader 0:  83%|██████████████████████████████████████████████████████▏          | 10/12 [00:00<00:00, 134.77it/s]\u001b[A\n",
      "Validation DataLoader 0:  92%|███████████████████████████████████████████████████████████▌     | 11/12 [00:00<00:00, 136.39it/s]\u001b[A\n",
      "Validation DataLoader 0: 100%|█████████████████████████████████████████████████████████████████| 12/12 [00:00<00:00, 137.72it/s]\u001b[A\n",
      "Epoch 108: 100%|█| 48/48 [00:02<00:00, 22.98it/s, v_num=25, train_loss=0.592, train_accuracy=0.800, val_loss=0.823, val_accuracy\u001b[A"
     ]
    },
    {
     "name": "stderr",
     "output_type": "stream",
     "text": [
      "Epoch 108, global step 5232: 'val_loss' was not in top 1\n"
     ]
    },
    {
     "name": "stdout",
     "output_type": "stream",
     "text": [
      "Epoch 109: 100%|█| 48/48 [00:01<00:00, 33.12it/s, v_num=25, train_loss=0.557, train_accuracy=0.825, val_loss=0.823, val_accuracy\n",
      "Validation: |                                                                                             | 0/? [00:00<?, ?it/s]\u001b[A\n",
      "Validation:   0%|                                                                                        | 0/12 [00:00<?, ?it/s]\u001b[A\n",
      "Validation DataLoader 0:   0%|                                                                           | 0/12 [00:00<?, ?it/s]\u001b[A\n",
      "Validation DataLoader 0:   8%|█████▌                                                            | 1/12 [00:00<00:00, 126.21it/s]\u001b[A\n",
      "Validation DataLoader 0:  17%|███████████                                                       | 2/12 [00:00<00:00, 108.66it/s]\u001b[A\n",
      "Validation DataLoader 0:  25%|████████████████▌                                                 | 3/12 [00:00<00:00, 118.07it/s]\u001b[A\n",
      "Validation DataLoader 0:  33%|██████████████████████                                            | 4/12 [00:00<00:00, 127.12it/s]\u001b[A\n",
      "Validation DataLoader 0:  42%|███████████████████████████▌                                      | 5/12 [00:00<00:00, 132.15it/s]\u001b[A\n",
      "Validation DataLoader 0:  50%|█████████████████████████████████                                 | 6/12 [00:00<00:00, 135.33it/s]\u001b[A\n",
      "Validation DataLoader 0:  58%|██████████████████████████████████████▌                           | 7/12 [00:00<00:00, 138.29it/s]\u001b[A\n",
      "Validation DataLoader 0:  67%|████████████████████████████████████████████                      | 8/12 [00:00<00:00, 140.80it/s]\u001b[A\n",
      "Validation DataLoader 0:  75%|█████████████████████████████████████████████████▌                | 9/12 [00:00<00:00, 142.71it/s]\u001b[A\n",
      "Validation DataLoader 0:  83%|██████████████████████████████████████████████████████▏          | 10/12 [00:00<00:00, 143.71it/s]\u001b[A\n",
      "Validation DataLoader 0:  92%|███████████████████████████████████████████████████████████▌     | 11/12 [00:00<00:00, 143.15it/s]\u001b[A\n",
      "Validation DataLoader 0: 100%|█████████████████████████████████████████████████████████████████| 12/12 [00:00<00:00, 143.64it/s]\u001b[A\n",
      "Epoch 109: 100%|█| 48/48 [00:02<00:00, 23.20it/s, v_num=25, train_loss=0.557, train_accuracy=0.825, val_loss=0.772, val_accuracy\u001b[A"
     ]
    },
    {
     "name": "stderr",
     "output_type": "stream",
     "text": [
      "Epoch 109, global step 5280: 'val_loss' was not in top 1\n"
     ]
    },
    {
     "name": "stdout",
     "output_type": "stream",
     "text": [
      "Epoch 110: 100%|█| 48/48 [00:01<00:00, 33.05it/s, v_num=25, train_loss=0.628, train_accuracy=0.750, val_loss=0.772, val_accuracy\n",
      "Validation: |                                                                                             | 0/? [00:00<?, ?it/s]\u001b[A\n",
      "Validation:   0%|                                                                                        | 0/12 [00:00<?, ?it/s]\u001b[A\n",
      "Validation DataLoader 0:   0%|                                                                           | 0/12 [00:00<?, ?it/s]\u001b[A\n",
      "Validation DataLoader 0:   8%|█████▌                                                            | 1/12 [00:00<00:00, 131.41it/s]\u001b[A\n",
      "Validation DataLoader 0:  17%|███████████                                                       | 2/12 [00:00<00:00, 140.96it/s]\u001b[A\n",
      "Validation DataLoader 0:  25%|████████████████▌                                                 | 3/12 [00:00<00:00, 133.37it/s]\u001b[A\n",
      "Validation DataLoader 0:  33%|██████████████████████                                            | 4/12 [00:00<00:00, 134.26it/s]\u001b[A\n",
      "Validation DataLoader 0:  42%|███████████████████████████▌                                      | 5/12 [00:00<00:00, 135.47it/s]\u001b[A\n",
      "Validation DataLoader 0:  50%|█████████████████████████████████                                 | 6/12 [00:00<00:00, 132.20it/s]\u001b[A\n",
      "Validation DataLoader 0:  58%|██████████████████████████████████████▌                           | 7/12 [00:00<00:00, 132.24it/s]\u001b[A\n",
      "Validation DataLoader 0:  67%|████████████████████████████████████████████                      | 8/12 [00:00<00:00, 132.82it/s]\u001b[A\n",
      "Validation DataLoader 0:  75%|█████████████████████████████████████████████████▌                | 9/12 [00:00<00:00, 134.29it/s]\u001b[A\n",
      "Validation DataLoader 0:  83%|██████████████████████████████████████████████████████▏          | 10/12 [00:00<00:00, 135.45it/s]\u001b[A\n",
      "Validation DataLoader 0:  92%|███████████████████████████████████████████████████████████▌     | 11/12 [00:00<00:00, 136.67it/s]\u001b[A\n",
      "Validation DataLoader 0: 100%|█████████████████████████████████████████████████████████████████| 12/12 [00:00<00:00, 137.40it/s]\u001b[A\n",
      "Epoch 110: 100%|█| 48/48 [00:02<00:00, 23.09it/s, v_num=25, train_loss=0.628, train_accuracy=0.750, val_loss=0.740, val_accuracy\u001b[A"
     ]
    },
    {
     "name": "stderr",
     "output_type": "stream",
     "text": [
      "Epoch 110, global step 5328: 'val_loss' was not in top 1\n"
     ]
    },
    {
     "name": "stdout",
     "output_type": "stream",
     "text": [
      "Epoch 111: 100%|█| 48/48 [00:01<00:00, 33.59it/s, v_num=25, train_loss=0.460, train_accuracy=0.900, val_loss=0.740, val_accuracy\n",
      "Validation: |                                                                                             | 0/? [00:00<?, ?it/s]\u001b[A\n",
      "Validation:   0%|                                                                                        | 0/12 [00:00<?, ?it/s]\u001b[A\n",
      "Validation DataLoader 0:   0%|                                                                           | 0/12 [00:00<?, ?it/s]\u001b[A\n",
      "Validation DataLoader 0:   8%|█████▌                                                            | 1/12 [00:00<00:00, 111.72it/s]\u001b[A\n",
      "Validation DataLoader 0:  17%|███████████                                                       | 2/12 [00:00<00:00, 123.71it/s]\u001b[A\n",
      "Validation DataLoader 0:  25%|████████████████▌                                                 | 3/12 [00:00<00:00, 122.05it/s]\u001b[A\n",
      "Validation DataLoader 0:  33%|██████████████████████                                            | 4/12 [00:00<00:00, 117.70it/s]\u001b[A\n",
      "Validation DataLoader 0:  42%|███████████████████████████▌                                      | 5/12 [00:00<00:00, 123.71it/s]\u001b[A\n",
      "Validation DataLoader 0:  50%|█████████████████████████████████                                 | 6/12 [00:00<00:00, 129.34it/s]\u001b[A\n",
      "Validation DataLoader 0:  58%|██████████████████████████████████████▌                           | 7/12 [00:00<00:00, 132.39it/s]\u001b[A\n",
      "Validation DataLoader 0:  67%|████████████████████████████████████████████                      | 8/12 [00:00<00:00, 135.53it/s]\u001b[A\n",
      "Validation DataLoader 0:  75%|█████████████████████████████████████████████████▌                | 9/12 [00:00<00:00, 138.58it/s]\u001b[A\n",
      "Validation DataLoader 0:  83%|██████████████████████████████████████████████████████▏          | 10/12 [00:00<00:00, 139.24it/s]\u001b[A\n",
      "Validation DataLoader 0:  92%|███████████████████████████████████████████████████████████▌     | 11/12 [00:00<00:00, 141.34it/s]\u001b[A\n",
      "Validation DataLoader 0: 100%|█████████████████████████████████████████████████████████████████| 12/12 [00:00<00:00, 143.04it/s]\u001b[A\n",
      "Epoch 111: 100%|█| 48/48 [00:02<00:00, 23.52it/s, v_num=25, train_loss=0.460, train_accuracy=0.900, val_loss=0.753, val_accuracy\u001b[A"
     ]
    },
    {
     "name": "stderr",
     "output_type": "stream",
     "text": [
      "Epoch 111, global step 5376: 'val_loss' was not in top 1\n"
     ]
    },
    {
     "name": "stdout",
     "output_type": "stream",
     "text": [
      "Epoch 112: 100%|█| 48/48 [00:01<00:00, 33.31it/s, v_num=25, train_loss=0.786, train_accuracy=0.700, val_loss=0.753, val_accuracy\n",
      "Validation: |                                                                                             | 0/? [00:00<?, ?it/s]\u001b[A\n",
      "Validation:   0%|                                                                                        | 0/12 [00:00<?, ?it/s]\u001b[A\n",
      "Validation DataLoader 0:   0%|                                                                           | 0/12 [00:00<?, ?it/s]\u001b[A\n",
      "Validation DataLoader 0:   8%|█████▌                                                            | 1/12 [00:00<00:00, 111.28it/s]\u001b[A\n",
      "Validation DataLoader 0:  17%|███████████                                                       | 2/12 [00:00<00:00, 110.52it/s]\u001b[A\n",
      "Validation DataLoader 0:  25%|████████████████▌                                                 | 3/12 [00:00<00:00, 121.47it/s]\u001b[A\n",
      "Validation DataLoader 0:  33%|██████████████████████                                            | 4/12 [00:00<00:00, 119.54it/s]\u001b[A\n",
      "Validation DataLoader 0:  42%|███████████████████████████▌                                      | 5/12 [00:00<00:00, 124.72it/s]\u001b[A\n",
      "Validation DataLoader 0:  50%|█████████████████████████████████                                 | 6/12 [00:00<00:00, 130.49it/s]\u001b[A\n",
      "Validation DataLoader 0:  58%|██████████████████████████████████████▌                           | 7/12 [00:00<00:00, 133.32it/s]\u001b[A\n",
      "Validation DataLoader 0:  67%|████████████████████████████████████████████                      | 8/12 [00:00<00:00, 135.98it/s]\u001b[A\n",
      "Validation DataLoader 0:  75%|█████████████████████████████████████████████████▌                | 9/12 [00:00<00:00, 138.92it/s]\u001b[A\n",
      "Validation DataLoader 0:  83%|██████████████████████████████████████████████████████▏          | 10/12 [00:00<00:00, 139.63it/s]\u001b[A\n",
      "Validation DataLoader 0:  92%|███████████████████████████████████████████████████████████▌     | 11/12 [00:00<00:00, 141.70it/s]\u001b[A\n",
      "Validation DataLoader 0: 100%|█████████████████████████████████████████████████████████████████| 12/12 [00:00<00:00, 143.69it/s]\u001b[A\n",
      "Epoch 112: 100%|█| 48/48 [00:02<00:00, 23.07it/s, v_num=25, train_loss=0.786, train_accuracy=0.700, val_loss=0.795, val_accuracy\u001b[A"
     ]
    },
    {
     "name": "stderr",
     "output_type": "stream",
     "text": [
      "Epoch 112, global step 5424: 'val_loss' was not in top 1\n"
     ]
    },
    {
     "name": "stdout",
     "output_type": "stream",
     "text": [
      "Epoch 113: 100%|█| 48/48 [00:01<00:00, 33.38it/s, v_num=25, train_loss=0.701, train_accuracy=0.700, val_loss=0.795, val_accuracy\n",
      "Validation: |                                                                                             | 0/? [00:00<?, ?it/s]\u001b[A\n",
      "Validation:   0%|                                                                                        | 0/12 [00:00<?, ?it/s]\u001b[A\n",
      "Validation DataLoader 0:   0%|                                                                           | 0/12 [00:00<?, ?it/s]\u001b[A\n",
      "Validation DataLoader 0:   8%|█████▌                                                            | 1/12 [00:00<00:00, 107.76it/s]\u001b[A\n",
      "Validation DataLoader 0:  17%|███████████                                                       | 2/12 [00:00<00:00, 123.12it/s]\u001b[A\n",
      "Validation DataLoader 0:  25%|████████████████▌                                                 | 3/12 [00:00<00:00, 125.84it/s]\u001b[A\n",
      "Validation DataLoader 0:  33%|██████████████████████                                            | 4/12 [00:00<00:00, 128.62it/s]\u001b[A\n",
      "Validation DataLoader 0:  42%|███████████████████████████▌                                      | 5/12 [00:00<00:00, 132.16it/s]\u001b[A\n",
      "Validation DataLoader 0:  50%|█████████████████████████████████                                 | 6/12 [00:00<00:00, 133.41it/s]\u001b[A\n",
      "Validation DataLoader 0:  58%|██████████████████████████████████████▌                           | 7/12 [00:00<00:00, 133.65it/s]\u001b[A\n",
      "Validation DataLoader 0:  67%|████████████████████████████████████████████                      | 8/12 [00:00<00:00, 134.24it/s]\u001b[A\n",
      "Validation DataLoader 0:  75%|█████████████████████████████████████████████████▌                | 9/12 [00:00<00:00, 135.76it/s]\u001b[A\n",
      "Validation DataLoader 0:  83%|██████████████████████████████████████████████████████▏          | 10/12 [00:00<00:00, 134.51it/s]\u001b[A\n",
      "Validation DataLoader 0:  92%|███████████████████████████████████████████████████████████▌     | 11/12 [00:00<00:00, 136.16it/s]\u001b[A\n",
      "Validation DataLoader 0: 100%|█████████████████████████████████████████████████████████████████| 12/12 [00:00<00:00, 136.53it/s]\u001b[A\n",
      "Epoch 113: 100%|█| 48/48 [00:02<00:00, 22.66it/s, v_num=25, train_loss=0.701, train_accuracy=0.700, val_loss=0.770, val_accuracy\u001b[A"
     ]
    },
    {
     "name": "stderr",
     "output_type": "stream",
     "text": [
      "Epoch 113, global step 5472: 'val_loss' was not in top 1\n"
     ]
    },
    {
     "name": "stdout",
     "output_type": "stream",
     "text": [
      "Epoch 114: 100%|█| 48/48 [00:01<00:00, 32.71it/s, v_num=25, train_loss=0.495, train_accuracy=0.800, val_loss=0.770, val_accuracy\n",
      "Validation: |                                                                                             | 0/? [00:00<?, ?it/s]\u001b[A\n",
      "Validation:   0%|                                                                                        | 0/12 [00:00<?, ?it/s]\u001b[A\n",
      "Validation DataLoader 0:   0%|                                                                           | 0/12 [00:00<?, ?it/s]\u001b[A\n",
      "Validation DataLoader 0:   8%|█████▌                                                            | 1/12 [00:00<00:00, 110.45it/s]\u001b[A\n",
      "Validation DataLoader 0:  17%|███████████                                                       | 2/12 [00:00<00:00, 117.14it/s]\u001b[A\n",
      "Validation DataLoader 0:  25%|████████████████▌                                                 | 3/12 [00:00<00:00, 121.51it/s]\u001b[A\n",
      "Validation DataLoader 0:  33%|██████████████████████                                            | 4/12 [00:00<00:00, 124.20it/s]\u001b[A\n",
      "Validation DataLoader 0:  42%|███████████████████████████▌                                      | 5/12 [00:00<00:00, 128.55it/s]\u001b[A\n",
      "Validation DataLoader 0:  50%|█████████████████████████████████                                 | 6/12 [00:00<00:00, 128.67it/s]\u001b[A\n",
      "Validation DataLoader 0:  58%|██████████████████████████████████████▌                           | 7/12 [00:00<00:00, 128.40it/s]\u001b[A\n",
      "Validation DataLoader 0:  67%|████████████████████████████████████████████                      | 8/12 [00:00<00:00, 128.10it/s]\u001b[A\n",
      "Validation DataLoader 0:  75%|█████████████████████████████████████████████████▌                | 9/12 [00:00<00:00, 130.68it/s]\u001b[A\n",
      "Validation DataLoader 0:  83%|██████████████████████████████████████████████████████▏          | 10/12 [00:00<00:00, 133.06it/s]\u001b[A\n",
      "Validation DataLoader 0:  92%|███████████████████████████████████████████████████████████▌     | 11/12 [00:00<00:00, 133.62it/s]\u001b[A\n",
      "Validation DataLoader 0: 100%|█████████████████████████████████████████████████████████████████| 12/12 [00:00<00:00, 135.63it/s]\u001b[A\n",
      "Epoch 114: 100%|█| 48/48 [00:02<00:00, 22.91it/s, v_num=25, train_loss=0.495, train_accuracy=0.800, val_loss=0.702, val_accuracy\u001b[A"
     ]
    },
    {
     "name": "stderr",
     "output_type": "stream",
     "text": [
      "Epoch 114, global step 5520: 'val_loss' reached 0.70209 (best 0.70209), saving model to '/home/till/Desktop/ds4w-user-identification/checkpoints/best-checkpoint-v24.ckpt' as top 1\n"
     ]
    },
    {
     "name": "stdout",
     "output_type": "stream",
     "text": [
      "Epoch 115: 100%|█| 48/48 [00:01<00:00, 32.70it/s, v_num=25, train_loss=0.378, train_accuracy=0.850, val_loss=0.702, val_accuracy\n",
      "Validation: |                                                                                             | 0/? [00:00<?, ?it/s]\u001b[A\n",
      "Validation:   0%|                                                                                        | 0/12 [00:00<?, ?it/s]\u001b[A\n",
      "Validation DataLoader 0:   0%|                                                                           | 0/12 [00:00<?, ?it/s]\u001b[A\n",
      "Validation DataLoader 0:   8%|█████▌                                                            | 1/12 [00:00<00:00, 128.06it/s]\u001b[A\n",
      "Validation DataLoader 0:  17%|███████████                                                       | 2/12 [00:00<00:00, 134.36it/s]\u001b[A\n",
      "Validation DataLoader 0:  25%|████████████████▌                                                 | 3/12 [00:00<00:00, 122.56it/s]\u001b[A\n",
      "Validation DataLoader 0:  33%|██████████████████████                                            | 4/12 [00:00<00:00, 130.75it/s]\u001b[A\n",
      "Validation DataLoader 0:  42%|███████████████████████████▌                                      | 5/12 [00:00<00:00, 134.17it/s]\u001b[A\n",
      "Validation DataLoader 0:  50%|█████████████████████████████████                                 | 6/12 [00:00<00:00, 137.50it/s]\u001b[A\n",
      "Validation DataLoader 0:  58%|██████████████████████████████████████▌                           | 7/12 [00:00<00:00, 140.14it/s]\u001b[A\n",
      "Validation DataLoader 0:  67%|████████████████████████████████████████████                      | 8/12 [00:00<00:00, 141.99it/s]\u001b[A\n",
      "Validation DataLoader 0:  75%|█████████████████████████████████████████████████▌                | 9/12 [00:00<00:00, 144.21it/s]\u001b[A\n",
      "Validation DataLoader 0:  83%|██████████████████████████████████████████████████████▏          | 10/12 [00:00<00:00, 144.44it/s]\u001b[A\n",
      "Validation DataLoader 0:  92%|███████████████████████████████████████████████████████████▌     | 11/12 [00:00<00:00, 143.55it/s]\u001b[A\n",
      "Validation DataLoader 0: 100%|█████████████████████████████████████████████████████████████████| 12/12 [00:00<00:00, 144.82it/s]\u001b[A\n",
      "Epoch 115: 100%|█| 48/48 [00:02<00:00, 22.73it/s, v_num=25, train_loss=0.378, train_accuracy=0.850, val_loss=0.736, val_accuracy\u001b[A"
     ]
    },
    {
     "name": "stderr",
     "output_type": "stream",
     "text": [
      "Epoch 115, global step 5568: 'val_loss' was not in top 1\n"
     ]
    },
    {
     "name": "stdout",
     "output_type": "stream",
     "text": [
      "Epoch 116: 100%|█| 48/48 [00:01<00:00, 33.35it/s, v_num=25, train_loss=0.390, train_accuracy=0.850, val_loss=0.736, val_accuracy\n",
      "Validation: |                                                                                             | 0/? [00:00<?, ?it/s]\u001b[A\n",
      "Validation:   0%|                                                                                        | 0/12 [00:00<?, ?it/s]\u001b[A\n",
      "Validation DataLoader 0:   0%|                                                                           | 0/12 [00:00<?, ?it/s]\u001b[A\n",
      "Validation DataLoader 0:   8%|█████▌                                                            | 1/12 [00:00<00:00, 127.26it/s]\u001b[A\n",
      "Validation DataLoader 0:  17%|███████████                                                       | 2/12 [00:00<00:00, 133.24it/s]\u001b[A\n",
      "Validation DataLoader 0:  25%|████████████████▌                                                 | 3/12 [00:00<00:00, 112.75it/s]\u001b[A\n",
      "Validation DataLoader 0:  33%|██████████████████████                                            | 4/12 [00:00<00:00, 122.30it/s]\u001b[A\n",
      "Validation DataLoader 0:  42%|███████████████████████████▌                                      | 5/12 [00:00<00:00, 127.93it/s]\u001b[A\n",
      "Validation DataLoader 0:  50%|█████████████████████████████████                                 | 6/12 [00:00<00:00, 131.79it/s]\u001b[A\n",
      "Validation DataLoader 0:  58%|██████████████████████████████████████▌                           | 7/12 [00:00<00:00, 134.81it/s]\u001b[A\n",
      "Validation DataLoader 0:  67%|████████████████████████████████████████████                      | 8/12 [00:00<00:00, 136.41it/s]\u001b[A\n",
      "Validation DataLoader 0:  75%|█████████████████████████████████████████████████▌                | 9/12 [00:00<00:00, 139.09it/s]\u001b[A\n",
      "Validation DataLoader 0:  83%|██████████████████████████████████████████████████████▏          | 10/12 [00:00<00:00, 140.31it/s]\u001b[A\n",
      "Validation DataLoader 0:  92%|███████████████████████████████████████████████████████████▌     | 11/12 [00:00<00:00, 141.37it/s]\u001b[A\n",
      "Validation DataLoader 0: 100%|█████████████████████████████████████████████████████████████████| 12/12 [00:00<00:00, 142.67it/s]\u001b[A\n",
      "Epoch 116: 100%|█| 48/48 [00:02<00:00, 23.10it/s, v_num=25, train_loss=0.390, train_accuracy=0.850, val_loss=0.662, val_accuracy\u001b[A"
     ]
    },
    {
     "name": "stderr",
     "output_type": "stream",
     "text": [
      "Epoch 116, global step 5616: 'val_loss' reached 0.66205 (best 0.66205), saving model to '/home/till/Desktop/ds4w-user-identification/checkpoints/best-checkpoint-v24.ckpt' as top 1\n"
     ]
    },
    {
     "name": "stdout",
     "output_type": "stream",
     "text": [
      "Epoch 117: 100%|█| 48/48 [00:01<00:00, 33.09it/s, v_num=25, train_loss=0.285, train_accuracy=0.875, val_loss=0.662, val_accuracy\n",
      "Validation: |                                                                                             | 0/? [00:00<?, ?it/s]\u001b[A\n",
      "Validation:   0%|                                                                                        | 0/12 [00:00<?, ?it/s]\u001b[A\n",
      "Validation DataLoader 0:   0%|                                                                           | 0/12 [00:00<?, ?it/s]\u001b[A\n",
      "Validation DataLoader 0:   8%|█████▌                                                            | 1/12 [00:00<00:00, 129.84it/s]\u001b[A\n",
      "Validation DataLoader 0:  17%|███████████                                                       | 2/12 [00:00<00:00, 126.54it/s]\u001b[A\n",
      "Validation DataLoader 0:  25%|████████████████▌                                                 | 3/12 [00:00<00:00, 125.38it/s]\u001b[A\n",
      "Validation DataLoader 0:  33%|██████████████████████                                            | 4/12 [00:00<00:00, 129.89it/s]\u001b[A\n",
      "Validation DataLoader 0:  42%|███████████████████████████▌                                      | 5/12 [00:00<00:00, 132.20it/s]\u001b[A\n",
      "Validation DataLoader 0:  50%|█████████████████████████████████                                 | 6/12 [00:00<00:00, 135.88it/s]\u001b[A\n",
      "Validation DataLoader 0:  58%|██████████████████████████████████████▌                           | 7/12 [00:00<00:00, 136.59it/s]\u001b[A\n",
      "Validation DataLoader 0:  67%|████████████████████████████████████████████                      | 8/12 [00:00<00:00, 128.13it/s]\u001b[A\n",
      "Validation DataLoader 0:  75%|█████████████████████████████████████████████████▌                | 9/12 [00:00<00:00, 127.96it/s]\u001b[A\n",
      "Validation DataLoader 0:  83%|██████████████████████████████████████████████████████▏          | 10/12 [00:00<00:00, 129.38it/s]\u001b[A\n",
      "Validation DataLoader 0:  92%|███████████████████████████████████████████████████████████▌     | 11/12 [00:00<00:00, 131.83it/s]\u001b[A\n",
      "Validation DataLoader 0: 100%|█████████████████████████████████████████████████████████████████| 12/12 [00:00<00:00, 133.66it/s]\u001b[A\n",
      "Epoch 117: 100%|█| 48/48 [00:02<00:00, 22.72it/s, v_num=25, train_loss=0.285, train_accuracy=0.875, val_loss=0.663, val_accuracy\u001b[A"
     ]
    },
    {
     "name": "stderr",
     "output_type": "stream",
     "text": [
      "Epoch 117, global step 5664: 'val_loss' was not in top 1\n"
     ]
    },
    {
     "name": "stdout",
     "output_type": "stream",
     "text": [
      "Epoch 118: 100%|█| 48/48 [00:01<00:00, 33.30it/s, v_num=25, train_loss=0.648, train_accuracy=0.775, val_loss=0.663, val_accuracy\n",
      "Validation: |                                                                                             | 0/? [00:00<?, ?it/s]\u001b[A\n",
      "Validation:   0%|                                                                                        | 0/12 [00:00<?, ?it/s]\u001b[A\n",
      "Validation DataLoader 0:   0%|                                                                           | 0/12 [00:00<?, ?it/s]\u001b[A\n",
      "Validation DataLoader 0:   8%|█████▌                                                            | 1/12 [00:00<00:00, 121.95it/s]\u001b[A\n",
      "Validation DataLoader 0:  17%|███████████                                                       | 2/12 [00:00<00:00, 135.78it/s]\u001b[A\n",
      "Validation DataLoader 0:  25%|████████████████▌                                                 | 3/12 [00:00<00:00, 130.88it/s]\u001b[A\n",
      "Validation DataLoader 0:  33%|██████████████████████                                            | 4/12 [00:00<00:00, 137.25it/s]\u001b[A\n",
      "Validation DataLoader 0:  42%|███████████████████████████▌                                      | 5/12 [00:00<00:00, 143.14it/s]\u001b[A\n",
      "Validation DataLoader 0:  50%|█████████████████████████████████                                 | 6/12 [00:00<00:00, 147.52it/s]\u001b[A\n",
      "Validation DataLoader 0:  58%|██████████████████████████████████████▌                           | 7/12 [00:00<00:00, 150.55it/s]\u001b[A\n",
      "Validation DataLoader 0:  67%|████████████████████████████████████████████                      | 8/12 [00:00<00:00, 149.16it/s]\u001b[A\n",
      "Validation DataLoader 0:  75%|█████████████████████████████████████████████████▌                | 9/12 [00:00<00:00, 148.57it/s]\u001b[A\n",
      "Validation DataLoader 0:  83%|██████████████████████████████████████████████████████▏          | 10/12 [00:00<00:00, 146.83it/s]\u001b[A\n",
      "Validation DataLoader 0:  92%|███████████████████████████████████████████████████████████▌     | 11/12 [00:00<00:00, 147.72it/s]\u001b[A\n",
      "Validation DataLoader 0: 100%|█████████████████████████████████████████████████████████████████| 12/12 [00:00<00:00, 148.78it/s]\u001b[A\n",
      "Epoch 118: 100%|█| 48/48 [00:02<00:00, 23.31it/s, v_num=25, train_loss=0.648, train_accuracy=0.775, val_loss=0.692, val_accuracy\u001b[A"
     ]
    },
    {
     "name": "stderr",
     "output_type": "stream",
     "text": [
      "Epoch 118, global step 5712: 'val_loss' was not in top 1\n"
     ]
    },
    {
     "name": "stdout",
     "output_type": "stream",
     "text": [
      "Epoch 119: 100%|█| 48/48 [00:01<00:00, 33.71it/s, v_num=25, train_loss=0.457, train_accuracy=0.800, val_loss=0.692, val_accuracy\n",
      "Validation: |                                                                                             | 0/? [00:00<?, ?it/s]\u001b[A\n",
      "Validation:   0%|                                                                                        | 0/12 [00:00<?, ?it/s]\u001b[A\n",
      "Validation DataLoader 0:   0%|                                                                           | 0/12 [00:00<?, ?it/s]\u001b[A\n",
      "Validation DataLoader 0:   8%|█████▌                                                            | 1/12 [00:00<00:00, 122.40it/s]\u001b[A\n",
      "Validation DataLoader 0:  17%|███████████                                                       | 2/12 [00:00<00:00, 137.64it/s]\u001b[A\n",
      "Validation DataLoader 0:  25%|████████████████▌                                                 | 3/12 [00:00<00:00, 139.88it/s]\u001b[A\n",
      "Validation DataLoader 0:  33%|██████████████████████                                            | 4/12 [00:00<00:00, 142.39it/s]\u001b[A\n",
      "Validation DataLoader 0:  42%|███████████████████████████▌                                      | 5/12 [00:00<00:00, 129.92it/s]\u001b[A\n",
      "Validation DataLoader 0:  50%|█████████████████████████████████                                 | 6/12 [00:00<00:00, 134.51it/s]\u001b[A\n",
      "Validation DataLoader 0:  58%|██████████████████████████████████████▌                           | 7/12 [00:00<00:00, 135.87it/s]\u001b[A\n",
      "Validation DataLoader 0:  67%|████████████████████████████████████████████                      | 8/12 [00:00<00:00, 138.76it/s]\u001b[A\n",
      "Validation DataLoader 0:  75%|█████████████████████████████████████████████████▌                | 9/12 [00:00<00:00, 139.52it/s]\u001b[A\n",
      "Validation DataLoader 0:  83%|██████████████████████████████████████████████████████▏          | 10/12 [00:00<00:00, 140.56it/s]\u001b[A\n",
      "Validation DataLoader 0:  92%|███████████████████████████████████████████████████████████▌     | 11/12 [00:00<00:00, 141.24it/s]\u001b[A\n",
      "Validation DataLoader 0: 100%|█████████████████████████████████████████████████████████████████| 12/12 [00:00<00:00, 141.68it/s]\u001b[A\n",
      "Epoch 119: 100%|█| 48/48 [00:02<00:00, 23.09it/s, v_num=25, train_loss=0.457, train_accuracy=0.800, val_loss=0.642, val_accuracy\u001b[A"
     ]
    },
    {
     "name": "stderr",
     "output_type": "stream",
     "text": [
      "Epoch 119, global step 5760: 'val_loss' reached 0.64191 (best 0.64191), saving model to '/home/till/Desktop/ds4w-user-identification/checkpoints/best-checkpoint-v24.ckpt' as top 1\n"
     ]
    },
    {
     "name": "stdout",
     "output_type": "stream",
     "text": [
      "Epoch 120: 100%|█| 48/48 [00:01<00:00, 32.66it/s, v_num=25, train_loss=0.680, train_accuracy=0.800, val_loss=0.642, val_accuracy\n",
      "Validation: |                                                                                             | 0/? [00:00<?, ?it/s]\u001b[A\n",
      "Validation:   0%|                                                                                        | 0/12 [00:00<?, ?it/s]\u001b[A\n",
      "Validation DataLoader 0:   0%|                                                                           | 0/12 [00:00<?, ?it/s]\u001b[A\n",
      "Validation DataLoader 0:   8%|█████▌                                                            | 1/12 [00:00<00:00, 120.23it/s]\u001b[A\n",
      "Validation DataLoader 0:  17%|███████████                                                       | 2/12 [00:00<00:00, 131.60it/s]\u001b[A\n",
      "Validation DataLoader 0:  25%|████████████████▌                                                 | 3/12 [00:00<00:00, 134.99it/s]\u001b[A\n",
      "Validation DataLoader 0:  33%|██████████████████████                                            | 4/12 [00:00<00:00, 128.44it/s]\u001b[A\n",
      "Validation DataLoader 0:  42%|███████████████████████████▌                                      | 5/12 [00:00<00:00, 132.92it/s]\u001b[A\n",
      "Validation DataLoader 0:  50%|█████████████████████████████████                                 | 6/12 [00:00<00:00, 136.13it/s]\u001b[A\n",
      "Validation DataLoader 0:  58%|██████████████████████████████████████▌                           | 7/12 [00:00<00:00, 138.65it/s]\u001b[A\n",
      "Validation DataLoader 0:  67%|████████████████████████████████████████████                      | 8/12 [00:00<00:00, 139.15it/s]\u001b[A\n",
      "Validation DataLoader 0:  75%|█████████████████████████████████████████████████▌                | 9/12 [00:00<00:00, 139.34it/s]\u001b[A\n",
      "Validation DataLoader 0:  83%|██████████████████████████████████████████████████████▏          | 10/12 [00:00<00:00, 140.21it/s]\u001b[A\n",
      "Validation DataLoader 0:  92%|███████████████████████████████████████████████████████████▌     | 11/12 [00:00<00:00, 139.49it/s]\u001b[A\n",
      "Validation DataLoader 0: 100%|█████████████████████████████████████████████████████████████████| 12/12 [00:00<00:00, 139.96it/s]\u001b[A\n",
      "Epoch 120: 100%|█| 48/48 [00:02<00:00, 22.48it/s, v_num=25, train_loss=0.680, train_accuracy=0.800, val_loss=0.682, val_accuracy\u001b[A"
     ]
    },
    {
     "name": "stderr",
     "output_type": "stream",
     "text": [
      "Epoch 120, global step 5808: 'val_loss' was not in top 1\n"
     ]
    },
    {
     "name": "stdout",
     "output_type": "stream",
     "text": [
      "Epoch 121: 100%|█| 48/48 [00:01<00:00, 32.54it/s, v_num=25, train_loss=0.409, train_accuracy=0.850, val_loss=0.682, val_accuracy\n",
      "Validation: |                                                                                             | 0/? [00:00<?, ?it/s]\u001b[A\n",
      "Validation:   0%|                                                                                        | 0/12 [00:00<?, ?it/s]\u001b[A\n",
      "Validation DataLoader 0:   0%|                                                                           | 0/12 [00:00<?, ?it/s]\u001b[A\n",
      "Validation DataLoader 0:   8%|█████▌                                                            | 1/12 [00:00<00:00, 120.78it/s]\u001b[A\n",
      "Validation DataLoader 0:  17%|███████████                                                       | 2/12 [00:00<00:00, 131.82it/s]\u001b[A\n",
      "Validation DataLoader 0:  25%|████████████████▌                                                 | 3/12 [00:00<00:00, 135.84it/s]\u001b[A\n",
      "Validation DataLoader 0:  33%|██████████████████████                                            | 4/12 [00:00<00:00, 141.67it/s]\u001b[A\n",
      "Validation DataLoader 0:  42%|███████████████████████████▌                                      | 5/12 [00:00<00:00, 143.11it/s]\u001b[A\n",
      "Validation DataLoader 0:  50%|█████████████████████████████████                                 | 6/12 [00:00<00:00, 144.93it/s]\u001b[A\n",
      "Validation DataLoader 0:  58%|██████████████████████████████████████▌                           | 7/12 [00:00<00:00, 147.61it/s]\u001b[A\n",
      "Validation DataLoader 0:  67%|████████████████████████████████████████████                      | 8/12 [00:00<00:00, 145.70it/s]\u001b[A\n",
      "Validation DataLoader 0:  75%|█████████████████████████████████████████████████▌                | 9/12 [00:00<00:00, 145.13it/s]\u001b[A\n",
      "Validation DataLoader 0:  83%|██████████████████████████████████████████████████████▏          | 10/12 [00:00<00:00, 145.72it/s]\u001b[A\n",
      "Validation DataLoader 0:  92%|███████████████████████████████████████████████████████████▌     | 11/12 [00:00<00:00, 145.25it/s]\u001b[A\n",
      "Validation DataLoader 0: 100%|█████████████████████████████████████████████████████████████████| 12/12 [00:00<00:00, 146.93it/s]\u001b[A\n",
      "Epoch 121: 100%|█| 48/48 [00:02<00:00, 22.66it/s, v_num=25, train_loss=0.409, train_accuracy=0.850, val_loss=0.692, val_accuracy\u001b[A"
     ]
    },
    {
     "name": "stderr",
     "output_type": "stream",
     "text": [
      "Epoch 121, global step 5856: 'val_loss' was not in top 1\n"
     ]
    },
    {
     "name": "stdout",
     "output_type": "stream",
     "text": [
      "Epoch 122: 100%|█| 48/48 [00:01<00:00, 33.68it/s, v_num=25, train_loss=0.457, train_accuracy=0.850, val_loss=0.692, val_accuracy\n",
      "Validation: |                                                                                             | 0/? [00:00<?, ?it/s]\u001b[A\n",
      "Validation:   0%|                                                                                        | 0/12 [00:00<?, ?it/s]\u001b[A\n",
      "Validation DataLoader 0:   0%|                                                                           | 0/12 [00:00<?, ?it/s]\u001b[A\n",
      "Validation DataLoader 0:   8%|█████▌                                                            | 1/12 [00:00<00:00, 118.37it/s]\u001b[A\n",
      "Validation DataLoader 0:  17%|███████████                                                       | 2/12 [00:00<00:00, 128.62it/s]\u001b[A\n",
      "Validation DataLoader 0:  25%|████████████████▌                                                 | 3/12 [00:00<00:00, 130.72it/s]\u001b[A\n",
      "Validation DataLoader 0:  33%|██████████████████████                                            | 4/12 [00:00<00:00, 133.26it/s]\u001b[A\n",
      "Validation DataLoader 0:  42%|███████████████████████████▌                                      | 5/12 [00:00<00:00, 130.23it/s]\u001b[A\n",
      "Validation DataLoader 0:  50%|█████████████████████████████████                                 | 6/12 [00:00<00:00, 133.75it/s]\u001b[A\n",
      "Validation DataLoader 0:  58%|██████████████████████████████████████▌                           | 7/12 [00:00<00:00, 131.17it/s]\u001b[A\n",
      "Validation DataLoader 0:  67%|████████████████████████████████████████████                      | 8/12 [00:00<00:00, 130.82it/s]\u001b[A\n",
      "Validation DataLoader 0:  75%|█████████████████████████████████████████████████▌                | 9/12 [00:00<00:00, 132.52it/s]\u001b[A\n",
      "Validation DataLoader 0:  83%|██████████████████████████████████████████████████████▏          | 10/12 [00:00<00:00, 134.29it/s]\u001b[A\n",
      "Validation DataLoader 0:  92%|███████████████████████████████████████████████████████████▌     | 11/12 [00:00<00:00, 136.65it/s]\u001b[A\n",
      "Validation DataLoader 0: 100%|█████████████████████████████████████████████████████████████████| 12/12 [00:00<00:00, 138.03it/s]\u001b[A\n",
      "Epoch 122: 100%|█| 48/48 [00:02<00:00, 23.58it/s, v_num=25, train_loss=0.457, train_accuracy=0.850, val_loss=0.715, val_accuracy\u001b[A"
     ]
    },
    {
     "name": "stderr",
     "output_type": "stream",
     "text": [
      "Epoch 122, global step 5904: 'val_loss' was not in top 1\n"
     ]
    },
    {
     "name": "stdout",
     "output_type": "stream",
     "text": [
      "Epoch 123: 100%|█| 48/48 [00:01<00:00, 32.47it/s, v_num=25, train_loss=0.399, train_accuracy=0.875, val_loss=0.715, val_accuracy\n",
      "Validation: |                                                                                             | 0/? [00:00<?, ?it/s]\u001b[A\n",
      "Validation:   0%|                                                                                        | 0/12 [00:00<?, ?it/s]\u001b[A\n",
      "Validation DataLoader 0:   0%|                                                                           | 0/12 [00:00<?, ?it/s]\u001b[A\n",
      "Validation DataLoader 0:   8%|█████▌                                                            | 1/12 [00:00<00:00, 123.65it/s]\u001b[A\n",
      "Validation DataLoader 0:  17%|███████████                                                       | 2/12 [00:00<00:00, 137.77it/s]\u001b[A\n",
      "Validation DataLoader 0:  25%|████████████████▌                                                 | 3/12 [00:00<00:00, 143.93it/s]\u001b[A\n",
      "Validation DataLoader 0:  33%|██████████████████████                                            | 4/12 [00:00<00:00, 141.30it/s]\u001b[A\n",
      "Validation DataLoader 0:  42%|███████████████████████████▌                                      | 5/12 [00:00<00:00, 144.60it/s]\u001b[A\n",
      "Validation DataLoader 0:  50%|█████████████████████████████████                                 | 6/12 [00:00<00:00, 145.13it/s]\u001b[A\n",
      "Validation DataLoader 0:  58%|██████████████████████████████████████▌                           | 7/12 [00:00<00:00, 142.06it/s]\u001b[A\n",
      "Validation DataLoader 0:  67%|████████████████████████████████████████████                      | 8/12 [00:00<00:00, 142.40it/s]\u001b[A\n",
      "Validation DataLoader 0:  75%|█████████████████████████████████████████████████▌                | 9/12 [00:00<00:00, 143.20it/s]\u001b[A\n",
      "Validation DataLoader 0:  83%|██████████████████████████████████████████████████████▏          | 10/12 [00:00<00:00, 143.41it/s]\u001b[A\n",
      "Validation DataLoader 0:  92%|███████████████████████████████████████████████████████████▌     | 11/12 [00:00<00:00, 143.65it/s]\u001b[A\n",
      "Validation DataLoader 0: 100%|█████████████████████████████████████████████████████████████████| 12/12 [00:00<00:00, 145.40it/s]\u001b[A\n",
      "Epoch 123: 100%|█| 48/48 [00:02<00:00, 22.91it/s, v_num=25, train_loss=0.399, train_accuracy=0.875, val_loss=0.794, val_accuracy\u001b[A"
     ]
    },
    {
     "name": "stderr",
     "output_type": "stream",
     "text": [
      "Epoch 123, global step 5952: 'val_loss' was not in top 1\n"
     ]
    },
    {
     "name": "stdout",
     "output_type": "stream",
     "text": [
      "Epoch 124: 100%|█| 48/48 [00:01<00:00, 33.18it/s, v_num=25, train_loss=0.487, train_accuracy=0.775, val_loss=0.794, val_accuracy\n",
      "Validation: |                                                                                             | 0/? [00:00<?, ?it/s]\u001b[A\n",
      "Validation:   0%|                                                                                        | 0/12 [00:00<?, ?it/s]\u001b[A\n",
      "Validation DataLoader 0:   0%|                                                                           | 0/12 [00:00<?, ?it/s]\u001b[A\n",
      "Validation DataLoader 0:   8%|█████▌                                                            | 1/12 [00:00<00:00, 108.61it/s]\u001b[A\n",
      "Validation DataLoader 0:  17%|███████████                                                       | 2/12 [00:00<00:00, 120.60it/s]\u001b[A\n",
      "Validation DataLoader 0:  25%|████████████████▌                                                 | 3/12 [00:00<00:00, 127.71it/s]\u001b[A\n",
      "Validation DataLoader 0:  33%|██████████████████████                                            | 4/12 [00:00<00:00, 130.80it/s]\u001b[A\n",
      "Validation DataLoader 0:  42%|███████████████████████████▌                                      | 5/12 [00:00<00:00, 131.35it/s]\u001b[A\n",
      "Validation DataLoader 0:  50%|█████████████████████████████████                                 | 6/12 [00:00<00:00, 134.80it/s]\u001b[A\n",
      "Validation DataLoader 0:  58%|██████████████████████████████████████▌                           | 7/12 [00:00<00:00, 130.78it/s]\u001b[A\n",
      "Validation DataLoader 0:  67%|████████████████████████████████████████████                      | 8/12 [00:00<00:00, 133.52it/s]\u001b[A\n",
      "Validation DataLoader 0:  75%|█████████████████████████████████████████████████▌                | 9/12 [00:00<00:00, 136.08it/s]\u001b[A\n",
      "Validation DataLoader 0:  83%|██████████████████████████████████████████████████████▏          | 10/12 [00:00<00:00, 138.35it/s]\u001b[A\n",
      "Validation DataLoader 0:  92%|███████████████████████████████████████████████████████████▌     | 11/12 [00:00<00:00, 139.03it/s]\u001b[A\n",
      "Validation DataLoader 0: 100%|█████████████████████████████████████████████████████████████████| 12/12 [00:00<00:00, 141.07it/s]\u001b[A\n",
      "Epoch 124: 100%|█| 48/48 [00:02<00:00, 22.69it/s, v_num=25, train_loss=0.487, train_accuracy=0.775, val_loss=0.645, val_accuracy\u001b[A"
     ]
    },
    {
     "name": "stderr",
     "output_type": "stream",
     "text": [
      "Epoch 124, global step 6000: 'val_loss' was not in top 1\n"
     ]
    },
    {
     "name": "stdout",
     "output_type": "stream",
     "text": [
      "Epoch 125: 100%|█| 48/48 [00:01<00:00, 32.90it/s, v_num=25, train_loss=0.522, train_accuracy=0.775, val_loss=0.645, val_accuracy\n",
      "Validation: |                                                                                             | 0/? [00:00<?, ?it/s]\u001b[A\n",
      "Validation:   0%|                                                                                        | 0/12 [00:00<?, ?it/s]\u001b[A\n",
      "Validation DataLoader 0:   0%|                                                                           | 0/12 [00:00<?, ?it/s]\u001b[A\n",
      "Validation DataLoader 0:   8%|█████▌                                                             | 1/12 [00:00<00:00, 99.39it/s]\u001b[A\n",
      "Validation DataLoader 0:  17%|███████████                                                       | 2/12 [00:00<00:00, 117.26it/s]\u001b[A\n",
      "Validation DataLoader 0:  25%|████████████████▌                                                 | 3/12 [00:00<00:00, 123.09it/s]\u001b[A\n",
      "Validation DataLoader 0:  33%|██████████████████████                                            | 4/12 [00:00<00:00, 126.01it/s]\u001b[A\n",
      "Validation DataLoader 0:  42%|███████████████████████████▌                                      | 5/12 [00:00<00:00, 125.25it/s]\u001b[A\n",
      "Validation DataLoader 0:  50%|█████████████████████████████████                                 | 6/12 [00:00<00:00, 128.85it/s]\u001b[A\n",
      "Validation DataLoader 0:  58%|██████████████████████████████████████▌                           | 7/12 [00:00<00:00, 129.59it/s]\u001b[A\n",
      "Validation DataLoader 0:  67%|████████████████████████████████████████████                      | 8/12 [00:00<00:00, 131.40it/s]\u001b[A\n",
      "Validation DataLoader 0:  75%|█████████████████████████████████████████████████▌                | 9/12 [00:00<00:00, 130.76it/s]\u001b[A\n",
      "Validation DataLoader 0:  83%|██████████████████████████████████████████████████████▏          | 10/12 [00:00<00:00, 132.80it/s]\u001b[A\n",
      "Validation DataLoader 0:  92%|███████████████████████████████████████████████████████████▌     | 11/12 [00:00<00:00, 133.39it/s]\u001b[A\n",
      "Validation DataLoader 0: 100%|█████████████████████████████████████████████████████████████████| 12/12 [00:00<00:00, 134.09it/s]\u001b[A\n",
      "Epoch 125: 100%|█| 48/48 [00:02<00:00, 22.92it/s, v_num=25, train_loss=0.522, train_accuracy=0.775, val_loss=0.673, val_accuracy\u001b[A"
     ]
    },
    {
     "name": "stderr",
     "output_type": "stream",
     "text": [
      "Epoch 125, global step 6048: 'val_loss' was not in top 1\n"
     ]
    },
    {
     "name": "stdout",
     "output_type": "stream",
     "text": [
      "Epoch 126: 100%|█| 48/48 [00:01<00:00, 32.30it/s, v_num=25, train_loss=0.454, train_accuracy=0.800, val_loss=0.673, val_accuracy\n",
      "Validation: |                                                                                             | 0/? [00:00<?, ?it/s]\u001b[A\n",
      "Validation:   0%|                                                                                        | 0/12 [00:00<?, ?it/s]\u001b[A\n",
      "Validation DataLoader 0:   0%|                                                                           | 0/12 [00:00<?, ?it/s]\u001b[A\n",
      "Validation DataLoader 0:   8%|█████▌                                                            | 1/12 [00:00<00:00, 118.87it/s]\u001b[A\n",
      "Validation DataLoader 0:  17%|███████████                                                       | 2/12 [00:00<00:00, 131.51it/s]\u001b[A\n",
      "Validation DataLoader 0:  25%|████████████████▌                                                 | 3/12 [00:00<00:00, 137.56it/s]\u001b[A\n",
      "Validation DataLoader 0:  33%|██████████████████████                                            | 4/12 [00:00<00:00, 138.01it/s]\u001b[A\n",
      "Validation DataLoader 0:  42%|███████████████████████████▌                                      | 5/12 [00:00<00:00, 136.65it/s]\u001b[A\n",
      "Validation DataLoader 0:  50%|█████████████████████████████████                                 | 6/12 [00:00<00:00, 137.86it/s]\u001b[A\n",
      "Validation DataLoader 0:  58%|██████████████████████████████████████▌                           | 7/12 [00:00<00:00, 137.71it/s]\u001b[A\n",
      "Validation DataLoader 0:  67%|████████████████████████████████████████████                      | 8/12 [00:00<00:00, 137.66it/s]\u001b[A\n",
      "Validation DataLoader 0:  75%|█████████████████████████████████████████████████▌                | 9/12 [00:00<00:00, 137.47it/s]\u001b[A\n",
      "Validation DataLoader 0:  83%|██████████████████████████████████████████████████████▏          | 10/12 [00:00<00:00, 135.31it/s]\u001b[A\n",
      "Validation DataLoader 0:  92%|███████████████████████████████████████████████████████████▌     | 11/12 [00:00<00:00, 136.18it/s]\u001b[A\n",
      "Validation DataLoader 0: 100%|█████████████████████████████████████████████████████████████████| 12/12 [00:00<00:00, 137.07it/s]\u001b[A\n",
      "Epoch 126: 100%|█| 48/48 [00:02<00:00, 22.47it/s, v_num=25, train_loss=0.454, train_accuracy=0.800, val_loss=0.758, val_accuracy\u001b[A"
     ]
    },
    {
     "name": "stderr",
     "output_type": "stream",
     "text": [
      "Epoch 126, global step 6096: 'val_loss' was not in top 1\n"
     ]
    },
    {
     "name": "stdout",
     "output_type": "stream",
     "text": [
      "Epoch 127: 100%|█| 48/48 [00:01<00:00, 33.46it/s, v_num=25, train_loss=0.481, train_accuracy=0.850, val_loss=0.758, val_accuracy\n",
      "Validation: |                                                                                             | 0/? [00:00<?, ?it/s]\u001b[A\n",
      "Validation:   0%|                                                                                        | 0/12 [00:00<?, ?it/s]\u001b[A\n",
      "Validation DataLoader 0:   0%|                                                                           | 0/12 [00:00<?, ?it/s]\u001b[A\n",
      "Validation DataLoader 0:   8%|█████▌                                                            | 1/12 [00:00<00:00, 128.87it/s]\u001b[A\n",
      "Validation DataLoader 0:  17%|███████████                                                       | 2/12 [00:00<00:00, 115.22it/s]\u001b[A\n",
      "Validation DataLoader 0:  25%|████████████████▌                                                 | 3/12 [00:00<00:00, 125.96it/s]\u001b[A\n",
      "Validation DataLoader 0:  33%|██████████████████████                                            | 4/12 [00:00<00:00, 132.96it/s]\u001b[A\n",
      "Validation DataLoader 0:  42%|███████████████████████████▌                                      | 5/12 [00:00<00:00, 132.20it/s]\u001b[A\n",
      "Validation DataLoader 0:  50%|█████████████████████████████████                                 | 6/12 [00:00<00:00, 131.88it/s]\u001b[A\n",
      "Validation DataLoader 0:  58%|██████████████████████████████████████▌                           | 7/12 [00:00<00:00, 135.37it/s]\u001b[A\n",
      "Validation DataLoader 0:  67%|████████████████████████████████████████████                      | 8/12 [00:00<00:00, 132.08it/s]\u001b[A\n",
      "Validation DataLoader 0:  75%|█████████████████████████████████████████████████▌                | 9/12 [00:00<00:00, 133.48it/s]\u001b[A\n",
      "Validation DataLoader 0:  83%|██████████████████████████████████████████████████████▏          | 10/12 [00:00<00:00, 133.93it/s]\u001b[A\n",
      "Validation DataLoader 0:  92%|███████████████████████████████████████████████████████████▌     | 11/12 [00:00<00:00, 134.30it/s]\u001b[A\n",
      "Validation DataLoader 0: 100%|█████████████████████████████████████████████████████████████████| 12/12 [00:00<00:00, 135.51it/s]\u001b[A\n",
      "Epoch 127: 100%|█| 48/48 [00:02<00:00, 23.20it/s, v_num=25, train_loss=0.481, train_accuracy=0.850, val_loss=0.781, val_accuracy\u001b[A"
     ]
    },
    {
     "name": "stderr",
     "output_type": "stream",
     "text": [
      "Epoch 127, global step 6144: 'val_loss' was not in top 1\n"
     ]
    },
    {
     "name": "stdout",
     "output_type": "stream",
     "text": [
      "Epoch 128: 100%|█| 48/48 [00:01<00:00, 32.67it/s, v_num=25, train_loss=0.407, train_accuracy=0.825, val_loss=0.781, val_accuracy\n",
      "Validation: |                                                                                             | 0/? [00:00<?, ?it/s]\u001b[A\n",
      "Validation:   0%|                                                                                        | 0/12 [00:00<?, ?it/s]\u001b[A\n",
      "Validation DataLoader 0:   0%|                                                                           | 0/12 [00:00<?, ?it/s]\u001b[A\n",
      "Validation DataLoader 0:   8%|█████▌                                                            | 1/12 [00:00<00:00, 120.12it/s]\u001b[A\n",
      "Validation DataLoader 0:  17%|███████████                                                       | 2/12 [00:00<00:00, 132.34it/s]\u001b[A\n",
      "Validation DataLoader 0:  25%|████████████████▌                                                 | 3/12 [00:00<00:00, 139.07it/s]\u001b[A\n",
      "Validation DataLoader 0:  33%|██████████████████████                                            | 4/12 [00:00<00:00, 127.64it/s]\u001b[A\n",
      "Validation DataLoader 0:  42%|███████████████████████████▌                                      | 5/12 [00:00<00:00, 133.27it/s]\u001b[A\n",
      "Validation DataLoader 0:  50%|█████████████████████████████████                                 | 6/12 [00:00<00:00, 135.26it/s]\u001b[A\n",
      "Validation DataLoader 0:  58%|██████████████████████████████████████▌                           | 7/12 [00:00<00:00, 138.45it/s]\u001b[A\n",
      "Validation DataLoader 0:  67%|████████████████████████████████████████████                      | 8/12 [00:00<00:00, 140.52it/s]\u001b[A\n",
      "Validation DataLoader 0:  75%|█████████████████████████████████████████████████▌                | 9/12 [00:00<00:00, 139.33it/s]\u001b[A\n",
      "Validation DataLoader 0:  83%|██████████████████████████████████████████████████████▏          | 10/12 [00:00<00:00, 140.67it/s]\u001b[A\n",
      "Validation DataLoader 0:  92%|███████████████████████████████████████████████████████████▌     | 11/12 [00:00<00:00, 140.25it/s]\u001b[A\n",
      "Validation DataLoader 0: 100%|█████████████████████████████████████████████████████████████████| 12/12 [00:00<00:00, 141.98it/s]\u001b[A\n",
      "Epoch 128: 100%|█| 48/48 [00:02<00:00, 22.92it/s, v_num=25, train_loss=0.407, train_accuracy=0.825, val_loss=0.687, val_accuracy\u001b[A"
     ]
    },
    {
     "name": "stderr",
     "output_type": "stream",
     "text": [
      "Epoch 128, global step 6192: 'val_loss' was not in top 1\n"
     ]
    },
    {
     "name": "stdout",
     "output_type": "stream",
     "text": [
      "Epoch 129: 100%|█| 48/48 [00:01<00:00, 32.74it/s, v_num=25, train_loss=0.478, train_accuracy=0.825, val_loss=0.687, val_accuracy\n",
      "Validation: |                                                                                             | 0/? [00:00<?, ?it/s]\u001b[A\n",
      "Validation:   0%|                                                                                        | 0/12 [00:00<?, ?it/s]\u001b[A\n",
      "Validation DataLoader 0:   0%|                                                                           | 0/12 [00:00<?, ?it/s]\u001b[A\n",
      "Validation DataLoader 0:   8%|█████▌                                                            | 1/12 [00:00<00:00, 115.65it/s]\u001b[A\n",
      "Validation DataLoader 0:  17%|███████████                                                       | 2/12 [00:00<00:00, 133.36it/s]\u001b[A\n",
      "Validation DataLoader 0:  25%|████████████████▌                                                 | 3/12 [00:00<00:00, 132.99it/s]\u001b[A\n",
      "Validation DataLoader 0:  33%|██████████████████████                                            | 4/12 [00:00<00:00, 129.52it/s]\u001b[A\n",
      "Validation DataLoader 0:  42%|███████████████████████████▌                                      | 5/12 [00:00<00:00, 135.15it/s]\u001b[A\n",
      "Validation DataLoader 0:  50%|█████████████████████████████████                                 | 6/12 [00:00<00:00, 135.45it/s]\u001b[A\n",
      "Validation DataLoader 0:  58%|██████████████████████████████████████▌                           | 7/12 [00:00<00:00, 138.38it/s]\u001b[A\n",
      "Validation DataLoader 0:  67%|████████████████████████████████████████████                      | 8/12 [00:00<00:00, 140.03it/s]\u001b[A\n",
      "Validation DataLoader 0:  75%|█████████████████████████████████████████████████▌                | 9/12 [00:00<00:00, 140.64it/s]\u001b[A\n",
      "Validation DataLoader 0:  83%|██████████████████████████████████████████████████████▏          | 10/12 [00:00<00:00, 142.55it/s]\u001b[A\n",
      "Validation DataLoader 0:  92%|███████████████████████████████████████████████████████████▌     | 11/12 [00:00<00:00, 142.24it/s]\u001b[A\n",
      "Validation DataLoader 0: 100%|█████████████████████████████████████████████████████████████████| 12/12 [00:00<00:00, 142.47it/s]\u001b[A\n",
      "Epoch 129: 100%|█| 48/48 [00:02<00:00, 23.05it/s, v_num=25, train_loss=0.478, train_accuracy=0.825, val_loss=0.688, val_accuracy\u001b[A"
     ]
    },
    {
     "name": "stderr",
     "output_type": "stream",
     "text": [
      "Epoch 129, global step 6240: 'val_loss' was not in top 1\n"
     ]
    },
    {
     "name": "stdout",
     "output_type": "stream",
     "text": [
      "Epoch 130: 100%|█| 48/48 [00:01<00:00, 33.06it/s, v_num=25, train_loss=0.283, train_accuracy=0.875, val_loss=0.688, val_accuracy\n",
      "Validation: |                                                                                             | 0/? [00:00<?, ?it/s]\u001b[A\n",
      "Validation:   0%|                                                                                        | 0/12 [00:00<?, ?it/s]\u001b[A\n",
      "Validation DataLoader 0:   0%|                                                                           | 0/12 [00:00<?, ?it/s]\u001b[A\n",
      "Validation DataLoader 0:   8%|█████▌                                                            | 1/12 [00:00<00:00, 118.79it/s]\u001b[A\n",
      "Validation DataLoader 0:  17%|███████████                                                       | 2/12 [00:00<00:00, 130.88it/s]\u001b[A\n",
      "Validation DataLoader 0:  25%|████████████████▌                                                 | 3/12 [00:00<00:00, 136.46it/s]\u001b[A\n",
      "Validation DataLoader 0:  33%|██████████████████████                                            | 4/12 [00:00<00:00, 132.52it/s]\u001b[A\n",
      "Validation DataLoader 0:  42%|███████████████████████████▌                                      | 5/12 [00:00<00:00, 135.26it/s]\u001b[A\n",
      "Validation DataLoader 0:  50%|█████████████████████████████████                                 | 6/12 [00:00<00:00, 139.95it/s]\u001b[A\n",
      "Validation DataLoader 0:  58%|██████████████████████████████████████▌                           | 7/12 [00:00<00:00, 139.01it/s]\u001b[A\n",
      "Validation DataLoader 0:  67%|████████████████████████████████████████████                      | 8/12 [00:00<00:00, 141.83it/s]\u001b[A\n",
      "Validation DataLoader 0:  75%|█████████████████████████████████████████████████▌                | 9/12 [00:00<00:00, 144.26it/s]\u001b[A\n",
      "Validation DataLoader 0:  83%|██████████████████████████████████████████████████████▏          | 10/12 [00:00<00:00, 145.50it/s]\u001b[A\n",
      "Validation DataLoader 0:  92%|███████████████████████████████████████████████████████████▌     | 11/12 [00:00<00:00, 145.80it/s]\u001b[A\n",
      "Validation DataLoader 0: 100%|█████████████████████████████████████████████████████████████████| 12/12 [00:00<00:00, 147.31it/s]\u001b[A\n",
      "Epoch 130: 100%|█| 48/48 [00:02<00:00, 22.96it/s, v_num=25, train_loss=0.283, train_accuracy=0.875, val_loss=0.625, val_accuracy\u001b[A"
     ]
    },
    {
     "name": "stderr",
     "output_type": "stream",
     "text": [
      "Epoch 130, global step 6288: 'val_loss' reached 0.62540 (best 0.62540), saving model to '/home/till/Desktop/ds4w-user-identification/checkpoints/best-checkpoint-v24.ckpt' as top 1\n"
     ]
    },
    {
     "name": "stdout",
     "output_type": "stream",
     "text": [
      "Epoch 131: 100%|█| 48/48 [00:01<00:00, 33.28it/s, v_num=25, train_loss=0.437, train_accuracy=0.800, val_loss=0.625, val_accuracy\n",
      "Validation: |                                                                                             | 0/? [00:00<?, ?it/s]\u001b[A\n",
      "Validation:   0%|                                                                                        | 0/12 [00:00<?, ?it/s]\u001b[A\n",
      "Validation DataLoader 0:   0%|                                                                           | 0/12 [00:00<?, ?it/s]\u001b[A\n",
      "Validation DataLoader 0:   8%|█████▌                                                            | 1/12 [00:00<00:00, 130.94it/s]\u001b[A\n",
      "Validation DataLoader 0:  17%|███████████                                                       | 2/12 [00:00<00:00, 133.43it/s]\u001b[A\n",
      "Validation DataLoader 0:  25%|████████████████▌                                                 | 3/12 [00:00<00:00, 131.42it/s]\u001b[A\n",
      "Validation DataLoader 0:  33%|██████████████████████                                            | 4/12 [00:00<00:00, 132.88it/s]\u001b[A\n",
      "Validation DataLoader 0:  42%|███████████████████████████▌                                      | 5/12 [00:00<00:00, 133.44it/s]\u001b[A\n",
      "Validation DataLoader 0:  50%|█████████████████████████████████                                 | 6/12 [00:00<00:00, 136.07it/s]\u001b[A\n",
      "Validation DataLoader 0:  58%|██████████████████████████████████████▌                           | 7/12 [00:00<00:00, 137.91it/s]\u001b[A\n",
      "Validation DataLoader 0:  67%|████████████████████████████████████████████                      | 8/12 [00:00<00:00, 137.01it/s]\u001b[A\n",
      "Validation DataLoader 0:  75%|█████████████████████████████████████████████████▌                | 9/12 [00:00<00:00, 138.64it/s]\u001b[A\n",
      "Validation DataLoader 0:  83%|██████████████████████████████████████████████████████▏          | 10/12 [00:00<00:00, 138.93it/s]\u001b[A\n",
      "Validation DataLoader 0:  92%|███████████████████████████████████████████████████████████▌     | 11/12 [00:00<00:00, 138.36it/s]\u001b[A\n",
      "Validation DataLoader 0: 100%|█████████████████████████████████████████████████████████████████| 12/12 [00:00<00:00, 139.42it/s]\u001b[A\n",
      "Epoch 131: 100%|█| 48/48 [00:02<00:00, 22.91it/s, v_num=25, train_loss=0.437, train_accuracy=0.800, val_loss=0.700, val_accuracy\u001b[A"
     ]
    },
    {
     "name": "stderr",
     "output_type": "stream",
     "text": [
      "Epoch 131, global step 6336: 'val_loss' was not in top 1\n"
     ]
    },
    {
     "name": "stdout",
     "output_type": "stream",
     "text": [
      "Epoch 132: 100%|█| 48/48 [00:01<00:00, 33.08it/s, v_num=25, train_loss=0.616, train_accuracy=0.825, val_loss=0.700, val_accuracy\n",
      "Validation: |                                                                                             | 0/? [00:00<?, ?it/s]\u001b[A\n",
      "Validation:   0%|                                                                                        | 0/12 [00:00<?, ?it/s]\u001b[A\n",
      "Validation DataLoader 0:   0%|                                                                           | 0/12 [00:00<?, ?it/s]\u001b[A\n",
      "Validation DataLoader 0:   8%|█████▌                                                            | 1/12 [00:00<00:00, 116.03it/s]\u001b[A\n",
      "Validation DataLoader 0:  17%|███████████                                                       | 2/12 [00:00<00:00, 135.11it/s]\u001b[A\n",
      "Validation DataLoader 0:  25%|████████████████▌                                                 | 3/12 [00:00<00:00, 136.96it/s]\u001b[A\n",
      "Validation DataLoader 0:  33%|██████████████████████                                            | 4/12 [00:00<00:00, 136.76it/s]\u001b[A\n",
      "Validation DataLoader 0:  42%|███████████████████████████▌                                      | 5/12 [00:00<00:00, 137.30it/s]\u001b[A\n",
      "Validation DataLoader 0:  50%|█████████████████████████████████                                 | 6/12 [00:00<00:00, 135.99it/s]\u001b[A\n",
      "Validation DataLoader 0:  58%|██████████████████████████████████████▌                           | 7/12 [00:00<00:00, 136.04it/s]\u001b[A\n",
      "Validation DataLoader 0:  67%|████████████████████████████████████████████                      | 8/12 [00:00<00:00, 138.10it/s]\u001b[A\n",
      "Validation DataLoader 0:  75%|█████████████████████████████████████████████████▌                | 9/12 [00:00<00:00, 138.55it/s]\u001b[A\n",
      "Validation DataLoader 0:  83%|██████████████████████████████████████████████████████▏          | 10/12 [00:00<00:00, 139.96it/s]\u001b[A\n",
      "Validation DataLoader 0:  92%|███████████████████████████████████████████████████████████▌     | 11/12 [00:00<00:00, 140.86it/s]\u001b[A\n",
      "Validation DataLoader 0: 100%|█████████████████████████████████████████████████████████████████| 12/12 [00:00<00:00, 142.44it/s]\u001b[A\n",
      "Epoch 132: 100%|█| 48/48 [00:02<00:00, 22.96it/s, v_num=25, train_loss=0.616, train_accuracy=0.825, val_loss=0.688, val_accuracy\u001b[A"
     ]
    },
    {
     "name": "stderr",
     "output_type": "stream",
     "text": [
      "Epoch 132, global step 6384: 'val_loss' was not in top 1\n"
     ]
    },
    {
     "name": "stdout",
     "output_type": "stream",
     "text": [
      "Epoch 133: 100%|█| 48/48 [00:01<00:00, 32.15it/s, v_num=25, train_loss=0.248, train_accuracy=0.950, val_loss=0.688, val_accuracy\n",
      "Validation: |                                                                                             | 0/? [00:00<?, ?it/s]\u001b[A\n",
      "Validation:   0%|                                                                                        | 0/12 [00:00<?, ?it/s]\u001b[A\n",
      "Validation DataLoader 0:   0%|                                                                           | 0/12 [00:00<?, ?it/s]\u001b[A\n",
      "Validation DataLoader 0:   8%|█████▌                                                            | 1/12 [00:00<00:00, 127.20it/s]\u001b[A\n",
      "Validation DataLoader 0:  17%|███████████                                                       | 2/12 [00:00<00:00, 136.07it/s]\u001b[A\n",
      "Validation DataLoader 0:  25%|████████████████▌                                                 | 3/12 [00:00<00:00, 138.53it/s]\u001b[A\n",
      "Validation DataLoader 0:  33%|██████████████████████                                            | 4/12 [00:00<00:00, 138.94it/s]\u001b[A\n",
      "Validation DataLoader 0:  42%|███████████████████████████▌                                      | 5/12 [00:00<00:00, 133.63it/s]\u001b[A\n",
      "Validation DataLoader 0:  50%|█████████████████████████████████                                 | 6/12 [00:00<00:00, 137.17it/s]\u001b[A\n",
      "Validation DataLoader 0:  58%|██████████████████████████████████████▌                           | 7/12 [00:00<00:00, 139.47it/s]\u001b[A\n",
      "Validation DataLoader 0:  67%|████████████████████████████████████████████                      | 8/12 [00:00<00:00, 142.11it/s]\u001b[A\n",
      "Validation DataLoader 0:  75%|█████████████████████████████████████████████████▌                | 9/12 [00:00<00:00, 140.16it/s]\u001b[A\n",
      "Validation DataLoader 0:  83%|██████████████████████████████████████████████████████▏          | 10/12 [00:00<00:00, 140.66it/s]\u001b[A\n",
      "Validation DataLoader 0:  92%|███████████████████████████████████████████████████████████▌     | 11/12 [00:00<00:00, 141.04it/s]\u001b[A\n",
      "Validation DataLoader 0: 100%|█████████████████████████████████████████████████████████████████| 12/12 [00:00<00:00, 142.49it/s]\u001b[A\n",
      "Epoch 133: 100%|█| 48/48 [00:02<00:00, 22.78it/s, v_num=25, train_loss=0.248, train_accuracy=0.950, val_loss=0.671, val_accuracy\u001b[A"
     ]
    },
    {
     "name": "stderr",
     "output_type": "stream",
     "text": [
      "Epoch 133, global step 6432: 'val_loss' was not in top 1\n"
     ]
    },
    {
     "name": "stdout",
     "output_type": "stream",
     "text": [
      "Epoch 134: 100%|█| 48/48 [00:01<00:00, 32.15it/s, v_num=25, train_loss=0.488, train_accuracy=0.800, val_loss=0.671, val_accuracy\n",
      "Validation: |                                                                                             | 0/? [00:00<?, ?it/s]\u001b[A\n",
      "Validation:   0%|                                                                                        | 0/12 [00:00<?, ?it/s]\u001b[A\n",
      "Validation DataLoader 0:   0%|                                                                           | 0/12 [00:00<?, ?it/s]\u001b[A\n",
      "Validation DataLoader 0:   8%|█████▌                                                            | 1/12 [00:00<00:00, 116.15it/s]\u001b[A\n",
      "Validation DataLoader 0:  17%|███████████                                                       | 2/12 [00:00<00:00, 127.15it/s]\u001b[A\n",
      "Validation DataLoader 0:  25%|████████████████▌                                                 | 3/12 [00:00<00:00, 127.03it/s]\u001b[A\n",
      "Validation DataLoader 0:  33%|██████████████████████                                            | 4/12 [00:00<00:00, 131.34it/s]\u001b[A\n",
      "Validation DataLoader 0:  42%|███████████████████████████▌                                      | 5/12 [00:00<00:00, 125.99it/s]\u001b[A\n",
      "Validation DataLoader 0:  50%|█████████████████████████████████                                 | 6/12 [00:00<00:00, 130.36it/s]\u001b[A\n",
      "Validation DataLoader 0:  58%|██████████████████████████████████████▌                           | 7/12 [00:00<00:00, 126.54it/s]\u001b[A\n",
      "Validation DataLoader 0:  67%|████████████████████████████████████████████                      | 8/12 [00:00<00:00, 129.48it/s]\u001b[A\n",
      "Validation DataLoader 0:  75%|█████████████████████████████████████████████████▌                | 9/12 [00:00<00:00, 131.99it/s]\u001b[A\n",
      "Validation DataLoader 0:  83%|██████████████████████████████████████████████████████▏          | 10/12 [00:00<00:00, 133.52it/s]\u001b[A\n",
      "Validation DataLoader 0:  92%|███████████████████████████████████████████████████████████▌     | 11/12 [00:00<00:00, 135.01it/s]\u001b[A\n",
      "Validation DataLoader 0: 100%|█████████████████████████████████████████████████████████████████| 12/12 [00:00<00:00, 135.80it/s]\u001b[A\n",
      "Epoch 134: 100%|█| 48/48 [00:02<00:00, 22.20it/s, v_num=25, train_loss=0.488, train_accuracy=0.800, val_loss=0.710, val_accuracy\u001b[A"
     ]
    },
    {
     "name": "stderr",
     "output_type": "stream",
     "text": [
      "Epoch 134, global step 6480: 'val_loss' was not in top 1\n"
     ]
    },
    {
     "name": "stdout",
     "output_type": "stream",
     "text": [
      "Epoch 135: 100%|█| 48/48 [00:01<00:00, 32.94it/s, v_num=25, train_loss=0.260, train_accuracy=0.925, val_loss=0.710, val_accuracy\n",
      "Validation: |                                                                                             | 0/? [00:00<?, ?it/s]\u001b[A\n",
      "Validation:   0%|                                                                                        | 0/12 [00:00<?, ?it/s]\u001b[A\n",
      "Validation DataLoader 0:   0%|                                                                           | 0/12 [00:00<?, ?it/s]\u001b[A\n",
      "Validation DataLoader 0:   8%|█████▌                                                            | 1/12 [00:00<00:00, 106.42it/s]\u001b[A\n",
      "Validation DataLoader 0:  17%|███████████                                                       | 2/12 [00:00<00:00, 107.00it/s]\u001b[A\n",
      "Validation DataLoader 0:  25%|████████████████▌                                                 | 3/12 [00:00<00:00, 114.01it/s]\u001b[A\n",
      "Validation DataLoader 0:  33%|██████████████████████                                            | 4/12 [00:00<00:00, 105.61it/s]\u001b[A\n",
      "Validation DataLoader 0:  42%|███████████████████████████▌                                      | 5/12 [00:00<00:00, 113.25it/s]\u001b[A\n",
      "Validation DataLoader 0:  50%|█████████████████████████████████                                 | 6/12 [00:00<00:00, 117.35it/s]\u001b[A\n",
      "Validation DataLoader 0:  58%|██████████████████████████████████████▌                           | 7/12 [00:00<00:00, 121.78it/s]\u001b[A\n",
      "Validation DataLoader 0:  67%|████████████████████████████████████████████                      | 8/12 [00:00<00:00, 123.63it/s]\u001b[A\n",
      "Validation DataLoader 0:  75%|█████████████████████████████████████████████████▌                | 9/12 [00:00<00:00, 125.90it/s]\u001b[A\n",
      "Validation DataLoader 0:  83%|██████████████████████████████████████████████████████▏          | 10/12 [00:00<00:00, 128.60it/s]\u001b[A\n",
      "Validation DataLoader 0:  92%|███████████████████████████████████████████████████████████▌     | 11/12 [00:00<00:00, 130.20it/s]\u001b[A\n",
      "Validation DataLoader 0: 100%|█████████████████████████████████████████████████████████████████| 12/12 [00:00<00:00, 132.50it/s]\u001b[A\n",
      "Epoch 135: 100%|█| 48/48 [00:02<00:00, 22.82it/s, v_num=25, train_loss=0.260, train_accuracy=0.925, val_loss=0.693, val_accuracy\u001b[A"
     ]
    },
    {
     "name": "stderr",
     "output_type": "stream",
     "text": [
      "Epoch 135, global step 6528: 'val_loss' was not in top 1\n"
     ]
    },
    {
     "name": "stdout",
     "output_type": "stream",
     "text": [
      "Epoch 136: 100%|█| 48/48 [00:01<00:00, 33.08it/s, v_num=25, train_loss=0.451, train_accuracy=0.825, val_loss=0.693, val_accuracy\n",
      "Validation: |                                                                                             | 0/? [00:00<?, ?it/s]\u001b[A\n",
      "Validation:   0%|                                                                                        | 0/12 [00:00<?, ?it/s]\u001b[A\n",
      "Validation DataLoader 0:   0%|                                                                           | 0/12 [00:00<?, ?it/s]\u001b[A\n",
      "Validation DataLoader 0:   8%|█████▌                                                            | 1/12 [00:00<00:00, 113.19it/s]\u001b[A\n",
      "Validation DataLoader 0:  17%|███████████                                                       | 2/12 [00:00<00:00, 105.80it/s]\u001b[A\n",
      "Validation DataLoader 0:  25%|████████████████▌                                                 | 3/12 [00:00<00:00, 117.42it/s]\u001b[A\n",
      "Validation DataLoader 0:  33%|██████████████████████                                            | 4/12 [00:00<00:00, 126.30it/s]\u001b[A\n",
      "Validation DataLoader 0:  42%|███████████████████████████▌                                      | 5/12 [00:00<00:00, 130.29it/s]\u001b[A\n",
      "Validation DataLoader 0:  50%|█████████████████████████████████                                 | 6/12 [00:00<00:00, 135.01it/s]\u001b[A\n",
      "Validation DataLoader 0:  58%|██████████████████████████████████████▌                           | 7/12 [00:00<00:00, 136.88it/s]\u001b[A\n",
      "Validation DataLoader 0:  67%|████████████████████████████████████████████                      | 8/12 [00:00<00:00, 137.93it/s]\u001b[A\n",
      "Validation DataLoader 0:  75%|█████████████████████████████████████████████████▌                | 9/12 [00:00<00:00, 140.28it/s]\u001b[A\n",
      "Validation DataLoader 0:  83%|██████████████████████████████████████████████████████▏          | 10/12 [00:00<00:00, 140.44it/s]\u001b[A\n",
      "Validation DataLoader 0:  92%|███████████████████████████████████████████████████████████▌     | 11/12 [00:00<00:00, 140.19it/s]\u001b[A\n",
      "Validation DataLoader 0: 100%|█████████████████████████████████████████████████████████████████| 12/12 [00:00<00:00, 140.80it/s]\u001b[A\n",
      "Epoch 136: 100%|█| 48/48 [00:02<00:00, 22.60it/s, v_num=25, train_loss=0.451, train_accuracy=0.825, val_loss=0.651, val_accuracy\u001b[A"
     ]
    },
    {
     "name": "stderr",
     "output_type": "stream",
     "text": [
      "Epoch 136, global step 6576: 'val_loss' was not in top 1\n"
     ]
    },
    {
     "name": "stdout",
     "output_type": "stream",
     "text": [
      "Epoch 137: 100%|█| 48/48 [00:01<00:00, 33.25it/s, v_num=25, train_loss=0.365, train_accuracy=0.875, val_loss=0.651, val_accuracy\n",
      "Validation: |                                                                                             | 0/? [00:00<?, ?it/s]\u001b[A\n",
      "Validation:   0%|                                                                                        | 0/12 [00:00<?, ?it/s]\u001b[A\n",
      "Validation DataLoader 0:   0%|                                                                           | 0/12 [00:00<?, ?it/s]\u001b[A\n",
      "Validation DataLoader 0:   8%|█████▌                                                            | 1/12 [00:00<00:00, 120.54it/s]\u001b[A\n",
      "Validation DataLoader 0:  17%|███████████                                                       | 2/12 [00:00<00:00, 129.59it/s]\u001b[A\n",
      "Validation DataLoader 0:  25%|████████████████▌                                                 | 3/12 [00:00<00:00, 126.97it/s]\u001b[A\n",
      "Validation DataLoader 0:  33%|██████████████████████                                            | 4/12 [00:00<00:00, 130.81it/s]\u001b[A\n",
      "Validation DataLoader 0:  42%|███████████████████████████▌                                      | 5/12 [00:00<00:00, 131.31it/s]\u001b[A\n",
      "Validation DataLoader 0:  50%|█████████████████████████████████                                 | 6/12 [00:00<00:00, 133.54it/s]\u001b[A\n",
      "Validation DataLoader 0:  58%|██████████████████████████████████████▌                           | 7/12 [00:00<00:00, 131.52it/s]\u001b[A\n",
      "Validation DataLoader 0:  67%|████████████████████████████████████████████                      | 8/12 [00:00<00:00, 134.41it/s]\u001b[A\n",
      "Validation DataLoader 0:  75%|█████████████████████████████████████████████████▌                | 9/12 [00:00<00:00, 135.46it/s]\u001b[A\n",
      "Validation DataLoader 0:  83%|██████████████████████████████████████████████████████▏          | 10/12 [00:00<00:00, 134.59it/s]\u001b[A\n",
      "Validation DataLoader 0:  92%|███████████████████████████████████████████████████████████▌     | 11/12 [00:00<00:00, 136.78it/s]\u001b[A\n",
      "Validation DataLoader 0: 100%|█████████████████████████████████████████████████████████████████| 12/12 [00:00<00:00, 137.73it/s]\u001b[A\n",
      "Epoch 137: 100%|█| 48/48 [00:02<00:00, 23.01it/s, v_num=25, train_loss=0.365, train_accuracy=0.875, val_loss=0.626, val_accuracy\u001b[A"
     ]
    },
    {
     "name": "stderr",
     "output_type": "stream",
     "text": [
      "Epoch 137, global step 6624: 'val_loss' was not in top 1\n"
     ]
    },
    {
     "name": "stdout",
     "output_type": "stream",
     "text": [
      "Epoch 138: 100%|█| 48/48 [00:01<00:00, 32.75it/s, v_num=25, train_loss=0.643, train_accuracy=0.725, val_loss=0.626, val_accuracy\n",
      "Validation: |                                                                                             | 0/? [00:00<?, ?it/s]\u001b[A\n",
      "Validation:   0%|                                                                                        | 0/12 [00:00<?, ?it/s]\u001b[A\n",
      "Validation DataLoader 0:   0%|                                                                           | 0/12 [00:00<?, ?it/s]\u001b[A\n",
      "Validation DataLoader 0:   8%|█████▌                                                            | 1/12 [00:00<00:00, 130.29it/s]\u001b[A\n",
      "Validation DataLoader 0:  17%|███████████                                                       | 2/12 [00:00<00:00, 133.43it/s]\u001b[A\n",
      "Validation DataLoader 0:  25%|████████████████▌                                                 | 3/12 [00:00<00:00, 135.28it/s]\u001b[A\n",
      "Validation DataLoader 0:  33%|██████████████████████                                            | 4/12 [00:00<00:00, 122.39it/s]\u001b[A\n",
      "Validation DataLoader 0:  42%|███████████████████████████▌                                      | 5/12 [00:00<00:00, 125.78it/s]\u001b[A\n",
      "Validation DataLoader 0:  50%|█████████████████████████████████                                 | 6/12 [00:00<00:00, 128.03it/s]\u001b[A\n",
      "Validation DataLoader 0:  58%|██████████████████████████████████████▌                           | 7/12 [00:00<00:00, 131.04it/s]\u001b[A\n",
      "Validation DataLoader 0:  67%|████████████████████████████████████████████                      | 8/12 [00:00<00:00, 133.90it/s]\u001b[A\n",
      "Validation DataLoader 0:  75%|█████████████████████████████████████████████████▌                | 9/12 [00:00<00:00, 135.92it/s]\u001b[A\n",
      "Validation DataLoader 0:  83%|██████████████████████████████████████████████████████▏          | 10/12 [00:00<00:00, 137.54it/s]\u001b[A\n",
      "Validation DataLoader 0:  92%|███████████████████████████████████████████████████████████▌     | 11/12 [00:00<00:00, 138.40it/s]\u001b[A\n",
      "Validation DataLoader 0: 100%|█████████████████████████████████████████████████████████████████| 12/12 [00:00<00:00, 138.76it/s]\u001b[A\n",
      "Epoch 138: 100%|█| 48/48 [00:02<00:00, 23.00it/s, v_num=25, train_loss=0.643, train_accuracy=0.725, val_loss=0.633, val_accuracy\u001b[A"
     ]
    },
    {
     "name": "stderr",
     "output_type": "stream",
     "text": [
      "Epoch 138, global step 6672: 'val_loss' was not in top 1\n"
     ]
    },
    {
     "name": "stdout",
     "output_type": "stream",
     "text": [
      "Epoch 139: 100%|█| 48/48 [00:01<00:00, 33.25it/s, v_num=25, train_loss=0.327, train_accuracy=0.850, val_loss=0.633, val_accuracy\n",
      "Validation: |                                                                                             | 0/? [00:00<?, ?it/s]\u001b[A\n",
      "Validation:   0%|                                                                                        | 0/12 [00:00<?, ?it/s]\u001b[A\n",
      "Validation DataLoader 0:   0%|                                                                           | 0/12 [00:00<?, ?it/s]\u001b[A\n",
      "Validation DataLoader 0:   8%|█████▌                                                            | 1/12 [00:00<00:00, 101.52it/s]\u001b[A\n",
      "Validation DataLoader 0:  17%|███████████                                                       | 2/12 [00:00<00:00, 116.38it/s]\u001b[A\n",
      "Validation DataLoader 0:  25%|████████████████▌                                                 | 3/12 [00:00<00:00, 120.49it/s]\u001b[A\n",
      "Validation DataLoader 0:  33%|██████████████████████                                            | 4/12 [00:00<00:00, 125.06it/s]\u001b[A\n",
      "Validation DataLoader 0:  42%|███████████████████████████▌                                      | 5/12 [00:00<00:00, 128.43it/s]\u001b[A\n",
      "Validation DataLoader 0:  50%|█████████████████████████████████                                 | 6/12 [00:00<00:00, 130.46it/s]\u001b[A\n",
      "Validation DataLoader 0:  58%|██████████████████████████████████████▌                           | 7/12 [00:00<00:00, 133.25it/s]\u001b[A\n",
      "Validation DataLoader 0:  67%|████████████████████████████████████████████                      | 8/12 [00:00<00:00, 129.74it/s]\u001b[A\n",
      "Validation DataLoader 0:  75%|█████████████████████████████████████████████████▌                | 9/12 [00:00<00:00, 132.42it/s]\u001b[A\n",
      "Validation DataLoader 0:  83%|██████████████████████████████████████████████████████▏          | 10/12 [00:00<00:00, 132.25it/s]\u001b[A\n",
      "Validation DataLoader 0:  92%|███████████████████████████████████████████████████████████▌     | 11/12 [00:00<00:00, 132.63it/s]\u001b[A\n",
      "Validation DataLoader 0: 100%|█████████████████████████████████████████████████████████████████| 12/12 [00:00<00:00, 133.70it/s]\u001b[A\n",
      "Epoch 139: 100%|█| 48/48 [00:02<00:00, 23.16it/s, v_num=25, train_loss=0.327, train_accuracy=0.850, val_loss=0.667, val_accuracy\u001b[A"
     ]
    },
    {
     "name": "stderr",
     "output_type": "stream",
     "text": [
      "Epoch 139, global step 6720: 'val_loss' was not in top 1\n"
     ]
    },
    {
     "name": "stdout",
     "output_type": "stream",
     "text": [
      "Epoch 140: 100%|█| 48/48 [00:01<00:00, 33.69it/s, v_num=25, train_loss=0.327, train_accuracy=0.875, val_loss=0.667, val_accuracy\n",
      "Validation: |                                                                                             | 0/? [00:00<?, ?it/s]\u001b[A\n",
      "Validation:   0%|                                                                                        | 0/12 [00:00<?, ?it/s]\u001b[A\n",
      "Validation DataLoader 0:   0%|                                                                           | 0/12 [00:00<?, ?it/s]\u001b[A\n",
      "Validation DataLoader 0:   8%|█████▌                                                            | 1/12 [00:00<00:00, 138.34it/s]\u001b[A\n",
      "Validation DataLoader 0:  17%|███████████                                                       | 2/12 [00:00<00:00, 120.78it/s]\u001b[A\n",
      "Validation DataLoader 0:  25%|████████████████▌                                                 | 3/12 [00:00<00:00, 131.98it/s]\u001b[A\n",
      "Validation DataLoader 0:  33%|██████████████████████                                            | 4/12 [00:00<00:00, 135.49it/s]\u001b[A\n",
      "Validation DataLoader 0:  42%|███████████████████████████▌                                      | 5/12 [00:00<00:00, 139.93it/s]\u001b[A\n",
      "Validation DataLoader 0:  50%|█████████████████████████████████                                 | 6/12 [00:00<00:00, 131.24it/s]\u001b[A\n",
      "Validation DataLoader 0:  58%|██████████████████████████████████████▌                           | 7/12 [00:00<00:00, 134.60it/s]\u001b[A\n",
      "Validation DataLoader 0:  67%|████████████████████████████████████████████                      | 8/12 [00:00<00:00, 137.19it/s]\u001b[A\n",
      "Validation DataLoader 0:  75%|█████████████████████████████████████████████████▌                | 9/12 [00:00<00:00, 137.68it/s]\u001b[A\n",
      "Validation DataLoader 0:  83%|██████████████████████████████████████████████████████▏          | 10/12 [00:00<00:00, 138.26it/s]\u001b[A\n",
      "Validation DataLoader 0:  92%|███████████████████████████████████████████████████████████▌     | 11/12 [00:00<00:00, 138.72it/s]\u001b[A\n",
      "Validation DataLoader 0: 100%|█████████████████████████████████████████████████████████████████| 12/12 [00:00<00:00, 140.57it/s]\u001b[A\n",
      "Epoch 140: 100%|█| 48/48 [00:02<00:00, 22.95it/s, v_num=25, train_loss=0.327, train_accuracy=0.875, val_loss=0.694, val_accuracy\u001b[A"
     ]
    },
    {
     "name": "stderr",
     "output_type": "stream",
     "text": [
      "Epoch 140, global step 6768: 'val_loss' was not in top 1\n"
     ]
    },
    {
     "name": "stdout",
     "output_type": "stream",
     "text": [
      "Epoch 141: 100%|█| 48/48 [00:01<00:00, 32.85it/s, v_num=25, train_loss=0.478, train_accuracy=0.825, val_loss=0.694, val_accuracy\n",
      "Validation: |                                                                                             | 0/? [00:00<?, ?it/s]\u001b[A\n",
      "Validation:   0%|                                                                                        | 0/12 [00:00<?, ?it/s]\u001b[A\n",
      "Validation DataLoader 0:   0%|                                                                           | 0/12 [00:00<?, ?it/s]\u001b[A\n",
      "Validation DataLoader 0:   8%|█████▌                                                            | 1/12 [00:00<00:00, 110.15it/s]\u001b[A\n",
      "Validation DataLoader 0:  17%|███████████                                                       | 2/12 [00:00<00:00, 124.84it/s]\u001b[A\n",
      "Validation DataLoader 0:  25%|████████████████▌                                                 | 3/12 [00:00<00:00, 126.32it/s]\u001b[A\n",
      "Validation DataLoader 0:  33%|██████████████████████                                            | 4/12 [00:00<00:00, 129.37it/s]\u001b[A\n",
      "Validation DataLoader 0:  42%|███████████████████████████▌                                      | 5/12 [00:00<00:00, 130.43it/s]\u001b[A\n",
      "Validation DataLoader 0:  50%|█████████████████████████████████                                 | 6/12 [00:00<00:00, 131.36it/s]\u001b[A\n",
      "Validation DataLoader 0:  58%|██████████████████████████████████████▌                           | 7/12 [00:00<00:00, 130.40it/s]\u001b[A\n",
      "Validation DataLoader 0:  67%|████████████████████████████████████████████                      | 8/12 [00:00<00:00, 131.02it/s]\u001b[A\n",
      "Validation DataLoader 0:  75%|█████████████████████████████████████████████████▌                | 9/12 [00:00<00:00, 127.39it/s]\u001b[A\n",
      "Validation DataLoader 0:  83%|██████████████████████████████████████████████████████▏          | 10/12 [00:00<00:00, 129.06it/s]\u001b[A\n",
      "Validation DataLoader 0:  92%|███████████████████████████████████████████████████████████▌     | 11/12 [00:00<00:00, 131.55it/s]\u001b[A\n",
      "Validation DataLoader 0: 100%|█████████████████████████████████████████████████████████████████| 12/12 [00:00<00:00, 133.49it/s]\u001b[A\n",
      "Epoch 141: 100%|█| 48/48 [00:02<00:00, 22.75it/s, v_num=25, train_loss=0.478, train_accuracy=0.825, val_loss=0.599, val_accuracy\u001b[A"
     ]
    },
    {
     "name": "stderr",
     "output_type": "stream",
     "text": [
      "Epoch 141, global step 6816: 'val_loss' reached 0.59939 (best 0.59939), saving model to '/home/till/Desktop/ds4w-user-identification/checkpoints/best-checkpoint-v24.ckpt' as top 1\n"
     ]
    },
    {
     "name": "stdout",
     "output_type": "stream",
     "text": [
      "Epoch 142: 100%|█| 48/48 [00:01<00:00, 33.57it/s, v_num=25, train_loss=0.152, train_accuracy=1.000, val_loss=0.599, val_accuracy\n",
      "Validation: |                                                                                             | 0/? [00:00<?, ?it/s]\u001b[A\n",
      "Validation:   0%|                                                                                        | 0/12 [00:00<?, ?it/s]\u001b[A\n",
      "Validation DataLoader 0:   0%|                                                                           | 0/12 [00:00<?, ?it/s]\u001b[A\n",
      "Validation DataLoader 0:   8%|█████▌                                                            | 1/12 [00:00<00:00, 105.50it/s]\u001b[A\n",
      "Validation DataLoader 0:  17%|███████████                                                       | 2/12 [00:00<00:00, 124.31it/s]\u001b[A\n",
      "Validation DataLoader 0:  25%|████████████████▌                                                 | 3/12 [00:00<00:00, 122.49it/s]\u001b[A\n",
      "Validation DataLoader 0:  33%|██████████████████████                                            | 4/12 [00:00<00:00, 127.81it/s]\u001b[A\n",
      "Validation DataLoader 0:  42%|███████████████████████████▌                                      | 5/12 [00:00<00:00, 131.44it/s]\u001b[A\n",
      "Validation DataLoader 0:  50%|█████████████████████████████████                                 | 6/12 [00:00<00:00, 133.78it/s]\u001b[A\n",
      "Validation DataLoader 0:  58%|██████████████████████████████████████▌                           | 7/12 [00:00<00:00, 136.45it/s]\u001b[A\n",
      "Validation DataLoader 0:  67%|████████████████████████████████████████████                      | 8/12 [00:00<00:00, 139.43it/s]\u001b[A\n",
      "Validation DataLoader 0:  75%|█████████████████████████████████████████████████▌                | 9/12 [00:00<00:00, 141.03it/s]\u001b[A\n",
      "Validation DataLoader 0:  83%|██████████████████████████████████████████████████████▏          | 10/12 [00:00<00:00, 142.66it/s]\u001b[A\n",
      "Validation DataLoader 0:  92%|███████████████████████████████████████████████████████████▌     | 11/12 [00:00<00:00, 142.92it/s]\u001b[A\n",
      "Validation DataLoader 0: 100%|█████████████████████████████████████████████████████████████████| 12/12 [00:00<00:00, 144.30it/s]\u001b[A\n",
      "Epoch 142: 100%|█| 48/48 [00:02<00:00, 23.30it/s, v_num=25, train_loss=0.152, train_accuracy=1.000, val_loss=0.785, val_accuracy\u001b[A"
     ]
    },
    {
     "name": "stderr",
     "output_type": "stream",
     "text": [
      "Epoch 142, global step 6864: 'val_loss' was not in top 1\n"
     ]
    },
    {
     "name": "stdout",
     "output_type": "stream",
     "text": [
      "Epoch 143: 100%|█| 48/48 [00:01<00:00, 33.08it/s, v_num=25, train_loss=0.431, train_accuracy=0.825, val_loss=0.785, val_accuracy\n",
      "Validation: |                                                                                             | 0/? [00:00<?, ?it/s]\u001b[A\n",
      "Validation:   0%|                                                                                        | 0/12 [00:00<?, ?it/s]\u001b[A\n",
      "Validation DataLoader 0:   0%|                                                                           | 0/12 [00:00<?, ?it/s]\u001b[A\n",
      "Validation DataLoader 0:   8%|█████▌                                                            | 1/12 [00:00<00:00, 106.68it/s]\u001b[A\n",
      "Validation DataLoader 0:  17%|███████████                                                       | 2/12 [00:00<00:00, 113.98it/s]\u001b[A\n",
      "Validation DataLoader 0:  25%|████████████████▌                                                 | 3/12 [00:00<00:00, 120.03it/s]\u001b[A\n",
      "Validation DataLoader 0:  33%|██████████████████████                                            | 4/12 [00:00<00:00, 125.70it/s]\u001b[A\n",
      "Validation DataLoader 0:  42%|███████████████████████████▌                                      | 5/12 [00:00<00:00, 128.77it/s]\u001b[A\n",
      "Validation DataLoader 0:  50%|█████████████████████████████████                                 | 6/12 [00:00<00:00, 127.72it/s]\u001b[A\n",
      "Validation DataLoader 0:  58%|██████████████████████████████████████▌                           | 7/12 [00:00<00:00, 130.23it/s]\u001b[A\n",
      "Validation DataLoader 0:  67%|████████████████████████████████████████████                      | 8/12 [00:00<00:00, 132.45it/s]\u001b[A\n",
      "Validation DataLoader 0:  75%|█████████████████████████████████████████████████▌                | 9/12 [00:00<00:00, 131.99it/s]\u001b[A\n",
      "Validation DataLoader 0:  83%|██████████████████████████████████████████████████████▏          | 10/12 [00:00<00:00, 134.16it/s]\u001b[A\n",
      "Validation DataLoader 0:  92%|███████████████████████████████████████████████████████████▌     | 11/12 [00:00<00:00, 134.56it/s]\u001b[A\n",
      "Validation DataLoader 0: 100%|█████████████████████████████████████████████████████████████████| 12/12 [00:00<00:00, 135.46it/s]\u001b[A\n",
      "Epoch 143: 100%|█| 48/48 [00:02<00:00, 22.97it/s, v_num=25, train_loss=0.431, train_accuracy=0.825, val_loss=0.680, val_accuracy\u001b[A"
     ]
    },
    {
     "name": "stderr",
     "output_type": "stream",
     "text": [
      "Epoch 143, global step 6912: 'val_loss' was not in top 1\n"
     ]
    },
    {
     "name": "stdout",
     "output_type": "stream",
     "text": [
      "Epoch 144: 100%|█| 48/48 [00:01<00:00, 32.54it/s, v_num=25, train_loss=0.202, train_accuracy=0.950, val_loss=0.680, val_accuracy\n",
      "Validation: |                                                                                             | 0/? [00:00<?, ?it/s]\u001b[A\n",
      "Validation:   0%|                                                                                        | 0/12 [00:00<?, ?it/s]\u001b[A\n",
      "Validation DataLoader 0:   0%|                                                                           | 0/12 [00:00<?, ?it/s]\u001b[A\n",
      "Validation DataLoader 0:   8%|█████▌                                                            | 1/12 [00:00<00:00, 130.36it/s]\u001b[A\n",
      "Validation DataLoader 0:  17%|███████████                                                       | 2/12 [00:00<00:00, 135.04it/s]\u001b[A\n",
      "Validation DataLoader 0:  25%|████████████████▌                                                 | 3/12 [00:00<00:00, 136.19it/s]\u001b[A\n",
      "Validation DataLoader 0:  33%|██████████████████████                                            | 4/12 [00:00<00:00, 136.74it/s]\u001b[A\n",
      "Validation DataLoader 0:  42%|███████████████████████████▌                                      | 5/12 [00:00<00:00, 137.88it/s]\u001b[A\n",
      "Validation DataLoader 0:  50%|█████████████████████████████████                                 | 6/12 [00:00<00:00, 137.03it/s]\u001b[A\n",
      "Validation DataLoader 0:  58%|██████████████████████████████████████▌                           | 7/12 [00:00<00:00, 138.39it/s]\u001b[A\n",
      "Validation DataLoader 0:  67%|████████████████████████████████████████████                      | 8/12 [00:00<00:00, 137.17it/s]\u001b[A\n",
      "Validation DataLoader 0:  75%|█████████████████████████████████████████████████▌                | 9/12 [00:00<00:00, 138.56it/s]\u001b[A\n",
      "Validation DataLoader 0:  83%|██████████████████████████████████████████████████████▏          | 10/12 [00:00<00:00, 140.26it/s]\u001b[A\n",
      "Validation DataLoader 0:  92%|███████████████████████████████████████████████████████████▌     | 11/12 [00:00<00:00, 140.18it/s]\u001b[A\n",
      "Validation DataLoader 0: 100%|█████████████████████████████████████████████████████████████████| 12/12 [00:00<00:00, 142.05it/s]\u001b[A\n",
      "Epoch 144: 100%|█| 48/48 [00:02<00:00, 22.49it/s, v_num=25, train_loss=0.202, train_accuracy=0.950, val_loss=0.642, val_accuracy\u001b[A"
     ]
    },
    {
     "name": "stderr",
     "output_type": "stream",
     "text": [
      "Epoch 144, global step 6960: 'val_loss' was not in top 1\n"
     ]
    },
    {
     "name": "stdout",
     "output_type": "stream",
     "text": [
      "Epoch 145: 100%|█| 48/48 [00:01<00:00, 32.75it/s, v_num=25, train_loss=0.450, train_accuracy=0.850, val_loss=0.642, val_accuracy\n",
      "Validation: |                                                                                             | 0/? [00:00<?, ?it/s]\u001b[A\n",
      "Validation:   0%|                                                                                        | 0/12 [00:00<?, ?it/s]\u001b[A\n",
      "Validation DataLoader 0:   0%|                                                                           | 0/12 [00:00<?, ?it/s]\u001b[A\n",
      "Validation DataLoader 0:   8%|█████▌                                                            | 1/12 [00:00<00:00, 128.05it/s]\u001b[A\n",
      "Validation DataLoader 0:  17%|███████████                                                       | 2/12 [00:00<00:00, 122.12it/s]\u001b[A\n",
      "Validation DataLoader 0:  25%|████████████████▌                                                 | 3/12 [00:00<00:00, 129.44it/s]\u001b[A\n",
      "Validation DataLoader 0:  33%|██████████████████████                                            | 4/12 [00:00<00:00, 134.56it/s]\u001b[A\n",
      "Validation DataLoader 0:  42%|███████████████████████████▌                                      | 5/12 [00:00<00:00, 139.61it/s]\u001b[A\n",
      "Validation DataLoader 0:  50%|█████████████████████████████████                                 | 6/12 [00:00<00:00, 140.83it/s]\u001b[A\n",
      "Validation DataLoader 0:  58%|██████████████████████████████████████▌                           | 7/12 [00:00<00:00, 142.07it/s]\u001b[A\n",
      "Validation DataLoader 0:  67%|████████████████████████████████████████████                      | 8/12 [00:00<00:00, 142.19it/s]\u001b[A\n",
      "Validation DataLoader 0:  75%|█████████████████████████████████████████████████▌                | 9/12 [00:00<00:00, 143.01it/s]\u001b[A\n",
      "Validation DataLoader 0:  83%|██████████████████████████████████████████████████████▏          | 10/12 [00:00<00:00, 143.60it/s]\u001b[A\n",
      "Validation DataLoader 0:  92%|███████████████████████████████████████████████████████████▌     | 11/12 [00:00<00:00, 143.16it/s]\u001b[A\n",
      "Validation DataLoader 0: 100%|█████████████████████████████████████████████████████████████████| 12/12 [00:00<00:00, 142.60it/s]\u001b[A\n",
      "Epoch 145: 100%|█| 48/48 [00:02<00:00, 22.76it/s, v_num=25, train_loss=0.450, train_accuracy=0.850, val_loss=0.601, val_accuracy\u001b[A"
     ]
    },
    {
     "name": "stderr",
     "output_type": "stream",
     "text": [
      "Epoch 145, global step 7008: 'val_loss' was not in top 1\n"
     ]
    },
    {
     "name": "stdout",
     "output_type": "stream",
     "text": [
      "Epoch 146: 100%|█| 48/48 [00:01<00:00, 32.94it/s, v_num=25, train_loss=0.322, train_accuracy=0.900, val_loss=0.601, val_accuracy\n",
      "Validation: |                                                                                             | 0/? [00:00<?, ?it/s]\u001b[A\n",
      "Validation:   0%|                                                                                        | 0/12 [00:00<?, ?it/s]\u001b[A\n",
      "Validation DataLoader 0:   0%|                                                                           | 0/12 [00:00<?, ?it/s]\u001b[A\n",
      "Validation DataLoader 0:   8%|█████▌                                                            | 1/12 [00:00<00:00, 116.00it/s]\u001b[A\n",
      "Validation DataLoader 0:  17%|███████████                                                       | 2/12 [00:00<00:00, 133.26it/s]\u001b[A\n",
      "Validation DataLoader 0:  25%|████████████████▌                                                 | 3/12 [00:00<00:00, 137.56it/s]\u001b[A\n",
      "Validation DataLoader 0:  33%|██████████████████████                                            | 4/12 [00:00<00:00, 140.60it/s]\u001b[A\n",
      "Validation DataLoader 0:  42%|███████████████████████████▌                                      | 5/12 [00:00<00:00, 144.59it/s]\u001b[A\n",
      "Validation DataLoader 0:  50%|█████████████████████████████████                                 | 6/12 [00:00<00:00, 145.07it/s]\u001b[A\n",
      "Validation DataLoader 0:  58%|██████████████████████████████████████▌                           | 7/12 [00:00<00:00, 146.89it/s]\u001b[A\n",
      "Validation DataLoader 0:  67%|████████████████████████████████████████████                      | 8/12 [00:00<00:00, 145.52it/s]\u001b[A\n",
      "Validation DataLoader 0:  75%|█████████████████████████████████████████████████▌                | 9/12 [00:00<00:00, 145.32it/s]\u001b[A\n",
      "Validation DataLoader 0:  83%|██████████████████████████████████████████████████████▏          | 10/12 [00:00<00:00, 147.00it/s]\u001b[A\n",
      "Validation DataLoader 0:  92%|███████████████████████████████████████████████████████████▌     | 11/12 [00:00<00:00, 147.10it/s]\u001b[A\n",
      "Validation DataLoader 0: 100%|█████████████████████████████████████████████████████████████████| 12/12 [00:00<00:00, 148.07it/s]\u001b[A\n",
      "Epoch 146: 100%|█| 48/48 [00:02<00:00, 23.04it/s, v_num=25, train_loss=0.322, train_accuracy=0.900, val_loss=0.593, val_accuracy\u001b[A"
     ]
    },
    {
     "name": "stderr",
     "output_type": "stream",
     "text": [
      "Epoch 146, global step 7056: 'val_loss' reached 0.59267 (best 0.59267), saving model to '/home/till/Desktop/ds4w-user-identification/checkpoints/best-checkpoint-v24.ckpt' as top 1\n"
     ]
    },
    {
     "name": "stdout",
     "output_type": "stream",
     "text": [
      "Epoch 147: 100%|█| 48/48 [00:01<00:00, 33.04it/s, v_num=25, train_loss=0.258, train_accuracy=0.900, val_loss=0.593, val_accuracy\n",
      "Validation: |                                                                                             | 0/? [00:00<?, ?it/s]\u001b[A\n",
      "Validation:   0%|                                                                                        | 0/12 [00:00<?, ?it/s]\u001b[A\n",
      "Validation DataLoader 0:   0%|                                                                           | 0/12 [00:00<?, ?it/s]\u001b[A\n",
      "Validation DataLoader 0:   8%|█████▌                                                            | 1/12 [00:00<00:00, 135.13it/s]\u001b[A\n",
      "Validation DataLoader 0:  17%|███████████                                                       | 2/12 [00:00<00:00, 139.99it/s]\u001b[A\n",
      "Validation DataLoader 0:  25%|████████████████▌                                                 | 3/12 [00:00<00:00, 133.00it/s]\u001b[A\n",
      "Validation DataLoader 0:  33%|██████████████████████                                            | 4/12 [00:00<00:00, 132.27it/s]\u001b[A\n",
      "Validation DataLoader 0:  42%|███████████████████████████▌                                      | 5/12 [00:00<00:00, 137.08it/s]\u001b[A\n",
      "Validation DataLoader 0:  50%|█████████████████████████████████                                 | 6/12 [00:00<00:00, 138.25it/s]\u001b[A\n",
      "Validation DataLoader 0:  58%|██████████████████████████████████████▌                           | 7/12 [00:00<00:00, 137.15it/s]\u001b[A\n",
      "Validation DataLoader 0:  67%|████████████████████████████████████████████                      | 8/12 [00:00<00:00, 138.83it/s]\u001b[A\n",
      "Validation DataLoader 0:  75%|█████████████████████████████████████████████████▌                | 9/12 [00:00<00:00, 135.94it/s]\u001b[A\n",
      "Validation DataLoader 0:  83%|██████████████████████████████████████████████████████▏          | 10/12 [00:00<00:00, 137.97it/s]\u001b[A\n",
      "Validation DataLoader 0:  92%|███████████████████████████████████████████████████████████▌     | 11/12 [00:00<00:00, 138.81it/s]\u001b[A\n",
      "Validation DataLoader 0: 100%|█████████████████████████████████████████████████████████████████| 12/12 [00:00<00:00, 139.67it/s]\u001b[A\n",
      "Epoch 147: 100%|█| 48/48 [00:02<00:00, 23.35it/s, v_num=25, train_loss=0.258, train_accuracy=0.900, val_loss=0.695, val_accuracy\u001b[A"
     ]
    },
    {
     "name": "stderr",
     "output_type": "stream",
     "text": [
      "Epoch 147, global step 7104: 'val_loss' was not in top 1\n"
     ]
    },
    {
     "name": "stdout",
     "output_type": "stream",
     "text": [
      "Epoch 148: 100%|█| 48/48 [00:01<00:00, 32.24it/s, v_num=25, train_loss=0.304, train_accuracy=0.925, val_loss=0.695, val_accuracy\n",
      "Validation: |                                                                                             | 0/? [00:00<?, ?it/s]\u001b[A\n",
      "Validation:   0%|                                                                                        | 0/12 [00:00<?, ?it/s]\u001b[A\n",
      "Validation DataLoader 0:   0%|                                                                           | 0/12 [00:00<?, ?it/s]\u001b[A\n",
      "Validation DataLoader 0:   8%|█████▌                                                            | 1/12 [00:00<00:00, 109.28it/s]\u001b[A\n",
      "Validation DataLoader 0:  17%|███████████                                                       | 2/12 [00:00<00:00, 119.32it/s]\u001b[A\n",
      "Validation DataLoader 0:  25%|████████████████▌                                                 | 3/12 [00:00<00:00, 121.38it/s]\u001b[A\n",
      "Validation DataLoader 0:  33%|██████████████████████                                            | 4/12 [00:00<00:00, 124.11it/s]\u001b[A\n",
      "Validation DataLoader 0:  42%|███████████████████████████▌                                      | 5/12 [00:00<00:00, 126.03it/s]\u001b[A\n",
      "Validation DataLoader 0:  50%|█████████████████████████████████                                 | 6/12 [00:00<00:00, 121.52it/s]\u001b[A\n",
      "Validation DataLoader 0:  58%|██████████████████████████████████████▌                           | 7/12 [00:00<00:00, 121.74it/s]\u001b[A\n",
      "Validation DataLoader 0:  67%|████████████████████████████████████████████                      | 8/12 [00:00<00:00, 124.39it/s]\u001b[A\n",
      "Validation DataLoader 0:  75%|█████████████████████████████████████████████████▌                | 9/12 [00:00<00:00, 126.42it/s]\u001b[A\n",
      "Validation DataLoader 0:  83%|██████████████████████████████████████████████████████▏          | 10/12 [00:00<00:00, 128.16it/s]\u001b[A\n",
      "Validation DataLoader 0:  92%|███████████████████████████████████████████████████████████▌     | 11/12 [00:00<00:00, 129.43it/s]\u001b[A\n",
      "Validation DataLoader 0: 100%|█████████████████████████████████████████████████████████████████| 12/12 [00:00<00:00, 130.34it/s]\u001b[A\n",
      "Epoch 148: 100%|█| 48/48 [00:02<00:00, 22.67it/s, v_num=25, train_loss=0.304, train_accuracy=0.925, val_loss=0.578, val_accuracy\u001b[A"
     ]
    },
    {
     "name": "stderr",
     "output_type": "stream",
     "text": [
      "Epoch 148, global step 7152: 'val_loss' reached 0.57809 (best 0.57809), saving model to '/home/till/Desktop/ds4w-user-identification/checkpoints/best-checkpoint-v24.ckpt' as top 1\n"
     ]
    },
    {
     "name": "stdout",
     "output_type": "stream",
     "text": [
      "Epoch 149: 100%|█| 48/48 [00:01<00:00, 33.09it/s, v_num=25, train_loss=0.477, train_accuracy=0.775, val_loss=0.578, val_accuracy\n",
      "Validation: |                                                                                             | 0/? [00:00<?, ?it/s]\u001b[A\n",
      "Validation:   0%|                                                                                        | 0/12 [00:00<?, ?it/s]\u001b[A\n",
      "Validation DataLoader 0:   0%|                                                                           | 0/12 [00:00<?, ?it/s]\u001b[A\n",
      "Validation DataLoader 0:   8%|█████▌                                                            | 1/12 [00:00<00:00, 123.03it/s]\u001b[A\n",
      "Validation DataLoader 0:  17%|███████████                                                       | 2/12 [00:00<00:00, 131.95it/s]\u001b[A\n",
      "Validation DataLoader 0:  25%|████████████████▌                                                 | 3/12 [00:00<00:00, 138.92it/s]\u001b[A\n",
      "Validation DataLoader 0:  33%|██████████████████████                                            | 4/12 [00:00<00:00, 138.49it/s]\u001b[A\n",
      "Validation DataLoader 0:  42%|███████████████████████████▌                                      | 5/12 [00:00<00:00, 137.71it/s]\u001b[A\n",
      "Validation DataLoader 0:  50%|█████████████████████████████████                                 | 6/12 [00:00<00:00, 138.50it/s]\u001b[A\n",
      "Validation DataLoader 0:  58%|██████████████████████████████████████▌                           | 7/12 [00:00<00:00, 133.37it/s]\u001b[A\n",
      "Validation DataLoader 0:  67%|████████████████████████████████████████████                      | 8/12 [00:00<00:00, 135.30it/s]\u001b[A\n",
      "Validation DataLoader 0:  75%|█████████████████████████████████████████████████▌                | 9/12 [00:00<00:00, 137.74it/s]\u001b[A\n",
      "Validation DataLoader 0:  83%|██████████████████████████████████████████████████████▏          | 10/12 [00:00<00:00, 136.97it/s]\u001b[A\n",
      "Validation DataLoader 0:  92%|███████████████████████████████████████████████████████████▌     | 11/12 [00:00<00:00, 137.98it/s]\u001b[A\n",
      "Validation DataLoader 0: 100%|█████████████████████████████████████████████████████████████████| 12/12 [00:00<00:00, 139.19it/s]\u001b[A\n",
      "Epoch 149: 100%|█| 48/48 [00:02<00:00, 22.87it/s, v_num=25, train_loss=0.477, train_accuracy=0.775, val_loss=0.596, val_accuracy\u001b[A"
     ]
    },
    {
     "name": "stderr",
     "output_type": "stream",
     "text": [
      "Epoch 149, global step 7200: 'val_loss' was not in top 1\n"
     ]
    },
    {
     "name": "stdout",
     "output_type": "stream",
     "text": [
      "Epoch 150: 100%|█| 48/48 [00:01<00:00, 32.15it/s, v_num=25, train_loss=0.355, train_accuracy=0.825, val_loss=0.596, val_accuracy\n",
      "Validation: |                                                                                             | 0/? [00:00<?, ?it/s]\u001b[A\n",
      "Validation:   0%|                                                                                        | 0/12 [00:00<?, ?it/s]\u001b[A\n",
      "Validation DataLoader 0:   0%|                                                                           | 0/12 [00:00<?, ?it/s]\u001b[A\n",
      "Validation DataLoader 0:   8%|█████▌                                                            | 1/12 [00:00<00:00, 132.35it/s]\u001b[A\n",
      "Validation DataLoader 0:  17%|███████████                                                       | 2/12 [00:00<00:00, 138.50it/s]\u001b[A\n",
      "Validation DataLoader 0:  25%|████████████████▌                                                 | 3/12 [00:00<00:00, 136.67it/s]\u001b[A\n",
      "Validation DataLoader 0:  33%|██████████████████████                                            | 4/12 [00:00<00:00, 142.28it/s]\u001b[A\n",
      "Validation DataLoader 0:  42%|███████████████████████████▌                                      | 5/12 [00:00<00:00, 142.00it/s]\u001b[A\n",
      "Validation DataLoader 0:  50%|█████████████████████████████████                                 | 6/12 [00:00<00:00, 144.10it/s]\u001b[A\n",
      "Validation DataLoader 0:  58%|██████████████████████████████████████▌                           | 7/12 [00:00<00:00, 143.60it/s]\u001b[A\n",
      "Validation DataLoader 0:  67%|████████████████████████████████████████████                      | 8/12 [00:00<00:00, 145.49it/s]\u001b[A\n",
      "Validation DataLoader 0:  75%|█████████████████████████████████████████████████▌                | 9/12 [00:00<00:00, 142.35it/s]\u001b[A\n",
      "Validation DataLoader 0:  83%|██████████████████████████████████████████████████████▏          | 10/12 [00:00<00:00, 142.89it/s]\u001b[A\n",
      "Validation DataLoader 0:  92%|███████████████████████████████████████████████████████████▌     | 11/12 [00:00<00:00, 142.67it/s]\u001b[A\n",
      "Validation DataLoader 0: 100%|█████████████████████████████████████████████████████████████████| 12/12 [00:00<00:00, 141.31it/s]\u001b[A\n",
      "Epoch 150: 100%|█| 48/48 [00:02<00:00, 22.42it/s, v_num=25, train_loss=0.355, train_accuracy=0.825, val_loss=0.631, val_accuracy\u001b[A"
     ]
    },
    {
     "name": "stderr",
     "output_type": "stream",
     "text": [
      "Epoch 150, global step 7248: 'val_loss' was not in top 1\n"
     ]
    },
    {
     "name": "stdout",
     "output_type": "stream",
     "text": [
      "Epoch 151: 100%|█| 48/48 [00:01<00:00, 33.72it/s, v_num=25, train_loss=0.584, train_accuracy=0.750, val_loss=0.631, val_accuracy\n",
      "Validation: |                                                                                             | 0/? [00:00<?, ?it/s]\u001b[A\n",
      "Validation:   0%|                                                                                        | 0/12 [00:00<?, ?it/s]\u001b[A\n",
      "Validation DataLoader 0:   0%|                                                                           | 0/12 [00:00<?, ?it/s]\u001b[A\n",
      "Validation DataLoader 0:   8%|█████▌                                                            | 1/12 [00:00<00:00, 125.74it/s]\u001b[A\n",
      "Validation DataLoader 0:  17%|███████████                                                       | 2/12 [00:00<00:00, 132.44it/s]\u001b[A\n",
      "Validation DataLoader 0:  25%|████████████████▌                                                 | 3/12 [00:00<00:00, 136.05it/s]\u001b[A\n",
      "Validation DataLoader 0:  33%|██████████████████████                                            | 4/12 [00:00<00:00, 136.93it/s]\u001b[A\n",
      "Validation DataLoader 0:  42%|███████████████████████████▌                                      | 5/12 [00:00<00:00, 138.25it/s]\u001b[A\n",
      "Validation DataLoader 0:  50%|█████████████████████████████████                                 | 6/12 [00:00<00:00, 131.95it/s]\u001b[A\n",
      "Validation DataLoader 0:  58%|██████████████████████████████████████▌                           | 7/12 [00:00<00:00, 134.71it/s]\u001b[A\n",
      "Validation DataLoader 0:  67%|████████████████████████████████████████████                      | 8/12 [00:00<00:00, 136.46it/s]\u001b[A\n",
      "Validation DataLoader 0:  75%|█████████████████████████████████████████████████▌                | 9/12 [00:00<00:00, 138.89it/s]\u001b[A\n",
      "Validation DataLoader 0:  83%|██████████████████████████████████████████████████████▏          | 10/12 [00:00<00:00, 139.89it/s]\u001b[A\n",
      "Validation DataLoader 0:  92%|███████████████████████████████████████████████████████████▌     | 11/12 [00:00<00:00, 140.61it/s]\u001b[A\n",
      "Validation DataLoader 0: 100%|█████████████████████████████████████████████████████████████████| 12/12 [00:00<00:00, 140.76it/s]\u001b[A\n",
      "Epoch 151: 100%|█| 48/48 [00:02<00:00, 23.78it/s, v_num=25, train_loss=0.584, train_accuracy=0.750, val_loss=0.602, val_accuracy\u001b[A"
     ]
    },
    {
     "name": "stderr",
     "output_type": "stream",
     "text": [
      "Epoch 151, global step 7296: 'val_loss' was not in top 1\n"
     ]
    },
    {
     "name": "stdout",
     "output_type": "stream",
     "text": [
      "Epoch 152: 100%|█| 48/48 [00:01<00:00, 31.72it/s, v_num=25, train_loss=0.379, train_accuracy=0.825, val_loss=0.602, val_accuracy\n",
      "Validation: |                                                                                             | 0/? [00:00<?, ?it/s]\u001b[A\n",
      "Validation:   0%|                                                                                        | 0/12 [00:00<?, ?it/s]\u001b[A\n",
      "Validation DataLoader 0:   0%|                                                                           | 0/12 [00:00<?, ?it/s]\u001b[A\n",
      "Validation DataLoader 0:   8%|█████▌                                                            | 1/12 [00:00<00:00, 124.52it/s]\u001b[A\n",
      "Validation DataLoader 0:  17%|███████████                                                       | 2/12 [00:00<00:00, 124.09it/s]\u001b[A\n",
      "Validation DataLoader 0:  25%|████████████████▌                                                 | 3/12 [00:00<00:00, 131.88it/s]\u001b[A\n",
      "Validation DataLoader 0:  33%|██████████████████████                                            | 4/12 [00:00<00:00, 137.23it/s]\u001b[A\n",
      "Validation DataLoader 0:  42%|███████████████████████████▌                                      | 5/12 [00:00<00:00, 136.86it/s]\u001b[A\n",
      "Validation DataLoader 0:  50%|█████████████████████████████████                                 | 6/12 [00:00<00:00, 136.38it/s]\u001b[A\n",
      "Validation DataLoader 0:  58%|██████████████████████████████████████▌                           | 7/12 [00:00<00:00, 131.02it/s]\u001b[A\n",
      "Validation DataLoader 0:  67%|████████████████████████████████████████████                      | 8/12 [00:00<00:00, 132.48it/s]\u001b[A\n",
      "Validation DataLoader 0:  75%|█████████████████████████████████████████████████▌                | 9/12 [00:00<00:00, 135.30it/s]\u001b[A\n",
      "Validation DataLoader 0:  83%|██████████████████████████████████████████████████████▏          | 10/12 [00:00<00:00, 137.06it/s]\u001b[A\n",
      "Validation DataLoader 0:  92%|███████████████████████████████████████████████████████████▌     | 11/12 [00:00<00:00, 139.12it/s]\u001b[A\n",
      "Validation DataLoader 0: 100%|█████████████████████████████████████████████████████████████████| 12/12 [00:00<00:00, 140.43it/s]\u001b[A\n",
      "Epoch 152: 100%|█| 48/48 [00:02<00:00, 22.31it/s, v_num=25, train_loss=0.379, train_accuracy=0.825, val_loss=0.598, val_accuracy\u001b[A"
     ]
    },
    {
     "name": "stderr",
     "output_type": "stream",
     "text": [
      "Epoch 152, global step 7344: 'val_loss' was not in top 1\n"
     ]
    },
    {
     "name": "stdout",
     "output_type": "stream",
     "text": [
      "Epoch 153: 100%|█| 48/48 [00:01<00:00, 33.10it/s, v_num=25, train_loss=0.296, train_accuracy=0.900, val_loss=0.598, val_accuracy\n",
      "Validation: |                                                                                             | 0/? [00:00<?, ?it/s]\u001b[A\n",
      "Validation:   0%|                                                                                        | 0/12 [00:00<?, ?it/s]\u001b[A\n",
      "Validation DataLoader 0:   0%|                                                                           | 0/12 [00:00<?, ?it/s]\u001b[A\n",
      "Validation DataLoader 0:   8%|█████▌                                                            | 1/12 [00:00<00:00, 134.27it/s]\u001b[A\n",
      "Validation DataLoader 0:  17%|███████████                                                       | 2/12 [00:00<00:00, 129.92it/s]\u001b[A\n",
      "Validation DataLoader 0:  25%|████████████████▌                                                 | 3/12 [00:00<00:00, 130.49it/s]\u001b[A\n",
      "Validation DataLoader 0:  33%|██████████████████████                                            | 4/12 [00:00<00:00, 136.91it/s]\u001b[A\n",
      "Validation DataLoader 0:  42%|███████████████████████████▌                                      | 5/12 [00:00<00:00, 134.61it/s]\u001b[A\n",
      "Validation DataLoader 0:  50%|█████████████████████████████████                                 | 6/12 [00:00<00:00, 136.17it/s]\u001b[A\n",
      "Validation DataLoader 0:  58%|██████████████████████████████████████▌                           | 7/12 [00:00<00:00, 135.63it/s]\u001b[A\n",
      "Validation DataLoader 0:  67%|████████████████████████████████████████████                      | 8/12 [00:00<00:00, 137.12it/s]\u001b[A\n",
      "Validation DataLoader 0:  75%|█████████████████████████████████████████████████▌                | 9/12 [00:00<00:00, 138.19it/s]\u001b[A\n",
      "Validation DataLoader 0:  83%|██████████████████████████████████████████████████████▏          | 10/12 [00:00<00:00, 136.94it/s]\u001b[A\n",
      "Validation DataLoader 0:  92%|███████████████████████████████████████████████████████████▌     | 11/12 [00:00<00:00, 138.82it/s]\u001b[A\n",
      "Validation DataLoader 0: 100%|█████████████████████████████████████████████████████████████████| 12/12 [00:00<00:00, 140.18it/s]\u001b[A\n",
      "Epoch 153: 100%|█| 48/48 [00:02<00:00, 22.88it/s, v_num=25, train_loss=0.296, train_accuracy=0.900, val_loss=0.618, val_accuracy\u001b[A"
     ]
    },
    {
     "name": "stderr",
     "output_type": "stream",
     "text": [
      "Epoch 153, global step 7392: 'val_loss' was not in top 1\n"
     ]
    },
    {
     "name": "stdout",
     "output_type": "stream",
     "text": [
      "Epoch 154: 100%|█| 48/48 [00:01<00:00, 33.35it/s, v_num=25, train_loss=0.403, train_accuracy=0.800, val_loss=0.618, val_accuracy\n",
      "Validation: |                                                                                             | 0/? [00:00<?, ?it/s]\u001b[A\n",
      "Validation:   0%|                                                                                        | 0/12 [00:00<?, ?it/s]\u001b[A\n",
      "Validation DataLoader 0:   0%|                                                                           | 0/12 [00:00<?, ?it/s]\u001b[A\n",
      "Validation DataLoader 0:   8%|█████▌                                                            | 1/12 [00:00<00:00, 125.17it/s]\u001b[A\n",
      "Validation DataLoader 0:  17%|███████████▏                                                       | 2/12 [00:00<00:00, 95.18it/s]\u001b[A\n",
      "Validation DataLoader 0:  25%|████████████████▌                                                 | 3/12 [00:00<00:00, 104.11it/s]\u001b[A\n",
      "Validation DataLoader 0:  33%|██████████████████████                                            | 4/12 [00:00<00:00, 112.41it/s]\u001b[A\n",
      "Validation DataLoader 0:  42%|███████████████████████████▌                                      | 5/12 [00:00<00:00, 119.14it/s]\u001b[A\n",
      "Validation DataLoader 0:  50%|█████████████████████████████████                                 | 6/12 [00:00<00:00, 123.47it/s]\u001b[A\n",
      "Validation DataLoader 0:  58%|██████████████████████████████████████▌                           | 7/12 [00:00<00:00, 127.60it/s]\u001b[A\n",
      "Validation DataLoader 0:  67%|████████████████████████████████████████████                      | 8/12 [00:00<00:00, 129.49it/s]\u001b[A\n",
      "Validation DataLoader 0:  75%|█████████████████████████████████████████████████▌                | 9/12 [00:00<00:00, 130.63it/s]\u001b[A\n",
      "Validation DataLoader 0:  83%|██████████████████████████████████████████████████████▏          | 10/12 [00:00<00:00, 132.78it/s]\u001b[A\n",
      "Validation DataLoader 0:  92%|███████████████████████████████████████████████████████████▌     | 11/12 [00:00<00:00, 133.24it/s]\u001b[A\n",
      "Validation DataLoader 0: 100%|█████████████████████████████████████████████████████████████████| 12/12 [00:00<00:00, 134.76it/s]\u001b[A\n",
      "Epoch 154: 100%|█| 48/48 [00:02<00:00, 23.06it/s, v_num=25, train_loss=0.403, train_accuracy=0.800, val_loss=0.576, val_accuracy\u001b[A"
     ]
    },
    {
     "name": "stderr",
     "output_type": "stream",
     "text": [
      "Epoch 154, global step 7440: 'val_loss' reached 0.57616 (best 0.57616), saving model to '/home/till/Desktop/ds4w-user-identification/checkpoints/best-checkpoint-v24.ckpt' as top 1\n"
     ]
    },
    {
     "name": "stdout",
     "output_type": "stream",
     "text": [
      "Epoch 155: 100%|█| 48/48 [00:01<00:00, 33.15it/s, v_num=25, train_loss=0.185, train_accuracy=0.925, val_loss=0.576, val_accuracy\n",
      "Validation: |                                                                                             | 0/? [00:00<?, ?it/s]\u001b[A\n",
      "Validation:   0%|                                                                                        | 0/12 [00:00<?, ?it/s]\u001b[A\n",
      "Validation DataLoader 0:   0%|                                                                           | 0/12 [00:00<?, ?it/s]\u001b[A\n",
      "Validation DataLoader 0:   8%|█████▌                                                            | 1/12 [00:00<00:00, 114.87it/s]\u001b[A\n",
      "Validation DataLoader 0:  17%|███████████▏                                                       | 2/12 [00:00<00:00, 99.75it/s]\u001b[A\n",
      "Validation DataLoader 0:  25%|████████████████▌                                                 | 3/12 [00:00<00:00, 111.99it/s]\u001b[A\n",
      "Validation DataLoader 0:  33%|██████████████████████                                            | 4/12 [00:00<00:00, 116.37it/s]\u001b[A\n",
      "Validation DataLoader 0:  42%|███████████████████████████▌                                      | 5/12 [00:00<00:00, 121.17it/s]\u001b[A\n",
      "Validation DataLoader 0:  50%|█████████████████████████████████                                 | 6/12 [00:00<00:00, 125.61it/s]\u001b[A\n",
      "Validation DataLoader 0:  58%|██████████████████████████████████████▌                           | 7/12 [00:00<00:00, 128.38it/s]\u001b[A\n",
      "Validation DataLoader 0:  67%|████████████████████████████████████████████                      | 8/12 [00:00<00:00, 129.11it/s]\u001b[A\n",
      "Validation DataLoader 0:  75%|█████████████████████████████████████████████████▌                | 9/12 [00:00<00:00, 129.67it/s]\u001b[A\n",
      "Validation DataLoader 0:  83%|██████████████████████████████████████████████████████▏          | 10/12 [00:00<00:00, 129.24it/s]\u001b[A\n",
      "Validation DataLoader 0:  92%|███████████████████████████████████████████████████████████▌     | 11/12 [00:00<00:00, 130.41it/s]\u001b[A\n",
      "Validation DataLoader 0: 100%|█████████████████████████████████████████████████████████████████| 12/12 [00:00<00:00, 131.29it/s]\u001b[A\n",
      "Epoch 155: 100%|█| 48/48 [00:02<00:00, 22.98it/s, v_num=25, train_loss=0.185, train_accuracy=0.925, val_loss=0.634, val_accuracy\u001b[A"
     ]
    },
    {
     "name": "stderr",
     "output_type": "stream",
     "text": [
      "Epoch 155, global step 7488: 'val_loss' was not in top 1\n"
     ]
    },
    {
     "name": "stdout",
     "output_type": "stream",
     "text": [
      "Epoch 156: 100%|█| 48/48 [00:01<00:00, 32.70it/s, v_num=25, train_loss=0.641, train_accuracy=0.825, val_loss=0.634, val_accuracy\n",
      "Validation: |                                                                                             | 0/? [00:00<?, ?it/s]\u001b[A\n",
      "Validation:   0%|                                                                                        | 0/12 [00:00<?, ?it/s]\u001b[A\n",
      "Validation DataLoader 0:   0%|                                                                           | 0/12 [00:00<?, ?it/s]\u001b[A\n",
      "Validation DataLoader 0:   8%|█████▌                                                            | 1/12 [00:00<00:00, 134.52it/s]\u001b[A\n",
      "Validation DataLoader 0:  17%|███████████                                                       | 2/12 [00:00<00:00, 144.78it/s]\u001b[A\n",
      "Validation DataLoader 0:  25%|████████████████▌                                                 | 3/12 [00:00<00:00, 137.96it/s]\u001b[A\n",
      "Validation DataLoader 0:  33%|██████████████████████                                            | 4/12 [00:00<00:00, 141.53it/s]\u001b[A\n",
      "Validation DataLoader 0:  42%|███████████████████████████▌                                      | 5/12 [00:00<00:00, 142.54it/s]\u001b[A\n",
      "Validation DataLoader 0:  50%|█████████████████████████████████                                 | 6/12 [00:00<00:00, 146.12it/s]\u001b[A\n",
      "Validation DataLoader 0:  58%|██████████████████████████████████████▌                           | 7/12 [00:00<00:00, 148.06it/s]\u001b[A\n",
      "Validation DataLoader 0:  67%|████████████████████████████████████████████                      | 8/12 [00:00<00:00, 149.90it/s]\u001b[A\n",
      "Validation DataLoader 0:  75%|█████████████████████████████████████████████████▌                | 9/12 [00:00<00:00, 149.25it/s]\u001b[A\n",
      "Validation DataLoader 0:  83%|██████████████████████████████████████████████████████▏          | 10/12 [00:00<00:00, 150.68it/s]\u001b[A\n",
      "Validation DataLoader 0:  92%|███████████████████████████████████████████████████████████▌     | 11/12 [00:00<00:00, 150.73it/s]\u001b[A\n",
      "Validation DataLoader 0: 100%|█████████████████████████████████████████████████████████████████| 12/12 [00:00<00:00, 151.42it/s]\u001b[A\n",
      "Epoch 156: 100%|█| 48/48 [00:02<00:00, 22.96it/s, v_num=25, train_loss=0.641, train_accuracy=0.825, val_loss=0.680, val_accuracy\u001b[A"
     ]
    },
    {
     "name": "stderr",
     "output_type": "stream",
     "text": [
      "Epoch 156, global step 7536: 'val_loss' was not in top 1\n"
     ]
    },
    {
     "name": "stdout",
     "output_type": "stream",
     "text": [
      "Epoch 157: 100%|█| 48/48 [00:01<00:00, 32.68it/s, v_num=25, train_loss=0.273, train_accuracy=0.925, val_loss=0.680, val_accuracy\n",
      "Validation: |                                                                                             | 0/? [00:00<?, ?it/s]\u001b[A\n",
      "Validation:   0%|                                                                                        | 0/12 [00:00<?, ?it/s]\u001b[A\n",
      "Validation DataLoader 0:   0%|                                                                           | 0/12 [00:00<?, ?it/s]\u001b[A\n",
      "Validation DataLoader 0:   8%|█████▌                                                            | 1/12 [00:00<00:00, 113.80it/s]\u001b[A\n",
      "Validation DataLoader 0:  17%|███████████                                                       | 2/12 [00:00<00:00, 113.39it/s]\u001b[A\n",
      "Validation DataLoader 0:  25%|████████████████▌                                                 | 3/12 [00:00<00:00, 119.38it/s]\u001b[A\n",
      "Validation DataLoader 0:  33%|██████████████████████                                            | 4/12 [00:00<00:00, 125.45it/s]\u001b[A\n",
      "Validation DataLoader 0:  42%|███████████████████████████▌                                      | 5/12 [00:00<00:00, 126.63it/s]\u001b[A\n",
      "Validation DataLoader 0:  50%|█████████████████████████████████                                 | 6/12 [00:00<00:00, 128.75it/s]\u001b[A\n",
      "Validation DataLoader 0:  58%|██████████████████████████████████████▌                           | 7/12 [00:00<00:00, 130.64it/s]\u001b[A\n",
      "Validation DataLoader 0:  67%|████████████████████████████████████████████                      | 8/12 [00:00<00:00, 132.40it/s]\u001b[A\n",
      "Validation DataLoader 0:  75%|█████████████████████████████████████████████████▌                | 9/12 [00:00<00:00, 133.67it/s]\u001b[A\n",
      "Validation DataLoader 0:  83%|██████████████████████████████████████████████████████▏          | 10/12 [00:00<00:00, 134.55it/s]\u001b[A\n",
      "Validation DataLoader 0:  92%|███████████████████████████████████████████████████████████▌     | 11/12 [00:00<00:00, 136.59it/s]\u001b[A\n",
      "Validation DataLoader 0: 100%|█████████████████████████████████████████████████████████████████| 12/12 [00:00<00:00, 137.58it/s]\u001b[A\n",
      "Epoch 157: 100%|█| 48/48 [00:02<00:00, 22.83it/s, v_num=25, train_loss=0.273, train_accuracy=0.925, val_loss=0.648, val_accuracy\u001b[A"
     ]
    },
    {
     "name": "stderr",
     "output_type": "stream",
     "text": [
      "Epoch 157, global step 7584: 'val_loss' was not in top 1\n"
     ]
    },
    {
     "name": "stdout",
     "output_type": "stream",
     "text": [
      "Epoch 158: 100%|█| 48/48 [00:01<00:00, 32.63it/s, v_num=25, train_loss=0.281, train_accuracy=0.925, val_loss=0.648, val_accuracy\n",
      "Validation: |                                                                                             | 0/? [00:00<?, ?it/s]\u001b[A\n",
      "Validation:   0%|                                                                                        | 0/12 [00:00<?, ?it/s]\u001b[A\n",
      "Validation DataLoader 0:   0%|                                                                           | 0/12 [00:00<?, ?it/s]\u001b[A\n",
      "Validation DataLoader 0:   8%|█████▌                                                            | 1/12 [00:00<00:00, 135.14it/s]\u001b[A\n",
      "Validation DataLoader 0:  17%|███████████                                                       | 2/12 [00:00<00:00, 135.99it/s]\u001b[A\n",
      "Validation DataLoader 0:  25%|████████████████▌                                                 | 3/12 [00:00<00:00, 119.04it/s]\u001b[A\n",
      "Validation DataLoader 0:  33%|██████████████████████                                            | 4/12 [00:00<00:00, 126.26it/s]\u001b[A\n",
      "Validation DataLoader 0:  42%|███████████████████████████▌                                      | 5/12 [00:00<00:00, 130.61it/s]\u001b[A\n",
      "Validation DataLoader 0:  50%|█████████████████████████████████                                 | 6/12 [00:00<00:00, 134.50it/s]\u001b[A\n",
      "Validation DataLoader 0:  58%|██████████████████████████████████████▌                           | 7/12 [00:00<00:00, 136.50it/s]\u001b[A\n",
      "Validation DataLoader 0:  67%|████████████████████████████████████████████                      | 8/12 [00:00<00:00, 139.38it/s]\u001b[A\n",
      "Validation DataLoader 0:  75%|█████████████████████████████████████████████████▌                | 9/12 [00:00<00:00, 141.55it/s]\u001b[A\n",
      "Validation DataLoader 0:  83%|██████████████████████████████████████████████████████▏          | 10/12 [00:00<00:00, 142.47it/s]\u001b[A\n",
      "Validation DataLoader 0:  92%|███████████████████████████████████████████████████████████▌     | 11/12 [00:00<00:00, 144.17it/s]\u001b[A\n",
      "Validation DataLoader 0: 100%|█████████████████████████████████████████████████████████████████| 12/12 [00:00<00:00, 144.28it/s]\u001b[A\n",
      "Epoch 158: 100%|█| 48/48 [00:02<00:00, 22.87it/s, v_num=25, train_loss=0.281, train_accuracy=0.925, val_loss=0.626, val_accuracy\u001b[A"
     ]
    },
    {
     "name": "stderr",
     "output_type": "stream",
     "text": [
      "Epoch 158, global step 7632: 'val_loss' was not in top 1\n"
     ]
    },
    {
     "name": "stdout",
     "output_type": "stream",
     "text": [
      "Epoch 159: 100%|█| 48/48 [00:01<00:00, 33.71it/s, v_num=25, train_loss=0.393, train_accuracy=0.825, val_loss=0.626, val_accuracy\n",
      "Validation: |                                                                                             | 0/? [00:00<?, ?it/s]\u001b[A\n",
      "Validation:   0%|                                                                                        | 0/12 [00:00<?, ?it/s]\u001b[A\n",
      "Validation DataLoader 0:   0%|                                                                           | 0/12 [00:00<?, ?it/s]\u001b[A\n",
      "Validation DataLoader 0:   8%|█████▌                                                            | 1/12 [00:00<00:00, 114.15it/s]\u001b[A\n",
      "Validation DataLoader 0:  17%|███████████                                                       | 2/12 [00:00<00:00, 126.21it/s]\u001b[A\n",
      "Validation DataLoader 0:  25%|████████████████▌                                                 | 3/12 [00:00<00:00, 125.78it/s]\u001b[A\n",
      "Validation DataLoader 0:  33%|██████████████████████                                            | 4/12 [00:00<00:00, 124.93it/s]\u001b[A\n",
      "Validation DataLoader 0:  42%|███████████████████████████▌                                      | 5/12 [00:00<00:00, 127.51it/s]\u001b[A\n",
      "Validation DataLoader 0:  50%|█████████████████████████████████                                 | 6/12 [00:00<00:00, 127.12it/s]\u001b[A\n",
      "Validation DataLoader 0:  58%|██████████████████████████████████████▌                           | 7/12 [00:00<00:00, 129.23it/s]\u001b[A\n",
      "Validation DataLoader 0:  67%|████████████████████████████████████████████                      | 8/12 [00:00<00:00, 128.79it/s]\u001b[A\n",
      "Validation DataLoader 0:  75%|█████████████████████████████████████████████████▌                | 9/12 [00:00<00:00, 130.27it/s]\u001b[A\n",
      "Validation DataLoader 0:  83%|██████████████████████████████████████████████████████▏          | 10/12 [00:00<00:00, 131.84it/s]\u001b[A\n",
      "Validation DataLoader 0:  92%|███████████████████████████████████████████████████████████▌     | 11/12 [00:00<00:00, 133.41it/s]\u001b[A\n",
      "Validation DataLoader 0: 100%|█████████████████████████████████████████████████████████████████| 12/12 [00:00<00:00, 134.11it/s]\u001b[A\n",
      "Epoch 159: 100%|█| 48/48 [00:02<00:00, 23.03it/s, v_num=25, train_loss=0.393, train_accuracy=0.825, val_loss=0.624, val_accuracy\u001b[A"
     ]
    },
    {
     "name": "stderr",
     "output_type": "stream",
     "text": [
      "Epoch 159, global step 7680: 'val_loss' was not in top 1\n"
     ]
    },
    {
     "name": "stdout",
     "output_type": "stream",
     "text": [
      "Epoch 160: 100%|█| 48/48 [00:01<00:00, 33.22it/s, v_num=25, train_loss=0.414, train_accuracy=0.825, val_loss=0.624, val_accuracy\n",
      "Validation: |                                                                                             | 0/? [00:00<?, ?it/s]\u001b[A\n",
      "Validation:   0%|                                                                                        | 0/12 [00:00<?, ?it/s]\u001b[A\n",
      "Validation DataLoader 0:   0%|                                                                           | 0/12 [00:00<?, ?it/s]\u001b[A\n",
      "Validation DataLoader 0:   8%|█████▌                                                            | 1/12 [00:00<00:00, 107.87it/s]\u001b[A\n",
      "Validation DataLoader 0:  17%|███████████                                                       | 2/12 [00:00<00:00, 114.14it/s]\u001b[A\n",
      "Validation DataLoader 0:  25%|████████████████▌                                                 | 3/12 [00:00<00:00, 120.22it/s]\u001b[A\n",
      "Validation DataLoader 0:  33%|██████████████████████                                            | 4/12 [00:00<00:00, 126.03it/s]\u001b[A\n",
      "Validation DataLoader 0:  42%|███████████████████████████▌                                      | 5/12 [00:00<00:00, 128.44it/s]\u001b[A\n",
      "Validation DataLoader 0:  50%|█████████████████████████████████                                 | 6/12 [00:00<00:00, 128.84it/s]\u001b[A\n",
      "Validation DataLoader 0:  58%|██████████████████████████████████████▌                           | 7/12 [00:00<00:00, 131.46it/s]\u001b[A\n",
      "Validation DataLoader 0:  67%|████████████████████████████████████████████                      | 8/12 [00:00<00:00, 132.14it/s]\u001b[A\n",
      "Validation DataLoader 0:  75%|█████████████████████████████████████████████████▌                | 9/12 [00:00<00:00, 132.27it/s]\u001b[A\n",
      "Validation DataLoader 0:  83%|██████████████████████████████████████████████████████▏          | 10/12 [00:00<00:00, 132.51it/s]\u001b[A\n",
      "Validation DataLoader 0:  92%|███████████████████████████████████████████████████████████▌     | 11/12 [00:00<00:00, 133.13it/s]\u001b[A\n",
      "Validation DataLoader 0: 100%|█████████████████████████████████████████████████████████████████| 12/12 [00:00<00:00, 134.44it/s]\u001b[A\n",
      "Epoch 160: 100%|█| 48/48 [00:02<00:00, 23.07it/s, v_num=25, train_loss=0.414, train_accuracy=0.825, val_loss=0.656, val_accuracy\u001b[A"
     ]
    },
    {
     "name": "stderr",
     "output_type": "stream",
     "text": [
      "Epoch 160, global step 7728: 'val_loss' was not in top 1\n"
     ]
    },
    {
     "name": "stdout",
     "output_type": "stream",
     "text": [
      "Epoch 161: 100%|█| 48/48 [00:01<00:00, 33.34it/s, v_num=25, train_loss=0.158, train_accuracy=1.000, val_loss=0.656, val_accuracy\n",
      "Validation: |                                                                                             | 0/? [00:00<?, ?it/s]\u001b[A\n",
      "Validation:   0%|                                                                                        | 0/12 [00:00<?, ?it/s]\u001b[A\n",
      "Validation DataLoader 0:   0%|                                                                           | 0/12 [00:00<?, ?it/s]\u001b[A\n",
      "Validation DataLoader 0:   8%|█████▌                                                            | 1/12 [00:00<00:00, 113.95it/s]\u001b[A\n",
      "Validation DataLoader 0:  17%|███████████                                                       | 2/12 [00:00<00:00, 123.62it/s]\u001b[A\n",
      "Validation DataLoader 0:  25%|████████████████▌                                                 | 3/12 [00:00<00:00, 129.11it/s]\u001b[A\n",
      "Validation DataLoader 0:  33%|██████████████████████                                            | 4/12 [00:00<00:00, 131.81it/s]\u001b[A\n",
      "Validation DataLoader 0:  42%|███████████████████████████▌                                      | 5/12 [00:00<00:00, 129.94it/s]\u001b[A\n",
      "Validation DataLoader 0:  50%|█████████████████████████████████                                 | 6/12 [00:00<00:00, 132.83it/s]\u001b[A\n",
      "Validation DataLoader 0:  58%|██████████████████████████████████████▌                           | 7/12 [00:00<00:00, 131.49it/s]\u001b[A\n",
      "Validation DataLoader 0:  67%|████████████████████████████████████████████                      | 8/12 [00:00<00:00, 130.72it/s]\u001b[A\n",
      "Validation DataLoader 0:  75%|█████████████████████████████████████████████████▌                | 9/12 [00:00<00:00, 131.52it/s]\u001b[A\n",
      "Validation DataLoader 0:  83%|██████████████████████████████████████████████████████▏          | 10/12 [00:00<00:00, 133.46it/s]\u001b[A\n",
      "Validation DataLoader 0:  92%|███████████████████████████████████████████████████████████▌     | 11/12 [00:00<00:00, 134.83it/s]\u001b[A\n",
      "Validation DataLoader 0: 100%|█████████████████████████████████████████████████████████████████| 12/12 [00:00<00:00, 136.29it/s]\u001b[A\n",
      "Epoch 161: 100%|█| 48/48 [00:02<00:00, 23.18it/s, v_num=25, train_loss=0.158, train_accuracy=1.000, val_loss=0.572, val_accuracy\u001b[A"
     ]
    },
    {
     "name": "stderr",
     "output_type": "stream",
     "text": [
      "Epoch 161, global step 7776: 'val_loss' reached 0.57179 (best 0.57179), saving model to '/home/till/Desktop/ds4w-user-identification/checkpoints/best-checkpoint-v24.ckpt' as top 1\n"
     ]
    },
    {
     "name": "stdout",
     "output_type": "stream",
     "text": [
      "Epoch 162: 100%|█| 48/48 [00:01<00:00, 33.75it/s, v_num=25, train_loss=0.379, train_accuracy=0.875, val_loss=0.572, val_accuracy\n",
      "Validation: |                                                                                             | 0/? [00:00<?, ?it/s]\u001b[A\n",
      "Validation:   0%|                                                                                        | 0/12 [00:00<?, ?it/s]\u001b[A\n",
      "Validation DataLoader 0:   0%|                                                                           | 0/12 [00:00<?, ?it/s]\u001b[A\n",
      "Validation DataLoader 0:   8%|█████▌                                                            | 1/12 [00:00<00:00, 108.14it/s]\u001b[A\n",
      "Validation DataLoader 0:  17%|███████████                                                       | 2/12 [00:00<00:00, 113.07it/s]\u001b[A\n",
      "Validation DataLoader 0:  25%|████████████████▌                                                 | 3/12 [00:00<00:00, 123.77it/s]\u001b[A\n",
      "Validation DataLoader 0:  33%|██████████████████████                                            | 4/12 [00:00<00:00, 129.80it/s]\u001b[A\n",
      "Validation DataLoader 0:  42%|███████████████████████████▌                                      | 5/12 [00:00<00:00, 127.49it/s]\u001b[A\n",
      "Validation DataLoader 0:  50%|█████████████████████████████████                                 | 6/12 [00:00<00:00, 120.53it/s]\u001b[A\n",
      "Validation DataLoader 0:  58%|██████████████████████████████████████▌                           | 7/12 [00:00<00:00, 123.12it/s]\u001b[A\n",
      "Validation DataLoader 0:  67%|████████████████████████████████████████████                      | 8/12 [00:00<00:00, 127.10it/s]\u001b[A\n",
      "Validation DataLoader 0:  75%|█████████████████████████████████████████████████▌                | 9/12 [00:00<00:00, 129.97it/s]\u001b[A\n",
      "Validation DataLoader 0:  83%|██████████████████████████████████████████████████████▏          | 10/12 [00:00<00:00, 132.13it/s]\u001b[A\n",
      "Validation DataLoader 0:  92%|███████████████████████████████████████████████████████████▌     | 11/12 [00:00<00:00, 134.81it/s]\u001b[A\n",
      "Validation DataLoader 0: 100%|█████████████████████████████████████████████████████████████████| 12/12 [00:00<00:00, 136.36it/s]\u001b[A\n",
      "Epoch 162: 100%|█| 48/48 [00:02<00:00, 23.00it/s, v_num=25, train_loss=0.379, train_accuracy=0.875, val_loss=0.675, val_accuracy\u001b[A"
     ]
    },
    {
     "name": "stderr",
     "output_type": "stream",
     "text": [
      "Epoch 162, global step 7824: 'val_loss' was not in top 1\n"
     ]
    },
    {
     "name": "stdout",
     "output_type": "stream",
     "text": [
      "Epoch 163: 100%|█| 48/48 [00:01<00:00, 33.96it/s, v_num=25, train_loss=0.256, train_accuracy=0.900, val_loss=0.675, val_accuracy\n",
      "Validation: |                                                                                             | 0/? [00:00<?, ?it/s]\u001b[A\n",
      "Validation:   0%|                                                                                        | 0/12 [00:00<?, ?it/s]\u001b[A\n",
      "Validation DataLoader 0:   0%|                                                                           | 0/12 [00:00<?, ?it/s]\u001b[A\n",
      "Validation DataLoader 0:   8%|█████▌                                                            | 1/12 [00:00<00:00, 126.67it/s]\u001b[A\n",
      "Validation DataLoader 0:  17%|███████████                                                       | 2/12 [00:00<00:00, 137.60it/s]\u001b[A\n",
      "Validation DataLoader 0:  25%|████████████████▌                                                 | 3/12 [00:00<00:00, 143.04it/s]\u001b[A\n",
      "Validation DataLoader 0:  33%|██████████████████████                                            | 4/12 [00:00<00:00, 145.89it/s]\u001b[A\n",
      "Validation DataLoader 0:  42%|███████████████████████████▌                                      | 5/12 [00:00<00:00, 146.37it/s]\u001b[A\n",
      "Validation DataLoader 0:  50%|█████████████████████████████████                                 | 6/12 [00:00<00:00, 149.04it/s]\u001b[A\n",
      "Validation DataLoader 0:  58%|██████████████████████████████████████▌                           | 7/12 [00:00<00:00, 150.48it/s]\u001b[A\n",
      "Validation DataLoader 0:  67%|████████████████████████████████████████████                      | 8/12 [00:00<00:00, 150.06it/s]\u001b[A\n",
      "Validation DataLoader 0:  75%|█████████████████████████████████████████████████▌                | 9/12 [00:00<00:00, 151.70it/s]\u001b[A\n",
      "Validation DataLoader 0:  83%|██████████████████████████████████████████████████████▏          | 10/12 [00:00<00:00, 152.34it/s]\u001b[A\n",
      "Validation DataLoader 0:  92%|███████████████████████████████████████████████████████████▌     | 11/12 [00:00<00:00, 150.37it/s]\u001b[A\n",
      "Validation DataLoader 0: 100%|█████████████████████████████████████████████████████████████████| 12/12 [00:00<00:00, 151.24it/s]\u001b[A\n",
      "Epoch 163: 100%|█| 48/48 [00:02<00:00, 23.62it/s, v_num=25, train_loss=0.256, train_accuracy=0.900, val_loss=0.584, val_accuracy\u001b[A"
     ]
    },
    {
     "name": "stderr",
     "output_type": "stream",
     "text": [
      "Epoch 163, global step 7872: 'val_loss' was not in top 1\n"
     ]
    },
    {
     "name": "stdout",
     "output_type": "stream",
     "text": [
      "Epoch 164: 100%|█| 48/48 [00:01<00:00, 33.21it/s, v_num=25, train_loss=0.271, train_accuracy=0.850, val_loss=0.584, val_accuracy\n",
      "Validation: |                                                                                             | 0/? [00:00<?, ?it/s]\u001b[A\n",
      "Validation:   0%|                                                                                        | 0/12 [00:00<?, ?it/s]\u001b[A\n",
      "Validation DataLoader 0:   0%|                                                                           | 0/12 [00:00<?, ?it/s]\u001b[A\n",
      "Validation DataLoader 0:   8%|█████▌                                                            | 1/12 [00:00<00:00, 113.52it/s]\u001b[A\n",
      "Validation DataLoader 0:  17%|███████████                                                       | 2/12 [00:00<00:00, 121.17it/s]\u001b[A\n",
      "Validation DataLoader 0:  25%|████████████████▌                                                 | 3/12 [00:00<00:00, 125.41it/s]\u001b[A\n",
      "Validation DataLoader 0:  33%|██████████████████████                                            | 4/12 [00:00<00:00, 125.64it/s]\u001b[A\n",
      "Validation DataLoader 0:  42%|███████████████████████████▌                                      | 5/12 [00:00<00:00, 121.36it/s]\u001b[A\n",
      "Validation DataLoader 0:  50%|█████████████████████████████████                                 | 6/12 [00:00<00:00, 123.75it/s]\u001b[A\n",
      "Validation DataLoader 0:  58%|██████████████████████████████████████▌                           | 7/12 [00:00<00:00, 124.86it/s]\u001b[A\n",
      "Validation DataLoader 0:  67%|████████████████████████████████████████████                      | 8/12 [00:00<00:00, 126.94it/s]\u001b[A\n",
      "Validation DataLoader 0:  75%|█████████████████████████████████████████████████▌                | 9/12 [00:00<00:00, 128.77it/s]\u001b[A\n",
      "Validation DataLoader 0:  83%|██████████████████████████████████████████████████████▏          | 10/12 [00:00<00:00, 130.37it/s]\u001b[A\n",
      "Validation DataLoader 0:  92%|███████████████████████████████████████████████████████████▌     | 11/12 [00:00<00:00, 131.01it/s]\u001b[A\n",
      "Validation DataLoader 0: 100%|█████████████████████████████████████████████████████████████████| 12/12 [00:00<00:00, 132.69it/s]\u001b[A\n",
      "Epoch 164: 100%|█| 48/48 [00:02<00:00, 23.09it/s, v_num=25, train_loss=0.271, train_accuracy=0.850, val_loss=0.617, val_accuracy\u001b[A"
     ]
    },
    {
     "name": "stderr",
     "output_type": "stream",
     "text": [
      "Epoch 164, global step 7920: 'val_loss' was not in top 1\n"
     ]
    },
    {
     "name": "stdout",
     "output_type": "stream",
     "text": [
      "Epoch 165: 100%|█| 48/48 [00:01<00:00, 32.82it/s, v_num=25, train_loss=0.313, train_accuracy=0.900, val_loss=0.617, val_accuracy\n",
      "Validation: |                                                                                             | 0/? [00:00<?, ?it/s]\u001b[A\n",
      "Validation:   0%|                                                                                        | 0/12 [00:00<?, ?it/s]\u001b[A\n",
      "Validation DataLoader 0:   0%|                                                                           | 0/12 [00:00<?, ?it/s]\u001b[A\n",
      "Validation DataLoader 0:   8%|█████▌                                                            | 1/12 [00:00<00:00, 101.74it/s]\u001b[A\n",
      "Validation DataLoader 0:  17%|███████████                                                       | 2/12 [00:00<00:00, 113.89it/s]\u001b[A\n",
      "Validation DataLoader 0:  25%|████████████████▌                                                 | 3/12 [00:00<00:00, 114.75it/s]\u001b[A\n",
      "Validation DataLoader 0:  33%|██████████████████████                                            | 4/12 [00:00<00:00, 123.35it/s]\u001b[A\n",
      "Validation DataLoader 0:  42%|███████████████████████████▌                                      | 5/12 [00:00<00:00, 127.69it/s]\u001b[A\n",
      "Validation DataLoader 0:  50%|█████████████████████████████████                                 | 6/12 [00:00<00:00, 132.78it/s]\u001b[A\n",
      "Validation DataLoader 0:  58%|██████████████████████████████████████▌                           | 7/12 [00:00<00:00, 134.19it/s]\u001b[A\n",
      "Validation DataLoader 0:  67%|████████████████████████████████████████████                      | 8/12 [00:00<00:00, 132.99it/s]\u001b[A\n",
      "Validation DataLoader 0:  75%|█████████████████████████████████████████████████▌                | 9/12 [00:00<00:00, 135.35it/s]\u001b[A\n",
      "Validation DataLoader 0:  83%|██████████████████████████████████████████████████████▏          | 10/12 [00:00<00:00, 136.18it/s]\u001b[A\n",
      "Validation DataLoader 0:  92%|███████████████████████████████████████████████████████████▌     | 11/12 [00:00<00:00, 138.35it/s]\u001b[A\n",
      "Validation DataLoader 0: 100%|█████████████████████████████████████████████████████████████████| 12/12 [00:00<00:00, 138.88it/s]\u001b[A\n",
      "Epoch 165: 100%|█| 48/48 [00:02<00:00, 23.39it/s, v_num=25, train_loss=0.313, train_accuracy=0.900, val_loss=0.567, val_accuracy\u001b[A"
     ]
    },
    {
     "name": "stderr",
     "output_type": "stream",
     "text": [
      "Epoch 165, global step 7968: 'val_loss' reached 0.56656 (best 0.56656), saving model to '/home/till/Desktop/ds4w-user-identification/checkpoints/best-checkpoint-v24.ckpt' as top 1\n"
     ]
    },
    {
     "name": "stdout",
     "output_type": "stream",
     "text": [
      "Epoch 166: 100%|█| 48/48 [00:01<00:00, 33.64it/s, v_num=25, train_loss=0.381, train_accuracy=0.900, val_loss=0.567, val_accuracy\n",
      "Validation: |                                                                                             | 0/? [00:00<?, ?it/s]\u001b[A\n",
      "Validation:   0%|                                                                                        | 0/12 [00:00<?, ?it/s]\u001b[A\n",
      "Validation DataLoader 0:   0%|                                                                           | 0/12 [00:00<?, ?it/s]\u001b[A\n",
      "Validation DataLoader 0:   8%|█████▌                                                            | 1/12 [00:00<00:00, 122.23it/s]\u001b[A\n",
      "Validation DataLoader 0:  17%|███████████                                                       | 2/12 [00:00<00:00, 130.07it/s]\u001b[A\n",
      "Validation DataLoader 0:  25%|████████████████▌                                                 | 3/12 [00:00<00:00, 136.62it/s]\u001b[A\n",
      "Validation DataLoader 0:  33%|██████████████████████                                            | 4/12 [00:00<00:00, 139.36it/s]\u001b[A\n",
      "Validation DataLoader 0:  42%|███████████████████████████▌                                      | 5/12 [00:00<00:00, 138.87it/s]\u001b[A\n",
      "Validation DataLoader 0:  50%|█████████████████████████████████                                 | 6/12 [00:00<00:00, 133.42it/s]\u001b[A\n",
      "Validation DataLoader 0:  58%|██████████████████████████████████████▌                           | 7/12 [00:00<00:00, 133.55it/s]\u001b[A\n",
      "Validation DataLoader 0:  67%|████████████████████████████████████████████                      | 8/12 [00:00<00:00, 135.49it/s]\u001b[A\n",
      "Validation DataLoader 0:  75%|█████████████████████████████████████████████████▌                | 9/12 [00:00<00:00, 137.40it/s]\u001b[A\n",
      "Validation DataLoader 0:  83%|██████████████████████████████████████████████████████▏          | 10/12 [00:00<00:00, 136.91it/s]\u001b[A\n",
      "Validation DataLoader 0:  92%|███████████████████████████████████████████████████████████▌     | 11/12 [00:00<00:00, 137.99it/s]\u001b[A\n",
      "Validation DataLoader 0: 100%|█████████████████████████████████████████████████████████████████| 12/12 [00:00<00:00, 138.64it/s]\u001b[A\n",
      "Epoch 166: 100%|█| 48/48 [00:02<00:00, 23.44it/s, v_num=25, train_loss=0.381, train_accuracy=0.900, val_loss=0.781, val_accuracy\u001b[A"
     ]
    },
    {
     "name": "stderr",
     "output_type": "stream",
     "text": [
      "Epoch 166, global step 8016: 'val_loss' was not in top 1\n"
     ]
    },
    {
     "name": "stdout",
     "output_type": "stream",
     "text": [
      "Epoch 167: 100%|█| 48/48 [00:01<00:00, 33.89it/s, v_num=25, train_loss=0.521, train_accuracy=0.850, val_loss=0.781, val_accuracy\n",
      "Validation: |                                                                                             | 0/? [00:00<?, ?it/s]\u001b[A\n",
      "Validation:   0%|                                                                                        | 0/12 [00:00<?, ?it/s]\u001b[A\n",
      "Validation DataLoader 0:   0%|                                                                           | 0/12 [00:00<?, ?it/s]\u001b[A\n",
      "Validation DataLoader 0:   8%|█████▌                                                            | 1/12 [00:00<00:00, 112.96it/s]\u001b[A\n",
      "Validation DataLoader 0:  17%|███████████                                                       | 2/12 [00:00<00:00, 121.56it/s]\u001b[A\n",
      "Validation DataLoader 0:  25%|████████████████▌                                                 | 3/12 [00:00<00:00, 122.12it/s]\u001b[A\n",
      "Validation DataLoader 0:  33%|██████████████████████                                            | 4/12 [00:00<00:00, 127.90it/s]\u001b[A\n",
      "Validation DataLoader 0:  42%|███████████████████████████▌                                      | 5/12 [00:00<00:00, 132.52it/s]\u001b[A\n",
      "Validation DataLoader 0:  50%|█████████████████████████████████                                 | 6/12 [00:00<00:00, 131.84it/s]\u001b[A\n",
      "Validation DataLoader 0:  58%|██████████████████████████████████████▌                           | 7/12 [00:00<00:00, 134.24it/s]\u001b[A\n",
      "Validation DataLoader 0:  67%|████████████████████████████████████████████                      | 8/12 [00:00<00:00, 136.80it/s]\u001b[A\n",
      "Validation DataLoader 0:  75%|█████████████████████████████████████████████████▌                | 9/12 [00:00<00:00, 136.31it/s]\u001b[A\n",
      "Validation DataLoader 0:  83%|██████████████████████████████████████████████████████▏          | 10/12 [00:00<00:00, 137.49it/s]\u001b[A\n",
      "Validation DataLoader 0:  92%|███████████████████████████████████████████████████████████▌     | 11/12 [00:00<00:00, 139.36it/s]\u001b[A\n",
      "Validation DataLoader 0: 100%|█████████████████████████████████████████████████████████████████| 12/12 [00:00<00:00, 139.75it/s]\u001b[A\n",
      "Epoch 167: 100%|█| 48/48 [00:02<00:00, 23.41it/s, v_num=25, train_loss=0.521, train_accuracy=0.850, val_loss=0.724, val_accuracy\u001b[A"
     ]
    },
    {
     "name": "stderr",
     "output_type": "stream",
     "text": [
      "Epoch 167, global step 8064: 'val_loss' was not in top 1\n"
     ]
    },
    {
     "name": "stdout",
     "output_type": "stream",
     "text": [
      "Epoch 168: 100%|█| 48/48 [00:01<00:00, 33.26it/s, v_num=25, train_loss=0.240, train_accuracy=0.875, val_loss=0.724, val_accuracy\n",
      "Validation: |                                                                                             | 0/? [00:00<?, ?it/s]\u001b[A\n",
      "Validation:   0%|                                                                                        | 0/12 [00:00<?, ?it/s]\u001b[A\n",
      "Validation DataLoader 0:   0%|                                                                           | 0/12 [00:00<?, ?it/s]\u001b[A\n",
      "Validation DataLoader 0:   8%|█████▌                                                            | 1/12 [00:00<00:00, 124.11it/s]\u001b[A\n",
      "Validation DataLoader 0:  17%|███████████                                                       | 2/12 [00:00<00:00, 109.45it/s]\u001b[A\n",
      "Validation DataLoader 0:  25%|████████████████▌                                                 | 3/12 [00:00<00:00, 118.26it/s]\u001b[A\n",
      "Validation DataLoader 0:  33%|██████████████████████                                            | 4/12 [00:00<00:00, 123.69it/s]\u001b[A\n",
      "Validation DataLoader 0:  42%|███████████████████████████▌                                      | 5/12 [00:00<00:00, 129.71it/s]\u001b[A\n",
      "Validation DataLoader 0:  50%|█████████████████████████████████                                 | 6/12 [00:00<00:00, 134.35it/s]\u001b[A\n",
      "Validation DataLoader 0:  58%|██████████████████████████████████████▌                           | 7/12 [00:00<00:00, 136.72it/s]\u001b[A\n",
      "Validation DataLoader 0:  67%|████████████████████████████████████████████                      | 8/12 [00:00<00:00, 137.80it/s]\u001b[A\n",
      "Validation DataLoader 0:  75%|█████████████████████████████████████████████████▌                | 9/12 [00:00<00:00, 138.73it/s]\u001b[A\n",
      "Validation DataLoader 0:  83%|██████████████████████████████████████████████████████▏          | 10/12 [00:00<00:00, 139.53it/s]\u001b[A\n",
      "Validation DataLoader 0:  92%|███████████████████████████████████████████████████████████▌     | 11/12 [00:00<00:00, 141.07it/s]\u001b[A\n",
      "Validation DataLoader 0: 100%|█████████████████████████████████████████████████████████████████| 12/12 [00:00<00:00, 141.51it/s]\u001b[A\n",
      "Epoch 168: 100%|█| 48/48 [00:02<00:00, 23.42it/s, v_num=25, train_loss=0.240, train_accuracy=0.875, val_loss=0.612, val_accuracy\u001b[A"
     ]
    },
    {
     "name": "stderr",
     "output_type": "stream",
     "text": [
      "Epoch 168, global step 8112: 'val_loss' was not in top 1\n"
     ]
    },
    {
     "name": "stdout",
     "output_type": "stream",
     "text": [
      "Epoch 169: 100%|█| 48/48 [00:01<00:00, 32.84it/s, v_num=25, train_loss=0.277, train_accuracy=0.900, val_loss=0.612, val_accuracy\n",
      "Validation: |                                                                                             | 0/? [00:00<?, ?it/s]\u001b[A\n",
      "Validation:   0%|                                                                                        | 0/12 [00:00<?, ?it/s]\u001b[A\n",
      "Validation DataLoader 0:   0%|                                                                           | 0/12 [00:00<?, ?it/s]\u001b[A\n",
      "Validation DataLoader 0:   8%|█████▌                                                            | 1/12 [00:00<00:00, 127.86it/s]\u001b[A\n",
      "Validation DataLoader 0:  17%|███████████                                                       | 2/12 [00:00<00:00, 140.40it/s]\u001b[A\n",
      "Validation DataLoader 0:  25%|████████████████▌                                                 | 3/12 [00:00<00:00, 132.45it/s]\u001b[A\n",
      "Validation DataLoader 0:  33%|██████████████████████                                            | 4/12 [00:00<00:00, 137.86it/s]\u001b[A\n",
      "Validation DataLoader 0:  42%|███████████████████████████▌                                      | 5/12 [00:00<00:00, 139.33it/s]\u001b[A\n",
      "Validation DataLoader 0:  50%|█████████████████████████████████                                 | 6/12 [00:00<00:00, 140.36it/s]\u001b[A\n",
      "Validation DataLoader 0:  58%|██████████████████████████████████████▌                           | 7/12 [00:00<00:00, 138.15it/s]\u001b[A\n",
      "Validation DataLoader 0:  67%|████████████████████████████████████████████                      | 8/12 [00:00<00:00, 139.32it/s]\u001b[A\n",
      "Validation DataLoader 0:  75%|█████████████████████████████████████████████████▌                | 9/12 [00:00<00:00, 141.73it/s]\u001b[A\n",
      "Validation DataLoader 0:  83%|██████████████████████████████████████████████████████▏          | 10/12 [00:00<00:00, 141.43it/s]\u001b[A\n",
      "Validation DataLoader 0:  92%|███████████████████████████████████████████████████████████▌     | 11/12 [00:00<00:00, 142.22it/s]\u001b[A\n",
      "Validation DataLoader 0: 100%|█████████████████████████████████████████████████████████████████| 12/12 [00:00<00:00, 141.86it/s]\u001b[A\n",
      "Epoch 169: 100%|█| 48/48 [00:02<00:00, 22.71it/s, v_num=25, train_loss=0.277, train_accuracy=0.900, val_loss=0.618, val_accuracy\u001b[A"
     ]
    },
    {
     "name": "stderr",
     "output_type": "stream",
     "text": [
      "Epoch 169, global step 8160: 'val_loss' was not in top 1\n"
     ]
    },
    {
     "name": "stdout",
     "output_type": "stream",
     "text": [
      "Epoch 170: 100%|█| 48/48 [00:01<00:00, 33.31it/s, v_num=25, train_loss=0.168, train_accuracy=0.975, val_loss=0.618, val_accuracy\n",
      "Validation: |                                                                                             | 0/? [00:00<?, ?it/s]\u001b[A\n",
      "Validation:   0%|                                                                                        | 0/12 [00:00<?, ?it/s]\u001b[A\n",
      "Validation DataLoader 0:   0%|                                                                           | 0/12 [00:00<?, ?it/s]\u001b[A\n",
      "Validation DataLoader 0:   8%|█████▌                                                            | 1/12 [00:00<00:00, 133.31it/s]\u001b[A\n",
      "Validation DataLoader 0:  17%|███████████                                                       | 2/12 [00:00<00:00, 137.74it/s]\u001b[A\n",
      "Validation DataLoader 0:  25%|████████████████▌                                                 | 3/12 [00:00<00:00, 136.03it/s]\u001b[A\n",
      "Validation DataLoader 0:  33%|██████████████████████                                            | 4/12 [00:00<00:00, 133.09it/s]\u001b[A\n",
      "Validation DataLoader 0:  42%|███████████████████████████▌                                      | 5/12 [00:00<00:00, 128.58it/s]\u001b[A\n",
      "Validation DataLoader 0:  50%|█████████████████████████████████                                 | 6/12 [00:00<00:00, 132.87it/s]\u001b[A\n",
      "Validation DataLoader 0:  58%|██████████████████████████████████████▌                           | 7/12 [00:00<00:00, 132.65it/s]\u001b[A\n",
      "Validation DataLoader 0:  67%|████████████████████████████████████████████                      | 8/12 [00:00<00:00, 135.44it/s]\u001b[A\n",
      "Validation DataLoader 0:  75%|█████████████████████████████████████████████████▌                | 9/12 [00:00<00:00, 137.70it/s]\u001b[A\n",
      "Validation DataLoader 0:  83%|██████████████████████████████████████████████████████▏          | 10/12 [00:00<00:00, 138.55it/s]\u001b[A\n",
      "Validation DataLoader 0:  92%|███████████████████████████████████████████████████████████▌     | 11/12 [00:00<00:00, 140.24it/s]\u001b[A\n",
      "Validation DataLoader 0: 100%|█████████████████████████████████████████████████████████████████| 12/12 [00:00<00:00, 138.79it/s]\u001b[A\n",
      "Epoch 170: 100%|█| 48/48 [00:02<00:00, 23.26it/s, v_num=25, train_loss=0.168, train_accuracy=0.975, val_loss=0.599, val_accuracy\u001b[A"
     ]
    },
    {
     "name": "stderr",
     "output_type": "stream",
     "text": [
      "Epoch 170, global step 8208: 'val_loss' was not in top 1\n"
     ]
    },
    {
     "name": "stdout",
     "output_type": "stream",
     "text": [
      "Epoch 171: 100%|█| 48/48 [00:01<00:00, 32.42it/s, v_num=25, train_loss=0.282, train_accuracy=0.925, val_loss=0.599, val_accuracy\n",
      "Validation: |                                                                                             | 0/? [00:00<?, ?it/s]\u001b[A\n",
      "Validation:   0%|                                                                                        | 0/12 [00:00<?, ?it/s]\u001b[A\n",
      "Validation DataLoader 0:   0%|                                                                           | 0/12 [00:00<?, ?it/s]\u001b[A\n",
      "Validation DataLoader 0:   8%|█████▌                                                            | 1/12 [00:00<00:00, 120.78it/s]\u001b[A\n",
      "Validation DataLoader 0:  17%|███████████                                                       | 2/12 [00:00<00:00, 118.21it/s]\u001b[A\n",
      "Validation DataLoader 0:  25%|████████████████▌                                                 | 3/12 [00:00<00:00, 128.31it/s]\u001b[A\n",
      "Validation DataLoader 0:  33%|██████████████████████                                            | 4/12 [00:00<00:00, 125.41it/s]\u001b[A\n",
      "Validation DataLoader 0:  42%|███████████████████████████▌                                      | 5/12 [00:00<00:00, 128.22it/s]\u001b[A\n",
      "Validation DataLoader 0:  50%|█████████████████████████████████                                 | 6/12 [00:00<00:00, 131.01it/s]\u001b[A\n",
      "Validation DataLoader 0:  58%|██████████████████████████████████████▌                           | 7/12 [00:00<00:00, 130.64it/s]\u001b[A\n",
      "Validation DataLoader 0:  67%|████████████████████████████████████████████                      | 8/12 [00:00<00:00, 131.39it/s]\u001b[A\n",
      "Validation DataLoader 0:  75%|█████████████████████████████████████████████████▌                | 9/12 [00:00<00:00, 132.64it/s]\u001b[A\n",
      "Validation DataLoader 0:  83%|██████████████████████████████████████████████████████▏          | 10/12 [00:00<00:00, 134.20it/s]\u001b[A\n",
      "Validation DataLoader 0:  92%|███████████████████████████████████████████████████████████▌     | 11/12 [00:00<00:00, 135.65it/s]\u001b[A\n",
      "Validation DataLoader 0: 100%|█████████████████████████████████████████████████████████████████| 12/12 [00:00<00:00, 136.29it/s]\u001b[A\n",
      "Epoch 171: 100%|█| 48/48 [00:02<00:00, 22.75it/s, v_num=25, train_loss=0.282, train_accuracy=0.925, val_loss=0.639, val_accuracy\u001b[A"
     ]
    },
    {
     "name": "stderr",
     "output_type": "stream",
     "text": [
      "Epoch 171, global step 8256: 'val_loss' was not in top 1\n"
     ]
    },
    {
     "name": "stdout",
     "output_type": "stream",
     "text": [
      "Epoch 172: 100%|█| 48/48 [00:01<00:00, 33.01it/s, v_num=25, train_loss=0.241, train_accuracy=0.900, val_loss=0.639, val_accuracy\n",
      "Validation: |                                                                                             | 0/? [00:00<?, ?it/s]\u001b[A\n",
      "Validation:   0%|                                                                                        | 0/12 [00:00<?, ?it/s]\u001b[A\n",
      "Validation DataLoader 0:   0%|                                                                           | 0/12 [00:00<?, ?it/s]\u001b[A\n",
      "Validation DataLoader 0:   8%|█████▌                                                            | 1/12 [00:00<00:00, 118.84it/s]\u001b[A\n",
      "Validation DataLoader 0:  17%|███████████                                                       | 2/12 [00:00<00:00, 126.13it/s]\u001b[A\n",
      "Validation DataLoader 0:  25%|████████████████▌                                                 | 3/12 [00:00<00:00, 131.91it/s]\u001b[A\n",
      "Validation DataLoader 0:  33%|██████████████████████                                            | 4/12 [00:00<00:00, 135.60it/s]\u001b[A\n",
      "Validation DataLoader 0:  42%|███████████████████████████▌                                      | 5/12 [00:00<00:00, 133.24it/s]\u001b[A\n",
      "Validation DataLoader 0:  50%|█████████████████████████████████                                 | 6/12 [00:00<00:00, 136.58it/s]\u001b[A\n",
      "Validation DataLoader 0:  58%|██████████████████████████████████████▌                           | 7/12 [00:00<00:00, 137.94it/s]\u001b[A\n",
      "Validation DataLoader 0:  67%|████████████████████████████████████████████                      | 8/12 [00:00<00:00, 139.40it/s]\u001b[A\n",
      "Validation DataLoader 0:  75%|█████████████████████████████████████████████████▌                | 9/12 [00:00<00:00, 142.04it/s]\u001b[A\n",
      "Validation DataLoader 0:  83%|██████████████████████████████████████████████████████▏          | 10/12 [00:00<00:00, 142.11it/s]\u001b[A\n",
      "Validation DataLoader 0:  92%|███████████████████████████████████████████████████████████▌     | 11/12 [00:00<00:00, 142.27it/s]\u001b[A\n",
      "Validation DataLoader 0: 100%|█████████████████████████████████████████████████████████████████| 12/12 [00:00<00:00, 142.23it/s]\u001b[A\n",
      "Epoch 172: 100%|█| 48/48 [00:02<00:00, 22.78it/s, v_num=25, train_loss=0.241, train_accuracy=0.900, val_loss=0.629, val_accuracy\u001b[A"
     ]
    },
    {
     "name": "stderr",
     "output_type": "stream",
     "text": [
      "Epoch 172, global step 8304: 'val_loss' was not in top 1\n"
     ]
    },
    {
     "name": "stdout",
     "output_type": "stream",
     "text": [
      "Epoch 173: 100%|█| 48/48 [00:01<00:00, 33.80it/s, v_num=25, train_loss=0.0751, train_accuracy=1.000, val_loss=0.629, val_accurac\n",
      "Validation: |                                                                                             | 0/? [00:00<?, ?it/s]\u001b[A\n",
      "Validation:   0%|                                                                                        | 0/12 [00:00<?, ?it/s]\u001b[A\n",
      "Validation DataLoader 0:   0%|                                                                           | 0/12 [00:00<?, ?it/s]\u001b[A\n",
      "Validation DataLoader 0:   8%|█████▌                                                            | 1/12 [00:00<00:00, 111.93it/s]\u001b[A\n",
      "Validation DataLoader 0:  17%|███████████                                                       | 2/12 [00:00<00:00, 123.10it/s]\u001b[A\n",
      "Validation DataLoader 0:  25%|████████████████▌                                                 | 3/12 [00:00<00:00, 133.26it/s]\u001b[A\n",
      "Validation DataLoader 0:  33%|██████████████████████                                            | 4/12 [00:00<00:00, 136.23it/s]\u001b[A\n",
      "Validation DataLoader 0:  42%|███████████████████████████▌                                      | 5/12 [00:00<00:00, 133.99it/s]\u001b[A\n",
      "Validation DataLoader 0:  50%|█████████████████████████████████                                 | 6/12 [00:00<00:00, 134.31it/s]\u001b[A\n",
      "Validation DataLoader 0:  58%|██████████████████████████████████████▌                           | 7/12 [00:00<00:00, 131.55it/s]\u001b[A\n",
      "Validation DataLoader 0:  67%|████████████████████████████████████████████                      | 8/12 [00:00<00:00, 133.99it/s]\u001b[A\n",
      "Validation DataLoader 0:  75%|█████████████████████████████████████████████████▌                | 9/12 [00:00<00:00, 133.79it/s]\u001b[A\n",
      "Validation DataLoader 0:  83%|██████████████████████████████████████████████████████▏          | 10/12 [00:00<00:00, 136.10it/s]\u001b[A\n",
      "Validation DataLoader 0:  92%|███████████████████████████████████████████████████████████▌     | 11/12 [00:00<00:00, 138.41it/s]\u001b[A\n",
      "Validation DataLoader 0: 100%|█████████████████████████████████████████████████████████████████| 12/12 [00:00<00:00, 139.74it/s]\u001b[A\n",
      "Epoch 173: 100%|█| 48/48 [00:02<00:00, 23.59it/s, v_num=25, train_loss=0.0751, train_accuracy=1.000, val_loss=0.611, val_accurac\u001b[A"
     ]
    },
    {
     "name": "stderr",
     "output_type": "stream",
     "text": [
      "Epoch 173, global step 8352: 'val_loss' was not in top 1\n"
     ]
    },
    {
     "name": "stdout",
     "output_type": "stream",
     "text": [
      "Epoch 174: 100%|█| 48/48 [00:01<00:00, 32.29it/s, v_num=25, train_loss=0.181, train_accuracy=0.950, val_loss=0.611, val_accuracy\n",
      "Validation: |                                                                                             | 0/? [00:00<?, ?it/s]\u001b[A\n",
      "Validation:   0%|                                                                                        | 0/12 [00:00<?, ?it/s]\u001b[A\n",
      "Validation DataLoader 0:   0%|                                                                           | 0/12 [00:00<?, ?it/s]\u001b[A\n",
      "Validation DataLoader 0:   8%|█████▌                                                            | 1/12 [00:00<00:00, 125.69it/s]\u001b[A\n",
      "Validation DataLoader 0:  17%|███████████                                                       | 2/12 [00:00<00:00, 125.12it/s]\u001b[A\n",
      "Validation DataLoader 0:  25%|████████████████▌                                                 | 3/12 [00:00<00:00, 130.99it/s]\u001b[A\n",
      "Validation DataLoader 0:  33%|██████████████████████                                            | 4/12 [00:00<00:00, 131.11it/s]\u001b[A\n",
      "Validation DataLoader 0:  42%|███████████████████████████▌                                      | 5/12 [00:00<00:00, 126.47it/s]\u001b[A\n",
      "Validation DataLoader 0:  50%|█████████████████████████████████                                 | 6/12 [00:00<00:00, 128.14it/s]\u001b[A\n",
      "Validation DataLoader 0:  58%|██████████████████████████████████████▌                           | 7/12 [00:00<00:00, 129.03it/s]\u001b[A\n",
      "Validation DataLoader 0:  67%|████████████████████████████████████████████                      | 8/12 [00:00<00:00, 130.05it/s]\u001b[A\n",
      "Validation DataLoader 0:  75%|█████████████████████████████████████████████████▌                | 9/12 [00:00<00:00, 132.99it/s]\u001b[A\n",
      "Validation DataLoader 0:  83%|██████████████████████████████████████████████████████▏          | 10/12 [00:00<00:00, 135.07it/s]\u001b[A\n",
      "Validation DataLoader 0:  92%|███████████████████████████████████████████████████████████▌     | 11/12 [00:00<00:00, 137.19it/s]\u001b[A\n",
      "Validation DataLoader 0: 100%|█████████████████████████████████████████████████████████████████| 12/12 [00:00<00:00, 138.97it/s]\u001b[A\n",
      "Epoch 174: 100%|█| 48/48 [00:02<00:00, 22.44it/s, v_num=25, train_loss=0.181, train_accuracy=0.950, val_loss=0.575, val_accuracy\u001b[A"
     ]
    },
    {
     "name": "stderr",
     "output_type": "stream",
     "text": [
      "Epoch 174, global step 8400: 'val_loss' was not in top 1\n"
     ]
    },
    {
     "name": "stdout",
     "output_type": "stream",
     "text": [
      "Epoch 175: 100%|█| 48/48 [00:01<00:00, 32.10it/s, v_num=25, train_loss=0.293, train_accuracy=0.900, val_loss=0.575, val_accuracy\n",
      "Validation: |                                                                                             | 0/? [00:00<?, ?it/s]\u001b[A\n",
      "Validation:   0%|                                                                                        | 0/12 [00:00<?, ?it/s]\u001b[A\n",
      "Validation DataLoader 0:   0%|                                                                           | 0/12 [00:00<?, ?it/s]\u001b[A\n",
      "Validation DataLoader 0:   8%|█████▌                                                            | 1/12 [00:00<00:00, 119.32it/s]\u001b[A\n",
      "Validation DataLoader 0:  17%|███████████                                                       | 2/12 [00:00<00:00, 101.65it/s]\u001b[A\n",
      "Validation DataLoader 0:  25%|████████████████▌                                                 | 3/12 [00:00<00:00, 115.01it/s]\u001b[A\n",
      "Validation DataLoader 0:  33%|██████████████████████                                            | 4/12 [00:00<00:00, 124.28it/s]\u001b[A\n",
      "Validation DataLoader 0:  42%|███████████████████████████▌                                      | 5/12 [00:00<00:00, 129.33it/s]\u001b[A\n",
      "Validation DataLoader 0:  50%|█████████████████████████████████                                 | 6/12 [00:00<00:00, 133.28it/s]\u001b[A\n",
      "Validation DataLoader 0:  58%|██████████████████████████████████████▌                           | 7/12 [00:00<00:00, 136.59it/s]\u001b[A\n",
      "Validation DataLoader 0:  67%|████████████████████████████████████████████                      | 8/12 [00:00<00:00, 139.08it/s]\u001b[A\n",
      "Validation DataLoader 0:  75%|█████████████████████████████████████████████████▌                | 9/12 [00:00<00:00, 141.00it/s]\u001b[A\n",
      "Validation DataLoader 0:  83%|██████████████████████████████████████████████████████▏          | 10/12 [00:00<00:00, 142.28it/s]\u001b[A\n",
      "Validation DataLoader 0:  92%|███████████████████████████████████████████████████████████▌     | 11/12 [00:00<00:00, 142.92it/s]\u001b[A\n",
      "Validation DataLoader 0: 100%|█████████████████████████████████████████████████████████████████| 12/12 [00:00<00:00, 144.95it/s]\u001b[A\n",
      "Epoch 175: 100%|█| 48/48 [00:02<00:00, 22.74it/s, v_num=25, train_loss=0.293, train_accuracy=0.900, val_loss=0.645, val_accuracy\u001b[A"
     ]
    },
    {
     "name": "stderr",
     "output_type": "stream",
     "text": [
      "Epoch 175, global step 8448: 'val_loss' was not in top 1\n"
     ]
    },
    {
     "name": "stdout",
     "output_type": "stream",
     "text": [
      "Epoch 176: 100%|█| 48/48 [00:01<00:00, 32.53it/s, v_num=25, train_loss=0.187, train_accuracy=0.925, val_loss=0.645, val_accuracy\n",
      "Validation: |                                                                                             | 0/? [00:00<?, ?it/s]\u001b[A\n",
      "Validation:   0%|                                                                                        | 0/12 [00:00<?, ?it/s]\u001b[A\n",
      "Validation DataLoader 0:   0%|                                                                           | 0/12 [00:00<?, ?it/s]\u001b[A\n",
      "Validation DataLoader 0:   8%|█████▌                                                            | 1/12 [00:00<00:00, 121.51it/s]\u001b[A\n",
      "Validation DataLoader 0:  17%|███████████                                                       | 2/12 [00:00<00:00, 130.28it/s]\u001b[A\n",
      "Validation DataLoader 0:  25%|████████████████▌                                                 | 3/12 [00:00<00:00, 116.04it/s]\u001b[A\n",
      "Validation DataLoader 0:  33%|██████████████████████                                            | 4/12 [00:00<00:00, 123.62it/s]\u001b[A\n",
      "Validation DataLoader 0:  42%|███████████████████████████▌                                      | 5/12 [00:00<00:00, 129.42it/s]\u001b[A\n",
      "Validation DataLoader 0:  50%|█████████████████████████████████                                 | 6/12 [00:00<00:00, 131.13it/s]\u001b[A\n",
      "Validation DataLoader 0:  58%|██████████████████████████████████████▌                           | 7/12 [00:00<00:00, 133.52it/s]\u001b[A\n",
      "Validation DataLoader 0:  67%|████████████████████████████████████████████                      | 8/12 [00:00<00:00, 135.31it/s]\u001b[A\n",
      "Validation DataLoader 0:  75%|█████████████████████████████████████████████████▌                | 9/12 [00:00<00:00, 136.16it/s]\u001b[A\n",
      "Validation DataLoader 0:  83%|██████████████████████████████████████████████████████▏          | 10/12 [00:00<00:00, 137.40it/s]\u001b[A\n",
      "Validation DataLoader 0:  92%|███████████████████████████████████████████████████████████▌     | 11/12 [00:00<00:00, 137.11it/s]\u001b[A\n",
      "Validation DataLoader 0: 100%|█████████████████████████████████████████████████████████████████| 12/12 [00:00<00:00, 138.65it/s]\u001b[A\n",
      "Epoch 176: 100%|█| 48/48 [00:02<00:00, 22.67it/s, v_num=25, train_loss=0.187, train_accuracy=0.925, val_loss=0.618, val_accuracy\u001b[A"
     ]
    },
    {
     "name": "stderr",
     "output_type": "stream",
     "text": [
      "Epoch 176, global step 8496: 'val_loss' was not in top 1\n"
     ]
    },
    {
     "name": "stdout",
     "output_type": "stream",
     "text": [
      "Epoch 177: 100%|█| 48/48 [00:01<00:00, 32.88it/s, v_num=25, train_loss=0.311, train_accuracy=0.950, val_loss=0.618, val_accuracy\n",
      "Validation: |                                                                                             | 0/? [00:00<?, ?it/s]\u001b[A\n",
      "Validation:   0%|                                                                                        | 0/12 [00:00<?, ?it/s]\u001b[A\n",
      "Validation DataLoader 0:   0%|                                                                           | 0/12 [00:00<?, ?it/s]\u001b[A\n",
      "Validation DataLoader 0:   8%|█████▌                                                            | 1/12 [00:00<00:00, 128.94it/s]\u001b[A\n",
      "Validation DataLoader 0:  17%|███████████                                                       | 2/12 [00:00<00:00, 113.74it/s]\u001b[A\n",
      "Validation DataLoader 0:  25%|████████████████▌                                                 | 3/12 [00:00<00:00, 125.23it/s]\u001b[A\n",
      "Validation DataLoader 0:  33%|██████████████████████                                            | 4/12 [00:00<00:00, 129.55it/s]\u001b[A\n",
      "Validation DataLoader 0:  42%|███████████████████████████▌                                      | 5/12 [00:00<00:00, 134.77it/s]\u001b[A\n",
      "Validation DataLoader 0:  50%|█████████████████████████████████                                 | 6/12 [00:00<00:00, 137.41it/s]\u001b[A\n",
      "Validation DataLoader 0:  58%|██████████████████████████████████████▌                           | 7/12 [00:00<00:00, 140.65it/s]\u001b[A\n",
      "Validation DataLoader 0:  67%|████████████████████████████████████████████                      | 8/12 [00:00<00:00, 143.00it/s]\u001b[A\n",
      "Validation DataLoader 0:  75%|█████████████████████████████████████████████████▌                | 9/12 [00:00<00:00, 143.21it/s]\u001b[A\n",
      "Validation DataLoader 0:  83%|██████████████████████████████████████████████████████▏          | 10/12 [00:00<00:00, 141.63it/s]\u001b[A\n",
      "Validation DataLoader 0:  92%|███████████████████████████████████████████████████████████▌     | 11/12 [00:00<00:00, 142.35it/s]\u001b[A\n",
      "Validation DataLoader 0: 100%|█████████████████████████████████████████████████████████████████| 12/12 [00:00<00:00, 144.03it/s]\u001b[A\n",
      "Epoch 177: 100%|█| 48/48 [00:02<00:00, 23.26it/s, v_num=25, train_loss=0.311, train_accuracy=0.950, val_loss=0.632, val_accuracy\u001b[A"
     ]
    },
    {
     "name": "stderr",
     "output_type": "stream",
     "text": [
      "Epoch 177, global step 8544: 'val_loss' was not in top 1\n"
     ]
    },
    {
     "name": "stdout",
     "output_type": "stream",
     "text": [
      "Epoch 178: 100%|█| 48/48 [00:01<00:00, 33.01it/s, v_num=25, train_loss=0.268, train_accuracy=0.850, val_loss=0.632, val_accuracy"
     ]
    },
    {
     "name": "stderr",
     "output_type": "stream",
     "text": [
      "/home/till/anaconda3/envs/advml/lib/python3.9/site-packages/pytorch_lightning/trainer/call.py:54: Detected KeyboardInterrupt, attempting graceful shutdown...\n",
      "Exception ignored in: <function _MultiProcessingDataLoaderIter.__del__ at 0x7f397a503160>\n",
      "Traceback (most recent call last):\n",
      "  File \"/home/till/anaconda3/envs/advml/lib/python3.9/site-packages/torch/utils/data/dataloader.py\", line 1479, in __del__\n",
      "    self._shutdown_workers()\n",
      "  File \"/home/till/anaconda3/envs/advml/lib/python3.9/site-packages/torch/utils/data/dataloader.py\", line 1437, in _shutdown_workers\n",
      "    if self._persistent_workers or self._workers_status[worker_id]:\n",
      "AttributeError: '_MultiProcessingDataLoaderIter' object has no attribute '_workers_status'\n"
     ]
    }
   ],
   "source": [
    "trainer.fit(model, data_module)"
   ]
  },
  {
   "cell_type": "code",
   "execution_count": 273,
   "metadata": {},
   "outputs": [
    {
     "name": "stderr",
     "output_type": "stream",
     "text": [
      "/home/till/anaconda3/envs/advml/lib/python3.9/site-packages/pytorch_lightning/trainer/connectors/checkpoint_connector.py:145: `.test(ckpt_path=None)` was called without a model. The best model of the previous `fit` call will be used. You can pass `.test(ckpt_path='best')` to use the best model or `.test(ckpt_path='last')` to use the last model. If you pass a value, this warning will be silenced.\n",
      "Restoring states from the checkpoint path at /home/till/Desktop/ds4w-user-identification/checkpoints/best-checkpoint-v24.ckpt\n",
      "LOCAL_RANK: 0 - CUDA_VISIBLE_DEVICES: [0]\n",
      "Loaded model weights from the checkpoint at /home/till/Desktop/ds4w-user-identification/checkpoints/best-checkpoint-v24.ckpt\n"
     ]
    },
    {
     "name": "stdout",
     "output_type": "stream",
     "text": [
      "Testing DataLoader 0: 100%|████████████████████████████████████████████████████████████████████| 12/12 [00:00<00:00, 136.17it/s]\n",
      "────────────────────────────────────────────────────────────────────────────────────────────────────────────────────────\n",
      "       Test metric             DataLoader 0\n",
      "────────────────────────────────────────────────────────────────────────────────────────────────────────────────────────\n",
      "      test_accuracy         0.7952755689620972\n",
      "        test_loss           0.5665631890296936\n",
      "────────────────────────────────────────────────────────────────────────────────────────────────────────────────────────\n"
     ]
    },
    {
     "data": {
      "text/plain": [
       "[{'test_loss': 0.5665631890296936, 'test_accuracy': 0.7952755689620972}]"
      ]
     },
     "execution_count": 273,
     "metadata": {},
     "output_type": "execute_result"
    }
   ],
   "source": [
    "trainer.test(datamodule=data_module)"
   ]
  },
  {
   "cell_type": "code",
   "execution_count": 274,
   "metadata": {},
   "outputs": [],
   "source": [
    "trained_model = SurfacePredictor.load_from_checkpoint(\n",
    "  trainer.checkpoint_callback.best_model_path,\n",
    "  n_features=len(FEATURE_COLUMNS),\n",
    "  n_classes=len(label_encoder.classes_)\n",
    ")\n",
    "trained_model.eval()\n",
    "trained_model.freeze()"
   ]
  },
  {
   "cell_type": "code",
   "execution_count": 275,
   "metadata": {},
   "outputs": [],
   "source": [
    "from tqdm.notebook import tqdm \n",
    "test_dataset = SurfaceDataset(test_sequences)\n",
    "\n",
    "predictions = []\n",
    "labels = []\n",
    "\n",
    "for item in test_dataset: # tqdm\n",
    "  sequence = item[\"sequence\"]\n",
    "  label = item[\"labels\"]\n",
    "\n",
    "  _, output = trained_model(sequence.unsqueeze(dim=0).to(device))\n",
    "  prediction = torch.argmax(output, dim=1)\n",
    "  predictions.append(prediction.item())\n",
    "  labels.append(label.item())"
   ]
  },
  {
   "cell_type": "code",
   "execution_count": 276,
   "metadata": {},
   "outputs": [
    {
     "name": "stdout",
     "output_type": "stream",
     "text": [
      "                        precision    recall  f1-score   support\n",
      "\n",
      "                carpet       0.74      0.68      0.71        47\n",
      "              concrete       0.83      0.81      0.82       172\n",
      "         fine_concrete       0.61      0.68      0.64        65\n",
      "            hard_tiles       1.00      0.80      0.89         5\n",
      "hard_tiles_large_space       0.96      0.68      0.80        63\n",
      "              soft_pvc       0.88      0.85      0.86       141\n",
      "            soft_tiles       0.90      0.90      0.90        63\n",
      "                 tiled       0.79      0.76      0.78        89\n",
      "                  wood       0.68      0.85      0.76       117\n",
      "\n",
      "              accuracy                           0.80       762\n",
      "             macro avg       0.82      0.78      0.80       762\n",
      "          weighted avg       0.81      0.80      0.80       762\n",
      "\n"
     ]
    }
   ],
   "source": [
    "print(\n",
    "    classification_report(labels, predictions, target_names=label_encoder.classes_ )\n",
    ")"
   ]
  },
  {
   "cell_type": "code",
   "execution_count": 277,
   "metadata": {},
   "outputs": [],
   "source": [
    "def show_confusion_matrix(confusion_matrix):\n",
    "  hmap = sns.heatmap(confusion_matrix, annot=True, fmt=\"d\", cmap=\"Blues\")\n",
    "  hmap.yaxis.set_ticklabels(hmap.yaxis.get_ticklabels(), rotation=0, ha='right')\n",
    "  hmap.xaxis.set_ticklabels(hmap.xaxis.get_ticklabels(), rotation=30, ha='right')\n",
    "  plt.ylabel('True surface')\n",
    "  plt.xlabel('Predicted surface')"
   ]
  },
  {
   "cell_type": "code",
   "execution_count": 278,
   "metadata": {},
   "outputs": [
    {
     "data": {
      "text/html": [
       "<div>\n",
       "<style scoped>\n",
       "    .dataframe tbody tr th:only-of-type {\n",
       "        vertical-align: middle;\n",
       "    }\n",
       "\n",
       "    .dataframe tbody tr th {\n",
       "        vertical-align: top;\n",
       "    }\n",
       "\n",
       "    .dataframe thead th {\n",
       "        text-align: right;\n",
       "    }\n",
       "</style>\n",
       "<table border=\"1\" class=\"dataframe\">\n",
       "  <thead>\n",
       "    <tr style=\"text-align: right;\">\n",
       "      <th></th>\n",
       "      <th>carpet</th>\n",
       "      <th>concrete</th>\n",
       "      <th>fine_concrete</th>\n",
       "      <th>hard_tiles</th>\n",
       "      <th>hard_tiles_large_space</th>\n",
       "      <th>soft_pvc</th>\n",
       "      <th>soft_tiles</th>\n",
       "      <th>tiled</th>\n",
       "      <th>wood</th>\n",
       "    </tr>\n",
       "  </thead>\n",
       "  <tbody>\n",
       "    <tr>\n",
       "      <th>carpet</th>\n",
       "      <td>32</td>\n",
       "      <td>7</td>\n",
       "      <td>2</td>\n",
       "      <td>0</td>\n",
       "      <td>0</td>\n",
       "      <td>1</td>\n",
       "      <td>0</td>\n",
       "      <td>0</td>\n",
       "      <td>5</td>\n",
       "    </tr>\n",
       "    <tr>\n",
       "      <th>concrete</th>\n",
       "      <td>3</td>\n",
       "      <td>139</td>\n",
       "      <td>5</td>\n",
       "      <td>0</td>\n",
       "      <td>1</td>\n",
       "      <td>8</td>\n",
       "      <td>1</td>\n",
       "      <td>9</td>\n",
       "      <td>6</td>\n",
       "    </tr>\n",
       "    <tr>\n",
       "      <th>fine_concrete</th>\n",
       "      <td>0</td>\n",
       "      <td>9</td>\n",
       "      <td>44</td>\n",
       "      <td>0</td>\n",
       "      <td>0</td>\n",
       "      <td>3</td>\n",
       "      <td>0</td>\n",
       "      <td>0</td>\n",
       "      <td>9</td>\n",
       "    </tr>\n",
       "    <tr>\n",
       "      <th>hard_tiles</th>\n",
       "      <td>0</td>\n",
       "      <td>0</td>\n",
       "      <td>0</td>\n",
       "      <td>4</td>\n",
       "      <td>0</td>\n",
       "      <td>0</td>\n",
       "      <td>0</td>\n",
       "      <td>0</td>\n",
       "      <td>1</td>\n",
       "    </tr>\n",
       "    <tr>\n",
       "      <th>hard_tiles_large_space</th>\n",
       "      <td>5</td>\n",
       "      <td>1</td>\n",
       "      <td>10</td>\n",
       "      <td>0</td>\n",
       "      <td>43</td>\n",
       "      <td>0</td>\n",
       "      <td>1</td>\n",
       "      <td>0</td>\n",
       "      <td>3</td>\n",
       "    </tr>\n",
       "    <tr>\n",
       "      <th>soft_pvc</th>\n",
       "      <td>0</td>\n",
       "      <td>4</td>\n",
       "      <td>2</td>\n",
       "      <td>0</td>\n",
       "      <td>0</td>\n",
       "      <td>120</td>\n",
       "      <td>4</td>\n",
       "      <td>0</td>\n",
       "      <td>11</td>\n",
       "    </tr>\n",
       "    <tr>\n",
       "      <th>soft_tiles</th>\n",
       "      <td>0</td>\n",
       "      <td>0</td>\n",
       "      <td>0</td>\n",
       "      <td>0</td>\n",
       "      <td>0</td>\n",
       "      <td>0</td>\n",
       "      <td>57</td>\n",
       "      <td>4</td>\n",
       "      <td>2</td>\n",
       "    </tr>\n",
       "    <tr>\n",
       "      <th>tiled</th>\n",
       "      <td>1</td>\n",
       "      <td>7</td>\n",
       "      <td>2</td>\n",
       "      <td>0</td>\n",
       "      <td>0</td>\n",
       "      <td>2</td>\n",
       "      <td>0</td>\n",
       "      <td>68</td>\n",
       "      <td>9</td>\n",
       "    </tr>\n",
       "    <tr>\n",
       "      <th>wood</th>\n",
       "      <td>2</td>\n",
       "      <td>0</td>\n",
       "      <td>7</td>\n",
       "      <td>0</td>\n",
       "      <td>1</td>\n",
       "      <td>3</td>\n",
       "      <td>0</td>\n",
       "      <td>5</td>\n",
       "      <td>99</td>\n",
       "    </tr>\n",
       "  </tbody>\n",
       "</table>\n",
       "</div>"
      ],
      "text/plain": [
       "                        carpet  concrete  fine_concrete  hard_tiles  \\\n",
       "carpet                      32         7              2           0   \n",
       "concrete                     3       139              5           0   \n",
       "fine_concrete                0         9             44           0   \n",
       "hard_tiles                   0         0              0           4   \n",
       "hard_tiles_large_space       5         1             10           0   \n",
       "soft_pvc                     0         4              2           0   \n",
       "soft_tiles                   0         0              0           0   \n",
       "tiled                        1         7              2           0   \n",
       "wood                         2         0              7           0   \n",
       "\n",
       "                        hard_tiles_large_space  soft_pvc  soft_tiles  tiled  \\\n",
       "carpet                                       0         1           0      0   \n",
       "concrete                                     1         8           1      9   \n",
       "fine_concrete                                0         3           0      0   \n",
       "hard_tiles                                   0         0           0      0   \n",
       "hard_tiles_large_space                      43         0           1      0   \n",
       "soft_pvc                                     0       120           4      0   \n",
       "soft_tiles                                   0         0          57      4   \n",
       "tiled                                        0         2           0     68   \n",
       "wood                                         1         3           0      5   \n",
       "\n",
       "                        wood  \n",
       "carpet                     5  \n",
       "concrete                   6  \n",
       "fine_concrete              9  \n",
       "hard_tiles                 1  \n",
       "hard_tiles_large_space     3  \n",
       "soft_pvc                  11  \n",
       "soft_tiles                 2  \n",
       "tiled                      9  \n",
       "wood                      99  "
      ]
     },
     "execution_count": 278,
     "metadata": {},
     "output_type": "execute_result"
    }
   ],
   "source": [
    "cm = confusion_matrix(labels, predictions)\n",
    "df_cm = pd.DataFrame(\n",
    "    cm, index=label_encoder.classes_, columns=label_encoder.classes_\n",
    ")\n",
    "df_cm"
   ]
  },
  {
   "cell_type": "code",
   "execution_count": 279,
   "metadata": {},
   "outputs": [
    {
     "data": {
      "image/png": "[encoded data removed]",
      "text/plain": [
       "<Figure size 1000x800 with 2 Axes>"
      ]
     },
     "metadata": {
      "image/png": {
       "height": 905,
       "width": 1003
      }
     },
     "output_type": "display_data"
    }
   ],
   "source": [
    "plt.figure(figsize=(10, 8))\n",
    "sns.heatmap(df_cm, annot=True, cmap='Blues', fmt='g')\n",
    "\n",
    "plt.xlabel('Predicted Labels')\n",
    "plt.ylabel('True Labels')\n",
    "plt.title('Confusion Matrix')\n",
    "plt.show()"
   ]
  },
  {
   "cell_type": "code",
   "execution_count": null,
   "metadata": {},
   "outputs": [],
   "source": []
  }
 ],
 "metadata": {
  "kernelspec": {
   "display_name": "wearables",
   "language": "python",
   "name": "python3"
  },
  "language_info": {
   "codemirror_mode": {
    "name": "ipython",
    "version": 3
   },
   "file_extension": ".py",
   "mimetype": "text/x-python",
   "name": "python",
   "nbconvert_exporter": "python",
   "pygments_lexer": "ipython3",
   "version": "3.12.3"
  }
 },
 "nbformat": 4,
 "nbformat_minor": 4
}
