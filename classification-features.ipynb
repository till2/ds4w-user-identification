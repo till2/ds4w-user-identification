{
 "cells": [
  {
   "cell_type": "code",
   "execution_count": 144,
   "metadata": {},
   "outputs": [],
   "source": [
    "import pandas as pd\n",
    "import os\n",
    "from scipy import stats\n",
    "import matplotlib.pyplot as plt\n",
    "import seaborn as sns\n",
    "from ipywidgets import interact\n",
    "import plotly.graph_objects as go\n",
    "import ruptures as rpt\n",
    "from itertools import combinations as comb\n",
    "from statsmodels.stats import power\n",
    "import numpy as np\n",
    "from scipy import stats\n",
    "from scipy.signal import find_peaks\n",
    "\n",
    "\n",
    "import xgboost as xgb\n",
    "from sklearn.model_selection import train_test_split\n",
    "from sklearn.metrics import accuracy_score, classification_report\n",
    "from scipy.spatial.distance import cdist\n",
    "import colorsys\n",
    "\n",
    "from sklearn.preprocessing import StandardScaler\n",
    "from sklearn.linear_model import LogisticRegression\n",
    "from sklearn.metrics import accuracy_score\n",
    "from sklearn.metrics import classification_report\n",
    "from sklearn.metrics import confusion_matrix\n",
    "import warnings\n",
    "warnings.filterwarnings('ignore')"
   ]
  },
  {
   "cell_type": "code",
   "execution_count": 2,
   "metadata": {},
   "outputs": [],
   "source": [
    "folder_path = 'data'\n",
    "def read_data(filename):\n",
    "    accelerometer = pd.read_csv(os.path.join(folder_path, filename, 'Accelerometer.csv'),sep=';')\n",
    "    accelerometer['Time (s)'] = pd.to_datetime(accelerometer['Time (s)'], unit='s')\n",
    "    accelerometer =accelerometer.set_index('Time (s)')\n",
    "    accelerometer = accelerometer.resample('2.5ms').mean()\n",
    "    accelerometer.rename(columns={'Acceleration x (m/s^2)':'accelerometer_x','Acceleration y (m/s^2)':'accelerometer_y','Acceleration z (m/s^2)':'accelerometer_z'}, inplace=True)\n",
    "    accelerometer =accelerometer[9000:-9000]\n",
    "    accelerometer.reset_index(inplace=True)\n",
    "\n",
    "    \"\"\"\n",
    "    gyroscope = pd.read_csv(os.path.join(folder_path, filename,'Gyroscope.csv'),sep=';')\n",
    "    gyroscope['Time (s)'] = pd.to_datetime(gyroscope['Time (s)'], unit='s')\n",
    "    gyroscope =gyroscope.set_index('Time (s)')\n",
    "    gyroscope = gyroscope.resample('2.5ms').mean()\n",
    "    gyroscope.rename(columns={'Gyroscope x (rad/s)':'gyroscope_x','Gyroscope y (rad/s)':'gyroscope_y','Gyroscope z (rad/s)':'gyroscope_z'}, inplace=True)\n",
    "    gyroscope = gyroscope[9000:-9000]\n",
    "    gyroscope.reset_index(inplace=True)\n",
    "    merged = pd.merge(accelerometer,gyroscope, on= 'Time (s)', how='inner')\n",
    "    return merged\n",
    "    \"\"\"\n",
    "    return accelerometer"
   ]
  },
  {
   "cell_type": "code",
   "execution_count": 3,
   "metadata": {},
   "outputs": [],
   "source": [
    "# regex to delete the number at the end of the string:\n",
    "def delete_number(string):\n",
    "    return ''.join([i for i in string if not i.isdigit()])"
   ]
  },
  {
   "cell_type": "code",
   "execution_count": 109,
   "metadata": {},
   "outputs": [],
   "source": [
    "data_dict = {}\n",
    "name_to_idx = {} # name -> idx\n",
    "i = 0\n",
    "\n",
    "for name in os.listdir(folder_path):\n",
    "    data_dict[name] = read_data(name)\n",
    "    data_dict[name].set_index('Time (s)', inplace=True)\n",
    "    data_dict[name].interpolate(inplace=True, method=\"time\")\n",
    "\n",
    "    # add label\n",
    "    if delete_number(name) not in name_to_idx.keys():\n",
    "        name_to_idx[delete_number(name)] = i\n",
    "        i+=1"
   ]
  },
  {
   "cell_type": "code",
   "execution_count": 112,
   "metadata": {},
   "outputs": [],
   "source": [
    "def add_feature(axis_list, axis, X_train, appendix=\"\"):\n",
    "    #mean\n",
    "    X_train[axis+'_mean'+appendix] = pd.Series(axis_list).apply(lambda x: x.mean())\n",
    "    #std dev\n",
    "    X_train[axis+'_std'+appendix] = pd.Series(axis_list).apply(lambda x: x.std())\n",
    "    #avg absolute difference\n",
    "    X_train[axis+'_aad'+appendix] = pd.Series(axis_list).apply(lambda x: np.mean(np.absolute(x - np.mean(x))))\n",
    "    #min\n",
    "    X_train[axis+'_min'+appendix] = pd.Series(axis_list).apply(lambda x: x.min())\n",
    "    #max\n",
    "    X_train[axis+'_max'+appendix] = pd.Series(axis_list).apply(lambda x: x.max())\n",
    "    #max-min diff\n",
    "    X_train[axis+'_maxmin_diff'+appendix] = X_train[axis+'_max'+appendix] - X_train[axis+'_min'+appendix]\n",
    "    #median\n",
    "    X_train[axis+'_median'+appendix] = pd.Series(axis_list).apply(lambda x: np.median(x))\n",
    "    #median absolut deviation\n",
    "    X_train[axis+'_mad'+appendix] = pd.Series(axis_list).apply(lambda x: np.median(np.absolute(x - np.median(x))))\n",
    "    #interquartile range\n",
    "    X_train[axis+'_IQR'+appendix] = pd.Series(axis_list).apply(lambda x: np.percentile(x, 75) - np.percentile(x, 25))\n",
    "\n",
    "    if appendix != \"_fft\":\n",
    "        #negative count\n",
    "        X_train[axis+'_neg_count'+appendix] = pd.Series(axis_list).apply(lambda x: np.sum(x < 0))\n",
    "        #positive count\n",
    "        X_train[axis+'_pos_count'+appendix] = pd.Series(axis_list).apply(lambda x: np.sum(x > 0))\n",
    "    \n",
    "    #values above mean\n",
    "    X_train[axis+'_above_mean'+appendix] = pd.Series(axis_list).apply(lambda x: np.sum(x > x.mean()))\n",
    "    #number of peaks\n",
    "    X_train[axis+'_peak_count'+appendix] = pd.Series(axis_list).apply(lambda x: len(find_peaks(x)[0]))\n",
    "    #skewness\n",
    "    X_train[axis+'_skewness'+appendix] = pd.Series(axis_list).apply(lambda x: stats.skew(x))\n",
    "    #kurtosis\n",
    "    X_train[axis+'_kurtosis'+appendix] = pd.Series(axis_list).apply(lambda x: stats.kurtosis(x))\n",
    "    # energy\n",
    "    X_train[axis+'_energy'+appendix] = pd.Series(axis_list).apply(lambda x: np.sum(x**2)/100)\n",
    "\n",
    "    return X_train"
   ]
  },
  {
   "cell_type": "code",
   "execution_count": 113,
   "metadata": {},
   "outputs": [],
   "source": [
    "verification_keys = [\"nick2\", \"till2\", \"uta2\", \"paula2\"]"
   ]
  },
  {
   "cell_type": "code",
   "execution_count": 114,
   "metadata": {},
   "outputs": [
    {
     "data": {
      "text/plain": [
       "{'chris': 0,\n",
       " 'felix': 1,\n",
       " 'katarina': 2,\n",
       " 'lucas': 3,\n",
       " 'luisa': 4,\n",
       " 'nele': 5,\n",
       " 'nick': 6,\n",
       " 'paula': 7,\n",
       " 'till': 8,\n",
       " 'uta': 9}"
      ]
     },
     "execution_count": 114,
     "metadata": {},
     "output_type": "execute_result"
    }
   ],
   "source": [
    "name_to_idx"
   ]
  },
  {
   "cell_type": "code",
   "execution_count": 116,
   "metadata": {},
   "outputs": [],
   "source": [
    "x_list = []\n",
    "y_list = []\n",
    "z_list = []\n",
    "train_labels = []\n",
    "x_test_list = []\n",
    "y_test_list = []\n",
    "z_test_list = []\n",
    "test_labels = []\n",
    "x_ver_list = []\n",
    "y_ver_list = []\n",
    "z_ver_list = []\n",
    "ver_labels = []\n",
    "\n",
    "window_size = 400\n",
    "step_size = 200\n",
    "\n",
    "# creating overlaping windows of size window-size 100\n",
    "for name, df_train in data_dict.items():\n",
    "    label = name_to_idx[delete_number(name)]\n",
    "    if name in verification_keys:\n",
    "        for i in range(0, df_train.shape[0] - window_size, step_size):\n",
    "            xs = df_train['accelerometer_x'].values[i: i + window_size]\n",
    "            ys = df_train['accelerometer_y'].values[i: i + window_size]\n",
    "            zs = df_train['accelerometer_z'].values[i: i + window_size]\n",
    "            x_ver_list.append(xs)\n",
    "            y_ver_list.append(ys)\n",
    "            z_ver_list.append(zs)\n",
    "            ver_labels.append(label)\n",
    "\n",
    "    else:\n",
    "        for i in range(0, int(df_train.shape[0]*0.8) - window_size, step_size):\n",
    "            xs = df_train['accelerometer_x'].values[i: i + window_size]\n",
    "            ys = df_train['accelerometer_y'].values[i: i + window_size]\n",
    "            zs = df_train['accelerometer_z'].values[i: i + window_size]\n",
    "            #label = stats.mode(df_train['label'][i: i + window_size])[0][0]\n",
    "        \n",
    "            x_list.append(xs)\n",
    "            y_list.append(ys)\n",
    "            z_list.append(zs)\n",
    "            train_labels.append(label)\n",
    "    \n",
    "        for i in range(int(df_train.shape[0]*0.8), df_train.shape[0] - window_size, step_size):\n",
    "            xs = df_train['accelerometer_x'].values[i: i + window_size]\n",
    "            ys = df_train['accelerometer_y'].values[i: i + window_size]\n",
    "            zs = df_train['accelerometer_z'].values[i: i + window_size]\n",
    "            #label = stats.mode(df_train['label'][i: i + window_size])[0][0]\n",
    "        \n",
    "            x_test_list.append(xs)\n",
    "            y_test_list.append(ys)\n",
    "            z_test_list.append(zs)\n",
    "            test_labels.append(label)\n",
    "\n",
    "\n",
    "##     ##\n",
    "# Train #\n",
    "##     ##\n",
    "X_train = pd.DataFrame()\n",
    "X_train = add_feature(x_list, 'x', X_train)\n",
    "X_train = add_feature(y_list, 'y', X_train)\n",
    "X_train = add_feature(z_list, 'z', X_train)\n",
    "# avg resultant\n",
    "X_train['avg_result_accl'] = [i.mean() for i in ((pd.Series(x_list)**2 + pd.Series(y_list)**2 + pd.Series(z_list)**2)**0.5)]\n",
    "# signal magnitude area\n",
    "X_train['sma'] = pd.Series(x_list).apply(lambda x: np.sum(abs(x)/100)) + pd.Series(y_list).apply(lambda x: np.sum(abs(x)/100)) \\\n",
    "                + pd.Series(z_list).apply(lambda x: np.sum(abs(x)/100))\n",
    "#FFT\n",
    "x_fft_list = pd.Series(x_list).apply(lambda x: np.abs(np.fft.fft(x))[1:window_size//2+1])\n",
    "y_fft_list = pd.Series(y_list).apply(lambda x: np.abs(np.fft.fft(x))[1:window_size//2+1])\n",
    "z_fft_list = pd.Series(z_list).apply(lambda x: np.abs(np.fft.fft(x))[1:window_size//2+1])\n",
    "X_train = add_feature(x_fft_list, 'x', X_train, \"_fft\")\n",
    "X_train = add_feature(y_fft_list, 'y', X_train, \"_fft\")\n",
    "X_train = add_feature(z_fft_list, 'z', X_train, \"_fft\")\n",
    "# FFT avg resultant\n",
    "X_train['avg_result_accl_fft'] = [i.mean() for i in ((pd.Series(x_fft_list)**2 + pd.Series(y_fft_list)**2 + pd.Series(z_fft_list)**2)**0.5)]\n",
    "\n",
    "# FFT Signal magnitude area\n",
    "X_train['sma_fft'] = pd.Series(x_fft_list).apply(lambda x: np.sum(abs(x)/50)) + pd.Series(y_fft_list).apply(lambda x: np.sum(abs(x)/50)) \\\n",
    "                     + pd.Series(z_fft_list).apply(lambda x: np.sum(abs(x)/50))\n",
    "\n",
    "##    ##\n",
    "# Test #\n",
    "##    ##\n",
    "X_test = pd.DataFrame()\n",
    "X_test = add_feature(x_test_list, 'x', X_test)\n",
    "X_test = add_feature(y_test_list, 'y', X_test)\n",
    "X_test = add_feature(z_test_list, 'z', X_test)\n",
    "# avg resultant\n",
    "X_test['avg_result_accl'] = [i.mean() for i in ((pd.Series(x_test_list)**2 + pd.Series(y_test_list)**2 + pd.Series(z_test_list)**2)**0.5)]\n",
    "# signal magnitude area\n",
    "X_test['sma'] = pd.Series(x_test_list).apply(lambda x: np.sum(abs(x)/100)) + pd.Series(y_test_list).apply(lambda x: np.sum(abs(x)/100)) \\\n",
    "              + pd.Series(z_test_list).apply(lambda x: np.sum(abs(x)/100))\n",
    "#FFT\n",
    "x_test_fft_list = pd.Series(x_test_list).apply(lambda x: np.abs(np.fft.fft(x))[1:window_size//2+1])\n",
    "y_test_fft_list = pd.Series(y_test_list).apply(lambda x: np.abs(np.fft.fft(x))[1:window_size//2+1])\n",
    "z_test_fft_list = pd.Series(z_test_list).apply(lambda x: np.abs(np.fft.fft(x))[1:window_size//2+1])\n",
    "X_test = add_feature(x_test_fft_list, 'x', X_test, \"_fft\")\n",
    "X_test = add_feature(y_test_fft_list, 'y', X_test, \"_fft\")\n",
    "X_test = add_feature(z_test_fft_list, 'z', X_test, \"_fft\")\n",
    "# FFT avg resultant\n",
    "X_test['avg_result_accl_fft'] = [i.mean() for i in ((pd.Series(x_test_fft_list)**2 + pd.Series(y_test_fft_list)**2 + pd.Series(z_test_fft_list)**2)**0.5)]\n",
    "\n",
    "# FFT Signal magnitude area\n",
    "X_test['sma_fft'] = pd.Series(x_test_fft_list).apply(lambda x: np.sum(abs(x)/50)) + pd.Series(y_test_fft_list).apply(lambda x: np.sum(abs(x)/50)) \\\n",
    "                     + pd.Series(z_test_fft_list).apply(lambda x: np.sum(abs(x)/50))\n",
    "\n",
    "##   ##\n",
    "# Ver #\n",
    "##   ##\n",
    "X_ver = pd.DataFrame()\n",
    "X_ver = add_feature(x_ver_list, 'x', X_ver)\n",
    "X_ver = add_feature(y_ver_list, 'y', X_ver)\n",
    "X_ver = add_feature(z_ver_list, 'z', X_ver)\n",
    "# avg resultant\n",
    "X_ver['avg_result_accl'] = [i.mean() for i in ((pd.Series(x_ver_list)**2 + pd.Series(y_ver_list)**2 + pd.Series(z_ver_list)**2)**0.5)]\n",
    "# signal magnitude area\n",
    "X_ver['sma'] = pd.Series(x_ver_list).apply(lambda x: np.sum(abs(x)/100)) + pd.Series(y_ver_list).apply(lambda x: np.sum(abs(x)/100)) \\\n",
    "             + pd.Series(z_ver_list).apply(lambda x: np.sum(abs(x)/100))\n",
    "#FFT\n",
    "x_ver_fft_list = pd.Series(x_ver_list).apply(lambda x: np.abs(np.fft.fft(x))[1:window_size//2+1])\n",
    "y_ver_fft_list = pd.Series(y_ver_list).apply(lambda x: np.abs(np.fft.fft(x))[1:window_size//2+1])\n",
    "z_ver_fft_list = pd.Series(z_ver_list).apply(lambda x: np.abs(np.fft.fft(x))[1:window_size//2+1])\n",
    "X_ver = add_feature(x_ver_fft_list, 'x', X_ver, \"_fft\")\n",
    "X_ver = add_feature(y_ver_fft_list, 'y', X_ver, \"_fft\")\n",
    "X_ver = add_feature(z_ver_fft_list, 'z', X_ver, \"_fft\")\n",
    "# FFT avg resultant\n",
    "X_ver['avg_result_accl_fft'] = [i.mean() for i in ((pd.Series(x_ver_fft_list)**2 + pd.Series(y_ver_fft_list)**2 + pd.Series(z_ver_fft_list)**2)**0.5)]\n",
    "\n",
    "# FFT Signal magnitude area\n",
    "X_ver['sma_fft'] = pd.Series(x_ver_fft_list).apply(lambda x: np.sum(abs(x)/50)) + pd.Series(y_ver_fft_list).apply(lambda x: np.sum(abs(x)/50)) \\\n",
    "                     + pd.Series(z_ver_fft_list).apply(lambda x: np.sum(abs(x)/50))\n",
    "\n"
   ]
  },
  {
   "cell_type": "code",
   "execution_count": 117,
   "metadata": {},
   "outputs": [],
   "source": [
    "y_train = np.array(train_labels)\n",
    "y_test = np.array(test_labels)\n",
    "y_ver = np.array(ver_labels)"
   ]
  },
  {
   "cell_type": "markdown",
   "metadata": {},
   "source": [
    "## XGBoost"
   ]
  },
  {
   "cell_type": "code",
   "execution_count": 118,
   "metadata": {},
   "outputs": [
    {
     "data": {
      "text/html": [
       "<style>#sk-container-id-3 {color: black;}#sk-container-id-3 pre{padding: 0;}#sk-container-id-3 div.sk-toggleable {background-color: white;}#sk-container-id-3 label.sk-toggleable__label {cursor: pointer;display: block;width: 100%;margin-bottom: 0;padding: 0.3em;box-sizing: border-box;text-align: center;}#sk-container-id-3 label.sk-toggleable__label-arrow:before {content: \"▸\";float: left;margin-right: 0.25em;color: #696969;}#sk-container-id-3 label.sk-toggleable__label-arrow:hover:before {color: black;}#sk-container-id-3 div.sk-estimator:hover label.sk-toggleable__label-arrow:before {color: black;}#sk-container-id-3 div.sk-toggleable__content {max-height: 0;max-width: 0;overflow: hidden;text-align: left;background-color: #f0f8ff;}#sk-container-id-3 div.sk-toggleable__content pre {margin: 0.2em;color: black;border-radius: 0.25em;background-color: #f0f8ff;}#sk-container-id-3 input.sk-toggleable__control:checked~div.sk-toggleable__content {max-height: 200px;max-width: 100%;overflow: auto;}#sk-container-id-3 input.sk-toggleable__control:checked~label.sk-toggleable__label-arrow:before {content: \"▾\";}#sk-container-id-3 div.sk-estimator input.sk-toggleable__control:checked~label.sk-toggleable__label {background-color: #d4ebff;}#sk-container-id-3 div.sk-label input.sk-toggleable__control:checked~label.sk-toggleable__label {background-color: #d4ebff;}#sk-container-id-3 input.sk-hidden--visually {border: 0;clip: rect(1px 1px 1px 1px);clip: rect(1px, 1px, 1px, 1px);height: 1px;margin: -1px;overflow: hidden;padding: 0;position: absolute;width: 1px;}#sk-container-id-3 div.sk-estimator {font-family: monospace;background-color: #f0f8ff;border: 1px dotted black;border-radius: 0.25em;box-sizing: border-box;margin-bottom: 0.5em;}#sk-container-id-3 div.sk-estimator:hover {background-color: #d4ebff;}#sk-container-id-3 div.sk-parallel-item::after {content: \"\";width: 100%;border-bottom: 1px solid gray;flex-grow: 1;}#sk-container-id-3 div.sk-label:hover label.sk-toggleable__label {background-color: #d4ebff;}#sk-container-id-3 div.sk-serial::before {content: \"\";position: absolute;border-left: 1px solid gray;box-sizing: border-box;top: 0;bottom: 0;left: 50%;z-index: 0;}#sk-container-id-3 div.sk-serial {display: flex;flex-direction: column;align-items: center;background-color: white;padding-right: 0.2em;padding-left: 0.2em;position: relative;}#sk-container-id-3 div.sk-item {position: relative;z-index: 1;}#sk-container-id-3 div.sk-parallel {display: flex;align-items: stretch;justify-content: center;background-color: white;position: relative;}#sk-container-id-3 div.sk-item::before, #sk-container-id-3 div.sk-parallel-item::before {content: \"\";position: absolute;border-left: 1px solid gray;box-sizing: border-box;top: 0;bottom: 0;left: 50%;z-index: -1;}#sk-container-id-3 div.sk-parallel-item {display: flex;flex-direction: column;z-index: 1;position: relative;background-color: white;}#sk-container-id-3 div.sk-parallel-item:first-child::after {align-self: flex-end;width: 50%;}#sk-container-id-3 div.sk-parallel-item:last-child::after {align-self: flex-start;width: 50%;}#sk-container-id-3 div.sk-parallel-item:only-child::after {width: 0;}#sk-container-id-3 div.sk-dashed-wrapped {border: 1px dashed gray;margin: 0 0.4em 0.5em 0.4em;box-sizing: border-box;padding-bottom: 0.4em;background-color: white;}#sk-container-id-3 div.sk-label label {font-family: monospace;font-weight: bold;display: inline-block;line-height: 1.2em;}#sk-container-id-3 div.sk-label-container {text-align: center;}#sk-container-id-3 div.sk-container {/* jupyter's `normalize.less` sets `[hidden] { display: none; }` but bootstrap.min.css set `[hidden] { display: none !important; }` so we also need the `!important` here to be able to override the default hidden behavior on the sphinx rendered scikit-learn.org. See: https://github.com/scikit-learn/scikit-learn/issues/21755 */display: inline-block !important;position: relative;}#sk-container-id-3 div.sk-text-repr-fallback {display: none;}</style><div id=\"sk-container-id-3\" class=\"sk-top-container\"><div class=\"sk-text-repr-fallback\"><pre>XGBClassifier(base_score=None, booster=None, callbacks=None,\n",
       "              colsample_bylevel=None, colsample_bynode=None,\n",
       "              colsample_bytree=None, device=None, early_stopping_rounds=None,\n",
       "              enable_categorical=False, eval_metric=&#x27;mlogloss&#x27;,\n",
       "              feature_types=None, gamma=None, grow_policy=None,\n",
       "              importance_type=None, interaction_constraints=None,\n",
       "              learning_rate=None, max_bin=None, max_cat_threshold=None,\n",
       "              max_cat_to_onehot=None, max_delta_step=None, max_depth=None,\n",
       "              max_leaves=None, min_child_weight=None, missing=nan,\n",
       "              monotone_constraints=None, multi_strategy=None, n_estimators=None,\n",
       "              n_jobs=None, num_parallel_tree=None, objective=&#x27;multi:softprob&#x27;, ...)</pre><b>In a Jupyter environment, please rerun this cell to show the HTML representation or trust the notebook. <br />On GitHub, the HTML representation is unable to render, please try loading this page with nbviewer.org.</b></div><div class=\"sk-container\" hidden><div class=\"sk-item\"><div class=\"sk-estimator sk-toggleable\"><input class=\"sk-toggleable__control sk-hidden--visually\" id=\"sk-estimator-id-3\" type=\"checkbox\" checked><label for=\"sk-estimator-id-3\" class=\"sk-toggleable__label sk-toggleable__label-arrow\">XGBClassifier</label><div class=\"sk-toggleable__content\"><pre>XGBClassifier(base_score=None, booster=None, callbacks=None,\n",
       "              colsample_bylevel=None, colsample_bynode=None,\n",
       "              colsample_bytree=None, device=None, early_stopping_rounds=None,\n",
       "              enable_categorical=False, eval_metric=&#x27;mlogloss&#x27;,\n",
       "              feature_types=None, gamma=None, grow_policy=None,\n",
       "              importance_type=None, interaction_constraints=None,\n",
       "              learning_rate=None, max_bin=None, max_cat_threshold=None,\n",
       "              max_cat_to_onehot=None, max_delta_step=None, max_depth=None,\n",
       "              max_leaves=None, min_child_weight=None, missing=nan,\n",
       "              monotone_constraints=None, multi_strategy=None, n_estimators=None,\n",
       "              n_jobs=None, num_parallel_tree=None, objective=&#x27;multi:softprob&#x27;, ...)</pre></div></div></div></div></div>"
      ],
      "text/plain": [
       "XGBClassifier(base_score=None, booster=None, callbacks=None,\n",
       "              colsample_bylevel=None, colsample_bynode=None,\n",
       "              colsample_bytree=None, device=None, early_stopping_rounds=None,\n",
       "              enable_categorical=False, eval_metric='mlogloss',\n",
       "              feature_types=None, gamma=None, grow_policy=None,\n",
       "              importance_type=None, interaction_constraints=None,\n",
       "              learning_rate=None, max_bin=None, max_cat_threshold=None,\n",
       "              max_cat_to_onehot=None, max_delta_step=None, max_depth=None,\n",
       "              max_leaves=None, min_child_weight=None, missing=nan,\n",
       "              monotone_constraints=None, multi_strategy=None, n_estimators=None,\n",
       "              n_jobs=None, num_parallel_tree=None, objective='multi:softprob', ...)"
      ]
     },
     "execution_count": 118,
     "metadata": {},
     "output_type": "execute_result"
    }
   ],
   "source": [
    "model = xgb.XGBClassifier(use_label_encoder=False, eval_metric='mlogloss')\n",
    "model.fit(X_train, y_train)"
   ]
  },
  {
   "cell_type": "code",
   "execution_count": 119,
   "metadata": {},
   "outputs": [
    {
     "name": "stdout",
     "output_type": "stream",
     "text": [
      "Accuracy: 0.95822454308094\n",
      "X_train shape: (10770, 94)\n",
      "X_test shape: (2681, 94)\n",
      "y_train shape: (10770,)\n",
      "y_test shape: (2681,)\n"
     ]
    }
   ],
   "source": [
    "y_pred = model.predict(X_test)\n",
    "y_pred_proba = model.predict_proba(X_test)\n",
    "\n",
    "\n",
    "accuracy = accuracy_score(y_test, y_pred)\n",
    "print(f\"Accuracy: {accuracy}\")\n",
    "print(\"X_train shape:\", X_train.shape)\n",
    "print(\"X_test shape:\", X_test.shape)\n",
    "print(\"y_train shape:\", y_train.shape)\n",
    "print(\"y_test shape:\", y_test.shape)"
   ]
  },
  {
   "cell_type": "code",
   "execution_count": 120,
   "metadata": {},
   "outputs": [
    {
     "name": "stdout",
     "output_type": "stream",
     "text": [
      "              precision    recall  f1-score   support\n",
      "\n",
      "           0       1.00      0.72      0.84       332\n",
      "           1       1.00      0.99      1.00       302\n",
      "           2       0.92      1.00      0.96       184\n",
      "           3       0.97      0.99      0.98       158\n",
      "           4       1.00      0.99      0.99       254\n",
      "           5       0.99      1.00      1.00       197\n",
      "           6       0.89      0.99      0.94       688\n",
      "           7       1.00      1.00      1.00        93\n",
      "           8       1.00      0.98      0.99       265\n",
      "           9       1.00      0.98      0.99       208\n",
      "\n",
      "    accuracy                           0.96      2681\n",
      "   macro avg       0.98      0.97      0.97      2681\n",
      "weighted avg       0.96      0.96      0.96      2681\n",
      "\n"
     ]
    }
   ],
   "source": [
    "report = classification_report(y_test, y_pred)\n",
    "\n",
    "print(report)"
   ]
  },
  {
   "cell_type": "code",
   "execution_count": 121,
   "metadata": {},
   "outputs": [
    {
     "data": {
      "text/plain": [
       "(6.3384346e-07, 0.9999882)"
      ]
     },
     "execution_count": 121,
     "metadata": {},
     "output_type": "execute_result"
    }
   ],
   "source": [
    "y_pred_proba.min(), y_pred_proba.max()"
   ]
  },
  {
   "cell_type": "markdown",
   "metadata": {},
   "source": [
    "## Linear Regression"
   ]
  },
  {
   "cell_type": "code",
   "execution_count": 140,
   "metadata": {},
   "outputs": [
    {
     "name": "stdout",
     "output_type": "stream",
     "text": [
      "Accuracy: 0.9623274897426334\n",
      "\n",
      " -------------Classification Report-------------\n",
      "\n",
      "              precision    recall  f1-score   support\n",
      "\n",
      "           0       0.96      0.77      0.85       332\n",
      "           1       0.99      0.96      0.97       302\n",
      "           2       0.92      1.00      0.96       184\n",
      "           3       0.99      1.00      1.00       158\n",
      "           4       1.00      1.00      1.00       254\n",
      "           5       0.99      1.00      1.00       197\n",
      "           6       0.92      1.00      0.96       688\n",
      "           7       0.98      0.99      0.98        93\n",
      "           8       1.00      0.98      0.99       265\n",
      "           9       1.00      0.98      0.99       208\n",
      "\n",
      "    accuracy                           0.96      2681\n",
      "   macro avg       0.97      0.97      0.97      2681\n",
      "weighted avg       0.96      0.96      0.96      2681\n",
      "\n"
     ]
    }
   ],
   "source": [
    "# standardization\n",
    "scaler = StandardScaler()\n",
    "scaler.fit(X_train)\n",
    "X_train_data_lr = scaler.transform(X_train)\n",
    "X_test_data_lr = scaler.transform(X_test)\n",
    "# logistic regression model\n",
    "lr = LogisticRegression(random_state = 21)\n",
    "lr.fit(X_train_data_lr, y_train)\n",
    "y_pred = lr.predict(X_test_data_lr)\n",
    "print(\"Accuracy:\", accuracy_score(y_test, y_pred))\n",
    "print(\"\\n -------------Classification Report-------------\\n\")\n",
    "print(classification_report(y_test, y_pred))"
   ]
  },
  {
   "cell_type": "code",
   "execution_count": 145,
   "metadata": {},
   "outputs": [
    {
     "data": {
      "image/png": "[encoded data removed]",
      "text/plain": [
       "<Figure size 640x480 with 2 Axes>"
      ]
     },
     "metadata": {},
     "output_type": "display_data"
    }
   ],
   "source": [
    "labels = ['Chris', 'Felix', 'Katarina', 'Lucas', 'Luisa', 'Nele', 'Nick', 'Paula', 'Till', 'Uta']\n",
    "confusionMatrix = confusion_matrix(y_test, y_pred)\n",
    "sns.heatmap(confusionMatrix, xticklabels=labels, yticklabels=labels, annot=True,linewidths = 0.1, fmt='d', cmap = 'YlGnBu')\n",
    "plt.title('Confusion matrix', fontsize = 15)\n",
    "plt.ylabel('True label')\n",
    "plt.xlabel('Predicted label')\n",
    "plt.show()"
   ]
  },
  {
   "cell_type": "markdown",
   "metadata": {},
   "source": [
    "# Verification with all second runs"
   ]
  },
  {
   "cell_type": "code",
   "execution_count": 146,
   "metadata": {},
   "outputs": [
    {
     "data": {
      "text/plain": [
       "0.6096374889478338"
      ]
     },
     "execution_count": 146,
     "metadata": {},
     "output_type": "execute_result"
    }
   ],
   "source": [
    "y_pred_ver = model.predict(X_ver)\n",
    "y_pred_proba_ver = model.predict_proba(X_ver)\n",
    "accuracy = accuracy_score(y_pred_ver, y_ver)\n",
    "accuracy"
   ]
  },
  {
   "cell_type": "code",
   "execution_count": 147,
   "metadata": {},
   "outputs": [
    {
     "name": "stdout",
     "output_type": "stream",
     "text": [
      "              precision    recall  f1-score   support\n",
      "\n",
      "           0       0.00      0.00      0.00         0\n",
      "           1       0.00      0.00      0.00         0\n",
      "           2       0.00      0.00      0.00         0\n",
      "           3       0.00      0.00      0.00         0\n",
      "           4       0.00      0.00      0.00         0\n",
      "           5       0.00      0.00      0.00         0\n",
      "           6       0.40      1.00      0.57      1049\n",
      "           7       1.00      1.00      1.00       472\n",
      "           8       0.97      0.97      0.97      1276\n",
      "           9       1.00      0.00      0.00      1727\n",
      "\n",
      "    accuracy                           0.61      4524\n",
      "   macro avg       0.34      0.30      0.25      4524\n",
      "weighted avg       0.85      0.61      0.51      4524\n",
      "\n"
     ]
    }
   ],
   "source": [
    "report = classification_report(y_ver, y_pred_ver)\n",
    "\n",
    "print(report)"
   ]
  },
  {
   "cell_type": "code",
   "execution_count": null,
   "metadata": {},
   "outputs": [],
   "source": []
  }
 ],
 "metadata": {
  "kernelspec": {
   "display_name": "Python 3 (ipykernel)",
   "language": "python",
   "name": "python3"
  },
  "language_info": {
   "codemirror_mode": {
    "name": "ipython",
    "version": 3
   },
   "file_extension": ".py",
   "mimetype": "text/x-python",
   "name": "python",
   "nbconvert_exporter": "python",
   "pygments_lexer": "ipython3",
   "version": "3.12.0"
  }
 },
 "nbformat": 4,
 "nbformat_minor": 4
}
