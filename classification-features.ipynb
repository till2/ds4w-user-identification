{
 "cells": [
  {
   "cell_type": "code",
   "execution_count": 275,
   "metadata": {},
   "outputs": [],
   "source": [
    "import pandas as pd\n",
    "import os\n",
    "from scipy import stats\n",
    "import matplotlib.pyplot as plt\n",
    "import seaborn as sns\n",
    "from ipywidgets import interact\n",
    "import plotly.graph_objects as go\n",
    "import ruptures as rpt\n",
    "from itertools import combinations as comb\n",
    "from statsmodels.stats import power\n",
    "import numpy as np\n",
    "from scipy import stats\n",
    "from scipy.signal import find_peaks\n",
    "\n",
    "from tqdm import tqdm\n",
    "import xgboost as xgb\n",
    "from sklearn.model_selection import train_test_split\n",
    "from sklearn.metrics import accuracy_score, classification_report, f1_score\n",
    "from scipy.spatial.distance import cdist\n",
    "import colorsys\n",
    "\n",
    "from sklearn.utils import shuffle\n",
    "from sklearn.preprocessing import StandardScaler\n",
    "from sklearn.linear_model import LogisticRegression\n",
    "from sklearn.metrics import accuracy_score\n",
    "from sklearn.metrics import classification_report\n",
    "from sklearn.metrics import confusion_matrix\n",
    "import warnings\n",
    "warnings.filterwarnings('ignore')"
   ]
  },
  {
   "cell_type": "code",
   "execution_count": 2,
   "metadata": {},
   "outputs": [],
   "source": [
    "cpd_model = rpt.Binseg(model = 'l2',jump=500, min_size=4500)\n",
    "def change_point_detection(df, throw_away = 0.1):\n",
    "    \"\"\"\n",
    "    Changepoint Detection\n",
    "    Input: - df:  from read_data\n",
    "           - key: which is the filename\n",
    "           - throw_away: everything smaller than 10% of the total length of data is thrown away\n",
    "\n",
    "    Returns: - return_dict: A dictionary with all the data and the format key_cnt\n",
    "    \"\"\"\n",
    "    signal = df[['accelerometer_x','accelerometer_y','accelerometer_z']].values\n",
    "    length = len(df)\n",
    "    algo = cpd_model.fit(signal)\n",
    "    result = [0]\n",
    "    result += algo.predict(pen=1000)\n",
    "    if result[-1] != length:\n",
    "        result += [length]\n",
    "        \n",
    "    return_df = pd.DataFrame()\n",
    "    for i in range(len(result)-1):\n",
    "        if result[i+1]-result[i] > 4500:\n",
    "            if return_df.empty:\n",
    "                return_df = df.iloc[result[i]:result[i+1]]\n",
    "            else:\n",
    "                pd.concat([return_df, df.iloc[result[i]:result[i+1]]],ignore_index=True)\n",
    "            \n",
    "    \"\"\"\n",
    "    This is the seperated version, so we dont have windows that belong to different changepoint sections\n",
    "    return_dict = {}\n",
    "    cnt = 1\n",
    "    for i in range(len(result)-1):\n",
    "        if result[i+1]-result[i] > length*throw_away:\n",
    "            return_dict[key+'_'+str(cnt)] = df.iloc[result[i]:result[i+1]]\n",
    "            cnt+=1\n",
    "    \"\"\"\n",
    "    return return_df"
   ]
  },
  {
   "cell_type": "code",
   "execution_count": 51,
   "metadata": {},
   "outputs": [],
   "source": [
    "folder_path = 'data'\n",
    "def read_data(filename):\n",
    "    accelerometer = pd.read_csv(os.path.join(folder_path, filename, 'Accelerometer.csv'),sep=';')\n",
    "    accelerometer['Time (s)'] = pd.to_datetime(accelerometer['Time (s)'], unit='s')\n",
    "    accelerometer =accelerometer.set_index('Time (s)')\n",
    "    accelerometer = accelerometer.resample('2.5ms').mean()\n",
    "    accelerometer.rename(columns={'Acceleration x (m/s^2)':'accelerometer_x','Acceleration y (m/s^2)':'accelerometer_y','Acceleration z (m/s^2)':'accelerometer_z'}, inplace=True)\n",
    "    accelerometer = accelerometer[9000:-9000]\n",
    "    accelerometer.reset_index(inplace=True)\n",
    "\n",
    "    \n",
    "    gyroscope = pd.read_csv(os.path.join(folder_path, filename,'Gyroscope.csv'),sep=';')\n",
    "    gyroscope['Time (s)'] = pd.to_datetime(gyroscope['Time (s)'], unit='s')\n",
    "    gyroscope =gyroscope.set_index('Time (s)')\n",
    "    gyroscope = gyroscope.resample('2.5ms').mean()\n",
    "    gyroscope.rename(columns={'Gyroscope x (rad/s)':'gyroscope_x','Gyroscope y (rad/s)':'gyroscope_y','Gyroscope z (rad/s)':'gyroscope_z'}, inplace=True)\n",
    "    gyroscope = gyroscope[9000:-9000]\n",
    "    gyroscope.reset_index(inplace=True)\n",
    "    merged = pd.merge(accelerometer,gyroscope, on= 'Time (s)', how='inner')\n",
    "    # return merged\n",
    "    return change_point_detection(merged)\n",
    "    "
   ]
  },
  {
   "cell_type": "code",
   "execution_count": 52,
   "metadata": {},
   "outputs": [],
   "source": [
    "# regex to delete the number at the end of the string:\n",
    "def delete_number(string):\n",
    "    return ''.join([i for i in string if not i.isdigit()])"
   ]
  },
  {
   "cell_type": "code",
   "execution_count": 272,
   "metadata": {},
   "outputs": [
    {
     "name": "stderr",
     "output_type": "stream",
     "text": [
      "100%|███████████████████████████████████████████████████████████████████████████████████████████| 17/17 [00:15<00:00,  1.08it/s]\n"
     ]
    }
   ],
   "source": [
    "data_dict = {}\n",
    "name_to_idx = {} # name -> idx\n",
    "i = 0\n",
    "\n",
    "for name in tqdm(sorted(os.listdir(folder_path))):\n",
    "    data_dict[name] = read_data(name)\n",
    "    data_dict[name].set_index('Time (s)', inplace=True)\n",
    "    data_dict[name].interpolate(inplace=True, method=\"time\")\n",
    "\n",
    "    # add label\n",
    "    if delete_number(name) not in name_to_idx.keys():\n",
    "        name_to_idx[delete_number(name)] = i\n",
    "        i+=1"
   ]
  },
  {
   "cell_type": "code",
   "execution_count": 54,
   "metadata": {},
   "outputs": [],
   "source": [
    "def min_max_normalize(df):\n",
    "    return (df - df.min()) / (df.max() - df.min())\n",
    "\n",
    "# Apply normalization per person\n",
    "for key in data_dict.keys():\n",
    "    data_dict[key] = min_max_normalize(data_dict[key])"
   ]
  },
  {
   "cell_type": "code",
   "execution_count": 55,
   "metadata": {},
   "outputs": [],
   "source": [
    "def add_feature(axis_list, axis, X_train, appendix=\"\"):\n",
    "    #mean\n",
    "    X_train[axis+'_mean'+appendix] = pd.Series(axis_list).apply(lambda x: x.mean())\n",
    "    #std dev\n",
    "    X_train[axis+'_std'+appendix] = pd.Series(axis_list).apply(lambda x: x.std())\n",
    "    #avg absolute difference\n",
    "    X_train[axis+'_aad'+appendix] = pd.Series(axis_list).apply(lambda x: np.mean(np.absolute(x - np.mean(x))))\n",
    "    #min\n",
    "    X_train[axis+'_min'+appendix] = pd.Series(axis_list).apply(lambda x: x.min())\n",
    "    #max\n",
    "    X_train[axis+'_max'+appendix] = pd.Series(axis_list).apply(lambda x: x.max())\n",
    "    #max-min diff\n",
    "    X_train[axis+'_maxmin_diff'+appendix] = X_train[axis+'_max'+appendix] - X_train[axis+'_min'+appendix]\n",
    "    #median\n",
    "    X_train[axis+'_median'+appendix] = pd.Series(axis_list).apply(lambda x: np.median(x))\n",
    "    #median absolut deviation\n",
    "    X_train[axis+'_mad'+appendix] = pd.Series(axis_list).apply(lambda x: np.median(np.absolute(x - np.median(x))))\n",
    "    #interquartile range\n",
    "    X_train[axis+'_IQR'+appendix] = pd.Series(axis_list).apply(lambda x: np.percentile(x, 75) - np.percentile(x, 25))\n",
    "\n",
    "    if appendix != \"_fft\":\n",
    "        #negative count\n",
    "        X_train[axis+'_neg_count'+appendix] = pd.Series(axis_list).apply(lambda x: np.sum(x < 0))\n",
    "        #positive count\n",
    "        X_train[axis+'_pos_count'+appendix] = pd.Series(axis_list).apply(lambda x: np.sum(x > 0))\n",
    "    \n",
    "    #values above mean\n",
    "    X_train[axis+'_above_mean'+appendix] = pd.Series(axis_list).apply(lambda x: np.sum(x > x.mean()))\n",
    "    #number of peaks\n",
    "    X_train[axis+'_peak_count'+appendix] = pd.Series(axis_list).apply(lambda x: len(find_peaks(x)[0]))\n",
    "    #skewness\n",
    "    X_train[axis+'_skewness'+appendix] = pd.Series(axis_list).apply(lambda x: stats.skew(x))\n",
    "    #kurtosis\n",
    "    X_train[axis+'_kurtosis'+appendix] = pd.Series(axis_list).apply(lambda x: stats.kurtosis(x))\n",
    "    # energy\n",
    "    X_train[axis+'_energy'+appendix] = pd.Series(axis_list).apply(lambda x: np.sum(x**2)/100)\n",
    "\n",
    "    return X_train"
   ]
  },
  {
   "cell_type": "code",
   "execution_count": 56,
   "metadata": {},
   "outputs": [],
   "source": [
    "verification_keys = [] # \"nick2\", \"till2\", \"uta2\", \"paula2\""
   ]
  },
  {
   "cell_type": "code",
   "execution_count": 96,
   "metadata": {},
   "outputs": [
    {
     "data": {
      "text/plain": [
       "{'till': 0,\n",
       " 'nele': 1,\n",
       " 'lucas': 2,\n",
       " 'leon': 3,\n",
       " 'katarina': 4,\n",
       " 'felix': 5,\n",
       " 'chris': 6,\n",
       " 'paula': 7,\n",
       " 'nick': 8,\n",
       " 'luisa': 9,\n",
       " 'rebecca': 10,\n",
       " 'uta': 11}"
      ]
     },
     "execution_count": 96,
     "metadata": {},
     "output_type": "execute_result"
    }
   ],
   "source": [
    "name_to_idx"
   ]
  },
  {
   "cell_type": "code",
   "execution_count": 215,
   "metadata": {},
   "outputs": [
    {
     "data": {
      "image/png": "[encoded data removed]",
      "text/plain": [
       "<Figure size 640x480 with 1 Axes>"
      ]
     },
     "metadata": {},
     "output_type": "display_data"
    }
   ],
   "source": [
    "# fft results => we would need 100+ features for the fft (if we don't add the feature aggregations of it) \n",
    "for i in range(10):\n",
    "    plt.plot(x_fft_list[i][:100])\n"
   ]
  },
  {
   "cell_type": "code",
   "execution_count": 58,
   "metadata": {},
   "outputs": [
    {
     "name": "stdout",
     "output_type": "stream",
     "text": [
      "Train: (3825, 188) (3825,)\n",
      "Val: (761, 188) (761,)\n",
      "Test: (761, 188) (761,)\n"
     ]
    }
   ],
   "source": [
    "# Initializing lists\n",
    "x_list = []\n",
    "y_list = []\n",
    "z_list = []\n",
    "\n",
    "x_val_list = []\n",
    "y_val_list = []\n",
    "z_val_list = []\n",
    "val_labels = []\n",
    "\n",
    "train_labels = []\n",
    "x_test_list = []\n",
    "y_test_list = []\n",
    "z_test_list = []\n",
    "test_labels = []\n",
    "\n",
    "gx_list = []\n",
    "gy_list = []\n",
    "gz_list = []\n",
    "\n",
    "gx_val_list = []\n",
    "gy_val_list = []\n",
    "gz_val_list = []\n",
    "\n",
    "gx_test_list = []\n",
    "gy_test_list = []\n",
    "gz_test_list = []\n",
    "\n",
    "window_size = 410 * 5 # we give the model 5 steps\n",
    "step_size = 410 # 82\n",
    "\n",
    "# Creating overlapping windows of size window_size\n",
    "for name, df_train in data_dict.items():\n",
    "    label = name_to_idx[delete_number(name)]\n",
    "    n_train_end = int(df_train.shape[0] * 0.7)  # 70% train\n",
    "    n_test_end = int(df_train.shape[0] * 0.85)  # next 15% test (and the last 15% for val)\n",
    "\n",
    "    # Training data\n",
    "    for i in range(0, n_train_end - window_size, step_size):\n",
    "        xs = df_train['accelerometer_x'].values[i: i + window_size]\n",
    "        ys = df_train['accelerometer_y'].values[i: i + window_size]\n",
    "        zs = df_train['accelerometer_z'].values[i: i + window_size]\n",
    "        x_list.append(xs)\n",
    "        y_list.append(ys)\n",
    "        z_list.append(zs)\n",
    "        train_labels.append(label)\n",
    "        \n",
    "        gxs = df_train['gyroscope_x'].values[i: i + window_size]\n",
    "        gys = df_train['gyroscope_y'].values[i: i + window_size]\n",
    "        gzs = df_train['gyroscope_z'].values[i: i + window_size]\n",
    "        gx_list.append(gxs)\n",
    "        gy_list.append(gys)\n",
    "        gz_list.append(gzs)\n",
    "    \n",
    "    # Testing data\n",
    "    for i in range(n_train_end, n_test_end - window_size, step_size):\n",
    "        xs = df_train['accelerometer_x'].values[i: i + window_size]\n",
    "        ys = df_train['accelerometer_y'].values[i: i + window_size]\n",
    "        zs = df_train['accelerometer_z'].values[i: i + window_size]\n",
    "        x_test_list.append(xs)\n",
    "        y_test_list.append(ys)\n",
    "        z_test_list.append(zs)\n",
    "        test_labels.append(label)\n",
    "\n",
    "        gxs = df_train['gyroscope_x'].values[i: i + window_size]\n",
    "        gys = df_train['gyroscope_y'].values[i: i + window_size]\n",
    "        gzs = df_train['gyroscope_z'].values[i: i + window_size]\n",
    "        gx_test_list.append(gxs)\n",
    "        gy_test_list.append(gys)\n",
    "        gz_test_list.append(gzs)\n",
    "\n",
    "    # Validation data\n",
    "    for i in range(n_test_end, df_train.shape[0] - window_size, step_size):\n",
    "        xs = df_train['accelerometer_x'].values[i: i + window_size]\n",
    "        ys = df_train['accelerometer_y'].values[i: i + window_size]\n",
    "        zs = df_train['accelerometer_z'].values[i: i + window_size]\n",
    "        x_val_list.append(xs)\n",
    "        y_val_list.append(ys)\n",
    "        z_val_list.append(zs)\n",
    "        val_labels.append(label)\n",
    "\n",
    "        gxs = df_train['gyroscope_x'].values[i: i + window_size]\n",
    "        gys = df_train['gyroscope_y'].values[i: i + window_size]\n",
    "        gzs = df_train['gyroscope_z'].values[i: i + window_size]\n",
    "        gx_val_list.append(gxs)\n",
    "        gy_val_list.append(gys)\n",
    "        gz_val_list.append(gzs)\n",
    "\n",
    "def calculate_magnitude_mean(x_list, y_list, z_list):\n",
    "    return [((pd.Series(x_list[i])**2 + pd.Series(y_list[i])**2 + pd.Series(z_list[i])**2)**0.5).mean() for i in range(len(x_list))]\n",
    "\n",
    "def calculate_sma(x_list, y_list, z_list):\n",
    "    \"\"\" Calculates the signal magnitude area. \"\"\"\n",
    "    return (pd.Series(x_list).apply(lambda x: np.sum(abs(x)/window_size)) +\n",
    "            pd.Series(y_list).apply(lambda x: np.sum(abs(x)/window_size)) +\n",
    "            pd.Series(z_list).apply(lambda x: np.sum(abs(x)/window_size)))\n",
    "\n",
    "def calculate_fft_features(data_list, prefix, df):\n",
    "    fft_list = pd.Series(data_list).apply(lambda x: np.abs(np.fft.fft(x))[1:window_size//2+1])\n",
    "    df = add_feature(fft_list, prefix, df, \"_fft\")\n",
    "    return df, fft_list\n",
    "\n",
    "# Train\n",
    "X_train = pd.DataFrame()\n",
    "X_train = add_feature(x_list, 'x', X_train)\n",
    "X_train = add_feature(y_list, 'y', X_train)\n",
    "X_train = add_feature(z_list, 'z', X_train)\n",
    "X_train['avg_result_accl'] = calculate_magnitude_mean(x_list, y_list, z_list)\n",
    "X_train['sma'] = calculate_sma(x_list, y_list, z_list)\n",
    "X_train, x_fft_list = calculate_fft_features(x_list, 'x', X_train)\n",
    "X_train, y_fft_list = calculate_fft_features(y_list, 'y', X_train)\n",
    "X_train, z_fft_list = calculate_fft_features(z_list, 'z', X_train)\n",
    "X_train['avg_result_accl_fft'] = calculate_magnitude_mean(x_fft_list, y_fft_list, z_fft_list)\n",
    "X_train['sma_fft'] = calculate_sma(x_fft_list, y_fft_list, z_fft_list)\n",
    "\n",
    "X_train = add_feature(gx_list, 'gx', X_train)\n",
    "X_train = add_feature(gy_list, 'gy', X_train)\n",
    "X_train = add_feature(gz_list, 'gz', X_train)\n",
    "X_train['avg_result_gyro'] = calculate_magnitude_mean(gx_list, gy_list, gz_list)\n",
    "X_train['sma_gyro'] = calculate_sma(gx_list, gy_list, gz_list)\n",
    "X_train, gx_fft_list = calculate_fft_features(gx_list, 'gx', X_train)\n",
    "X_train, gy_fft_list = calculate_fft_features(gy_list, 'gy', X_train)\n",
    "X_train, gz_fft_list = calculate_fft_features(gz_list, 'gz', X_train)\n",
    "X_train['avg_result_gyro_fft'] = calculate_magnitude_mean(gx_fft_list, gy_fft_list, gz_fft_list)\n",
    "X_train['sma_gyro_fft'] = calculate_sma(gx_fft_list, gy_fft_list, gz_fft_list)\n",
    "\n",
    "y_train = np.array(train_labels)\n",
    "\n",
    "# Validation\n",
    "X_val = pd.DataFrame()\n",
    "X_val = add_feature(x_val_list, 'x', X_val)\n",
    "X_val = add_feature(y_val_list, 'y', X_val)\n",
    "X_val = add_feature(z_val_list, 'z', X_val)\n",
    "X_val['avg_result_accl'] = calculate_magnitude_mean(x_val_list, y_val_list, z_val_list)\n",
    "X_val['sma'] = calculate_sma(x_val_list, y_val_list, z_val_list)\n",
    "X_val, x_val_fft_list = calculate_fft_features(x_val_list, 'x', X_val)\n",
    "X_val, y_val_fft_list = calculate_fft_features(y_val_list, 'y', X_val)\n",
    "X_val, z_val_fft_list = calculate_fft_features(z_val_list, 'z', X_val)\n",
    "X_val['avg_result_accl_fft'] = calculate_magnitude_mean(x_val_fft_list, y_val_fft_list, z_val_fft_list)\n",
    "X_val['sma_fft'] = calculate_sma(x_val_fft_list, y_val_fft_list, z_val_fft_list)\n",
    "\n",
    "X_val = add_feature(gx_val_list, 'gx', X_val)\n",
    "X_val = add_feature(gy_val_list, 'gy', X_val)\n",
    "X_val = add_feature(gz_val_list, 'gz', X_val)\n",
    "X_val['avg_result_gyro'] = calculate_magnitude_mean(gx_val_list, gy_val_list, gz_val_list)\n",
    "X_val['sma_gyro'] = calculate_sma(gx_val_list, gy_val_list, gz_val_list)\n",
    "X_val, gx_val_fft_list = calculate_fft_features(gx_val_list, 'gx', X_val)\n",
    "X_val, gy_val_fft_list = calculate_fft_features(gy_val_list, 'gy', X_val)\n",
    "X_val, gz_val_fft_list = calculate_fft_features(gz_val_list, 'gz', X_val)\n",
    "X_val['avg_result_gyro_fft'] = calculate_magnitude_mean(gx_val_fft_list, gy_val_fft_list, gz_val_fft_list)\n",
    "X_val['sma_gyro_fft'] = calculate_sma(gx_val_fft_list, gy_val_fft_list, gz_val_fft_list)\n",
    "\n",
    "y_val = np.array(val_labels)\n",
    "\n",
    "# Test\n",
    "X_test = pd.DataFrame()\n",
    "X_test = add_feature(x_test_list, 'x', X_test)\n",
    "X_test = add_feature(y_test_list, 'y', X_test)\n",
    "X_test = add_feature(z_test_list, 'z', X_test)\n",
    "X_test['avg_result_accl'] = calculate_magnitude_mean(x_test_list, y_test_list, z_test_list)\n",
    "X_test['sma'] = calculate_sma(x_test_list, y_test_list, z_test_list)\n",
    "X_test, x_test_fft_list = calculate_fft_features(x_test_list, 'x', X_test)\n",
    "X_test, y_test_fft_list = calculate_fft_features(y_test_list, 'y', X_test)\n",
    "X_test, z_test_fft_list = calculate_fft_features(z_test_list, 'z', X_test)\n",
    "X_test['avg_result_accl_fft'] = calculate_magnitude_mean(x_test_fft_list, y_test_fft_list, z_test_fft_list)\n",
    "X_test['sma_fft'] = calculate_sma(x_test_fft_list, y_test_fft_list, z_test_fft_list)\n",
    "\n",
    "X_test = add_feature(gx_test_list, 'gx', X_test)\n",
    "X_test = add_feature(gy_test_list, 'gy', X_test)\n",
    "X_test = add_feature(gz_test_list, 'gz', X_test)\n",
    "X_test['avg_result_gyro'] = calculate_magnitude_mean(gx_test_list, gy_test_list, gz_test_list)\n",
    "X_test['sma_gyro'] = calculate_sma(gx_test_list, gy_test_list, gz_test_list)\n",
    "X_test, gx_test_fft_list = calculate_fft_features(gx_test_list, 'gx', X_test)\n",
    "X_test, gy_test_fft_list = calculate_fft_features(gy_test_list, 'gy', X_test)\n",
    "X_test, gz_test_fft_list = calculate_fft_features(gz_test_list, 'gz', X_test)\n",
    "X_test['avg_result_gyro_fft'] = calculate_magnitude_mean(gx_test_fft_list, gy_test_fft_list, gz_test_fft_list)\n",
    "X_test['sma_gyro_fft'] = calculate_sma(gx_test_fft_list, gy_test_fft_list, gz_test_fft_list)\n",
    "\n",
    "y_test = np.array(test_labels)\n",
    "\n",
    "# Shuffle the training set\n",
    "X_train, y_train = shuffle(X_train, y_train, random_state=42)\n",
    "\n",
    "print('Train:', X_train.shape, y_train.shape)\n",
    "print('Val:', X_val.shape, y_val.shape)\n",
    "print('Test:', X_test.shape, y_test.shape)\n"
   ]
  },
  {
   "cell_type": "code",
   "execution_count": 115,
   "metadata": {},
   "outputs": [
    {
     "data": {
      "image/png": "[encoded data removed]",
      "text/plain": [
       "<Figure size 640x480 with 1 Axes>"
      ]
     },
     "metadata": {},
     "output_type": "display_data"
    }
   ],
   "source": [
    "for i in range(5):\n",
    "    plt.plot(df_train['gyroscope_x'].values[410*i : 410*i + 410 * 5])"
   ]
  },
  {
   "cell_type": "markdown",
   "metadata": {},
   "source": [
    "## XGBoost"
   ]
  },
  {
   "cell_type": "code",
   "execution_count": 60,
   "metadata": {},
   "outputs": [
    {
     "data": {
      "text/html": [
       "<style>#sk-container-id-3 {color: black;background-color: white;}#sk-container-id-3 pre{padding: 0;}#sk-container-id-3 div.sk-toggleable {background-color: white;}#sk-container-id-3 label.sk-toggleable__label {cursor: pointer;display: block;width: 100%;margin-bottom: 0;padding: 0.3em;box-sizing: border-box;text-align: center;}#sk-container-id-3 label.sk-toggleable__label-arrow:before {content: \"▸\";float: left;margin-right: 0.25em;color: #696969;}#sk-container-id-3 label.sk-toggleable__label-arrow:hover:before {color: black;}#sk-container-id-3 div.sk-estimator:hover label.sk-toggleable__label-arrow:before {color: black;}#sk-container-id-3 div.sk-toggleable__content {max-height: 0;max-width: 0;overflow: hidden;text-align: left;background-color: #f0f8ff;}#sk-container-id-3 div.sk-toggleable__content pre {margin: 0.2em;color: black;border-radius: 0.25em;background-color: #f0f8ff;}#sk-container-id-3 input.sk-toggleable__control:checked~div.sk-toggleable__content {max-height: 200px;max-width: 100%;overflow: auto;}#sk-container-id-3 input.sk-toggleable__control:checked~label.sk-toggleable__label-arrow:before {content: \"▾\";}#sk-container-id-3 div.sk-estimator input.sk-toggleable__control:checked~label.sk-toggleable__label {background-color: #d4ebff;}#sk-container-id-3 div.sk-label input.sk-toggleable__control:checked~label.sk-toggleable__label {background-color: #d4ebff;}#sk-container-id-3 input.sk-hidden--visually {border: 0;clip: rect(1px 1px 1px 1px);clip: rect(1px, 1px, 1px, 1px);height: 1px;margin: -1px;overflow: hidden;padding: 0;position: absolute;width: 1px;}#sk-container-id-3 div.sk-estimator {font-family: monospace;background-color: #f0f8ff;border: 1px dotted black;border-radius: 0.25em;box-sizing: border-box;margin-bottom: 0.5em;}#sk-container-id-3 div.sk-estimator:hover {background-color: #d4ebff;}#sk-container-id-3 div.sk-parallel-item::after {content: \"\";width: 100%;border-bottom: 1px solid gray;flex-grow: 1;}#sk-container-id-3 div.sk-label:hover label.sk-toggleable__label {background-color: #d4ebff;}#sk-container-id-3 div.sk-serial::before {content: \"\";position: absolute;border-left: 1px solid gray;box-sizing: border-box;top: 0;bottom: 0;left: 50%;z-index: 0;}#sk-container-id-3 div.sk-serial {display: flex;flex-direction: column;align-items: center;background-color: white;padding-right: 0.2em;padding-left: 0.2em;position: relative;}#sk-container-id-3 div.sk-item {position: relative;z-index: 1;}#sk-container-id-3 div.sk-parallel {display: flex;align-items: stretch;justify-content: center;background-color: white;position: relative;}#sk-container-id-3 div.sk-item::before, #sk-container-id-3 div.sk-parallel-item::before {content: \"\";position: absolute;border-left: 1px solid gray;box-sizing: border-box;top: 0;bottom: 0;left: 50%;z-index: -1;}#sk-container-id-3 div.sk-parallel-item {display: flex;flex-direction: column;z-index: 1;position: relative;background-color: white;}#sk-container-id-3 div.sk-parallel-item:first-child::after {align-self: flex-end;width: 50%;}#sk-container-id-3 div.sk-parallel-item:last-child::after {align-self: flex-start;width: 50%;}#sk-container-id-3 div.sk-parallel-item:only-child::after {width: 0;}#sk-container-id-3 div.sk-dashed-wrapped {border: 1px dashed gray;margin: 0 0.4em 0.5em 0.4em;box-sizing: border-box;padding-bottom: 0.4em;background-color: white;}#sk-container-id-3 div.sk-label label {font-family: monospace;font-weight: bold;display: inline-block;line-height: 1.2em;}#sk-container-id-3 div.sk-label-container {text-align: center;}#sk-container-id-3 div.sk-container {/* jupyter's `normalize.less` sets `[hidden] { display: none; }` but bootstrap.min.css set `[hidden] { display: none !important; }` so we also need the `!important` here to be able to override the default hidden behavior on the sphinx rendered scikit-learn.org. See: https://github.com/scikit-learn/scikit-learn/issues/21755 */display: inline-block !important;position: relative;}#sk-container-id-3 div.sk-text-repr-fallback {display: none;}</style><div id=\"sk-container-id-3\" class=\"sk-top-container\"><div class=\"sk-text-repr-fallback\"><pre>XGBClassifier(base_score=None, booster=None, callbacks=None,\n",
       "              colsample_bylevel=None, colsample_bynode=None,\n",
       "              colsample_bytree=None, device=None, early_stopping_rounds=None,\n",
       "              enable_categorical=False, eval_metric=&#x27;mlogloss&#x27;,\n",
       "              feature_types=None, gamma=None, grow_policy=None,\n",
       "              importance_type=None, interaction_constraints=None,\n",
       "              learning_rate=None, max_bin=None, max_cat_threshold=None,\n",
       "              max_cat_to_onehot=None, max_delta_step=None, max_depth=None,\n",
       "              max_leaves=None, min_child_weight=None, missing=nan,\n",
       "              monotone_constraints=None, multi_strategy=None, n_estimators=None,\n",
       "              n_jobs=None, num_parallel_tree=None, objective=&#x27;multi:softprob&#x27;, ...)</pre><b>In a Jupyter environment, please rerun this cell to show the HTML representation or trust the notebook. <br />On GitHub, the HTML representation is unable to render, please try loading this page with nbviewer.org.</b></div><div class=\"sk-container\" hidden><div class=\"sk-item\"><div class=\"sk-estimator sk-toggleable\"><input class=\"sk-toggleable__control sk-hidden--visually\" id=\"sk-estimator-id-3\" type=\"checkbox\" checked><label for=\"sk-estimator-id-3\" class=\"sk-toggleable__label sk-toggleable__label-arrow\">XGBClassifier</label><div class=\"sk-toggleable__content\"><pre>XGBClassifier(base_score=None, booster=None, callbacks=None,\n",
       "              colsample_bylevel=None, colsample_bynode=None,\n",
       "              colsample_bytree=None, device=None, early_stopping_rounds=None,\n",
       "              enable_categorical=False, eval_metric=&#x27;mlogloss&#x27;,\n",
       "              feature_types=None, gamma=None, grow_policy=None,\n",
       "              importance_type=None, interaction_constraints=None,\n",
       "              learning_rate=None, max_bin=None, max_cat_threshold=None,\n",
       "              max_cat_to_onehot=None, max_delta_step=None, max_depth=None,\n",
       "              max_leaves=None, min_child_weight=None, missing=nan,\n",
       "              monotone_constraints=None, multi_strategy=None, n_estimators=None,\n",
       "              n_jobs=None, num_parallel_tree=None, objective=&#x27;multi:softprob&#x27;, ...)</pre></div></div></div></div></div>"
      ],
      "text/plain": [
       "XGBClassifier(base_score=None, booster=None, callbacks=None,\n",
       "              colsample_bylevel=None, colsample_bynode=None,\n",
       "              colsample_bytree=None, device=None, early_stopping_rounds=None,\n",
       "              enable_categorical=False, eval_metric='mlogloss',\n",
       "              feature_types=None, gamma=None, grow_policy=None,\n",
       "              importance_type=None, interaction_constraints=None,\n",
       "              learning_rate=None, max_bin=None, max_cat_threshold=None,\n",
       "              max_cat_to_onehot=None, max_delta_step=None, max_depth=None,\n",
       "              max_leaves=None, min_child_weight=None, missing=nan,\n",
       "              monotone_constraints=None, multi_strategy=None, n_estimators=None,\n",
       "              n_jobs=None, num_parallel_tree=None, objective='multi:softprob', ...)"
      ]
     },
     "execution_count": 60,
     "metadata": {},
     "output_type": "execute_result"
    }
   ],
   "source": [
    "model = xgb.XGBClassifier(eval_metric='mlogloss')\n",
    "model.fit(X_train, y_train)"
   ]
  },
  {
   "cell_type": "code",
   "execution_count": 85,
   "metadata": {},
   "outputs": [
    {
     "data": {
      "image/png": "[encoded data removed]",
      "text/plain": [
       "<Figure size 1000x700 with 2 Axes>"
      ]
     },
     "metadata": {},
     "output_type": "display_data"
    }
   ],
   "source": [
    "# Compute the confusion matrix\n",
    "y_pred = model.predict(X_test)\n",
    "cm = confusion_matrix(y_test, y_pred)\n",
    "\n",
    "# Plot the confusion matrix\n",
    "fig, ax = plt.subplots(figsize=(10, 7))\n",
    "cax = ax.matshow(cm, cmap='GnBu') # Blues\n",
    "fig.colorbar(cax)\n",
    "\n",
    "# Set axis labels\n",
    "ax.set_xticks(np.arange(cm.shape[1]))\n",
    "ax.set_yticks(np.arange(cm.shape[0]))\n",
    "ax.set_xticklabels(np.arange(cm.shape[0]))\n",
    "ax.set_yticklabels(np.arange(cm.shape[1]))\n",
    "ax.xaxis.set_ticks_position('bottom')\n",
    "plt.xlabel('Predicted')\n",
    "plt.ylabel('True')\n",
    "\n",
    "\n",
    "# Add annotations\n",
    "for i in range(cm.shape[0]):\n",
    "    for j in range(cm.shape[1]):\n",
    "        ax.text(j, i, cm[i, j], ha='center', va='center', color='black')\n",
    "\n",
    "plt.title('Confusion Matrix')\n",
    "plt.show()"
   ]
  },
  {
   "cell_type": "code",
   "execution_count": 90,
   "metadata": {},
   "outputs": [
    {
     "data": {
      "text/plain": [
       "<Axes: >"
      ]
     },
     "execution_count": 90,
     "metadata": {},
     "output_type": "execute_result"
    },
    {
     "data": {
      "image/png": "[encoded data removed]",
      "text/plain": [
       "<Figure size 2000x1000 with 1 Axes>"
      ]
     },
     "metadata": {},
     "output_type": "display_data"
    }
   ],
   "source": [
    "feature_important = model.get_booster().get_score(importance_type='gain')\n",
    "keys = list(feature_important.keys())\n",
    "values = list(feature_important.values())\n",
    "\n",
    "data = pd.DataFrame(data=values, index=keys, columns=[\"gain\"]).sort_values(by = \"gain\", ascending=False)\n",
    "data.nlargest(40, columns=\"gain\").plot(kind='barh', figsize = (20,10)) ## plot top 40 features"
   ]
  },
  {
   "cell_type": "code",
   "execution_count": 95,
   "metadata": {},
   "outputs": [
    {
     "name": "stdout",
     "output_type": "stream",
     "text": [
      "              precision    recall  f1-score   support\n",
      "\n",
      "           0       1.00      1.00      1.00       101\n",
      "           1       1.00      0.68      0.81        68\n",
      "           2       1.00      1.00      1.00        54\n",
      "           3       1.00      1.00      1.00        45\n",
      "           4       1.00      0.68      0.81        25\n",
      "           5       1.00      1.00      1.00       107\n",
      "           6       1.00      1.00      1.00        13\n",
      "           8       0.90      1.00      0.95       213\n",
      "           9       1.00      1.00      1.00        10\n",
      "          10       1.00      1.00      1.00        39\n",
      "          11       0.92      1.00      0.96        86\n",
      "\n",
      "    accuracy                           0.96       761\n",
      "   macro avg       0.98      0.94      0.96       761\n",
      "weighted avg       0.96      0.96      0.96       761\n",
      "\n"
     ]
    }
   ],
   "source": [
    "y_pred = model.predict(X_test)\n",
    "report = classification_report(y_test, y_pred)\n",
    "print(report)"
   ]
  },
  {
   "cell_type": "markdown",
   "metadata": {},
   "source": [
    "## Logistic Regression"
   ]
  },
  {
   "cell_type": "code",
   "execution_count": 265,
   "metadata": {},
   "outputs": [
    {
     "name": "stdout",
     "output_type": "stream",
     "text": [
      "Accuracy: 0.9921156373193167\n",
      "\n",
      " -------------Classification Report-------------\n",
      "\n",
      "              precision    recall  f1-score   support\n",
      "\n",
      "           0       1.00      1.00      1.00       101\n",
      "           1       1.00      0.91      0.95        68\n",
      "           2       1.00      1.00      1.00        54\n",
      "           3       1.00      1.00      1.00        45\n",
      "           4       1.00      1.00      1.00        25\n",
      "           5       1.00      1.00      1.00       107\n",
      "           6       1.00      1.00      1.00        13\n",
      "           8       0.97      1.00      0.99       213\n",
      "           9       1.00      1.00      1.00        10\n",
      "          10       1.00      1.00      1.00        39\n",
      "          11       1.00      1.00      1.00        86\n",
      "\n",
      "    accuracy                           0.99       761\n",
      "   macro avg       1.00      0.99      0.99       761\n",
      "weighted avg       0.99      0.99      0.99       761\n",
      "\n"
     ]
    }
   ],
   "source": [
    "# standardization\n",
    "scaler = StandardScaler()\n",
    "scaler.fit(X_train)\n",
    "X_train_data_lr = scaler.transform(X_train)\n",
    "X_test_data_lr = scaler.transform(X_test)\n",
    "# logistic regression model\n",
    "lr = LogisticRegression(multi_class='multinomial', penalty='l1', solver='saga', C=0.05, random_state = 21)\n",
    "lr.fit(X_train_data_lr, y_train)\n",
    "y_pred = lr.predict(X_test_data_lr)\n",
    "print(\"Accuracy:\", accuracy_score(y_test, y_pred))\n",
    "print(\"\\n -------------Classification Report-------------\\n\")\n",
    "print(classification_report(y_test, y_pred))"
   ]
  },
  {
   "cell_type": "code",
   "execution_count": 266,
   "metadata": {
    "scrolled": false
   },
   "outputs": [
    {
     "data": {
      "image/png": "[encoded data removed]",
      "text/plain": [
       "<Figure size 1000x1200 with 1 Axes>"
      ]
     },
     "metadata": {},
     "output_type": "display_data"
    },
    {
     "name": "stdout",
     "output_type": "stream",
     "text": [
      "Feature: gy_energy, Coefficient: 0.11355462583864707, Importance: 0.11355462583864707\n",
      "Feature: gy_median, Coefficient: 0.10359312909362188, Importance: 0.10359312909362188\n",
      "Feature: gy_mean, Coefficient: 0.10237468094140016, Importance: 0.10237468094140016\n",
      "Feature: gx_above_mean, Coefficient: 0.09432524347222443, Importance: 0.09432524347222443\n",
      "Feature: z_above_mean, Coefficient: 0.06916263452649542, Importance: 0.06916263452649542\n",
      "Feature: z_skewness, Coefficient: 0.06825743324273609, Importance: 0.06825743324273609\n",
      "Feature: gy_min, Coefficient: 0.06624691660685786, Importance: 0.06624691660685786\n",
      "Feature: gz_median, Coefficient: 0.06244933369027068, Importance: 0.06244933369027068\n",
      "Feature: gx_skewness, Coefficient: 0.05987859908973412, Importance: 0.05987859908973412\n",
      "Feature: z_mad, Coefficient: 0.059540604970432794, Importance: 0.059540604970432794\n",
      "Feature: gz_skewness, Coefficient: 0.058829749676012406, Importance: 0.058829749676012406\n",
      "Feature: gz_energy, Coefficient: 0.05525648652278545, Importance: 0.05525648652278545\n",
      "Feature: gy_peak_count, Coefficient: 0.054648677059600394, Importance: 0.054648677059600394\n",
      "Feature: gz_IQR, Coefficient: 0.05201724981913664, Importance: 0.05201724981913664\n",
      "Feature: gz_mad, Coefficient: 0.05183869398686245, Importance: 0.05183869398686245\n",
      "Feature: z_IQR, Coefficient: 0.05053719612541565, Importance: 0.05053719612541565\n",
      "Feature: x_above_mean, Coefficient: 0.049329186763260806, Importance: 0.049329186763260806\n",
      "Feature: y_mad, Coefficient: 0.04727444347496782, Importance: 0.04727444347496782\n",
      "Feature: z_kurtosis, Coefficient: 0.04658995117171161, Importance: 0.04658995117171161\n",
      "Feature: gx_above_mean_fft, Coefficient: 0.04652030599514493, Importance: 0.04652030599514493\n",
      "Feature: z_mean, Coefficient: 0.04624878691020396, Importance: 0.04624878691020396\n",
      "Feature: z_energy_fft, Coefficient: 0.04552664203231533, Importance: 0.04552664203231533\n",
      "Feature: z_median, Coefficient: 0.04552270519345584, Importance: 0.04552270519345584\n",
      "Feature: x_IQR_fft, Coefficient: 0.043519555545879274, Importance: 0.043519555545879274\n",
      "Feature: x_kurtosis, Coefficient: 0.04149442531318719, Importance: 0.04149442531318719\n",
      "Feature: gy_skewness_fft, Coefficient: 0.04111680016109748, Importance: 0.04111680016109748\n",
      "Feature: gy_above_mean_fft, Coefficient: 0.04087496112416951, Importance: 0.04087496112416951\n",
      "Feature: sma, Coefficient: 0.039223164516543105, Importance: 0.039223164516543105\n",
      "Feature: y_energy_fft, Coefficient: 0.03857894706333568, Importance: 0.03857894706333568\n",
      "Feature: gy_IQR, Coefficient: 0.03753836329398639, Importance: 0.03753836329398639\n",
      "Feature: x_mean, Coefficient: 0.0362857779040211, Importance: 0.0362857779040211\n",
      "Feature: gz_mean, Coefficient: 0.03595033460870484, Importance: 0.03595033460870484\n",
      "Feature: y_IQR, Coefficient: 0.03574458142486298, Importance: 0.03574458142486298\n",
      "Feature: gz_above_mean, Coefficient: 0.03549482708271573, Importance: 0.03549482708271573\n",
      "Feature: gy_mad, Coefficient: 0.0335198790299907, Importance: 0.0335198790299907\n",
      "Feature: gy_kurtosis_fft, Coefficient: 0.03325894353560746, Importance: 0.03325894353560746\n",
      "Feature: gy_energy_fft, Coefficient: 0.03180171286673955, Importance: 0.03180171286673955\n",
      "Feature: x_median, Coefficient: 0.028698828414246813, Importance: 0.028698828414246813\n",
      "Feature: x_skewness, Coefficient: 0.028158444558314556, Importance: 0.028158444558314556\n",
      "Feature: y_above_mean_fft, Coefficient: 0.027647147293827334, Importance: 0.027647147293827334\n",
      "Feature: y_above_mean, Coefficient: 0.027390625675717737, Importance: 0.027390625675717737\n",
      "Feature: gx_mad, Coefficient: 0.027134494245204022, Importance: 0.027134494245204022\n",
      "Feature: x_energy, Coefficient: 0.02694728515881931, Importance: 0.02694728515881931\n",
      "Feature: gy_above_mean, Coefficient: 0.025748686720867955, Importance: 0.025748686720867955\n",
      "Feature: z_energy, Coefficient: 0.025451622676755114, Importance: 0.025451622676755114\n",
      "Feature: z_peak_count, Coefficient: 0.02379005359172039, Importance: 0.02379005359172039\n",
      "Feature: gy_aad, Coefficient: 0.023109696221427275, Importance: 0.023109696221427275\n",
      "Feature: gy_max, Coefficient: 0.022589406461466167, Importance: 0.022589406461466167\n",
      "Feature: gz_above_mean_fft, Coefficient: 0.021954233397778185, Importance: 0.021954233397778185\n",
      "Feature: gx_aad_fft, Coefficient: 0.021359733734863166, Importance: 0.021359733734863166\n"
     ]
    }
   ],
   "source": [
    "# Feature importance\n",
    "feature_names = X_train.columns\n",
    "coefficients = np.abs(lr.coef_).mean(0)\n",
    "importance = np.abs(coefficients)\n",
    "\n",
    "# Sort features by importance\n",
    "sorted_indices = np.argsort(importance)[::-1]\n",
    "sorted_features = [feature_names[i] for i in sorted_indices]\n",
    "sorted_coefficients = coefficients[sorted_indices]\n",
    "sorted_importance = importance[sorted_indices]\n",
    "\n",
    "# Select top 40 features\n",
    "top_n = 50 # 188\n",
    "top_features = sorted_features[:top_n]\n",
    "top_coefficients = sorted_coefficients[:top_n]\n",
    "top_importance = sorted_importance[:top_n]\n",
    "\n",
    "# Create horizontal bar chart\n",
    "plt.figure(figsize=(10, 12))\n",
    "plt.barh(range(len(top_features)), top_importance, tick_label=top_features)\n",
    "plt.xlabel('Importance (Absolute Coefficient Value)')\n",
    "plt.ylabel('Features')\n",
    "#plt.title('Top 40 Feature Importance in Logistic Regression')\n",
    "plt.grid(axis='x')\n",
    "plt.show()\n",
    "\n",
    "for feature, coef, imp in zip(top_features, top_coefficients, top_importance):\n",
    "    print(f\"Feature: {feature}, Coefficient: {coef}, Importance: {imp}\")"
   ]
  },
  {
   "cell_type": "markdown",
   "metadata": {},
   "source": [
    "## Train with less features (Occams Razor)"
   ]
  },
  {
   "cell_type": "code",
   "execution_count": 286,
   "metadata": {
    "scrolled": false
   },
   "outputs": [
    {
     "name": "stdout",
     "output_type": "stream",
     "text": [
      "              precision    recall  f1-score   support\n",
      "\n",
      "           0       0.97      1.00      0.99       101\n",
      "           1       1.00      0.93      0.96        68\n",
      "           2       1.00      1.00      1.00        54\n",
      "           3       1.00      1.00      1.00        45\n",
      "           4       1.00      0.44      0.61        25\n",
      "           5       0.96      1.00      0.98       107\n",
      "           6       1.00      1.00      1.00        13\n",
      "           7       0.00      0.00      0.00         0\n",
      "           8       0.91      0.94      0.93       213\n",
      "           9       1.00      1.00      1.00        10\n",
      "          10       1.00      1.00      1.00        39\n",
      "          11       1.00      1.00      1.00        86\n",
      "\n",
      "    accuracy                           0.96       761\n",
      "   macro avg       0.90      0.86      0.87       761\n",
      "weighted avg       0.97      0.96      0.96       761\n",
      "\n"
     ]
    },
    {
     "data": {
      "text/plain": [
       "0.9592530667081126"
      ]
     },
     "execution_count": 286,
     "metadata": {},
     "output_type": "execute_result"
    }
   ],
   "source": [
    "lr = LogisticRegression(multi_class='multinomial', penalty='l1', solver='saga', C=0.001, random_state=21)\n",
    "lr.fit(np.array(X_train[top_features]), y_train)\n",
    "\n",
    "y_pred = lr.predict(np.array(X_test[top_features]))\n",
    "print(classification_report(y_test, y_pred))\n",
    "f1_score(y_test, y_pred, average='weighted')"
   ]
  },
  {
   "cell_type": "code",
   "execution_count": 287,
   "metadata": {
    "scrolled": false
   },
   "outputs": [
    {
     "data": {
      "image/png": "[encoded data removed]",
      "text/plain": [
       "<Figure size 1000x1200 with 1 Axes>"
      ]
     },
     "metadata": {},
     "output_type": "display_data"
    },
    {
     "name": "stdout",
     "output_type": "stream",
     "text": [
      "Feature: gy_energy, Coefficient: 0.009114879043463904, Importance: 0.009114879043463904\n",
      "Feature: gy_median, Coefficient: 0.006211526831292307, Importance: 0.006211526831292307\n",
      "Feature: gy_mean, Coefficient: 0.00594102907145111, Importance: 0.00594102907145111\n",
      "Feature: gx_above_mean, Coefficient: 0.005666791442767043, Importance: 0.005666791442767043\n",
      "Feature: z_above_mean, Coefficient: 0.005555244816393985, Importance: 0.005555244816393985\n",
      "Feature: z_skewness, Coefficient: 0.004749115620193087, Importance: 0.004749115620193087\n",
      "Feature: gy_min, Coefficient: 0.0047249182916928026, Importance: 0.0047249182916928026\n",
      "Feature: gz_median, Coefficient: 0.0042652944788453525, Importance: 0.0042652944788453525\n",
      "Feature: gx_skewness, Coefficient: 0.004091510147924793, Importance: 0.004091510147924793\n",
      "Feature: z_mad, Coefficient: 0.003925344475650579, Importance: 0.003925344475650579\n",
      "Feature: gz_skewness, Coefficient: 0.0008795046265979412, Importance: 0.0008795046265979412\n",
      "Feature: gz_energy, Coefficient: 0.00029560669612691925, Importance: 0.00029560669612691925\n",
      "Feature: gy_peak_count, Coefficient: 0.0, Importance: 0.0\n",
      "Feature: gz_IQR, Coefficient: 0.0, Importance: 0.0\n",
      "Feature: gz_mad, Coefficient: 0.0, Importance: 0.0\n",
      "Feature: z_IQR, Coefficient: 0.0, Importance: 0.0\n",
      "Feature: x_above_mean, Coefficient: 0.0, Importance: 0.0\n",
      "Feature: y_mad, Coefficient: 0.0, Importance: 0.0\n",
      "Feature: z_kurtosis, Coefficient: 0.0, Importance: 0.0\n",
      "Feature: gx_above_mean_fft, Coefficient: 0.0, Importance: 0.0\n",
      "Feature: z_mean, Coefficient: 0.0, Importance: 0.0\n",
      "Feature: z_energy_fft, Coefficient: 0.0, Importance: 0.0\n",
      "Feature: z_median, Coefficient: 0.0, Importance: 0.0\n",
      "Feature: x_IQR_fft, Coefficient: 0.0, Importance: 0.0\n",
      "Feature: x_kurtosis, Coefficient: 0.0, Importance: 0.0\n",
      "Feature: gy_skewness_fft, Coefficient: 0.0, Importance: 0.0\n",
      "Feature: gy_above_mean_fft, Coefficient: 0.0, Importance: 0.0\n",
      "Feature: sma, Coefficient: 0.0, Importance: 0.0\n",
      "Feature: y_energy_fft, Coefficient: 0.0, Importance: 0.0\n",
      "Feature: gy_IQR, Coefficient: 0.0, Importance: 0.0\n",
      "Feature: x_mean, Coefficient: 0.0, Importance: 0.0\n",
      "Feature: gz_mean, Coefficient: 0.0, Importance: 0.0\n",
      "Feature: y_IQR, Coefficient: 0.0, Importance: 0.0\n",
      "Feature: gz_above_mean, Coefficient: 0.0, Importance: 0.0\n",
      "Feature: gy_mad, Coefficient: 0.0, Importance: 0.0\n",
      "Feature: gy_kurtosis_fft, Coefficient: 0.0, Importance: 0.0\n",
      "Feature: gy_energy_fft, Coefficient: 0.0, Importance: 0.0\n",
      "Feature: x_median, Coefficient: 0.0, Importance: 0.0\n",
      "Feature: x_skewness, Coefficient: 0.0, Importance: 0.0\n",
      "Feature: y_above_mean_fft, Coefficient: 0.0, Importance: 0.0\n",
      "Feature: y_above_mean, Coefficient: 0.0, Importance: 0.0\n",
      "Feature: gx_mad, Coefficient: 0.0, Importance: 0.0\n",
      "Feature: x_energy, Coefficient: 0.0, Importance: 0.0\n",
      "Feature: gy_above_mean, Coefficient: 0.0, Importance: 0.0\n",
      "Feature: z_energy, Coefficient: 0.0, Importance: 0.0\n",
      "Feature: z_peak_count, Coefficient: 0.0, Importance: 0.0\n",
      "Feature: gy_aad, Coefficient: 0.0, Importance: 0.0\n",
      "Feature: gy_max, Coefficient: 0.0, Importance: 0.0\n",
      "Feature: gz_above_mean_fft, Coefficient: 0.0, Importance: 0.0\n",
      "Feature: gx_aad_fft, Coefficient: 0.0, Importance: 0.0\n"
     ]
    }
   ],
   "source": [
    "# Feature importance\n",
    "feature_names = X_train.columns\n",
    "coefficients = np.abs(lr.coef_).mean(0)\n",
    "importance = np.abs(coefficients)\n",
    "\n",
    "# Sort features by importance\n",
    "sorted_indices = np.argsort(importance)[::-1]\n",
    "sorted_features = [feature_names[i] for i in sorted_indices]\n",
    "sorted_coefficients = coefficients[sorted_indices]\n",
    "sorted_importance = importance[sorted_indices]\n",
    "\n",
    "# Select top 40 features\n",
    "top_n = 50 # 188\n",
    "top_features_ = sorted_features[:top_n]\n",
    "top_coefficients = sorted_coefficients[:top_n]\n",
    "top_importance = sorted_importance[:top_n]\n",
    "\n",
    "# Create horizontal bar chart\n",
    "plt.figure(figsize=(10, 12))\n",
    "plt.barh(range(len(top_features_)), top_importance, tick_label=top_features)\n",
    "plt.xlabel('Importance (Absolute Coefficient Value)')\n",
    "plt.ylabel('Features')\n",
    "#plt.title('Top 40 Feature Importance in Logistic Regression')\n",
    "plt.grid(axis='x')\n",
    "plt.show()\n",
    "\n",
    "for feature, coef, imp in zip(top_features, top_coefficients, top_importance):\n",
    "    print(f\"Feature: {feature}, Coefficient: {coef}, Importance: {imp}\")"
   ]
  },
  {
   "cell_type": "markdown",
   "metadata": {},
   "source": [
    "## Tuning"
   ]
  },
  {
   "cell_type": "code",
   "execution_count": 278,
   "metadata": {},
   "outputs": [],
   "source": [
    "import wandb"
   ]
  },
  {
   "cell_type": "code",
   "execution_count": 285,
   "metadata": {},
   "outputs": [
    {
     "name": "stdout",
     "output_type": "stream",
     "text": [
      "Create sweep with ID: vfjumq0e\n",
      "Sweep URL: https://wandb.ai/ds4w/ds4w/sweeps/vfjumq0e\n"
     ]
    },
    {
     "name": "stderr",
     "output_type": "stream",
     "text": [
      "\u001b[34m\u001b[1mwandb\u001b[0m: Agent Starting Run: eni2rs2c with config:\n",
      "\u001b[34m\u001b[1mwandb\u001b[0m: \tC: 0.10244752418181428\n"
     ]
    },
    {
     "data": {
      "text/html": [
       "wandb version 0.17.2 is available!  To upgrade, please run:\n",
       " $ pip install wandb --upgrade"
      ],
      "text/plain": [
       "<IPython.core.display.HTML object>"
      ]
     },
     "metadata": {},
     "output_type": "display_data"
    },
    {
     "data": {
      "text/html": [
       "Tracking run with wandb version 0.13.3"
      ],
      "text/plain": [
       "<IPython.core.display.HTML object>"
      ]
     },
     "metadata": {},
     "output_type": "display_data"
    },
    {
     "data": {
      "text/html": [
       "Run data is saved locally in <code>/home/till/Desktop/ds4w-user-identification/wandb/run-20240623_192532-eni2rs2c</code>"
      ],
      "text/plain": [
       "<IPython.core.display.HTML object>"
      ]
     },
     "metadata": {},
     "output_type": "display_data"
    },
    {
     "data": {
      "text/html": [
       "Syncing run <strong><a href=\"https://wandb.ai/ds4w/ds4w/runs/eni2rs2c\" target=\"_blank\">faithful-sweep-1</a></strong> to <a href=\"https://wandb.ai/ds4w/ds4w\" target=\"_blank\">Weights & Biases</a> (<a href=\"https://wandb.me/run\" target=\"_blank\">docs</a>)<br/>Sweep page:  <a href=\"https://wandb.ai/ds4w/ds4w/sweeps/vfjumq0e\" target=\"_blank\">https://wandb.ai/ds4w/ds4w/sweeps/vfjumq0e</a>"
      ],
      "text/plain": [
       "<IPython.core.display.HTML object>"
      ]
     },
     "metadata": {},
     "output_type": "display_data"
    },
    {
     "name": "stdout",
     "output_type": "stream",
     "text": [
      "              precision    recall  f1-score   support\n",
      "\n",
      "           0       1.00      1.00      1.00       101\n",
      "           1       1.00      0.94      0.97        68\n",
      "           2       1.00      1.00      1.00        54\n",
      "           3       1.00      1.00      1.00        45\n",
      "           4       0.93      1.00      0.96        25\n",
      "           5       1.00      1.00      1.00       107\n",
      "           6       1.00      1.00      1.00        13\n",
      "           7       0.00      0.00      0.00         0\n",
      "           8       0.98      0.94      0.96       213\n",
      "           9       0.67      0.80      0.73        10\n",
      "          10       0.89      1.00      0.94        39\n",
      "          11       1.00      1.00      1.00        86\n",
      "\n",
      "    accuracy                           0.98       761\n",
      "   macro avg       0.87      0.89      0.88       761\n",
      "weighted avg       0.98      0.98      0.98       761\n",
      "\n"
     ]
    },
    {
     "data": {
      "text/html": [
       "Waiting for W&B process to finish... <strong style=\"color:green\">(success).</strong>"
      ],
      "text/plain": [
       "<IPython.core.display.HTML object>"
      ]
     },
     "metadata": {},
     "output_type": "display_data"
    },
    {
     "data": {
      "application/vnd.jupyter.widget-view+json": {
       "model_id": "",
       "version_major": 2,
       "version_minor": 0
      },
      "text/plain": [
       "VBox(children=(Label(value='0.001 MB of 0.001 MB uploaded (0.000 MB deduped)\\r'), FloatProgress(value=1.0, max…"
      ]
     },
     "metadata": {},
     "output_type": "display_data"
    },
    {
     "data": {
      "text/html": [
       "<style>\n",
       "    table.wandb td:nth-child(1) { padding: 0 10px; text-align: left ; width: auto;} td:nth-child(2) {text-align: left ; width: 100%}\n",
       "    .wandb-row { display: flex; flex-direction: row; flex-wrap: wrap; justify-content: flex-start; width: 100% }\n",
       "    .wandb-col { display: flex; flex-direction: column; flex-basis: 100%; flex: 1; padding: 10px; }\n",
       "    </style>\n",
       "<div class=\"wandb-row\"><div class=\"wandb-col\"><h3>Run history:</h3><br/><table class=\"wandb\"><tr><td>val_f1</td><td>▁</td></tr></table><br/></div><div class=\"wandb-col\"><h3>Run summary:</h3><br/><table class=\"wandb\"><tr><td>val_f1</td><td>0.97864</td></tr></table><br/></div></div>"
      ],
      "text/plain": [
       "<IPython.core.display.HTML object>"
      ]
     },
     "metadata": {},
     "output_type": "display_data"
    },
    {
     "data": {
      "text/html": [
       "Synced <strong style=\"color:#cdcd00\">faithful-sweep-1</strong>: <a href=\"https://wandb.ai/ds4w/ds4w/runs/eni2rs2c\" target=\"_blank\">https://wandb.ai/ds4w/ds4w/runs/eni2rs2c</a><br/>Synced 6 W&B file(s), 0 media file(s), 0 artifact file(s) and 0 other file(s)"
      ],
      "text/plain": [
       "<IPython.core.display.HTML object>"
      ]
     },
     "metadata": {},
     "output_type": "display_data"
    },
    {
     "data": {
      "text/html": [
       "Find logs at: <code>./wandb/run-20240623_192532-eni2rs2c/logs</code>"
      ],
      "text/plain": [
       "<IPython.core.display.HTML object>"
      ]
     },
     "metadata": {},
     "output_type": "display_data"
    },
    {
     "name": "stderr",
     "output_type": "stream",
     "text": [
      "\u001b[34m\u001b[1mwandb\u001b[0m: Sweep Agent: Waiting for job.\n",
      "\u001b[34m\u001b[1mwandb\u001b[0m: Job received.\n",
      "\u001b[34m\u001b[1mwandb\u001b[0m: Agent Starting Run: mh8hxqdn with config:\n",
      "\u001b[34m\u001b[1mwandb\u001b[0m: \tC: 0.009492809277979075\n"
     ]
    },
    {
     "data": {
      "text/html": [
       "wandb version 0.17.2 is available!  To upgrade, please run:\n",
       " $ pip install wandb --upgrade"
      ],
      "text/plain": [
       "<IPython.core.display.HTML object>"
      ]
     },
     "metadata": {},
     "output_type": "display_data"
    },
    {
     "data": {
      "text/html": [
       "Tracking run with wandb version 0.13.3"
      ],
      "text/plain": [
       "<IPython.core.display.HTML object>"
      ]
     },
     "metadata": {},
     "output_type": "display_data"
    },
    {
     "data": {
      "text/html": [
       "Run data is saved locally in <code>/home/till/Desktop/ds4w-user-identification/wandb/run-20240623_192552-mh8hxqdn</code>"
      ],
      "text/plain": [
       "<IPython.core.display.HTML object>"
      ]
     },
     "metadata": {},
     "output_type": "display_data"
    },
    {
     "data": {
      "text/html": [
       "Syncing run <strong><a href=\"https://wandb.ai/ds4w/ds4w/runs/mh8hxqdn\" target=\"_blank\">eager-sweep-2</a></strong> to <a href=\"https://wandb.ai/ds4w/ds4w\" target=\"_blank\">Weights & Biases</a> (<a href=\"https://wandb.me/run\" target=\"_blank\">docs</a>)<br/>Sweep page:  <a href=\"https://wandb.ai/ds4w/ds4w/sweeps/vfjumq0e\" target=\"_blank\">https://wandb.ai/ds4w/ds4w/sweeps/vfjumq0e</a>"
      ],
      "text/plain": [
       "<IPython.core.display.HTML object>"
      ]
     },
     "metadata": {},
     "output_type": "display_data"
    },
    {
     "name": "stdout",
     "output_type": "stream",
     "text": [
      "              precision    recall  f1-score   support\n",
      "\n",
      "           0       1.00      1.00      1.00       101\n",
      "           1       1.00      0.94      0.97        68\n",
      "           2       1.00      1.00      1.00        54\n",
      "           3       1.00      1.00      1.00        45\n",
      "           4       0.93      1.00      0.96        25\n",
      "           5       1.00      1.00      1.00       107\n",
      "           6       1.00      1.00      1.00        13\n",
      "           7       0.00      0.00      0.00         0\n",
      "           8       0.98      0.94      0.96       213\n",
      "           9       0.67      0.80      0.73        10\n",
      "          10       0.89      1.00      0.94        39\n",
      "          11       1.00      1.00      1.00        86\n",
      "\n",
      "    accuracy                           0.98       761\n",
      "   macro avg       0.87      0.89      0.88       761\n",
      "weighted avg       0.98      0.98      0.98       761\n",
      "\n"
     ]
    },
    {
     "data": {
      "text/html": [
       "Waiting for W&B process to finish... <strong style=\"color:green\">(success).</strong>"
      ],
      "text/plain": [
       "<IPython.core.display.HTML object>"
      ]
     },
     "metadata": {},
     "output_type": "display_data"
    },
    {
     "data": {
      "application/vnd.jupyter.widget-view+json": {
       "model_id": "",
       "version_major": 2,
       "version_minor": 0
      },
      "text/plain": [
       "VBox(children=(Label(value='0.001 MB of 0.001 MB uploaded (0.000 MB deduped)\\r'), FloatProgress(value=1.0, max…"
      ]
     },
     "metadata": {},
     "output_type": "display_data"
    },
    {
     "data": {
      "text/html": [
       "<style>\n",
       "    table.wandb td:nth-child(1) { padding: 0 10px; text-align: left ; width: auto;} td:nth-child(2) {text-align: left ; width: 100%}\n",
       "    .wandb-row { display: flex; flex-direction: row; flex-wrap: wrap; justify-content: flex-start; width: 100% }\n",
       "    .wandb-col { display: flex; flex-direction: column; flex-basis: 100%; flex: 1; padding: 10px; }\n",
       "    </style>\n",
       "<div class=\"wandb-row\"><div class=\"wandb-col\"><h3>Run history:</h3><br/><table class=\"wandb\"><tr><td>val_f1</td><td>▁</td></tr></table><br/></div><div class=\"wandb-col\"><h3>Run summary:</h3><br/><table class=\"wandb\"><tr><td>val_f1</td><td>0.97864</td></tr></table><br/></div></div>"
      ],
      "text/plain": [
       "<IPython.core.display.HTML object>"
      ]
     },
     "metadata": {},
     "output_type": "display_data"
    },
    {
     "data": {
      "text/html": [
       "Synced <strong style=\"color:#cdcd00\">eager-sweep-2</strong>: <a href=\"https://wandb.ai/ds4w/ds4w/runs/mh8hxqdn\" target=\"_blank\">https://wandb.ai/ds4w/ds4w/runs/mh8hxqdn</a><br/>Synced 6 W&B file(s), 0 media file(s), 0 artifact file(s) and 0 other file(s)"
      ],
      "text/plain": [
       "<IPython.core.display.HTML object>"
      ]
     },
     "metadata": {},
     "output_type": "display_data"
    },
    {
     "data": {
      "text/html": [
       "Find logs at: <code>./wandb/run-20240623_192552-mh8hxqdn/logs</code>"
      ],
      "text/plain": [
       "<IPython.core.display.HTML object>"
      ]
     },
     "metadata": {},
     "output_type": "display_data"
    },
    {
     "name": "stderr",
     "output_type": "stream",
     "text": [
      "\u001b[34m\u001b[1mwandb\u001b[0m: Sweep Agent: Waiting for job.\n",
      "\u001b[34m\u001b[1mwandb\u001b[0m: Job received.\n",
      "\u001b[34m\u001b[1mwandb\u001b[0m: Agent Starting Run: 3pw67hid with config:\n",
      "\u001b[34m\u001b[1mwandb\u001b[0m: \tC: 0.003953814544660583\n"
     ]
    },
    {
     "data": {
      "text/html": [
       "wandb version 0.17.2 is available!  To upgrade, please run:\n",
       " $ pip install wandb --upgrade"
      ],
      "text/plain": [
       "<IPython.core.display.HTML object>"
      ]
     },
     "metadata": {},
     "output_type": "display_data"
    },
    {
     "data": {
      "text/html": [
       "Tracking run with wandb version 0.13.3"
      ],
      "text/plain": [
       "<IPython.core.display.HTML object>"
      ]
     },
     "metadata": {},
     "output_type": "display_data"
    },
    {
     "data": {
      "text/html": [
       "Run data is saved locally in <code>/home/till/Desktop/ds4w-user-identification/wandb/run-20240623_192612-3pw67hid</code>"
      ],
      "text/plain": [
       "<IPython.core.display.HTML object>"
      ]
     },
     "metadata": {},
     "output_type": "display_data"
    },
    {
     "data": {
      "text/html": [
       "Syncing run <strong><a href=\"https://wandb.ai/ds4w/ds4w/runs/3pw67hid\" target=\"_blank\">charmed-sweep-3</a></strong> to <a href=\"https://wandb.ai/ds4w/ds4w\" target=\"_blank\">Weights & Biases</a> (<a href=\"https://wandb.me/run\" target=\"_blank\">docs</a>)<br/>Sweep page:  <a href=\"https://wandb.ai/ds4w/ds4w/sweeps/vfjumq0e\" target=\"_blank\">https://wandb.ai/ds4w/ds4w/sweeps/vfjumq0e</a>"
      ],
      "text/plain": [
       "<IPython.core.display.HTML object>"
      ]
     },
     "metadata": {},
     "output_type": "display_data"
    },
    {
     "name": "stdout",
     "output_type": "stream",
     "text": [
      "              precision    recall  f1-score   support\n",
      "\n",
      "           0       1.00      1.00      1.00       101\n",
      "           1       1.00      0.94      0.97        68\n",
      "           2       1.00      1.00      1.00        54\n",
      "           3       1.00      1.00      1.00        45\n",
      "           4       0.93      1.00      0.96        25\n",
      "           5       0.99      1.00      1.00       107\n",
      "           6       1.00      1.00      1.00        13\n",
      "           7       0.00      0.00      0.00         0\n",
      "           8       0.98      0.95      0.96       213\n",
      "           9       0.78      0.70      0.74        10\n",
      "          10       0.89      1.00      0.94        39\n",
      "          11       0.99      1.00      0.99        86\n",
      "\n",
      "    accuracy                           0.98       761\n",
      "   macro avg       0.88      0.88      0.88       761\n",
      "weighted avg       0.98      0.98      0.98       761\n",
      "\n"
     ]
    },
    {
     "data": {
      "text/html": [
       "Waiting for W&B process to finish... <strong style=\"color:green\">(success).</strong>"
      ],
      "text/plain": [
       "<IPython.core.display.HTML object>"
      ]
     },
     "metadata": {},
     "output_type": "display_data"
    },
    {
     "data": {
      "application/vnd.jupyter.widget-view+json": {
       "model_id": "",
       "version_major": 2,
       "version_minor": 0
      },
      "text/plain": [
       "VBox(children=(Label(value='0.001 MB of 0.001 MB uploaded (0.000 MB deduped)\\r'), FloatProgress(value=1.0, max…"
      ]
     },
     "metadata": {},
     "output_type": "display_data"
    },
    {
     "data": {
      "text/html": [
       "<style>\n",
       "    table.wandb td:nth-child(1) { padding: 0 10px; text-align: left ; width: auto;} td:nth-child(2) {text-align: left ; width: 100%}\n",
       "    .wandb-row { display: flex; flex-direction: row; flex-wrap: wrap; justify-content: flex-start; width: 100% }\n",
       "    .wandb-col { display: flex; flex-direction: column; flex-basis: 100%; flex: 1; padding: 10px; }\n",
       "    </style>\n",
       "<div class=\"wandb-row\"><div class=\"wandb-col\"><h3>Run history:</h3><br/><table class=\"wandb\"><tr><td>val_f1</td><td>▁</td></tr></table><br/></div><div class=\"wandb-col\"><h3>Run summary:</h3><br/><table class=\"wandb\"><tr><td>val_f1</td><td>0.97816</td></tr></table><br/></div></div>"
      ],
      "text/plain": [
       "<IPython.core.display.HTML object>"
      ]
     },
     "metadata": {},
     "output_type": "display_data"
    },
    {
     "data": {
      "text/html": [
       "Synced <strong style=\"color:#cdcd00\">charmed-sweep-3</strong>: <a href=\"https://wandb.ai/ds4w/ds4w/runs/3pw67hid\" target=\"_blank\">https://wandb.ai/ds4w/ds4w/runs/3pw67hid</a><br/>Synced 6 W&B file(s), 0 media file(s), 0 artifact file(s) and 0 other file(s)"
      ],
      "text/plain": [
       "<IPython.core.display.HTML object>"
      ]
     },
     "metadata": {},
     "output_type": "display_data"
    },
    {
     "data": {
      "text/html": [
       "Find logs at: <code>./wandb/run-20240623_192612-3pw67hid/logs</code>"
      ],
      "text/plain": [
       "<IPython.core.display.HTML object>"
      ]
     },
     "metadata": {},
     "output_type": "display_data"
    },
    {
     "name": "stderr",
     "output_type": "stream",
     "text": [
      "\u001b[34m\u001b[1mwandb\u001b[0m: Agent Starting Run: u0xz2lwf with config:\n",
      "\u001b[34m\u001b[1mwandb\u001b[0m: \tC: 0.03609408737066498\n"
     ]
    },
    {
     "data": {
      "text/html": [
       "wandb version 0.17.2 is available!  To upgrade, please run:\n",
       " $ pip install wandb --upgrade"
      ],
      "text/plain": [
       "<IPython.core.display.HTML object>"
      ]
     },
     "metadata": {},
     "output_type": "display_data"
    },
    {
     "data": {
      "text/html": [
       "Tracking run with wandb version 0.13.3"
      ],
      "text/plain": [
       "<IPython.core.display.HTML object>"
      ]
     },
     "metadata": {},
     "output_type": "display_data"
    },
    {
     "data": {
      "text/html": [
       "Run data is saved locally in <code>/home/till/Desktop/ds4w-user-identification/wandb/run-20240623_192624-u0xz2lwf</code>"
      ],
      "text/plain": [
       "<IPython.core.display.HTML object>"
      ]
     },
     "metadata": {},
     "output_type": "display_data"
    },
    {
     "data": {
      "text/html": [
       "Syncing run <strong><a href=\"https://wandb.ai/ds4w/ds4w/runs/u0xz2lwf\" target=\"_blank\">winter-sweep-4</a></strong> to <a href=\"https://wandb.ai/ds4w/ds4w\" target=\"_blank\">Weights & Biases</a> (<a href=\"https://wandb.me/run\" target=\"_blank\">docs</a>)<br/>Sweep page:  <a href=\"https://wandb.ai/ds4w/ds4w/sweeps/vfjumq0e\" target=\"_blank\">https://wandb.ai/ds4w/ds4w/sweeps/vfjumq0e</a>"
      ],
      "text/plain": [
       "<IPython.core.display.HTML object>"
      ]
     },
     "metadata": {},
     "output_type": "display_data"
    },
    {
     "name": "stdout",
     "output_type": "stream",
     "text": [
      "              precision    recall  f1-score   support\n",
      "\n",
      "           0       1.00      1.00      1.00       101\n",
      "           1       1.00      0.94      0.97        68\n",
      "           2       1.00      1.00      1.00        54\n",
      "           3       1.00      1.00      1.00        45\n",
      "           4       0.93      1.00      0.96        25\n",
      "           5       1.00      1.00      1.00       107\n",
      "           6       1.00      1.00      1.00        13\n",
      "           7       0.00      0.00      0.00         0\n",
      "           8       0.98      0.94      0.96       213\n",
      "           9       0.67      0.80      0.73        10\n",
      "          10       0.89      1.00      0.94        39\n",
      "          11       1.00      1.00      1.00        86\n",
      "\n",
      "    accuracy                           0.98       761\n",
      "   macro avg       0.87      0.89      0.88       761\n",
      "weighted avg       0.98      0.98      0.98       761\n",
      "\n"
     ]
    },
    {
     "data": {
      "text/html": [
       "Waiting for W&B process to finish... <strong style=\"color:green\">(success).</strong>"
      ],
      "text/plain": [
       "<IPython.core.display.HTML object>"
      ]
     },
     "metadata": {},
     "output_type": "display_data"
    },
    {
     "data": {
      "application/vnd.jupyter.widget-view+json": {
       "model_id": "",
       "version_major": 2,
       "version_minor": 0
      },
      "text/plain": [
       "VBox(children=(Label(value='0.001 MB of 0.001 MB uploaded (0.000 MB deduped)\\r'), FloatProgress(value=1.0, max…"
      ]
     },
     "metadata": {},
     "output_type": "display_data"
    },
    {
     "data": {
      "text/html": [
       "<style>\n",
       "    table.wandb td:nth-child(1) { padding: 0 10px; text-align: left ; width: auto;} td:nth-child(2) {text-align: left ; width: 100%}\n",
       "    .wandb-row { display: flex; flex-direction: row; flex-wrap: wrap; justify-content: flex-start; width: 100% }\n",
       "    .wandb-col { display: flex; flex-direction: column; flex-basis: 100%; flex: 1; padding: 10px; }\n",
       "    </style>\n",
       "<div class=\"wandb-row\"><div class=\"wandb-col\"><h3>Run history:</h3><br/><table class=\"wandb\"><tr><td>val_f1</td><td>▁</td></tr></table><br/></div><div class=\"wandb-col\"><h3>Run summary:</h3><br/><table class=\"wandb\"><tr><td>val_f1</td><td>0.97864</td></tr></table><br/></div></div>"
      ],
      "text/plain": [
       "<IPython.core.display.HTML object>"
      ]
     },
     "metadata": {},
     "output_type": "display_data"
    },
    {
     "data": {
      "text/html": [
       "Synced <strong style=\"color:#cdcd00\">winter-sweep-4</strong>: <a href=\"https://wandb.ai/ds4w/ds4w/runs/u0xz2lwf\" target=\"_blank\">https://wandb.ai/ds4w/ds4w/runs/u0xz2lwf</a><br/>Synced 6 W&B file(s), 0 media file(s), 0 artifact file(s) and 0 other file(s)"
      ],
      "text/plain": [
       "<IPython.core.display.HTML object>"
      ]
     },
     "metadata": {},
     "output_type": "display_data"
    },
    {
     "data": {
      "text/html": [
       "Find logs at: <code>./wandb/run-20240623_192624-u0xz2lwf/logs</code>"
      ],
      "text/plain": [
       "<IPython.core.display.HTML object>"
      ]
     },
     "metadata": {},
     "output_type": "display_data"
    },
    {
     "name": "stderr",
     "output_type": "stream",
     "text": [
      "\u001b[34m\u001b[1mwandb\u001b[0m: Agent Starting Run: qxvv0djy with config:\n",
      "\u001b[34m\u001b[1mwandb\u001b[0m: \tC: 0.001872831608753394\n"
     ]
    },
    {
     "data": {
      "text/html": [
       "wandb version 0.17.2 is available!  To upgrade, please run:\n",
       " $ pip install wandb --upgrade"
      ],
      "text/plain": [
       "<IPython.core.display.HTML object>"
      ]
     },
     "metadata": {},
     "output_type": "display_data"
    },
    {
     "data": {
      "text/html": [
       "Tracking run with wandb version 0.13.3"
      ],
      "text/plain": [
       "<IPython.core.display.HTML object>"
      ]
     },
     "metadata": {},
     "output_type": "display_data"
    },
    {
     "data": {
      "text/html": [
       "Run data is saved locally in <code>/home/till/Desktop/ds4w-user-identification/wandb/run-20240623_192635-qxvv0djy</code>"
      ],
      "text/plain": [
       "<IPython.core.display.HTML object>"
      ]
     },
     "metadata": {},
     "output_type": "display_data"
    },
    {
     "data": {
      "text/html": [
       "Syncing run <strong><a href=\"https://wandb.ai/ds4w/ds4w/runs/qxvv0djy\" target=\"_blank\">visionary-sweep-5</a></strong> to <a href=\"https://wandb.ai/ds4w/ds4w\" target=\"_blank\">Weights & Biases</a> (<a href=\"https://wandb.me/run\" target=\"_blank\">docs</a>)<br/>Sweep page:  <a href=\"https://wandb.ai/ds4w/ds4w/sweeps/vfjumq0e\" target=\"_blank\">https://wandb.ai/ds4w/ds4w/sweeps/vfjumq0e</a>"
      ],
      "text/plain": [
       "<IPython.core.display.HTML object>"
      ]
     },
     "metadata": {},
     "output_type": "display_data"
    },
    {
     "name": "stdout",
     "output_type": "stream",
     "text": [
      "              precision    recall  f1-score   support\n",
      "\n",
      "           0       1.00      1.00      1.00       101\n",
      "           1       1.00      0.93      0.96        68\n",
      "           2       1.00      1.00      1.00        54\n",
      "           3       1.00      1.00      1.00        45\n",
      "           4       0.93      1.00      0.96        25\n",
      "           5       0.99      1.00      1.00       107\n",
      "           6       1.00      1.00      1.00        13\n",
      "           7       0.00      0.00      0.00         0\n",
      "           8       0.98      0.96      0.97       213\n",
      "           9       1.00      0.70      0.82        10\n",
      "          10       0.91      1.00      0.95        39\n",
      "          11       0.99      1.00      0.99        86\n",
      "\n",
      "    accuracy                           0.98       761\n",
      "   macro avg       0.90      0.88      0.89       761\n",
      "weighted avg       0.98      0.98      0.98       761\n",
      "\n"
     ]
    },
    {
     "data": {
      "text/html": [
       "Waiting for W&B process to finish... <strong style=\"color:green\">(success).</strong>"
      ],
      "text/plain": [
       "<IPython.core.display.HTML object>"
      ]
     },
     "metadata": {},
     "output_type": "display_data"
    },
    {
     "data": {
      "application/vnd.jupyter.widget-view+json": {
       "model_id": "",
       "version_major": 2,
       "version_minor": 0
      },
      "text/plain": [
       "VBox(children=(Label(value='0.001 MB of 0.001 MB uploaded (0.000 MB deduped)\\r'), FloatProgress(value=1.0, max…"
      ]
     },
     "metadata": {},
     "output_type": "display_data"
    },
    {
     "data": {
      "text/html": [
       "<style>\n",
       "    table.wandb td:nth-child(1) { padding: 0 10px; text-align: left ; width: auto;} td:nth-child(2) {text-align: left ; width: 100%}\n",
       "    .wandb-row { display: flex; flex-direction: row; flex-wrap: wrap; justify-content: flex-start; width: 100% }\n",
       "    .wandb-col { display: flex; flex-direction: column; flex-basis: 100%; flex: 1; padding: 10px; }\n",
       "    </style>\n",
       "<div class=\"wandb-row\"><div class=\"wandb-col\"><h3>Run history:</h3><br/><table class=\"wandb\"><tr><td>val_f1</td><td>▁</td></tr></table><br/></div><div class=\"wandb-col\"><h3>Run summary:</h3><br/><table class=\"wandb\"><tr><td>val_f1</td><td>0.97991</td></tr></table><br/></div></div>"
      ],
      "text/plain": [
       "<IPython.core.display.HTML object>"
      ]
     },
     "metadata": {},
     "output_type": "display_data"
    },
    {
     "data": {
      "text/html": [
       "Synced <strong style=\"color:#cdcd00\">visionary-sweep-5</strong>: <a href=\"https://wandb.ai/ds4w/ds4w/runs/qxvv0djy\" target=\"_blank\">https://wandb.ai/ds4w/ds4w/runs/qxvv0djy</a><br/>Synced 6 W&B file(s), 0 media file(s), 0 artifact file(s) and 0 other file(s)"
      ],
      "text/plain": [
       "<IPython.core.display.HTML object>"
      ]
     },
     "metadata": {},
     "output_type": "display_data"
    },
    {
     "data": {
      "text/html": [
       "Find logs at: <code>./wandb/run-20240623_192635-qxvv0djy/logs</code>"
      ],
      "text/plain": [
       "<IPython.core.display.HTML object>"
      ]
     },
     "metadata": {},
     "output_type": "display_data"
    },
    {
     "name": "stderr",
     "output_type": "stream",
     "text": [
      "\u001b[34m\u001b[1mwandb\u001b[0m: Sweep Agent: Waiting for job.\n",
      "\u001b[34m\u001b[1mwandb\u001b[0m: Job received.\n",
      "\u001b[34m\u001b[1mwandb\u001b[0m: Agent Starting Run: je9vzrgo with config:\n",
      "\u001b[34m\u001b[1mwandb\u001b[0m: \tC: 0.0015828411637242947\n"
     ]
    },
    {
     "data": {
      "text/html": [
       "wandb version 0.17.2 is available!  To upgrade, please run:\n",
       " $ pip install wandb --upgrade"
      ],
      "text/plain": [
       "<IPython.core.display.HTML object>"
      ]
     },
     "metadata": {},
     "output_type": "display_data"
    },
    {
     "data": {
      "text/html": [
       "Tracking run with wandb version 0.13.3"
      ],
      "text/plain": [
       "<IPython.core.display.HTML object>"
      ]
     },
     "metadata": {},
     "output_type": "display_data"
    },
    {
     "data": {
      "text/html": [
       "Run data is saved locally in <code>/home/till/Desktop/ds4w-user-identification/wandb/run-20240623_192655-je9vzrgo</code>"
      ],
      "text/plain": [
       "<IPython.core.display.HTML object>"
      ]
     },
     "metadata": {},
     "output_type": "display_data"
    },
    {
     "data": {
      "text/html": [
       "Syncing run <strong><a href=\"https://wandb.ai/ds4w/ds4w/runs/je9vzrgo\" target=\"_blank\">fluent-sweep-6</a></strong> to <a href=\"https://wandb.ai/ds4w/ds4w\" target=\"_blank\">Weights & Biases</a> (<a href=\"https://wandb.me/run\" target=\"_blank\">docs</a>)<br/>Sweep page:  <a href=\"https://wandb.ai/ds4w/ds4w/sweeps/vfjumq0e\" target=\"_blank\">https://wandb.ai/ds4w/ds4w/sweeps/vfjumq0e</a>"
      ],
      "text/plain": [
       "<IPython.core.display.HTML object>"
      ]
     },
     "metadata": {},
     "output_type": "display_data"
    },
    {
     "name": "stdout",
     "output_type": "stream",
     "text": [
      "              precision    recall  f1-score   support\n",
      "\n",
      "           0       1.00      1.00      1.00       101\n",
      "           1       1.00      0.93      0.96        68\n",
      "           2       1.00      1.00      1.00        54\n",
      "           3       1.00      1.00      1.00        45\n",
      "           4       0.93      1.00      0.96        25\n",
      "           5       0.99      1.00      1.00       107\n",
      "           6       1.00      1.00      1.00        13\n",
      "           7       0.00      0.00      0.00         0\n",
      "           8       0.98      0.96      0.97       213\n",
      "           9       1.00      0.70      0.82        10\n",
      "          10       0.93      1.00      0.96        39\n",
      "          11       0.99      1.00      0.99        86\n",
      "\n",
      "    accuracy                           0.98       761\n",
      "   macro avg       0.90      0.88      0.89       761\n",
      "weighted avg       0.98      0.98      0.98       761\n",
      "\n"
     ]
    },
    {
     "data": {
      "text/html": [
       "Waiting for W&B process to finish... <strong style=\"color:green\">(success).</strong>"
      ],
      "text/plain": [
       "<IPython.core.display.HTML object>"
      ]
     },
     "metadata": {},
     "output_type": "display_data"
    },
    {
     "data": {
      "application/vnd.jupyter.widget-view+json": {
       "model_id": "",
       "version_major": 2,
       "version_minor": 0
      },
      "text/plain": [
       "VBox(children=(Label(value='0.001 MB of 0.001 MB uploaded (0.000 MB deduped)\\r'), FloatProgress(value=1.0, max…"
      ]
     },
     "metadata": {},
     "output_type": "display_data"
    },
    {
     "data": {
      "text/html": [
       "<style>\n",
       "    table.wandb td:nth-child(1) { padding: 0 10px; text-align: left ; width: auto;} td:nth-child(2) {text-align: left ; width: 100%}\n",
       "    .wandb-row { display: flex; flex-direction: row; flex-wrap: wrap; justify-content: flex-start; width: 100% }\n",
       "    .wandb-col { display: flex; flex-direction: column; flex-basis: 100%; flex: 1; padding: 10px; }\n",
       "    </style>\n",
       "<div class=\"wandb-row\"><div class=\"wandb-col\"><h3>Run history:</h3><br/><table class=\"wandb\"><tr><td>val_f1</td><td>▁</td></tr></table><br/></div><div class=\"wandb-col\"><h3>Run summary:</h3><br/><table class=\"wandb\"><tr><td>val_f1</td><td>0.9812</td></tr></table><br/></div></div>"
      ],
      "text/plain": [
       "<IPython.core.display.HTML object>"
      ]
     },
     "metadata": {},
     "output_type": "display_data"
    },
    {
     "data": {
      "text/html": [
       "Synced <strong style=\"color:#cdcd00\">fluent-sweep-6</strong>: <a href=\"https://wandb.ai/ds4w/ds4w/runs/je9vzrgo\" target=\"_blank\">https://wandb.ai/ds4w/ds4w/runs/je9vzrgo</a><br/>Synced 6 W&B file(s), 0 media file(s), 0 artifact file(s) and 0 other file(s)"
      ],
      "text/plain": [
       "<IPython.core.display.HTML object>"
      ]
     },
     "metadata": {},
     "output_type": "display_data"
    },
    {
     "data": {
      "text/html": [
       "Find logs at: <code>./wandb/run-20240623_192655-je9vzrgo/logs</code>"
      ],
      "text/plain": [
       "<IPython.core.display.HTML object>"
      ]
     },
     "metadata": {},
     "output_type": "display_data"
    },
    {
     "name": "stderr",
     "output_type": "stream",
     "text": [
      "\u001b[34m\u001b[1mwandb\u001b[0m: Sweep Agent: Waiting for job.\n",
      "\u001b[34m\u001b[1mwandb\u001b[0m: Job received.\n",
      "\u001b[34m\u001b[1mwandb\u001b[0m: Agent Starting Run: 06y61frn with config:\n",
      "\u001b[34m\u001b[1mwandb\u001b[0m: \tC: 0.00014119282426796904\n"
     ]
    },
    {
     "data": {
      "text/html": [
       "wandb version 0.17.2 is available!  To upgrade, please run:\n",
       " $ pip install wandb --upgrade"
      ],
      "text/plain": [
       "<IPython.core.display.HTML object>"
      ]
     },
     "metadata": {},
     "output_type": "display_data"
    },
    {
     "data": {
      "text/html": [
       "Tracking run with wandb version 0.13.3"
      ],
      "text/plain": [
       "<IPython.core.display.HTML object>"
      ]
     },
     "metadata": {},
     "output_type": "display_data"
    },
    {
     "data": {
      "text/html": [
       "Run data is saved locally in <code>/home/till/Desktop/ds4w-user-identification/wandb/run-20240623_192715-06y61frn</code>"
      ],
      "text/plain": [
       "<IPython.core.display.HTML object>"
      ]
     },
     "metadata": {},
     "output_type": "display_data"
    },
    {
     "data": {
      "text/html": [
       "Syncing run <strong><a href=\"https://wandb.ai/ds4w/ds4w/runs/06y61frn\" target=\"_blank\">fearless-sweep-7</a></strong> to <a href=\"https://wandb.ai/ds4w/ds4w\" target=\"_blank\">Weights & Biases</a> (<a href=\"https://wandb.me/run\" target=\"_blank\">docs</a>)<br/>Sweep page:  <a href=\"https://wandb.ai/ds4w/ds4w/sweeps/vfjumq0e\" target=\"_blank\">https://wandb.ai/ds4w/ds4w/sweeps/vfjumq0e</a>"
      ],
      "text/plain": [
       "<IPython.core.display.HTML object>"
      ]
     },
     "metadata": {},
     "output_type": "display_data"
    },
    {
     "name": "stdout",
     "output_type": "stream",
     "text": [
      "              precision    recall  f1-score   support\n",
      "\n",
      "           0       0.96      1.00      0.98       101\n",
      "           1       0.98      0.87      0.92        68\n",
      "           2       1.00      0.96      0.98        54\n",
      "           3       1.00      1.00      1.00        45\n",
      "           4       1.00      0.76      0.86        25\n",
      "           5       0.98      1.00      0.99       107\n",
      "           6       1.00      1.00      1.00        13\n",
      "           8       0.92      0.96      0.94       213\n",
      "           9       0.75      0.60      0.67        10\n",
      "          10       0.97      1.00      0.99        39\n",
      "          11       0.99      1.00      0.99        86\n",
      "\n",
      "    accuracy                           0.96       761\n",
      "   macro avg       0.96      0.92      0.94       761\n",
      "weighted avg       0.96      0.96      0.96       761\n",
      "\n"
     ]
    },
    {
     "data": {
      "text/html": [
       "Waiting for W&B process to finish... <strong style=\"color:green\">(success).</strong>"
      ],
      "text/plain": [
       "<IPython.core.display.HTML object>"
      ]
     },
     "metadata": {},
     "output_type": "display_data"
    },
    {
     "data": {
      "application/vnd.jupyter.widget-view+json": {
       "model_id": "",
       "version_major": 2,
       "version_minor": 0
      },
      "text/plain": [
       "VBox(children=(Label(value='0.001 MB of 0.001 MB uploaded (0.000 MB deduped)\\r'), FloatProgress(value=1.0, max…"
      ]
     },
     "metadata": {},
     "output_type": "display_data"
    },
    {
     "data": {
      "text/html": [
       "<style>\n",
       "    table.wandb td:nth-child(1) { padding: 0 10px; text-align: left ; width: auto;} td:nth-child(2) {text-align: left ; width: 100%}\n",
       "    .wandb-row { display: flex; flex-direction: row; flex-wrap: wrap; justify-content: flex-start; width: 100% }\n",
       "    .wandb-col { display: flex; flex-direction: column; flex-basis: 100%; flex: 1; padding: 10px; }\n",
       "    </style>\n",
       "<div class=\"wandb-row\"><div class=\"wandb-col\"><h3>Run history:</h3><br/><table class=\"wandb\"><tr><td>val_f1</td><td>▁</td></tr></table><br/></div><div class=\"wandb-col\"><h3>Run summary:</h3><br/><table class=\"wandb\"><tr><td>val_f1</td><td>0.96095</td></tr></table><br/></div></div>"
      ],
      "text/plain": [
       "<IPython.core.display.HTML object>"
      ]
     },
     "metadata": {},
     "output_type": "display_data"
    },
    {
     "data": {
      "text/html": [
       "Synced <strong style=\"color:#cdcd00\">fearless-sweep-7</strong>: <a href=\"https://wandb.ai/ds4w/ds4w/runs/06y61frn\" target=\"_blank\">https://wandb.ai/ds4w/ds4w/runs/06y61frn</a><br/>Synced 6 W&B file(s), 0 media file(s), 0 artifact file(s) and 0 other file(s)"
      ],
      "text/plain": [
       "<IPython.core.display.HTML object>"
      ]
     },
     "metadata": {},
     "output_type": "display_data"
    },
    {
     "data": {
      "text/html": [
       "Find logs at: <code>./wandb/run-20240623_192715-06y61frn/logs</code>"
      ],
      "text/plain": [
       "<IPython.core.display.HTML object>"
      ]
     },
     "metadata": {},
     "output_type": "display_data"
    },
    {
     "name": "stderr",
     "output_type": "stream",
     "text": [
      "\u001b[34m\u001b[1mwandb\u001b[0m: Agent Starting Run: ollzuq52 with config:\n",
      "\u001b[34m\u001b[1mwandb\u001b[0m: \tC: 0.928104548435592\n"
     ]
    },
    {
     "data": {
      "text/html": [
       "wandb version 0.17.2 is available!  To upgrade, please run:\n",
       " $ pip install wandb --upgrade"
      ],
      "text/plain": [
       "<IPython.core.display.HTML object>"
      ]
     },
     "metadata": {},
     "output_type": "display_data"
    },
    {
     "data": {
      "text/html": [
       "Tracking run with wandb version 0.13.3"
      ],
      "text/plain": [
       "<IPython.core.display.HTML object>"
      ]
     },
     "metadata": {},
     "output_type": "display_data"
    },
    {
     "data": {
      "text/html": [
       "Run data is saved locally in <code>/home/till/Desktop/ds4w-user-identification/wandb/run-20240623_192730-ollzuq52</code>"
      ],
      "text/plain": [
       "<IPython.core.display.HTML object>"
      ]
     },
     "metadata": {},
     "output_type": "display_data"
    },
    {
     "data": {
      "text/html": [
       "Syncing run <strong><a href=\"https://wandb.ai/ds4w/ds4w/runs/ollzuq52\" target=\"_blank\">fresh-sweep-8</a></strong> to <a href=\"https://wandb.ai/ds4w/ds4w\" target=\"_blank\">Weights & Biases</a> (<a href=\"https://wandb.me/run\" target=\"_blank\">docs</a>)<br/>Sweep page:  <a href=\"https://wandb.ai/ds4w/ds4w/sweeps/vfjumq0e\" target=\"_blank\">https://wandb.ai/ds4w/ds4w/sweeps/vfjumq0e</a>"
      ],
      "text/plain": [
       "<IPython.core.display.HTML object>"
      ]
     },
     "metadata": {},
     "output_type": "display_data"
    },
    {
     "name": "stdout",
     "output_type": "stream",
     "text": [
      "              precision    recall  f1-score   support\n",
      "\n",
      "           0       1.00      1.00      1.00       101\n",
      "           1       1.00      0.94      0.97        68\n",
      "           2       1.00      1.00      1.00        54\n",
      "           3       1.00      1.00      1.00        45\n",
      "           4       0.93      1.00      0.96        25\n",
      "           5       1.00      1.00      1.00       107\n",
      "           6       1.00      1.00      1.00        13\n",
      "           7       0.00      0.00      0.00         0\n",
      "           8       0.98      0.94      0.96       213\n",
      "           9       0.67      0.80      0.73        10\n",
      "          10       0.89      1.00      0.94        39\n",
      "          11       1.00      1.00      1.00        86\n",
      "\n",
      "    accuracy                           0.98       761\n",
      "   macro avg       0.87      0.89      0.88       761\n",
      "weighted avg       0.98      0.98      0.98       761\n",
      "\n"
     ]
    },
    {
     "data": {
      "text/html": [
       "Waiting for W&B process to finish... <strong style=\"color:green\">(success).</strong>"
      ],
      "text/plain": [
       "<IPython.core.display.HTML object>"
      ]
     },
     "metadata": {},
     "output_type": "display_data"
    },
    {
     "data": {
      "application/vnd.jupyter.widget-view+json": {
       "model_id": "",
       "version_major": 2,
       "version_minor": 0
      },
      "text/plain": [
       "VBox(children=(Label(value='0.001 MB of 0.001 MB uploaded (0.000 MB deduped)\\r'), FloatProgress(value=1.0, max…"
      ]
     },
     "metadata": {},
     "output_type": "display_data"
    },
    {
     "data": {
      "text/html": [
       "<style>\n",
       "    table.wandb td:nth-child(1) { padding: 0 10px; text-align: left ; width: auto;} td:nth-child(2) {text-align: left ; width: 100%}\n",
       "    .wandb-row { display: flex; flex-direction: row; flex-wrap: wrap; justify-content: flex-start; width: 100% }\n",
       "    .wandb-col { display: flex; flex-direction: column; flex-basis: 100%; flex: 1; padding: 10px; }\n",
       "    </style>\n",
       "<div class=\"wandb-row\"><div class=\"wandb-col\"><h3>Run history:</h3><br/><table class=\"wandb\"><tr><td>val_f1</td><td>▁</td></tr></table><br/></div><div class=\"wandb-col\"><h3>Run summary:</h3><br/><table class=\"wandb\"><tr><td>val_f1</td><td>0.97864</td></tr></table><br/></div></div>"
      ],
      "text/plain": [
       "<IPython.core.display.HTML object>"
      ]
     },
     "metadata": {},
     "output_type": "display_data"
    },
    {
     "data": {
      "text/html": [
       "Synced <strong style=\"color:#cdcd00\">fresh-sweep-8</strong>: <a href=\"https://wandb.ai/ds4w/ds4w/runs/ollzuq52\" target=\"_blank\">https://wandb.ai/ds4w/ds4w/runs/ollzuq52</a><br/>Synced 6 W&B file(s), 0 media file(s), 0 artifact file(s) and 0 other file(s)"
      ],
      "text/plain": [
       "<IPython.core.display.HTML object>"
      ]
     },
     "metadata": {},
     "output_type": "display_data"
    },
    {
     "data": {
      "text/html": [
       "Find logs at: <code>./wandb/run-20240623_192730-ollzuq52/logs</code>"
      ],
      "text/plain": [
       "<IPython.core.display.HTML object>"
      ]
     },
     "metadata": {},
     "output_type": "display_data"
    },
    {
     "name": "stderr",
     "output_type": "stream",
     "text": [
      "\u001b[34m\u001b[1mwandb\u001b[0m: Sweep Agent: Waiting for job.\n",
      "\u001b[34m\u001b[1mwandb\u001b[0m: Job received.\n",
      "\u001b[34m\u001b[1mwandb\u001b[0m: Agent Starting Run: ks4ahuth with config:\n",
      "\u001b[34m\u001b[1mwandb\u001b[0m: \tC: 0.0011218687557745413\n"
     ]
    },
    {
     "data": {
      "text/html": [
       "wandb version 0.17.2 is available!  To upgrade, please run:\n",
       " $ pip install wandb --upgrade"
      ],
      "text/plain": [
       "<IPython.core.display.HTML object>"
      ]
     },
     "metadata": {},
     "output_type": "display_data"
    },
    {
     "data": {
      "text/html": [
       "Tracking run with wandb version 0.13.3"
      ],
      "text/plain": [
       "<IPython.core.display.HTML object>"
      ]
     },
     "metadata": {},
     "output_type": "display_data"
    },
    {
     "data": {
      "text/html": [
       "Run data is saved locally in <code>/home/till/Desktop/ds4w-user-identification/wandb/run-20240623_192750-ks4ahuth</code>"
      ],
      "text/plain": [
       "<IPython.core.display.HTML object>"
      ]
     },
     "metadata": {},
     "output_type": "display_data"
    },
    {
     "data": {
      "text/html": [
       "Syncing run <strong><a href=\"https://wandb.ai/ds4w/ds4w/runs/ks4ahuth\" target=\"_blank\">dutiful-sweep-9</a></strong> to <a href=\"https://wandb.ai/ds4w/ds4w\" target=\"_blank\">Weights & Biases</a> (<a href=\"https://wandb.me/run\" target=\"_blank\">docs</a>)<br/>Sweep page:  <a href=\"https://wandb.ai/ds4w/ds4w/sweeps/vfjumq0e\" target=\"_blank\">https://wandb.ai/ds4w/ds4w/sweeps/vfjumq0e</a>"
      ],
      "text/plain": [
       "<IPython.core.display.HTML object>"
      ]
     },
     "metadata": {},
     "output_type": "display_data"
    },
    {
     "name": "stdout",
     "output_type": "stream",
     "text": [
      "              precision    recall  f1-score   support\n",
      "\n",
      "           0       1.00      1.00      1.00       101\n",
      "           1       1.00      0.93      0.96        68\n",
      "           2       1.00      1.00      1.00        54\n",
      "           3       1.00      1.00      1.00        45\n",
      "           4       1.00      1.00      1.00        25\n",
      "           5       0.98      1.00      0.99       107\n",
      "           6       1.00      1.00      1.00        13\n",
      "           7       0.00      0.00      0.00         0\n",
      "           8       0.97      0.97      0.97       213\n",
      "           9       1.00      0.70      0.82        10\n",
      "          10       0.93      1.00      0.96        39\n",
      "          11       1.00      1.00      1.00        86\n",
      "\n",
      "    accuracy                           0.98       761\n",
      "   macro avg       0.91      0.88      0.89       761\n",
      "weighted avg       0.99      0.98      0.98       761\n",
      "\n"
     ]
    },
    {
     "data": {
      "text/html": [
       "Waiting for W&B process to finish... <strong style=\"color:green\">(success).</strong>"
      ],
      "text/plain": [
       "<IPython.core.display.HTML object>"
      ]
     },
     "metadata": {},
     "output_type": "display_data"
    },
    {
     "data": {
      "application/vnd.jupyter.widget-view+json": {
       "model_id": "",
       "version_major": 2,
       "version_minor": 0
      },
      "text/plain": [
       "VBox(children=(Label(value='0.001 MB of 0.001 MB uploaded (0.000 MB deduped)\\r'), FloatProgress(value=1.0, max…"
      ]
     },
     "metadata": {},
     "output_type": "display_data"
    },
    {
     "data": {
      "text/html": [
       "<style>\n",
       "    table.wandb td:nth-child(1) { padding: 0 10px; text-align: left ; width: auto;} td:nth-child(2) {text-align: left ; width: 100%}\n",
       "    .wandb-row { display: flex; flex-direction: row; flex-wrap: wrap; justify-content: flex-start; width: 100% }\n",
       "    .wandb-col { display: flex; flex-direction: column; flex-basis: 100%; flex: 1; padding: 10px; }\n",
       "    </style>\n",
       "<div class=\"wandb-row\"><div class=\"wandb-col\"><h3>Run history:</h3><br/><table class=\"wandb\"><tr><td>val_f1</td><td>▁</td></tr></table><br/></div><div class=\"wandb-col\"><h3>Run summary:</h3><br/><table class=\"wandb\"><tr><td>val_f1</td><td>0.98319</td></tr></table><br/></div></div>"
      ],
      "text/plain": [
       "<IPython.core.display.HTML object>"
      ]
     },
     "metadata": {},
     "output_type": "display_data"
    },
    {
     "data": {
      "text/html": [
       "Synced <strong style=\"color:#cdcd00\">dutiful-sweep-9</strong>: <a href=\"https://wandb.ai/ds4w/ds4w/runs/ks4ahuth\" target=\"_blank\">https://wandb.ai/ds4w/ds4w/runs/ks4ahuth</a><br/>Synced 6 W&B file(s), 0 media file(s), 0 artifact file(s) and 0 other file(s)"
      ],
      "text/plain": [
       "<IPython.core.display.HTML object>"
      ]
     },
     "metadata": {},
     "output_type": "display_data"
    },
    {
     "data": {
      "text/html": [
       "Find logs at: <code>./wandb/run-20240623_192750-ks4ahuth/logs</code>"
      ],
      "text/plain": [
       "<IPython.core.display.HTML object>"
      ]
     },
     "metadata": {},
     "output_type": "display_data"
    },
    {
     "name": "stderr",
     "output_type": "stream",
     "text": [
      "\u001b[34m\u001b[1mwandb\u001b[0m: Agent Starting Run: l4pza27p with config:\n",
      "\u001b[34m\u001b[1mwandb\u001b[0m: \tC: 0.000890253939365445\n"
     ]
    },
    {
     "data": {
      "text/html": [
       "wandb version 0.17.2 is available!  To upgrade, please run:\n",
       " $ pip install wandb --upgrade"
      ],
      "text/plain": [
       "<IPython.core.display.HTML object>"
      ]
     },
     "metadata": {},
     "output_type": "display_data"
    },
    {
     "data": {
      "text/html": [
       "Tracking run with wandb version 0.13.3"
      ],
      "text/plain": [
       "<IPython.core.display.HTML object>"
      ]
     },
     "metadata": {},
     "output_type": "display_data"
    },
    {
     "data": {
      "text/html": [
       "Run data is saved locally in <code>/home/till/Desktop/ds4w-user-identification/wandb/run-20240623_192802-l4pza27p</code>"
      ],
      "text/plain": [
       "<IPython.core.display.HTML object>"
      ]
     },
     "metadata": {},
     "output_type": "display_data"
    },
    {
     "data": {
      "text/html": [
       "Syncing run <strong><a href=\"https://wandb.ai/ds4w/ds4w/runs/l4pza27p\" target=\"_blank\">treasured-sweep-10</a></strong> to <a href=\"https://wandb.ai/ds4w/ds4w\" target=\"_blank\">Weights & Biases</a> (<a href=\"https://wandb.me/run\" target=\"_blank\">docs</a>)<br/>Sweep page:  <a href=\"https://wandb.ai/ds4w/ds4w/sweeps/vfjumq0e\" target=\"_blank\">https://wandb.ai/ds4w/ds4w/sweeps/vfjumq0e</a>"
      ],
      "text/plain": [
       "<IPython.core.display.HTML object>"
      ]
     },
     "metadata": {},
     "output_type": "display_data"
    },
    {
     "name": "stdout",
     "output_type": "stream",
     "text": [
      "              precision    recall  f1-score   support\n",
      "\n",
      "           0       0.99      1.00      1.00       101\n",
      "           1       0.98      0.93      0.95        68\n",
      "           2       1.00      1.00      1.00        54\n",
      "           3       1.00      1.00      1.00        45\n",
      "           4       1.00      0.96      0.98        25\n",
      "           5       0.98      1.00      0.99       107\n",
      "           6       1.00      1.00      1.00        13\n",
      "           7       0.00      0.00      0.00         0\n",
      "           8       0.97      0.97      0.97       213\n",
      "           9       1.00      0.70      0.82        10\n",
      "          10       0.95      1.00      0.97        39\n",
      "          11       1.00      1.00      1.00        86\n",
      "\n",
      "    accuracy                           0.98       761\n",
      "   macro avg       0.91      0.88      0.89       761\n",
      "weighted avg       0.98      0.98      0.98       761\n",
      "\n"
     ]
    },
    {
     "data": {
      "text/html": [
       "Waiting for W&B process to finish... <strong style=\"color:green\">(success).</strong>"
      ],
      "text/plain": [
       "<IPython.core.display.HTML object>"
      ]
     },
     "metadata": {},
     "output_type": "display_data"
    },
    {
     "data": {
      "application/vnd.jupyter.widget-view+json": {
       "model_id": "",
       "version_major": 2,
       "version_minor": 0
      },
      "text/plain": [
       "VBox(children=(Label(value='0.001 MB of 0.001 MB uploaded (0.000 MB deduped)\\r'), FloatProgress(value=1.0, max…"
      ]
     },
     "metadata": {},
     "output_type": "display_data"
    },
    {
     "data": {
      "text/html": [
       "<style>\n",
       "    table.wandb td:nth-child(1) { padding: 0 10px; text-align: left ; width: auto;} td:nth-child(2) {text-align: left ; width: 100%}\n",
       "    .wandb-row { display: flex; flex-direction: row; flex-wrap: wrap; justify-content: flex-start; width: 100% }\n",
       "    .wandb-col { display: flex; flex-direction: column; flex-basis: 100%; flex: 1; padding: 10px; }\n",
       "    </style>\n",
       "<div class=\"wandb-row\"><div class=\"wandb-col\"><h3>Run history:</h3><br/><table class=\"wandb\"><tr><td>val_f1</td><td>▁</td></tr></table><br/></div><div class=\"wandb-col\"><h3>Run summary:</h3><br/><table class=\"wandb\"><tr><td>val_f1</td><td>0.98051</td></tr></table><br/></div></div>"
      ],
      "text/plain": [
       "<IPython.core.display.HTML object>"
      ]
     },
     "metadata": {},
     "output_type": "display_data"
    },
    {
     "data": {
      "text/html": [
       "Synced <strong style=\"color:#cdcd00\">treasured-sweep-10</strong>: <a href=\"https://wandb.ai/ds4w/ds4w/runs/l4pza27p\" target=\"_blank\">https://wandb.ai/ds4w/ds4w/runs/l4pza27p</a><br/>Synced 6 W&B file(s), 0 media file(s), 0 artifact file(s) and 0 other file(s)"
      ],
      "text/plain": [
       "<IPython.core.display.HTML object>"
      ]
     },
     "metadata": {},
     "output_type": "display_data"
    },
    {
     "data": {
      "text/html": [
       "Find logs at: <code>./wandb/run-20240623_192802-l4pza27p/logs</code>"
      ],
      "text/plain": [
       "<IPython.core.display.HTML object>"
      ]
     },
     "metadata": {},
     "output_type": "display_data"
    },
    {
     "name": "stderr",
     "output_type": "stream",
     "text": [
      "\u001b[34m\u001b[1mwandb\u001b[0m: Sweep Agent: Waiting for job.\n",
      "\u001b[34m\u001b[1mwandb\u001b[0m: Job received.\n",
      "\u001b[34m\u001b[1mwandb\u001b[0m: Agent Starting Run: idx8yzg0 with config:\n",
      "\u001b[34m\u001b[1mwandb\u001b[0m: \tC: 0.001653507274963952\n"
     ]
    },
    {
     "data": {
      "text/html": [
       "wandb version 0.17.2 is available!  To upgrade, please run:\n",
       " $ pip install wandb --upgrade"
      ],
      "text/plain": [
       "<IPython.core.display.HTML object>"
      ]
     },
     "metadata": {},
     "output_type": "display_data"
    },
    {
     "data": {
      "text/html": [
       "Tracking run with wandb version 0.13.3"
      ],
      "text/plain": [
       "<IPython.core.display.HTML object>"
      ]
     },
     "metadata": {},
     "output_type": "display_data"
    },
    {
     "data": {
      "text/html": [
       "Run data is saved locally in <code>/home/till/Desktop/ds4w-user-identification/wandb/run-20240623_192822-idx8yzg0</code>"
      ],
      "text/plain": [
       "<IPython.core.display.HTML object>"
      ]
     },
     "metadata": {},
     "output_type": "display_data"
    },
    {
     "data": {
      "text/html": [
       "Syncing run <strong><a href=\"https://wandb.ai/ds4w/ds4w/runs/idx8yzg0\" target=\"_blank\">apricot-sweep-11</a></strong> to <a href=\"https://wandb.ai/ds4w/ds4w\" target=\"_blank\">Weights & Biases</a> (<a href=\"https://wandb.me/run\" target=\"_blank\">docs</a>)<br/>Sweep page:  <a href=\"https://wandb.ai/ds4w/ds4w/sweeps/vfjumq0e\" target=\"_blank\">https://wandb.ai/ds4w/ds4w/sweeps/vfjumq0e</a>"
      ],
      "text/plain": [
       "<IPython.core.display.HTML object>"
      ]
     },
     "metadata": {},
     "output_type": "display_data"
    },
    {
     "name": "stdout",
     "output_type": "stream",
     "text": [
      "              precision    recall  f1-score   support\n",
      "\n",
      "           0       1.00      1.00      1.00       101\n",
      "           1       1.00      0.93      0.96        68\n",
      "           2       1.00      1.00      1.00        54\n",
      "           3       1.00      1.00      1.00        45\n",
      "           4       0.93      1.00      0.96        25\n",
      "           5       0.99      1.00      1.00       107\n",
      "           6       1.00      1.00      1.00        13\n",
      "           7       0.00      0.00      0.00         0\n",
      "           8       0.98      0.96      0.97       213\n",
      "           9       1.00      0.70      0.82        10\n",
      "          10       0.91      1.00      0.95        39\n",
      "          11       0.99      1.00      0.99        86\n",
      "\n",
      "    accuracy                           0.98       761\n",
      "   macro avg       0.90      0.88      0.89       761\n",
      "weighted avg       0.98      0.98      0.98       761\n",
      "\n"
     ]
    },
    {
     "data": {
      "text/html": [
       "Waiting for W&B process to finish... <strong style=\"color:green\">(success).</strong>"
      ],
      "text/plain": [
       "<IPython.core.display.HTML object>"
      ]
     },
     "metadata": {},
     "output_type": "display_data"
    },
    {
     "data": {
      "application/vnd.jupyter.widget-view+json": {
       "model_id": "",
       "version_major": 2,
       "version_minor": 0
      },
      "text/plain": [
       "VBox(children=(Label(value='0.001 MB of 0.001 MB uploaded (0.000 MB deduped)\\r'), FloatProgress(value=1.0, max…"
      ]
     },
     "metadata": {},
     "output_type": "display_data"
    },
    {
     "data": {
      "text/html": [
       "<style>\n",
       "    table.wandb td:nth-child(1) { padding: 0 10px; text-align: left ; width: auto;} td:nth-child(2) {text-align: left ; width: 100%}\n",
       "    .wandb-row { display: flex; flex-direction: row; flex-wrap: wrap; justify-content: flex-start; width: 100% }\n",
       "    .wandb-col { display: flex; flex-direction: column; flex-basis: 100%; flex: 1; padding: 10px; }\n",
       "    </style>\n",
       "<div class=\"wandb-row\"><div class=\"wandb-col\"><h3>Run history:</h3><br/><table class=\"wandb\"><tr><td>val_f1</td><td>▁</td></tr></table><br/></div><div class=\"wandb-col\"><h3>Run summary:</h3><br/><table class=\"wandb\"><tr><td>val_f1</td><td>0.97991</td></tr></table><br/></div></div>"
      ],
      "text/plain": [
       "<IPython.core.display.HTML object>"
      ]
     },
     "metadata": {},
     "output_type": "display_data"
    },
    {
     "data": {
      "text/html": [
       "Synced <strong style=\"color:#cdcd00\">apricot-sweep-11</strong>: <a href=\"https://wandb.ai/ds4w/ds4w/runs/idx8yzg0\" target=\"_blank\">https://wandb.ai/ds4w/ds4w/runs/idx8yzg0</a><br/>Synced 6 W&B file(s), 0 media file(s), 0 artifact file(s) and 0 other file(s)"
      ],
      "text/plain": [
       "<IPython.core.display.HTML object>"
      ]
     },
     "metadata": {},
     "output_type": "display_data"
    },
    {
     "data": {
      "text/html": [
       "Find logs at: <code>./wandb/run-20240623_192822-idx8yzg0/logs</code>"
      ],
      "text/plain": [
       "<IPython.core.display.HTML object>"
      ]
     },
     "metadata": {},
     "output_type": "display_data"
    },
    {
     "name": "stderr",
     "output_type": "stream",
     "text": [
      "\u001b[34m\u001b[1mwandb\u001b[0m: Agent Starting Run: oypqfkfc with config:\n",
      "\u001b[34m\u001b[1mwandb\u001b[0m: \tC: 0.10914996707591\n"
     ]
    },
    {
     "data": {
      "text/html": [
       "wandb version 0.17.2 is available!  To upgrade, please run:\n",
       " $ pip install wandb --upgrade"
      ],
      "text/plain": [
       "<IPython.core.display.HTML object>"
      ]
     },
     "metadata": {},
     "output_type": "display_data"
    },
    {
     "data": {
      "text/html": [
       "Tracking run with wandb version 0.13.3"
      ],
      "text/plain": [
       "<IPython.core.display.HTML object>"
      ]
     },
     "metadata": {},
     "output_type": "display_data"
    },
    {
     "data": {
      "text/html": [
       "Run data is saved locally in <code>/home/till/Desktop/ds4w-user-identification/wandb/run-20240623_192834-oypqfkfc</code>"
      ],
      "text/plain": [
       "<IPython.core.display.HTML object>"
      ]
     },
     "metadata": {},
     "output_type": "display_data"
    },
    {
     "data": {
      "text/html": [
       "Syncing run <strong><a href=\"https://wandb.ai/ds4w/ds4w/runs/oypqfkfc\" target=\"_blank\">desert-sweep-12</a></strong> to <a href=\"https://wandb.ai/ds4w/ds4w\" target=\"_blank\">Weights & Biases</a> (<a href=\"https://wandb.me/run\" target=\"_blank\">docs</a>)<br/>Sweep page:  <a href=\"https://wandb.ai/ds4w/ds4w/sweeps/vfjumq0e\" target=\"_blank\">https://wandb.ai/ds4w/ds4w/sweeps/vfjumq0e</a>"
      ],
      "text/plain": [
       "<IPython.core.display.HTML object>"
      ]
     },
     "metadata": {},
     "output_type": "display_data"
    },
    {
     "name": "stdout",
     "output_type": "stream",
     "text": [
      "              precision    recall  f1-score   support\n",
      "\n",
      "           0       1.00      1.00      1.00       101\n",
      "           1       1.00      0.94      0.97        68\n",
      "           2       1.00      1.00      1.00        54\n",
      "           3       1.00      1.00      1.00        45\n",
      "           4       0.93      1.00      0.96        25\n",
      "           5       1.00      1.00      1.00       107\n",
      "           6       1.00      1.00      1.00        13\n",
      "           7       0.00      0.00      0.00         0\n",
      "           8       0.98      0.94      0.96       213\n",
      "           9       0.67      0.80      0.73        10\n",
      "          10       0.89      1.00      0.94        39\n",
      "          11       1.00      1.00      1.00        86\n",
      "\n",
      "    accuracy                           0.98       761\n",
      "   macro avg       0.87      0.89      0.88       761\n",
      "weighted avg       0.98      0.98      0.98       761\n",
      "\n"
     ]
    },
    {
     "data": {
      "text/html": [
       "Waiting for W&B process to finish... <strong style=\"color:green\">(success).</strong>"
      ],
      "text/plain": [
       "<IPython.core.display.HTML object>"
      ]
     },
     "metadata": {},
     "output_type": "display_data"
    },
    {
     "data": {
      "application/vnd.jupyter.widget-view+json": {
       "model_id": "",
       "version_major": 2,
       "version_minor": 0
      },
      "text/plain": [
       "VBox(children=(Label(value='0.001 MB of 0.001 MB uploaded (0.000 MB deduped)\\r'), FloatProgress(value=1.0, max…"
      ]
     },
     "metadata": {},
     "output_type": "display_data"
    },
    {
     "data": {
      "text/html": [
       "<style>\n",
       "    table.wandb td:nth-child(1) { padding: 0 10px; text-align: left ; width: auto;} td:nth-child(2) {text-align: left ; width: 100%}\n",
       "    .wandb-row { display: flex; flex-direction: row; flex-wrap: wrap; justify-content: flex-start; width: 100% }\n",
       "    .wandb-col { display: flex; flex-direction: column; flex-basis: 100%; flex: 1; padding: 10px; }\n",
       "    </style>\n",
       "<div class=\"wandb-row\"><div class=\"wandb-col\"><h3>Run history:</h3><br/><table class=\"wandb\"><tr><td>val_f1</td><td>▁</td></tr></table><br/></div><div class=\"wandb-col\"><h3>Run summary:</h3><br/><table class=\"wandb\"><tr><td>val_f1</td><td>0.97864</td></tr></table><br/></div></div>"
      ],
      "text/plain": [
       "<IPython.core.display.HTML object>"
      ]
     },
     "metadata": {},
     "output_type": "display_data"
    },
    {
     "data": {
      "text/html": [
       "Synced <strong style=\"color:#cdcd00\">desert-sweep-12</strong>: <a href=\"https://wandb.ai/ds4w/ds4w/runs/oypqfkfc\" target=\"_blank\">https://wandb.ai/ds4w/ds4w/runs/oypqfkfc</a><br/>Synced 6 W&B file(s), 0 media file(s), 0 artifact file(s) and 0 other file(s)"
      ],
      "text/plain": [
       "<IPython.core.display.HTML object>"
      ]
     },
     "metadata": {},
     "output_type": "display_data"
    },
    {
     "data": {
      "text/html": [
       "Find logs at: <code>./wandb/run-20240623_192834-oypqfkfc/logs</code>"
      ],
      "text/plain": [
       "<IPython.core.display.HTML object>"
      ]
     },
     "metadata": {},
     "output_type": "display_data"
    },
    {
     "name": "stderr",
     "output_type": "stream",
     "text": [
      "\u001b[34m\u001b[1mwandb\u001b[0m: Sweep Agent: Waiting for job.\n",
      "\u001b[34m\u001b[1mwandb\u001b[0m: Job received.\n",
      "\u001b[34m\u001b[1mwandb\u001b[0m: Agent Starting Run: tgnys8hy with config:\n",
      "\u001b[34m\u001b[1mwandb\u001b[0m: \tC: 0.002126440400236395\n"
     ]
    },
    {
     "data": {
      "text/html": [
       "wandb version 0.17.2 is available!  To upgrade, please run:\n",
       " $ pip install wandb --upgrade"
      ],
      "text/plain": [
       "<IPython.core.display.HTML object>"
      ]
     },
     "metadata": {},
     "output_type": "display_data"
    },
    {
     "data": {
      "text/html": [
       "Tracking run with wandb version 0.13.3"
      ],
      "text/plain": [
       "<IPython.core.display.HTML object>"
      ]
     },
     "metadata": {},
     "output_type": "display_data"
    },
    {
     "data": {
      "text/html": [
       "Run data is saved locally in <code>/home/till/Desktop/ds4w-user-identification/wandb/run-20240623_192854-tgnys8hy</code>"
      ],
      "text/plain": [
       "<IPython.core.display.HTML object>"
      ]
     },
     "metadata": {},
     "output_type": "display_data"
    },
    {
     "data": {
      "text/html": [
       "Syncing run <strong><a href=\"https://wandb.ai/ds4w/ds4w/runs/tgnys8hy\" target=\"_blank\">balmy-sweep-13</a></strong> to <a href=\"https://wandb.ai/ds4w/ds4w\" target=\"_blank\">Weights & Biases</a> (<a href=\"https://wandb.me/run\" target=\"_blank\">docs</a>)<br/>Sweep page:  <a href=\"https://wandb.ai/ds4w/ds4w/sweeps/vfjumq0e\" target=\"_blank\">https://wandb.ai/ds4w/ds4w/sweeps/vfjumq0e</a>"
      ],
      "text/plain": [
       "<IPython.core.display.HTML object>"
      ]
     },
     "metadata": {},
     "output_type": "display_data"
    },
    {
     "name": "stdout",
     "output_type": "stream",
     "text": [
      "              precision    recall  f1-score   support\n",
      "\n",
      "           0       1.00      1.00      1.00       101\n",
      "           1       1.00      0.93      0.96        68\n",
      "           2       1.00      1.00      1.00        54\n",
      "           3       1.00      1.00      1.00        45\n",
      "           4       0.93      1.00      0.96        25\n",
      "           5       0.99      1.00      1.00       107\n",
      "           6       1.00      1.00      1.00        13\n",
      "           7       0.00      0.00      0.00         0\n",
      "           8       0.98      0.96      0.97       213\n",
      "           9       1.00      0.70      0.82        10\n",
      "          10       0.89      1.00      0.94        39\n",
      "          11       0.99      1.00      0.99        86\n",
      "\n",
      "    accuracy                           0.98       761\n",
      "   macro avg       0.90      0.88      0.89       761\n",
      "weighted avg       0.98      0.98      0.98       761\n",
      "\n"
     ]
    },
    {
     "data": {
      "text/html": [
       "Waiting for W&B process to finish... <strong style=\"color:green\">(success).</strong>"
      ],
      "text/plain": [
       "<IPython.core.display.HTML object>"
      ]
     },
     "metadata": {},
     "output_type": "display_data"
    },
    {
     "data": {
      "application/vnd.jupyter.widget-view+json": {
       "model_id": "",
       "version_major": 2,
       "version_minor": 0
      },
      "text/plain": [
       "VBox(children=(Label(value='0.001 MB of 0.001 MB uploaded (0.000 MB deduped)\\r'), FloatProgress(value=1.0, max…"
      ]
     },
     "metadata": {},
     "output_type": "display_data"
    },
    {
     "data": {
      "text/html": [
       "<style>\n",
       "    table.wandb td:nth-child(1) { padding: 0 10px; text-align: left ; width: auto;} td:nth-child(2) {text-align: left ; width: 100%}\n",
       "    .wandb-row { display: flex; flex-direction: row; flex-wrap: wrap; justify-content: flex-start; width: 100% }\n",
       "    .wandb-col { display: flex; flex-direction: column; flex-basis: 100%; flex: 1; padding: 10px; }\n",
       "    </style>\n",
       "<div class=\"wandb-row\"><div class=\"wandb-col\"><h3>Run history:</h3><br/><table class=\"wandb\"><tr><td>val_f1</td><td>▁</td></tr></table><br/></div><div class=\"wandb-col\"><h3>Run summary:</h3><br/><table class=\"wandb\"><tr><td>val_f1</td><td>0.97933</td></tr></table><br/></div></div>"
      ],
      "text/plain": [
       "<IPython.core.display.HTML object>"
      ]
     },
     "metadata": {},
     "output_type": "display_data"
    },
    {
     "data": {
      "text/html": [
       "Synced <strong style=\"color:#cdcd00\">balmy-sweep-13</strong>: <a href=\"https://wandb.ai/ds4w/ds4w/runs/tgnys8hy\" target=\"_blank\">https://wandb.ai/ds4w/ds4w/runs/tgnys8hy</a><br/>Synced 6 W&B file(s), 0 media file(s), 0 artifact file(s) and 0 other file(s)"
      ],
      "text/plain": [
       "<IPython.core.display.HTML object>"
      ]
     },
     "metadata": {},
     "output_type": "display_data"
    },
    {
     "data": {
      "text/html": [
       "Find logs at: <code>./wandb/run-20240623_192854-tgnys8hy/logs</code>"
      ],
      "text/plain": [
       "<IPython.core.display.HTML object>"
      ]
     },
     "metadata": {},
     "output_type": "display_data"
    },
    {
     "name": "stderr",
     "output_type": "stream",
     "text": [
      "\u001b[34m\u001b[1mwandb\u001b[0m: Agent Starting Run: 7lkedink with config:\n",
      "\u001b[34m\u001b[1mwandb\u001b[0m: \tC: 0.006073779838944279\n"
     ]
    },
    {
     "data": {
      "text/html": [
       "wandb version 0.17.2 is available!  To upgrade, please run:\n",
       " $ pip install wandb --upgrade"
      ],
      "text/plain": [
       "<IPython.core.display.HTML object>"
      ]
     },
     "metadata": {},
     "output_type": "display_data"
    },
    {
     "data": {
      "text/html": [
       "Tracking run with wandb version 0.13.3"
      ],
      "text/plain": [
       "<IPython.core.display.HTML object>"
      ]
     },
     "metadata": {},
     "output_type": "display_data"
    },
    {
     "data": {
      "text/html": [
       "Run data is saved locally in <code>/home/till/Desktop/ds4w-user-identification/wandb/run-20240623_192906-7lkedink</code>"
      ],
      "text/plain": [
       "<IPython.core.display.HTML object>"
      ]
     },
     "metadata": {},
     "output_type": "display_data"
    },
    {
     "data": {
      "text/html": [
       "Syncing run <strong><a href=\"https://wandb.ai/ds4w/ds4w/runs/7lkedink\" target=\"_blank\">true-sweep-14</a></strong> to <a href=\"https://wandb.ai/ds4w/ds4w\" target=\"_blank\">Weights & Biases</a> (<a href=\"https://wandb.me/run\" target=\"_blank\">docs</a>)<br/>Sweep page:  <a href=\"https://wandb.ai/ds4w/ds4w/sweeps/vfjumq0e\" target=\"_blank\">https://wandb.ai/ds4w/ds4w/sweeps/vfjumq0e</a>"
      ],
      "text/plain": [
       "<IPython.core.display.HTML object>"
      ]
     },
     "metadata": {},
     "output_type": "display_data"
    },
    {
     "name": "stdout",
     "output_type": "stream",
     "text": [
      "              precision    recall  f1-score   support\n",
      "\n",
      "           0       1.00      1.00      1.00       101\n",
      "           1       1.00      0.94      0.97        68\n",
      "           2       1.00      1.00      1.00        54\n",
      "           3       1.00      1.00      1.00        45\n",
      "           4       0.93      1.00      0.96        25\n",
      "           5       0.99      1.00      1.00       107\n",
      "           6       1.00      1.00      1.00        13\n",
      "           7       0.00      0.00      0.00         0\n",
      "           8       0.98      0.94      0.96       213\n",
      "           9       0.70      0.70      0.70        10\n",
      "          10       0.89      1.00      0.94        39\n",
      "          11       0.99      1.00      0.99        86\n",
      "\n",
      "    accuracy                           0.98       761\n",
      "   macro avg       0.87      0.88      0.88       761\n",
      "weighted avg       0.98      0.98      0.98       761\n",
      "\n"
     ]
    },
    {
     "data": {
      "text/html": [
       "Waiting for W&B process to finish... <strong style=\"color:green\">(success).</strong>"
      ],
      "text/plain": [
       "<IPython.core.display.HTML object>"
      ]
     },
     "metadata": {},
     "output_type": "display_data"
    },
    {
     "data": {
      "application/vnd.jupyter.widget-view+json": {
       "model_id": "",
       "version_major": 2,
       "version_minor": 0
      },
      "text/plain": [
       "VBox(children=(Label(value='0.001 MB of 0.001 MB uploaded (0.000 MB deduped)\\r'), FloatProgress(value=1.0, max…"
      ]
     },
     "metadata": {},
     "output_type": "display_data"
    },
    {
     "data": {
      "text/html": [
       "<style>\n",
       "    table.wandb td:nth-child(1) { padding: 0 10px; text-align: left ; width: auto;} td:nth-child(2) {text-align: left ; width: 100%}\n",
       "    .wandb-row { display: flex; flex-direction: row; flex-wrap: wrap; justify-content: flex-start; width: 100% }\n",
       "    .wandb-col { display: flex; flex-direction: column; flex-basis: 100%; flex: 1; padding: 10px; }\n",
       "    </style>\n",
       "<div class=\"wandb-row\"><div class=\"wandb-col\"><h3>Run history:</h3><br/><table class=\"wandb\"><tr><td>val_f1</td><td>▁</td></tr></table><br/></div><div class=\"wandb-col\"><h3>Run summary:</h3><br/><table class=\"wandb\"><tr><td>val_f1</td><td>0.97698</td></tr></table><br/></div></div>"
      ],
      "text/plain": [
       "<IPython.core.display.HTML object>"
      ]
     },
     "metadata": {},
     "output_type": "display_data"
    },
    {
     "data": {
      "text/html": [
       "Synced <strong style=\"color:#cdcd00\">true-sweep-14</strong>: <a href=\"https://wandb.ai/ds4w/ds4w/runs/7lkedink\" target=\"_blank\">https://wandb.ai/ds4w/ds4w/runs/7lkedink</a><br/>Synced 6 W&B file(s), 0 media file(s), 0 artifact file(s) and 0 other file(s)"
      ],
      "text/plain": [
       "<IPython.core.display.HTML object>"
      ]
     },
     "metadata": {},
     "output_type": "display_data"
    },
    {
     "data": {
      "text/html": [
       "Find logs at: <code>./wandb/run-20240623_192906-7lkedink/logs</code>"
      ],
      "text/plain": [
       "<IPython.core.display.HTML object>"
      ]
     },
     "metadata": {},
     "output_type": "display_data"
    },
    {
     "name": "stderr",
     "output_type": "stream",
     "text": [
      "\u001b[34m\u001b[1mwandb\u001b[0m: Sweep Agent: Waiting for job.\n",
      "\u001b[34m\u001b[1mwandb\u001b[0m: Job received.\n",
      "\u001b[34m\u001b[1mwandb\u001b[0m: Agent Starting Run: b7yfrtfj with config:\n",
      "\u001b[34m\u001b[1mwandb\u001b[0m: \tC: 0.0020807721389171515\n"
     ]
    },
    {
     "data": {
      "text/html": [
       "wandb version 0.17.2 is available!  To upgrade, please run:\n",
       " $ pip install wandb --upgrade"
      ],
      "text/plain": [
       "<IPython.core.display.HTML object>"
      ]
     },
     "metadata": {},
     "output_type": "display_data"
    },
    {
     "data": {
      "text/html": [
       "Tracking run with wandb version 0.13.3"
      ],
      "text/plain": [
       "<IPython.core.display.HTML object>"
      ]
     },
     "metadata": {},
     "output_type": "display_data"
    },
    {
     "data": {
      "text/html": [
       "Run data is saved locally in <code>/home/till/Desktop/ds4w-user-identification/wandb/run-20240623_192926-b7yfrtfj</code>"
      ],
      "text/plain": [
       "<IPython.core.display.HTML object>"
      ]
     },
     "metadata": {},
     "output_type": "display_data"
    },
    {
     "data": {
      "text/html": [
       "Syncing run <strong><a href=\"https://wandb.ai/ds4w/ds4w/runs/b7yfrtfj\" target=\"_blank\">divine-sweep-15</a></strong> to <a href=\"https://wandb.ai/ds4w/ds4w\" target=\"_blank\">Weights & Biases</a> (<a href=\"https://wandb.me/run\" target=\"_blank\">docs</a>)<br/>Sweep page:  <a href=\"https://wandb.ai/ds4w/ds4w/sweeps/vfjumq0e\" target=\"_blank\">https://wandb.ai/ds4w/ds4w/sweeps/vfjumq0e</a>"
      ],
      "text/plain": [
       "<IPython.core.display.HTML object>"
      ]
     },
     "metadata": {},
     "output_type": "display_data"
    },
    {
     "name": "stdout",
     "output_type": "stream",
     "text": [
      "              precision    recall  f1-score   support\n",
      "\n",
      "           0       1.00      1.00      1.00       101\n",
      "           1       1.00      0.93      0.96        68\n",
      "           2       1.00      1.00      1.00        54\n",
      "           3       1.00      1.00      1.00        45\n",
      "           4       0.93      1.00      0.96        25\n",
      "           5       0.99      1.00      1.00       107\n",
      "           6       1.00      1.00      1.00        13\n",
      "           7       0.00      0.00      0.00         0\n",
      "           8       0.98      0.96      0.97       213\n",
      "           9       1.00      0.70      0.82        10\n",
      "          10       0.89      1.00      0.94        39\n",
      "          11       0.99      1.00      0.99        86\n",
      "\n",
      "    accuracy                           0.98       761\n",
      "   macro avg       0.90      0.88      0.89       761\n",
      "weighted avg       0.98      0.98      0.98       761\n",
      "\n"
     ]
    },
    {
     "data": {
      "text/html": [
       "Waiting for W&B process to finish... <strong style=\"color:green\">(success).</strong>"
      ],
      "text/plain": [
       "<IPython.core.display.HTML object>"
      ]
     },
     "metadata": {},
     "output_type": "display_data"
    },
    {
     "data": {
      "application/vnd.jupyter.widget-view+json": {
       "model_id": "",
       "version_major": 2,
       "version_minor": 0
      },
      "text/plain": [
       "VBox(children=(Label(value='0.001 MB of 0.001 MB uploaded (0.000 MB deduped)\\r'), FloatProgress(value=1.0, max…"
      ]
     },
     "metadata": {},
     "output_type": "display_data"
    },
    {
     "data": {
      "text/html": [
       "<style>\n",
       "    table.wandb td:nth-child(1) { padding: 0 10px; text-align: left ; width: auto;} td:nth-child(2) {text-align: left ; width: 100%}\n",
       "    .wandb-row { display: flex; flex-direction: row; flex-wrap: wrap; justify-content: flex-start; width: 100% }\n",
       "    .wandb-col { display: flex; flex-direction: column; flex-basis: 100%; flex: 1; padding: 10px; }\n",
       "    </style>\n",
       "<div class=\"wandb-row\"><div class=\"wandb-col\"><h3>Run history:</h3><br/><table class=\"wandb\"><tr><td>val_f1</td><td>▁</td></tr></table><br/></div><div class=\"wandb-col\"><h3>Run summary:</h3><br/><table class=\"wandb\"><tr><td>val_f1</td><td>0.97933</td></tr></table><br/></div></div>"
      ],
      "text/plain": [
       "<IPython.core.display.HTML object>"
      ]
     },
     "metadata": {},
     "output_type": "display_data"
    },
    {
     "data": {
      "text/html": [
       "Synced <strong style=\"color:#cdcd00\">divine-sweep-15</strong>: <a href=\"https://wandb.ai/ds4w/ds4w/runs/b7yfrtfj\" target=\"_blank\">https://wandb.ai/ds4w/ds4w/runs/b7yfrtfj</a><br/>Synced 6 W&B file(s), 0 media file(s), 0 artifact file(s) and 0 other file(s)"
      ],
      "text/plain": [
       "<IPython.core.display.HTML object>"
      ]
     },
     "metadata": {},
     "output_type": "display_data"
    },
    {
     "data": {
      "text/html": [
       "Find logs at: <code>./wandb/run-20240623_192926-b7yfrtfj/logs</code>"
      ],
      "text/plain": [
       "<IPython.core.display.HTML object>"
      ]
     },
     "metadata": {},
     "output_type": "display_data"
    },
    {
     "name": "stderr",
     "output_type": "stream",
     "text": [
      "\u001b[34m\u001b[1mwandb\u001b[0m: Agent Starting Run: pguv2634 with config:\n",
      "\u001b[34m\u001b[1mwandb\u001b[0m: \tC: 0.7310716371996069\n"
     ]
    },
    {
     "data": {
      "text/html": [
       "wandb version 0.17.2 is available!  To upgrade, please run:\n",
       " $ pip install wandb --upgrade"
      ],
      "text/plain": [
       "<IPython.core.display.HTML object>"
      ]
     },
     "metadata": {},
     "output_type": "display_data"
    },
    {
     "data": {
      "text/html": [
       "Tracking run with wandb version 0.13.3"
      ],
      "text/plain": [
       "<IPython.core.display.HTML object>"
      ]
     },
     "metadata": {},
     "output_type": "display_data"
    },
    {
     "data": {
      "text/html": [
       "Run data is saved locally in <code>/home/till/Desktop/ds4w-user-identification/wandb/run-20240623_192940-pguv2634</code>"
      ],
      "text/plain": [
       "<IPython.core.display.HTML object>"
      ]
     },
     "metadata": {},
     "output_type": "display_data"
    },
    {
     "data": {
      "text/html": [
       "Syncing run <strong><a href=\"https://wandb.ai/ds4w/ds4w/runs/pguv2634\" target=\"_blank\">copper-sweep-16</a></strong> to <a href=\"https://wandb.ai/ds4w/ds4w\" target=\"_blank\">Weights & Biases</a> (<a href=\"https://wandb.me/run\" target=\"_blank\">docs</a>)<br/>Sweep page:  <a href=\"https://wandb.ai/ds4w/ds4w/sweeps/vfjumq0e\" target=\"_blank\">https://wandb.ai/ds4w/ds4w/sweeps/vfjumq0e</a>"
      ],
      "text/plain": [
       "<IPython.core.display.HTML object>"
      ]
     },
     "metadata": {},
     "output_type": "display_data"
    },
    {
     "name": "stdout",
     "output_type": "stream",
     "text": [
      "              precision    recall  f1-score   support\n",
      "\n",
      "           0       1.00      1.00      1.00       101\n",
      "           1       1.00      0.94      0.97        68\n",
      "           2       1.00      1.00      1.00        54\n",
      "           3       1.00      1.00      1.00        45\n",
      "           4       0.93      1.00      0.96        25\n",
      "           5       1.00      1.00      1.00       107\n",
      "           6       1.00      1.00      1.00        13\n",
      "           7       0.00      0.00      0.00         0\n",
      "           8       0.98      0.94      0.96       213\n",
      "           9       0.67      0.80      0.73        10\n",
      "          10       0.89      1.00      0.94        39\n",
      "          11       1.00      1.00      1.00        86\n",
      "\n",
      "    accuracy                           0.98       761\n",
      "   macro avg       0.87      0.89      0.88       761\n",
      "weighted avg       0.98      0.98      0.98       761\n",
      "\n"
     ]
    },
    {
     "data": {
      "text/html": [
       "Waiting for W&B process to finish... <strong style=\"color:green\">(success).</strong>"
      ],
      "text/plain": [
       "<IPython.core.display.HTML object>"
      ]
     },
     "metadata": {},
     "output_type": "display_data"
    },
    {
     "data": {
      "application/vnd.jupyter.widget-view+json": {
       "model_id": "",
       "version_major": 2,
       "version_minor": 0
      },
      "text/plain": [
       "VBox(children=(Label(value='0.001 MB of 0.001 MB uploaded (0.000 MB deduped)\\r'), FloatProgress(value=1.0, max…"
      ]
     },
     "metadata": {},
     "output_type": "display_data"
    },
    {
     "data": {
      "text/html": [
       "<style>\n",
       "    table.wandb td:nth-child(1) { padding: 0 10px; text-align: left ; width: auto;} td:nth-child(2) {text-align: left ; width: 100%}\n",
       "    .wandb-row { display: flex; flex-direction: row; flex-wrap: wrap; justify-content: flex-start; width: 100% }\n",
       "    .wandb-col { display: flex; flex-direction: column; flex-basis: 100%; flex: 1; padding: 10px; }\n",
       "    </style>\n",
       "<div class=\"wandb-row\"><div class=\"wandb-col\"><h3>Run history:</h3><br/><table class=\"wandb\"><tr><td>val_f1</td><td>▁</td></tr></table><br/></div><div class=\"wandb-col\"><h3>Run summary:</h3><br/><table class=\"wandb\"><tr><td>val_f1</td><td>0.97864</td></tr></table><br/></div></div>"
      ],
      "text/plain": [
       "<IPython.core.display.HTML object>"
      ]
     },
     "metadata": {},
     "output_type": "display_data"
    },
    {
     "data": {
      "text/html": [
       "Synced <strong style=\"color:#cdcd00\">copper-sweep-16</strong>: <a href=\"https://wandb.ai/ds4w/ds4w/runs/pguv2634\" target=\"_blank\">https://wandb.ai/ds4w/ds4w/runs/pguv2634</a><br/>Synced 6 W&B file(s), 0 media file(s), 0 artifact file(s) and 0 other file(s)"
      ],
      "text/plain": [
       "<IPython.core.display.HTML object>"
      ]
     },
     "metadata": {},
     "output_type": "display_data"
    },
    {
     "data": {
      "text/html": [
       "Find logs at: <code>./wandb/run-20240623_192940-pguv2634/logs</code>"
      ],
      "text/plain": [
       "<IPython.core.display.HTML object>"
      ]
     },
     "metadata": {},
     "output_type": "display_data"
    },
    {
     "name": "stderr",
     "output_type": "stream",
     "text": [
      "\u001b[34m\u001b[1mwandb\u001b[0m: Sweep Agent: Waiting for job.\n",
      "\u001b[34m\u001b[1mwandb\u001b[0m: Job received.\n",
      "\u001b[34m\u001b[1mwandb\u001b[0m: Agent Starting Run: z0yuh2px with config:\n",
      "\u001b[34m\u001b[1mwandb\u001b[0m: \tC: 0.000917011800531729\n"
     ]
    },
    {
     "data": {
      "text/html": [
       "wandb version 0.17.2 is available!  To upgrade, please run:\n",
       " $ pip install wandb --upgrade"
      ],
      "text/plain": [
       "<IPython.core.display.HTML object>"
      ]
     },
     "metadata": {},
     "output_type": "display_data"
    },
    {
     "data": {
      "text/html": [
       "Tracking run with wandb version 0.13.3"
      ],
      "text/plain": [
       "<IPython.core.display.HTML object>"
      ]
     },
     "metadata": {},
     "output_type": "display_data"
    },
    {
     "data": {
      "text/html": [
       "Run data is saved locally in <code>/home/till/Desktop/ds4w-user-identification/wandb/run-20240623_193000-z0yuh2px</code>"
      ],
      "text/plain": [
       "<IPython.core.display.HTML object>"
      ]
     },
     "metadata": {},
     "output_type": "display_data"
    },
    {
     "data": {
      "text/html": [
       "Syncing run <strong><a href=\"https://wandb.ai/ds4w/ds4w/runs/z0yuh2px\" target=\"_blank\">bumbling-sweep-17</a></strong> to <a href=\"https://wandb.ai/ds4w/ds4w\" target=\"_blank\">Weights & Biases</a> (<a href=\"https://wandb.me/run\" target=\"_blank\">docs</a>)<br/>Sweep page:  <a href=\"https://wandb.ai/ds4w/ds4w/sweeps/vfjumq0e\" target=\"_blank\">https://wandb.ai/ds4w/ds4w/sweeps/vfjumq0e</a>"
      ],
      "text/plain": [
       "<IPython.core.display.HTML object>"
      ]
     },
     "metadata": {},
     "output_type": "display_data"
    },
    {
     "name": "stdout",
     "output_type": "stream",
     "text": [
      "              precision    recall  f1-score   support\n",
      "\n",
      "           0       0.99      1.00      1.00       101\n",
      "           1       0.98      0.93      0.95        68\n",
      "           2       1.00      1.00      1.00        54\n",
      "           3       1.00      1.00      1.00        45\n",
      "           4       1.00      0.96      0.98        25\n",
      "           5       0.98      1.00      0.99       107\n",
      "           6       1.00      1.00      1.00        13\n",
      "           7       0.00      0.00      0.00         0\n",
      "           8       0.97      0.97      0.97       213\n",
      "           9       1.00      0.70      0.82        10\n",
      "          10       0.95      1.00      0.97        39\n",
      "          11       1.00      1.00      1.00        86\n",
      "\n",
      "    accuracy                           0.98       761\n",
      "   macro avg       0.91      0.88      0.89       761\n",
      "weighted avg       0.98      0.98      0.98       761\n",
      "\n"
     ]
    },
    {
     "data": {
      "text/html": [
       "Waiting for W&B process to finish... <strong style=\"color:green\">(success).</strong>"
      ],
      "text/plain": [
       "<IPython.core.display.HTML object>"
      ]
     },
     "metadata": {},
     "output_type": "display_data"
    },
    {
     "data": {
      "application/vnd.jupyter.widget-view+json": {
       "model_id": "",
       "version_major": 2,
       "version_minor": 0
      },
      "text/plain": [
       "VBox(children=(Label(value='0.001 MB of 0.001 MB uploaded (0.000 MB deduped)\\r'), FloatProgress(value=1.0, max…"
      ]
     },
     "metadata": {},
     "output_type": "display_data"
    },
    {
     "data": {
      "text/html": [
       "<style>\n",
       "    table.wandb td:nth-child(1) { padding: 0 10px; text-align: left ; width: auto;} td:nth-child(2) {text-align: left ; width: 100%}\n",
       "    .wandb-row { display: flex; flex-direction: row; flex-wrap: wrap; justify-content: flex-start; width: 100% }\n",
       "    .wandb-col { display: flex; flex-direction: column; flex-basis: 100%; flex: 1; padding: 10px; }\n",
       "    </style>\n",
       "<div class=\"wandb-row\"><div class=\"wandb-col\"><h3>Run history:</h3><br/><table class=\"wandb\"><tr><td>val_f1</td><td>▁</td></tr></table><br/></div><div class=\"wandb-col\"><h3>Run summary:</h3><br/><table class=\"wandb\"><tr><td>val_f1</td><td>0.98051</td></tr></table><br/></div></div>"
      ],
      "text/plain": [
       "<IPython.core.display.HTML object>"
      ]
     },
     "metadata": {},
     "output_type": "display_data"
    },
    {
     "data": {
      "text/html": [
       "Synced <strong style=\"color:#cdcd00\">bumbling-sweep-17</strong>: <a href=\"https://wandb.ai/ds4w/ds4w/runs/z0yuh2px\" target=\"_blank\">https://wandb.ai/ds4w/ds4w/runs/z0yuh2px</a><br/>Synced 6 W&B file(s), 0 media file(s), 0 artifact file(s) and 0 other file(s)"
      ],
      "text/plain": [
       "<IPython.core.display.HTML object>"
      ]
     },
     "metadata": {},
     "output_type": "display_data"
    },
    {
     "data": {
      "text/html": [
       "Find logs at: <code>./wandb/run-20240623_193000-z0yuh2px/logs</code>"
      ],
      "text/plain": [
       "<IPython.core.display.HTML object>"
      ]
     },
     "metadata": {},
     "output_type": "display_data"
    },
    {
     "name": "stderr",
     "output_type": "stream",
     "text": [
      "\u001b[34m\u001b[1mwandb\u001b[0m: Agent Starting Run: fuemxs85 with config:\n",
      "\u001b[34m\u001b[1mwandb\u001b[0m: \tC: 0.02819254345486232\n"
     ]
    },
    {
     "data": {
      "text/html": [
       "wandb version 0.17.2 is available!  To upgrade, please run:\n",
       " $ pip install wandb --upgrade"
      ],
      "text/plain": [
       "<IPython.core.display.HTML object>"
      ]
     },
     "metadata": {},
     "output_type": "display_data"
    },
    {
     "data": {
      "text/html": [
       "Tracking run with wandb version 0.13.3"
      ],
      "text/plain": [
       "<IPython.core.display.HTML object>"
      ]
     },
     "metadata": {},
     "output_type": "display_data"
    },
    {
     "data": {
      "text/html": [
       "Run data is saved locally in <code>/home/till/Desktop/ds4w-user-identification/wandb/run-20240623_193012-fuemxs85</code>"
      ],
      "text/plain": [
       "<IPython.core.display.HTML object>"
      ]
     },
     "metadata": {},
     "output_type": "display_data"
    },
    {
     "data": {
      "text/html": [
       "Syncing run <strong><a href=\"https://wandb.ai/ds4w/ds4w/runs/fuemxs85\" target=\"_blank\">usual-sweep-18</a></strong> to <a href=\"https://wandb.ai/ds4w/ds4w\" target=\"_blank\">Weights & Biases</a> (<a href=\"https://wandb.me/run\" target=\"_blank\">docs</a>)<br/>Sweep page:  <a href=\"https://wandb.ai/ds4w/ds4w/sweeps/vfjumq0e\" target=\"_blank\">https://wandb.ai/ds4w/ds4w/sweeps/vfjumq0e</a>"
      ],
      "text/plain": [
       "<IPython.core.display.HTML object>"
      ]
     },
     "metadata": {},
     "output_type": "display_data"
    },
    {
     "name": "stdout",
     "output_type": "stream",
     "text": [
      "              precision    recall  f1-score   support\n",
      "\n",
      "           0       1.00      1.00      1.00       101\n",
      "           1       1.00      0.94      0.97        68\n",
      "           2       1.00      1.00      1.00        54\n",
      "           3       1.00      1.00      1.00        45\n",
      "           4       0.93      1.00      0.96        25\n",
      "           5       1.00      1.00      1.00       107\n",
      "           6       1.00      1.00      1.00        13\n",
      "           7       0.00      0.00      0.00         0\n",
      "           8       0.98      0.94      0.96       213\n",
      "           9       0.67      0.80      0.73        10\n",
      "          10       0.89      1.00      0.94        39\n",
      "          11       1.00      1.00      1.00        86\n",
      "\n",
      "    accuracy                           0.98       761\n",
      "   macro avg       0.87      0.89      0.88       761\n",
      "weighted avg       0.98      0.98      0.98       761\n",
      "\n"
     ]
    },
    {
     "data": {
      "text/html": [
       "Waiting for W&B process to finish... <strong style=\"color:green\">(success).</strong>"
      ],
      "text/plain": [
       "<IPython.core.display.HTML object>"
      ]
     },
     "metadata": {},
     "output_type": "display_data"
    },
    {
     "data": {
      "application/vnd.jupyter.widget-view+json": {
       "model_id": "",
       "version_major": 2,
       "version_minor": 0
      },
      "text/plain": [
       "VBox(children=(Label(value='0.001 MB of 0.001 MB uploaded (0.000 MB deduped)\\r'), FloatProgress(value=1.0, max…"
      ]
     },
     "metadata": {},
     "output_type": "display_data"
    },
    {
     "data": {
      "text/html": [
       "<style>\n",
       "    table.wandb td:nth-child(1) { padding: 0 10px; text-align: left ; width: auto;} td:nth-child(2) {text-align: left ; width: 100%}\n",
       "    .wandb-row { display: flex; flex-direction: row; flex-wrap: wrap; justify-content: flex-start; width: 100% }\n",
       "    .wandb-col { display: flex; flex-direction: column; flex-basis: 100%; flex: 1; padding: 10px; }\n",
       "    </style>\n",
       "<div class=\"wandb-row\"><div class=\"wandb-col\"><h3>Run history:</h3><br/><table class=\"wandb\"><tr><td>val_f1</td><td>▁</td></tr></table><br/></div><div class=\"wandb-col\"><h3>Run summary:</h3><br/><table class=\"wandb\"><tr><td>val_f1</td><td>0.97864</td></tr></table><br/></div></div>"
      ],
      "text/plain": [
       "<IPython.core.display.HTML object>"
      ]
     },
     "metadata": {},
     "output_type": "display_data"
    },
    {
     "data": {
      "text/html": [
       "Synced <strong style=\"color:#cdcd00\">usual-sweep-18</strong>: <a href=\"https://wandb.ai/ds4w/ds4w/runs/fuemxs85\" target=\"_blank\">https://wandb.ai/ds4w/ds4w/runs/fuemxs85</a><br/>Synced 6 W&B file(s), 0 media file(s), 0 artifact file(s) and 0 other file(s)"
      ],
      "text/plain": [
       "<IPython.core.display.HTML object>"
      ]
     },
     "metadata": {},
     "output_type": "display_data"
    },
    {
     "data": {
      "text/html": [
       "Find logs at: <code>./wandb/run-20240623_193012-fuemxs85/logs</code>"
      ],
      "text/plain": [
       "<IPython.core.display.HTML object>"
      ]
     },
     "metadata": {},
     "output_type": "display_data"
    },
    {
     "name": "stderr",
     "output_type": "stream",
     "text": [
      "\u001b[34m\u001b[1mwandb\u001b[0m: Sweep Agent: Waiting for job.\n",
      "\u001b[34m\u001b[1mwandb\u001b[0m: Job received.\n",
      "\u001b[34m\u001b[1mwandb\u001b[0m: Agent Starting Run: 65re2uy3 with config:\n",
      "\u001b[34m\u001b[1mwandb\u001b[0m: \tC: 0.0005144572370019174\n"
     ]
    },
    {
     "data": {
      "text/html": [
       "wandb version 0.17.2 is available!  To upgrade, please run:\n",
       " $ pip install wandb --upgrade"
      ],
      "text/plain": [
       "<IPython.core.display.HTML object>"
      ]
     },
     "metadata": {},
     "output_type": "display_data"
    },
    {
     "data": {
      "text/html": [
       "Tracking run with wandb version 0.13.3"
      ],
      "text/plain": [
       "<IPython.core.display.HTML object>"
      ]
     },
     "metadata": {},
     "output_type": "display_data"
    },
    {
     "data": {
      "text/html": [
       "Run data is saved locally in <code>/home/till/Desktop/ds4w-user-identification/wandb/run-20240623_193032-65re2uy3</code>"
      ],
      "text/plain": [
       "<IPython.core.display.HTML object>"
      ]
     },
     "metadata": {},
     "output_type": "display_data"
    },
    {
     "data": {
      "text/html": [
       "Syncing run <strong><a href=\"https://wandb.ai/ds4w/ds4w/runs/65re2uy3\" target=\"_blank\">atomic-sweep-19</a></strong> to <a href=\"https://wandb.ai/ds4w/ds4w\" target=\"_blank\">Weights & Biases</a> (<a href=\"https://wandb.me/run\" target=\"_blank\">docs</a>)<br/>Sweep page:  <a href=\"https://wandb.ai/ds4w/ds4w/sweeps/vfjumq0e\" target=\"_blank\">https://wandb.ai/ds4w/ds4w/sweeps/vfjumq0e</a>"
      ],
      "text/plain": [
       "<IPython.core.display.HTML object>"
      ]
     },
     "metadata": {},
     "output_type": "display_data"
    },
    {
     "name": "stdout",
     "output_type": "stream",
     "text": [
      "              precision    recall  f1-score   support\n",
      "\n",
      "           0       0.99      1.00      1.00       101\n",
      "           1       0.98      0.90      0.94        68\n",
      "           2       1.00      1.00      1.00        54\n",
      "           3       1.00      1.00      1.00        45\n",
      "           4       1.00      0.96      0.98        25\n",
      "           5       0.97      1.00      0.99       107\n",
      "           6       1.00      1.00      1.00        13\n",
      "           7       0.00      0.00      0.00         0\n",
      "           8       0.96      0.98      0.97       213\n",
      "           9       1.00      0.70      0.82        10\n",
      "          10       1.00      1.00      1.00        39\n",
      "          11       1.00      1.00      1.00        86\n",
      "\n",
      "    accuracy                           0.98       761\n",
      "   macro avg       0.91      0.88      0.89       761\n",
      "weighted avg       0.98      0.98      0.98       761\n",
      "\n"
     ]
    },
    {
     "data": {
      "text/html": [
       "Waiting for W&B process to finish... <strong style=\"color:green\">(success).</strong>"
      ],
      "text/plain": [
       "<IPython.core.display.HTML object>"
      ]
     },
     "metadata": {},
     "output_type": "display_data"
    },
    {
     "data": {
      "application/vnd.jupyter.widget-view+json": {
       "model_id": "",
       "version_major": 2,
       "version_minor": 0
      },
      "text/plain": [
       "VBox(children=(Label(value='0.001 MB of 0.001 MB uploaded (0.000 MB deduped)\\r'), FloatProgress(value=1.0, max…"
      ]
     },
     "metadata": {},
     "output_type": "display_data"
    },
    {
     "data": {
      "text/html": [
       "<style>\n",
       "    table.wandb td:nth-child(1) { padding: 0 10px; text-align: left ; width: auto;} td:nth-child(2) {text-align: left ; width: 100%}\n",
       "    .wandb-row { display: flex; flex-direction: row; flex-wrap: wrap; justify-content: flex-start; width: 100% }\n",
       "    .wandb-col { display: flex; flex-direction: column; flex-basis: 100%; flex: 1; padding: 10px; }\n",
       "    </style>\n",
       "<div class=\"wandb-row\"><div class=\"wandb-col\"><h3>Run history:</h3><br/><table class=\"wandb\"><tr><td>val_f1</td><td>▁</td></tr></table><br/></div><div class=\"wandb-col\"><h3>Run summary:</h3><br/><table class=\"wandb\"><tr><td>val_f1</td><td>0.98043</td></tr></table><br/></div></div>"
      ],
      "text/plain": [
       "<IPython.core.display.HTML object>"
      ]
     },
     "metadata": {},
     "output_type": "display_data"
    },
    {
     "data": {
      "text/html": [
       "Synced <strong style=\"color:#cdcd00\">atomic-sweep-19</strong>: <a href=\"https://wandb.ai/ds4w/ds4w/runs/65re2uy3\" target=\"_blank\">https://wandb.ai/ds4w/ds4w/runs/65re2uy3</a><br/>Synced 6 W&B file(s), 0 media file(s), 0 artifact file(s) and 0 other file(s)"
      ],
      "text/plain": [
       "<IPython.core.display.HTML object>"
      ]
     },
     "metadata": {},
     "output_type": "display_data"
    },
    {
     "data": {
      "text/html": [
       "Find logs at: <code>./wandb/run-20240623_193032-65re2uy3/logs</code>"
      ],
      "text/plain": [
       "<IPython.core.display.HTML object>"
      ]
     },
     "metadata": {},
     "output_type": "display_data"
    },
    {
     "name": "stderr",
     "output_type": "stream",
     "text": [
      "\u001b[34m\u001b[1mwandb\u001b[0m: Agent Starting Run: bdg3ahno with config:\n",
      "\u001b[34m\u001b[1mwandb\u001b[0m: \tC: 0.00010387031057925876\n"
     ]
    },
    {
     "data": {
      "text/html": [
       "wandb version 0.17.2 is available!  To upgrade, please run:\n",
       " $ pip install wandb --upgrade"
      ],
      "text/plain": [
       "<IPython.core.display.HTML object>"
      ]
     },
     "metadata": {},
     "output_type": "display_data"
    },
    {
     "data": {
      "text/html": [
       "Tracking run with wandb version 0.13.3"
      ],
      "text/plain": [
       "<IPython.core.display.HTML object>"
      ]
     },
     "metadata": {},
     "output_type": "display_data"
    },
    {
     "data": {
      "text/html": [
       "Run data is saved locally in <code>/home/till/Desktop/ds4w-user-identification/wandb/run-20240623_193043-bdg3ahno</code>"
      ],
      "text/plain": [
       "<IPython.core.display.HTML object>"
      ]
     },
     "metadata": {},
     "output_type": "display_data"
    },
    {
     "data": {
      "text/html": [
       "Syncing run <strong><a href=\"https://wandb.ai/ds4w/ds4w/runs/bdg3ahno\" target=\"_blank\">celestial-sweep-20</a></strong> to <a href=\"https://wandb.ai/ds4w/ds4w\" target=\"_blank\">Weights & Biases</a> (<a href=\"https://wandb.me/run\" target=\"_blank\">docs</a>)<br/>Sweep page:  <a href=\"https://wandb.ai/ds4w/ds4w/sweeps/vfjumq0e\" target=\"_blank\">https://wandb.ai/ds4w/ds4w/sweeps/vfjumq0e</a>"
      ],
      "text/plain": [
       "<IPython.core.display.HTML object>"
      ]
     },
     "metadata": {},
     "output_type": "display_data"
    },
    {
     "name": "stdout",
     "output_type": "stream",
     "text": [
      "              precision    recall  f1-score   support\n",
      "\n",
      "           0       0.94      1.00      0.97       101\n",
      "           1       0.87      0.81      0.84        68\n",
      "           2       0.98      0.94      0.96        54\n",
      "           3       1.00      1.00      1.00        45\n",
      "           4       1.00      0.64      0.78        25\n",
      "           5       0.98      1.00      0.99       107\n",
      "           6       1.00      1.00      1.00        13\n",
      "           8       0.89      0.93      0.91       213\n",
      "           9       1.00      0.40      0.57        10\n",
      "          10       0.95      1.00      0.97        39\n",
      "          11       0.98      1.00      0.99        86\n",
      "\n",
      "    accuracy                           0.94       761\n",
      "   macro avg       0.96      0.88      0.91       761\n",
      "weighted avg       0.94      0.94      0.94       761\n",
      "\n"
     ]
    },
    {
     "data": {
      "text/html": [
       "Waiting for W&B process to finish... <strong style=\"color:green\">(success).</strong>"
      ],
      "text/plain": [
       "<IPython.core.display.HTML object>"
      ]
     },
     "metadata": {},
     "output_type": "display_data"
    },
    {
     "data": {
      "application/vnd.jupyter.widget-view+json": {
       "model_id": "",
       "version_major": 2,
       "version_minor": 0
      },
      "text/plain": [
       "VBox(children=(Label(value='0.001 MB of 0.001 MB uploaded (0.000 MB deduped)\\r'), FloatProgress(value=1.0, max…"
      ]
     },
     "metadata": {},
     "output_type": "display_data"
    },
    {
     "data": {
      "text/html": [
       "<style>\n",
       "    table.wandb td:nth-child(1) { padding: 0 10px; text-align: left ; width: auto;} td:nth-child(2) {text-align: left ; width: 100%}\n",
       "    .wandb-row { display: flex; flex-direction: row; flex-wrap: wrap; justify-content: flex-start; width: 100% }\n",
       "    .wandb-col { display: flex; flex-direction: column; flex-basis: 100%; flex: 1; padding: 10px; }\n",
       "    </style>\n",
       "<div class=\"wandb-row\"><div class=\"wandb-col\"><h3>Run history:</h3><br/><table class=\"wandb\"><tr><td>val_f1</td><td>▁</td></tr></table><br/></div><div class=\"wandb-col\"><h3>Run summary:</h3><br/><table class=\"wandb\"><tr><td>val_f1</td><td>0.93673</td></tr></table><br/></div></div>"
      ],
      "text/plain": [
       "<IPython.core.display.HTML object>"
      ]
     },
     "metadata": {},
     "output_type": "display_data"
    },
    {
     "data": {
      "text/html": [
       "Synced <strong style=\"color:#cdcd00\">celestial-sweep-20</strong>: <a href=\"https://wandb.ai/ds4w/ds4w/runs/bdg3ahno\" target=\"_blank\">https://wandb.ai/ds4w/ds4w/runs/bdg3ahno</a><br/>Synced 6 W&B file(s), 0 media file(s), 0 artifact file(s) and 0 other file(s)"
      ],
      "text/plain": [
       "<IPython.core.display.HTML object>"
      ]
     },
     "metadata": {},
     "output_type": "display_data"
    },
    {
     "data": {
      "text/html": [
       "Find logs at: <code>./wandb/run-20240623_193043-bdg3ahno/logs</code>"
      ],
      "text/plain": [
       "<IPython.core.display.HTML object>"
      ]
     },
     "metadata": {},
     "output_type": "display_data"
    },
    {
     "name": "stderr",
     "output_type": "stream",
     "text": [
      "\u001b[34m\u001b[1mwandb\u001b[0m: Sweep Agent: Waiting for job.\n",
      "\u001b[34m\u001b[1mwandb\u001b[0m: Job received.\n",
      "\u001b[34m\u001b[1mwandb\u001b[0m: Agent Starting Run: mbgcv8tv with config:\n",
      "\u001b[34m\u001b[1mwandb\u001b[0m: \tC: 0.005038251631365378\n"
     ]
    },
    {
     "data": {
      "text/html": [
       "wandb version 0.17.2 is available!  To upgrade, please run:\n",
       " $ pip install wandb --upgrade"
      ],
      "text/plain": [
       "<IPython.core.display.HTML object>"
      ]
     },
     "metadata": {},
     "output_type": "display_data"
    },
    {
     "data": {
      "text/html": [
       "Tracking run with wandb version 0.13.3"
      ],
      "text/plain": [
       "<IPython.core.display.HTML object>"
      ]
     },
     "metadata": {},
     "output_type": "display_data"
    },
    {
     "data": {
      "text/html": [
       "Run data is saved locally in <code>/home/till/Desktop/ds4w-user-identification/wandb/run-20240623_193104-mbgcv8tv</code>"
      ],
      "text/plain": [
       "<IPython.core.display.HTML object>"
      ]
     },
     "metadata": {},
     "output_type": "display_data"
    },
    {
     "data": {
      "text/html": [
       "Syncing run <strong><a href=\"https://wandb.ai/ds4w/ds4w/runs/mbgcv8tv\" target=\"_blank\">restful-sweep-21</a></strong> to <a href=\"https://wandb.ai/ds4w/ds4w\" target=\"_blank\">Weights & Biases</a> (<a href=\"https://wandb.me/run\" target=\"_blank\">docs</a>)<br/>Sweep page:  <a href=\"https://wandb.ai/ds4w/ds4w/sweeps/vfjumq0e\" target=\"_blank\">https://wandb.ai/ds4w/ds4w/sweeps/vfjumq0e</a>"
      ],
      "text/plain": [
       "<IPython.core.display.HTML object>"
      ]
     },
     "metadata": {},
     "output_type": "display_data"
    },
    {
     "name": "stdout",
     "output_type": "stream",
     "text": [
      "              precision    recall  f1-score   support\n",
      "\n",
      "           0       1.00      1.00      1.00       101\n",
      "           1       1.00      0.94      0.97        68\n",
      "           2       1.00      1.00      1.00        54\n",
      "           3       1.00      1.00      1.00        45\n",
      "           4       0.93      1.00      0.96        25\n",
      "           5       0.99      1.00      1.00       107\n",
      "           6       1.00      1.00      1.00        13\n",
      "           7       0.00      0.00      0.00         0\n",
      "           8       0.98      0.94      0.96       213\n",
      "           9       0.70      0.70      0.70        10\n",
      "          10       0.89      1.00      0.94        39\n",
      "          11       0.99      1.00      0.99        86\n",
      "\n",
      "    accuracy                           0.98       761\n",
      "   macro avg       0.87      0.88      0.88       761\n",
      "weighted avg       0.98      0.98      0.98       761\n",
      "\n"
     ]
    },
    {
     "data": {
      "text/html": [
       "Waiting for W&B process to finish... <strong style=\"color:green\">(success).</strong>"
      ],
      "text/plain": [
       "<IPython.core.display.HTML object>"
      ]
     },
     "metadata": {},
     "output_type": "display_data"
    },
    {
     "data": {
      "application/vnd.jupyter.widget-view+json": {
       "model_id": "",
       "version_major": 2,
       "version_minor": 0
      },
      "text/plain": [
       "VBox(children=(Label(value='0.001 MB of 0.001 MB uploaded (0.000 MB deduped)\\r'), FloatProgress(value=1.0, max…"
      ]
     },
     "metadata": {},
     "output_type": "display_data"
    },
    {
     "data": {
      "text/html": [
       "<style>\n",
       "    table.wandb td:nth-child(1) { padding: 0 10px; text-align: left ; width: auto;} td:nth-child(2) {text-align: left ; width: 100%}\n",
       "    .wandb-row { display: flex; flex-direction: row; flex-wrap: wrap; justify-content: flex-start; width: 100% }\n",
       "    .wandb-col { display: flex; flex-direction: column; flex-basis: 100%; flex: 1; padding: 10px; }\n",
       "    </style>\n",
       "<div class=\"wandb-row\"><div class=\"wandb-col\"><h3>Run history:</h3><br/><table class=\"wandb\"><tr><td>val_f1</td><td>▁</td></tr></table><br/></div><div class=\"wandb-col\"><h3>Run summary:</h3><br/><table class=\"wandb\"><tr><td>val_f1</td><td>0.97698</td></tr></table><br/></div></div>"
      ],
      "text/plain": [
       "<IPython.core.display.HTML object>"
      ]
     },
     "metadata": {},
     "output_type": "display_data"
    },
    {
     "data": {
      "text/html": [
       "Synced <strong style=\"color:#cdcd00\">restful-sweep-21</strong>: <a href=\"https://wandb.ai/ds4w/ds4w/runs/mbgcv8tv\" target=\"_blank\">https://wandb.ai/ds4w/ds4w/runs/mbgcv8tv</a><br/>Synced 6 W&B file(s), 0 media file(s), 0 artifact file(s) and 0 other file(s)"
      ],
      "text/plain": [
       "<IPython.core.display.HTML object>"
      ]
     },
     "metadata": {},
     "output_type": "display_data"
    },
    {
     "data": {
      "text/html": [
       "Find logs at: <code>./wandb/run-20240623_193104-mbgcv8tv/logs</code>"
      ],
      "text/plain": [
       "<IPython.core.display.HTML object>"
      ]
     },
     "metadata": {},
     "output_type": "display_data"
    },
    {
     "name": "stderr",
     "output_type": "stream",
     "text": [
      "\u001b[34m\u001b[1mwandb\u001b[0m: Agent Starting Run: oy8ngukj with config:\n",
      "\u001b[34m\u001b[1mwandb\u001b[0m: \tC: 0.0002969604454539146\n"
     ]
    },
    {
     "data": {
      "text/html": [
       "wandb version 0.17.2 is available!  To upgrade, please run:\n",
       " $ pip install wandb --upgrade"
      ],
      "text/plain": [
       "<IPython.core.display.HTML object>"
      ]
     },
     "metadata": {},
     "output_type": "display_data"
    },
    {
     "data": {
      "text/html": [
       "Tracking run with wandb version 0.13.3"
      ],
      "text/plain": [
       "<IPython.core.display.HTML object>"
      ]
     },
     "metadata": {},
     "output_type": "display_data"
    },
    {
     "data": {
      "text/html": [
       "Run data is saved locally in <code>/home/till/Desktop/ds4w-user-identification/wandb/run-20240623_193115-oy8ngukj</code>"
      ],
      "text/plain": [
       "<IPython.core.display.HTML object>"
      ]
     },
     "metadata": {},
     "output_type": "display_data"
    },
    {
     "data": {
      "text/html": [
       "Syncing run <strong><a href=\"https://wandb.ai/ds4w/ds4w/runs/oy8ngukj\" target=\"_blank\">generous-sweep-22</a></strong> to <a href=\"https://wandb.ai/ds4w/ds4w\" target=\"_blank\">Weights & Biases</a> (<a href=\"https://wandb.me/run\" target=\"_blank\">docs</a>)<br/>Sweep page:  <a href=\"https://wandb.ai/ds4w/ds4w/sweeps/vfjumq0e\" target=\"_blank\">https://wandb.ai/ds4w/ds4w/sweeps/vfjumq0e</a>"
      ],
      "text/plain": [
       "<IPython.core.display.HTML object>"
      ]
     },
     "metadata": {},
     "output_type": "display_data"
    },
    {
     "name": "stdout",
     "output_type": "stream",
     "text": [
      "              precision    recall  f1-score   support\n",
      "\n",
      "           0       0.98      1.00      0.99       101\n",
      "           1       0.98      0.88      0.93        68\n",
      "           2       1.00      1.00      1.00        54\n",
      "           3       1.00      1.00      1.00        45\n",
      "           4       1.00      0.92      0.96        25\n",
      "           5       0.98      1.00      0.99       107\n",
      "           6       1.00      1.00      1.00        13\n",
      "           7       0.00      0.00      0.00         0\n",
      "           8       0.95      0.98      0.96       213\n",
      "           9       1.00      0.70      0.82        10\n",
      "          10       1.00      1.00      1.00        39\n",
      "          11       1.00      1.00      1.00        86\n",
      "\n",
      "    accuracy                           0.98       761\n",
      "   macro avg       0.91      0.87      0.89       761\n",
      "weighted avg       0.98      0.98      0.98       761\n",
      "\n"
     ]
    },
    {
     "data": {
      "text/html": [
       "Waiting for W&B process to finish... <strong style=\"color:green\">(success).</strong>"
      ],
      "text/plain": [
       "<IPython.core.display.HTML object>"
      ]
     },
     "metadata": {},
     "output_type": "display_data"
    },
    {
     "data": {
      "application/vnd.jupyter.widget-view+json": {
       "model_id": "",
       "version_major": 2,
       "version_minor": 0
      },
      "text/plain": [
       "VBox(children=(Label(value='0.001 MB of 0.001 MB uploaded (0.000 MB deduped)\\r'), FloatProgress(value=1.0, max…"
      ]
     },
     "metadata": {},
     "output_type": "display_data"
    },
    {
     "data": {
      "text/html": [
       "<style>\n",
       "    table.wandb td:nth-child(1) { padding: 0 10px; text-align: left ; width: auto;} td:nth-child(2) {text-align: left ; width: 100%}\n",
       "    .wandb-row { display: flex; flex-direction: row; flex-wrap: wrap; justify-content: flex-start; width: 100% }\n",
       "    .wandb-col { display: flex; flex-direction: column; flex-basis: 100%; flex: 1; padding: 10px; }\n",
       "    </style>\n",
       "<div class=\"wandb-row\"><div class=\"wandb-col\"><h3>Run history:</h3><br/><table class=\"wandb\"><tr><td>val_f1</td><td>▁</td></tr></table><br/></div><div class=\"wandb-col\"><h3>Run summary:</h3><br/><table class=\"wandb\"><tr><td>val_f1</td><td>0.97711</td></tr></table><br/></div></div>"
      ],
      "text/plain": [
       "<IPython.core.display.HTML object>"
      ]
     },
     "metadata": {},
     "output_type": "display_data"
    },
    {
     "data": {
      "text/html": [
       "Synced <strong style=\"color:#cdcd00\">generous-sweep-22</strong>: <a href=\"https://wandb.ai/ds4w/ds4w/runs/oy8ngukj\" target=\"_blank\">https://wandb.ai/ds4w/ds4w/runs/oy8ngukj</a><br/>Synced 6 W&B file(s), 0 media file(s), 0 artifact file(s) and 0 other file(s)"
      ],
      "text/plain": [
       "<IPython.core.display.HTML object>"
      ]
     },
     "metadata": {},
     "output_type": "display_data"
    },
    {
     "data": {
      "text/html": [
       "Find logs at: <code>./wandb/run-20240623_193115-oy8ngukj/logs</code>"
      ],
      "text/plain": [
       "<IPython.core.display.HTML object>"
      ]
     },
     "metadata": {},
     "output_type": "display_data"
    },
    {
     "name": "stderr",
     "output_type": "stream",
     "text": [
      "\u001b[34m\u001b[1mwandb\u001b[0m: Agent Starting Run: m2wfpdq8 with config:\n",
      "\u001b[34m\u001b[1mwandb\u001b[0m: \tC: 0.12251224740289764\n"
     ]
    },
    {
     "data": {
      "text/html": [
       "wandb version 0.17.2 is available!  To upgrade, please run:\n",
       " $ pip install wandb --upgrade"
      ],
      "text/plain": [
       "<IPython.core.display.HTML object>"
      ]
     },
     "metadata": {},
     "output_type": "display_data"
    },
    {
     "data": {
      "text/html": [
       "Tracking run with wandb version 0.13.3"
      ],
      "text/plain": [
       "<IPython.core.display.HTML object>"
      ]
     },
     "metadata": {},
     "output_type": "display_data"
    },
    {
     "data": {
      "text/html": [
       "Run data is saved locally in <code>/home/till/Desktop/ds4w-user-identification/wandb/run-20240623_193127-m2wfpdq8</code>"
      ],
      "text/plain": [
       "<IPython.core.display.HTML object>"
      ]
     },
     "metadata": {},
     "output_type": "display_data"
    },
    {
     "data": {
      "text/html": [
       "Syncing run <strong><a href=\"https://wandb.ai/ds4w/ds4w/runs/m2wfpdq8\" target=\"_blank\">dandy-sweep-23</a></strong> to <a href=\"https://wandb.ai/ds4w/ds4w\" target=\"_blank\">Weights & Biases</a> (<a href=\"https://wandb.me/run\" target=\"_blank\">docs</a>)<br/>Sweep page:  <a href=\"https://wandb.ai/ds4w/ds4w/sweeps/vfjumq0e\" target=\"_blank\">https://wandb.ai/ds4w/ds4w/sweeps/vfjumq0e</a>"
      ],
      "text/plain": [
       "<IPython.core.display.HTML object>"
      ]
     },
     "metadata": {},
     "output_type": "display_data"
    },
    {
     "name": "stdout",
     "output_type": "stream",
     "text": [
      "              precision    recall  f1-score   support\n",
      "\n",
      "           0       1.00      1.00      1.00       101\n",
      "           1       1.00      0.94      0.97        68\n",
      "           2       1.00      1.00      1.00        54\n",
      "           3       1.00      1.00      1.00        45\n",
      "           4       0.93      1.00      0.96        25\n",
      "           5       1.00      1.00      1.00       107\n",
      "           6       1.00      1.00      1.00        13\n",
      "           7       0.00      0.00      0.00         0\n",
      "           8       0.98      0.94      0.96       213\n",
      "           9       0.67      0.80      0.73        10\n",
      "          10       0.89      1.00      0.94        39\n",
      "          11       1.00      1.00      1.00        86\n",
      "\n",
      "    accuracy                           0.98       761\n",
      "   macro avg       0.87      0.89      0.88       761\n",
      "weighted avg       0.98      0.98      0.98       761\n",
      "\n"
     ]
    },
    {
     "data": {
      "text/html": [
       "Waiting for W&B process to finish... <strong style=\"color:green\">(success).</strong>"
      ],
      "text/plain": [
       "<IPython.core.display.HTML object>"
      ]
     },
     "metadata": {},
     "output_type": "display_data"
    },
    {
     "data": {
      "application/vnd.jupyter.widget-view+json": {
       "model_id": "",
       "version_major": 2,
       "version_minor": 0
      },
      "text/plain": [
       "VBox(children=(Label(value='0.001 MB of 0.001 MB uploaded (0.000 MB deduped)\\r'), FloatProgress(value=1.0, max…"
      ]
     },
     "metadata": {},
     "output_type": "display_data"
    },
    {
     "data": {
      "text/html": [
       "<style>\n",
       "    table.wandb td:nth-child(1) { padding: 0 10px; text-align: left ; width: auto;} td:nth-child(2) {text-align: left ; width: 100%}\n",
       "    .wandb-row { display: flex; flex-direction: row; flex-wrap: wrap; justify-content: flex-start; width: 100% }\n",
       "    .wandb-col { display: flex; flex-direction: column; flex-basis: 100%; flex: 1; padding: 10px; }\n",
       "    </style>\n",
       "<div class=\"wandb-row\"><div class=\"wandb-col\"><h3>Run history:</h3><br/><table class=\"wandb\"><tr><td>val_f1</td><td>▁</td></tr></table><br/></div><div class=\"wandb-col\"><h3>Run summary:</h3><br/><table class=\"wandb\"><tr><td>val_f1</td><td>0.97864</td></tr></table><br/></div></div>"
      ],
      "text/plain": [
       "<IPython.core.display.HTML object>"
      ]
     },
     "metadata": {},
     "output_type": "display_data"
    },
    {
     "data": {
      "text/html": [
       "Synced <strong style=\"color:#cdcd00\">dandy-sweep-23</strong>: <a href=\"https://wandb.ai/ds4w/ds4w/runs/m2wfpdq8\" target=\"_blank\">https://wandb.ai/ds4w/ds4w/runs/m2wfpdq8</a><br/>Synced 6 W&B file(s), 0 media file(s), 0 artifact file(s) and 0 other file(s)"
      ],
      "text/plain": [
       "<IPython.core.display.HTML object>"
      ]
     },
     "metadata": {},
     "output_type": "display_data"
    },
    {
     "data": {
      "text/html": [
       "Find logs at: <code>./wandb/run-20240623_193127-m2wfpdq8/logs</code>"
      ],
      "text/plain": [
       "<IPython.core.display.HTML object>"
      ]
     },
     "metadata": {},
     "output_type": "display_data"
    },
    {
     "name": "stderr",
     "output_type": "stream",
     "text": [
      "\u001b[34m\u001b[1mwandb\u001b[0m: Sweep Agent: Waiting for job.\n",
      "\u001b[34m\u001b[1mwandb\u001b[0m: Job received.\n",
      "\u001b[34m\u001b[1mwandb\u001b[0m: Agent Starting Run: jh4mye06 with config:\n",
      "\u001b[34m\u001b[1mwandb\u001b[0m: \tC: 0.0024026256509371\n"
     ]
    },
    {
     "data": {
      "text/html": [
       "wandb version 0.17.2 is available!  To upgrade, please run:\n",
       " $ pip install wandb --upgrade"
      ],
      "text/plain": [
       "<IPython.core.display.HTML object>"
      ]
     },
     "metadata": {},
     "output_type": "display_data"
    },
    {
     "data": {
      "text/html": [
       "Tracking run with wandb version 0.13.3"
      ],
      "text/plain": [
       "<IPython.core.display.HTML object>"
      ]
     },
     "metadata": {},
     "output_type": "display_data"
    },
    {
     "data": {
      "text/html": [
       "Run data is saved locally in <code>/home/till/Desktop/ds4w-user-identification/wandb/run-20240623_193147-jh4mye06</code>"
      ],
      "text/plain": [
       "<IPython.core.display.HTML object>"
      ]
     },
     "metadata": {},
     "output_type": "display_data"
    },
    {
     "data": {
      "text/html": [
       "Syncing run <strong><a href=\"https://wandb.ai/ds4w/ds4w/runs/jh4mye06\" target=\"_blank\">bright-sweep-24</a></strong> to <a href=\"https://wandb.ai/ds4w/ds4w\" target=\"_blank\">Weights & Biases</a> (<a href=\"https://wandb.me/run\" target=\"_blank\">docs</a>)<br/>Sweep page:  <a href=\"https://wandb.ai/ds4w/ds4w/sweeps/vfjumq0e\" target=\"_blank\">https://wandb.ai/ds4w/ds4w/sweeps/vfjumq0e</a>"
      ],
      "text/plain": [
       "<IPython.core.display.HTML object>"
      ]
     },
     "metadata": {},
     "output_type": "display_data"
    },
    {
     "name": "stdout",
     "output_type": "stream",
     "text": [
      "              precision    recall  f1-score   support\n",
      "\n",
      "           0       1.00      1.00      1.00       101\n",
      "           1       1.00      0.94      0.97        68\n",
      "           2       1.00      1.00      1.00        54\n",
      "           3       1.00      1.00      1.00        45\n",
      "           4       0.93      1.00      0.96        25\n",
      "           5       0.99      1.00      1.00       107\n",
      "           6       1.00      1.00      1.00        13\n",
      "           7       0.00      0.00      0.00         0\n",
      "           8       0.98      0.96      0.97       213\n",
      "           9       1.00      0.70      0.82        10\n",
      "          10       0.89      1.00      0.94        39\n",
      "          11       0.99      1.00      0.99        86\n",
      "\n",
      "    accuracy                           0.98       761\n",
      "   macro avg       0.90      0.88      0.89       761\n",
      "weighted avg       0.98      0.98      0.98       761\n",
      "\n"
     ]
    },
    {
     "data": {
      "text/html": [
       "Waiting for W&B process to finish... <strong style=\"color:green\">(success).</strong>"
      ],
      "text/plain": [
       "<IPython.core.display.HTML object>"
      ]
     },
     "metadata": {},
     "output_type": "display_data"
    },
    {
     "data": {
      "application/vnd.jupyter.widget-view+json": {
       "model_id": "",
       "version_major": 2,
       "version_minor": 0
      },
      "text/plain": [
       "VBox(children=(Label(value='0.001 MB of 0.001 MB uploaded (0.000 MB deduped)\\r'), FloatProgress(value=1.0, max…"
      ]
     },
     "metadata": {},
     "output_type": "display_data"
    },
    {
     "data": {
      "text/html": [
       "<style>\n",
       "    table.wandb td:nth-child(1) { padding: 0 10px; text-align: left ; width: auto;} td:nth-child(2) {text-align: left ; width: 100%}\n",
       "    .wandb-row { display: flex; flex-direction: row; flex-wrap: wrap; justify-content: flex-start; width: 100% }\n",
       "    .wandb-col { display: flex; flex-direction: column; flex-basis: 100%; flex: 1; padding: 10px; }\n",
       "    </style>\n",
       "<div class=\"wandb-row\"><div class=\"wandb-col\"><h3>Run history:</h3><br/><table class=\"wandb\"><tr><td>val_f1</td><td>▁</td></tr></table><br/></div><div class=\"wandb-col\"><h3>Run summary:</h3><br/><table class=\"wandb\"><tr><td>val_f1</td><td>0.98067</td></tr></table><br/></div></div>"
      ],
      "text/plain": [
       "<IPython.core.display.HTML object>"
      ]
     },
     "metadata": {},
     "output_type": "display_data"
    },
    {
     "data": {
      "text/html": [
       "Synced <strong style=\"color:#cdcd00\">bright-sweep-24</strong>: <a href=\"https://wandb.ai/ds4w/ds4w/runs/jh4mye06\" target=\"_blank\">https://wandb.ai/ds4w/ds4w/runs/jh4mye06</a><br/>Synced 6 W&B file(s), 0 media file(s), 0 artifact file(s) and 0 other file(s)"
      ],
      "text/plain": [
       "<IPython.core.display.HTML object>"
      ]
     },
     "metadata": {},
     "output_type": "display_data"
    },
    {
     "data": {
      "text/html": [
       "Find logs at: <code>./wandb/run-20240623_193147-jh4mye06/logs</code>"
      ],
      "text/plain": [
       "<IPython.core.display.HTML object>"
      ]
     },
     "metadata": {},
     "output_type": "display_data"
    },
    {
     "name": "stderr",
     "output_type": "stream",
     "text": [
      "\u001b[34m\u001b[1mwandb\u001b[0m: Agent Starting Run: kui170a9 with config:\n",
      "\u001b[34m\u001b[1mwandb\u001b[0m: \tC: 0.5979610588182281\n"
     ]
    },
    {
     "data": {
      "text/html": [
       "wandb version 0.17.2 is available!  To upgrade, please run:\n",
       " $ pip install wandb --upgrade"
      ],
      "text/plain": [
       "<IPython.core.display.HTML object>"
      ]
     },
     "metadata": {},
     "output_type": "display_data"
    },
    {
     "data": {
      "text/html": [
       "Tracking run with wandb version 0.13.3"
      ],
      "text/plain": [
       "<IPython.core.display.HTML object>"
      ]
     },
     "metadata": {},
     "output_type": "display_data"
    },
    {
     "data": {
      "text/html": [
       "Run data is saved locally in <code>/home/till/Desktop/ds4w-user-identification/wandb/run-20240623_193159-kui170a9</code>"
      ],
      "text/plain": [
       "<IPython.core.display.HTML object>"
      ]
     },
     "metadata": {},
     "output_type": "display_data"
    },
    {
     "data": {
      "text/html": [
       "Syncing run <strong><a href=\"https://wandb.ai/ds4w/ds4w/runs/kui170a9\" target=\"_blank\">good-sweep-25</a></strong> to <a href=\"https://wandb.ai/ds4w/ds4w\" target=\"_blank\">Weights & Biases</a> (<a href=\"https://wandb.me/run\" target=\"_blank\">docs</a>)<br/>Sweep page:  <a href=\"https://wandb.ai/ds4w/ds4w/sweeps/vfjumq0e\" target=\"_blank\">https://wandb.ai/ds4w/ds4w/sweeps/vfjumq0e</a>"
      ],
      "text/plain": [
       "<IPython.core.display.HTML object>"
      ]
     },
     "metadata": {},
     "output_type": "display_data"
    },
    {
     "name": "stdout",
     "output_type": "stream",
     "text": [
      "              precision    recall  f1-score   support\n",
      "\n",
      "           0       1.00      1.00      1.00       101\n",
      "           1       1.00      0.94      0.97        68\n",
      "           2       1.00      1.00      1.00        54\n",
      "           3       1.00      1.00      1.00        45\n",
      "           4       0.93      1.00      0.96        25\n",
      "           5       1.00      1.00      1.00       107\n",
      "           6       1.00      1.00      1.00        13\n",
      "           7       0.00      0.00      0.00         0\n",
      "           8       0.98      0.94      0.96       213\n",
      "           9       0.67      0.80      0.73        10\n",
      "          10       0.89      1.00      0.94        39\n",
      "          11       1.00      1.00      1.00        86\n",
      "\n",
      "    accuracy                           0.98       761\n",
      "   macro avg       0.87      0.89      0.88       761\n",
      "weighted avg       0.98      0.98      0.98       761\n",
      "\n"
     ]
    },
    {
     "data": {
      "text/html": [
       "Waiting for W&B process to finish... <strong style=\"color:green\">(success).</strong>"
      ],
      "text/plain": [
       "<IPython.core.display.HTML object>"
      ]
     },
     "metadata": {},
     "output_type": "display_data"
    },
    {
     "data": {
      "application/vnd.jupyter.widget-view+json": {
       "model_id": "",
       "version_major": 2,
       "version_minor": 0
      },
      "text/plain": [
       "VBox(children=(Label(value='0.001 MB of 0.001 MB uploaded (0.000 MB deduped)\\r'), FloatProgress(value=1.0, max…"
      ]
     },
     "metadata": {},
     "output_type": "display_data"
    },
    {
     "data": {
      "text/html": [
       "<style>\n",
       "    table.wandb td:nth-child(1) { padding: 0 10px; text-align: left ; width: auto;} td:nth-child(2) {text-align: left ; width: 100%}\n",
       "    .wandb-row { display: flex; flex-direction: row; flex-wrap: wrap; justify-content: flex-start; width: 100% }\n",
       "    .wandb-col { display: flex; flex-direction: column; flex-basis: 100%; flex: 1; padding: 10px; }\n",
       "    </style>\n",
       "<div class=\"wandb-row\"><div class=\"wandb-col\"><h3>Run history:</h3><br/><table class=\"wandb\"><tr><td>val_f1</td><td>▁</td></tr></table><br/></div><div class=\"wandb-col\"><h3>Run summary:</h3><br/><table class=\"wandb\"><tr><td>val_f1</td><td>0.97864</td></tr></table><br/></div></div>"
      ],
      "text/plain": [
       "<IPython.core.display.HTML object>"
      ]
     },
     "metadata": {},
     "output_type": "display_data"
    },
    {
     "data": {
      "text/html": [
       "Synced <strong style=\"color:#cdcd00\">good-sweep-25</strong>: <a href=\"https://wandb.ai/ds4w/ds4w/runs/kui170a9\" target=\"_blank\">https://wandb.ai/ds4w/ds4w/runs/kui170a9</a><br/>Synced 6 W&B file(s), 0 media file(s), 0 artifact file(s) and 0 other file(s)"
      ],
      "text/plain": [
       "<IPython.core.display.HTML object>"
      ]
     },
     "metadata": {},
     "output_type": "display_data"
    },
    {
     "data": {
      "text/html": [
       "Find logs at: <code>./wandb/run-20240623_193159-kui170a9/logs</code>"
      ],
      "text/plain": [
       "<IPython.core.display.HTML object>"
      ]
     },
     "metadata": {},
     "output_type": "display_data"
    },
    {
     "name": "stderr",
     "output_type": "stream",
     "text": [
      "\u001b[34m\u001b[1mwandb\u001b[0m: Sweep Agent: Waiting for job.\n",
      "\u001b[34m\u001b[1mwandb\u001b[0m: Job received.\n",
      "\u001b[34m\u001b[1mwandb\u001b[0m: Agent Starting Run: 121rw2r4 with config:\n",
      "\u001b[34m\u001b[1mwandb\u001b[0m: \tC: 0.001586937025947154\n"
     ]
    },
    {
     "data": {
      "text/html": [
       "wandb version 0.17.2 is available!  To upgrade, please run:\n",
       " $ pip install wandb --upgrade"
      ],
      "text/plain": [
       "<IPython.core.display.HTML object>"
      ]
     },
     "metadata": {},
     "output_type": "display_data"
    },
    {
     "data": {
      "text/html": [
       "Tracking run with wandb version 0.13.3"
      ],
      "text/plain": [
       "<IPython.core.display.HTML object>"
      ]
     },
     "metadata": {},
     "output_type": "display_data"
    },
    {
     "data": {
      "text/html": [
       "Run data is saved locally in <code>/home/till/Desktop/ds4w-user-identification/wandb/run-20240623_193221-121rw2r4</code>"
      ],
      "text/plain": [
       "<IPython.core.display.HTML object>"
      ]
     },
     "metadata": {},
     "output_type": "display_data"
    },
    {
     "data": {
      "text/html": [
       "Syncing run <strong><a href=\"https://wandb.ai/ds4w/ds4w/runs/121rw2r4\" target=\"_blank\">fiery-sweep-26</a></strong> to <a href=\"https://wandb.ai/ds4w/ds4w\" target=\"_blank\">Weights & Biases</a> (<a href=\"https://wandb.me/run\" target=\"_blank\">docs</a>)<br/>Sweep page:  <a href=\"https://wandb.ai/ds4w/ds4w/sweeps/vfjumq0e\" target=\"_blank\">https://wandb.ai/ds4w/ds4w/sweeps/vfjumq0e</a>"
      ],
      "text/plain": [
       "<IPython.core.display.HTML object>"
      ]
     },
     "metadata": {},
     "output_type": "display_data"
    },
    {
     "name": "stdout",
     "output_type": "stream",
     "text": [
      "              precision    recall  f1-score   support\n",
      "\n",
      "           0       1.00      1.00      1.00       101\n",
      "           1       1.00      0.93      0.96        68\n",
      "           2       1.00      1.00      1.00        54\n",
      "           3       1.00      1.00      1.00        45\n",
      "           4       0.93      1.00      0.96        25\n",
      "           5       0.99      1.00      1.00       107\n",
      "           6       1.00      1.00      1.00        13\n",
      "           7       0.00      0.00      0.00         0\n",
      "           8       0.98      0.96      0.97       213\n",
      "           9       1.00      0.70      0.82        10\n",
      "          10       0.93      1.00      0.96        39\n",
      "          11       0.99      1.00      0.99        86\n",
      "\n",
      "    accuracy                           0.98       761\n",
      "   macro avg       0.90      0.88      0.89       761\n",
      "weighted avg       0.98      0.98      0.98       761\n",
      "\n"
     ]
    },
    {
     "data": {
      "text/html": [
       "Waiting for W&B process to finish... <strong style=\"color:green\">(success).</strong>"
      ],
      "text/plain": [
       "<IPython.core.display.HTML object>"
      ]
     },
     "metadata": {},
     "output_type": "display_data"
    },
    {
     "data": {
      "application/vnd.jupyter.widget-view+json": {
       "model_id": "",
       "version_major": 2,
       "version_minor": 0
      },
      "text/plain": [
       "VBox(children=(Label(value='0.001 MB of 0.001 MB uploaded (0.000 MB deduped)\\r'), FloatProgress(value=1.0, max…"
      ]
     },
     "metadata": {},
     "output_type": "display_data"
    },
    {
     "data": {
      "text/html": [
       "<style>\n",
       "    table.wandb td:nth-child(1) { padding: 0 10px; text-align: left ; width: auto;} td:nth-child(2) {text-align: left ; width: 100%}\n",
       "    .wandb-row { display: flex; flex-direction: row; flex-wrap: wrap; justify-content: flex-start; width: 100% }\n",
       "    .wandb-col { display: flex; flex-direction: column; flex-basis: 100%; flex: 1; padding: 10px; }\n",
       "    </style>\n",
       "<div class=\"wandb-row\"><div class=\"wandb-col\"><h3>Run history:</h3><br/><table class=\"wandb\"><tr><td>val_f1</td><td>▁</td></tr></table><br/></div><div class=\"wandb-col\"><h3>Run summary:</h3><br/><table class=\"wandb\"><tr><td>val_f1</td><td>0.9812</td></tr></table><br/></div></div>"
      ],
      "text/plain": [
       "<IPython.core.display.HTML object>"
      ]
     },
     "metadata": {},
     "output_type": "display_data"
    },
    {
     "data": {
      "text/html": [
       "Synced <strong style=\"color:#cdcd00\">fiery-sweep-26</strong>: <a href=\"https://wandb.ai/ds4w/ds4w/runs/121rw2r4\" target=\"_blank\">https://wandb.ai/ds4w/ds4w/runs/121rw2r4</a><br/>Synced 6 W&B file(s), 0 media file(s), 0 artifact file(s) and 0 other file(s)"
      ],
      "text/plain": [
       "<IPython.core.display.HTML object>"
      ]
     },
     "metadata": {},
     "output_type": "display_data"
    },
    {
     "data": {
      "text/html": [
       "Find logs at: <code>./wandb/run-20240623_193221-121rw2r4/logs</code>"
      ],
      "text/plain": [
       "<IPython.core.display.HTML object>"
      ]
     },
     "metadata": {},
     "output_type": "display_data"
    },
    {
     "name": "stderr",
     "output_type": "stream",
     "text": [
      "\u001b[34m\u001b[1mwandb\u001b[0m: Sweep Agent: Waiting for job.\n",
      "\u001b[34m\u001b[1mwandb\u001b[0m: Job received.\n",
      "\u001b[34m\u001b[1mwandb\u001b[0m: Agent Starting Run: 4pgqnbw6 with config:\n",
      "\u001b[34m\u001b[1mwandb\u001b[0m: \tC: 0.7308061006723315\n"
     ]
    },
    {
     "data": {
      "text/html": [
       "wandb version 0.17.2 is available!  To upgrade, please run:\n",
       " $ pip install wandb --upgrade"
      ],
      "text/plain": [
       "<IPython.core.display.HTML object>"
      ]
     },
     "metadata": {},
     "output_type": "display_data"
    },
    {
     "data": {
      "text/html": [
       "Tracking run with wandb version 0.13.3"
      ],
      "text/plain": [
       "<IPython.core.display.HTML object>"
      ]
     },
     "metadata": {},
     "output_type": "display_data"
    },
    {
     "data": {
      "text/html": [
       "Run data is saved locally in <code>/home/till/Desktop/ds4w-user-identification/wandb/run-20240623_193241-4pgqnbw6</code>"
      ],
      "text/plain": [
       "<IPython.core.display.HTML object>"
      ]
     },
     "metadata": {},
     "output_type": "display_data"
    },
    {
     "data": {
      "text/html": [
       "Syncing run <strong><a href=\"https://wandb.ai/ds4w/ds4w/runs/4pgqnbw6\" target=\"_blank\">sleek-sweep-27</a></strong> to <a href=\"https://wandb.ai/ds4w/ds4w\" target=\"_blank\">Weights & Biases</a> (<a href=\"https://wandb.me/run\" target=\"_blank\">docs</a>)<br/>Sweep page:  <a href=\"https://wandb.ai/ds4w/ds4w/sweeps/vfjumq0e\" target=\"_blank\">https://wandb.ai/ds4w/ds4w/sweeps/vfjumq0e</a>"
      ],
      "text/plain": [
       "<IPython.core.display.HTML object>"
      ]
     },
     "metadata": {},
     "output_type": "display_data"
    },
    {
     "name": "stdout",
     "output_type": "stream",
     "text": [
      "              precision    recall  f1-score   support\n",
      "\n",
      "           0       1.00      1.00      1.00       101\n",
      "           1       1.00      0.94      0.97        68\n",
      "           2       1.00      1.00      1.00        54\n",
      "           3       1.00      1.00      1.00        45\n",
      "           4       0.93      1.00      0.96        25\n",
      "           5       1.00      1.00      1.00       107\n",
      "           6       1.00      1.00      1.00        13\n",
      "           7       0.00      0.00      0.00         0\n",
      "           8       0.98      0.94      0.96       213\n",
      "           9       0.67      0.80      0.73        10\n",
      "          10       0.89      1.00      0.94        39\n",
      "          11       1.00      1.00      1.00        86\n",
      "\n",
      "    accuracy                           0.98       761\n",
      "   macro avg       0.87      0.89      0.88       761\n",
      "weighted avg       0.98      0.98      0.98       761\n",
      "\n"
     ]
    },
    {
     "data": {
      "text/html": [
       "Waiting for W&B process to finish... <strong style=\"color:green\">(success).</strong>"
      ],
      "text/plain": [
       "<IPython.core.display.HTML object>"
      ]
     },
     "metadata": {},
     "output_type": "display_data"
    },
    {
     "data": {
      "application/vnd.jupyter.widget-view+json": {
       "model_id": "",
       "version_major": 2,
       "version_minor": 0
      },
      "text/plain": [
       "VBox(children=(Label(value='0.001 MB of 0.001 MB uploaded (0.000 MB deduped)\\r'), FloatProgress(value=1.0, max…"
      ]
     },
     "metadata": {},
     "output_type": "display_data"
    },
    {
     "data": {
      "text/html": [
       "<style>\n",
       "    table.wandb td:nth-child(1) { padding: 0 10px; text-align: left ; width: auto;} td:nth-child(2) {text-align: left ; width: 100%}\n",
       "    .wandb-row { display: flex; flex-direction: row; flex-wrap: wrap; justify-content: flex-start; width: 100% }\n",
       "    .wandb-col { display: flex; flex-direction: column; flex-basis: 100%; flex: 1; padding: 10px; }\n",
       "    </style>\n",
       "<div class=\"wandb-row\"><div class=\"wandb-col\"><h3>Run history:</h3><br/><table class=\"wandb\"><tr><td>val_f1</td><td>▁</td></tr></table><br/></div><div class=\"wandb-col\"><h3>Run summary:</h3><br/><table class=\"wandb\"><tr><td>val_f1</td><td>0.97864</td></tr></table><br/></div></div>"
      ],
      "text/plain": [
       "<IPython.core.display.HTML object>"
      ]
     },
     "metadata": {},
     "output_type": "display_data"
    },
    {
     "data": {
      "text/html": [
       "Synced <strong style=\"color:#cdcd00\">sleek-sweep-27</strong>: <a href=\"https://wandb.ai/ds4w/ds4w/runs/4pgqnbw6\" target=\"_blank\">https://wandb.ai/ds4w/ds4w/runs/4pgqnbw6</a><br/>Synced 6 W&B file(s), 0 media file(s), 0 artifact file(s) and 0 other file(s)"
      ],
      "text/plain": [
       "<IPython.core.display.HTML object>"
      ]
     },
     "metadata": {},
     "output_type": "display_data"
    },
    {
     "data": {
      "text/html": [
       "Find logs at: <code>./wandb/run-20240623_193241-4pgqnbw6/logs</code>"
      ],
      "text/plain": [
       "<IPython.core.display.HTML object>"
      ]
     },
     "metadata": {},
     "output_type": "display_data"
    },
    {
     "name": "stderr",
     "output_type": "stream",
     "text": [
      "\u001b[34m\u001b[1mwandb\u001b[0m: Agent Starting Run: fed6v7f7 with config:\n",
      "\u001b[34m\u001b[1mwandb\u001b[0m: \tC: 0.2729599911471942\n"
     ]
    },
    {
     "data": {
      "text/html": [
       "wandb version 0.17.2 is available!  To upgrade, please run:\n",
       " $ pip install wandb --upgrade"
      ],
      "text/plain": [
       "<IPython.core.display.HTML object>"
      ]
     },
     "metadata": {},
     "output_type": "display_data"
    },
    {
     "data": {
      "text/html": [
       "Tracking run with wandb version 0.13.3"
      ],
      "text/plain": [
       "<IPython.core.display.HTML object>"
      ]
     },
     "metadata": {},
     "output_type": "display_data"
    },
    {
     "data": {
      "text/html": [
       "Run data is saved locally in <code>/home/till/Desktop/ds4w-user-identification/wandb/run-20240623_193253-fed6v7f7</code>"
      ],
      "text/plain": [
       "<IPython.core.display.HTML object>"
      ]
     },
     "metadata": {},
     "output_type": "display_data"
    },
    {
     "data": {
      "text/html": [
       "Syncing run <strong><a href=\"https://wandb.ai/ds4w/ds4w/runs/fed6v7f7\" target=\"_blank\">restful-sweep-28</a></strong> to <a href=\"https://wandb.ai/ds4w/ds4w\" target=\"_blank\">Weights & Biases</a> (<a href=\"https://wandb.me/run\" target=\"_blank\">docs</a>)<br/>Sweep page:  <a href=\"https://wandb.ai/ds4w/ds4w/sweeps/vfjumq0e\" target=\"_blank\">https://wandb.ai/ds4w/ds4w/sweeps/vfjumq0e</a>"
      ],
      "text/plain": [
       "<IPython.core.display.HTML object>"
      ]
     },
     "metadata": {},
     "output_type": "display_data"
    },
    {
     "name": "stdout",
     "output_type": "stream",
     "text": [
      "              precision    recall  f1-score   support\n",
      "\n",
      "           0       1.00      1.00      1.00       101\n",
      "           1       1.00      0.94      0.97        68\n",
      "           2       1.00      1.00      1.00        54\n",
      "           3       1.00      1.00      1.00        45\n",
      "           4       0.93      1.00      0.96        25\n",
      "           5       1.00      1.00      1.00       107\n",
      "           6       1.00      1.00      1.00        13\n",
      "           7       0.00      0.00      0.00         0\n",
      "           8       0.98      0.94      0.96       213\n",
      "           9       0.67      0.80      0.73        10\n",
      "          10       0.89      1.00      0.94        39\n",
      "          11       1.00      1.00      1.00        86\n",
      "\n",
      "    accuracy                           0.98       761\n",
      "   macro avg       0.87      0.89      0.88       761\n",
      "weighted avg       0.98      0.98      0.98       761\n",
      "\n"
     ]
    },
    {
     "data": {
      "text/html": [
       "Waiting for W&B process to finish... <strong style=\"color:green\">(success).</strong>"
      ],
      "text/plain": [
       "<IPython.core.display.HTML object>"
      ]
     },
     "metadata": {},
     "output_type": "display_data"
    },
    {
     "data": {
      "application/vnd.jupyter.widget-view+json": {
       "model_id": "",
       "version_major": 2,
       "version_minor": 0
      },
      "text/plain": [
       "VBox(children=(Label(value='0.001 MB of 0.001 MB uploaded (0.000 MB deduped)\\r'), FloatProgress(value=1.0, max…"
      ]
     },
     "metadata": {},
     "output_type": "display_data"
    },
    {
     "data": {
      "text/html": [
       "<style>\n",
       "    table.wandb td:nth-child(1) { padding: 0 10px; text-align: left ; width: auto;} td:nth-child(2) {text-align: left ; width: 100%}\n",
       "    .wandb-row { display: flex; flex-direction: row; flex-wrap: wrap; justify-content: flex-start; width: 100% }\n",
       "    .wandb-col { display: flex; flex-direction: column; flex-basis: 100%; flex: 1; padding: 10px; }\n",
       "    </style>\n",
       "<div class=\"wandb-row\"><div class=\"wandb-col\"><h3>Run history:</h3><br/><table class=\"wandb\"><tr><td>val_f1</td><td>▁</td></tr></table><br/></div><div class=\"wandb-col\"><h3>Run summary:</h3><br/><table class=\"wandb\"><tr><td>val_f1</td><td>0.97864</td></tr></table><br/></div></div>"
      ],
      "text/plain": [
       "<IPython.core.display.HTML object>"
      ]
     },
     "metadata": {},
     "output_type": "display_data"
    },
    {
     "data": {
      "text/html": [
       "Synced <strong style=\"color:#cdcd00\">restful-sweep-28</strong>: <a href=\"https://wandb.ai/ds4w/ds4w/runs/fed6v7f7\" target=\"_blank\">https://wandb.ai/ds4w/ds4w/runs/fed6v7f7</a><br/>Synced 6 W&B file(s), 0 media file(s), 0 artifact file(s) and 0 other file(s)"
      ],
      "text/plain": [
       "<IPython.core.display.HTML object>"
      ]
     },
     "metadata": {},
     "output_type": "display_data"
    },
    {
     "data": {
      "text/html": [
       "Find logs at: <code>./wandb/run-20240623_193253-fed6v7f7/logs</code>"
      ],
      "text/plain": [
       "<IPython.core.display.HTML object>"
      ]
     },
     "metadata": {},
     "output_type": "display_data"
    },
    {
     "name": "stderr",
     "output_type": "stream",
     "text": [
      "\u001b[34m\u001b[1mwandb\u001b[0m: Sweep Agent: Waiting for job.\n",
      "\u001b[34m\u001b[1mwandb\u001b[0m: Job received.\n",
      "\u001b[34m\u001b[1mwandb\u001b[0m: Agent Starting Run: rg4791ua with config:\n",
      "\u001b[34m\u001b[1mwandb\u001b[0m: \tC: 0.016072938230801474\n"
     ]
    },
    {
     "data": {
      "text/html": [
       "wandb version 0.17.2 is available!  To upgrade, please run:\n",
       " $ pip install wandb --upgrade"
      ],
      "text/plain": [
       "<IPython.core.display.HTML object>"
      ]
     },
     "metadata": {},
     "output_type": "display_data"
    },
    {
     "data": {
      "text/html": [
       "Tracking run with wandb version 0.13.3"
      ],
      "text/plain": [
       "<IPython.core.display.HTML object>"
      ]
     },
     "metadata": {},
     "output_type": "display_data"
    },
    {
     "data": {
      "text/html": [
       "Run data is saved locally in <code>/home/till/Desktop/ds4w-user-identification/wandb/run-20240623_193315-rg4791ua</code>"
      ],
      "text/plain": [
       "<IPython.core.display.HTML object>"
      ]
     },
     "metadata": {},
     "output_type": "display_data"
    },
    {
     "data": {
      "text/html": [
       "Syncing run <strong><a href=\"https://wandb.ai/ds4w/ds4w/runs/rg4791ua\" target=\"_blank\">snowy-sweep-29</a></strong> to <a href=\"https://wandb.ai/ds4w/ds4w\" target=\"_blank\">Weights & Biases</a> (<a href=\"https://wandb.me/run\" target=\"_blank\">docs</a>)<br/>Sweep page:  <a href=\"https://wandb.ai/ds4w/ds4w/sweeps/vfjumq0e\" target=\"_blank\">https://wandb.ai/ds4w/ds4w/sweeps/vfjumq0e</a>"
      ],
      "text/plain": [
       "<IPython.core.display.HTML object>"
      ]
     },
     "metadata": {},
     "output_type": "display_data"
    },
    {
     "name": "stdout",
     "output_type": "stream",
     "text": [
      "              precision    recall  f1-score   support\n",
      "\n",
      "           0       1.00      1.00      1.00       101\n",
      "           1       1.00      0.94      0.97        68\n",
      "           2       1.00      1.00      1.00        54\n",
      "           3       1.00      1.00      1.00        45\n",
      "           4       0.93      1.00      0.96        25\n",
      "           5       1.00      1.00      1.00       107\n",
      "           6       1.00      1.00      1.00        13\n",
      "           7       0.00      0.00      0.00         0\n",
      "           8       0.98      0.94      0.96       213\n",
      "           9       0.67      0.80      0.73        10\n",
      "          10       0.89      1.00      0.94        39\n",
      "          11       1.00      1.00      1.00        86\n",
      "\n",
      "    accuracy                           0.98       761\n",
      "   macro avg       0.87      0.89      0.88       761\n",
      "weighted avg       0.98      0.98      0.98       761\n",
      "\n"
     ]
    },
    {
     "data": {
      "text/html": [
       "Waiting for W&B process to finish... <strong style=\"color:green\">(success).</strong>"
      ],
      "text/plain": [
       "<IPython.core.display.HTML object>"
      ]
     },
     "metadata": {},
     "output_type": "display_data"
    },
    {
     "data": {
      "application/vnd.jupyter.widget-view+json": {
       "model_id": "",
       "version_major": 2,
       "version_minor": 0
      },
      "text/plain": [
       "VBox(children=(Label(value='0.001 MB of 0.001 MB uploaded (0.000 MB deduped)\\r'), FloatProgress(value=1.0, max…"
      ]
     },
     "metadata": {},
     "output_type": "display_data"
    },
    {
     "data": {
      "text/html": [
       "<style>\n",
       "    table.wandb td:nth-child(1) { padding: 0 10px; text-align: left ; width: auto;} td:nth-child(2) {text-align: left ; width: 100%}\n",
       "    .wandb-row { display: flex; flex-direction: row; flex-wrap: wrap; justify-content: flex-start; width: 100% }\n",
       "    .wandb-col { display: flex; flex-direction: column; flex-basis: 100%; flex: 1; padding: 10px; }\n",
       "    </style>\n",
       "<div class=\"wandb-row\"><div class=\"wandb-col\"><h3>Run history:</h3><br/><table class=\"wandb\"><tr><td>val_f1</td><td>▁</td></tr></table><br/></div><div class=\"wandb-col\"><h3>Run summary:</h3><br/><table class=\"wandb\"><tr><td>val_f1</td><td>0.97864</td></tr></table><br/></div></div>"
      ],
      "text/plain": [
       "<IPython.core.display.HTML object>"
      ]
     },
     "metadata": {},
     "output_type": "display_data"
    },
    {
     "data": {
      "text/html": [
       "Synced <strong style=\"color:#cdcd00\">snowy-sweep-29</strong>: <a href=\"https://wandb.ai/ds4w/ds4w/runs/rg4791ua\" target=\"_blank\">https://wandb.ai/ds4w/ds4w/runs/rg4791ua</a><br/>Synced 6 W&B file(s), 0 media file(s), 0 artifact file(s) and 0 other file(s)"
      ],
      "text/plain": [
       "<IPython.core.display.HTML object>"
      ]
     },
     "metadata": {},
     "output_type": "display_data"
    },
    {
     "data": {
      "text/html": [
       "Find logs at: <code>./wandb/run-20240623_193315-rg4791ua/logs</code>"
      ],
      "text/plain": [
       "<IPython.core.display.HTML object>"
      ]
     },
     "metadata": {},
     "output_type": "display_data"
    },
    {
     "name": "stderr",
     "output_type": "stream",
     "text": [
      "\u001b[34m\u001b[1mwandb\u001b[0m: Sweep Agent: Waiting for job.\n",
      "\u001b[34m\u001b[1mwandb\u001b[0m: Job received.\n",
      "\u001b[34m\u001b[1mwandb\u001b[0m: Agent Starting Run: 3r90n403 with config:\n",
      "\u001b[34m\u001b[1mwandb\u001b[0m: \tC: 0.05999797385688894\n"
     ]
    },
    {
     "data": {
      "text/html": [
       "wandb version 0.17.2 is available!  To upgrade, please run:\n",
       " $ pip install wandb --upgrade"
      ],
      "text/plain": [
       "<IPython.core.display.HTML object>"
      ]
     },
     "metadata": {},
     "output_type": "display_data"
    },
    {
     "data": {
      "text/html": [
       "Tracking run with wandb version 0.13.3"
      ],
      "text/plain": [
       "<IPython.core.display.HTML object>"
      ]
     },
     "metadata": {},
     "output_type": "display_data"
    },
    {
     "data": {
      "text/html": [
       "Run data is saved locally in <code>/home/till/Desktop/ds4w-user-identification/wandb/run-20240623_193335-3r90n403</code>"
      ],
      "text/plain": [
       "<IPython.core.display.HTML object>"
      ]
     },
     "metadata": {},
     "output_type": "display_data"
    },
    {
     "data": {
      "text/html": [
       "Syncing run <strong><a href=\"https://wandb.ai/ds4w/ds4w/runs/3r90n403\" target=\"_blank\">daily-sweep-30</a></strong> to <a href=\"https://wandb.ai/ds4w/ds4w\" target=\"_blank\">Weights & Biases</a> (<a href=\"https://wandb.me/run\" target=\"_blank\">docs</a>)<br/>Sweep page:  <a href=\"https://wandb.ai/ds4w/ds4w/sweeps/vfjumq0e\" target=\"_blank\">https://wandb.ai/ds4w/ds4w/sweeps/vfjumq0e</a>"
      ],
      "text/plain": [
       "<IPython.core.display.HTML object>"
      ]
     },
     "metadata": {},
     "output_type": "display_data"
    },
    {
     "name": "stdout",
     "output_type": "stream",
     "text": [
      "              precision    recall  f1-score   support\n",
      "\n",
      "           0       1.00      1.00      1.00       101\n",
      "           1       1.00      0.94      0.97        68\n",
      "           2       1.00      1.00      1.00        54\n",
      "           3       1.00      1.00      1.00        45\n",
      "           4       0.93      1.00      0.96        25\n",
      "           5       1.00      1.00      1.00       107\n",
      "           6       1.00      1.00      1.00        13\n",
      "           7       0.00      0.00      0.00         0\n",
      "           8       0.98      0.94      0.96       213\n",
      "           9       0.67      0.80      0.73        10\n",
      "          10       0.89      1.00      0.94        39\n",
      "          11       1.00      1.00      1.00        86\n",
      "\n",
      "    accuracy                           0.98       761\n",
      "   macro avg       0.87      0.89      0.88       761\n",
      "weighted avg       0.98      0.98      0.98       761\n",
      "\n"
     ]
    },
    {
     "data": {
      "text/html": [
       "Waiting for W&B process to finish... <strong style=\"color:green\">(success).</strong>"
      ],
      "text/plain": [
       "<IPython.core.display.HTML object>"
      ]
     },
     "metadata": {},
     "output_type": "display_data"
    },
    {
     "data": {
      "application/vnd.jupyter.widget-view+json": {
       "model_id": "",
       "version_major": 2,
       "version_minor": 0
      },
      "text/plain": [
       "VBox(children=(Label(value='0.001 MB of 0.001 MB uploaded (0.000 MB deduped)\\r'), FloatProgress(value=1.0, max…"
      ]
     },
     "metadata": {},
     "output_type": "display_data"
    },
    {
     "data": {
      "text/html": [
       "<style>\n",
       "    table.wandb td:nth-child(1) { padding: 0 10px; text-align: left ; width: auto;} td:nth-child(2) {text-align: left ; width: 100%}\n",
       "    .wandb-row { display: flex; flex-direction: row; flex-wrap: wrap; justify-content: flex-start; width: 100% }\n",
       "    .wandb-col { display: flex; flex-direction: column; flex-basis: 100%; flex: 1; padding: 10px; }\n",
       "    </style>\n",
       "<div class=\"wandb-row\"><div class=\"wandb-col\"><h3>Run history:</h3><br/><table class=\"wandb\"><tr><td>val_f1</td><td>▁</td></tr></table><br/></div><div class=\"wandb-col\"><h3>Run summary:</h3><br/><table class=\"wandb\"><tr><td>val_f1</td><td>0.97864</td></tr></table><br/></div></div>"
      ],
      "text/plain": [
       "<IPython.core.display.HTML object>"
      ]
     },
     "metadata": {},
     "output_type": "display_data"
    },
    {
     "data": {
      "text/html": [
       "Synced <strong style=\"color:#cdcd00\">daily-sweep-30</strong>: <a href=\"https://wandb.ai/ds4w/ds4w/runs/3r90n403\" target=\"_blank\">https://wandb.ai/ds4w/ds4w/runs/3r90n403</a><br/>Synced 6 W&B file(s), 0 media file(s), 0 artifact file(s) and 0 other file(s)"
      ],
      "text/plain": [
       "<IPython.core.display.HTML object>"
      ]
     },
     "metadata": {},
     "output_type": "display_data"
    },
    {
     "data": {
      "text/html": [
       "Find logs at: <code>./wandb/run-20240623_193335-3r90n403/logs</code>"
      ],
      "text/plain": [
       "<IPython.core.display.HTML object>"
      ]
     },
     "metadata": {},
     "output_type": "display_data"
    }
   ],
   "source": [
    "def train_evaluate(config=None):\n",
    "    with wandb.init(config=config):\n",
    "        config = wandb.config\n",
    "\n",
    "        lr = LogisticRegression(\n",
    "            multi_class='multinomial',\n",
    "            penalty='l1',\n",
    "            solver='saga',\n",
    "            C=config.C,\n",
    "            random_state=42\n",
    "        )\n",
    "        lr.fit(np.array(X_train[top_features]), y_train)\n",
    "        \n",
    "        y_pred = lr.predict(np.array(X_val[top_features]))\n",
    "        val_f1 = f1_score(y_val, y_pred, average='weighted')\n",
    "        \n",
    "        wandb.log({\"val_f1\": val_f1})\n",
    "        print(classification_report(y_val, y_pred))\n",
    "\n",
    "\n",
    "sweep_config = {\n",
    "    'method': 'bayes',\n",
    "    'metric': {\n",
    "        'name': 'val_f1',\n",
    "        'goal': 'maximize'\n",
    "    },\n",
    "    'parameters': {\n",
    "        'C': {\n",
    "            'distribution': 'log_uniform_values',\n",
    "            'min': 0.0001,\n",
    "            'max': 1.0\n",
    "        }\n",
    "    }\n",
    "}\n",
    "\n",
    "# Initialize the sweep\n",
    "sweep_id = wandb.sweep(sweep_config, entity='ds4w', project='ds4w')\n",
    "wandb.agent(sweep_id, function=train_evaluate, count=30)"
   ]
  },
  {
   "cell_type": "code",
   "execution_count": null,
   "metadata": {},
   "outputs": [],
   "source": [
    "# best C: 0.001"
   ]
  }
 ],
 "metadata": {
  "kernelspec": {
   "display_name": "Python 3 (ipykernel)",
   "language": "python",
   "name": "python3"
  },
  "language_info": {
   "codemirror_mode": {
    "name": "ipython",
    "version": 3
   },
   "file_extension": ".py",
   "mimetype": "text/x-python",
   "name": "python",
   "nbconvert_exporter": "python",
   "pygments_lexer": "ipython3",
   "version": "3.10.13"
  }
 },
 "nbformat": 4,
 "nbformat_minor": 4
}
