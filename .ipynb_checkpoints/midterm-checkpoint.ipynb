{
 "cells": [
  {
   "cell_type": "code",
   "execution_count": 50,
   "metadata": {},
   "outputs": [],
   "source": [
    "import pandas as pd\n",
    "import os\n",
    "from scipy import stats\n",
    "import matplotlib.pyplot as plt\n",
    "import seaborn as sns\n",
    "from ipywidgets import interact\n",
    "import plotly.graph_objects as go\n",
    "import ruptures as rpt\n",
    "from itertools import combinations as comb\n",
    "from statsmodels.stats import power\n",
    "\n",
    "from IPython.display import display"
   ]
  },
  {
   "cell_type": "code",
   "execution_count": 13,
   "metadata": {},
   "outputs": [],
   "source": [
    "folder_path = 'data'\n",
    "def calculate_mean_for_30s(df):\n",
    "    df['Time (s)'] = pd.to_datetime(df['Time (s)'], unit='s')\n",
    "    df.set_index('Time (s)', inplace=True)\n",
    "    resampled_df = df.resample('30s').mean()\n",
    "    return resampled_df\n",
    "\n",
    "def calculate_var_for_30s(df):\n",
    "    resampled_df = df.resample('30s').var()\n",
    "    return resampled_df\n",
    "\n",
    "def read_data(filename):\n",
    "    accelerometer = pd.read_csv(os.path.join(folder_path, filename, 'Accelerometer.csv'),sep=';')\n",
    "    gyroscope = pd.read_csv(os.path.join(folder_path, filename,'Gyroscope.csv'),sep=';')\n",
    "    accelerometer.rename(columns={'Acceleration x (m/s^2)':'accelerometer_x','Acceleration y (m/s^2)':'accelerometer_y','Acceleration z (m/s^2)':'accelerometer_z'}, inplace=True)\n",
    "    gyroscope.rename(columns={'Gyroscope x (rad/s)':'gyroscope_x','Gyroscope y (rad/s)':'gyroscope_y','Gyroscope z (rad/s)':'gyroscope_z'}, inplace=True)\n",
    "    accelerometer =accelerometer[9000:-9000]\n",
    "    gyroscope = gyroscope[9000:-9000]\n",
    "    accelerometer_mean = calculate_mean_for_30s(accelerometer)\n",
    "    gyroscope_mean = calculate_mean_for_30s(gyroscope)\n",
    "    accelerometer_var = calculate_var_for_30s(accelerometer)\n",
    "    gyroscope_var = calculate_var_for_30s(gyroscope)\n",
    "    return accelerometer, gyroscope , accelerometer_mean, gyroscope_mean, accelerometer_var, gyroscope_var\n",
    "\n",
    "def do_test(dataframe1, dataframe2):\n",
    "    t_stat, p_val = stats.ttest_ind(dataframe1, dataframe2)\n",
    "    return t_stat, p_val"
   ]
  },
  {
   "cell_type": "code",
   "execution_count": 14,
   "metadata": {},
   "outputs": [],
   "source": [
    "accelerometer_lucas1, gyroscope_lucas1, accelerometer_lucas1_mean, gyroscope_lucas1_mean, accelerometer_lucas1_var, gyroscope_lucas1_var  = read_data('lucas1')\n",
    "accelerometer_nick1, gyroscope_nick1, accelerometer_nick1_mean, gyroscope_nick1_mean, accelerometer_nick1_var, gyroscope_nick1_var  = read_data('nick1')\n",
    "accelerometer_till1, gyroscope_till1, accelerometer_till1_mean, gyroscope_till1_mean, accelerometer_till1_var, gyroscope_till1_var  = read_data('till1')\n",
    "accelerometer_luisa1, gyroscope_luisa1, accelerometer_luisa1_mean, gyroscope_luisa1_mean, accelerometer_luisa1_var, gyroscope_luisa1_var  = read_data('luisa1')"
   ]
  },
  {
   "cell_type": "code",
   "execution_count": 15,
   "metadata": {},
   "outputs": [],
   "source": [
    "dict_accel_var = {'accelerometer_lucas1_var': accelerometer_lucas1_var, 'accelerometer_nick1_var': accelerometer_nick1_var, 'accelerometer_till1_var': accelerometer_till1_var, 'accelerometer_luisa1_var': accelerometer_luisa1_var}\n",
    "dict_accel_mean = {'accelerometer_lucas1_mean': accelerometer_lucas1_mean, 'accelerometer_nick1_mean': accelerometer_nick1_mean, 'accelerometer_till1_mean': accelerometer_till1_mean, 'accelerometer_luisa1_mean': accelerometer_luisa1_mean}\n",
    "dict_gyro_var = {'gyroscope_lucas1_var': gyroscope_lucas1_var, 'gyroscope_nick1_var': gyroscope_nick1_var, 'gyroscope_till1_var': gyroscope_till1_var, 'gyroscope_luisa1_var': gyroscope_luisa1_var}\n",
    "dict_gyro_mean = {'gyroscope_lucas1_mean': gyroscope_lucas1_mean, 'gyroscope_nick1_mean': gyroscope_nick1_mean, 'gyroscope_till1_mean': gyroscope_till1_mean, 'gyroscope_luisa1_mean': gyroscope_luisa1_mean}\n",
    "dict_of_dfs = {'accel_mean': dict_accel_mean, 'gyro_mean':dict_gyro_mean,'accel_var':dict_accel_var, 'gyro_var' :dict_gyro_var}"
   ]
  },
  {
   "cell_type": "code",
   "execution_count": 68,
   "metadata": {},
   "outputs": [],
   "source": [
    "list_columns_accelerometer = ['accelerometer_x', 'accelerometer_y', 'accelerometer_z']\n",
    "list_columns_gyroscope = ['gyroscope_x', 'gyroscope_y', 'gyroscope_z']\n",
    "\n",
    "# die art wie ich hier die results speichere suckt, sollte eigentlich nen table als index haben aber we\n",
    "results = {}\n",
    "\n",
    "search_string = 'accelerometer'\n",
    "\n",
    "for df_name, df in dict_of_dfs.items():\n",
    "    combinations = list(comb(df, 2))\n",
    "    for combo in combinations:\n",
    "        if search_string in combo[0]:\n",
    "            for column in list_columns_accelerometer:\n",
    "                (df[combo[0]][column].mean()-df[combo[1]][column].mean())/pd.concat([df[combo[0]][column], df[combo[1]][column]]).std()\n",
    "                t_stat, p_val = do_test(df[combo[0]][column], df[combo[1]][column])\n",
    "                results[(combo[0],combo[1],column)] = [t_stat, p_val]\n",
    "        else:\n",
    "            for column in list_columns_gyroscope:\n",
    "                t_stat, p_val = do_test(df[combo[0]][column], df[combo[1]][column])\n",
    "                results[(combo[0],combo[1],column)] = [t_stat, p_val]\n",
    "\n",
    "results_df = pd.DataFrame.from_dict(results, orient='index', columns=['T Statistic', 'P Value'])\n"
   ]
  },
  {
   "cell_type": "code",
   "execution_count": 69,
   "metadata": {},
   "outputs": [],
   "source": [
    "# Define a list of names and corresponding data sets\n",
    "names = ['lucas1', 'nick1', 'till1', 'luisa1']\n",
    "data_sets = [(accelerometer_lucas1_mean, accelerometer_lucas1_var, gyroscope_lucas1_mean, gyroscope_lucas1_var),\n",
    "             (accelerometer_nick1_mean, accelerometer_nick1_var, gyroscope_nick1_mean, gyroscope_nick1_var),\n",
    "             (accelerometer_till1_mean, accelerometer_till1_var, gyroscope_till1_mean, gyroscope_till1_var),\n",
    "             (accelerometer_luisa1_mean, accelerometer_luisa1_var, gyroscope_luisa1_mean, gyroscope_luisa1_var)]\n",
    "\n",
    "# Iterate over each name and data set\n",
    "for name, data_set in zip(names, data_sets):\n",
    "    accelerometer_mean, accelerometer_var, gyroscope_mean, gyroscope_var = data_set\n",
    "    \n",
    "    for sensor, data in zip(['accelerometer', 'gyroscope'], [accelerometer_mean, gyroscope_mean]):\n",
    "        for cnt,axis in enumerate(['x', 'y', 'z']):\n",
    "            t_stat, p_val = stats.ttest_ind(data[:len(data)//2], data[len(data)//2:])\n",
    "            results_df.loc[f'({sensor}_{name}_mean, {sensor}_{name}_mean, {sensor}_{axis})'] = float(t_stat[cnt]), float(p_val[cnt])\n",
    "\n",
    "    for sensor, data in zip(['accelerometer', 'gyroscope'], [accelerometer_var, gyroscope_var]):\n",
    "        for cnt,axis in enumerate(['x', 'y', 'z']):\n",
    "            t_stat, p_val = stats.ttest_ind(data[:len(data)//2], data[len(data)//2:])\n",
    "            results_df.loc[f'({sensor}_{name}_var, {sensor}_{name}_var, {sensor}_{axis})'] = float(t_stat[cnt]), float(p_val[cnt])\n"
   ]
  },
  {
   "cell_type": "code",
   "execution_count": 70,
   "metadata": {},
   "outputs": [
    {
     "data": {
      "text/html": [
       "<div>\n",
       "<style scoped>\n",
       "    .dataframe tbody tr th:only-of-type {\n",
       "        vertical-align: middle;\n",
       "    }\n",
       "\n",
       "    .dataframe tbody tr th {\n",
       "        vertical-align: top;\n",
       "    }\n",
       "\n",
       "    .dataframe thead th {\n",
       "        text-align: right;\n",
       "    }\n",
       "</style>\n",
       "<table border=\"1\" class=\"dataframe\">\n",
       "  <thead>\n",
       "    <tr style=\"text-align: right;\">\n",
       "      <th></th>\n",
       "      <th>T Statistic</th>\n",
       "      <th>P Value</th>\n",
       "    </tr>\n",
       "  </thead>\n",
       "  <tbody>\n",
       "    <tr>\n",
       "      <th>(accelerometer_lucas1_mean, accelerometer_nick1_mean, accelerometer_x)</th>\n",
       "      <td>47.3376</td>\n",
       "      <td>0.0000</td>\n",
       "    </tr>\n",
       "    <tr>\n",
       "      <th>(accelerometer_lucas1_mean, accelerometer_nick1_mean, accelerometer_y)</th>\n",
       "      <td>-2.9718</td>\n",
       "      <td>0.0048</td>\n",
       "    </tr>\n",
       "    <tr>\n",
       "      <th>(accelerometer_lucas1_mean, accelerometer_nick1_mean, accelerometer_z)</th>\n",
       "      <td>10.5200</td>\n",
       "      <td>0.0000</td>\n",
       "    </tr>\n",
       "    <tr>\n",
       "      <th>(accelerometer_lucas1_mean, accelerometer_till1_mean, accelerometer_x)</th>\n",
       "      <td>45.9698</td>\n",
       "      <td>0.0000</td>\n",
       "    </tr>\n",
       "    <tr>\n",
       "      <th>(accelerometer_lucas1_mean, accelerometer_till1_mean, accelerometer_y)</th>\n",
       "      <td>-8.3831</td>\n",
       "      <td>0.0000</td>\n",
       "    </tr>\n",
       "    <tr>\n",
       "      <th>...</th>\n",
       "      <td>...</td>\n",
       "      <td>...</td>\n",
       "    </tr>\n",
       "    <tr>\n",
       "      <th>(accelerometer_luisa1_var, accelerometer_luisa1_var, accelerometer_y)</th>\n",
       "      <td>0.9607</td>\n",
       "      <td>0.3476</td>\n",
       "    </tr>\n",
       "    <tr>\n",
       "      <th>(accelerometer_luisa1_var, accelerometer_luisa1_var, accelerometer_z)</th>\n",
       "      <td>1.1341</td>\n",
       "      <td>0.2695</td>\n",
       "    </tr>\n",
       "    <tr>\n",
       "      <th>(gyroscope_luisa1_var, gyroscope_luisa1_var, gyroscope_x)</th>\n",
       "      <td>1.9526</td>\n",
       "      <td>0.0643</td>\n",
       "    </tr>\n",
       "    <tr>\n",
       "      <th>(gyroscope_luisa1_var, gyroscope_luisa1_var, gyroscope_y)</th>\n",
       "      <td>-0.2633</td>\n",
       "      <td>0.7949</td>\n",
       "    </tr>\n",
       "    <tr>\n",
       "      <th>(gyroscope_luisa1_var, gyroscope_luisa1_var, gyroscope_z)</th>\n",
       "      <td>-0.2634</td>\n",
       "      <td>0.7948</td>\n",
       "    </tr>\n",
       "  </tbody>\n",
       "</table>\n",
       "<p>120 rows × 2 columns</p>\n",
       "</div>"
      ],
      "text/plain": [
       "                                                    T Statistic  P Value\n",
       "(accelerometer_lucas1_mean, accelerometer_nick1...      47.3376   0.0000\n",
       "(accelerometer_lucas1_mean, accelerometer_nick1...      -2.9718   0.0048\n",
       "(accelerometer_lucas1_mean, accelerometer_nick1...      10.5200   0.0000\n",
       "(accelerometer_lucas1_mean, accelerometer_till1...      45.9698   0.0000\n",
       "(accelerometer_lucas1_mean, accelerometer_till1...      -8.3831   0.0000\n",
       "...                                                         ...      ...\n",
       "(accelerometer_luisa1_var, accelerometer_luisa1...       0.9607   0.3476\n",
       "(accelerometer_luisa1_var, accelerometer_luisa1...       1.1341   0.2695\n",
       "(gyroscope_luisa1_var, gyroscope_luisa1_var, gy...       1.9526   0.0643\n",
       "(gyroscope_luisa1_var, gyroscope_luisa1_var, gy...      -0.2633   0.7949\n",
       "(gyroscope_luisa1_var, gyroscope_luisa1_var, gy...      -0.2634   0.7948\n",
       "\n",
       "[120 rows x 2 columns]"
      ]
     },
     "metadata": {},
     "output_type": "display_data"
    }
   ],
   "source": [
    "pd.set_option('display.float_format', '{:.4f}'.format)\n",
    "display(results_df)"
   ]
  },
  {
   "cell_type": "code",
   "execution_count": 19,
   "metadata": {},
   "outputs": [],
   "source": [
    "t = power.TTestPower()"
   ]
  },
  {
   "cell_type": "code",
   "execution_count": 20,
   "metadata": {},
   "outputs": [
    {
     "data": {
      "text/plain": [
       "26.52651185356142"
      ]
     },
     "execution_count": 20,
     "metadata": {},
     "output_type": "execute_result"
    }
   ],
   "source": [
    "t.solve_power(effect_size=0.865871, nobs=None, alpha=0.05, power=0.99, alternative='two-sided')"
   ]
  },
  {
   "cell_type": "code",
   "execution_count": 60,
   "metadata": {},
   "outputs": [
    {
     "data": {
      "text/plain": [
       "48"
      ]
     },
     "execution_count": 60,
     "metadata": {},
     "output_type": "execute_result"
    }
   ],
   "source": [
    "4*3*4"
   ]
  },
  {
   "cell_type": "code",
   "execution_count": null,
   "metadata": {},
   "outputs": [],
   "source": []
  }
 ],
 "metadata": {
  "kernelspec": {
   "display_name": "Python 3 (ipykernel)",
   "language": "python",
   "name": "python3"
  },
  "language_info": {
   "codemirror_mode": {
    "name": "ipython",
    "version": 3
   },
   "file_extension": ".py",
   "mimetype": "text/x-python",
   "name": "python",
   "nbconvert_exporter": "python",
   "pygments_lexer": "ipython3",
   "version": "3.12.0"
  }
 },
 "nbformat": 4,
 "nbformat_minor": 4
}
