{
 "cells": [
  {
   "cell_type": "code",
   "execution_count": 1,
   "metadata": {},
   "outputs": [],
   "source": [
    "import pandas as pd\n",
    "import os\n",
    "from scipy import stats\n",
    "import matplotlib.pyplot as plt\n",
    "import seaborn as sns\n",
    "from ipywidgets import interact\n",
    "import plotly.graph_objects as go\n",
    "import ruptures as rpt\n",
    "from itertools import combinations as comb\n",
    "from statsmodels.stats import power\n",
    "import numpy as np\n",
    "\n",
    "import xgboost as xgb\n",
    "from sklearn.model_selection import train_test_split\n",
    "from sklearn.metrics import accuracy_score, classification_report\n",
    "from scipy.spatial.distance import cdist\n",
    "import colorsys\n",
    "import warnings\n",
    "warnings.filterwarnings('ignore')"
   ]
  },
  {
   "cell_type": "code",
   "execution_count": 2,
   "metadata": {},
   "outputs": [],
   "source": [
    "cpd_model = rpt.Binseg(model = 'l2',jump=500, min_size=4500)\n",
    "def change_point_detection(df, throw_away = 0.1):\n",
    "    \"\"\"\n",
    "    Changepoint Detection\n",
    "    Input: - df:  from read_data\n",
    "           - key: which is the filename\n",
    "           - throw_away: everything smaller than 10% of the total length of data is thrown away\n",
    "\n",
    "    Returns: - return_dict: A dictionary with all the data and the format key_cnt\n",
    "    \"\"\"\n",
    "    signal = df[['accelerometer_x','accelerometer_y','accelerometer_z']].values\n",
    "    length = len(df)\n",
    "    algo = cpd_model.fit(signal)\n",
    "    result = [0]\n",
    "    result += algo.predict(pen=1000)\n",
    "    if result[-1] != length:\n",
    "        result += [length]\n",
    "        \n",
    "    return_df = pd.DataFrame()\n",
    "    for i in range(len(result)-1):\n",
    "        if result[i+1]-result[i] > length*throw_away:\n",
    "            if return_df.empty:\n",
    "                return_df = df.iloc[result[i]:result[i+1]]\n",
    "            else:\n",
    "                pd.concat([return_df, df.iloc[result[i]:result[i+1]]],ignore_index=True)\n",
    "            \n",
    "    \"\"\"\n",
    "    This is the seperated version, so we dont have windows that belong to different changepoint sections\n",
    "    return_dict = {}\n",
    "    cnt = 1\n",
    "    for i in range(len(result)-1):\n",
    "        if result[i+1]-result[i] > length*throw_away:\n",
    "            return_dict[key+'_'+str(cnt)] = df.iloc[result[i]:result[i+1]]\n",
    "            cnt+=1\n",
    "    \"\"\"\n",
    "    return return_df"
   ]
  },
  {
   "cell_type": "code",
   "execution_count": 3,
   "metadata": {},
   "outputs": [],
   "source": [
    "folder_path = 'data'\n",
    "def read_data(filename):\n",
    "    accelerometer = pd.read_csv(os.path.join(folder_path, filename, 'Accelerometer.csv'),sep=';')\n",
    "    accelerometer['Time (s)'] = pd.to_datetime(accelerometer['Time (s)'], unit='s')\n",
    "    accelerometer = accelerometer.set_index('Time (s)')\n",
    "    accelerometer = accelerometer.resample('2.5ms').mean()\n",
    "    accelerometer.rename(columns={'Acceleration x (m/s^2)':'accelerometer_x','Acceleration y (m/s^2)':'accelerometer_y','Acceleration z (m/s^2)':'accelerometer_z'}, inplace=True)\n",
    "    #accelerometer =accelerometer[9000:-9000]\n",
    "    accelerometer.reset_index(inplace=True)\n",
    "\n",
    "    gyroscope = pd.read_csv(os.path.join(folder_path, filename,'Gyroscope.csv'),sep=';')\n",
    "    gyroscope['Time (s)'] = pd.to_datetime(gyroscope['Time (s)'], unit='s')\n",
    "    gyroscope =gyroscope.set_index('Time (s)')\n",
    "    gyroscope = gyroscope.resample('2.5ms').mean()\n",
    "    gyroscope.rename(columns={'Gyroscope x (rad/s)':'gyroscope_x','Gyroscope y (rad/s)':'gyroscope_y','Gyroscope z (rad/s)':'gyroscope_z'}, inplace=True)\n",
    "    #gyroscope = gyroscope[9000:-9000]\n",
    "    gyroscope.reset_index(inplace=True)\n",
    "    merged = pd.merge(accelerometer,gyroscope, on= 'Time (s)', how='inner')\n",
    "    return change_point_detection(merged)"
   ]
  },
  {
   "cell_type": "code",
   "execution_count": 4,
   "metadata": {},
   "outputs": [],
   "source": [
    "# regex to delete the number at the end of the string:\n",
    "def delete_number(string):\n",
    "    return ''.join([i for i in string if not i.isdigit()])"
   ]
  },
  {
   "cell_type": "code",
   "execution_count": 18,
   "metadata": {},
   "outputs": [],
   "source": [
    "data_dict = {}\n",
    "name_to_idx = {} # name -> idx\n",
    "i = 0\n",
    "\n",
    "for name in os.listdir(folder_path):\n",
    "    data_dict[name] = read_data(name)\n",
    "    \n",
    "    # add label\n",
    "    if delete_number(name) not in name_to_idx.keys():\n",
    "        name_to_idx[delete_number(name)] = i\n",
    "        i+=1        "
   ]
  },
  {
   "cell_type": "code",
   "execution_count": 6,
   "metadata": {},
   "outputs": [],
   "source": [
    "verification_keys = [\"nick2\", \"till2\", \"uta2\", \"paula2\"]"
   ]
  },
  {
   "cell_type": "code",
   "execution_count": 7,
   "metadata": {},
   "outputs": [
    {
     "data": {
      "text/plain": [
       "{'chris': 0,\n",
       " 'felix': 1,\n",
       " 'katarina': 2,\n",
       " 'leon': 3,\n",
       " 'lucas': 4,\n",
       " 'luisa': 5,\n",
       " 'nele': 6,\n",
       " 'nick': 7,\n",
       " 'paula': 8,\n",
       " 'rebecca': 9,\n",
       " 'till': 10,\n",
       " 'uta': 11}"
      ]
     },
     "execution_count": 7,
     "metadata": {},
     "output_type": "execute_result"
    }
   ],
   "source": [
    "name_to_idx"
   ]
  },
  {
   "cell_type": "code",
   "execution_count": 19,
   "metadata": {},
   "outputs": [],
   "source": [
    "def create_sliding_windows(data, window_length, stride, label):\n",
    "    labels = np.ones(data.shape[0])*label\n",
    "    num_windows = (len(data) - window_length) // stride + 1\n",
    "\n",
    "    # Create sliding windows using numpy stride tricks\n",
    "    windows = np.lib.stride_tricks.sliding_window_view(data, (window_length, data.shape[1]))\n",
    "    windows = windows[::stride, 0, :, :]\n",
    "    y_windows = labels[np.arange(0, num_windows * stride, stride)]  # Class labels at the start of each window\n",
    "\n",
    "    return windows, y_windows\n",
    "\n",
    "window_length = 100\n",
    "stride = 100\n",
    "\n",
    "X_train_list = []\n",
    "y_train_list = []\n",
    "X_test_list = []\n",
    "y_test_list = []\n",
    "\n",
    "\n",
    "for name, df in data_dict.items():\n",
    "    if name in verification_keys:\n",
    "        continue\n",
    "    label = name_to_idx[delete_number(name)]\n",
    "    train = df[:int(0.8*len(df))]\n",
    "    # add normalization for training data\n",
    "    train_normalized = (train - train.min()) / (train.max()-train.min())\n",
    "\n",
    "    test = df[int(0.8*len(df)):]\n",
    "\n",
    "    test_normalized = (test - train.min()) / (train.max()-train.min())   # normalize test data with training data mean and std\n",
    "\n",
    "\n",
    "    X_train, y_train = create_sliding_windows(train, window_length, stride, label)\n",
    "    X_test, y_test = create_sliding_windows(test, window_length, stride, label)\n",
    "    \n",
    "    X_train_list.append(X_train)\n",
    "    y_train_list.append(y_train)\n",
    "    X_test_list.append(X_test)\n",
    "    y_test_list.append(y_test)\n",
    "\n",
    "X_train = np.concatenate(X_train_list, axis=0)\n",
    "y_train = np.concatenate(y_train_list, axis=0)\n",
    "X_test = np.concatenate(X_test_list, axis=0)\n",
    "y_test = np.concatenate(y_test_list, axis=0)"
   ]
  },
  {
   "cell_type": "code",
   "execution_count": 20,
   "metadata": {},
   "outputs": [
    {
     "data": {
      "text/plain": [
       "((16072, 100, 6), (16072,), (4017, 100, 6), (4017,))"
      ]
     },
     "execution_count": 20,
     "metadata": {},
     "output_type": "execute_result"
    }
   ],
   "source": [
    "X_train.shape, y_train.shape, X_test.shape, y_test.shape"
   ]
  },
  {
   "cell_type": "code",
   "execution_count": 21,
   "metadata": {},
   "outputs": [
    {
     "data": {
      "text/html": [
       "<style>#sk-container-id-1 {color: black;}#sk-container-id-1 pre{padding: 0;}#sk-container-id-1 div.sk-toggleable {background-color: white;}#sk-container-id-1 label.sk-toggleable__label {cursor: pointer;display: block;width: 100%;margin-bottom: 0;padding: 0.3em;box-sizing: border-box;text-align: center;}#sk-container-id-1 label.sk-toggleable__label-arrow:before {content: \"▸\";float: left;margin-right: 0.25em;color: #696969;}#sk-container-id-1 label.sk-toggleable__label-arrow:hover:before {color: black;}#sk-container-id-1 div.sk-estimator:hover label.sk-toggleable__label-arrow:before {color: black;}#sk-container-id-1 div.sk-toggleable__content {max-height: 0;max-width: 0;overflow: hidden;text-align: left;background-color: #f0f8ff;}#sk-container-id-1 div.sk-toggleable__content pre {margin: 0.2em;color: black;border-radius: 0.25em;background-color: #f0f8ff;}#sk-container-id-1 input.sk-toggleable__control:checked~div.sk-toggleable__content {max-height: 200px;max-width: 100%;overflow: auto;}#sk-container-id-1 input.sk-toggleable__control:checked~label.sk-toggleable__label-arrow:before {content: \"▾\";}#sk-container-id-1 div.sk-estimator input.sk-toggleable__control:checked~label.sk-toggleable__label {background-color: #d4ebff;}#sk-container-id-1 div.sk-label input.sk-toggleable__control:checked~label.sk-toggleable__label {background-color: #d4ebff;}#sk-container-id-1 input.sk-hidden--visually {border: 0;clip: rect(1px 1px 1px 1px);clip: rect(1px, 1px, 1px, 1px);height: 1px;margin: -1px;overflow: hidden;padding: 0;position: absolute;width: 1px;}#sk-container-id-1 div.sk-estimator {font-family: monospace;background-color: #f0f8ff;border: 1px dotted black;border-radius: 0.25em;box-sizing: border-box;margin-bottom: 0.5em;}#sk-container-id-1 div.sk-estimator:hover {background-color: #d4ebff;}#sk-container-id-1 div.sk-parallel-item::after {content: \"\";width: 100%;border-bottom: 1px solid gray;flex-grow: 1;}#sk-container-id-1 div.sk-label:hover label.sk-toggleable__label {background-color: #d4ebff;}#sk-container-id-1 div.sk-serial::before {content: \"\";position: absolute;border-left: 1px solid gray;box-sizing: border-box;top: 0;bottom: 0;left: 50%;z-index: 0;}#sk-container-id-1 div.sk-serial {display: flex;flex-direction: column;align-items: center;background-color: white;padding-right: 0.2em;padding-left: 0.2em;position: relative;}#sk-container-id-1 div.sk-item {position: relative;z-index: 1;}#sk-container-id-1 div.sk-parallel {display: flex;align-items: stretch;justify-content: center;background-color: white;position: relative;}#sk-container-id-1 div.sk-item::before, #sk-container-id-1 div.sk-parallel-item::before {content: \"\";position: absolute;border-left: 1px solid gray;box-sizing: border-box;top: 0;bottom: 0;left: 50%;z-index: -1;}#sk-container-id-1 div.sk-parallel-item {display: flex;flex-direction: column;z-index: 1;position: relative;background-color: white;}#sk-container-id-1 div.sk-parallel-item:first-child::after {align-self: flex-end;width: 50%;}#sk-container-id-1 div.sk-parallel-item:last-child::after {align-self: flex-start;width: 50%;}#sk-container-id-1 div.sk-parallel-item:only-child::after {width: 0;}#sk-container-id-1 div.sk-dashed-wrapped {border: 1px dashed gray;margin: 0 0.4em 0.5em 0.4em;box-sizing: border-box;padding-bottom: 0.4em;background-color: white;}#sk-container-id-1 div.sk-label label {font-family: monospace;font-weight: bold;display: inline-block;line-height: 1.2em;}#sk-container-id-1 div.sk-label-container {text-align: center;}#sk-container-id-1 div.sk-container {/* jupyter's `normalize.less` sets `[hidden] { display: none; }` but bootstrap.min.css set `[hidden] { display: none !important; }` so we also need the `!important` here to be able to override the default hidden behavior on the sphinx rendered scikit-learn.org. See: https://github.com/scikit-learn/scikit-learn/issues/21755 */display: inline-block !important;position: relative;}#sk-container-id-1 div.sk-text-repr-fallback {display: none;}</style><div id=\"sk-container-id-1\" class=\"sk-top-container\"><div class=\"sk-text-repr-fallback\"><pre>XGBClassifier(base_score=None, booster=None, callbacks=None,\n",
       "              colsample_bylevel=None, colsample_bynode=None,\n",
       "              colsample_bytree=None, device=None, early_stopping_rounds=None,\n",
       "              enable_categorical=False, eval_metric=&#x27;mlogloss&#x27;,\n",
       "              feature_types=None, gamma=None, grow_policy=None,\n",
       "              importance_type=None, interaction_constraints=None,\n",
       "              learning_rate=None, max_bin=None, max_cat_threshold=None,\n",
       "              max_cat_to_onehot=None, max_delta_step=None, max_depth=None,\n",
       "              max_leaves=None, min_child_weight=None, missing=nan,\n",
       "              monotone_constraints=None, multi_strategy=None, n_estimators=None,\n",
       "              n_jobs=None, num_parallel_tree=None, objective=&#x27;multi:softprob&#x27;, ...)</pre><b>In a Jupyter environment, please rerun this cell to show the HTML representation or trust the notebook. <br />On GitHub, the HTML representation is unable to render, please try loading this page with nbviewer.org.</b></div><div class=\"sk-container\" hidden><div class=\"sk-item\"><div class=\"sk-estimator sk-toggleable\"><input class=\"sk-toggleable__control sk-hidden--visually\" id=\"sk-estimator-id-1\" type=\"checkbox\" checked><label for=\"sk-estimator-id-1\" class=\"sk-toggleable__label sk-toggleable__label-arrow\">XGBClassifier</label><div class=\"sk-toggleable__content\"><pre>XGBClassifier(base_score=None, booster=None, callbacks=None,\n",
       "              colsample_bylevel=None, colsample_bynode=None,\n",
       "              colsample_bytree=None, device=None, early_stopping_rounds=None,\n",
       "              enable_categorical=False, eval_metric=&#x27;mlogloss&#x27;,\n",
       "              feature_types=None, gamma=None, grow_policy=None,\n",
       "              importance_type=None, interaction_constraints=None,\n",
       "              learning_rate=None, max_bin=None, max_cat_threshold=None,\n",
       "              max_cat_to_onehot=None, max_delta_step=None, max_depth=None,\n",
       "              max_leaves=None, min_child_weight=None, missing=nan,\n",
       "              monotone_constraints=None, multi_strategy=None, n_estimators=None,\n",
       "              n_jobs=None, num_parallel_tree=None, objective=&#x27;multi:softprob&#x27;, ...)</pre></div></div></div></div></div>"
      ],
      "text/plain": [
       "XGBClassifier(base_score=None, booster=None, callbacks=None,\n",
       "              colsample_bylevel=None, colsample_bynode=None,\n",
       "              colsample_bytree=None, device=None, early_stopping_rounds=None,\n",
       "              enable_categorical=False, eval_metric='mlogloss',\n",
       "              feature_types=None, gamma=None, grow_policy=None,\n",
       "              importance_type=None, interaction_constraints=None,\n",
       "              learning_rate=None, max_bin=None, max_cat_threshold=None,\n",
       "              max_cat_to_onehot=None, max_delta_step=None, max_depth=None,\n",
       "              max_leaves=None, min_child_weight=None, missing=nan,\n",
       "              monotone_constraints=None, multi_strategy=None, n_estimators=None,\n",
       "              n_jobs=None, num_parallel_tree=None, objective='multi:softprob', ...)"
      ]
     },
     "execution_count": 21,
     "metadata": {},
     "output_type": "execute_result"
    }
   ],
   "source": [
    "n_samples, window_length, n_features = X_train.shape\n",
    "X_train_reshaped = X_train.reshape(n_samples, window_length * n_features)\n",
    "X_test_reshaped = X_test.reshape(X_test.shape[0], window_length * n_features)\n",
    "\n",
    "model = xgb.XGBClassifier(use_label_encoder=False, eval_metric='mlogloss')\n",
    "model.fit(X_train_reshaped, y_train)"
   ]
  },
  {
   "cell_type": "code",
   "execution_count": 22,
   "metadata": {},
   "outputs": [
    {
     "name": "stdout",
     "output_type": "stream",
     "text": [
      "Accuracy: 0.9843166542195668\n",
      "X_train shape: (16072, 600)\n",
      "X_test shape: (4017, 600)\n",
      "y_train shape: (16072,)\n",
      "y_test shape: (4017,)\n"
     ]
    }
   ],
   "source": [
    "y_pred = model.predict(X_test_reshaped)\n",
    "y_pred_proba = model.predict_proba(X_test_reshaped)\n",
    "\n",
    "\n",
    "accuracy = accuracy_score(y_test, y_pred)\n",
    "print(f\"Accuracy: {accuracy}\")\n",
    "print(\"X_train shape:\", X_train_reshaped.shape)\n",
    "print(\"X_test shape:\", X_test_reshaped.shape)\n",
    "print(\"y_train shape:\", y_train.shape)\n",
    "print(\"y_test shape:\", y_test.shape)"
   ]
  },
  {
   "cell_type": "code",
   "execution_count": 23,
   "metadata": {},
   "outputs": [
    {
     "name": "stdout",
     "output_type": "stream",
     "text": [
      "              precision    recall  f1-score   support\n",
      "\n",
      "         0.0       0.99      1.00      0.99       282\n",
      "         1.0       1.00      0.96      0.98       643\n",
      "         2.0       0.98      0.99      0.99       167\n",
      "         3.0       0.98      1.00      0.99       263\n",
      "         4.0       0.99      1.00      0.99       336\n",
      "         5.0       1.00      0.88      0.93        56\n",
      "         6.0       0.99      0.99      0.99       415\n",
      "         7.0       0.96      1.00      0.98       872\n",
      "         8.0       1.00      0.54      0.70        28\n",
      "         9.0       1.00      1.00      1.00       246\n",
      "        10.0       0.99      0.99      0.99       282\n",
      "        11.0       0.99      0.99      0.99       427\n",
      "\n",
      "    accuracy                           0.98      4017\n",
      "   macro avg       0.99      0.94      0.96      4017\n",
      "weighted avg       0.98      0.98      0.98      4017\n",
      "\n"
     ]
    }
   ],
   "source": [
    "report = classification_report(y_test, y_pred)\n",
    "\n",
    "print(report)"
   ]
  },
  {
   "cell_type": "code",
   "execution_count": 24,
   "metadata": {},
   "outputs": [
    {
     "data": {
      "text/plain": [
       "(4.302113e-08, 0.9999789)"
      ]
     },
     "execution_count": 24,
     "metadata": {},
     "output_type": "execute_result"
    }
   ],
   "source": [
    "y_pred_proba.min(), y_pred_proba.max()"
   ]
  },
  {
   "cell_type": "markdown",
   "metadata": {},
   "source": [
    "# Verification with all second runs"
   ]
  },
  {
   "cell_type": "code",
   "execution_count": 31,
   "metadata": {},
   "outputs": [],
   "source": [
    "X_verification_list = []\n",
    "y_verification_list = []\n",
    "for name, df in data_dict.items():\n",
    "    if name in verification_keys:\n",
    "        label = name_to_idx[delete_number(name)]\n",
    "        try:\n",
    "            df.drop(columns=['Time (s)','label'], inplace=True)\n",
    "        except:\n",
    "            pass\n",
    "        train = df[:int(0.8*len(df))]\n",
    "        train_normalized = (train - train.min()) / (train.max()-train.min())\n",
    "        test = df[int(0.8*len(df)):]\n",
    "        test_normalized = (test - train.min()) / (train.max()-train.min()) \n",
    "        X_ver, y_ver = create_sliding_windows(df, window_length, stride, label)\n",
    "        X_verification_list.append(X_ver)\n",
    "        y_verification_list.append(y_ver)\n",
    "X_verification = np.concatenate(X_verification_list, axis=0)\n",
    "y_verification = np.concatenate(y_verification_list, axis=0)"
   ]
  },
  {
   "cell_type": "code",
   "execution_count": 32,
   "metadata": {},
   "outputs": [],
   "source": [
    "n_samples, window_length, n_features = X_verification.shape\n",
    "X_verification = X_verification.reshape(n_samples, window_length * n_features)"
   ]
  },
  {
   "cell_type": "code",
   "execution_count": 33,
   "metadata": {},
   "outputs": [
    {
     "data": {
      "text/plain": [
       "0.834698275862069"
      ]
     },
     "execution_count": 33,
     "metadata": {},
     "output_type": "execute_result"
    }
   ],
   "source": [
    "y_pred_ver = model.predict(X_verification)\n",
    "y_pred_proba_ver = model.predict_proba(X_verification)\n",
    "accuracy = accuracy_score(y_pred_ver, y_verification)\n",
    "accuracy"
   ]
  },
  {
   "cell_type": "code",
   "execution_count": 34,
   "metadata": {},
   "outputs": [
    {
     "name": "stdout",
     "output_type": "stream",
     "text": [
      "              precision    recall  f1-score   support\n",
      "\n",
      "         0.0       0.00      0.00      0.00         0\n",
      "         1.0       0.00      0.00      0.00         0\n",
      "         2.0       0.00      0.00      0.00         0\n",
      "         3.0       0.00      0.00      0.00         0\n",
      "         4.0       0.00      0.00      0.00         0\n",
      "         5.0       0.00      0.00      0.00         0\n",
      "         6.0       0.00      0.00      0.00         0\n",
      "         7.0       0.91      0.97      0.94      2280\n",
      "         8.0       1.00      0.91      0.95       140\n",
      "         9.0       0.00      0.00      0.00         0\n",
      "        10.0       0.96      0.88      0.92      1705\n",
      "        11.0       0.69      0.06      0.10       515\n",
      "\n",
      "    accuracy                           0.83      4640\n",
      "   macro avg       0.30      0.23      0.24      4640\n",
      "weighted avg       0.90      0.83      0.84      4640\n",
      "\n"
     ]
    }
   ],
   "source": [
    "report = classification_report(y_verification, y_pred_ver)\n",
    "\n",
    "print(report)"
   ]
  },
  {
   "cell_type": "markdown",
   "metadata": {},
   "source": [
    "Verification with Till2"
   ]
  },
  {
   "cell_type": "code",
   "execution_count": 20,
   "metadata": {},
   "outputs": [],
   "source": [
    "y_pred_ver = model.predict(X_verification)\n",
    "y_pred_proba_ver = model.predict_proba(X_verification)\n",
    "accuracy = accuracy_score(y_pred_ver, y_verification)"
   ]
  },
  {
   "cell_type": "code",
   "execution_count": 21,
   "metadata": {},
   "outputs": [
    {
     "data": {
      "text/plain": [
       "(9.011673e-08, 0.99984455)"
      ]
     },
     "execution_count": 21,
     "metadata": {},
     "output_type": "execute_result"
    }
   ],
   "source": [
    "y_pred_proba_ver.min(), y_pred_proba_ver.max()"
   ]
  },
  {
   "cell_type": "code",
   "execution_count": 22,
   "metadata": {},
   "outputs": [
    {
     "data": {
      "text/plain": [
       "0.5899757120777214"
      ]
     },
     "execution_count": 22,
     "metadata": {},
     "output_type": "execute_result"
    }
   ],
   "source": [
    "accuracy"
   ]
  },
  {
   "cell_type": "code",
   "execution_count": null,
   "metadata": {},
   "outputs": [],
   "source": []
  }
 ],
 "metadata": {
  "kernelspec": {
   "display_name": "Python 3 (ipykernel)",
   "language": "python",
   "name": "python3"
  },
  "language_info": {
   "codemirror_mode": {
    "name": "ipython",
    "version": 3
   },
   "file_extension": ".py",
   "mimetype": "text/x-python",
   "name": "python",
   "nbconvert_exporter": "python",
   "pygments_lexer": "ipython3",
   "version": "3.12.0"
  }
 },
 "nbformat": 4,
 "nbformat_minor": 4
}
